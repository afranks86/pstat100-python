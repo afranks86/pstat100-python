{
 "cells": [
  {
   "cell_type": "code",
   "execution_count": null,
   "metadata": {
    "deletable": false,
    "editable": false
   },
   "outputs": [],
   "source": [
    "# Initialize Otter\n",
    "import otter\n",
    "grader = otter.Notebook(\"hw3-diatom.ipynb\")"
   ]
  },
  {
   "attachments": {},
   "cell_type": "markdown",
   "metadata": {},
   "source": [
    "# PSTAT 100 Homework 3"
   ]
  },
  {
   "cell_type": "code",
   "execution_count": 1,
   "metadata": {},
   "outputs": [
    {
     "data": {
      "text/plain": [
       "DataTransformerRegistry.enable('default')"
      ]
     },
     "execution_count": 1,
     "metadata": {},
     "output_type": "execute_result"
    }
   ],
   "source": [
    "import numpy as np\n",
    "import pandas as pd\n",
    "import altair as alt\n",
    "from sklearn.decomposition import PCA\n",
    "import statsmodels.api as sm\n",
    "# disable row limit for plotting\n",
    "alt.data_transformers.disable_max_rows()\n",
    "# uncomment to ensure graphics display with pdf export\n",
    "# alt.renderers.enable('mimetype')"
   ]
  },
  {
   "attachments": {},
   "cell_type": "markdown",
   "metadata": {},
   "source": [
    "# Background: diatoms and paleoclimatology\n",
    "\n",
    "Diatoms are a type of phytoplankton -- they are photosynthetic algae that function as primary producers in aquatic ecosystems. Diatoms are at the bottom of the food web: they are consumed by filter feeders, like clams, mussels, and many fish, which are in turn consumed by larger organisms like scavengers and predators and, well, us. As a result, changes in the composition of diatom species in marine ecosystems have ripple effects that can dramatically alter overall community structure in any environment of which marine life forms a part. \n",
    "\n",
    "Diatoms have glass bodies. As a group of organisms, they display a great diversity of body shapes, and many are quite elaborate. The image below, taken from a Scientific American article, shows a small sample of their shapes and structures.\n",
    "\n",
    "<center><img src='figures/diatoms-sciam.jpg' style='width:400px'></center>\n",
    "\n",
    "Because they are made of glass, diatoms preserve extraordinarily well over time. When they die, their bodies sink and form part of the sediment. Due to their abundance, there is a sort of steady rain of diatoms forming part of the sedimentation process, which produces sediment layers that are dense with diatoms.\n",
    "\n",
    "Sedimentation is a long-term process spanning great stretches of time, and the deeper one looks in sediment, the older the material. Since diatoms are present in high density throughout sedimentation layers, and they preserve so well, it is possible to study their presence over longer time spans -- potentially hundreds of thousands of years. \n",
    "\n",
    "A branch of paleoclimatology is dedicated to studying changes in biological productivity on geologic time scales, and much research in this area has involved studying the relative abundances of diatoms. In this assignment, you'll do just that on a small scale and work with data from sediment cores taken in the gulf of California at the location indicated on the map:\n",
    "\n",
    "<center><img src='figures/site1-barron2004.png' style='width:400px'></center>\n",
    "\n",
    "The data is publicly available: \n",
    "> Barron, J.A., *et al.* 2005. High Resolution Guaymas Basin Geochemical, Diatom, and Silicoflagellate Data. IGBP PAGES/World Data Center for Paleoclimatology Data Contribution Series # 2005-022. NOAA/NGDC Paleoclimatology Program, Boulder CO, USA.\n",
    "\n",
    "In this assignment, you'll use the exploratory techniques we've been discussing in class to analyze the relative abundances of diatom taxa over a time span of 15,000 years. This will involve practicing the following:\n",
    "\n",
    "* data import and preprocessing\n",
    "* graphical techniques for visualizing distributions\n",
    "* multivariate analysis with PCA"
   ]
  },
  {
   "attachments": {},
   "cell_type": "markdown",
   "metadata": {},
   "source": [
    "# Diatom data\n",
    "\n",
    "The data are diatom counts sampled from evenly-spaced depths in a sediment core from the gulf of California. In sediment cores, depth correlates with time before the present -- deeper layers are older -- and depths are typically chosen to obtain a desired temporal resolution. The counts were recorded by sampling material from sediment cores at each depth, and examining the sampled material for phytoplankton cells. For each sample, phytoplankton were identified at the taxon level and counts of diatom taxa were recorded along with the total number of phytoplankton cells identified. Thus:\n",
    "\n",
    "* The **observational units** are _**sediment samples**_.  \n",
    "* The **variables** are _**depth (age), diatom abundance counts, and the total number of identified phytoplankton**_. Age is inferred from radiocarbon. \n",
    "* One **observation** is made at _**each depth**_ from 0cm (surface) to  13.71 cm. \n",
    "\n",
    "The table below provides variable descriptions and units for each column in the dataframe.\n",
    "\n",
    "Variable | Description | Units\n",
    "---|---|---\n",
    "Depth | Depth interval location of sampled material in sediment core | Centimeters (cm)\n",
    "Age | Radiocarbon age | Thousands of years before present (KyrBP)\n",
    "A_curv | Abundance of *Actinocyclus curvatulus* | Count (n)\n",
    "A_octon | Abundance of *Actinocyclus octonarius* | Count (n)\n",
    "ActinSpp | Abundance of *Actinoptychus* species | Count (n)\n",
    "A_nodul | Abundance of *Azpeitia nodulifer* | Count (n)\n",
    "CocsinSpp | Abundance of *Coscinodiscus* species | Count (n)\n",
    "CyclotSpp | Abundance of *Cyclotella* species | Count (n)\n",
    "Rop_tess | Abundance of *Roperia tesselata* | Count (n)\n",
    "StephanSpp | Abundance of *Stephanopyxis* species | Count (n)\n",
    "Num.counted | Number of diatoms counted in sample | Count (n)\n",
    "\n",
    "The cell below imports the data."
   ]
  },
  {
   "cell_type": "code",
   "execution_count": 2,
   "metadata": {},
   "outputs": [
    {
     "data": {
      "text/html": [
       "<div>\n",
       "<style scoped>\n",
       "    .dataframe tbody tr th:only-of-type {\n",
       "        vertical-align: middle;\n",
       "    }\n",
       "\n",
       "    .dataframe tbody tr th {\n",
       "        vertical-align: top;\n",
       "    }\n",
       "\n",
       "    .dataframe thead th {\n",
       "        text-align: right;\n",
       "    }\n",
       "</style>\n",
       "<table border=\"1\" class=\"dataframe\">\n",
       "  <thead>\n",
       "    <tr style=\"text-align: right;\">\n",
       "      <th></th>\n",
       "      <th>Depth</th>\n",
       "      <th>Age</th>\n",
       "      <th>A_curv</th>\n",
       "      <th>A_octon</th>\n",
       "      <th>ActinSpp</th>\n",
       "      <th>A_nodul</th>\n",
       "      <th>CoscinSpp</th>\n",
       "      <th>CyclotSpp</th>\n",
       "      <th>Rop_tess</th>\n",
       "      <th>StephanSpp</th>\n",
       "      <th>Num.counted</th>\n",
       "    </tr>\n",
       "  </thead>\n",
       "  <tbody>\n",
       "    <tr>\n",
       "      <th>0</th>\n",
       "      <td>0.00</td>\n",
       "      <td>1.33</td>\n",
       "      <td>5.0</td>\n",
       "      <td>2.0</td>\n",
       "      <td>32</td>\n",
       "      <td>14.0</td>\n",
       "      <td>21</td>\n",
       "      <td>22.0</td>\n",
       "      <td>1.0</td>\n",
       "      <td>1.0</td>\n",
       "      <td>201</td>\n",
       "    </tr>\n",
       "    <tr>\n",
       "      <th>1</th>\n",
       "      <td>0.05</td>\n",
       "      <td>1.37</td>\n",
       "      <td>8.0</td>\n",
       "      <td>2.0</td>\n",
       "      <td>31</td>\n",
       "      <td>16.0</td>\n",
       "      <td>20</td>\n",
       "      <td>16.0</td>\n",
       "      <td>7.0</td>\n",
       "      <td>2.0</td>\n",
       "      <td>200</td>\n",
       "    </tr>\n",
       "    <tr>\n",
       "      <th>2</th>\n",
       "      <td>0.10</td>\n",
       "      <td>1.42</td>\n",
       "      <td>8.0</td>\n",
       "      <td>6.0</td>\n",
       "      <td>33</td>\n",
       "      <td>18.0</td>\n",
       "      <td>29</td>\n",
       "      <td>7.0</td>\n",
       "      <td>1.0</td>\n",
       "      <td>1.0</td>\n",
       "      <td>200</td>\n",
       "    </tr>\n",
       "    <tr>\n",
       "      <th>3</th>\n",
       "      <td>0.15</td>\n",
       "      <td>1.46</td>\n",
       "      <td>11.0</td>\n",
       "      <td>1.0</td>\n",
       "      <td>21</td>\n",
       "      <td>1.0</td>\n",
       "      <td>12</td>\n",
       "      <td>28.0</td>\n",
       "      <td>25.0</td>\n",
       "      <td>3.0</td>\n",
       "      <td>200</td>\n",
       "    </tr>\n",
       "    <tr>\n",
       "      <th>4</th>\n",
       "      <td>0.20</td>\n",
       "      <td>1.51</td>\n",
       "      <td>11.0</td>\n",
       "      <td>1.0</td>\n",
       "      <td>38</td>\n",
       "      <td>3.0</td>\n",
       "      <td>18</td>\n",
       "      <td>24.0</td>\n",
       "      <td>3.0</td>\n",
       "      <td>NaN</td>\n",
       "      <td>300</td>\n",
       "    </tr>\n",
       "  </tbody>\n",
       "</table>\n",
       "</div>"
      ],
      "text/plain": [
       "   Depth   Age  A_curv  A_octon  ActinSpp  A_nodul  CoscinSpp  CyclotSpp  \\\n",
       "0   0.00  1.33     5.0      2.0        32     14.0         21       22.0   \n",
       "1   0.05  1.37     8.0      2.0        31     16.0         20       16.0   \n",
       "2   0.10  1.42     8.0      6.0        33     18.0         29        7.0   \n",
       "3   0.15  1.46    11.0      1.0        21      1.0         12       28.0   \n",
       "4   0.20  1.51    11.0      1.0        38      3.0         18       24.0   \n",
       "\n",
       "   Rop_tess  StephanSpp  Num.counted  \n",
       "0       1.0         1.0          201  \n",
       "1       7.0         2.0          200  \n",
       "2       1.0         1.0          200  \n",
       "3      25.0         3.0          200  \n",
       "4       3.0         NaN          300  "
      ]
     },
     "execution_count": 2,
     "metadata": {},
     "output_type": "execute_result"
    }
   ],
   "source": [
    "# import diatom data\n",
    "diatoms_raw = pd.read_csv('data/barron-diatoms.csv')\n",
    "diatoms_raw.head(5)"
   ]
  },
  {
   "attachments": {},
   "cell_type": "markdown",
   "metadata": {},
   "source": [
    "The data are already in tidy format, because each row is an observation (a set of measurements on one sample of sediment) and each column is a variable (one of age, depth, or counts). However, examine rows 3 and 4, and note:\n",
    "\n",
    "1. NaNs are present\n",
    "2. The number of individuals counted in each sample varies by a lot from sample to sample.\n",
    "\n",
    "Let's address those before conducting initial explorations.\n",
    "\n",
    "The NaNs are an artefact of the data recording -- if *no* diatoms in a particular taxa are observed, a `-` is entered in the table (you can verify this by checking the .csv file). In these cases the value isn't missing, but rather zero. These entries are parsed by pandas as NaNs, but they correspond to a value of 0 (no diatoms observed). "
   ]
  },
  {
   "attachments": {},
   "cell_type": "markdown",
   "metadata": {},
   "source": [
    "### Question 1: Filling NaNs\n",
    "\n",
    "Use `.fill_na()` to replace all NaNs by zeros, and store the result as `diatoms_mod1`. Store rows 4 and 5 (index, not integer location) of the resulting dataframe as `diatoms_mod1_examplerows` and display these rows."
   ]
  },
  {
   "cell_type": "code",
   "execution_count": 3,
   "metadata": {
    "tags": [
     "otter_assign_solution_cell"
    ]
   },
   "outputs": [
    {
     "name": "stdout",
     "output_type": "stream",
     "text": [
      "   Depth   Age  A_curv  A_octon  ActinSpp  A_nodul  CoscinSpp  CyclotSpp  \\\n",
      "4   0.20  1.51    11.0      1.0        38      3.0         18       24.0   \n",
      "5   0.25  1.55     4.0      9.0        30     10.0         16       14.0   \n",
      "\n",
      "   Rop_tess  StephanSpp  Num.counted  \n",
      "4       3.0         0.0          300  \n",
      "5      16.0         0.0          203  \n"
     ]
    }
   ],
   "source": [
    "diatoms_mod1 = diatoms_raw.fillna(0) # SOLUTION\n",
    "\n",
    "# print rows 4 and 5\n",
    "diatoms_mod1_examplerows = diatoms_mod1.loc[4:5, :] # SOLUTION\n",
    "print(diatoms_mod1_examplerows)"
   ]
  },
  {
   "cell_type": "code",
   "execution_count": null,
   "metadata": {
    "deletable": false,
    "editable": false
   },
   "outputs": [],
   "source": [
    "grader.check(\"q1\")"
   ]
  },
  {
   "attachments": {},
   "cell_type": "markdown",
   "metadata": {},
   "source": [
    "Since the total number of phytoplankton counted in each sample varies, the raw counts are not directly comparable -- *e.g.*, a count of 18 is actually a *different* abundance in a sample with 200 individuals counted than in a sample with 300 individuals counted.\n",
    "\n",
    "For exploratory analysis, you'll want the values to be comparable across rows. This can be achieved by a simple transformation so that the values are *relative* abundances: *proportions* of phytoplankton observed from each taxon."
   ]
  },
  {
   "attachments": {},
   "cell_type": "markdown",
   "metadata": {},
   "source": [
    "### Question 2: Counts to proportions\n",
    "\n",
    "Convert the counts to proportions by dividing by the relevant entry in the `Num.counted` column. There are a few ways to do this, but here's one approach:\n",
    "\n",
    "1. Set Depth and Age to row indices using `.set_index(...)` and store the result as `diatoms_mod2`.\n",
    "2. Store the `Num.counted` column from `diatoms_mod2` as `sampsize`.\n",
    "3. Use `.div(...)` to divide entrywise every column in `diatoms_mod2` by `sampsize` and store the result as `diatoms_mod3`.\n",
    "4. Drop the `Num.counted` column from `diatoms_mod3` and reset the index; store the result as `diatoms`.\n",
    "\n",
    "Carry out these steps and print the first four rows of `diatoms`.\n",
    "\n",
    "(*Hint*: careful with the `axis = ...` argument in `.div(...)`; you may want to look at the [documentation](https://pandas.pydata.org/docs/reference/api/pandas.DataFrame.div.html) and check one or two values manually to verify the calculation works as intended.)\n"
   ]
  },
  {
   "cell_type": "code",
   "execution_count": 8,
   "metadata": {
    "tags": [
     "otter_assign_solution_cell"
    ]
   },
   "outputs": [
    {
     "data": {
      "text/html": [
       "<div>\n",
       "<style scoped>\n",
       "    .dataframe tbody tr th:only-of-type {\n",
       "        vertical-align: middle;\n",
       "    }\n",
       "\n",
       "    .dataframe tbody tr th {\n",
       "        vertical-align: top;\n",
       "    }\n",
       "\n",
       "    .dataframe thead th {\n",
       "        text-align: right;\n",
       "    }\n",
       "</style>\n",
       "<table border=\"1\" class=\"dataframe\">\n",
       "  <thead>\n",
       "    <tr style=\"text-align: right;\">\n",
       "      <th></th>\n",
       "      <th>Depth</th>\n",
       "      <th>Age</th>\n",
       "      <th>A_curv</th>\n",
       "      <th>A_octon</th>\n",
       "      <th>ActinSpp</th>\n",
       "      <th>A_nodul</th>\n",
       "      <th>CoscinSpp</th>\n",
       "      <th>CyclotSpp</th>\n",
       "      <th>Rop_tess</th>\n",
       "      <th>StephanSpp</th>\n",
       "    </tr>\n",
       "  </thead>\n",
       "  <tbody>\n",
       "    <tr>\n",
       "      <th>0</th>\n",
       "      <td>0.00</td>\n",
       "      <td>1.33</td>\n",
       "      <td>0.024876</td>\n",
       "      <td>0.009950</td>\n",
       "      <td>0.159204</td>\n",
       "      <td>0.069652</td>\n",
       "      <td>0.104478</td>\n",
       "      <td>0.109453</td>\n",
       "      <td>0.004975</td>\n",
       "      <td>0.004975</td>\n",
       "    </tr>\n",
       "    <tr>\n",
       "      <th>1</th>\n",
       "      <td>0.05</td>\n",
       "      <td>1.37</td>\n",
       "      <td>0.040000</td>\n",
       "      <td>0.010000</td>\n",
       "      <td>0.155000</td>\n",
       "      <td>0.080000</td>\n",
       "      <td>0.100000</td>\n",
       "      <td>0.080000</td>\n",
       "      <td>0.035000</td>\n",
       "      <td>0.010000</td>\n",
       "    </tr>\n",
       "    <tr>\n",
       "      <th>2</th>\n",
       "      <td>0.10</td>\n",
       "      <td>1.42</td>\n",
       "      <td>0.040000</td>\n",
       "      <td>0.030000</td>\n",
       "      <td>0.165000</td>\n",
       "      <td>0.090000</td>\n",
       "      <td>0.145000</td>\n",
       "      <td>0.035000</td>\n",
       "      <td>0.005000</td>\n",
       "      <td>0.005000</td>\n",
       "    </tr>\n",
       "    <tr>\n",
       "      <th>3</th>\n",
       "      <td>0.15</td>\n",
       "      <td>1.46</td>\n",
       "      <td>0.055000</td>\n",
       "      <td>0.005000</td>\n",
       "      <td>0.105000</td>\n",
       "      <td>0.005000</td>\n",
       "      <td>0.060000</td>\n",
       "      <td>0.140000</td>\n",
       "      <td>0.125000</td>\n",
       "      <td>0.015000</td>\n",
       "    </tr>\n",
       "    <tr>\n",
       "      <th>4</th>\n",
       "      <td>0.20</td>\n",
       "      <td>1.51</td>\n",
       "      <td>0.036667</td>\n",
       "      <td>0.003333</td>\n",
       "      <td>0.126667</td>\n",
       "      <td>0.010000</td>\n",
       "      <td>0.060000</td>\n",
       "      <td>0.080000</td>\n",
       "      <td>0.010000</td>\n",
       "      <td>0.000000</td>\n",
       "    </tr>\n",
       "  </tbody>\n",
       "</table>\n",
       "</div>"
      ],
      "text/plain": [
       "   Depth   Age    A_curv   A_octon  ActinSpp   A_nodul  CoscinSpp  CyclotSpp  \\\n",
       "0   0.00  1.33  0.024876  0.009950  0.159204  0.069652   0.104478   0.109453   \n",
       "1   0.05  1.37  0.040000  0.010000  0.155000  0.080000   0.100000   0.080000   \n",
       "2   0.10  1.42  0.040000  0.030000  0.165000  0.090000   0.145000   0.035000   \n",
       "3   0.15  1.46  0.055000  0.005000  0.105000  0.005000   0.060000   0.140000   \n",
       "4   0.20  1.51  0.036667  0.003333  0.126667  0.010000   0.060000   0.080000   \n",
       "\n",
       "   Rop_tess  StephanSpp  \n",
       "0  0.004975    0.004975  \n",
       "1  0.035000    0.010000  \n",
       "2  0.005000    0.005000  \n",
       "3  0.125000    0.015000  \n",
       "4  0.010000    0.000000  "
      ]
     },
     "execution_count": 8,
     "metadata": {},
     "output_type": "execute_result"
    }
   ],
   "source": [
    "# set depth, age to indices\n",
    "diatoms_mod2 = diatoms_mod1.set_index(['Depth', 'Age']) # SOLUTION\n",
    "\n",
    "# store sample sizes\n",
    "sampsize = diatoms_mod2['Num.counted'] # SOLUTION\n",
    "\n",
    "# divide\n",
    "diatoms_mod3 = diatoms_mod2.div(sampsize, axis = 0) # SOLUTION\n",
    "\n",
    "# drop num.counted and reset index\n",
    "diatoms = diatoms_mod3.drop(columns = 'Num.counted').reset_index() # SOLUTION\n",
    "\n",
    "# print\n",
    "diatoms.head() # SOLUTION"
   ]
  },
  {
   "cell_type": "code",
   "execution_count": null,
   "metadata": {
    "deletable": false,
    "editable": false
   },
   "outputs": [],
   "source": [
    "grader.check(\"q2\")"
   ]
  },
  {
   "attachments": {},
   "cell_type": "markdown",
   "metadata": {},
   "source": [
    "Take a moment to think about what the data represent. They are relative abundances over time; essentially, snapshots of the community composition of diatoms over time, and thus information about how ecological community composition changes.\n",
    "\n",
    "Before diving in, it will be helpful to resolve two matters:\n",
    "\n",
    "1. How far back in time do the data go?\n",
    "2. What is the time resolution of the data?"
   ]
  },
  {
   "attachments": {},
   "cell_type": "markdown",
   "metadata": {},
   "source": [
    "### Question 3: Time span\n",
    "\n",
    "What is the geological time span covered by the data? Compute the minimum and maximum age using `.aggregate(...)` and store the result as `min_max_age`. (You will need to use `.aggregate()` to pass the automated tests.)\n",
    "\n",
    "*Note*: This may be a new function for you, but it's simple: it takes as an argument a list of functions that will be applied to the dataframe (columnwise by default). So for example, to get the mean and variance of each column in `df`, one would use `df.aggregate(['mean', 'var'])`. See the [documentation](https://pandas.pydata.org/docs/reference/api/pandas.DataFrame.aggregate.html) for further examples.\n",
    "\n",
    "*Remember*: age is reported as thousands of years before present, so `Age = 2` means 2000 years ago."
   ]
  },
  {
   "cell_type": "code",
   "execution_count": 17,
   "metadata": {
    "tags": [
     "otter_assign_solution_cell"
    ]
   },
   "outputs": [
    {
     "data": {
      "text/plain": [
       "min     1.33\n",
       "max    15.19\n",
       "Name: Age, dtype: float64"
      ]
     },
     "execution_count": 17,
     "metadata": {},
     "output_type": "execute_result"
    }
   ],
   "source": [
    "min_max_age = diatoms.Age.aggregate(['min', 'max']) # SOLUTION\n",
    "min_max_age"
   ]
  },
  {
   "cell_type": "code",
   "execution_count": null,
   "metadata": {
    "deletable": false,
    "editable": false
   },
   "outputs": [],
   "source": [
    "grader.check(\"q3\")"
   ]
  },
  {
   "attachments": {},
   "cell_type": "markdown",
   "metadata": {},
   "source": [
    "<!-- BEGIN QUESTION -->\n",
    "\n",
    "### Question 4: Time resolution\n",
    "\n",
    "**(i) How are the observations spaced in time?**\n",
    "\n",
    "Follow these steps:\n",
    "\n",
    "1. Extract the `Age` column from `diatoms`, sort the values in ascending order, compute the differences between consecutive rows, and store the result as `diffs`.\n",
    "    + *Hint*: use `.sort_values()` and `.diff()`.\n",
    "    + *Notice*: that the first difference is NaN, because there is no previous value to compare the first row with. Drop this entry when you store `diffs`.\n",
    "2. Make a simple count histogram (no need to manually bin or convert to density scale) with bins of width 0.02 (20 years). Store this as `fig1` and display the figure.\n",
    "    + Label the x axis 'Time step between consecutive samples'\n",
    "    + Put the y axis on a square root scale so that bins with one observation are discernible\n",
    "\n",
    "**(ii) What is the typical time step in years?**\n",
    "\n",
    "Write your answer based on the count histogram."
   ]
  },
  {
   "cell_type": "markdown",
   "metadata": {},
   "source": [
    "_Type your answer here, replacing this text._"
   ]
  },
  {
   "cell_type": "code",
   "execution_count": 20,
   "metadata": {
    "tags": [
     "otter_assign_solution_cell"
    ]
   },
   "outputs": [
    {
     "data": {
      "text/html": [
       "\n",
       "<div id=\"altair-viz-ae56b1c933d44fe39b45e0dcf9b3dd60\"></div>\n",
       "<script type=\"text/javascript\">\n",
       "  var VEGA_DEBUG = (typeof VEGA_DEBUG == \"undefined\") ? {} : VEGA_DEBUG;\n",
       "  (function(spec, embedOpt){\n",
       "    let outputDiv = document.currentScript.previousElementSibling;\n",
       "    if (outputDiv.id !== \"altair-viz-ae56b1c933d44fe39b45e0dcf9b3dd60\") {\n",
       "      outputDiv = document.getElementById(\"altair-viz-ae56b1c933d44fe39b45e0dcf9b3dd60\");\n",
       "    }\n",
       "    const paths = {\n",
       "      \"vega\": \"https://cdn.jsdelivr.net/npm//vega@5?noext\",\n",
       "      \"vega-lib\": \"https://cdn.jsdelivr.net/npm//vega-lib?noext\",\n",
       "      \"vega-lite\": \"https://cdn.jsdelivr.net/npm//vega-lite@4.17.0?noext\",\n",
       "      \"vega-embed\": \"https://cdn.jsdelivr.net/npm//vega-embed@6?noext\",\n",
       "    };\n",
       "\n",
       "    function maybeLoadScript(lib, version) {\n",
       "      var key = `${lib.replace(\"-\", \"\")}_version`;\n",
       "      return (VEGA_DEBUG[key] == version) ?\n",
       "        Promise.resolve(paths[lib]) :\n",
       "        new Promise(function(resolve, reject) {\n",
       "          var s = document.createElement('script');\n",
       "          document.getElementsByTagName(\"head\")[0].appendChild(s);\n",
       "          s.async = true;\n",
       "          s.onload = () => {\n",
       "            VEGA_DEBUG[key] = version;\n",
       "            return resolve(paths[lib]);\n",
       "          };\n",
       "          s.onerror = () => reject(`Error loading script: ${paths[lib]}`);\n",
       "          s.src = paths[lib];\n",
       "        });\n",
       "    }\n",
       "\n",
       "    function showError(err) {\n",
       "      outputDiv.innerHTML = `<div class=\"error\" style=\"color:red;\">${err}</div>`;\n",
       "      throw err;\n",
       "    }\n",
       "\n",
       "    function displayChart(vegaEmbed) {\n",
       "      vegaEmbed(outputDiv, spec, embedOpt)\n",
       "        .catch(err => showError(`Javascript Error: ${err.message}<br>This usually means there's a typo in your chart specification. See the javascript console for the full traceback.`));\n",
       "    }\n",
       "\n",
       "    if(typeof define === \"function\" && define.amd) {\n",
       "      requirejs.config({paths});\n",
       "      require([\"vega-embed\"], displayChart, err => showError(`Error loading script: ${err.message}`));\n",
       "    } else {\n",
       "      maybeLoadScript(\"vega\", \"5\")\n",
       "        .then(() => maybeLoadScript(\"vega-lite\", \"4.17.0\"))\n",
       "        .then(() => maybeLoadScript(\"vega-embed\", \"6\"))\n",
       "        .catch(showError)\n",
       "        .then(() => displayChart(vegaEmbed));\n",
       "    }\n",
       "  })({\"config\": {\"view\": {\"continuousWidth\": 400, \"continuousHeight\": 300}}, \"data\": {\"name\": \"data-1fad5eb1bb8f0f175f9b039d9feb5253\"}, \"mark\": \"bar\", \"encoding\": {\"x\": {\"bin\": {\"step\": 0.02}, \"field\": \"diff\", \"title\": \"Time step between consecutive samples\", \"type\": \"quantitative\"}, \"y\": {\"aggregate\": \"count\", \"scale\": {\"type\": \"sqrt\"}, \"type\": \"quantitative\"}}, \"$schema\": \"https://vega.github.io/schema/vega-lite/v4.17.0.json\", \"datasets\": {\"data-1fad5eb1bb8f0f175f9b039d9feb5253\": [{\"diff\": 0.040000000000000036}, {\"diff\": 0.04999999999999982}, {\"diff\": 0.040000000000000036}, {\"diff\": 0.050000000000000044}, {\"diff\": 0.040000000000000036}, {\"diff\": 0.040000000000000036}, {\"diff\": 0.04999999999999982}, {\"diff\": 0.040000000000000036}, {\"diff\": 0.040000000000000036}, {\"diff\": 0.050000000000000044}, {\"diff\": 0.040000000000000036}, {\"diff\": 0.050000000000000044}, {\"diff\": 0.039999999999999813}, {\"diff\": 0.040000000000000036}, {\"diff\": 0.050000000000000044}, {\"diff\": 0.039999999999999813}, {\"diff\": 0.050000000000000266}, {\"diff\": 0.040000000000000036}, {\"diff\": 0.040000000000000036}, {\"diff\": 0.04999999999999982}, {\"diff\": 0.040000000000000036}, {\"diff\": 0.040000000000000036}, {\"diff\": 0.04999999999999982}, {\"diff\": 0.040000000000000036}, {\"diff\": 0.050000000000000266}, {\"diff\": 0.040000000000000036}, {\"diff\": 0.03999999999999959}, {\"diff\": 0.050000000000000266}, {\"diff\": 0.08000000000000007}, {\"diff\": 0.009999999999999787}, {\"diff\": 0.040000000000000036}, {\"diff\": 0.040000000000000036}, {\"diff\": 0.04999999999999982}, {\"diff\": 0.040000000000000036}, {\"diff\": 0.050000000000000266}, {\"diff\": 0.040000000000000036}, {\"diff\": 0.040000000000000036}, {\"diff\": 0.04999999999999982}, {\"diff\": 0.040000000000000036}, {\"diff\": 0.040000000000000036}, {\"diff\": 0.04999999999999982}, {\"diff\": 0.040000000000000036}, {\"diff\": 0.050000000000000266}, {\"diff\": 0.03999999999999959}, {\"diff\": 0.040000000000000036}, {\"diff\": 0.050000000000000266}, {\"diff\": 0.040000000000000036}, {\"diff\": 0.04999999999999982}, {\"diff\": 0.040000000000000036}, {\"diff\": 0.040000000000000036}, {\"diff\": 0.04999999999999982}, {\"diff\": 0.03000000000000025}, {\"diff\": 0.04999999999999982}, {\"diff\": 0.050000000000000266}, {\"diff\": 0.040000000000000036}, {\"diff\": 0.04999999999999982}, {\"diff\": 0.040000000000000036}, {\"diff\": 0.040000000000000036}, {\"diff\": 0.04999999999999982}, {\"diff\": 0.040000000000000036}, {\"diff\": 0.0}, {\"diff\": 0.04999999999999982}, {\"diff\": 0.040000000000000036}, {\"diff\": 0.08999999999999986}, {\"diff\": 0.040000000000000036}, {\"diff\": 0.040000000000000036}, {\"diff\": 0.04999999999999982}, {\"diff\": 0.040000000000000036}, {\"diff\": 0.05000000000000071}, {\"diff\": 0.040000000000000036}, {\"diff\": 0.040000000000000036}, {\"diff\": 0.04999999999999982}, {\"diff\": 0.040000000000000036}, {\"diff\": 0.04999999999999982}, {\"diff\": 0.040000000000000036}, {\"diff\": 0.8799999999999999}, {\"diff\": 0.040000000000000036}, {\"diff\": 0.040000000000000036}, {\"diff\": 0.04999999999999982}, {\"diff\": 0.040000000000000036}, {\"diff\": 0.04999999999999982}, {\"diff\": 0.040000000000000036}, {\"diff\": 0.040000000000000036}, {\"diff\": 0.04999999999999982}, {\"diff\": 0.040000000000000036}, {\"diff\": 0.05000000000000071}, {\"diff\": 0.040000000000000036}, {\"diff\": 0.03999999999999915}, {\"diff\": 0.05000000000000071}, {\"diff\": 0.040000000000000036}, {\"diff\": 0.040000000000000036}, {\"diff\": 0.04999999999999982}, {\"diff\": 0.040000000000000036}, {\"diff\": 0.04999999999999982}, {\"diff\": 0.040000000000000036}, {\"diff\": 0.040000000000000036}, {\"diff\": 0.04999999999999982}, {\"diff\": 0.040000000000000036}, {\"diff\": 0.04999999999999982}, {\"diff\": 0.040000000000000036}, {\"diff\": 0.040000000000000036}, {\"diff\": 0.04999999999999982}, {\"diff\": 0.040000000000000036}, {\"diff\": 0.040000000000000036}, {\"diff\": 0.04999999999999982}, {\"diff\": 0.040000000000000036}, {\"diff\": 0.05000000000000071}, {\"diff\": 0.040000000000000036}, {\"diff\": 0.040000000000000036}, {\"diff\": 0.04999999999999982}, {\"diff\": 0.040000000000000036}, {\"diff\": 0.04999999999999982}, {\"diff\": 0.040000000000000036}, {\"diff\": 0.040000000000000036}, {\"diff\": 0.04999999999999982}, {\"diff\": 0.040000000000000036}, {\"diff\": 0.040000000000000036}, {\"diff\": 0.04999999999999982}, {\"diff\": 0.040000000000000036}, {\"diff\": 0.04999999999999982}, {\"diff\": 0.040000000000000036}, {\"diff\": 0.040000000000000036}, {\"diff\": 0.04999999999999982}, {\"diff\": 0.040000000000000036}, {\"diff\": 0.05000000000000071}, {\"diff\": 0.040000000000000036}, {\"diff\": 0.040000000000000036}, {\"diff\": 0.04999999999999982}, {\"diff\": 0.040000000000000036}, {\"diff\": 0.04999999999999982}, {\"diff\": 0.040000000000000036}, {\"diff\": 0.040000000000000036}, {\"diff\": 0.04999999999999982}, {\"diff\": 0.03999999999999915}, {\"diff\": 0.040000000000000924}, {\"diff\": 0.05000000000000071}, {\"diff\": 0.03999999999999915}, {\"diff\": 0.4399999999999995}, {\"diff\": 0.040000000000000924}, {\"diff\": 0.049999999999998934}, {\"diff\": 0.040000000000000924}, {\"diff\": 0.049999999999998934}, {\"diff\": 0.040000000000000924}, {\"diff\": 0.03999999999999915}, {\"diff\": 0.05000000000000071}, {\"diff\": 0.040000000000000924}, {\"diff\": 1.1399999999999988}, {\"diff\": 0.08000000000000007}, {\"diff\": 0.08999999999999986}, {\"diff\": 0.08000000000000007}, {\"diff\": 0.08000000000000007}, {\"diff\": 0.08999999999999986}, {\"diff\": 0.08000000000000007}, {\"diff\": 0.08000000000000007}, {\"diff\": 0.08999999999999986}, {\"diff\": 0.08000000000000007}, {\"diff\": 0.08000000000000007}, {\"diff\": 0.08999999999999986}, {\"diff\": 0.08000000000000007}, {\"diff\": 0.08000000000000007}, {\"diff\": 0.08999999999999986}, {\"diff\": 0.08000000000000007}, {\"diff\": 0.08000000000000007}, {\"diff\": 0.08999999999999986}, {\"diff\": 0.08000000000000007}, {\"diff\": 0.08000000000000007}, {\"diff\": 0.08999999999999986}, {\"diff\": 0.08000000000000007}, {\"diff\": 0.08000000000000007}, {\"diff\": 0.08999999999999986}, {\"diff\": 0.08000000000000007}, {\"diff\": 0.08000000000000007}, {\"diff\": 0.08999999999999986}, {\"diff\": 0.08000000000000007}, {\"diff\": 0.08000000000000007}, {\"diff\": 0.08999999999999986}, {\"diff\": 0.120000000000001}, {\"diff\": 0.08999999999999986}, {\"diff\": 0.08999999999999986}, {\"diff\": 0.08000000000000007}, {\"diff\": 0.03999999999999915}, {\"diff\": 0.05000000000000071}, {\"diff\": 0.03999999999999915}, {\"diff\": 0.05000000000000071}, {\"diff\": 0.03999999999999915}, {\"diff\": 0.05000000000000071}, {\"diff\": 0.040000000000000924}, {\"diff\": 0.049999999999998934}, {\"diff\": 0.040000000000000924}, {\"diff\": 0.049999999999998934}, {\"diff\": 0.040000000000000924}, {\"diff\": 0.049999999999998934}, {\"diff\": 0.040000000000000924}, {\"diff\": 0.049999999999998934}, {\"diff\": 0.040000000000000924}, {\"diff\": 0.03999999999999915}, {\"diff\": 0.05000000000000071}, {\"diff\": 0.03999999999999915}, {\"diff\": 0.05000000000000071}, {\"diff\": 0.03999999999999915}, {\"diff\": 0.05000000000000071}, {\"diff\": 0.040000000000000924}, {\"diff\": 0.049999999999998934}, {\"diff\": 0.040000000000000924}, {\"diff\": 0.049999999999998934}, {\"diff\": 0.040000000000000924}, {\"diff\": 0.049999999999998934}, {\"diff\": 0.040000000000000924}, {\"diff\": 0.03999999999999915}, {\"diff\": 0.05000000000000071}, {\"diff\": 0.03999999999999915}, {\"diff\": 0.05000000000000071}, {\"diff\": 0.03999999999999915}, {\"diff\": 0.05000000000000071}, {\"diff\": 0.040000000000000924}, {\"diff\": 0.049999999999998934}, {\"diff\": 0.040000000000000924}, {\"diff\": 0.049999999999998934}, {\"diff\": 0.040000000000000924}, {\"diff\": 0.049999999999998934}, {\"diff\": 0.040000000000000924}, {\"diff\": 0.049999999999998934}, {\"diff\": 0.14000000000000057}, {\"diff\": 0.040000000000000924}, {\"diff\": 0.049999999999998934}, {\"diff\": 0.040000000000000924}, {\"diff\": 0.049999999999998934}, {\"diff\": 0.040000000000000924}, {\"diff\": 0.049999999999998934}]}}, {\"mode\": \"vega-lite\"});\n",
       "</script>"
      ],
      "text/plain": [
       "alt.Chart(...)"
      ]
     },
     "execution_count": 20,
     "metadata": {},
     "output_type": "execute_result"
    }
   ],
   "source": [
    "# store differences\n",
    "diffs = pd.DataFrame({'diff': diatoms.Age.sort_values().diff().loc[1:, ]}) # SOLUTION\n",
    "\n",
    "# construct histogram\n",
    "fig1 = alt.Chart(diffs).mark_bar().encode(\n",
    "    x = alt.X('diff', bin = alt.Bin(step = 0.02), title = 'Time step between consecutive samples'), # SOLUTION\n",
    "    y = alt.Y('count()', scale = alt.Scale(type = 'sqrt')) # SOLUTION\n",
    ")\n",
    "\n",
    "# display\n",
    "fig1"
   ]
  },
  {
   "attachments": {},
   "cell_type": "markdown",
   "metadata": {
    "tags": [
     "otter_assign_solution_cell"
    ]
   },
   "source": [
    "**SOLUTION**\n",
    "\n",
    "Most time steps are 40-60 years."
   ]
  },
  {
   "cell_type": "code",
   "execution_count": null,
   "metadata": {
    "deletable": false,
    "editable": false
   },
   "outputs": [],
   "source": [
    "grader.check(\"q4\")"
   ]
  },
  {
   "attachments": {},
   "cell_type": "markdown",
   "metadata": {},
   "source": [
    "<!-- END QUESTION -->\n",
    "\n",
    "# Univariate explorations\n",
    "\n",
    "To begin, you'll examine the variation in relative abundance over time for the eight individual taxa, one variable at a time.\n",
    "\n",
    "Here are some initial questions in this spirit that will help you to hone in and develop more focuesed exploratory questions:\n",
    "* Which taxa are most and least abundant on average over time?\n",
    "* Which taxa vary the most over time?\n",
    "\n",
    "These can be answered by computing simple summary statistics for each column in the diatom data."
   ]
  },
  {
   "attachments": {},
   "cell_type": "markdown",
   "metadata": {},
   "source": [
    "### Question 5: Summary statistics\n",
    "\n",
    "Use `.aggregate(...)` to find the mean and standard deviation of relative abundances for each taxon. Follow these steps:\n",
    "\n",
    "1. Drop the depth and age variables before performing the aggregation.\n",
    "2. Use `.transpose()` to ensure that the table is rendered in long form (8 rows by 2 columns rather than 2 columns by 8 rows). \n",
    "3. Store the resulting dataframe as `diatom_summary` display.\n"
   ]
  },
  {
   "cell_type": "code",
   "execution_count": 25,
   "metadata": {
    "tags": [
     "otter_assign_solution_cell"
    ]
   },
   "outputs": [
    {
     "data": {
      "text/html": [
       "<div>\n",
       "<style scoped>\n",
       "    .dataframe tbody tr th:only-of-type {\n",
       "        vertical-align: middle;\n",
       "    }\n",
       "\n",
       "    .dataframe tbody tr th {\n",
       "        vertical-align: top;\n",
       "    }\n",
       "\n",
       "    .dataframe thead th {\n",
       "        text-align: right;\n",
       "    }\n",
       "</style>\n",
       "<table border=\"1\" class=\"dataframe\">\n",
       "  <thead>\n",
       "    <tr style=\"text-align: right;\">\n",
       "      <th></th>\n",
       "      <th>mean</th>\n",
       "      <th>std</th>\n",
       "    </tr>\n",
       "  </thead>\n",
       "  <tbody>\n",
       "    <tr>\n",
       "      <th>A_curv</th>\n",
       "      <td>0.028989</td>\n",
       "      <td>0.018602</td>\n",
       "    </tr>\n",
       "    <tr>\n",
       "      <th>A_octon</th>\n",
       "      <td>0.018257</td>\n",
       "      <td>0.016465</td>\n",
       "    </tr>\n",
       "    <tr>\n",
       "      <th>ActinSpp</th>\n",
       "      <td>0.135900</td>\n",
       "      <td>0.053797</td>\n",
       "    </tr>\n",
       "    <tr>\n",
       "      <th>A_nodul</th>\n",
       "      <td>0.072940</td>\n",
       "      <td>0.092677</td>\n",
       "    </tr>\n",
       "    <tr>\n",
       "      <th>CoscinSpp</th>\n",
       "      <td>0.085925</td>\n",
       "      <td>0.031795</td>\n",
       "    </tr>\n",
       "    <tr>\n",
       "      <th>CyclotSpp</th>\n",
       "      <td>0.070366</td>\n",
       "      <td>0.042423</td>\n",
       "    </tr>\n",
       "    <tr>\n",
       "      <th>Rop_tess</th>\n",
       "      <td>0.060448</td>\n",
       "      <td>0.076098</td>\n",
       "    </tr>\n",
       "    <tr>\n",
       "      <th>StephanSpp</th>\n",
       "      <td>0.002447</td>\n",
       "      <td>0.007721</td>\n",
       "    </tr>\n",
       "  </tbody>\n",
       "</table>\n",
       "</div>"
      ],
      "text/plain": [
       "                mean       std\n",
       "A_curv      0.028989  0.018602\n",
       "A_octon     0.018257  0.016465\n",
       "ActinSpp    0.135900  0.053797\n",
       "A_nodul     0.072940  0.092677\n",
       "CoscinSpp   0.085925  0.031795\n",
       "CyclotSpp   0.070366  0.042423\n",
       "Rop_tess    0.060448  0.076098\n",
       "StephanSpp  0.002447  0.007721"
      ]
     },
     "execution_count": 25,
     "metadata": {},
     "output_type": "execute_result"
    }
   ],
   "source": [
    "diatom_summary = diatoms.iloc[:, 2:10].aggregate(['mean', 'std']).transpose() # SOLUTION\n",
    "\n",
    "# print the dataframe\n",
    "diatom_summary\n"
   ]
  },
  {
   "cell_type": "code",
   "execution_count": null,
   "metadata": {
    "deletable": false,
    "editable": false
   },
   "outputs": [],
   "source": [
    "grader.check(\"q5\")"
   ]
  },
  {
   "attachments": {},
   "cell_type": "markdown",
   "metadata": {},
   "source": [
    "It will be easier to determine which taxa are most/least abundant and most variable by displaying this information visually."
   ]
  },
  {
   "attachments": {},
   "cell_type": "markdown",
   "metadata": {},
   "source": [
    "<!-- BEGIN QUESTION -->\n",
    "\n",
    "### Question 6: Visualizing summary statistics\n",
    "\n",
    "**(i) Create a plot of the average relative abundances and their variation over time.**\n",
    "\n",
    "1. Reset the index of `diatom_summary` so that the taxon names are stored as a column and not an index. Store the result as `plot_df`.\n",
    "2. Create an Altair chart based on `plot_df` with *no marks* -- just `alt.Chart(...).encode(...)` -- and pass the columnn of taxon names to the `Y` encoding channel with the title 'Taxon' and sorted in descending order of mean relative abundance. Store the result as `base`.\n",
    "    + *Hint*: `alt.Y(..., sort = {'field': 'column', 'order': 'descending'})` will sort the Y channel by 'column' in descending order.\n",
    "3. Modify `base` to create a point plot of the average relative abundances for each taxon; store the result as `means`.\n",
    "    + Average relative abundance (the mean you calculated in Q1 (a)) should appear on the x axis, and taxon on the y axis.\n",
    "    + Since the `Y` encoding was already specified in `base`, you do not need to add a `Y` encoding at this stage.\n",
    "    + Give the x axis the title 'Average relative abundance'.\n",
    "4. Modify `base` to create a plot with bars spanning two standard deviations in either direction from the mean. Store the result as `bars`.\n",
    "    + First use `base.transform_calculate(...)` to compute `lwr` and `upr` for the positions of the bar endpoints:\n",
    "        - $\\texttt{lwr} = \\texttt{mean} - 2\\times\\texttt{std}$\n",
    "        - $\\texttt{upr} = \\texttt{mean} + 2\\times\\texttt{std}$.\n",
    "    + Then append `.mark_errorbar().encode(...)` to the chain:\n",
    "        - pass `lwr:Q` to the `X` encoding channel with the title 'Average relative abundance' (to match the point plot)\n",
    "        - pass `upr:Q` to the `X2` encoding channel (no specific title needed).\n",
    "5. Layer the plots: `means + bars`. Store the result as `fig2` and display the figure.\n",
    "\n",
    "It may help to have a look at [this example](https://altair-viz.github.io/gallery/simple_scatter_with_errorbars.html).\n",
    "\n",
    "**(ii) Based on the figure, answer the following questions.**\n",
    "\n",
    "1. Which taxon is most abundant on average over time?\n",
    "2. Which taxon is most rare on average over time?\n",
    "3. Which taxon varies most in relative abundance over time?"
   ]
  },
  {
   "cell_type": "markdown",
   "metadata": {},
   "source": [
    "_Type your answer here, replacing this text._"
   ]
  },
  {
   "cell_type": "code",
   "execution_count": 29,
   "metadata": {
    "tags": [
     "otter_assign_solution_cell"
    ]
   },
   "outputs": [
    {
     "data": {
      "text/html": [
       "\n",
       "<div id=\"altair-viz-5915fed89bba42ddb3fa0a43ae10e8a6\"></div>\n",
       "<script type=\"text/javascript\">\n",
       "  var VEGA_DEBUG = (typeof VEGA_DEBUG == \"undefined\") ? {} : VEGA_DEBUG;\n",
       "  (function(spec, embedOpt){\n",
       "    let outputDiv = document.currentScript.previousElementSibling;\n",
       "    if (outputDiv.id !== \"altair-viz-5915fed89bba42ddb3fa0a43ae10e8a6\") {\n",
       "      outputDiv = document.getElementById(\"altair-viz-5915fed89bba42ddb3fa0a43ae10e8a6\");\n",
       "    }\n",
       "    const paths = {\n",
       "      \"vega\": \"https://cdn.jsdelivr.net/npm//vega@5?noext\",\n",
       "      \"vega-lib\": \"https://cdn.jsdelivr.net/npm//vega-lib?noext\",\n",
       "      \"vega-lite\": \"https://cdn.jsdelivr.net/npm//vega-lite@4.17.0?noext\",\n",
       "      \"vega-embed\": \"https://cdn.jsdelivr.net/npm//vega-embed@6?noext\",\n",
       "    };\n",
       "\n",
       "    function maybeLoadScript(lib, version) {\n",
       "      var key = `${lib.replace(\"-\", \"\")}_version`;\n",
       "      return (VEGA_DEBUG[key] == version) ?\n",
       "        Promise.resolve(paths[lib]) :\n",
       "        new Promise(function(resolve, reject) {\n",
       "          var s = document.createElement('script');\n",
       "          document.getElementsByTagName(\"head\")[0].appendChild(s);\n",
       "          s.async = true;\n",
       "          s.onload = () => {\n",
       "            VEGA_DEBUG[key] = version;\n",
       "            return resolve(paths[lib]);\n",
       "          };\n",
       "          s.onerror = () => reject(`Error loading script: ${paths[lib]}`);\n",
       "          s.src = paths[lib];\n",
       "        });\n",
       "    }\n",
       "\n",
       "    function showError(err) {\n",
       "      outputDiv.innerHTML = `<div class=\"error\" style=\"color:red;\">${err}</div>`;\n",
       "      throw err;\n",
       "    }\n",
       "\n",
       "    function displayChart(vegaEmbed) {\n",
       "      vegaEmbed(outputDiv, spec, embedOpt)\n",
       "        .catch(err => showError(`Javascript Error: ${err.message}<br>This usually means there's a typo in your chart specification. See the javascript console for the full traceback.`));\n",
       "    }\n",
       "\n",
       "    if(typeof define === \"function\" && define.amd) {\n",
       "      requirejs.config({paths});\n",
       "      require([\"vega-embed\"], displayChart, err => showError(`Error loading script: ${err.message}`));\n",
       "    } else {\n",
       "      maybeLoadScript(\"vega\", \"5\")\n",
       "        .then(() => maybeLoadScript(\"vega-lite\", \"4.17.0\"))\n",
       "        .then(() => maybeLoadScript(\"vega-embed\", \"6\"))\n",
       "        .catch(showError)\n",
       "        .then(() => displayChart(vegaEmbed));\n",
       "    }\n",
       "  })({\"config\": {\"view\": {\"continuousWidth\": 400, \"continuousHeight\": 300}}, \"layer\": [{\"mark\": \"point\", \"encoding\": {\"x\": {\"field\": \"mean\", \"title\": \"Average relative abundance\", \"type\": \"quantitative\"}, \"y\": {\"field\": \"index\", \"sort\": {\"field\": \"mean\", \"order\": \"descending\"}, \"title\": \"Taxon\", \"type\": \"nominal\"}}}, {\"mark\": \"errorbar\", \"encoding\": {\"x\": {\"field\": \"lwr\", \"title\": \"Average relative abundance\", \"type\": \"quantitative\"}, \"x2\": {\"field\": \"upr\"}, \"y\": {\"field\": \"index\", \"sort\": {\"field\": \"mean\", \"order\": \"descending\"}, \"title\": \"Taxon\", \"type\": \"nominal\"}}, \"transform\": [{\"calculate\": \"datum.mean - 2*datum.std\", \"as\": \"lwr\"}, {\"calculate\": \"datum.mean + 2*datum.std\", \"as\": \"upr\"}]}], \"data\": {\"name\": \"data-1b0d93bfcb022f0704e46c56041c0f6d\"}, \"$schema\": \"https://vega.github.io/schema/vega-lite/v4.17.0.json\", \"datasets\": {\"data-1b0d93bfcb022f0704e46c56041c0f6d\": [{\"index\": \"A_curv\", \"mean\": 0.028988939091285634, \"std\": 0.018602153931886755}, {\"index\": \"A_octon\", \"mean\": 0.018257499553308642, \"std\": 0.01646514646425771}, {\"index\": \"ActinSpp\", \"mean\": 0.13590010485376025, \"std\": 0.053796667319204114}, {\"index\": \"A_nodul\", \"mean\": 0.07294021160607427, \"std\": 0.09267704433557557}, {\"index\": \"CoscinSpp\", \"mean\": 0.0859250771728572, \"std\": 0.03179511361581213}, {\"index\": \"CyclotSpp\", \"mean\": 0.0703657104247277, \"std\": 0.04242306729462194}, {\"index\": \"Rop_tess\", \"mean\": 0.06044764462101304, \"std\": 0.07609838548473113}, {\"index\": \"StephanSpp\", \"mean\": 0.0024473050108681084, \"std\": 0.007720531940272898}]}}, {\"mode\": \"vega-lite\"});\n",
       "</script>"
      ],
      "text/plain": [
       "alt.LayerChart(...)"
      ]
     },
     "execution_count": 29,
     "metadata": {},
     "output_type": "execute_result"
    }
   ],
   "source": [
    "# reset index\n",
    "plot_df = diatom_summary.reset_index() # SOLUTION\n",
    "\n",
    "# create base chart\n",
    "base = alt.Chart(plot_df).encode(\n",
    "    y = alt.Y('index', title = 'Taxon', sort = {'field': 'mean', 'order': 'descending'}) # SOLUTION\n",
    ")\n",
    "\n",
    "# create point plot\n",
    "means = base.mark_point().encode(\n",
    "    x = alt.X('mean', title = 'Average relative abundance') # SOLUTION\n",
    ")\n",
    "\n",
    "# create bar plot\n",
    "bars = base.transform_calculate(\n",
    "    lwr = 'datum.mean - 2*datum.std', # SOLUTION\n",
    "    upr = 'datum.mean + 2*datum.std' # SOLUTION\n",
    ").mark_errorbar().encode(\n",
    "    x = alt.X('lwr:Q', title = 'Average relative abundance'), # SOLUTION\n",
    "    x2 = 'upr:Q' # SOLUTION\n",
    ")\n",
    "\n",
    "# layer\n",
    "fig2 = means + bars # SOLUTION\n",
    "\n",
    "# display\n",
    "fig2"
   ]
  },
  {
   "attachments": {},
   "cell_type": "markdown",
   "metadata": {
    "tags": [
     "otter_assign_solution_cell"
    ]
   },
   "source": [
    "**SOLUTION**\n",
    "*Actinoptychus* is the most abundant on average (the point for that taxon is highest). *Stephanopyxis* is the rarest on average. (the point for that taxon is lowest). *Azpeitia nodulifer* shows the most variation (the bar for that taxon is widest)."
   ]
  },
  {
   "attachments": {},
   "cell_type": "markdown",
   "metadata": {},
   "source": [
    "<!-- END QUESTION -->\n",
    "\n",
    "Now that you have a sense of the typical abundances for each taxon (measured by means) and the variations in abundance (measured by standard deviations), you'll dig in a bit further and examine the variation in abundance of the most variable taxon."
   ]
  },
  {
   "attachments": {},
   "cell_type": "markdown",
   "metadata": {},
   "source": [
    "<!-- BEGIN QUESTION -->\n",
    "\n",
    "### Question 7: Distribution of *Azpeitia nodulifer* abundance over time\n",
    "\n",
    "**(i) Construct a density scale histogram of the relative abundances of *Azpeitia nodulifer* and overlay a kernel density estimate.**\n",
    "\n",
    "Use the `diatoms` dataframe and a bin width of 0.03. Be sure to choose an appropriate kernel and smoothing bandwidth. Store the result as `fig3`.\n",
    "\n",
    "**(ii) Answer the following questions in a few sentences.**\n",
    "\n",
    "* Which values are common?\n",
    "* Which values are rare?\n",
    "* How spread out are the values?\n",
    "* Are values spread evenly or irregularly?"
   ]
  },
  {
   "cell_type": "markdown",
   "metadata": {},
   "source": [
    "_Type your answer here, replacing this text._"
   ]
  },
  {
   "cell_type": "code",
   "execution_count": 30,
   "metadata": {
    "tags": [
     "otter_assign_solution_cell"
    ]
   },
   "outputs": [
    {
     "data": {
      "text/html": [
       "\n",
       "<div id=\"altair-viz-bd9a4f40225a49c385f6928e0ab2f99b\"></div>\n",
       "<script type=\"text/javascript\">\n",
       "  var VEGA_DEBUG = (typeof VEGA_DEBUG == \"undefined\") ? {} : VEGA_DEBUG;\n",
       "  (function(spec, embedOpt){\n",
       "    let outputDiv = document.currentScript.previousElementSibling;\n",
       "    if (outputDiv.id !== \"altair-viz-bd9a4f40225a49c385f6928e0ab2f99b\") {\n",
       "      outputDiv = document.getElementById(\"altair-viz-bd9a4f40225a49c385f6928e0ab2f99b\");\n",
       "    }\n",
       "    const paths = {\n",
       "      \"vega\": \"https://cdn.jsdelivr.net/npm//vega@5?noext\",\n",
       "      \"vega-lib\": \"https://cdn.jsdelivr.net/npm//vega-lib?noext\",\n",
       "      \"vega-lite\": \"https://cdn.jsdelivr.net/npm//vega-lite@4.17.0?noext\",\n",
       "      \"vega-embed\": \"https://cdn.jsdelivr.net/npm//vega-embed@6?noext\",\n",
       "    };\n",
       "\n",
       "    function maybeLoadScript(lib, version) {\n",
       "      var key = `${lib.replace(\"-\", \"\")}_version`;\n",
       "      return (VEGA_DEBUG[key] == version) ?\n",
       "        Promise.resolve(paths[lib]) :\n",
       "        new Promise(function(resolve, reject) {\n",
       "          var s = document.createElement('script');\n",
       "          document.getElementsByTagName(\"head\")[0].appendChild(s);\n",
       "          s.async = true;\n",
       "          s.onload = () => {\n",
       "            VEGA_DEBUG[key] = version;\n",
       "            return resolve(paths[lib]);\n",
       "          };\n",
       "          s.onerror = () => reject(`Error loading script: ${paths[lib]}`);\n",
       "          s.src = paths[lib];\n",
       "        });\n",
       "    }\n",
       "\n",
       "    function showError(err) {\n",
       "      outputDiv.innerHTML = `<div class=\"error\" style=\"color:red;\">${err}</div>`;\n",
       "      throw err;\n",
       "    }\n",
       "\n",
       "    function displayChart(vegaEmbed) {\n",
       "      vegaEmbed(outputDiv, spec, embedOpt)\n",
       "        .catch(err => showError(`Javascript Error: ${err.message}<br>This usually means there's a typo in your chart specification. See the javascript console for the full traceback.`));\n",
       "    }\n",
       "\n",
       "    if(typeof define === \"function\" && define.amd) {\n",
       "      requirejs.config({paths});\n",
       "      require([\"vega-embed\"], displayChart, err => showError(`Error loading script: ${err.message}`));\n",
       "    } else {\n",
       "      maybeLoadScript(\"vega\", \"5\")\n",
       "        .then(() => maybeLoadScript(\"vega-lite\", \"4.17.0\"))\n",
       "        .then(() => maybeLoadScript(\"vega-embed\", \"6\"))\n",
       "        .catch(showError)\n",
       "        .then(() => displayChart(vegaEmbed));\n",
       "    }\n",
       "  })({\"config\": {\"view\": {\"continuousWidth\": 400, \"continuousHeight\": 300}}, \"layer\": [{\"data\": {\"name\": \"data-9f4e66e54759d6b46301ea3d10ce44f6\"}, \"mark\": {\"type\": \"bar\", \"opacity\": 0.8, \"size\": 25}, \"encoding\": {\"x\": {\"field\": \"binshift\", \"scale\": {\"domain\": [0.03, 0.38]}, \"title\": \"Relative abundance\", \"type\": \"quantitative\"}, \"y\": {\"field\": \"Density\", \"type\": \"quantitative\"}}, \"transform\": [{\"bin\": {\"step\": 0.03}, \"field\": \"A_nodul\", \"as\": \"bin\"}, {\"aggregate\": [{\"op\": \"count\", \"as\": \"Count\"}], \"groupby\": [\"bin\"]}, {\"calculate\": \"datum.Count/(0.03*230)\", \"as\": \"Density\"}, {\"calculate\": \"datum.bin + 0.015\", \"as\": \"binshift\"}]}, {\"data\": {\"name\": \"data-7e723486abedbed5deae8d6234a5dddc\"}, \"mark\": {\"type\": \"line\", \"color\": \"black\"}, \"encoding\": {\"x\": {\"field\": \"A_nodul\", \"type\": \"quantitative\"}, \"y\": {\"field\": \"Density\", \"type\": \"quantitative\"}}}, {\"data\": {\"name\": \"data-7e723486abedbed5deae8d6234a5dddc\"}, \"mark\": {\"type\": \"area\", \"color\": \"black\", \"opacity\": 0.3}, \"encoding\": {\"x\": {\"field\": \"A_nodul\", \"type\": \"quantitative\"}, \"y\": {\"field\": \"Density\", \"type\": \"quantitative\"}}}], \"$schema\": \"https://vega.github.io/schema/vega-lite/v4.17.0.json\", \"datasets\": {\"data-9f4e66e54759d6b46301ea3d10ce44f6\": [{\"Depth\": 0.0, \"Age\": 1.33, \"A_curv\": 0.024875621890547265, \"A_octon\": 0.009950248756218905, \"ActinSpp\": 0.15920398009950248, \"A_nodul\": 0.06965174129353234, \"CoscinSpp\": 0.1044776119402985, \"CyclotSpp\": 0.10945273631840796, \"Rop_tess\": 0.004975124378109453, \"StephanSpp\": 0.004975124378109453}, {\"Depth\": 0.05, \"Age\": 1.37, \"A_curv\": 0.04, \"A_octon\": 0.01, \"ActinSpp\": 0.155, \"A_nodul\": 0.08, \"CoscinSpp\": 0.1, \"CyclotSpp\": 0.08, \"Rop_tess\": 0.035, \"StephanSpp\": 0.01}, {\"Depth\": 0.1, \"Age\": 1.42, \"A_curv\": 0.04, \"A_octon\": 0.03, \"ActinSpp\": 0.165, \"A_nodul\": 0.09, \"CoscinSpp\": 0.145, \"CyclotSpp\": 0.035, \"Rop_tess\": 0.005, \"StephanSpp\": 0.005}, {\"Depth\": 0.15, \"Age\": 1.46, \"A_curv\": 0.055, \"A_octon\": 0.005, \"ActinSpp\": 0.105, \"A_nodul\": 0.005, \"CoscinSpp\": 0.06, \"CyclotSpp\": 0.14, \"Rop_tess\": 0.125, \"StephanSpp\": 0.015}, {\"Depth\": 0.2, \"Age\": 1.51, \"A_curv\": 0.03666666666666667, \"A_octon\": 0.0033333333333333335, \"ActinSpp\": 0.12666666666666668, \"A_nodul\": 0.01, \"CoscinSpp\": 0.06, \"CyclotSpp\": 0.08, \"Rop_tess\": 0.01, \"StephanSpp\": 0.0}, {\"Depth\": 0.25, \"Age\": 1.55, \"A_curv\": 0.019704433497536946, \"A_octon\": 0.04433497536945813, \"ActinSpp\": 0.1477832512315271, \"A_nodul\": 0.04926108374384237, \"CoscinSpp\": 0.07881773399014778, \"CyclotSpp\": 0.06896551724137931, \"Rop_tess\": 0.07881773399014778, \"StephanSpp\": 0.0}, {\"Depth\": 0.3, \"Age\": 1.59, \"A_curv\": 0.025, \"A_octon\": 0.015, \"ActinSpp\": 0.105, \"A_nodul\": 0.02, \"CoscinSpp\": 0.06, \"CyclotSpp\": 0.08, \"Rop_tess\": 0.2, \"StephanSpp\": 0.0}, {\"Depth\": 0.35, \"Age\": 1.64, \"A_curv\": 0.035, \"A_octon\": 0.02, \"ActinSpp\": 0.18, \"A_nodul\": 0.095, \"CoscinSpp\": 0.095, \"CyclotSpp\": 0.065, \"Rop_tess\": 0.015, \"StephanSpp\": 0.005}, {\"Depth\": 0.4, \"Age\": 1.68, \"A_curv\": 0.07, \"A_octon\": 0.035, \"ActinSpp\": 0.2, \"A_nodul\": 0.02, \"CoscinSpp\": 0.12, \"CyclotSpp\": 0.055, \"Rop_tess\": 0.015, \"StephanSpp\": 0.005}, {\"Depth\": 0.45, \"Age\": 1.72, \"A_curv\": 0.03, \"A_octon\": 0.015, \"ActinSpp\": 0.185, \"A_nodul\": 0.03, \"CoscinSpp\": 0.13, \"CyclotSpp\": 0.1, \"Rop_tess\": 0.015, \"StephanSpp\": 0.005}, {\"Depth\": 0.5, \"Age\": 1.77, \"A_curv\": 0.04, \"A_octon\": 0.02, \"ActinSpp\": 0.1, \"A_nodul\": 0.055, \"CoscinSpp\": 0.055, \"CyclotSpp\": 0.1, \"Rop_tess\": 0.135, \"StephanSpp\": 0.005}, {\"Depth\": 0.55, \"Age\": 1.81, \"A_curv\": 0.024875621890547265, \"A_octon\": 0.014925373134328358, \"ActinSpp\": 0.17412935323383086, \"A_nodul\": 0.014925373134328358, \"CoscinSpp\": 0.07462686567164178, \"CyclotSpp\": 0.10945273631840796, \"Rop_tess\": 0.05970149253731343, \"StephanSpp\": 0.014925373134328358}, {\"Depth\": 0.6, \"Age\": 1.86, \"A_curv\": 0.04455445544554455, \"A_octon\": 0.01485148514851485, \"ActinSpp\": 0.1485148514851485, \"A_nodul\": 0.01485148514851485, \"CoscinSpp\": 0.0891089108910891, \"CyclotSpp\": 0.13366336633663367, \"Rop_tess\": 0.034653465346534656, \"StephanSpp\": 0.0049504950495049506}, {\"Depth\": 0.65, \"Age\": 1.9, \"A_curv\": 0.016556291390728478, \"A_octon\": 0.013245033112582781, \"ActinSpp\": 0.08940397350993377, \"A_nodul\": 0.019867549668874173, \"CoscinSpp\": 0.06291390728476821, \"CyclotSpp\": 0.11589403973509933, \"Rop_tess\": 0.013245033112582781, \"StephanSpp\": 0.0}, {\"Depth\": 0.7, \"Age\": 1.94, \"A_curv\": 0.065, \"A_octon\": 0.01, \"ActinSpp\": 0.18, \"A_nodul\": 0.04, \"CoscinSpp\": 0.075, \"CyclotSpp\": 0.105, \"Rop_tess\": 0.03, \"StephanSpp\": 0.0}, {\"Depth\": 0.75, \"Age\": 1.99, \"A_curv\": 0.029850746268656716, \"A_octon\": 0.009950248756218905, \"ActinSpp\": 0.16417910447761194, \"A_nodul\": 0.01990049751243781, \"CoscinSpp\": 0.15920398009950248, \"CyclotSpp\": 0.1044776119402985, \"Rop_tess\": 0.004975124378109453, \"StephanSpp\": 0.0}, {\"Depth\": 0.8, \"Age\": 2.03, \"A_curv\": 0.04455445544554455, \"A_octon\": 0.009900990099009901, \"ActinSpp\": 0.2079207920792079, \"A_nodul\": 0.01485148514851485, \"CoscinSpp\": 0.10396039603960396, \"CyclotSpp\": 0.0891089108910891, \"Rop_tess\": 0.019801980198019802, \"StephanSpp\": 0.0049504950495049506}, {\"Depth\": 0.85, \"Age\": 2.08, \"A_curv\": 0.06965174129353234, \"A_octon\": 0.014925373134328358, \"ActinSpp\": 0.1044776119402985, \"A_nodul\": 0.004975124378109453, \"CoscinSpp\": 0.06965174129353234, \"CyclotSpp\": 0.208955223880597, \"Rop_tess\": 0.01990049751243781, \"StephanSpp\": 0.0}, {\"Depth\": 0.9, \"Age\": 2.12, \"A_curv\": 0.04477611940298507, \"A_octon\": 0.024875621890547265, \"ActinSpp\": 0.12935323383084577, \"A_nodul\": 0.06467661691542288, \"CoscinSpp\": 0.07960199004975124, \"CyclotSpp\": 0.09950248756218906, \"Rop_tess\": 0.04477611940298507, \"StephanSpp\": 0.0}, {\"Depth\": 0.95, \"Age\": 2.16, \"A_curv\": 0.055, \"A_octon\": 0.02, \"ActinSpp\": 0.17, \"A_nodul\": 0.015, \"CoscinSpp\": 0.05, \"CyclotSpp\": 0.175, \"Rop_tess\": 0.015, \"StephanSpp\": 0.01}, {\"Depth\": 1.0, \"Age\": 2.21, \"A_curv\": 0.058823529411764705, \"A_octon\": 0.014705882352941176, \"ActinSpp\": 0.19117647058823528, \"A_nodul\": 0.004901960784313725, \"CoscinSpp\": 0.0784313725490196, \"CyclotSpp\": 0.11274509803921569, \"Rop_tess\": 0.00980392156862745, \"StephanSpp\": 0.00980392156862745}, {\"Depth\": 1.05, \"Age\": 2.25, \"A_curv\": 0.065, \"A_octon\": 0.015, \"ActinSpp\": 0.115, \"A_nodul\": 0.025, \"CoscinSpp\": 0.09, \"CyclotSpp\": 0.115, \"Rop_tess\": 0.075, \"StephanSpp\": 0.005}, {\"Depth\": 1.1, \"Age\": 2.29, \"A_curv\": 0.029850746268656716, \"A_octon\": 0.004975124378109453, \"ActinSpp\": 0.11442786069651742, \"A_nodul\": 0.01990049751243781, \"CoscinSpp\": 0.04975124378109453, \"CyclotSpp\": 0.0945273631840796, \"Rop_tess\": 0.07960199004975124, \"StephanSpp\": 0.0945273631840796}, {\"Depth\": 1.15, \"Age\": 2.34, \"A_curv\": 0.034482758620689655, \"A_octon\": 0.04433497536945813, \"ActinSpp\": 0.13793103448275862, \"A_nodul\": 0.03940886699507389, \"CoscinSpp\": 0.08866995073891626, \"CyclotSpp\": 0.11330049261083744, \"Rop_tess\": 0.034482758620689655, \"StephanSpp\": 0.0}, {\"Depth\": 1.2, \"Age\": 2.38, \"A_curv\": 0.03734439834024896, \"A_octon\": 0.012448132780082987, \"ActinSpp\": 0.04564315352697095, \"A_nodul\": 0.07883817427385892, \"CoscinSpp\": 0.04979253112033195, \"CyclotSpp\": 0.07468879668049792, \"Rop_tess\": 0.11203319502074689, \"StephanSpp\": 0.0}, {\"Depth\": 1.25, \"Age\": 2.43, \"A_curv\": 0.045, \"A_octon\": 0.015, \"ActinSpp\": 0.13, \"A_nodul\": 0.01, \"CoscinSpp\": 0.09, \"CyclotSpp\": 0.065, \"Rop_tess\": 0.11, \"StephanSpp\": 0.045}, {\"Depth\": 1.3, \"Age\": 2.47, \"A_curv\": 0.04, \"A_octon\": 0.01, \"ActinSpp\": 0.09, \"A_nodul\": 0.013333333333333334, \"CoscinSpp\": 0.043333333333333335, \"CyclotSpp\": 0.06333333333333334, \"Rop_tess\": 0.05333333333333334, \"StephanSpp\": 0.016666666666666666}, {\"Depth\": 1.35, \"Age\": 2.51, \"A_curv\": 0.04455445544554455, \"A_octon\": 0.019801980198019802, \"ActinSpp\": 0.14356435643564355, \"A_nodul\": 0.019801980198019802, \"CoscinSpp\": 0.039603960396039604, \"CyclotSpp\": 0.21287128712871287, \"Rop_tess\": 0.01485148514851485, \"StephanSpp\": 0.0}, {\"Depth\": 1.4, \"Age\": 2.56, \"A_curv\": 0.049019607843137254, \"A_octon\": 0.029411764705882353, \"ActinSpp\": 0.12254901960784313, \"A_nodul\": 0.014705882352941176, \"CoscinSpp\": 0.049019607843137254, \"CyclotSpp\": 0.17647058823529413, \"Rop_tess\": 0.04411764705882353, \"StephanSpp\": 0.004901960784313725}, {\"Depth\": 1.49, \"Age\": 2.64, \"A_curv\": 0.045, \"A_octon\": 0.015, \"ActinSpp\": 0.14, \"A_nodul\": 0.03, \"CoscinSpp\": 0.145, \"CyclotSpp\": 0.095, \"Rop_tess\": 0.045, \"StephanSpp\": 0.0}, {\"Depth\": 1.5, \"Age\": 2.65, \"A_curv\": 0.03, \"A_octon\": 0.035, \"ActinSpp\": 0.16, \"A_nodul\": 0.04, \"CoscinSpp\": 0.065, \"CyclotSpp\": 0.085, \"Rop_tess\": 0.095, \"StephanSpp\": 0.0}, {\"Depth\": 1.55, \"Age\": 2.69, \"A_curv\": 0.025, \"A_octon\": 0.035, \"ActinSpp\": 0.11, \"A_nodul\": 0.02, \"CoscinSpp\": 0.05, \"CyclotSpp\": 0.155, \"Rop_tess\": 0.115, \"StephanSpp\": 0.0}, {\"Depth\": 1.6, \"Age\": 2.73, \"A_curv\": 0.04, \"A_octon\": 0.03, \"ActinSpp\": 0.14, \"A_nodul\": 0.01, \"CoscinSpp\": 0.13, \"CyclotSpp\": 0.125, \"Rop_tess\": 0.03, \"StephanSpp\": 0.005}, {\"Depth\": 1.65, \"Age\": 2.78, \"A_curv\": 0.05, \"A_octon\": 0.005, \"ActinSpp\": 0.14, \"A_nodul\": 0.03, \"CoscinSpp\": 0.095, \"CyclotSpp\": 0.14, \"Rop_tess\": 0.05, \"StephanSpp\": 0.0}, {\"Depth\": 1.7, \"Age\": 2.82, \"A_curv\": 0.045, \"A_octon\": 0.015, \"ActinSpp\": 0.215, \"A_nodul\": 0.005, \"CoscinSpp\": 0.08, \"CyclotSpp\": 0.125, \"Rop_tess\": 0.02, \"StephanSpp\": 0.005}, {\"Depth\": 1.75, \"Age\": 2.87, \"A_curv\": 0.07881773399014778, \"A_octon\": 0.059113300492610835, \"ActinSpp\": 0.10344827586206896, \"A_nodul\": 0.019704433497536946, \"CoscinSpp\": 0.09359605911330049, \"CyclotSpp\": 0.09359605911330049, \"Rop_tess\": 0.034482758620689655, \"StephanSpp\": 0.009852216748768473}, {\"Depth\": 1.8, \"Age\": 2.91, \"A_curv\": 0.054187192118226604, \"A_octon\": 0.009852216748768473, \"ActinSpp\": 0.19704433497536947, \"A_nodul\": 0.029556650246305417, \"CoscinSpp\": 0.08374384236453201, \"CyclotSpp\": 0.07389162561576355, \"Rop_tess\": 0.034482758620689655, \"StephanSpp\": 0.0}, {\"Depth\": 1.85, \"Age\": 2.95, \"A_curv\": 0.025, \"A_octon\": 0.015, \"ActinSpp\": 0.19, \"A_nodul\": 0.025, \"CoscinSpp\": 0.115, \"CyclotSpp\": 0.105, \"Rop_tess\": 0.03, \"StephanSpp\": 0.005}, {\"Depth\": 1.9, \"Age\": 3.0, \"A_curv\": 0.03, \"A_octon\": 0.01, \"ActinSpp\": 0.09, \"A_nodul\": 0.005, \"CoscinSpp\": 0.055, \"CyclotSpp\": 0.18, \"Rop_tess\": 0.13, \"StephanSpp\": 0.005}, {\"Depth\": 1.95, \"Age\": 3.04, \"A_curv\": 0.05, \"A_octon\": 0.02, \"ActinSpp\": 0.2, \"A_nodul\": 0.01, \"CoscinSpp\": 0.075, \"CyclotSpp\": 0.12, \"Rop_tess\": 0.035, \"StephanSpp\": 0.005}, {\"Depth\": 2.0, \"Age\": 3.08, \"A_curv\": 0.0297029702970297, \"A_octon\": 0.0049504950495049506, \"ActinSpp\": 0.14356435643564355, \"A_nodul\": 0.0049504950495049506, \"CoscinSpp\": 0.0297029702970297, \"CyclotSpp\": 0.2079207920792079, \"Rop_tess\": 0.06930693069306931, \"StephanSpp\": 0.0}, {\"Depth\": 2.05, \"Age\": 3.13, \"A_curv\": 0.03, \"A_octon\": 0.04, \"ActinSpp\": 0.175, \"A_nodul\": 0.02, \"CoscinSpp\": 0.08, \"CyclotSpp\": 0.125, \"Rop_tess\": 0.04, \"StephanSpp\": 0.005}, {\"Depth\": 2.1, \"Age\": 3.17, \"A_curv\": 0.054187192118226604, \"A_octon\": 0.019704433497536946, \"ActinSpp\": 0.13793103448275862, \"A_nodul\": 0.014778325123152709, \"CoscinSpp\": 0.09359605911330049, \"CyclotSpp\": 0.1330049261083744, \"Rop_tess\": 0.03940886699507389, \"StephanSpp\": 0.0}, {\"Depth\": 2.15, \"Age\": 3.22, \"A_curv\": 0.02181818181818182, \"A_octon\": 0.01090909090909091, \"ActinSpp\": 0.13454545454545455, \"A_nodul\": 0.014545454545454545, \"CoscinSpp\": 0.04363636363636364, \"CyclotSpp\": 0.12727272727272726, \"Rop_tess\": 0.007272727272727273, \"StephanSpp\": 0.0}, {\"Depth\": 2.2, \"Age\": 3.26, \"A_curv\": 0.034653465346534656, \"A_octon\": 0.024752475247524754, \"ActinSpp\": 0.18316831683168316, \"A_nodul\": 0.06435643564356436, \"CoscinSpp\": 0.0891089108910891, \"CyclotSpp\": 0.07920792079207921, \"Rop_tess\": 0.009900990099009901, \"StephanSpp\": 0.0}, {\"Depth\": 2.25, \"Age\": 3.3, \"A_curv\": 0.035, \"A_octon\": 0.03, \"ActinSpp\": 0.18, \"A_nodul\": 0.02, \"CoscinSpp\": 0.1, \"CyclotSpp\": 0.11, \"Rop_tess\": 0.03, \"StephanSpp\": 0.005}, {\"Depth\": 2.3, \"Age\": 3.35, \"A_curv\": 0.024875621890547265, \"A_octon\": 0.029850746268656716, \"ActinSpp\": 0.15920398009950248, \"A_nodul\": 0.03482587064676617, \"CoscinSpp\": 0.10945273631840796, \"CyclotSpp\": 0.0945273631840796, \"Rop_tess\": 0.029850746268656716, \"StephanSpp\": 0.0}, {\"Depth\": 2.35, \"Age\": 3.39, \"A_curv\": 0.02666666666666667, \"A_octon\": 0.04666666666666667, \"ActinSpp\": 0.09666666666666666, \"A_nodul\": 0.01, \"CoscinSpp\": 0.04, \"CyclotSpp\": 0.10333333333333333, \"Rop_tess\": 0.01, \"StephanSpp\": 0.0}, {\"Depth\": 2.4, \"Age\": 3.44, \"A_curv\": 0.045, \"A_octon\": 0.03, \"ActinSpp\": 0.175, \"A_nodul\": 0.01, \"CoscinSpp\": 0.095, \"CyclotSpp\": 0.13, \"Rop_tess\": 0.025, \"StephanSpp\": 0.0}, {\"Depth\": 2.45, \"Age\": 3.48, \"A_curv\": 0.045, \"A_octon\": 0.04, \"ActinSpp\": 0.17, \"A_nodul\": 0.015, \"CoscinSpp\": 0.11, \"CyclotSpp\": 0.12, \"Rop_tess\": 0.01, \"StephanSpp\": 0.005}, {\"Depth\": 2.5, \"Age\": 3.52, \"A_curv\": 0.03482587064676617, \"A_octon\": 0.01990049751243781, \"ActinSpp\": 0.1791044776119403, \"A_nodul\": 0.01990049751243781, \"CoscinSpp\": 0.09950248756218906, \"CyclotSpp\": 0.12437810945273632, \"Rop_tess\": 0.004975124378109453, \"StephanSpp\": 0.009950248756218905}, {\"Depth\": 2.55, \"Age\": 3.57, \"A_curv\": 0.04455445544554455, \"A_octon\": 0.0297029702970297, \"ActinSpp\": 0.1782178217821782, \"A_nodul\": 0.024752475247524754, \"CoscinSpp\": 0.1188118811881188, \"CyclotSpp\": 0.06930693069306931, \"Rop_tess\": 0.0297029702970297, \"StephanSpp\": 0.0}, {\"Depth\": 2.59, \"Age\": 3.6, \"A_curv\": 0.03, \"A_octon\": 0.015, \"ActinSpp\": 0.22, \"A_nodul\": 0.015, \"CoscinSpp\": 0.11, \"CyclotSpp\": 0.09, \"Rop_tess\": 0.03, \"StephanSpp\": 0.0}, {\"Depth\": 2.65, \"Age\": 3.65, \"A_curv\": 0.03, \"A_octon\": 0.02, \"ActinSpp\": 0.155, \"A_nodul\": 0.035, \"CoscinSpp\": 0.095, \"CyclotSpp\": 0.155, \"Rop_tess\": 0.02, \"StephanSpp\": 0.005}, {\"Depth\": 2.7, \"Age\": 3.7, \"A_curv\": 0.04245283018867924, \"A_octon\": 0.0330188679245283, \"ActinSpp\": 0.14150943396226415, \"A_nodul\": 0.02358490566037736, \"CoscinSpp\": 0.08018867924528301, \"CyclotSpp\": 0.09905660377358491, \"Rop_tess\": 0.04716981132075472, \"StephanSpp\": 0.0}, {\"Depth\": 2.75, \"Age\": 3.74, \"A_curv\": 0.035, \"A_octon\": 0.02, \"ActinSpp\": 0.15, \"A_nodul\": 0.025, \"CoscinSpp\": 0.085, \"CyclotSpp\": 0.165, \"Rop_tess\": 0.03, \"StephanSpp\": 0.0}, {\"Depth\": 2.8, \"Age\": 3.79, \"A_curv\": 0.03515625, \"A_octon\": 0.015625, \"ActinSpp\": 0.1171875, \"A_nodul\": 0.01953125, \"CoscinSpp\": 0.05078125, \"CyclotSpp\": 0.1328125, \"Rop_tess\": 0.015625, \"StephanSpp\": 0.0}, {\"Depth\": 2.85, \"Age\": 3.83, \"A_curv\": 0.016, \"A_octon\": 0.032, \"ActinSpp\": 0.16, \"A_nodul\": 0.024, \"CoscinSpp\": 0.06, \"CyclotSpp\": 0.088, \"Rop_tess\": 0.016, \"StephanSpp\": 0.0}, {\"Depth\": 2.9, \"Age\": 3.87, \"A_curv\": 0.048, \"A_octon\": 0.016, \"ActinSpp\": 0.156, \"A_nodul\": 0.012, \"CoscinSpp\": 0.072, \"CyclotSpp\": 0.08, \"Rop_tess\": 0.012, \"StephanSpp\": 0.0}, {\"Depth\": 2.95, \"Age\": 3.92, \"A_curv\": 0.015151515151515152, \"A_octon\": 0.026515151515151516, \"ActinSpp\": 0.13257575757575757, \"A_nodul\": 0.01893939393939394, \"CoscinSpp\": 0.056818181818181816, \"CyclotSpp\": 0.12121212121212122, \"Rop_tess\": 0.007575757575757576, \"StephanSpp\": 0.0}, {\"Depth\": 3.0, \"Age\": 3.96, \"A_curv\": 0.014005602240896359, \"A_octon\": 0.025210084033613446, \"ActinSpp\": 0.08403361344537816, \"A_nodul\": 0.0056022408963585435, \"CoscinSpp\": 0.03361344537815126, \"CyclotSpp\": 0.1092436974789916, \"Rop_tess\": 0.008403361344537815, \"StephanSpp\": 0.0}, {\"Depth\": 3.0, \"Age\": 3.96, \"A_curv\": 0.03, \"A_octon\": 0.015, \"ActinSpp\": 0.065, \"A_nodul\": 0.01, \"CoscinSpp\": 0.05, \"CyclotSpp\": 0.165, \"Rop_tess\": 0.165, \"StephanSpp\": 0.005}, {\"Depth\": 3.05, \"Age\": 4.01, \"A_curv\": 0.024822695035460994, \"A_octon\": 0.014184397163120567, \"ActinSpp\": 0.09219858156028368, \"A_nodul\": 0.02127659574468085, \"CoscinSpp\": 0.05673758865248227, \"CyclotSpp\": 0.12056737588652482, \"Rop_tess\": 0.024822695035460994, \"StephanSpp\": 0.0}, {\"Depth\": 3.1, \"Age\": 4.05, \"A_curv\": 0.024, \"A_octon\": 0.008, \"ActinSpp\": 0.12, \"A_nodul\": 0.012, \"CoscinSpp\": 0.096, \"CyclotSpp\": 0.104, \"Rop_tess\": 0.04, \"StephanSpp\": 0.0}, {\"Depth\": 3.2, \"Age\": 4.14, \"A_curv\": 0.02040816326530612, \"A_octon\": 0.012244897959183673, \"ActinSpp\": 0.07755102040816327, \"A_nodul\": 0.02857142857142857, \"CoscinSpp\": 0.053061224489795916, \"CyclotSpp\": 0.10612244897959183, \"Rop_tess\": 0.11020408163265306, \"StephanSpp\": 0.0}, {\"Depth\": 3.25, \"Age\": 4.18, \"A_curv\": 0.01932367149758454, \"A_octon\": 0.00966183574879227, \"ActinSpp\": 0.15942028985507245, \"A_nodul\": 0.057971014492753624, \"CoscinSpp\": 0.057971014492753624, \"CyclotSpp\": 0.08695652173913043, \"Rop_tess\": 0.08695652173913043, \"StephanSpp\": 0.0}, {\"Depth\": 3.3, \"Age\": 4.22, \"A_curv\": 0.023696682464454975, \"A_octon\": 0.014218009478672985, \"ActinSpp\": 0.12796208530805686, \"A_nodul\": 0.052132701421800945, \"CoscinSpp\": 0.10426540284360189, \"CyclotSpp\": 0.0995260663507109, \"Rop_tess\": 0.052132701421800945, \"StephanSpp\": 0.0}, {\"Depth\": 3.35, \"Age\": 4.27, \"A_curv\": 0.009950248756218905, \"A_octon\": 0.009950248756218905, \"ActinSpp\": 0.11442786069651742, \"A_nodul\": 0.11442786069651742, \"CoscinSpp\": 0.06965174129353234, \"CyclotSpp\": 0.08955223880597014, \"Rop_tess\": 0.07960199004975124, \"StephanSpp\": 0.0}, {\"Depth\": 3.4, \"Age\": 4.31, \"A_curv\": 0.02, \"A_octon\": 0.025, \"ActinSpp\": 0.16, \"A_nodul\": 0.11, \"CoscinSpp\": 0.055, \"CyclotSpp\": 0.125, \"Rop_tess\": 0.015, \"StephanSpp\": 0.0}, {\"Depth\": 3.45, \"Age\": 4.36, \"A_curv\": 0.015, \"A_octon\": 0.005, \"ActinSpp\": 0.07, \"A_nodul\": 0.02, \"CoscinSpp\": 0.015, \"CyclotSpp\": 0.085, \"Rop_tess\": 0.3, \"StephanSpp\": 0.0}, {\"Depth\": 3.5, \"Age\": 4.4, \"A_curv\": 0.01532567049808429, \"A_octon\": 0.007662835249042145, \"ActinSpp\": 0.13026819923371646, \"A_nodul\": 0.019157088122605363, \"CoscinSpp\": 0.05747126436781609, \"CyclotSpp\": 0.11877394636015326, \"Rop_tess\": 0.03065134099616858, \"StephanSpp\": 0.0}, {\"Depth\": 3.55, \"Age\": 4.44, \"A_curv\": 0.01, \"A_octon\": 0.01, \"ActinSpp\": 0.07, \"A_nodul\": 0.03, \"CoscinSpp\": 0.035, \"CyclotSpp\": 0.115, \"Rop_tess\": 0.24, \"StephanSpp\": 0.0}, {\"Depth\": 3.6, \"Age\": 4.49, \"A_curv\": 0.017391304347826087, \"A_octon\": 0.021739130434782608, \"ActinSpp\": 0.09565217391304348, \"A_nodul\": 0.14347826086956522, \"CoscinSpp\": 0.0391304347826087, \"CyclotSpp\": 0.06956521739130435, \"Rop_tess\": 0.04782608695652174, \"StephanSpp\": 0.0}, {\"Depth\": 3.65, \"Age\": 4.53, \"A_curv\": 0.0375, \"A_octon\": 0.0125, \"ActinSpp\": 0.17083333333333334, \"A_nodul\": 0.025, \"CoscinSpp\": 0.05416666666666667, \"CyclotSpp\": 0.075, \"Rop_tess\": 0.041666666666666664, \"StephanSpp\": 0.0}, {\"Depth\": 3.7, \"Age\": 4.58, \"A_curv\": 0.017777777777777778, \"A_octon\": 0.008888888888888889, \"ActinSpp\": 0.16444444444444445, \"A_nodul\": 0.057777777777777775, \"CoscinSpp\": 0.08, \"CyclotSpp\": 0.06666666666666667, \"Rop_tess\": 0.04, \"StephanSpp\": 0.0}, {\"Depth\": 3.75, \"Age\": 4.62, \"A_curv\": 0.02857142857142857, \"A_octon\": 0.022222222222222223, \"ActinSpp\": 0.1523809523809524, \"A_nodul\": 0.009523809523809525, \"CoscinSpp\": 0.047619047619047616, \"CyclotSpp\": 0.05714285714285714, \"Rop_tess\": 0.0031746031746031746, \"StephanSpp\": 0.0}, {\"Depth\": 4.75, \"Age\": 5.5, \"A_curv\": 0.0196078431372549, \"A_octon\": 0.00980392156862745, \"ActinSpp\": 0.19117647058823528, \"A_nodul\": 0.04411764705882353, \"CoscinSpp\": 0.11764705882352941, \"CyclotSpp\": 0.06862745098039216, \"Rop_tess\": 0.014705882352941176, \"StephanSpp\": 0.014705882352941176}, {\"Depth\": 4.8, \"Age\": 5.54, \"A_curv\": 0.0297029702970297, \"A_octon\": 0.019801980198019802, \"ActinSpp\": 0.15346534653465346, \"A_nodul\": 0.09405940594059406, \"CoscinSpp\": 0.08415841584158416, \"CyclotSpp\": 0.07425742574257425, \"Rop_tess\": 0.0297029702970297, \"StephanSpp\": 0.0049504950495049506}, {\"Depth\": 4.85, \"Age\": 5.58, \"A_curv\": 0.024271844660194174, \"A_octon\": 0.014563106796116505, \"ActinSpp\": 0.2087378640776699, \"A_nodul\": 0.05339805825242718, \"CoscinSpp\": 0.05825242718446602, \"CyclotSpp\": 0.0825242718446602, \"Rop_tess\": 0.038834951456310676, \"StephanSpp\": 0.0}, {\"Depth\": 4.9, \"Age\": 5.63, \"A_curv\": 0.03, \"A_octon\": 0.02, \"ActinSpp\": 0.16, \"A_nodul\": 0.01, \"CoscinSpp\": 0.095, \"CyclotSpp\": 0.075, \"Rop_tess\": 0.11, \"StephanSpp\": 0.005}, {\"Depth\": 4.95, \"Age\": 5.67, \"A_curv\": 0.035, \"A_octon\": 0.035, \"ActinSpp\": 0.12, \"A_nodul\": 0.02, \"CoscinSpp\": 0.09, \"CyclotSpp\": 0.13, \"Rop_tess\": 0.08, \"StephanSpp\": 0.0}, {\"Depth\": 5.0, \"Age\": 5.72, \"A_curv\": 0.034653465346534656, \"A_octon\": 0.019801980198019802, \"ActinSpp\": 0.11386138613861387, \"A_nodul\": 0.0049504950495049506, \"CoscinSpp\": 0.08415841584158416, \"CyclotSpp\": 0.10891089108910891, \"Rop_tess\": 0.13366336633663367, \"StephanSpp\": 0.0}, {\"Depth\": 5.05, \"Age\": 5.76, \"A_curv\": 0.03755868544600939, \"A_octon\": 0.009389671361502348, \"ActinSpp\": 0.07042253521126761, \"A_nodul\": 0.0, \"CoscinSpp\": 0.046948356807511735, \"CyclotSpp\": 0.13615023474178403, \"Rop_tess\": 0.1643192488262911, \"StephanSpp\": 0.0}, {\"Depth\": 5.1, \"Age\": 5.8, \"A_curv\": 0.024630541871921183, \"A_octon\": 0.019704433497536946, \"ActinSpp\": 0.12807881773399016, \"A_nodul\": 0.0049261083743842365, \"CoscinSpp\": 0.059113300492610835, \"CyclotSpp\": 0.11330049261083744, \"Rop_tess\": 0.14285714285714285, \"StephanSpp\": 0.0}, {\"Depth\": 5.15, \"Age\": 5.85, \"A_curv\": 0.035, \"A_octon\": 0.015, \"ActinSpp\": 0.135, \"A_nodul\": 0.015, \"CoscinSpp\": 0.08, \"CyclotSpp\": 0.04, \"Rop_tess\": 0.19, \"StephanSpp\": 0.0}, {\"Depth\": 5.2, \"Age\": 5.89, \"A_curv\": 0.029850746268656716, \"A_octon\": 0.024875621890547265, \"ActinSpp\": 0.1044776119402985, \"A_nodul\": 0.05472636815920398, \"CoscinSpp\": 0.1044776119402985, \"CyclotSpp\": 0.0845771144278607, \"Rop_tess\": 0.08955223880597014, \"StephanSpp\": 0.0}, {\"Depth\": 5.25, \"Age\": 5.94, \"A_curv\": 0.035, \"A_octon\": 0.01, \"ActinSpp\": 0.24, \"A_nodul\": 0.015, \"CoscinSpp\": 0.07, \"CyclotSpp\": 0.05, \"Rop_tess\": 0.09, \"StephanSpp\": 0.0}, {\"Depth\": 5.3, \"Age\": 5.98, \"A_curv\": 0.025, \"A_octon\": 0.0, \"ActinSpp\": 0.02, \"A_nodul\": 0.005, \"CoscinSpp\": 0.01, \"CyclotSpp\": 0.065, \"Rop_tess\": 0.38, \"StephanSpp\": 0.005}, {\"Depth\": 5.35, \"Age\": 6.02, \"A_curv\": 0.025, \"A_octon\": 0.03, \"ActinSpp\": 0.09, \"A_nodul\": 0.065, \"CoscinSpp\": 0.075, \"CyclotSpp\": 0.16, \"Rop_tess\": 0.07, \"StephanSpp\": 0.0}, {\"Depth\": 5.4, \"Age\": 6.07, \"A_curv\": 0.009950248756218905, \"A_octon\": 0.01990049751243781, \"ActinSpp\": 0.07960199004975124, \"A_nodul\": 0.009950248756218905, \"CoscinSpp\": 0.05970149253731343, \"CyclotSpp\": 0.06467661691542288, \"Rop_tess\": 0.24378109452736318, \"StephanSpp\": 0.0}, {\"Depth\": 5.45, \"Age\": 6.11, \"A_curv\": 0.039473684210526314, \"A_octon\": 0.008771929824561403, \"ActinSpp\": 0.15789473684210525, \"A_nodul\": 0.017543859649122806, \"CoscinSpp\": 0.10964912280701754, \"CyclotSpp\": 0.06578947368421052, \"Rop_tess\": 0.03508771929824561, \"StephanSpp\": 0.008771929824561403}, {\"Depth\": 5.5, \"Age\": 6.15, \"A_curv\": 0.020161290322580645, \"A_octon\": 0.04435483870967742, \"ActinSpp\": 0.05241935483870968, \"A_nodul\": 0.06854838709677419, \"CoscinSpp\": 0.04838709677419355, \"CyclotSpp\": 0.056451612903225805, \"Rop_tess\": 0.11290322580645161, \"StephanSpp\": 0.0}, {\"Depth\": 5.55, \"Age\": 6.2, \"A_curv\": 0.024193548387096774, \"A_octon\": 0.04032258064516129, \"ActinSpp\": 0.06048387096774194, \"A_nodul\": 0.10483870967741936, \"CoscinSpp\": 0.036290322580645164, \"CyclotSpp\": 0.04435483870967742, \"Rop_tess\": 0.09274193548387097, \"StephanSpp\": 0.0}, {\"Depth\": 5.6, \"Age\": 6.24, \"A_curv\": 0.04128440366972477, \"A_octon\": 0.05963302752293578, \"ActinSpp\": 0.0779816513761468, \"A_nodul\": 0.0, \"CoscinSpp\": 0.10091743119266056, \"CyclotSpp\": 0.06422018348623854, \"Rop_tess\": 0.11467889908256881, \"StephanSpp\": 0.0}, {\"Depth\": 5.65, \"Age\": 6.29, \"A_curv\": 0.03686635944700461, \"A_octon\": 0.027649769585253458, \"ActinSpp\": 0.08755760368663594, \"A_nodul\": 0.0, \"CoscinSpp\": 0.06912442396313365, \"CyclotSpp\": 0.09216589861751152, \"Rop_tess\": 0.14746543778801843, \"StephanSpp\": 0.0}, {\"Depth\": 5.7, \"Age\": 6.33, \"A_curv\": 0.012096774193548387, \"A_octon\": 0.016129032258064516, \"ActinSpp\": 0.04435483870967742, \"A_nodul\": 0.0, \"CoscinSpp\": 0.04032258064516129, \"CyclotSpp\": 0.03225806451612903, \"Rop_tess\": 0.2540322580645161, \"StephanSpp\": 0.0}, {\"Depth\": 5.75, \"Age\": 6.37, \"A_curv\": 0.03619909502262444, \"A_octon\": 0.04524886877828054, \"ActinSpp\": 0.08144796380090498, \"A_nodul\": 0.00904977375565611, \"CoscinSpp\": 0.08597285067873303, \"CyclotSpp\": 0.058823529411764705, \"Rop_tess\": 0.13574660633484162, \"StephanSpp\": 0.0}, {\"Depth\": 5.8, \"Age\": 6.42, \"A_curv\": 0.06, \"A_octon\": 0.02, \"ActinSpp\": 0.075, \"A_nodul\": 0.005, \"CoscinSpp\": 0.085, \"CyclotSpp\": 0.09, \"Rop_tess\": 0.17, \"StephanSpp\": 0.0}, {\"Depth\": 5.85, \"Age\": 6.46, \"A_curv\": 0.075, \"A_octon\": 0.015, \"ActinSpp\": 0.14, \"A_nodul\": 0.005, \"CoscinSpp\": 0.09, \"CyclotSpp\": 0.05, \"Rop_tess\": 0.135, \"StephanSpp\": 0.0}, {\"Depth\": 5.9, \"Age\": 6.51, \"A_curv\": 0.024752475247524754, \"A_octon\": 0.0297029702970297, \"ActinSpp\": 0.054455445544554455, \"A_nodul\": 0.0, \"CoscinSpp\": 0.07920792079207921, \"CyclotSpp\": 0.10396039603960396, \"Rop_tess\": 0.20297029702970298, \"StephanSpp\": 0.0}, {\"Depth\": 5.95, \"Age\": 6.55, \"A_curv\": 0.054187192118226604, \"A_octon\": 0.014778325123152709, \"ActinSpp\": 0.12807881773399016, \"A_nodul\": 0.0, \"CoscinSpp\": 0.12315270935960591, \"CyclotSpp\": 0.06896551724137931, \"Rop_tess\": 0.10344827586206896, \"StephanSpp\": 0.0}, {\"Depth\": 6.0, \"Age\": 6.59, \"A_curv\": 0.05, \"A_octon\": 0.01, \"ActinSpp\": 0.185, \"A_nodul\": 0.0, \"CoscinSpp\": 0.06, \"CyclotSpp\": 0.105, \"Rop_tess\": 0.09, \"StephanSpp\": 0.005}, {\"Depth\": 6.05, \"Age\": 6.64, \"A_curv\": 0.013513513513513514, \"A_octon\": 0.009009009009009009, \"ActinSpp\": 0.11711711711711711, \"A_nodul\": 0.009009009009009009, \"CoscinSpp\": 0.14414414414414414, \"CyclotSpp\": 0.05405405405405406, \"Rop_tess\": 0.0945945945945946, \"StephanSpp\": 0.009009009009009009}, {\"Depth\": 6.1, \"Age\": 6.68, \"A_curv\": 0.023809523809523808, \"A_octon\": 0.02857142857142857, \"ActinSpp\": 0.19523809523809524, \"A_nodul\": 0.004761904761904762, \"CoscinSpp\": 0.12380952380952381, \"CyclotSpp\": 0.09047619047619047, \"Rop_tess\": 0.009523809523809525, \"StephanSpp\": 0.0}, {\"Depth\": 6.15, \"Age\": 6.72, \"A_curv\": 0.017777777777777778, \"A_octon\": 0.008888888888888889, \"ActinSpp\": 0.16, \"A_nodul\": 0.0044444444444444444, \"CoscinSpp\": 0.07111111111111111, \"CyclotSpp\": 0.04, \"Rop_tess\": 0.14222222222222222, \"StephanSpp\": 0.0}, {\"Depth\": 6.2, \"Age\": 6.77, \"A_curv\": 0.03404255319148936, \"A_octon\": 0.01276595744680851, \"ActinSpp\": 0.2, \"A_nodul\": 0.0, \"CoscinSpp\": 0.0851063829787234, \"CyclotSpp\": 0.04680851063829787, \"Rop_tess\": 0.04680851063829787, \"StephanSpp\": 0.0}, {\"Depth\": 6.25, \"Age\": 6.81, \"A_curv\": 0.017316017316017316, \"A_octon\": 0.012987012987012988, \"ActinSpp\": 0.11688311688311688, \"A_nodul\": 0.0, \"CoscinSpp\": 0.10822510822510822, \"CyclotSpp\": 0.04329004329004329, \"Rop_tess\": 0.1341991341991342, \"StephanSpp\": 0.0}, {\"Depth\": 6.3, \"Age\": 6.86, \"A_curv\": 0.034653465346534656, \"A_octon\": 0.0297029702970297, \"ActinSpp\": 0.06930693069306931, \"A_nodul\": 0.0, \"CoscinSpp\": 0.04950495049504951, \"CyclotSpp\": 0.09405940594059406, \"Rop_tess\": 0.21782178217821782, \"StephanSpp\": 0.0}, {\"Depth\": 6.35, \"Age\": 6.9, \"A_curv\": 0.01951219512195122, \"A_octon\": 0.004878048780487805, \"ActinSpp\": 0.22926829268292684, \"A_nodul\": 0.0, \"CoscinSpp\": 0.14634146341463414, \"CyclotSpp\": 0.07317073170731707, \"Rop_tess\": 0.014634146341463415, \"StephanSpp\": 0.0}, {\"Depth\": 6.4, \"Age\": 6.94, \"A_curv\": 0.01, \"A_octon\": 0.0, \"ActinSpp\": 0.02, \"A_nodul\": 0.0, \"CoscinSpp\": 0.02, \"CyclotSpp\": 0.025, \"Rop_tess\": 0.435, \"StephanSpp\": 0.0}, {\"Depth\": 6.45, \"Age\": 6.99, \"A_curv\": 0.035398230088495575, \"A_octon\": 0.008849557522123894, \"ActinSpp\": 0.19469026548672566, \"A_nodul\": 0.004424778761061947, \"CoscinSpp\": 0.10176991150442478, \"CyclotSpp\": 0.061946902654867256, \"Rop_tess\": 0.02654867256637168, \"StephanSpp\": 0.008849557522123894}, {\"Depth\": 6.5, \"Age\": 7.03, \"A_curv\": 0.02, \"A_octon\": 0.015, \"ActinSpp\": 0.105, \"A_nodul\": 0.055, \"CoscinSpp\": 0.075, \"CyclotSpp\": 0.06, \"Rop_tess\": 0.175, \"StephanSpp\": 0.005}, {\"Depth\": 6.55, \"Age\": 7.08, \"A_curv\": 0.011904761904761904, \"A_octon\": 0.011904761904761904, \"ActinSpp\": 0.17063492063492064, \"A_nodul\": 0.031746031746031744, \"CoscinSpp\": 0.1111111111111111, \"CyclotSpp\": 0.03571428571428571, \"Rop_tess\": 0.023809523809523808, \"StephanSpp\": 0.003968253968253968}, {\"Depth\": 6.6, \"Age\": 7.12, \"A_curv\": 0.013452914798206279, \"A_octon\": 0.008968609865470852, \"ActinSpp\": 0.17937219730941703, \"A_nodul\": 0.004484304932735426, \"CoscinSpp\": 0.08071748878923767, \"CyclotSpp\": 0.13004484304932734, \"Rop_tess\": 0.03139013452914798, \"StephanSpp\": 0.0}, {\"Depth\": 6.65, \"Age\": 7.16, \"A_curv\": 0.02145922746781116, \"A_octon\": 0.02145922746781116, \"ActinSpp\": 0.11158798283261803, \"A_nodul\": 0.004291845493562232, \"CoscinSpp\": 0.11587982832618025, \"CyclotSpp\": 0.09012875536480687, \"Rop_tess\": 0.06437768240343347, \"StephanSpp\": 0.0}, {\"Depth\": 6.7, \"Age\": 7.21, \"A_curv\": 0.01327433628318584, \"A_octon\": 0.017699115044247787, \"ActinSpp\": 0.1415929203539823, \"A_nodul\": 0.0, \"CoscinSpp\": 0.10619469026548672, \"CyclotSpp\": 0.09292035398230089, \"Rop_tess\": 0.061946902654867256, \"StephanSpp\": 0.0}, {\"Depth\": 6.75, \"Age\": 7.25, \"A_curv\": 0.04128440366972477, \"A_octon\": 0.03211009174311927, \"ActinSpp\": 0.10550458715596331, \"A_nodul\": 0.0, \"CoscinSpp\": 0.10550458715596331, \"CyclotSpp\": 0.07339449541284404, \"Rop_tess\": 0.0963302752293578, \"StephanSpp\": 0.0045871559633027525}, {\"Depth\": 6.8, \"Age\": 7.29, \"A_curv\": 0.00816326530612245, \"A_octon\": 0.02040816326530612, \"ActinSpp\": 0.0653061224489796, \"A_nodul\": 0.0, \"CoscinSpp\": 0.02857142857142857, \"CyclotSpp\": 0.04897959183673469, \"Rop_tess\": 0.23673469387755103, \"StephanSpp\": 0.0}, {\"Depth\": 6.85, \"Age\": 7.34, \"A_curv\": 0.008547008547008548, \"A_octon\": 0.017094017094017096, \"ActinSpp\": 0.07692307692307693, \"A_nodul\": 0.0, \"CoscinSpp\": 0.06837606837606838, \"CyclotSpp\": 0.029914529914529916, \"Rop_tess\": 0.2264957264957265, \"StephanSpp\": 0.0}, {\"Depth\": 6.9, \"Age\": 7.38, \"A_curv\": 0.04, \"A_octon\": 0.025, \"ActinSpp\": 0.08, \"A_nodul\": 0.0, \"CoscinSpp\": 0.145, \"CyclotSpp\": 0.02, \"Rop_tess\": 0.19, \"StephanSpp\": 0.005}, {\"Depth\": 6.95, \"Age\": 7.43, \"A_curv\": 0.05, \"A_octon\": 0.025, \"ActinSpp\": 0.135, \"A_nodul\": 0.005, \"CoscinSpp\": 0.16, \"CyclotSpp\": 0.04, \"Rop_tess\": 0.09, \"StephanSpp\": 0.0}, {\"Depth\": 7.0, \"Age\": 7.47, \"A_curv\": 0.014634146341463415, \"A_octon\": 0.01951219512195122, \"ActinSpp\": 0.08780487804878048, \"A_nodul\": 0.004878048780487805, \"CoscinSpp\": 0.1073170731707317, \"CyclotSpp\": 0.01951219512195122, \"Rop_tess\": 0.22926829268292684, \"StephanSpp\": 0.004878048780487805}, {\"Depth\": 7.05, \"Age\": 7.51, \"A_curv\": 0.028455284552845527, \"A_octon\": 0.016260162601626018, \"ActinSpp\": 0.17073170731707318, \"A_nodul\": 0.0, \"CoscinSpp\": 0.08943089430894309, \"CyclotSpp\": 0.06097560975609756, \"Rop_tess\": 0.04065040650406504, \"StephanSpp\": 0.0}, {\"Depth\": 7.1, \"Age\": 7.56, \"A_curv\": 0.029166666666666667, \"A_octon\": 0.0125, \"ActinSpp\": 0.14166666666666666, \"A_nodul\": 0.0, \"CoscinSpp\": 0.1, \"CyclotSpp\": 0.058333333333333334, \"Rop_tess\": 0.075, \"StephanSpp\": 0.0}, {\"Depth\": 7.15, \"Age\": 7.6, \"A_curv\": 0.04975124378109453, \"A_octon\": 0.01990049751243781, \"ActinSpp\": 0.08955223880597014, \"A_nodul\": 0.0, \"CoscinSpp\": 0.0845771144278607, \"CyclotSpp\": 0.03482587064676617, \"Rop_tess\": 0.18407960199004975, \"StephanSpp\": 0.024875621890547265}, {\"Depth\": 7.2, \"Age\": 7.65, \"A_curv\": 0.01937984496124031, \"A_octon\": 0.027131782945736434, \"ActinSpp\": 0.12403100775193798, \"A_nodul\": 0.0, \"CoscinSpp\": 0.08139534883720931, \"CyclotSpp\": 0.05426356589147287, \"Rop_tess\": 0.08139534883720931, \"StephanSpp\": 0.0}, {\"Depth\": 7.25, \"Age\": 7.69, \"A_curv\": 0.015, \"A_octon\": 0.025, \"ActinSpp\": 0.215, \"A_nodul\": 0.0, \"CoscinSpp\": 0.12, \"CyclotSpp\": 0.055, \"Rop_tess\": 0.075, \"StephanSpp\": 0.0}, {\"Depth\": 7.3, \"Age\": 7.73, \"A_curv\": 0.0075, \"A_octon\": 0.005, \"ActinSpp\": 0.03, \"A_nodul\": 0.0, \"CoscinSpp\": 0.02, \"CyclotSpp\": 0.01, \"Rop_tess\": 0.1775, \"StephanSpp\": 0.0}, {\"Depth\": 7.35, \"Age\": 7.78, \"A_curv\": 0.013392857142857142, \"A_octon\": 0.017857142857142856, \"ActinSpp\": 0.14732142857142858, \"A_nodul\": 0.0, \"CoscinSpp\": 0.12946428571428573, \"CyclotSpp\": 0.07142857142857142, \"Rop_tess\": 0.06696428571428571, \"StephanSpp\": 0.004464285714285714}, {\"Depth\": 7.4, \"Age\": 7.82, \"A_curv\": 0.04, \"A_octon\": 0.015, \"ActinSpp\": 0.165, \"A_nodul\": 0.005, \"CoscinSpp\": 0.115, \"CyclotSpp\": 0.08, \"Rop_tess\": 0.085, \"StephanSpp\": 0.005}, {\"Depth\": 7.45, \"Age\": 7.87, \"A_curv\": 0.0049504950495049506, \"A_octon\": 0.034653465346534656, \"ActinSpp\": 0.0891089108910891, \"A_nodul\": 0.0, \"CoscinSpp\": 0.04950495049504951, \"CyclotSpp\": 0.06930693069306931, \"Rop_tess\": 0.24752475247524752, \"StephanSpp\": 0.0}, {\"Depth\": 7.5, \"Age\": 7.91, \"A_curv\": 0.019801980198019802, \"A_octon\": 0.009900990099009901, \"ActinSpp\": 0.14356435643564355, \"A_nodul\": 0.009900990099009901, \"CoscinSpp\": 0.08415841584158416, \"CyclotSpp\": 0.04455445544554455, \"Rop_tess\": 0.1782178217821782, \"StephanSpp\": 0.0}, {\"Depth\": 7.55, \"Age\": 7.95, \"A_curv\": 0.023696682464454975, \"A_octon\": 0.05687203791469194, \"ActinSpp\": 0.14691943127962084, \"A_nodul\": 0.0, \"CoscinSpp\": 0.12796208530805686, \"CyclotSpp\": 0.07582938388625593, \"Rop_tess\": 0.04265402843601896, \"StephanSpp\": 0.0}, {\"Depth\": 7.6, \"Age\": 8.0, \"A_curv\": 0.024630541871921183, \"A_octon\": 0.054187192118226604, \"ActinSpp\": 0.14285714285714285, \"A_nodul\": 0.0, \"CoscinSpp\": 0.06896551724137931, \"CyclotSpp\": 0.09852216748768473, \"Rop_tess\": 0.10344827586206896, \"StephanSpp\": 0.0}, {\"Depth\": 7.65, \"Age\": 8.04, \"A_curv\": 0.019704433497536946, \"A_octon\": 0.0049261083743842365, \"ActinSpp\": 0.04926108374384237, \"A_nodul\": 0.0, \"CoscinSpp\": 0.009852216748768473, \"CyclotSpp\": 0.04433497536945813, \"Rop_tess\": 0.35467980295566504, \"StephanSpp\": 0.0}, {\"Depth\": 7.7, \"Age\": 8.08, \"A_curv\": 0.034482758620689655, \"A_octon\": 0.06403940886699508, \"ActinSpp\": 0.12807881773399016, \"A_nodul\": 0.0, \"CoscinSpp\": 0.07881773399014778, \"CyclotSpp\": 0.10837438423645321, \"Rop_tess\": 0.06403940886699508, \"StephanSpp\": 0.014778325123152709}, {\"Depth\": 7.75, \"Age\": 8.13, \"A_curv\": 0.021367521367521368, \"A_octon\": 0.02564102564102564, \"ActinSpp\": 0.1452991452991453, \"A_nodul\": 0.004273504273504274, \"CoscinSpp\": 0.08547008547008547, \"CyclotSpp\": 0.1282051282051282, \"Rop_tess\": 0.017094017094017096, \"StephanSpp\": 0.0}, {\"Depth\": 7.8, \"Age\": 8.17, \"A_curv\": 0.024390243902439025, \"A_octon\": 0.024390243902439025, \"ActinSpp\": 0.08292682926829269, \"A_nodul\": 0.004878048780487805, \"CoscinSpp\": 0.07317073170731707, \"CyclotSpp\": 0.12195121951219512, \"Rop_tess\": 0.15121951219512195, \"StephanSpp\": 0.0}, {\"Depth\": 8.3, \"Age\": 8.61, \"A_curv\": 0.019801980198019802, \"A_octon\": 0.009900990099009901, \"ActinSpp\": 0.13366336633663367, \"A_nodul\": 0.0, \"CoscinSpp\": 0.0891089108910891, \"CyclotSpp\": 0.0049504950495049506, \"Rop_tess\": 0.2376237623762376, \"StephanSpp\": 0.0}, {\"Depth\": 8.35, \"Age\": 8.65, \"A_curv\": 0.047619047619047616, \"A_octon\": 0.009523809523809525, \"ActinSpp\": 0.14285714285714285, \"A_nodul\": 0.0, \"CoscinSpp\": 0.19523809523809524, \"CyclotSpp\": 0.047619047619047616, \"Rop_tess\": 0.02857142857142857, \"StephanSpp\": 0.0}, {\"Depth\": 8.4, \"Age\": 8.7, \"A_curv\": 0.014634146341463415, \"A_octon\": 0.024390243902439025, \"ActinSpp\": 0.1902439024390244, \"A_nodul\": 0.0, \"CoscinSpp\": 0.12682926829268293, \"CyclotSpp\": 0.014634146341463415, \"Rop_tess\": 0.11219512195121951, \"StephanSpp\": 0.0}, {\"Depth\": 8.45, \"Age\": 8.74, \"A_curv\": 0.024875621890547265, \"A_octon\": 0.18407960199004975, \"ActinSpp\": 0.11442786069651742, \"A_nodul\": 0.0, \"CoscinSpp\": 0.12935323383084577, \"CyclotSpp\": 0.004975124378109453, \"Rop_tess\": 0.029850746268656716, \"StephanSpp\": 0.0}, {\"Depth\": 8.5, \"Age\": 8.79, \"A_curv\": 0.025, \"A_octon\": 0.01, \"ActinSpp\": 0.135, \"A_nodul\": 0.0, \"CoscinSpp\": 0.11, \"CyclotSpp\": 0.055, \"Rop_tess\": 0.165, \"StephanSpp\": 0.005}, {\"Depth\": 8.55, \"Age\": 8.83, \"A_curv\": 0.00980392156862745, \"A_octon\": 0.00980392156862745, \"ActinSpp\": 0.24019607843137256, \"A_nodul\": 0.0, \"CoscinSpp\": 0.06862745098039216, \"CyclotSpp\": 0.03431372549019608, \"Rop_tess\": 0.12745098039215685, \"StephanSpp\": 0.0}, {\"Depth\": 8.6, \"Age\": 8.87, \"A_curv\": 0.013636363636363636, \"A_octon\": 0.01818181818181818, \"ActinSpp\": 0.22272727272727272, \"A_nodul\": 0.0, \"CoscinSpp\": 0.12727272727272726, \"CyclotSpp\": 0.03636363636363636, \"Rop_tess\": 0.03636363636363636, \"StephanSpp\": 0.0}, {\"Depth\": 8.65, \"Age\": 8.92, \"A_curv\": 0.0048543689320388345, \"A_octon\": 0.0048543689320388345, \"ActinSpp\": 0.2087378640776699, \"A_nodul\": 0.0, \"CoscinSpp\": 0.043689320388349516, \"CyclotSpp\": 0.11165048543689321, \"Rop_tess\": 0.11165048543689321, \"StephanSpp\": 0.0}, {\"Depth\": 8.7, \"Age\": 8.96, \"A_curv\": 0.03482587064676617, \"A_octon\": 0.014925373134328358, \"ActinSpp\": 0.24378109452736318, \"A_nodul\": 0.0, \"CoscinSpp\": 0.12437810945273632, \"CyclotSpp\": 0.04477611940298507, \"Rop_tess\": 0.024875621890547265, \"StephanSpp\": 0.0}, {\"Depth\": 9.5, \"Age\": 10.1, \"A_curv\": 0.04, \"A_octon\": 0.015, \"ActinSpp\": 0.22, \"A_nodul\": 0.0, \"CoscinSpp\": 0.06, \"CyclotSpp\": 0.05, \"Rop_tess\": 0.125, \"StephanSpp\": 0.0}, {\"Depth\": 9.55, \"Age\": 10.18, \"A_curv\": 0.025, \"A_octon\": 0.005, \"ActinSpp\": 0.165, \"A_nodul\": 0.0, \"CoscinSpp\": 0.06, \"CyclotSpp\": 0.025, \"Rop_tess\": 0.225, \"StephanSpp\": 0.0}, {\"Depth\": 9.6, \"Age\": 10.27, \"A_curv\": 0.04477611940298507, \"A_octon\": 0.014925373134328358, \"ActinSpp\": 0.263681592039801, \"A_nodul\": 0.004975124378109453, \"CoscinSpp\": 0.08955223880597014, \"CyclotSpp\": 0.004975124378109453, \"Rop_tess\": 0.04975124378109453, \"StephanSpp\": 0.01990049751243781}, {\"Depth\": 9.65, \"Age\": 10.35, \"A_curv\": 0.024752475247524754, \"A_octon\": 0.0297029702970297, \"ActinSpp\": 0.15841584158415842, \"A_nodul\": 0.0049504950495049506, \"CoscinSpp\": 0.09900990099009901, \"CyclotSpp\": 0.04455445544554455, \"Rop_tess\": 0.12871287128712872, \"StephanSpp\": 0.0}, {\"Depth\": 9.7, \"Age\": 10.43, \"A_curv\": 0.054455445544554455, \"A_octon\": 0.009900990099009901, \"ActinSpp\": 0.22772277227722773, \"A_nodul\": 0.0, \"CoscinSpp\": 0.13861386138613863, \"CyclotSpp\": 0.0297029702970297, \"Rop_tess\": 0.024752475247524754, \"StephanSpp\": 0.009900990099009901}, {\"Depth\": 9.75, \"Age\": 10.52, \"A_curv\": 0.06403940886699508, \"A_octon\": 0.04926108374384237, \"ActinSpp\": 0.14285714285714285, \"A_nodul\": 0.0, \"CoscinSpp\": 0.09852216748768473, \"CyclotSpp\": 0.06896551724137931, \"Rop_tess\": 0.06403940886699508, \"StephanSpp\": 0.0}, {\"Depth\": 9.8, \"Age\": 10.6, \"A_curv\": 0.075, \"A_octon\": 0.01, \"ActinSpp\": 0.2, \"A_nodul\": 0.005, \"CoscinSpp\": 0.125, \"CyclotSpp\": 0.015, \"Rop_tess\": 0.08, \"StephanSpp\": 0.0}, {\"Depth\": 9.85, \"Age\": 10.68, \"A_curv\": 0.06, \"A_octon\": 0.01, \"ActinSpp\": 0.25, \"A_nodul\": 0.06, \"CoscinSpp\": 0.105, \"CyclotSpp\": 0.005, \"Rop_tess\": 0.02, \"StephanSpp\": 0.0}, {\"Depth\": 9.9, \"Age\": 10.77, \"A_curv\": 0.029850746268656716, \"A_octon\": 0.004975124378109453, \"ActinSpp\": 0.24875621890547264, \"A_nodul\": 0.07960199004975124, \"CoscinSpp\": 0.06965174129353234, \"CyclotSpp\": 0.029850746268656716, \"Rop_tess\": 0.029850746268656716, \"StephanSpp\": 0.0}, {\"Depth\": 9.95, \"Age\": 10.85, \"A_curv\": 0.034653465346534656, \"A_octon\": 0.009900990099009901, \"ActinSpp\": 0.22772277227722773, \"A_nodul\": 0.04950495049504951, \"CoscinSpp\": 0.13366336633663367, \"CyclotSpp\": 0.019801980198019802, \"Rop_tess\": 0.0049504950495049506, \"StephanSpp\": 0.0049504950495049506}, {\"Depth\": 10.0, \"Age\": 10.93, \"A_curv\": 0.01990049751243781, \"A_octon\": 0.014925373134328358, \"ActinSpp\": 0.19900497512437812, \"A_nodul\": 0.11442786069651742, \"CoscinSpp\": 0.13432835820895522, \"CyclotSpp\": 0.0, \"Rop_tess\": 0.009950248756218905, \"StephanSpp\": 0.0}, {\"Depth\": 10.05, \"Age\": 11.02, \"A_curv\": 0.04433497536945813, \"A_octon\": 0.0049261083743842365, \"ActinSpp\": 0.2561576354679803, \"A_nodul\": 0.08866995073891626, \"CoscinSpp\": 0.06403940886699508, \"CyclotSpp\": 0.024630541871921183, \"Rop_tess\": 0.0049261083743842365, \"StephanSpp\": 0.0}, {\"Depth\": 10.1, \"Age\": 11.1, \"A_curv\": 0.034482758620689655, \"A_octon\": 0.0049261083743842365, \"ActinSpp\": 0.16748768472906403, \"A_nodul\": 0.054187192118226604, \"CoscinSpp\": 0.1625615763546798, \"CyclotSpp\": 0.024630541871921183, \"Rop_tess\": 0.029556650246305417, \"StephanSpp\": 0.0049261083743842365}, {\"Depth\": 10.15, \"Age\": 11.18, \"A_curv\": 0.054455445544554455, \"A_octon\": 0.0, \"ActinSpp\": 0.15346534653465346, \"A_nodul\": 0.09900990099009901, \"CoscinSpp\": 0.09900990099009901, \"CyclotSpp\": 0.01485148514851485, \"Rop_tess\": 0.06435643564356436, \"StephanSpp\": 0.0049504950495049506}, {\"Depth\": 10.2, \"Age\": 11.27, \"A_curv\": 0.0196078431372549, \"A_octon\": 0.0, \"ActinSpp\": 0.15196078431372548, \"A_nodul\": 0.058823529411764705, \"CoscinSpp\": 0.14215686274509803, \"CyclotSpp\": 0.04411764705882353, \"Rop_tess\": 0.07352941176470588, \"StephanSpp\": 0.0}, {\"Depth\": 10.25, \"Age\": 11.35, \"A_curv\": 0.03902439024390244, \"A_octon\": 0.00975609756097561, \"ActinSpp\": 0.17560975609756097, \"A_nodul\": 0.08780487804878048, \"CoscinSpp\": 0.08780487804878048, \"CyclotSpp\": 0.05853658536585366, \"Rop_tess\": 0.02926829268292683, \"StephanSpp\": 0.0}, {\"Depth\": 10.3, \"Age\": 11.43, \"A_curv\": 0.024509803921568627, \"A_octon\": 0.004901960784313725, \"ActinSpp\": 0.13725490196078433, \"A_nodul\": 0.049019607843137254, \"CoscinSpp\": 0.12745098039215685, \"CyclotSpp\": 0.024509803921568627, \"Rop_tess\": 0.12254901960784313, \"StephanSpp\": 0.0}, {\"Depth\": 10.35, \"Age\": 11.52, \"A_curv\": 0.01990049751243781, \"A_octon\": 0.01990049751243781, \"ActinSpp\": 0.19900497512437812, \"A_nodul\": 0.04975124378109453, \"CoscinSpp\": 0.12935323383084577, \"CyclotSpp\": 0.03482587064676617, \"Rop_tess\": 0.03980099502487562, \"StephanSpp\": 0.0}, {\"Depth\": 10.4, \"Age\": 11.6, \"A_curv\": 0.034482758620689655, \"A_octon\": 0.009852216748768473, \"ActinSpp\": 0.22660098522167488, \"A_nodul\": 0.024630541871921183, \"CoscinSpp\": 0.12807881773399016, \"CyclotSpp\": 0.029556650246305417, \"Rop_tess\": 0.034482758620689655, \"StephanSpp\": 0.0}, {\"Depth\": 10.45, \"Age\": 11.68, \"A_curv\": 0.009950248756218905, \"A_octon\": 0.024875621890547265, \"ActinSpp\": 0.18407960199004975, \"A_nodul\": 0.11442786069651742, \"CoscinSpp\": 0.09950248756218906, \"CyclotSpp\": 0.04477611940298507, \"Rop_tess\": 0.014925373134328358, \"StephanSpp\": 0.0}, {\"Depth\": 10.5, \"Age\": 11.77, \"A_curv\": 0.0, \"A_octon\": 0.0048543689320388345, \"ActinSpp\": 0.0970873786407767, \"A_nodul\": 0.13592233009708737, \"CoscinSpp\": 0.1407766990291262, \"CyclotSpp\": 0.0825242718446602, \"Rop_tess\": 0.024271844660194174, \"StephanSpp\": 0.0}, {\"Depth\": 10.55, \"Age\": 11.85, \"A_curv\": 0.0, \"A_octon\": 0.004807692307692308, \"ActinSpp\": 0.038461538461538464, \"A_nodul\": 0.28846153846153844, \"CoscinSpp\": 0.10576923076923077, \"CyclotSpp\": 0.038461538461538464, \"Rop_tess\": 0.004807692307692308, \"StephanSpp\": 0.0}, {\"Depth\": 10.6, \"Age\": 11.93, \"A_curv\": 0.009615384615384616, \"A_octon\": 0.0, \"ActinSpp\": 0.09134615384615384, \"A_nodul\": 0.1971153846153846, \"CoscinSpp\": 0.1201923076923077, \"CyclotSpp\": 0.052884615384615384, \"Rop_tess\": 0.0, \"StephanSpp\": 0.0}, {\"Depth\": 10.65, \"Age\": 12.02, \"A_curv\": 0.0049504950495049506, \"A_octon\": 0.0049504950495049506, \"ActinSpp\": 0.06930693069306931, \"A_nodul\": 0.30198019801980197, \"CoscinSpp\": 0.054455445544554455, \"CyclotSpp\": 0.054455445544554455, \"Rop_tess\": 0.0, \"StephanSpp\": 0.0}, {\"Depth\": 10.7, \"Age\": 12.1, \"A_curv\": 0.0049261083743842365, \"A_octon\": 0.009852216748768473, \"ActinSpp\": 0.04926108374384237, \"A_nodul\": 0.3054187192118227, \"CoscinSpp\": 0.06896551724137931, \"CyclotSpp\": 0.04926108374384237, \"Rop_tess\": 0.0, \"StephanSpp\": 0.0}, {\"Depth\": 10.75, \"Age\": 12.18, \"A_curv\": 0.019704433497536946, \"A_octon\": 0.0049261083743842365, \"ActinSpp\": 0.034482758620689655, \"A_nodul\": 0.31527093596059114, \"CoscinSpp\": 0.06403940886699508, \"CyclotSpp\": 0.054187192118226604, \"Rop_tess\": 0.0, \"StephanSpp\": 0.0}, {\"Depth\": 10.8, \"Age\": 12.27, \"A_curv\": 0.009900990099009901, \"A_octon\": 0.0049504950495049506, \"ActinSpp\": 0.06930693069306931, \"A_nodul\": 0.26732673267326734, \"CoscinSpp\": 0.08415841584158416, \"CyclotSpp\": 0.054455445544554455, \"Rop_tess\": 0.0049504950495049506, \"StephanSpp\": 0.0}, {\"Depth\": 10.85, \"Age\": 12.35, \"A_curv\": 0.00975609756097561, \"A_octon\": 0.004878048780487805, \"ActinSpp\": 0.05853658536585366, \"A_nodul\": 0.2926829268292683, \"CoscinSpp\": 0.07804878048780488, \"CyclotSpp\": 0.03902439024390244, \"Rop_tess\": 0.0, \"StephanSpp\": 0.0}, {\"Depth\": 10.9, \"Age\": 12.43, \"A_curv\": 0.004901960784313725, \"A_octon\": 0.00980392156862745, \"ActinSpp\": 0.06372549019607843, \"A_nodul\": 0.25980392156862747, \"CoscinSpp\": 0.09313725490196079, \"CyclotSpp\": 0.05392156862745098, \"Rop_tess\": 0.0, \"StephanSpp\": 0.0}, {\"Depth\": 10.95, \"Age\": 12.52, \"A_curv\": 0.009852216748768473, \"A_octon\": 0.009852216748768473, \"ActinSpp\": 0.06896551724137931, \"A_nodul\": 0.2512315270935961, \"CoscinSpp\": 0.08866995073891626, \"CyclotSpp\": 0.059113300492610835, \"Rop_tess\": 0.0049261083743842365, \"StephanSpp\": 0.0}, {\"Depth\": 11.0, \"Age\": 12.64, \"A_curv\": 0.0049504950495049506, \"A_octon\": 0.009900990099009901, \"ActinSpp\": 0.09405940594059406, \"A_nodul\": 0.21287128712871287, \"CoscinSpp\": 0.10891089108910891, \"CyclotSpp\": 0.0594059405940594, \"Rop_tess\": 0.0, \"StephanSpp\": 0.0049504950495049506}, {\"Depth\": 11.05, \"Age\": 12.73, \"A_curv\": 0.0049504950495049506, \"A_octon\": 0.0049504950495049506, \"ActinSpp\": 0.06435643564356436, \"A_nodul\": 0.25742574257425743, \"CoscinSpp\": 0.09405940594059406, \"CyclotSpp\": 0.054455445544554455, \"Rop_tess\": 0.0049504950495049506, \"StephanSpp\": 0.0}, {\"Depth\": 11.35, \"Age\": 13.08, \"A_curv\": 0.023923444976076555, \"A_octon\": 0.03827751196172249, \"ActinSpp\": 0.17703349282296652, \"A_nodul\": 0.1339712918660287, \"CoscinSpp\": 0.06698564593301436, \"CyclotSpp\": 0.023923444976076555, \"Rop_tess\": 0.0, \"StephanSpp\": 0.004784688995215311}, {\"Depth\": 11.4, \"Age\": 13.12, \"A_curv\": 0.0196078431372549, \"A_octon\": 0.0392156862745098, \"ActinSpp\": 0.10294117647058823, \"A_nodul\": 0.25980392156862747, \"CoscinSpp\": 0.05392156862745098, \"CyclotSpp\": 0.014705882352941176, \"Rop_tess\": 0.0, \"StephanSpp\": 0.0}, {\"Depth\": 11.45, \"Age\": 13.17, \"A_curv\": 0.009708737864077669, \"A_octon\": 0.038834951456310676, \"ActinSpp\": 0.1407766990291262, \"A_nodul\": 0.18446601941747573, \"CoscinSpp\": 0.10194174757281553, \"CyclotSpp\": 0.009708737864077669, \"Rop_tess\": 0.0, \"StephanSpp\": 0.0}, {\"Depth\": 11.5, \"Age\": 13.21, \"A_curv\": 0.054187192118226604, \"A_octon\": 0.019704433497536946, \"ActinSpp\": 0.14285714285714285, \"A_nodul\": 0.12807881773399016, \"CoscinSpp\": 0.11822660098522167, \"CyclotSpp\": 0.024630541871921183, \"Rop_tess\": 0.0, \"StephanSpp\": 0.0}, {\"Depth\": 11.55, \"Age\": 13.26, \"A_curv\": 0.00980392156862745, \"A_octon\": 0.0, \"ActinSpp\": 0.2107843137254902, \"A_nodul\": 0.18627450980392157, \"CoscinSpp\": 0.06862745098039216, \"CyclotSpp\": 0.00980392156862745, \"Rop_tess\": 0.0, \"StephanSpp\": 0.0}, {\"Depth\": 11.6, \"Age\": 13.3, \"A_curv\": 0.05263157894736842, \"A_octon\": 0.019138755980861243, \"ActinSpp\": 0.15311004784688995, \"A_nodul\": 0.11961722488038277, \"CoscinSpp\": 0.07177033492822966, \"CyclotSpp\": 0.05741626794258373, \"Rop_tess\": 0.0, \"StephanSpp\": 0.004784688995215311}, {\"Depth\": 11.65, \"Age\": 13.35, \"A_curv\": 0.02912621359223301, \"A_octon\": 0.03398058252427184, \"ActinSpp\": 0.1407766990291262, \"A_nodul\": 0.1262135922330097, \"CoscinSpp\": 0.1262135922330097, \"CyclotSpp\": 0.024271844660194174, \"Rop_tess\": 0.0, \"StephanSpp\": 0.0}, {\"Depth\": 11.7, \"Age\": 13.39, \"A_curv\": 0.029411764705882353, \"A_octon\": 0.00980392156862745, \"ActinSpp\": 0.20588235294117646, \"A_nodul\": 0.13725490196078433, \"CoscinSpp\": 0.08823529411764706, \"CyclotSpp\": 0.014705882352941176, \"Rop_tess\": 0.0, \"StephanSpp\": 0.0}, {\"Depth\": 11.75, \"Age\": 13.44, \"A_curv\": 0.10396039603960396, \"A_octon\": 0.0049504950495049506, \"ActinSpp\": 0.16336633663366337, \"A_nodul\": 0.0297029702970297, \"CoscinSpp\": 0.07425742574257425, \"CyclotSpp\": 0.10891089108910891, \"Rop_tess\": 0.0049504950495049506, \"StephanSpp\": 0.0}, {\"Depth\": 11.8, \"Age\": 13.48, \"A_curv\": 0.014705882352941176, \"A_octon\": 0.0196078431372549, \"ActinSpp\": 0.16666666666666666, \"A_nodul\": 0.14215686274509803, \"CoscinSpp\": 0.09313725490196079, \"CyclotSpp\": 0.04411764705882353, \"Rop_tess\": 0.00980392156862745, \"StephanSpp\": 0.0}, {\"Depth\": 11.85, \"Age\": 13.53, \"A_curv\": 0.03940886699507389, \"A_octon\": 0.009852216748768473, \"ActinSpp\": 0.18719211822660098, \"A_nodul\": 0.13793103448275862, \"CoscinSpp\": 0.07389162561576355, \"CyclotSpp\": 0.03940886699507389, \"Rop_tess\": 0.0049261083743842365, \"StephanSpp\": 0.0}, {\"Depth\": 11.9, \"Age\": 13.57, \"A_curv\": 0.00980392156862745, \"A_octon\": 0.014705882352941176, \"ActinSpp\": 0.17647058823529413, \"A_nodul\": 0.1568627450980392, \"CoscinSpp\": 0.07352941176470588, \"CyclotSpp\": 0.049019607843137254, \"Rop_tess\": 0.0, \"StephanSpp\": 0.004901960784313725}, {\"Depth\": 11.95, \"Age\": 13.61, \"A_curv\": 0.11386138613861387, \"A_octon\": 0.01485148514851485, \"ActinSpp\": 0.19306930693069307, \"A_nodul\": 0.04950495049504951, \"CoscinSpp\": 0.08415841584158416, \"CyclotSpp\": 0.0297029702970297, \"Rop_tess\": 0.0, \"StephanSpp\": 0.0}, {\"Depth\": 12.0, \"Age\": 13.66, \"A_curv\": 0.05365853658536585, \"A_octon\": 0.02926829268292683, \"ActinSpp\": 0.2097560975609756, \"A_nodul\": 0.09268292682926829, \"CoscinSpp\": 0.06341463414634146, \"CyclotSpp\": 0.03902439024390244, \"Rop_tess\": 0.0, \"StephanSpp\": 0.0}, {\"Depth\": 12.05, \"Age\": 13.7, \"A_curv\": 0.014354066985645933, \"A_octon\": 0.009569377990430622, \"ActinSpp\": 0.04784688995215311, \"A_nodul\": 0.24401913875598086, \"CoscinSpp\": 0.0430622009569378, \"CyclotSpp\": 0.04784688995215311, \"Rop_tess\": 0.07655502392344497, \"StephanSpp\": 0.0}, {\"Depth\": 12.1, \"Age\": 13.75, \"A_curv\": 0.04926108374384237, \"A_octon\": 0.014778325123152709, \"ActinSpp\": 0.1477832512315271, \"A_nodul\": 0.1477832512315271, \"CoscinSpp\": 0.10344827586206896, \"CyclotSpp\": 0.029556650246305417, \"Rop_tess\": 0.0, \"StephanSpp\": 0.0}, {\"Depth\": 12.15, \"Age\": 13.79, \"A_curv\": 0.019230769230769232, \"A_octon\": 0.038461538461538464, \"ActinSpp\": 0.12980769230769232, \"A_nodul\": 0.18269230769230768, \"CoscinSpp\": 0.052884615384615384, \"CyclotSpp\": 0.057692307692307696, \"Rop_tess\": 0.0, \"StephanSpp\": 0.0}, {\"Depth\": 11.1, \"Age\": 12.82, \"A_curv\": 0.0, \"A_octon\": 0.004901960784313725, \"ActinSpp\": 0.06862745098039216, \"A_nodul\": 0.22549019607843138, \"CoscinSpp\": 0.1323529411764706, \"CyclotSpp\": 0.049019607843137254, \"Rop_tess\": 0.0, \"StephanSpp\": 0.0}, {\"Depth\": 11.15, \"Age\": 12.9, \"A_curv\": 0.0, \"A_octon\": 0.009900990099009901, \"ActinSpp\": 0.0891089108910891, \"A_nodul\": 0.23267326732673269, \"CoscinSpp\": 0.11386138613861387, \"CyclotSpp\": 0.04455445544554455, \"Rop_tess\": 0.0049504950495049506, \"StephanSpp\": 0.0}, {\"Depth\": 11.2, \"Age\": 12.94, \"A_curv\": 0.004901960784313725, \"A_octon\": 0.00980392156862745, \"ActinSpp\": 0.09803921568627451, \"A_nodul\": 0.24509803921568626, \"CoscinSpp\": 0.09803921568627451, \"CyclotSpp\": 0.029411764705882353, \"Rop_tess\": 0.0, \"StephanSpp\": 0.0}, {\"Depth\": 11.25, \"Age\": 12.99, \"A_curv\": 0.00980392156862745, \"A_octon\": 0.0196078431372549, \"ActinSpp\": 0.19117647058823528, \"A_nodul\": 0.08823529411764706, \"CoscinSpp\": 0.16176470588235295, \"CyclotSpp\": 0.014705882352941176, \"Rop_tess\": 0.0, \"StephanSpp\": 0.004901960784313725}, {\"Depth\": 11.3, \"Age\": 13.03, \"A_curv\": 0.00980392156862745, \"A_octon\": 0.0392156862745098, \"ActinSpp\": 0.06372549019607843, \"A_nodul\": 0.24509803921568626, \"CoscinSpp\": 0.07352941176470588, \"CyclotSpp\": 0.0392156862745098, \"Rop_tess\": 0.014705882352941176, \"StephanSpp\": 0.0}, {\"Depth\": 12.2, \"Age\": 13.84, \"A_curv\": 0.054187192118226604, \"A_octon\": 0.014778325123152709, \"ActinSpp\": 0.2660098522167488, \"A_nodul\": 0.06896551724137931, \"CoscinSpp\": 0.04926108374384237, \"CyclotSpp\": 0.029556650246305417, \"Rop_tess\": 0.0, \"StephanSpp\": 0.0049261083743842365}, {\"Depth\": 12.25, \"Age\": 13.88, \"A_curv\": 0.04411764705882353, \"A_octon\": 0.004901960784313725, \"ActinSpp\": 0.1568627450980392, \"A_nodul\": 0.09803921568627451, \"CoscinSpp\": 0.12745098039215685, \"CyclotSpp\": 0.049019607843137254, \"Rop_tess\": 0.004901960784313725, \"StephanSpp\": 0.0}, {\"Depth\": 12.3, \"Age\": 13.93, \"A_curv\": 0.06435643564356436, \"A_octon\": 0.009900990099009901, \"ActinSpp\": 0.12871287128712872, \"A_nodul\": 0.15346534653465346, \"CoscinSpp\": 0.0891089108910891, \"CyclotSpp\": 0.039603960396039604, \"Rop_tess\": 0.0, \"StephanSpp\": 0.0049504950495049506}, {\"Depth\": 12.35, \"Age\": 13.97, \"A_curv\": 0.00980392156862745, \"A_octon\": 0.004901960784313725, \"ActinSpp\": 0.12745098039215685, \"A_nodul\": 0.21568627450980393, \"CoscinSpp\": 0.10294117647058823, \"CyclotSpp\": 0.029411764705882353, \"Rop_tess\": 0.0, \"StephanSpp\": 0.0}, {\"Depth\": 12.4, \"Age\": 14.02, \"A_curv\": 0.03940886699507389, \"A_octon\": 0.009852216748768473, \"ActinSpp\": 0.22167487684729065, \"A_nodul\": 0.11330049261083744, \"CoscinSpp\": 0.06896551724137931, \"CyclotSpp\": 0.03940886699507389, \"Rop_tess\": 0.0, \"StephanSpp\": 0.0}, {\"Depth\": 12.45, \"Age\": 14.06, \"A_curv\": 0.05314009661835749, \"A_octon\": 0.01932367149758454, \"ActinSpp\": 0.14009661835748793, \"A_nodul\": 0.1111111111111111, \"CoscinSpp\": 0.13043478260869565, \"CyclotSpp\": 0.033816425120772944, \"Rop_tess\": 0.0, \"StephanSpp\": 0.0}, {\"Depth\": 12.5, \"Age\": 14.11, \"A_curv\": 0.024390243902439025, \"A_octon\": 0.004878048780487805, \"ActinSpp\": 0.17073170731707318, \"A_nodul\": 0.14146341463414633, \"CoscinSpp\": 0.06829268292682927, \"CyclotSpp\": 0.06341463414634146, \"Rop_tess\": 0.014634146341463415, \"StephanSpp\": 0.0}, {\"Depth\": 12.55, \"Age\": 14.15, \"A_curv\": 0.028985507246376812, \"A_octon\": 0.00966183574879227, \"ActinSpp\": 0.14009661835748793, \"A_nodul\": 0.15942028985507245, \"CoscinSpp\": 0.08695652173913043, \"CyclotSpp\": 0.057971014492753624, \"Rop_tess\": 0.0, \"StephanSpp\": 0.0}, {\"Depth\": 12.6, \"Age\": 14.19, \"A_curv\": 0.03431372549019608, \"A_octon\": 0.014705882352941176, \"ActinSpp\": 0.1568627450980392, \"A_nodul\": 0.16666666666666666, \"CoscinSpp\": 0.09313725490196079, \"CyclotSpp\": 0.0196078431372549, \"Rop_tess\": 0.0, \"StephanSpp\": 0.0}, {\"Depth\": 12.65, \"Age\": 14.24, \"A_curv\": 0.043689320388349516, \"A_octon\": 0.019417475728155338, \"ActinSpp\": 0.16019417475728157, \"A_nodul\": 0.15048543689320387, \"CoscinSpp\": 0.07766990291262135, \"CyclotSpp\": 0.02912621359223301, \"Rop_tess\": 0.0, \"StephanSpp\": 0.0048543689320388345}, {\"Depth\": 12.7, \"Age\": 14.28, \"A_curv\": 0.009708737864077669, \"A_octon\": 0.0048543689320388345, \"ActinSpp\": 0.06796116504854369, \"A_nodul\": 0.3058252427184466, \"CoscinSpp\": 0.07766990291262135, \"CyclotSpp\": 0.009708737864077669, \"Rop_tess\": 0.0, \"StephanSpp\": 0.0}, {\"Depth\": 12.75, \"Age\": 14.33, \"A_curv\": 0.02912621359223301, \"A_octon\": 0.02912621359223301, \"ActinSpp\": 0.1796116504854369, \"A_nodul\": 0.16019417475728157, \"CoscinSpp\": 0.05339805825242718, \"CyclotSpp\": 0.024271844660194174, \"Rop_tess\": 0.0, \"StephanSpp\": 0.0048543689320388345}, {\"Depth\": 12.8, \"Age\": 14.37, \"A_curv\": 0.01951219512195122, \"A_octon\": 0.024390243902439025, \"ActinSpp\": 0.17073170731707318, \"A_nodul\": 0.18048780487804877, \"CoscinSpp\": 0.05853658536585366, \"CyclotSpp\": 0.03414634146341464, \"Rop_tess\": 0.0, \"StephanSpp\": 0.0}, {\"Depth\": 12.85, \"Age\": 14.42, \"A_curv\": 0.024630541871921183, \"A_octon\": 0.009852216748768473, \"ActinSpp\": 0.1625615763546798, \"A_nodul\": 0.17733990147783252, \"CoscinSpp\": 0.07881773399014778, \"CyclotSpp\": 0.029556650246305417, \"Rop_tess\": 0.0, \"StephanSpp\": 0.0}, {\"Depth\": 12.9, \"Age\": 14.46, \"A_curv\": 0.02926829268292683, \"A_octon\": 0.02926829268292683, \"ActinSpp\": 0.14634146341463414, \"A_nodul\": 0.15609756097560976, \"CoscinSpp\": 0.08780487804878048, \"CyclotSpp\": 0.03902439024390244, \"Rop_tess\": 0.0, \"StephanSpp\": 0.0}, {\"Depth\": 12.95, \"Age\": 14.51, \"A_curv\": 0.014492753623188406, \"A_octon\": 0.028985507246376812, \"ActinSpp\": 0.09178743961352658, \"A_nodul\": 0.2028985507246377, \"CoscinSpp\": 0.06763285024154589, \"CyclotSpp\": 0.07729468599033816, \"Rop_tess\": 0.0, \"StephanSpp\": 0.0}, {\"Depth\": 13.0, \"Age\": 14.55, \"A_curv\": 0.00975609756097561, \"A_octon\": 0.014634146341463415, \"ActinSpp\": 0.08292682926829269, \"A_nodul\": 0.32682926829268294, \"CoscinSpp\": 0.024390243902439025, \"CyclotSpp\": 0.01951219512195122, \"Rop_tess\": 0.0, \"StephanSpp\": 0.0}, {\"Depth\": 13.05, \"Age\": 14.6, \"A_curv\": 0.0, \"A_octon\": 0.019417475728155338, \"ActinSpp\": 0.10679611650485436, \"A_nodul\": 0.23786407766990292, \"CoscinSpp\": 0.0825242718446602, \"CyclotSpp\": 0.038834951456310676, \"Rop_tess\": 0.0, \"StephanSpp\": 0.0}, {\"Depth\": 13.1, \"Age\": 14.64, \"A_curv\": 0.0, \"A_octon\": 0.0, \"ActinSpp\": 0.03980099502487562, \"A_nodul\": 0.3582089552238806, \"CoscinSpp\": 0.07462686567164178, \"CyclotSpp\": 0.01990049751243781, \"Rop_tess\": 0.0, \"StephanSpp\": 0.0}, {\"Depth\": 13.15, \"Age\": 14.69, \"A_curv\": 0.004878048780487805, \"A_octon\": 0.014634146341463415, \"ActinSpp\": 0.09268292682926829, \"A_nodul\": 0.1951219512195122, \"CoscinSpp\": 0.14146341463414633, \"CyclotSpp\": 0.024390243902439025, \"Rop_tess\": 0.004878048780487805, \"StephanSpp\": 0.0}, {\"Depth\": 13.2, \"Age\": 14.73, \"A_curv\": 0.004878048780487805, \"A_octon\": 0.00975609756097561, \"ActinSpp\": 0.07317073170731707, \"A_nodul\": 0.2975609756097561, \"CoscinSpp\": 0.08292682926829269, \"CyclotSpp\": 0.014634146341463415, \"Rop_tess\": 0.0, \"StephanSpp\": 0.0}, {\"Depth\": 13.25, \"Age\": 14.78, \"A_curv\": 0.0048543689320388345, \"A_octon\": 0.0, \"ActinSpp\": 0.10679611650485436, \"A_nodul\": 0.24271844660194175, \"CoscinSpp\": 0.0970873786407767, \"CyclotSpp\": 0.02912621359223301, \"Rop_tess\": 0.0, \"StephanSpp\": 0.0}, {\"Depth\": 13.41, \"Age\": 14.92, \"A_curv\": 0.0, \"A_octon\": 0.013888888888888888, \"ActinSpp\": 0.06481481481481481, \"A_nodul\": 0.24537037037037038, \"CoscinSpp\": 0.07407407407407407, \"CyclotSpp\": 0.06018518518518518, \"Rop_tess\": 0.0, \"StephanSpp\": 0.0}, {\"Depth\": 13.46, \"Age\": 14.96, \"A_curv\": 0.0, \"A_octon\": 0.00966183574879227, \"ActinSpp\": 0.05314009661835749, \"A_nodul\": 0.2753623188405797, \"CoscinSpp\": 0.10628019323671498, \"CyclotSpp\": 0.028985507246376812, \"Rop_tess\": 0.004830917874396135, \"StephanSpp\": 0.0}, {\"Depth\": 13.51, \"Age\": 15.01, \"A_curv\": 0.0, \"A_octon\": 0.0, \"ActinSpp\": 0.04878048780487805, \"A_nodul\": 0.3073170731707317, \"CoscinSpp\": 0.1073170731707317, \"CyclotSpp\": 0.024390243902439025, \"Rop_tess\": 0.0, \"StephanSpp\": 0.0}, {\"Depth\": 13.56, \"Age\": 15.05, \"A_curv\": 0.0049261083743842365, \"A_octon\": 0.0, \"ActinSpp\": 0.034482758620689655, \"A_nodul\": 0.2660098522167488, \"CoscinSpp\": 0.12807881773399016, \"CyclotSpp\": 0.054187192118226604, \"Rop_tess\": 0.0, \"StephanSpp\": 0.0}, {\"Depth\": 13.61, \"Age\": 15.1, \"A_curv\": 0.0048543689320388345, \"A_octon\": 0.0048543689320388345, \"ActinSpp\": 0.04854368932038835, \"A_nodul\": 0.30097087378640774, \"CoscinSpp\": 0.07281553398058252, \"CyclotSpp\": 0.05339805825242718, \"Rop_tess\": 0.0, \"StephanSpp\": 0.0}, {\"Depth\": 13.66, \"Age\": 15.14, \"A_curv\": 0.014563106796116505, \"A_octon\": 0.009708737864077669, \"ActinSpp\": 0.05825242718446602, \"A_nodul\": 0.2815533980582524, \"CoscinSpp\": 0.06310679611650485, \"CyclotSpp\": 0.05825242718446602, \"Rop_tess\": 0.0, \"StephanSpp\": 0.0}, {\"Depth\": 13.71, \"Age\": 15.19, \"A_curv\": 0.004901960784313725, \"A_octon\": 0.00980392156862745, \"ActinSpp\": 0.06372549019607843, \"A_nodul\": 0.2696078431372549, \"CoscinSpp\": 0.08823529411764706, \"CyclotSpp\": 0.05392156862745098, \"Rop_tess\": 0.0, \"StephanSpp\": 0.0}], \"data-7e723486abedbed5deae8d6234a5dddc\": [{\"A_nodul\": 0.0, \"Density\": 10.033135901609333}, {\"A_nodul\": 0.0015642312455191292, \"Density\": 10.335139435937458}, {\"A_nodul\": 0.0031284624910382585, \"Density\": 10.591723452186038}, {\"A_nodul\": 0.0046926937365573875, \"Density\": 10.800494309852729}, {\"A_nodul\": 0.006256924982076517, \"Density\": 10.959704527618523}, {\"A_nodul\": 0.007821156227595646, \"Density\": 11.068391152227163}, {\"A_nodul\": 0.009385387473114775, \"Density\": 11.126138017799523}, {\"A_nodul\": 0.010949618718633905, \"Density\": 11.133176558916727}, {\"A_nodul\": 0.012513849964153034, \"Density\": 11.090337297438532}, {\"A_nodul\": 0.014078081209672163, \"Density\": 10.998912310064528}, {\"A_nodul\": 0.015642312455191293, \"Density\": 10.860630174298372}, {\"A_nodul\": 0.01720654370071042, \"Density\": 10.677851729509442}, {\"A_nodul\": 0.01877077494622955, \"Density\": 10.45347481252747}, {\"A_nodul\": 0.02033500619174868, \"Density\": 10.190808103023953}, {\"A_nodul\": 0.02189923743726781, \"Density\": 9.893717729778528}, {\"A_nodul\": 0.02346346868278694, \"Density\": 9.566448623018713}, {\"A_nodul\": 0.025027699928306068, \"Density\": 9.21347598212346}, {\"A_nodul\": 0.026591931173825196, \"Density\": 8.839466775651703}, {\"A_nodul\": 0.028156162419344325, \"Density\": 8.449235608245312}, {\"A_nodul\": 0.029720393664863457, \"Density\": 8.047694716431215}, {\"A_nodul\": 0.031284624910382586, \"Density\": 7.6398922499285185}, {\"A_nodul\": 0.03284885615590171, \"Density\": 7.2310305743347785}, {\"A_nodul\": 0.03441308740142084, \"Density\": 6.826172813016483}, {\"A_nodul\": 0.035977318646939975, \"Density\": 6.430093983753159}, {\"A_nodul\": 0.0375415498924591, \"Density\": 6.047182670325184}, {\"A_nodul\": 0.03910578113797823, \"Density\": 5.68134997773071}, {\"A_nodul\": 0.04067001238349736, \"Density\": 5.33608501252857}, {\"A_nodul\": 0.04223424362901649, \"Density\": 5.014313823963087}, {\"A_nodul\": 0.04379847487453562, \"Density\": 4.71808583188731}, {\"A_nodul\": 0.04536270612005475, \"Density\": 4.448426866173764}, {\"A_nodul\": 0.04692693736557388, \"Density\": 4.205239918402046}, {\"A_nodul\": 0.048491168611093004, \"Density\": 3.9870604391118714}, {\"A_nodul\": 0.050055399856612136, \"Density\": 3.790816672863203}, {\"A_nodul\": 0.05161963110213127, \"Density\": 3.6128686855375265}, {\"A_nodul\": 0.05318386234765039, \"Density\": 3.4520628479866895}, {\"A_nodul\": 0.054748093593169525, \"Density\": 3.3070028970277185}, {\"A_nodul\": 0.05631232483868865, \"Density\": 3.1756431318486196}, {\"A_nodul\": 0.05787655608420778, \"Density\": 3.0572214476014294}, {\"A_nodul\": 0.059440787329726914, \"Density\": 2.950955936164085}, {\"A_nodul\": 0.06100501857524604, \"Density\": 2.8554034241187845}, {\"A_nodul\": 0.06256924982076517, \"Density\": 2.7694461784744013}, {\"A_nodul\": 0.0641334810662843, \"Density\": 2.6920645363478504}, {\"A_nodul\": 0.06569771231180342, \"Density\": 2.621889005084172}, {\"A_nodul\": 0.06726194355732255, \"Density\": 2.5579295747778246}, {\"A_nodul\": 0.06882617480284169, \"Density\": 2.499328239179047}, {\"A_nodul\": 0.07039040604836082, \"Density\": 2.4446873133987514}, {\"A_nodul\": 0.07195463729387995, \"Density\": 2.3929112075184245}, {\"A_nodul\": 0.07351886853939907, \"Density\": 2.3437414143084148}, {\"A_nodul\": 0.0750830997849182, \"Density\": 2.296730172473979}, {\"A_nodul\": 0.07664733103043733, \"Density\": 2.251412090462846}, {\"A_nodul\": 0.07821156227595646, \"Density\": 2.2076693386073636}, {\"A_nodul\": 0.0797757935214756, \"Density\": 2.1653191800933644}, {\"A_nodul\": 0.08134002476699471, \"Density\": 2.1241724003752815}, {\"A_nodul\": 0.08290425601251385, \"Density\": 2.084390573275507}, {\"A_nodul\": 0.08446848725803298, \"Density\": 2.0462002745458134}, {\"A_nodul\": 0.08603271850355211, \"Density\": 2.0097525445026703}, {\"A_nodul\": 0.08759694974907124, \"Density\": 1.9752727215886325}, {\"A_nodul\": 0.08916118099459036, \"Density\": 1.9430209587012157}, {\"A_nodul\": 0.0907254122401095, \"Density\": 1.9132149115985646}, {\"A_nodul\": 0.09228964348562863, \"Density\": 1.886069131845453}, {\"A_nodul\": 0.09385387473114776, \"Density\": 1.8618188085282512}, {\"A_nodul\": 0.09541810597666689, \"Density\": 1.8406332423292344}, {\"A_nodul\": 0.09698233722218601, \"Density\": 1.8225571211313472}, {\"A_nodul\": 0.09854656846770514, \"Density\": 1.8073544815343776}, {\"A_nodul\": 0.10011079971322427, \"Density\": 1.7945203183230405}, {\"A_nodul\": 0.1016750309587434, \"Density\": 1.7835766493157021}, {\"A_nodul\": 0.10323926220426254, \"Density\": 1.77418088898174}, {\"A_nodul\": 0.10480349344978165, \"Density\": 1.765870617472938}, {\"A_nodul\": 0.10636772469530079, \"Density\": 1.758234439997993}, {\"A_nodul\": 0.10793195594081992, \"Density\": 1.751066052374149}, {\"A_nodul\": 0.10949618718633905, \"Density\": 1.7442377610140098}, {\"A_nodul\": 0.11106041843185818, \"Density\": 1.737734475547212}, {\"A_nodul\": 0.1126246496773773, \"Density\": 1.7316892096029541}, {\"A_nodul\": 0.11418888092289643, \"Density\": 1.726155126842923}, {\"A_nodul\": 0.11575311216841556, \"Density\": 1.7209961626250523}, {\"A_nodul\": 0.1173173434139347, \"Density\": 1.7161184879317646}, {\"A_nodul\": 0.11888157465945383, \"Density\": 1.7114776240878349}, {\"A_nodul\": 0.12044580590497295, \"Density\": 1.7070069410729323}, {\"A_nodul\": 0.12201003715049208, \"Density\": 1.7027520121836326}, {\"A_nodul\": 0.12357426839601121, \"Density\": 1.6987594542067717}, {\"A_nodul\": 0.12513849964153034, \"Density\": 1.6949801344938955}, {\"A_nodul\": 0.12670273088704948, \"Density\": 1.6912626838878537}, {\"A_nodul\": 0.1282669621325686, \"Density\": 1.6873520709422594}, {\"A_nodul\": 0.12983119337808774, \"Density\": 1.6829509749764424}, {\"A_nodul\": 0.13139542462360684, \"Density\": 1.6778157999758772}, {\"A_nodul\": 0.13295965586912598, \"Density\": 1.67189676745983}, {\"A_nodul\": 0.1345238871146451, \"Density\": 1.6651717061010447}, {\"A_nodul\": 0.13608811836016424, \"Density\": 1.6575948451607043}, {\"A_nodul\": 0.13765234960568337, \"Density\": 1.6490711695568652}, {\"A_nodul\": 0.1392165808512025, \"Density\": 1.6394402625330995}, {\"A_nodul\": 0.14078081209672164, \"Density\": 1.6285962836115864}, {\"A_nodul\": 0.14234504334224077, \"Density\": 1.6165020844738804}, {\"A_nodul\": 0.1439092745877599, \"Density\": 1.6030649015968157}, {\"A_nodul\": 0.14547350583327903, \"Density\": 1.5881665954920492}, {\"A_nodul\": 0.14703773707879814, \"Density\": 1.5717967255189111}, {\"A_nodul\": 0.14860196832431727, \"Density\": 1.5540584410514202}, {\"A_nodul\": 0.1501661995698364, \"Density\": 1.5351097736864154}, {\"A_nodul\": 0.15173043081535553, \"Density\": 1.5151841589184856}, {\"A_nodul\": 0.15329466206087466, \"Density\": 1.4944672973114426}, {\"A_nodul\": 0.1548588933063938, \"Density\": 1.473084577072881}, {\"A_nodul\": 0.15642312455191293, \"Density\": 1.4511449423379594}, {\"A_nodul\": 0.15798735579743206, \"Density\": 1.428729976320376}, {\"A_nodul\": 0.1595515870429512, \"Density\": 1.4058163254580185}, {\"A_nodul\": 0.16111581828847032, \"Density\": 1.382252820397419}, {\"A_nodul\": 0.16268004953398943, \"Density\": 1.3578559532329597}, {\"A_nodul\": 0.16424428077950856, \"Density\": 1.332478497607226}, {\"A_nodul\": 0.1658085120250277, \"Density\": 1.3060874574532093}, {\"A_nodul\": 0.16737274327054683, \"Density\": 1.2789417533627065}, {\"A_nodul\": 0.16893697451606596, \"Density\": 1.2514120702641984}, {\"A_nodul\": 0.1705012057615851, \"Density\": 1.2238008713918935}, {\"A_nodul\": 0.17206543700710422, \"Density\": 1.196390453342392}, {\"A_nodul\": 0.17362966825262335, \"Density\": 1.169439342945329}, {\"A_nodul\": 0.17519389949814249, \"Density\": 1.1431186777325995}, {\"A_nodul\": 0.17675813074366162, \"Density\": 1.1175128246525976}, {\"A_nodul\": 0.17832236198918072, \"Density\": 1.0927302151316476}, {\"A_nodul\": 0.17988659323469985, \"Density\": 1.0689062722038474}, {\"A_nodul\": 0.181450824480219, \"Density\": 1.0461543648325236}, {\"A_nodul\": 0.18301505572573812, \"Density\": 1.0244819249712394}, {\"A_nodul\": 0.18457928697125725, \"Density\": 1.0038040698204456}, {\"A_nodul\": 0.18614351821677638, \"Density\": 0.9840209897187939}, {\"A_nodul\": 0.18770774946229551, \"Density\": 0.9649908020734805}, {\"A_nodul\": 0.18927198070781465, \"Density\": 0.9465920271912863}, {\"A_nodul\": 0.19083621195333378, \"Density\": 0.9288410068432356}, {\"A_nodul\": 0.1924004431988529, \"Density\": 0.9116893947082783}, {\"A_nodul\": 0.19396467444437201, \"Density\": 0.8950670042080853}, {\"A_nodul\": 0.19552890568989115, \"Density\": 0.8790788685093753}, {\"A_nodul\": 0.19709313693541028, \"Density\": 0.8640403834302226}, {\"A_nodul\": 0.1986573681809294, \"Density\": 0.8503682342828792}, {\"A_nodul\": 0.20022159942644854, \"Density\": 0.8383666158731147}, {\"A_nodul\": 0.20178583067196768, \"Density\": 0.8282110679008775}, {\"A_nodul\": 0.2033500619174868, \"Density\": 0.820027283217283}, {\"A_nodul\": 0.20491429316300594, \"Density\": 0.8138787791857278}, {\"A_nodul\": 0.20647852440852507, \"Density\": 0.8097379493793404}, {\"A_nodul\": 0.20804275565404418, \"Density\": 0.8074859740194811}, {\"A_nodul\": 0.2096069868995633, \"Density\": 0.8070787405847154}, {\"A_nodul\": 0.21117121814508244, \"Density\": 0.8085260205539168}, {\"A_nodul\": 0.21273544939060157, \"Density\": 0.8120481542623805}, {\"A_nodul\": 0.2142996806361207, \"Density\": 0.8178623213309177}, {\"A_nodul\": 0.21586391188163984, \"Density\": 0.8260540486856679}, {\"A_nodul\": 0.21742814312715897, \"Density\": 0.83660093521115}, {\"A_nodul\": 0.2189923743726781, \"Density\": 0.84953609897153}, {\"A_nodul\": 0.22055660561819723, \"Density\": 0.8649537697431211}, {\"A_nodul\": 0.22212083686371636, \"Density\": 0.8829040067955668}, {\"A_nodul\": 0.22368506810923547, \"Density\": 0.9033426225800375}, {\"A_nodul\": 0.2252492993547546, \"Density\": 0.9260773599626182}, {\"A_nodul\": 0.22681353060027373, \"Density\": 0.950788845494104}, {\"A_nodul\": 0.22837776184579286, \"Density\": 0.9771038223715607}, {\"A_nodul\": 0.229941993091312, \"Density\": 1.0046020250057435}, {\"A_nodul\": 0.23150622433683113, \"Density\": 1.0327829731314415}, {\"A_nodul\": 0.23307045558235026, \"Density\": 1.0611210119245011}, {\"A_nodul\": 0.2346346868278694, \"Density\": 1.0891619305351974}, {\"A_nodul\": 0.23619891807338853, \"Density\": 1.116488113742691}, {\"A_nodul\": 0.23776314931890766, \"Density\": 1.1427220158617408}, {\"A_nodul\": 0.23932738056442676, \"Density\": 1.1675440613696708}, {\"A_nodul\": 0.2408916118099459, \"Density\": 1.1906895564787556}, {\"A_nodul\": 0.24245584305546503, \"Density\": 1.2119026059890101}, {\"A_nodul\": 0.24402007430098416, \"Density\": 1.2308892145424641}, {\"A_nodul\": 0.2455843055465033, \"Density\": 1.2473844624471084}, {\"A_nodul\": 0.24714853679202242, \"Density\": 1.2611361574560438}, {\"A_nodul\": 0.24871276803754155, \"Density\": 1.2719551264679445}, {\"A_nodul\": 0.2502769992830607, \"Density\": 1.2797986747771641}, {\"A_nodul\": 0.2518412305285798, \"Density\": 1.2846563141691631}, {\"A_nodul\": 0.25340546177409895, \"Density\": 1.2865641373315362}, {\"A_nodul\": 0.2549696930196181, \"Density\": 1.285699257819356}, {\"A_nodul\": 0.2565339242651372, \"Density\": 1.2823000059912342}, {\"A_nodul\": 0.25809815551065635, \"Density\": 1.2766966995449207}, {\"A_nodul\": 0.2596623867561755, \"Density\": 1.2693107254533806}, {\"A_nodul\": 0.2612266180016946, \"Density\": 1.2605225565334575}, {\"A_nodul\": 0.2627908492472137, \"Density\": 1.2506038098990981}, {\"A_nodul\": 0.2643550804927328, \"Density\": 1.2397392740075583}, {\"A_nodul\": 0.26591931173825195, \"Density\": 1.2281158155025125}, {\"A_nodul\": 0.2674835429837711, \"Density\": 1.2159620526827315}, {\"A_nodul\": 0.2690477742292902, \"Density\": 1.2035936534874205}, {\"A_nodul\": 0.27061200547480935, \"Density\": 1.1912747041280125}, {\"A_nodul\": 0.2721762367203285, \"Density\": 1.1792010407772218}, {\"A_nodul\": 0.2737404679658476, \"Density\": 1.1675005109373058}, {\"A_nodul\": 0.27530469921136674, \"Density\": 1.1562315655952278}, {\"A_nodul\": 0.2768689304568859, \"Density\": 1.1453968045184586}, {\"A_nodul\": 0.278433161702405, \"Density\": 1.1350483003543657}, {\"A_nodul\": 0.27999739294792414, \"Density\": 1.12529338081859}, {\"A_nodul\": 0.28156162419344327, \"Density\": 1.1161763084356513}, {\"A_nodul\": 0.2831258554389624, \"Density\": 1.107650648015198}, {\"A_nodul\": 0.28469008668448154, \"Density\": 1.099622159962268}, {\"A_nodul\": 0.28625431793000067, \"Density\": 1.091991152119155}, {\"A_nodul\": 0.2878185491755198, \"Density\": 1.0845768976185244}, {\"A_nodul\": 0.28938278042103893, \"Density\": 1.0771217522171819}, {\"A_nodul\": 0.29094701166655806, \"Density\": 1.0693632736832985}, {\"A_nodul\": 0.2925112429120772, \"Density\": 1.060967224629632}, {\"A_nodul\": 0.2940754741575963, \"Density\": 1.0515064578799858}, {\"A_nodul\": 0.2956397054031154, \"Density\": 1.0405621082453056}, {\"A_nodul\": 0.29720393664863454, \"Density\": 1.0278958909819418}, {\"A_nodul\": 0.29876816789415367, \"Density\": 1.0134962109132097}, {\"A_nodul\": 0.3003323991396728, \"Density\": 0.9973513498586756}, {\"A_nodul\": 0.30189663038519193, \"Density\": 0.9794164697230114}, {\"A_nodul\": 0.30346086163071107, \"Density\": 0.9596658186020758}, {\"A_nodul\": 0.3050250928762302, \"Density\": 0.9381103831878841}, {\"A_nodul\": 0.30658932412174933, \"Density\": 0.9147239510832743}, {\"A_nodul\": 0.30815355536726846, \"Density\": 0.8894290065157517}, {\"A_nodul\": 0.3097177866127876, \"Density\": 0.8621698133074112}, {\"A_nodul\": 0.3112820178583067, \"Density\": 0.8330227231455585}, {\"A_nodul\": 0.31284624910382586, \"Density\": 0.8022132216666771}, {\"A_nodul\": 0.314410480349345, \"Density\": 0.7699703750569111}, {\"A_nodul\": 0.3159747115948641, \"Density\": 0.7364652614051997}, {\"A_nodul\": 0.31753894284038325, \"Density\": 0.7018232217786682}, {\"A_nodul\": 0.3191031740859024, \"Density\": 0.6662314700954334}, {\"A_nodul\": 0.3206674053314215, \"Density\": 0.62995080187199}, {\"A_nodul\": 0.32223163657694065, \"Density\": 0.5932979864117114}, {\"A_nodul\": 0.3237958678224597, \"Density\": 0.5566072685401211}, {\"A_nodul\": 0.32536009906797886, \"Density\": 0.5201745078219284}, {\"A_nodul\": 0.326924330313498, \"Density\": 0.48427078867827683}, {\"A_nodul\": 0.3284885615590171, \"Density\": 0.44921412740465055}, {\"A_nodul\": 0.33005279280453625, \"Density\": 0.4153017603986164}, {\"A_nodul\": 0.3316170240500554, \"Density\": 0.38277755457845564}, {\"A_nodul\": 0.3331812552955745, \"Density\": 0.35184851262969064}, {\"A_nodul\": 0.33474548654109365, \"Density\": 0.3227527208177426}, {\"A_nodul\": 0.3363097177866128, \"Density\": 0.29568751653547315}, {\"A_nodul\": 0.3378739490321319, \"Density\": 0.2707786244854662}, {\"A_nodul\": 0.33943818027765105, \"Density\": 0.24807408095378433}, {\"A_nodul\": 0.3410024115231702, \"Density\": 0.2276100799598948}, {\"A_nodul\": 0.3425666427686893, \"Density\": 0.2093928495388638}, {\"A_nodul\": 0.34413087401420844, \"Density\": 0.1933552855181618}, {\"A_nodul\": 0.3456951052597276, \"Density\": 0.17942857355577702}, {\"A_nodul\": 0.3472593365052467, \"Density\": 0.16747991377756036}, {\"A_nodul\": 0.34882356775076584, \"Density\": 0.15728614291151366}, {\"A_nodul\": 0.35038779899628497, \"Density\": 0.14860734042783674}, {\"A_nodul\": 0.3519520302418041, \"Density\": 0.1411459299535314}, {\"A_nodul\": 0.35351626148732324, \"Density\": 0.13460058892234944}, {\"A_nodul\": 0.3550804927328423, \"Density\": 0.12873231102441623}, {\"A_nodul\": 0.35664472397836144, \"Density\": 0.12326404764254884}, {\"A_nodul\": 0.3582089552238806, \"Density\": 0.11800879491663865}]}}, {\"mode\": \"vega-lite\"});\n",
       "</script>"
      ],
      "text/plain": [
       "alt.LayerChart(...)"
      ]
     },
     "execution_count": 30,
     "metadata": {},
     "output_type": "execute_result"
    }
   ],
   "source": [
    "# density scale histogram\n",
    "hist = alt.Chart(diatoms).transform_bin(\n",
    "    as_ = 'bin', # SOLUTION\n",
    "    field = 'A_nodul', # SOLUTION\n",
    "    bin = alt.Bin(step = 0.03) # SOLUTION\n",
    ").transform_aggregate(\n",
    "    Count = 'count()', # SOLUTION\n",
    "    groupby = ['bin'] # SOLUTION\n",
    ").transform_calculate(\n",
    "    Density = 'datum.Count/(0.03*230)', # SOLUTION\n",
    "    binshift = 'datum.bin + 0.015' # SOLUTION\n",
    ").mark_bar(size = 25, opacity = 0.8).encode(\n",
    "    x = alt.X('binshift:Q', title = 'Relative abundance', scale = alt.Scale(domain = (0.03, 0.38))), # SOLUTION \n",
    "    y = 'Density:Q' # SOLUTION\n",
    ")\n",
    "\n",
    "# compute density estimate\n",
    "# BEGIN SOLUTION\n",
    "kde = sm.nonparametric.KDEUnivariate(diatoms.A_nodul)\n",
    "kde.fit(kernel = 'triw', bw = 0.05, fft = False, cut = 0) \n",
    "kde_df = pd.DataFrame({'A_nodul': kde.support, 'Density': kde.density}) \n",
    "# END SOLUTION\n",
    "\n",
    "# plot kde\n",
    "smooth = alt.Chart(kde_df).mark_line(color = 'black').encode(x = 'A_nodul', y = 'Density') # SOLUTION\n",
    "\n",
    "# layer\n",
    "fig3 = hist + smooth + smooth.mark_area(opacity = 0.3, color = 'black') # SOLUTION\n",
    "\n",
    "# display\n",
    "fig3"
   ]
  },
  {
   "attachments": {},
   "cell_type": "markdown",
   "metadata": {
    "tags": [
     "otter_assign_solution_cell"
    ]
   },
   "source": [
    "**SOLUTION**\n",
    "Low abundances are most common. Relative abundances over 0.33 are rare. Almost all abundances are between 0 and 0.33. Values are concentrated near zero and then more or less evenly distributed between 0.06 and 0.33. Overall, the frequency of abundances decays for larger values."
   ]
  },
  {
   "attachments": {},
   "cell_type": "markdown",
   "metadata": {},
   "source": [
    "<!-- END QUESTION -->\n",
    "\n",
    "> **Comment:** There are a disproportionately large number of zeroes, because in many samples no *Azpeitia nodulifer* diatoms were observed. This is a common phenomenon in ecological data, and even has a name: it results in a 'zero inflated' distribution of values. The statistician to identify and name the phenomenon was Diane Lambert in 1992. Zero inflation can present a variety of challenges. You may have noticed, for example, that there was no bandwidth parameter for the KDE that *both* captured the shape of the histogram near zero *and* away from zero, regardless of the choice of kernel. The key difficulty with zero inflated data is that no common probability distribution fits the data well. This requires the use of mixtures as probability models, which are challenging to incorporate into common statistical models.\n",
    "\n",
    "There was a transition between geological epochs during the time span covered by the diatom data. The oldest data points in the diatom data correspond to the end of the Pleistocene epoch (ice age), at which time there was a pronounced warming (Late Glacial Interstadial, 14.7 - 12.9 KyrBP) followed by a return to glacial conditions (Younger Dryas, 12.9 - 11.7 KyrBP). \n",
    "\n",
    "This fluctuation can be seen from temperature reconstructions. Below is a plot of sea surface temperature reconstructions off the coast of Northern California. Data come from the following source:\n",
    "\n",
    "> Barron *et al.*, 2003. Northern Coastal California High Resolution Holocene/Late Pleistocene Oceanographic Data. IGBP PAGES/World Data Center for Paleoclimatology. Data Contribution Series # 2003-014. NOAA/NGDC Paleoclimatology Program, Boulder CO, USA.\n",
    "\n",
    "The shaded region indicates the time window with unusually large flucutations in sea surface temperature; this window roughly corresponds to the dates of the climate event."
   ]
  },
  {
   "cell_type": "code",
   "execution_count": 31,
   "metadata": {},
   "outputs": [
    {
     "data": {
      "text/html": [
       "\n",
       "<div id=\"altair-viz-6416dc20b33544d9826e77b52d0ad040\"></div>\n",
       "<script type=\"text/javascript\">\n",
       "  var VEGA_DEBUG = (typeof VEGA_DEBUG == \"undefined\") ? {} : VEGA_DEBUG;\n",
       "  (function(spec, embedOpt){\n",
       "    let outputDiv = document.currentScript.previousElementSibling;\n",
       "    if (outputDiv.id !== \"altair-viz-6416dc20b33544d9826e77b52d0ad040\") {\n",
       "      outputDiv = document.getElementById(\"altair-viz-6416dc20b33544d9826e77b52d0ad040\");\n",
       "    }\n",
       "    const paths = {\n",
       "      \"vega\": \"https://cdn.jsdelivr.net/npm//vega@5?noext\",\n",
       "      \"vega-lib\": \"https://cdn.jsdelivr.net/npm//vega-lib?noext\",\n",
       "      \"vega-lite\": \"https://cdn.jsdelivr.net/npm//vega-lite@4.17.0?noext\",\n",
       "      \"vega-embed\": \"https://cdn.jsdelivr.net/npm//vega-embed@6?noext\",\n",
       "    };\n",
       "\n",
       "    function maybeLoadScript(lib, version) {\n",
       "      var key = `${lib.replace(\"-\", \"\")}_version`;\n",
       "      return (VEGA_DEBUG[key] == version) ?\n",
       "        Promise.resolve(paths[lib]) :\n",
       "        new Promise(function(resolve, reject) {\n",
       "          var s = document.createElement('script');\n",
       "          document.getElementsByTagName(\"head\")[0].appendChild(s);\n",
       "          s.async = true;\n",
       "          s.onload = () => {\n",
       "            VEGA_DEBUG[key] = version;\n",
       "            return resolve(paths[lib]);\n",
       "          };\n",
       "          s.onerror = () => reject(`Error loading script: ${paths[lib]}`);\n",
       "          s.src = paths[lib];\n",
       "        });\n",
       "    }\n",
       "\n",
       "    function showError(err) {\n",
       "      outputDiv.innerHTML = `<div class=\"error\" style=\"color:red;\">${err}</div>`;\n",
       "      throw err;\n",
       "    }\n",
       "\n",
       "    function displayChart(vegaEmbed) {\n",
       "      vegaEmbed(outputDiv, spec, embedOpt)\n",
       "        .catch(err => showError(`Javascript Error: ${err.message}<br>This usually means there's a typo in your chart specification. See the javascript console for the full traceback.`));\n",
       "    }\n",
       "\n",
       "    if(typeof define === \"function\" && define.amd) {\n",
       "      requirejs.config({paths});\n",
       "      require([\"vega-embed\"], displayChart, err => showError(`Error loading script: ${err.message}`));\n",
       "    } else {\n",
       "      maybeLoadScript(\"vega\", \"5\")\n",
       "        .then(() => maybeLoadScript(\"vega-lite\", \"4.17.0\"))\n",
       "        .then(() => maybeLoadScript(\"vega-embed\", \"6\"))\n",
       "        .catch(showError)\n",
       "        .then(() => displayChart(vegaEmbed));\n",
       "    }\n",
       "  })({\"config\": {\"view\": {\"continuousWidth\": 400, \"continuousHeight\": 300}}, \"layer\": [{\"data\": {\"name\": \"data-3a58caeda919fa504e554b7173d0eec4\"}, \"mark\": \"line\", \"encoding\": {\"x\": {\"field\": \"Age\", \"title\": \"Thousands of years before present\", \"type\": \"quantitative\"}, \"y\": {\"field\": \"SST\", \"type\": \"quantitative\"}}}, {\"data\": {\"name\": \"data-6cea38239315c3d997ab47994b5133ac\"}, \"mark\": {\"type\": \"area\", \"color\": \"orange\", \"opacity\": 0.2}, \"encoding\": {\"x\": {\"field\": \"upr\", \"title\": \"Thousands of years before present\", \"type\": \"quantitative\"}, \"x2\": {\"field\": \"lwr\"}, \"y\": {\"field\": \"SST\", \"type\": \"quantitative\"}}}, {\"data\": {\"name\": \"data-3a58caeda919fa504e554b7173d0eec4\"}, \"mark\": {\"type\": \"line\", \"color\": \"black\"}, \"encoding\": {\"x\": {\"field\": \"Age\", \"title\": \"Thousands of years before present\", \"type\": \"quantitative\"}, \"y\": {\"field\": \"SST\", \"type\": \"quantitative\"}}, \"transform\": [{\"loess\": \"SST\", \"on\": \"Age\", \"bandwidth\": 0.2}]}], \"$schema\": \"https://vega.github.io/schema/vega-lite/v4.17.0.json\", \"datasets\": {\"data-3a58caeda919fa504e554b7173d0eec4\": [{\"Age\": 0.16, \"SST\": 11.7}, {\"Age\": 0.16, \"SST\": 11.6}, {\"Age\": 0.29, \"SST\": 11.5}, {\"Age\": 0.29, \"SST\": 11.4}, {\"Age\": 0.55, \"SST\": 11.3}, {\"Age\": 0.68, \"SST\": 11.4}, {\"Age\": 0.82, \"SST\": 11.6}, {\"Age\": 0.95, \"SST\": 11.3}, {\"Age\": 1.21, \"SST\": 11.5}, {\"Age\": 1.34, \"SST\": 11.5}, {\"Age\": 1.47, \"SST\": 11.7}, {\"Age\": 1.61, \"SST\": 11.6}, {\"Age\": 1.87, \"SST\": 11.5}, {\"Age\": 1.87, \"SST\": 11.4}, {\"Age\": 2.0, \"SST\": 11.3}, {\"Age\": 2.0, \"SST\": 11.2}, {\"Age\": 2.13, \"SST\": 10.9}, {\"Age\": 2.26, \"SST\": 11.5}, {\"Age\": 2.53, \"SST\": 11.8}, {\"Age\": 2.66, \"SST\": 11.9}, {\"Age\": 2.79, \"SST\": 12.1}, {\"Age\": 2.92, \"SST\": 11.6}, {\"Age\": 3.18, \"SST\": 12.2}, {\"Age\": 3.32, \"SST\": 11.3}, {\"Age\": 3.45, \"SST\": 10.5}, {\"Age\": 3.58, \"SST\": 10.8}, {\"Age\": 3.58, \"SST\": 10.8}, {\"Age\": 3.58, \"SST\": 10.8}, {\"Age\": 3.84, \"SST\": 11.0}, {\"Age\": 3.97, \"SST\": 10.7}, {\"Age\": 4.11, \"SST\": 11.0}, {\"Age\": 4.24, \"SST\": 10.6}, {\"Age\": 4.5, \"SST\": 11.2}, {\"Age\": 4.63, \"SST\": 10.4}, {\"Age\": 4.76, \"SST\": 10.6}, {\"Age\": 4.89, \"SST\": 10.4}, {\"Age\": 5.18, \"SST\": 10.5}, {\"Age\": 5.29, \"SST\": 10.5}, {\"Age\": 5.42, \"SST\": 10.6}, {\"Age\": 5.52, \"SST\": 10.6}, {\"Age\": 5.52, \"SST\": 10.8}, {\"Age\": 5.73, \"SST\": 10.8}, {\"Age\": 5.83, \"SST\": 10.7}, {\"Age\": 5.94, \"SST\": 10.8}, {\"Age\": 6.05, \"SST\": 10.8}, {\"Age\": 6.26, \"SST\": 10.4}, {\"Age\": 6.37, \"SST\": 10.2}, {\"Age\": 6.49, \"SST\": 9.8}, {\"Age\": 6.58, \"SST\": 10.1}, {\"Age\": 6.79, \"SST\": 10.4}, {\"Age\": 6.92, \"SST\": 10.2}, {\"Age\": 6.92, \"SST\": 10.2}, {\"Age\": 7.0, \"SST\": 10.7}, {\"Age\": 7.11, \"SST\": 10.6}, {\"Age\": 7.32, \"SST\": 10.4}, {\"Age\": 7.43, \"SST\": 10.4}, {\"Age\": 7.54, \"SST\": 10.9}, {\"Age\": 7.73, \"SST\": 10.9}, {\"Age\": 7.84, \"SST\": 10.6}, {\"Age\": 7.94, \"SST\": 11.5}, {\"Age\": 8.05, \"SST\": 10.8}, {\"Age\": 8.2, \"SST\": 10.2}, {\"Age\": 8.39, \"SST\": 11.3}, {\"Age\": 8.49, \"SST\": 11.3}, {\"Age\": 8.6, \"SST\": 11.8}, {\"Age\": 8.71, \"SST\": 11.3}, {\"Age\": 8.92, \"SST\": 11.6}, {\"Age\": 8.92, \"SST\": 11.8}, {\"Age\": 9.03, \"SST\": 11.7}, {\"Age\": 9.13, \"SST\": 11.7}, {\"Age\": 9.26, \"SST\": 11.5}, {\"Age\": 9.37, \"SST\": 11.9}, {\"Age\": 9.56, \"SST\": 11.8}, {\"Age\": 9.66, \"SST\": 11.1}, {\"Age\": 9.77, \"SST\": 12.7}, {\"Age\": 9.97, \"SST\": 12.8}, {\"Age\": 10.05, \"SST\": 13.2}, {\"Age\": 10.17, \"SST\": 11.6}, {\"Age\": 10.22, \"SST\": 12.0}, {\"Age\": 10.35, \"SST\": 11.9}, {\"Age\": 10.4, \"SST\": 11.9}, {\"Age\": 10.52, \"SST\": 11.6}, {\"Age\": 10.58, \"SST\": 11.7}, {\"Age\": 10.66, \"SST\": 11.3}, {\"Age\": 10.72, \"SST\": 11.5}, {\"Age\": 10.77, \"SST\": 11.0}, {\"Age\": 10.83, \"SST\": 10.8}, {\"Age\": 10.99, \"SST\": 10.3}, {\"Age\": 11.07, \"SST\": 11.2}, {\"Age\": 11.15, \"SST\": 13.1}, {\"Age\": 11.31, \"SST\": 13.1}, {\"Age\": 11.31, \"SST\": 11.9}, {\"Age\": 11.41, \"SST\": 11.7}, {\"Age\": 11.49, \"SST\": 11.1}, {\"Age\": 11.57, \"SST\": 9.5}, {\"Age\": 11.57, \"SST\": 9.6}, {\"Age\": 11.73, \"SST\": 8.4}, {\"Age\": 11.8, \"SST\": 8.0}, {\"Age\": 11.96, \"SST\": 8.0}, {\"Age\": 12.13, \"SST\": 7.7}, {\"Age\": 12.21, \"SST\": 7.6}, {\"Age\": 12.28, \"SST\": 7.5}, {\"Age\": 12.36, \"SST\": 7.6}, {\"Age\": 12.52, \"SST\": 7.6}, {\"Age\": 12.52, \"SST\": 7.5}, {\"Age\": 12.6, \"SST\": 7.3}, {\"Age\": 12.68, \"SST\": 7.4}, {\"Age\": 12.84, \"SST\": 8.1}, {\"Age\": 12.92, \"SST\": 8.5}, {\"Age\": 13.01, \"SST\": 9.4}, {\"Age\": 13.09, \"SST\": 10.8}, {\"Age\": 13.17, \"SST\": 10.0}, {\"Age\": 13.33, \"SST\": 10.3}, {\"Age\": 13.41, \"SST\": 10.3}, {\"Age\": 13.49, \"SST\": 10.4}, {\"Age\": 13.57, \"SST\": 12.9}, {\"Age\": 13.73, \"SST\": 10.4}, {\"Age\": 13.81, \"SST\": 10.7}, {\"Age\": 13.89, \"SST\": 9.0}, {\"Age\": 13.97, \"SST\": 10.3}, {\"Age\": 14.13, \"SST\": 9.7}, {\"Age\": 14.21, \"SST\": 9.0}, {\"Age\": 14.3, \"SST\": 9.3}, {\"Age\": 14.38, \"SST\": 11.1}, {\"Age\": 14.62, \"SST\": 12.1}, {\"Age\": 14.7, \"SST\": 10.8}, {\"Age\": 14.78, \"SST\": 8.5}, {\"Age\": 14.94, \"SST\": 11.3}], \"data-6cea38239315c3d997ab47994b5133ac\": [{\"SST\": 0.0, \"upr\": 11, \"lwr\": 15}, {\"SST\": 0.1414141414141414, \"upr\": 11, \"lwr\": 15}, {\"SST\": 0.2828282828282828, \"upr\": 11, \"lwr\": 15}, {\"SST\": 0.4242424242424242, \"upr\": 11, \"lwr\": 15}, {\"SST\": 0.5656565656565656, \"upr\": 11, \"lwr\": 15}, {\"SST\": 0.7070707070707071, \"upr\": 11, \"lwr\": 15}, {\"SST\": 0.8484848484848484, \"upr\": 11, \"lwr\": 15}, {\"SST\": 0.9898989898989898, \"upr\": 11, \"lwr\": 15}, {\"SST\": 1.1313131313131313, \"upr\": 11, \"lwr\": 15}, {\"SST\": 1.2727272727272727, \"upr\": 11, \"lwr\": 15}, {\"SST\": 1.4141414141414141, \"upr\": 11, \"lwr\": 15}, {\"SST\": 1.5555555555555556, \"upr\": 11, \"lwr\": 15}, {\"SST\": 1.6969696969696968, \"upr\": 11, \"lwr\": 15}, {\"SST\": 1.8383838383838382, \"upr\": 11, \"lwr\": 15}, {\"SST\": 1.9797979797979797, \"upr\": 11, \"lwr\": 15}, {\"SST\": 2.121212121212121, \"upr\": 11, \"lwr\": 15}, {\"SST\": 2.2626262626262625, \"upr\": 11, \"lwr\": 15}, {\"SST\": 2.404040404040404, \"upr\": 11, \"lwr\": 15}, {\"SST\": 2.5454545454545454, \"upr\": 11, \"lwr\": 15}, {\"SST\": 2.686868686868687, \"upr\": 11, \"lwr\": 15}, {\"SST\": 2.8282828282828283, \"upr\": 11, \"lwr\": 15}, {\"SST\": 2.9696969696969697, \"upr\": 11, \"lwr\": 15}, {\"SST\": 3.111111111111111, \"upr\": 11, \"lwr\": 15}, {\"SST\": 3.2525252525252526, \"upr\": 11, \"lwr\": 15}, {\"SST\": 3.3939393939393936, \"upr\": 11, \"lwr\": 15}, {\"SST\": 3.535353535353535, \"upr\": 11, \"lwr\": 15}, {\"SST\": 3.6767676767676765, \"upr\": 11, \"lwr\": 15}, {\"SST\": 3.818181818181818, \"upr\": 11, \"lwr\": 15}, {\"SST\": 3.9595959595959593, \"upr\": 11, \"lwr\": 15}, {\"SST\": 4.101010101010101, \"upr\": 11, \"lwr\": 15}, {\"SST\": 4.242424242424242, \"upr\": 11, \"lwr\": 15}, {\"SST\": 4.383838383838384, \"upr\": 11, \"lwr\": 15}, {\"SST\": 4.525252525252525, \"upr\": 11, \"lwr\": 15}, {\"SST\": 4.666666666666666, \"upr\": 11, \"lwr\": 15}, {\"SST\": 4.808080808080808, \"upr\": 11, \"lwr\": 15}, {\"SST\": 4.949494949494949, \"upr\": 11, \"lwr\": 15}, {\"SST\": 5.090909090909091, \"upr\": 11, \"lwr\": 15}, {\"SST\": 5.232323232323232, \"upr\": 11, \"lwr\": 15}, {\"SST\": 5.373737373737374, \"upr\": 11, \"lwr\": 15}, {\"SST\": 5.515151515151515, \"upr\": 11, \"lwr\": 15}, {\"SST\": 5.656565656565657, \"upr\": 11, \"lwr\": 15}, {\"SST\": 5.797979797979798, \"upr\": 11, \"lwr\": 15}, {\"SST\": 5.9393939393939394, \"upr\": 11, \"lwr\": 15}, {\"SST\": 6.08080808080808, \"upr\": 11, \"lwr\": 15}, {\"SST\": 6.222222222222222, \"upr\": 11, \"lwr\": 15}, {\"SST\": 6.363636363636363, \"upr\": 11, \"lwr\": 15}, {\"SST\": 6.505050505050505, \"upr\": 11, \"lwr\": 15}, {\"SST\": 6.646464646464646, \"upr\": 11, \"lwr\": 15}, {\"SST\": 6.787878787878787, \"upr\": 11, \"lwr\": 15}, {\"SST\": 6.929292929292929, \"upr\": 11, \"lwr\": 15}, {\"SST\": 7.07070707070707, \"upr\": 11, \"lwr\": 15}, {\"SST\": 7.212121212121212, \"upr\": 11, \"lwr\": 15}, {\"SST\": 7.353535353535353, \"upr\": 11, \"lwr\": 15}, {\"SST\": 7.494949494949495, \"upr\": 11, \"lwr\": 15}, {\"SST\": 7.636363636363636, \"upr\": 11, \"lwr\": 15}, {\"SST\": 7.777777777777778, \"upr\": 11, \"lwr\": 15}, {\"SST\": 7.919191919191919, \"upr\": 11, \"lwr\": 15}, {\"SST\": 8.06060606060606, \"upr\": 11, \"lwr\": 15}, {\"SST\": 8.202020202020202, \"upr\": 11, \"lwr\": 15}, {\"SST\": 8.343434343434343, \"upr\": 11, \"lwr\": 15}, {\"SST\": 8.484848484848484, \"upr\": 11, \"lwr\": 15}, {\"SST\": 8.626262626262626, \"upr\": 11, \"lwr\": 15}, {\"SST\": 8.767676767676768, \"upr\": 11, \"lwr\": 15}, {\"SST\": 8.909090909090908, \"upr\": 11, \"lwr\": 15}, {\"SST\": 9.05050505050505, \"upr\": 11, \"lwr\": 15}, {\"SST\": 9.191919191919192, \"upr\": 11, \"lwr\": 15}, {\"SST\": 9.333333333333332, \"upr\": 11, \"lwr\": 15}, {\"SST\": 9.474747474747474, \"upr\": 11, \"lwr\": 15}, {\"SST\": 9.616161616161616, \"upr\": 11, \"lwr\": 15}, {\"SST\": 9.757575757575758, \"upr\": 11, \"lwr\": 15}, {\"SST\": 9.898989898989898, \"upr\": 11, \"lwr\": 15}, {\"SST\": 10.04040404040404, \"upr\": 11, \"lwr\": 15}, {\"SST\": 10.181818181818182, \"upr\": 11, \"lwr\": 15}, {\"SST\": 10.323232323232324, \"upr\": 11, \"lwr\": 15}, {\"SST\": 10.464646464646464, \"upr\": 11, \"lwr\": 15}, {\"SST\": 10.606060606060606, \"upr\": 11, \"lwr\": 15}, {\"SST\": 10.747474747474747, \"upr\": 11, \"lwr\": 15}, {\"SST\": 10.88888888888889, \"upr\": 11, \"lwr\": 15}, {\"SST\": 11.03030303030303, \"upr\": 11, \"lwr\": 15}, {\"SST\": 11.171717171717171, \"upr\": 11, \"lwr\": 15}, {\"SST\": 11.313131313131313, \"upr\": 11, \"lwr\": 15}, {\"SST\": 11.454545454545453, \"upr\": 11, \"lwr\": 15}, {\"SST\": 11.595959595959595, \"upr\": 11, \"lwr\": 15}, {\"SST\": 11.737373737373737, \"upr\": 11, \"lwr\": 15}, {\"SST\": 11.878787878787879, \"upr\": 11, \"lwr\": 15}, {\"SST\": 12.020202020202019, \"upr\": 11, \"lwr\": 15}, {\"SST\": 12.16161616161616, \"upr\": 11, \"lwr\": 15}, {\"SST\": 12.303030303030303, \"upr\": 11, \"lwr\": 15}, {\"SST\": 12.444444444444445, \"upr\": 11, \"lwr\": 15}, {\"SST\": 12.585858585858585, \"upr\": 11, \"lwr\": 15}, {\"SST\": 12.727272727272727, \"upr\": 11, \"lwr\": 15}, {\"SST\": 12.868686868686869, \"upr\": 11, \"lwr\": 15}, {\"SST\": 13.01010101010101, \"upr\": 11, \"lwr\": 15}, {\"SST\": 13.15151515151515, \"upr\": 11, \"lwr\": 15}, {\"SST\": 13.292929292929292, \"upr\": 11, \"lwr\": 15}, {\"SST\": 13.434343434343434, \"upr\": 11, \"lwr\": 15}, {\"SST\": 13.575757575757574, \"upr\": 11, \"lwr\": 15}, {\"SST\": 13.717171717171716, \"upr\": 11, \"lwr\": 15}, {\"SST\": 13.858585858585858, \"upr\": 11, \"lwr\": 15}, {\"SST\": 14.0, \"upr\": 11, \"lwr\": 15}]}}, {\"mode\": \"vega-lite\"});\n",
       "</script>"
      ],
      "text/plain": [
       "alt.LayerChart(...)"
      ]
     },
     "execution_count": 31,
     "metadata": {},
     "output_type": "execute_result"
    }
   ],
   "source": [
    "# import sea surface temp reconstruction\n",
    "seatemps = pd.read_csv('data/barron-sst.csv')\n",
    "\n",
    "# line plot of time series\n",
    "line = alt.Chart(seatemps).mark_line().encode(\n",
    "    x = alt.X('Age', title = 'Thousands of years before present'),\n",
    "    y = 'SST'\n",
    ")\n",
    "\n",
    "# highlight region with large variations\n",
    "highlight = alt.Chart(\n",
    "    pd.DataFrame(\n",
    "        {'SST': np.linspace(0, 14, 100), \n",
    "         'upr': np.repeat(11, 100), \n",
    "         'lwr': np.repeat(15, 100)}\n",
    "    )\n",
    ").mark_area(opacity = 0.2, color = 'orange').encode(\n",
    "    y = 'SST',\n",
    "    x = alt.X('upr', title = 'Thousands of years before present'),\n",
    "    x2 = 'lwr'\n",
    ")\n",
    "\n",
    "# add smooth trend\n",
    "smooth = line.transform_loess(\n",
    "    on = 'Age',\n",
    "    loess = 'SST',\n",
    "    bandwidth = 0.2\n",
    ").mark_line(color = 'black')\n",
    "\n",
    "# layer\n",
    "line + highlight + smooth"
   ]
  },
  {
   "attachments": {},
   "cell_type": "markdown",
   "metadata": {},
   "source": [
    "<!-- BEGIN QUESTION -->\n",
    "\n",
    "### Question 8: Conditional distributions of relative abundance\n",
    "\n",
    "Does the distribution of relative abundance of *Azpeitia nodulifer* differ when variation in sea temperatures was higher (before 11KyrBP)? \n",
    "\n",
    "**(i) Plot kernel density estimates to show the distribution of relative abundances before and after 11KyrBP.**\n",
    "\n",
    "Use the Altair implementation of Gaussian KDE:\n",
    "1. Use `.transform_caluculate(...)` to calculate an indicator variable, `pleistocene`, that indicates whether `Age` exceeds 11.\n",
    "2. Use `.transform_density(...)` to compute KDEs separately for observations of relative abundance before and after 11KyrBP.\n",
    "    + *Hint*: group by `pleistocene`\n",
    "3. Plot the KDEs distinguished by color; give the color legend the title 'Before 11KyrBP' and store the plot as `kdes`.\n",
    "4. Add a shaded area beneath the KDE curves. Adjust the opacity of the area to your liking.\n",
    "\n",
    "Store the result as `fig4` and display the figure.\n",
    "\n",
    "**(ii) Does the distribution seem to change between epochs? If so, how?**\n",
    "\n",
    "Answer based on the figure in a few sentences."
   ]
  },
  {
   "cell_type": "markdown",
   "metadata": {},
   "source": [
    "_Type your answer here, replacing this text._"
   ]
  },
  {
   "cell_type": "code",
   "execution_count": 32,
   "metadata": {
    "tags": [
     "otter_assign_solution_cell"
    ]
   },
   "outputs": [
    {
     "data": {
      "text/html": [
       "\n",
       "<div id=\"altair-viz-7e007e4c00a9449eb305bf4d6c25caf3\"></div>\n",
       "<script type=\"text/javascript\">\n",
       "  var VEGA_DEBUG = (typeof VEGA_DEBUG == \"undefined\") ? {} : VEGA_DEBUG;\n",
       "  (function(spec, embedOpt){\n",
       "    let outputDiv = document.currentScript.previousElementSibling;\n",
       "    if (outputDiv.id !== \"altair-viz-7e007e4c00a9449eb305bf4d6c25caf3\") {\n",
       "      outputDiv = document.getElementById(\"altair-viz-7e007e4c00a9449eb305bf4d6c25caf3\");\n",
       "    }\n",
       "    const paths = {\n",
       "      \"vega\": \"https://cdn.jsdelivr.net/npm//vega@5?noext\",\n",
       "      \"vega-lib\": \"https://cdn.jsdelivr.net/npm//vega-lib?noext\",\n",
       "      \"vega-lite\": \"https://cdn.jsdelivr.net/npm//vega-lite@4.17.0?noext\",\n",
       "      \"vega-embed\": \"https://cdn.jsdelivr.net/npm//vega-embed@6?noext\",\n",
       "    };\n",
       "\n",
       "    function maybeLoadScript(lib, version) {\n",
       "      var key = `${lib.replace(\"-\", \"\")}_version`;\n",
       "      return (VEGA_DEBUG[key] == version) ?\n",
       "        Promise.resolve(paths[lib]) :\n",
       "        new Promise(function(resolve, reject) {\n",
       "          var s = document.createElement('script');\n",
       "          document.getElementsByTagName(\"head\")[0].appendChild(s);\n",
       "          s.async = true;\n",
       "          s.onload = () => {\n",
       "            VEGA_DEBUG[key] = version;\n",
       "            return resolve(paths[lib]);\n",
       "          };\n",
       "          s.onerror = () => reject(`Error loading script: ${paths[lib]}`);\n",
       "          s.src = paths[lib];\n",
       "        });\n",
       "    }\n",
       "\n",
       "    function showError(err) {\n",
       "      outputDiv.innerHTML = `<div class=\"error\" style=\"color:red;\">${err}</div>`;\n",
       "      throw err;\n",
       "    }\n",
       "\n",
       "    function displayChart(vegaEmbed) {\n",
       "      vegaEmbed(outputDiv, spec, embedOpt)\n",
       "        .catch(err => showError(`Javascript Error: ${err.message}<br>This usually means there's a typo in your chart specification. See the javascript console for the full traceback.`));\n",
       "    }\n",
       "\n",
       "    if(typeof define === \"function\" && define.amd) {\n",
       "      requirejs.config({paths});\n",
       "      require([\"vega-embed\"], displayChart, err => showError(`Error loading script: ${err.message}`));\n",
       "    } else {\n",
       "      maybeLoadScript(\"vega\", \"5\")\n",
       "        .then(() => maybeLoadScript(\"vega-lite\", \"4.17.0\"))\n",
       "        .then(() => maybeLoadScript(\"vega-embed\", \"6\"))\n",
       "        .catch(showError)\n",
       "        .then(() => displayChart(vegaEmbed));\n",
       "    }\n",
       "  })({\"config\": {\"view\": {\"continuousWidth\": 400, \"continuousHeight\": 300}}, \"layer\": [{\"mark\": {\"type\": \"line\", \"color\": \"black\"}, \"encoding\": {\"color\": {\"field\": \"pleistocene\", \"title\": \"Pleistocene\", \"type\": \"nominal\"}, \"x\": {\"field\": \"Relative abundance\", \"type\": \"quantitative\"}, \"y\": {\"field\": \"Density\", \"type\": \"quantitative\"}}, \"transform\": [{\"calculate\": \"datum.Age > 11\", \"as\": \"pleistocene\"}, {\"density\": \"A_nodul\", \"bandwidth\": 0.025, \"extent\": [0, 0.4], \"groupby\": [\"pleistocene\"], \"steps\": 500, \"as\": [\"Relative abundance\", \"Density\"]}]}, {\"mark\": {\"type\": \"area\", \"opacity\": 0.2}, \"encoding\": {\"color\": {\"field\": \"pleistocene\", \"title\": \"Pleistocene\", \"type\": \"nominal\"}, \"x\": {\"field\": \"Relative abundance\", \"type\": \"quantitative\"}, \"y\": {\"field\": \"Density\", \"type\": \"quantitative\"}}, \"transform\": [{\"calculate\": \"datum.Age > 11\", \"as\": \"pleistocene\"}, {\"density\": \"A_nodul\", \"bandwidth\": 0.025, \"extent\": [0, 0.4], \"groupby\": [\"pleistocene\"], \"steps\": 500, \"as\": [\"Relative abundance\", \"Density\"]}]}], \"data\": {\"name\": \"data-9f4e66e54759d6b46301ea3d10ce44f6\"}, \"$schema\": \"https://vega.github.io/schema/vega-lite/v4.17.0.json\", \"datasets\": {\"data-9f4e66e54759d6b46301ea3d10ce44f6\": [{\"Depth\": 0.0, \"Age\": 1.33, \"A_curv\": 0.024875621890547265, \"A_octon\": 0.009950248756218905, \"ActinSpp\": 0.15920398009950248, \"A_nodul\": 0.06965174129353234, \"CoscinSpp\": 0.1044776119402985, \"CyclotSpp\": 0.10945273631840796, \"Rop_tess\": 0.004975124378109453, \"StephanSpp\": 0.004975124378109453}, {\"Depth\": 0.05, \"Age\": 1.37, \"A_curv\": 0.04, \"A_octon\": 0.01, \"ActinSpp\": 0.155, \"A_nodul\": 0.08, \"CoscinSpp\": 0.1, \"CyclotSpp\": 0.08, \"Rop_tess\": 0.035, \"StephanSpp\": 0.01}, {\"Depth\": 0.1, \"Age\": 1.42, \"A_curv\": 0.04, \"A_octon\": 0.03, \"ActinSpp\": 0.165, \"A_nodul\": 0.09, \"CoscinSpp\": 0.145, \"CyclotSpp\": 0.035, \"Rop_tess\": 0.005, \"StephanSpp\": 0.005}, {\"Depth\": 0.15, \"Age\": 1.46, \"A_curv\": 0.055, \"A_octon\": 0.005, \"ActinSpp\": 0.105, \"A_nodul\": 0.005, \"CoscinSpp\": 0.06, \"CyclotSpp\": 0.14, \"Rop_tess\": 0.125, \"StephanSpp\": 0.015}, {\"Depth\": 0.2, \"Age\": 1.51, \"A_curv\": 0.03666666666666667, \"A_octon\": 0.0033333333333333335, \"ActinSpp\": 0.12666666666666668, \"A_nodul\": 0.01, \"CoscinSpp\": 0.06, \"CyclotSpp\": 0.08, \"Rop_tess\": 0.01, \"StephanSpp\": 0.0}, {\"Depth\": 0.25, \"Age\": 1.55, \"A_curv\": 0.019704433497536946, \"A_octon\": 0.04433497536945813, \"ActinSpp\": 0.1477832512315271, \"A_nodul\": 0.04926108374384237, \"CoscinSpp\": 0.07881773399014778, \"CyclotSpp\": 0.06896551724137931, \"Rop_tess\": 0.07881773399014778, \"StephanSpp\": 0.0}, {\"Depth\": 0.3, \"Age\": 1.59, \"A_curv\": 0.025, \"A_octon\": 0.015, \"ActinSpp\": 0.105, \"A_nodul\": 0.02, \"CoscinSpp\": 0.06, \"CyclotSpp\": 0.08, \"Rop_tess\": 0.2, \"StephanSpp\": 0.0}, {\"Depth\": 0.35, \"Age\": 1.64, \"A_curv\": 0.035, \"A_octon\": 0.02, \"ActinSpp\": 0.18, \"A_nodul\": 0.095, \"CoscinSpp\": 0.095, \"CyclotSpp\": 0.065, \"Rop_tess\": 0.015, \"StephanSpp\": 0.005}, {\"Depth\": 0.4, \"Age\": 1.68, \"A_curv\": 0.07, \"A_octon\": 0.035, \"ActinSpp\": 0.2, \"A_nodul\": 0.02, \"CoscinSpp\": 0.12, \"CyclotSpp\": 0.055, \"Rop_tess\": 0.015, \"StephanSpp\": 0.005}, {\"Depth\": 0.45, \"Age\": 1.72, \"A_curv\": 0.03, \"A_octon\": 0.015, \"ActinSpp\": 0.185, \"A_nodul\": 0.03, \"CoscinSpp\": 0.13, \"CyclotSpp\": 0.1, \"Rop_tess\": 0.015, \"StephanSpp\": 0.005}, {\"Depth\": 0.5, \"Age\": 1.77, \"A_curv\": 0.04, \"A_octon\": 0.02, \"ActinSpp\": 0.1, \"A_nodul\": 0.055, \"CoscinSpp\": 0.055, \"CyclotSpp\": 0.1, \"Rop_tess\": 0.135, \"StephanSpp\": 0.005}, {\"Depth\": 0.55, \"Age\": 1.81, \"A_curv\": 0.024875621890547265, \"A_octon\": 0.014925373134328358, \"ActinSpp\": 0.17412935323383086, \"A_nodul\": 0.014925373134328358, \"CoscinSpp\": 0.07462686567164178, \"CyclotSpp\": 0.10945273631840796, \"Rop_tess\": 0.05970149253731343, \"StephanSpp\": 0.014925373134328358}, {\"Depth\": 0.6, \"Age\": 1.86, \"A_curv\": 0.04455445544554455, \"A_octon\": 0.01485148514851485, \"ActinSpp\": 0.1485148514851485, \"A_nodul\": 0.01485148514851485, \"CoscinSpp\": 0.0891089108910891, \"CyclotSpp\": 0.13366336633663367, \"Rop_tess\": 0.034653465346534656, \"StephanSpp\": 0.0049504950495049506}, {\"Depth\": 0.65, \"Age\": 1.9, \"A_curv\": 0.016556291390728478, \"A_octon\": 0.013245033112582781, \"ActinSpp\": 0.08940397350993377, \"A_nodul\": 0.019867549668874173, \"CoscinSpp\": 0.06291390728476821, \"CyclotSpp\": 0.11589403973509933, \"Rop_tess\": 0.013245033112582781, \"StephanSpp\": 0.0}, {\"Depth\": 0.7, \"Age\": 1.94, \"A_curv\": 0.065, \"A_octon\": 0.01, \"ActinSpp\": 0.18, \"A_nodul\": 0.04, \"CoscinSpp\": 0.075, \"CyclotSpp\": 0.105, \"Rop_tess\": 0.03, \"StephanSpp\": 0.0}, {\"Depth\": 0.75, \"Age\": 1.99, \"A_curv\": 0.029850746268656716, \"A_octon\": 0.009950248756218905, \"ActinSpp\": 0.16417910447761194, \"A_nodul\": 0.01990049751243781, \"CoscinSpp\": 0.15920398009950248, \"CyclotSpp\": 0.1044776119402985, \"Rop_tess\": 0.004975124378109453, \"StephanSpp\": 0.0}, {\"Depth\": 0.8, \"Age\": 2.03, \"A_curv\": 0.04455445544554455, \"A_octon\": 0.009900990099009901, \"ActinSpp\": 0.2079207920792079, \"A_nodul\": 0.01485148514851485, \"CoscinSpp\": 0.10396039603960396, \"CyclotSpp\": 0.0891089108910891, \"Rop_tess\": 0.019801980198019802, \"StephanSpp\": 0.0049504950495049506}, {\"Depth\": 0.85, \"Age\": 2.08, \"A_curv\": 0.06965174129353234, \"A_octon\": 0.014925373134328358, \"ActinSpp\": 0.1044776119402985, \"A_nodul\": 0.004975124378109453, \"CoscinSpp\": 0.06965174129353234, \"CyclotSpp\": 0.208955223880597, \"Rop_tess\": 0.01990049751243781, \"StephanSpp\": 0.0}, {\"Depth\": 0.9, \"Age\": 2.12, \"A_curv\": 0.04477611940298507, \"A_octon\": 0.024875621890547265, \"ActinSpp\": 0.12935323383084577, \"A_nodul\": 0.06467661691542288, \"CoscinSpp\": 0.07960199004975124, \"CyclotSpp\": 0.09950248756218906, \"Rop_tess\": 0.04477611940298507, \"StephanSpp\": 0.0}, {\"Depth\": 0.95, \"Age\": 2.16, \"A_curv\": 0.055, \"A_octon\": 0.02, \"ActinSpp\": 0.17, \"A_nodul\": 0.015, \"CoscinSpp\": 0.05, \"CyclotSpp\": 0.175, \"Rop_tess\": 0.015, \"StephanSpp\": 0.01}, {\"Depth\": 1.0, \"Age\": 2.21, \"A_curv\": 0.058823529411764705, \"A_octon\": 0.014705882352941176, \"ActinSpp\": 0.19117647058823528, \"A_nodul\": 0.004901960784313725, \"CoscinSpp\": 0.0784313725490196, \"CyclotSpp\": 0.11274509803921569, \"Rop_tess\": 0.00980392156862745, \"StephanSpp\": 0.00980392156862745}, {\"Depth\": 1.05, \"Age\": 2.25, \"A_curv\": 0.065, \"A_octon\": 0.015, \"ActinSpp\": 0.115, \"A_nodul\": 0.025, \"CoscinSpp\": 0.09, \"CyclotSpp\": 0.115, \"Rop_tess\": 0.075, \"StephanSpp\": 0.005}, {\"Depth\": 1.1, \"Age\": 2.29, \"A_curv\": 0.029850746268656716, \"A_octon\": 0.004975124378109453, \"ActinSpp\": 0.11442786069651742, \"A_nodul\": 0.01990049751243781, \"CoscinSpp\": 0.04975124378109453, \"CyclotSpp\": 0.0945273631840796, \"Rop_tess\": 0.07960199004975124, \"StephanSpp\": 0.0945273631840796}, {\"Depth\": 1.15, \"Age\": 2.34, \"A_curv\": 0.034482758620689655, \"A_octon\": 0.04433497536945813, \"ActinSpp\": 0.13793103448275862, \"A_nodul\": 0.03940886699507389, \"CoscinSpp\": 0.08866995073891626, \"CyclotSpp\": 0.11330049261083744, \"Rop_tess\": 0.034482758620689655, \"StephanSpp\": 0.0}, {\"Depth\": 1.2, \"Age\": 2.38, \"A_curv\": 0.03734439834024896, \"A_octon\": 0.012448132780082987, \"ActinSpp\": 0.04564315352697095, \"A_nodul\": 0.07883817427385892, \"CoscinSpp\": 0.04979253112033195, \"CyclotSpp\": 0.07468879668049792, \"Rop_tess\": 0.11203319502074689, \"StephanSpp\": 0.0}, {\"Depth\": 1.25, \"Age\": 2.43, \"A_curv\": 0.045, \"A_octon\": 0.015, \"ActinSpp\": 0.13, \"A_nodul\": 0.01, \"CoscinSpp\": 0.09, \"CyclotSpp\": 0.065, \"Rop_tess\": 0.11, \"StephanSpp\": 0.045}, {\"Depth\": 1.3, \"Age\": 2.47, \"A_curv\": 0.04, \"A_octon\": 0.01, \"ActinSpp\": 0.09, \"A_nodul\": 0.013333333333333334, \"CoscinSpp\": 0.043333333333333335, \"CyclotSpp\": 0.06333333333333334, \"Rop_tess\": 0.05333333333333334, \"StephanSpp\": 0.016666666666666666}, {\"Depth\": 1.35, \"Age\": 2.51, \"A_curv\": 0.04455445544554455, \"A_octon\": 0.019801980198019802, \"ActinSpp\": 0.14356435643564355, \"A_nodul\": 0.019801980198019802, \"CoscinSpp\": 0.039603960396039604, \"CyclotSpp\": 0.21287128712871287, \"Rop_tess\": 0.01485148514851485, \"StephanSpp\": 0.0}, {\"Depth\": 1.4, \"Age\": 2.56, \"A_curv\": 0.049019607843137254, \"A_octon\": 0.029411764705882353, \"ActinSpp\": 0.12254901960784313, \"A_nodul\": 0.014705882352941176, \"CoscinSpp\": 0.049019607843137254, \"CyclotSpp\": 0.17647058823529413, \"Rop_tess\": 0.04411764705882353, \"StephanSpp\": 0.004901960784313725}, {\"Depth\": 1.49, \"Age\": 2.64, \"A_curv\": 0.045, \"A_octon\": 0.015, \"ActinSpp\": 0.14, \"A_nodul\": 0.03, \"CoscinSpp\": 0.145, \"CyclotSpp\": 0.095, \"Rop_tess\": 0.045, \"StephanSpp\": 0.0}, {\"Depth\": 1.5, \"Age\": 2.65, \"A_curv\": 0.03, \"A_octon\": 0.035, \"ActinSpp\": 0.16, \"A_nodul\": 0.04, \"CoscinSpp\": 0.065, \"CyclotSpp\": 0.085, \"Rop_tess\": 0.095, \"StephanSpp\": 0.0}, {\"Depth\": 1.55, \"Age\": 2.69, \"A_curv\": 0.025, \"A_octon\": 0.035, \"ActinSpp\": 0.11, \"A_nodul\": 0.02, \"CoscinSpp\": 0.05, \"CyclotSpp\": 0.155, \"Rop_tess\": 0.115, \"StephanSpp\": 0.0}, {\"Depth\": 1.6, \"Age\": 2.73, \"A_curv\": 0.04, \"A_octon\": 0.03, \"ActinSpp\": 0.14, \"A_nodul\": 0.01, \"CoscinSpp\": 0.13, \"CyclotSpp\": 0.125, \"Rop_tess\": 0.03, \"StephanSpp\": 0.005}, {\"Depth\": 1.65, \"Age\": 2.78, \"A_curv\": 0.05, \"A_octon\": 0.005, \"ActinSpp\": 0.14, \"A_nodul\": 0.03, \"CoscinSpp\": 0.095, \"CyclotSpp\": 0.14, \"Rop_tess\": 0.05, \"StephanSpp\": 0.0}, {\"Depth\": 1.7, \"Age\": 2.82, \"A_curv\": 0.045, \"A_octon\": 0.015, \"ActinSpp\": 0.215, \"A_nodul\": 0.005, \"CoscinSpp\": 0.08, \"CyclotSpp\": 0.125, \"Rop_tess\": 0.02, \"StephanSpp\": 0.005}, {\"Depth\": 1.75, \"Age\": 2.87, \"A_curv\": 0.07881773399014778, \"A_octon\": 0.059113300492610835, \"ActinSpp\": 0.10344827586206896, \"A_nodul\": 0.019704433497536946, \"CoscinSpp\": 0.09359605911330049, \"CyclotSpp\": 0.09359605911330049, \"Rop_tess\": 0.034482758620689655, \"StephanSpp\": 0.009852216748768473}, {\"Depth\": 1.8, \"Age\": 2.91, \"A_curv\": 0.054187192118226604, \"A_octon\": 0.009852216748768473, \"ActinSpp\": 0.19704433497536947, \"A_nodul\": 0.029556650246305417, \"CoscinSpp\": 0.08374384236453201, \"CyclotSpp\": 0.07389162561576355, \"Rop_tess\": 0.034482758620689655, \"StephanSpp\": 0.0}, {\"Depth\": 1.85, \"Age\": 2.95, \"A_curv\": 0.025, \"A_octon\": 0.015, \"ActinSpp\": 0.19, \"A_nodul\": 0.025, \"CoscinSpp\": 0.115, \"CyclotSpp\": 0.105, \"Rop_tess\": 0.03, \"StephanSpp\": 0.005}, {\"Depth\": 1.9, \"Age\": 3.0, \"A_curv\": 0.03, \"A_octon\": 0.01, \"ActinSpp\": 0.09, \"A_nodul\": 0.005, \"CoscinSpp\": 0.055, \"CyclotSpp\": 0.18, \"Rop_tess\": 0.13, \"StephanSpp\": 0.005}, {\"Depth\": 1.95, \"Age\": 3.04, \"A_curv\": 0.05, \"A_octon\": 0.02, \"ActinSpp\": 0.2, \"A_nodul\": 0.01, \"CoscinSpp\": 0.075, \"CyclotSpp\": 0.12, \"Rop_tess\": 0.035, \"StephanSpp\": 0.005}, {\"Depth\": 2.0, \"Age\": 3.08, \"A_curv\": 0.0297029702970297, \"A_octon\": 0.0049504950495049506, \"ActinSpp\": 0.14356435643564355, \"A_nodul\": 0.0049504950495049506, \"CoscinSpp\": 0.0297029702970297, \"CyclotSpp\": 0.2079207920792079, \"Rop_tess\": 0.06930693069306931, \"StephanSpp\": 0.0}, {\"Depth\": 2.05, \"Age\": 3.13, \"A_curv\": 0.03, \"A_octon\": 0.04, \"ActinSpp\": 0.175, \"A_nodul\": 0.02, \"CoscinSpp\": 0.08, \"CyclotSpp\": 0.125, \"Rop_tess\": 0.04, \"StephanSpp\": 0.005}, {\"Depth\": 2.1, \"Age\": 3.17, \"A_curv\": 0.054187192118226604, \"A_octon\": 0.019704433497536946, \"ActinSpp\": 0.13793103448275862, \"A_nodul\": 0.014778325123152709, \"CoscinSpp\": 0.09359605911330049, \"CyclotSpp\": 0.1330049261083744, \"Rop_tess\": 0.03940886699507389, \"StephanSpp\": 0.0}, {\"Depth\": 2.15, \"Age\": 3.22, \"A_curv\": 0.02181818181818182, \"A_octon\": 0.01090909090909091, \"ActinSpp\": 0.13454545454545455, \"A_nodul\": 0.014545454545454545, \"CoscinSpp\": 0.04363636363636364, \"CyclotSpp\": 0.12727272727272726, \"Rop_tess\": 0.007272727272727273, \"StephanSpp\": 0.0}, {\"Depth\": 2.2, \"Age\": 3.26, \"A_curv\": 0.034653465346534656, \"A_octon\": 0.024752475247524754, \"ActinSpp\": 0.18316831683168316, \"A_nodul\": 0.06435643564356436, \"CoscinSpp\": 0.0891089108910891, \"CyclotSpp\": 0.07920792079207921, \"Rop_tess\": 0.009900990099009901, \"StephanSpp\": 0.0}, {\"Depth\": 2.25, \"Age\": 3.3, \"A_curv\": 0.035, \"A_octon\": 0.03, \"ActinSpp\": 0.18, \"A_nodul\": 0.02, \"CoscinSpp\": 0.1, \"CyclotSpp\": 0.11, \"Rop_tess\": 0.03, \"StephanSpp\": 0.005}, {\"Depth\": 2.3, \"Age\": 3.35, \"A_curv\": 0.024875621890547265, \"A_octon\": 0.029850746268656716, \"ActinSpp\": 0.15920398009950248, \"A_nodul\": 0.03482587064676617, \"CoscinSpp\": 0.10945273631840796, \"CyclotSpp\": 0.0945273631840796, \"Rop_tess\": 0.029850746268656716, \"StephanSpp\": 0.0}, {\"Depth\": 2.35, \"Age\": 3.39, \"A_curv\": 0.02666666666666667, \"A_octon\": 0.04666666666666667, \"ActinSpp\": 0.09666666666666666, \"A_nodul\": 0.01, \"CoscinSpp\": 0.04, \"CyclotSpp\": 0.10333333333333333, \"Rop_tess\": 0.01, \"StephanSpp\": 0.0}, {\"Depth\": 2.4, \"Age\": 3.44, \"A_curv\": 0.045, \"A_octon\": 0.03, \"ActinSpp\": 0.175, \"A_nodul\": 0.01, \"CoscinSpp\": 0.095, \"CyclotSpp\": 0.13, \"Rop_tess\": 0.025, \"StephanSpp\": 0.0}, {\"Depth\": 2.45, \"Age\": 3.48, \"A_curv\": 0.045, \"A_octon\": 0.04, \"ActinSpp\": 0.17, \"A_nodul\": 0.015, \"CoscinSpp\": 0.11, \"CyclotSpp\": 0.12, \"Rop_tess\": 0.01, \"StephanSpp\": 0.005}, {\"Depth\": 2.5, \"Age\": 3.52, \"A_curv\": 0.03482587064676617, \"A_octon\": 0.01990049751243781, \"ActinSpp\": 0.1791044776119403, \"A_nodul\": 0.01990049751243781, \"CoscinSpp\": 0.09950248756218906, \"CyclotSpp\": 0.12437810945273632, \"Rop_tess\": 0.004975124378109453, \"StephanSpp\": 0.009950248756218905}, {\"Depth\": 2.55, \"Age\": 3.57, \"A_curv\": 0.04455445544554455, \"A_octon\": 0.0297029702970297, \"ActinSpp\": 0.1782178217821782, \"A_nodul\": 0.024752475247524754, \"CoscinSpp\": 0.1188118811881188, \"CyclotSpp\": 0.06930693069306931, \"Rop_tess\": 0.0297029702970297, \"StephanSpp\": 0.0}, {\"Depth\": 2.59, \"Age\": 3.6, \"A_curv\": 0.03, \"A_octon\": 0.015, \"ActinSpp\": 0.22, \"A_nodul\": 0.015, \"CoscinSpp\": 0.11, \"CyclotSpp\": 0.09, \"Rop_tess\": 0.03, \"StephanSpp\": 0.0}, {\"Depth\": 2.65, \"Age\": 3.65, \"A_curv\": 0.03, \"A_octon\": 0.02, \"ActinSpp\": 0.155, \"A_nodul\": 0.035, \"CoscinSpp\": 0.095, \"CyclotSpp\": 0.155, \"Rop_tess\": 0.02, \"StephanSpp\": 0.005}, {\"Depth\": 2.7, \"Age\": 3.7, \"A_curv\": 0.04245283018867924, \"A_octon\": 0.0330188679245283, \"ActinSpp\": 0.14150943396226415, \"A_nodul\": 0.02358490566037736, \"CoscinSpp\": 0.08018867924528301, \"CyclotSpp\": 0.09905660377358491, \"Rop_tess\": 0.04716981132075472, \"StephanSpp\": 0.0}, {\"Depth\": 2.75, \"Age\": 3.74, \"A_curv\": 0.035, \"A_octon\": 0.02, \"ActinSpp\": 0.15, \"A_nodul\": 0.025, \"CoscinSpp\": 0.085, \"CyclotSpp\": 0.165, \"Rop_tess\": 0.03, \"StephanSpp\": 0.0}, {\"Depth\": 2.8, \"Age\": 3.79, \"A_curv\": 0.03515625, \"A_octon\": 0.015625, \"ActinSpp\": 0.1171875, \"A_nodul\": 0.01953125, \"CoscinSpp\": 0.05078125, \"CyclotSpp\": 0.1328125, \"Rop_tess\": 0.015625, \"StephanSpp\": 0.0}, {\"Depth\": 2.85, \"Age\": 3.83, \"A_curv\": 0.016, \"A_octon\": 0.032, \"ActinSpp\": 0.16, \"A_nodul\": 0.024, \"CoscinSpp\": 0.06, \"CyclotSpp\": 0.088, \"Rop_tess\": 0.016, \"StephanSpp\": 0.0}, {\"Depth\": 2.9, \"Age\": 3.87, \"A_curv\": 0.048, \"A_octon\": 0.016, \"ActinSpp\": 0.156, \"A_nodul\": 0.012, \"CoscinSpp\": 0.072, \"CyclotSpp\": 0.08, \"Rop_tess\": 0.012, \"StephanSpp\": 0.0}, {\"Depth\": 2.95, \"Age\": 3.92, \"A_curv\": 0.015151515151515152, \"A_octon\": 0.026515151515151516, \"ActinSpp\": 0.13257575757575757, \"A_nodul\": 0.01893939393939394, \"CoscinSpp\": 0.056818181818181816, \"CyclotSpp\": 0.12121212121212122, \"Rop_tess\": 0.007575757575757576, \"StephanSpp\": 0.0}, {\"Depth\": 3.0, \"Age\": 3.96, \"A_curv\": 0.014005602240896359, \"A_octon\": 0.025210084033613446, \"ActinSpp\": 0.08403361344537816, \"A_nodul\": 0.0056022408963585435, \"CoscinSpp\": 0.03361344537815126, \"CyclotSpp\": 0.1092436974789916, \"Rop_tess\": 0.008403361344537815, \"StephanSpp\": 0.0}, {\"Depth\": 3.0, \"Age\": 3.96, \"A_curv\": 0.03, \"A_octon\": 0.015, \"ActinSpp\": 0.065, \"A_nodul\": 0.01, \"CoscinSpp\": 0.05, \"CyclotSpp\": 0.165, \"Rop_tess\": 0.165, \"StephanSpp\": 0.005}, {\"Depth\": 3.05, \"Age\": 4.01, \"A_curv\": 0.024822695035460994, \"A_octon\": 0.014184397163120567, \"ActinSpp\": 0.09219858156028368, \"A_nodul\": 0.02127659574468085, \"CoscinSpp\": 0.05673758865248227, \"CyclotSpp\": 0.12056737588652482, \"Rop_tess\": 0.024822695035460994, \"StephanSpp\": 0.0}, {\"Depth\": 3.1, \"Age\": 4.05, \"A_curv\": 0.024, \"A_octon\": 0.008, \"ActinSpp\": 0.12, \"A_nodul\": 0.012, \"CoscinSpp\": 0.096, \"CyclotSpp\": 0.104, \"Rop_tess\": 0.04, \"StephanSpp\": 0.0}, {\"Depth\": 3.2, \"Age\": 4.14, \"A_curv\": 0.02040816326530612, \"A_octon\": 0.012244897959183673, \"ActinSpp\": 0.07755102040816327, \"A_nodul\": 0.02857142857142857, \"CoscinSpp\": 0.053061224489795916, \"CyclotSpp\": 0.10612244897959183, \"Rop_tess\": 0.11020408163265306, \"StephanSpp\": 0.0}, {\"Depth\": 3.25, \"Age\": 4.18, \"A_curv\": 0.01932367149758454, \"A_octon\": 0.00966183574879227, \"ActinSpp\": 0.15942028985507245, \"A_nodul\": 0.057971014492753624, \"CoscinSpp\": 0.057971014492753624, \"CyclotSpp\": 0.08695652173913043, \"Rop_tess\": 0.08695652173913043, \"StephanSpp\": 0.0}, {\"Depth\": 3.3, \"Age\": 4.22, \"A_curv\": 0.023696682464454975, \"A_octon\": 0.014218009478672985, \"ActinSpp\": 0.12796208530805686, \"A_nodul\": 0.052132701421800945, \"CoscinSpp\": 0.10426540284360189, \"CyclotSpp\": 0.0995260663507109, \"Rop_tess\": 0.052132701421800945, \"StephanSpp\": 0.0}, {\"Depth\": 3.35, \"Age\": 4.27, \"A_curv\": 0.009950248756218905, \"A_octon\": 0.009950248756218905, \"ActinSpp\": 0.11442786069651742, \"A_nodul\": 0.11442786069651742, \"CoscinSpp\": 0.06965174129353234, \"CyclotSpp\": 0.08955223880597014, \"Rop_tess\": 0.07960199004975124, \"StephanSpp\": 0.0}, {\"Depth\": 3.4, \"Age\": 4.31, \"A_curv\": 0.02, \"A_octon\": 0.025, \"ActinSpp\": 0.16, \"A_nodul\": 0.11, \"CoscinSpp\": 0.055, \"CyclotSpp\": 0.125, \"Rop_tess\": 0.015, \"StephanSpp\": 0.0}, {\"Depth\": 3.45, \"Age\": 4.36, \"A_curv\": 0.015, \"A_octon\": 0.005, \"ActinSpp\": 0.07, \"A_nodul\": 0.02, \"CoscinSpp\": 0.015, \"CyclotSpp\": 0.085, \"Rop_tess\": 0.3, \"StephanSpp\": 0.0}, {\"Depth\": 3.5, \"Age\": 4.4, \"A_curv\": 0.01532567049808429, \"A_octon\": 0.007662835249042145, \"ActinSpp\": 0.13026819923371646, \"A_nodul\": 0.019157088122605363, \"CoscinSpp\": 0.05747126436781609, \"CyclotSpp\": 0.11877394636015326, \"Rop_tess\": 0.03065134099616858, \"StephanSpp\": 0.0}, {\"Depth\": 3.55, \"Age\": 4.44, \"A_curv\": 0.01, \"A_octon\": 0.01, \"ActinSpp\": 0.07, \"A_nodul\": 0.03, \"CoscinSpp\": 0.035, \"CyclotSpp\": 0.115, \"Rop_tess\": 0.24, \"StephanSpp\": 0.0}, {\"Depth\": 3.6, \"Age\": 4.49, \"A_curv\": 0.017391304347826087, \"A_octon\": 0.021739130434782608, \"ActinSpp\": 0.09565217391304348, \"A_nodul\": 0.14347826086956522, \"CoscinSpp\": 0.0391304347826087, \"CyclotSpp\": 0.06956521739130435, \"Rop_tess\": 0.04782608695652174, \"StephanSpp\": 0.0}, {\"Depth\": 3.65, \"Age\": 4.53, \"A_curv\": 0.0375, \"A_octon\": 0.0125, \"ActinSpp\": 0.17083333333333334, \"A_nodul\": 0.025, \"CoscinSpp\": 0.05416666666666667, \"CyclotSpp\": 0.075, \"Rop_tess\": 0.041666666666666664, \"StephanSpp\": 0.0}, {\"Depth\": 3.7, \"Age\": 4.58, \"A_curv\": 0.017777777777777778, \"A_octon\": 0.008888888888888889, \"ActinSpp\": 0.16444444444444445, \"A_nodul\": 0.057777777777777775, \"CoscinSpp\": 0.08, \"CyclotSpp\": 0.06666666666666667, \"Rop_tess\": 0.04, \"StephanSpp\": 0.0}, {\"Depth\": 3.75, \"Age\": 4.62, \"A_curv\": 0.02857142857142857, \"A_octon\": 0.022222222222222223, \"ActinSpp\": 0.1523809523809524, \"A_nodul\": 0.009523809523809525, \"CoscinSpp\": 0.047619047619047616, \"CyclotSpp\": 0.05714285714285714, \"Rop_tess\": 0.0031746031746031746, \"StephanSpp\": 0.0}, {\"Depth\": 4.75, \"Age\": 5.5, \"A_curv\": 0.0196078431372549, \"A_octon\": 0.00980392156862745, \"ActinSpp\": 0.19117647058823528, \"A_nodul\": 0.04411764705882353, \"CoscinSpp\": 0.11764705882352941, \"CyclotSpp\": 0.06862745098039216, \"Rop_tess\": 0.014705882352941176, \"StephanSpp\": 0.014705882352941176}, {\"Depth\": 4.8, \"Age\": 5.54, \"A_curv\": 0.0297029702970297, \"A_octon\": 0.019801980198019802, \"ActinSpp\": 0.15346534653465346, \"A_nodul\": 0.09405940594059406, \"CoscinSpp\": 0.08415841584158416, \"CyclotSpp\": 0.07425742574257425, \"Rop_tess\": 0.0297029702970297, \"StephanSpp\": 0.0049504950495049506}, {\"Depth\": 4.85, \"Age\": 5.58, \"A_curv\": 0.024271844660194174, \"A_octon\": 0.014563106796116505, \"ActinSpp\": 0.2087378640776699, \"A_nodul\": 0.05339805825242718, \"CoscinSpp\": 0.05825242718446602, \"CyclotSpp\": 0.0825242718446602, \"Rop_tess\": 0.038834951456310676, \"StephanSpp\": 0.0}, {\"Depth\": 4.9, \"Age\": 5.63, \"A_curv\": 0.03, \"A_octon\": 0.02, \"ActinSpp\": 0.16, \"A_nodul\": 0.01, \"CoscinSpp\": 0.095, \"CyclotSpp\": 0.075, \"Rop_tess\": 0.11, \"StephanSpp\": 0.005}, {\"Depth\": 4.95, \"Age\": 5.67, \"A_curv\": 0.035, \"A_octon\": 0.035, \"ActinSpp\": 0.12, \"A_nodul\": 0.02, \"CoscinSpp\": 0.09, \"CyclotSpp\": 0.13, \"Rop_tess\": 0.08, \"StephanSpp\": 0.0}, {\"Depth\": 5.0, \"Age\": 5.72, \"A_curv\": 0.034653465346534656, \"A_octon\": 0.019801980198019802, \"ActinSpp\": 0.11386138613861387, \"A_nodul\": 0.0049504950495049506, \"CoscinSpp\": 0.08415841584158416, \"CyclotSpp\": 0.10891089108910891, \"Rop_tess\": 0.13366336633663367, \"StephanSpp\": 0.0}, {\"Depth\": 5.05, \"Age\": 5.76, \"A_curv\": 0.03755868544600939, \"A_octon\": 0.009389671361502348, \"ActinSpp\": 0.07042253521126761, \"A_nodul\": 0.0, \"CoscinSpp\": 0.046948356807511735, \"CyclotSpp\": 0.13615023474178403, \"Rop_tess\": 0.1643192488262911, \"StephanSpp\": 0.0}, {\"Depth\": 5.1, \"Age\": 5.8, \"A_curv\": 0.024630541871921183, \"A_octon\": 0.019704433497536946, \"ActinSpp\": 0.12807881773399016, \"A_nodul\": 0.0049261083743842365, \"CoscinSpp\": 0.059113300492610835, \"CyclotSpp\": 0.11330049261083744, \"Rop_tess\": 0.14285714285714285, \"StephanSpp\": 0.0}, {\"Depth\": 5.15, \"Age\": 5.85, \"A_curv\": 0.035, \"A_octon\": 0.015, \"ActinSpp\": 0.135, \"A_nodul\": 0.015, \"CoscinSpp\": 0.08, \"CyclotSpp\": 0.04, \"Rop_tess\": 0.19, \"StephanSpp\": 0.0}, {\"Depth\": 5.2, \"Age\": 5.89, \"A_curv\": 0.029850746268656716, \"A_octon\": 0.024875621890547265, \"ActinSpp\": 0.1044776119402985, \"A_nodul\": 0.05472636815920398, \"CoscinSpp\": 0.1044776119402985, \"CyclotSpp\": 0.0845771144278607, \"Rop_tess\": 0.08955223880597014, \"StephanSpp\": 0.0}, {\"Depth\": 5.25, \"Age\": 5.94, \"A_curv\": 0.035, \"A_octon\": 0.01, \"ActinSpp\": 0.24, \"A_nodul\": 0.015, \"CoscinSpp\": 0.07, \"CyclotSpp\": 0.05, \"Rop_tess\": 0.09, \"StephanSpp\": 0.0}, {\"Depth\": 5.3, \"Age\": 5.98, \"A_curv\": 0.025, \"A_octon\": 0.0, \"ActinSpp\": 0.02, \"A_nodul\": 0.005, \"CoscinSpp\": 0.01, \"CyclotSpp\": 0.065, \"Rop_tess\": 0.38, \"StephanSpp\": 0.005}, {\"Depth\": 5.35, \"Age\": 6.02, \"A_curv\": 0.025, \"A_octon\": 0.03, \"ActinSpp\": 0.09, \"A_nodul\": 0.065, \"CoscinSpp\": 0.075, \"CyclotSpp\": 0.16, \"Rop_tess\": 0.07, \"StephanSpp\": 0.0}, {\"Depth\": 5.4, \"Age\": 6.07, \"A_curv\": 0.009950248756218905, \"A_octon\": 0.01990049751243781, \"ActinSpp\": 0.07960199004975124, \"A_nodul\": 0.009950248756218905, \"CoscinSpp\": 0.05970149253731343, \"CyclotSpp\": 0.06467661691542288, \"Rop_tess\": 0.24378109452736318, \"StephanSpp\": 0.0}, {\"Depth\": 5.45, \"Age\": 6.11, \"A_curv\": 0.039473684210526314, \"A_octon\": 0.008771929824561403, \"ActinSpp\": 0.15789473684210525, \"A_nodul\": 0.017543859649122806, \"CoscinSpp\": 0.10964912280701754, \"CyclotSpp\": 0.06578947368421052, \"Rop_tess\": 0.03508771929824561, \"StephanSpp\": 0.008771929824561403}, {\"Depth\": 5.5, \"Age\": 6.15, \"A_curv\": 0.020161290322580645, \"A_octon\": 0.04435483870967742, \"ActinSpp\": 0.05241935483870968, \"A_nodul\": 0.06854838709677419, \"CoscinSpp\": 0.04838709677419355, \"CyclotSpp\": 0.056451612903225805, \"Rop_tess\": 0.11290322580645161, \"StephanSpp\": 0.0}, {\"Depth\": 5.55, \"Age\": 6.2, \"A_curv\": 0.024193548387096774, \"A_octon\": 0.04032258064516129, \"ActinSpp\": 0.06048387096774194, \"A_nodul\": 0.10483870967741936, \"CoscinSpp\": 0.036290322580645164, \"CyclotSpp\": 0.04435483870967742, \"Rop_tess\": 0.09274193548387097, \"StephanSpp\": 0.0}, {\"Depth\": 5.6, \"Age\": 6.24, \"A_curv\": 0.04128440366972477, \"A_octon\": 0.05963302752293578, \"ActinSpp\": 0.0779816513761468, \"A_nodul\": 0.0, \"CoscinSpp\": 0.10091743119266056, \"CyclotSpp\": 0.06422018348623854, \"Rop_tess\": 0.11467889908256881, \"StephanSpp\": 0.0}, {\"Depth\": 5.65, \"Age\": 6.29, \"A_curv\": 0.03686635944700461, \"A_octon\": 0.027649769585253458, \"ActinSpp\": 0.08755760368663594, \"A_nodul\": 0.0, \"CoscinSpp\": 0.06912442396313365, \"CyclotSpp\": 0.09216589861751152, \"Rop_tess\": 0.14746543778801843, \"StephanSpp\": 0.0}, {\"Depth\": 5.7, \"Age\": 6.33, \"A_curv\": 0.012096774193548387, \"A_octon\": 0.016129032258064516, \"ActinSpp\": 0.04435483870967742, \"A_nodul\": 0.0, \"CoscinSpp\": 0.04032258064516129, \"CyclotSpp\": 0.03225806451612903, \"Rop_tess\": 0.2540322580645161, \"StephanSpp\": 0.0}, {\"Depth\": 5.75, \"Age\": 6.37, \"A_curv\": 0.03619909502262444, \"A_octon\": 0.04524886877828054, \"ActinSpp\": 0.08144796380090498, \"A_nodul\": 0.00904977375565611, \"CoscinSpp\": 0.08597285067873303, \"CyclotSpp\": 0.058823529411764705, \"Rop_tess\": 0.13574660633484162, \"StephanSpp\": 0.0}, {\"Depth\": 5.8, \"Age\": 6.42, \"A_curv\": 0.06, \"A_octon\": 0.02, \"ActinSpp\": 0.075, \"A_nodul\": 0.005, \"CoscinSpp\": 0.085, \"CyclotSpp\": 0.09, \"Rop_tess\": 0.17, \"StephanSpp\": 0.0}, {\"Depth\": 5.85, \"Age\": 6.46, \"A_curv\": 0.075, \"A_octon\": 0.015, \"ActinSpp\": 0.14, \"A_nodul\": 0.005, \"CoscinSpp\": 0.09, \"CyclotSpp\": 0.05, \"Rop_tess\": 0.135, \"StephanSpp\": 0.0}, {\"Depth\": 5.9, \"Age\": 6.51, \"A_curv\": 0.024752475247524754, \"A_octon\": 0.0297029702970297, \"ActinSpp\": 0.054455445544554455, \"A_nodul\": 0.0, \"CoscinSpp\": 0.07920792079207921, \"CyclotSpp\": 0.10396039603960396, \"Rop_tess\": 0.20297029702970298, \"StephanSpp\": 0.0}, {\"Depth\": 5.95, \"Age\": 6.55, \"A_curv\": 0.054187192118226604, \"A_octon\": 0.014778325123152709, \"ActinSpp\": 0.12807881773399016, \"A_nodul\": 0.0, \"CoscinSpp\": 0.12315270935960591, \"CyclotSpp\": 0.06896551724137931, \"Rop_tess\": 0.10344827586206896, \"StephanSpp\": 0.0}, {\"Depth\": 6.0, \"Age\": 6.59, \"A_curv\": 0.05, \"A_octon\": 0.01, \"ActinSpp\": 0.185, \"A_nodul\": 0.0, \"CoscinSpp\": 0.06, \"CyclotSpp\": 0.105, \"Rop_tess\": 0.09, \"StephanSpp\": 0.005}, {\"Depth\": 6.05, \"Age\": 6.64, \"A_curv\": 0.013513513513513514, \"A_octon\": 0.009009009009009009, \"ActinSpp\": 0.11711711711711711, \"A_nodul\": 0.009009009009009009, \"CoscinSpp\": 0.14414414414414414, \"CyclotSpp\": 0.05405405405405406, \"Rop_tess\": 0.0945945945945946, \"StephanSpp\": 0.009009009009009009}, {\"Depth\": 6.1, \"Age\": 6.68, \"A_curv\": 0.023809523809523808, \"A_octon\": 0.02857142857142857, \"ActinSpp\": 0.19523809523809524, \"A_nodul\": 0.004761904761904762, \"CoscinSpp\": 0.12380952380952381, \"CyclotSpp\": 0.09047619047619047, \"Rop_tess\": 0.009523809523809525, \"StephanSpp\": 0.0}, {\"Depth\": 6.15, \"Age\": 6.72, \"A_curv\": 0.017777777777777778, \"A_octon\": 0.008888888888888889, \"ActinSpp\": 0.16, \"A_nodul\": 0.0044444444444444444, \"CoscinSpp\": 0.07111111111111111, \"CyclotSpp\": 0.04, \"Rop_tess\": 0.14222222222222222, \"StephanSpp\": 0.0}, {\"Depth\": 6.2, \"Age\": 6.77, \"A_curv\": 0.03404255319148936, \"A_octon\": 0.01276595744680851, \"ActinSpp\": 0.2, \"A_nodul\": 0.0, \"CoscinSpp\": 0.0851063829787234, \"CyclotSpp\": 0.04680851063829787, \"Rop_tess\": 0.04680851063829787, \"StephanSpp\": 0.0}, {\"Depth\": 6.25, \"Age\": 6.81, \"A_curv\": 0.017316017316017316, \"A_octon\": 0.012987012987012988, \"ActinSpp\": 0.11688311688311688, \"A_nodul\": 0.0, \"CoscinSpp\": 0.10822510822510822, \"CyclotSpp\": 0.04329004329004329, \"Rop_tess\": 0.1341991341991342, \"StephanSpp\": 0.0}, {\"Depth\": 6.3, \"Age\": 6.86, \"A_curv\": 0.034653465346534656, \"A_octon\": 0.0297029702970297, \"ActinSpp\": 0.06930693069306931, \"A_nodul\": 0.0, \"CoscinSpp\": 0.04950495049504951, \"CyclotSpp\": 0.09405940594059406, \"Rop_tess\": 0.21782178217821782, \"StephanSpp\": 0.0}, {\"Depth\": 6.35, \"Age\": 6.9, \"A_curv\": 0.01951219512195122, \"A_octon\": 0.004878048780487805, \"ActinSpp\": 0.22926829268292684, \"A_nodul\": 0.0, \"CoscinSpp\": 0.14634146341463414, \"CyclotSpp\": 0.07317073170731707, \"Rop_tess\": 0.014634146341463415, \"StephanSpp\": 0.0}, {\"Depth\": 6.4, \"Age\": 6.94, \"A_curv\": 0.01, \"A_octon\": 0.0, \"ActinSpp\": 0.02, \"A_nodul\": 0.0, \"CoscinSpp\": 0.02, \"CyclotSpp\": 0.025, \"Rop_tess\": 0.435, \"StephanSpp\": 0.0}, {\"Depth\": 6.45, \"Age\": 6.99, \"A_curv\": 0.035398230088495575, \"A_octon\": 0.008849557522123894, \"ActinSpp\": 0.19469026548672566, \"A_nodul\": 0.004424778761061947, \"CoscinSpp\": 0.10176991150442478, \"CyclotSpp\": 0.061946902654867256, \"Rop_tess\": 0.02654867256637168, \"StephanSpp\": 0.008849557522123894}, {\"Depth\": 6.5, \"Age\": 7.03, \"A_curv\": 0.02, \"A_octon\": 0.015, \"ActinSpp\": 0.105, \"A_nodul\": 0.055, \"CoscinSpp\": 0.075, \"CyclotSpp\": 0.06, \"Rop_tess\": 0.175, \"StephanSpp\": 0.005}, {\"Depth\": 6.55, \"Age\": 7.08, \"A_curv\": 0.011904761904761904, \"A_octon\": 0.011904761904761904, \"ActinSpp\": 0.17063492063492064, \"A_nodul\": 0.031746031746031744, \"CoscinSpp\": 0.1111111111111111, \"CyclotSpp\": 0.03571428571428571, \"Rop_tess\": 0.023809523809523808, \"StephanSpp\": 0.003968253968253968}, {\"Depth\": 6.6, \"Age\": 7.12, \"A_curv\": 0.013452914798206279, \"A_octon\": 0.008968609865470852, \"ActinSpp\": 0.17937219730941703, \"A_nodul\": 0.004484304932735426, \"CoscinSpp\": 0.08071748878923767, \"CyclotSpp\": 0.13004484304932734, \"Rop_tess\": 0.03139013452914798, \"StephanSpp\": 0.0}, {\"Depth\": 6.65, \"Age\": 7.16, \"A_curv\": 0.02145922746781116, \"A_octon\": 0.02145922746781116, \"ActinSpp\": 0.11158798283261803, \"A_nodul\": 0.004291845493562232, \"CoscinSpp\": 0.11587982832618025, \"CyclotSpp\": 0.09012875536480687, \"Rop_tess\": 0.06437768240343347, \"StephanSpp\": 0.0}, {\"Depth\": 6.7, \"Age\": 7.21, \"A_curv\": 0.01327433628318584, \"A_octon\": 0.017699115044247787, \"ActinSpp\": 0.1415929203539823, \"A_nodul\": 0.0, \"CoscinSpp\": 0.10619469026548672, \"CyclotSpp\": 0.09292035398230089, \"Rop_tess\": 0.061946902654867256, \"StephanSpp\": 0.0}, {\"Depth\": 6.75, \"Age\": 7.25, \"A_curv\": 0.04128440366972477, \"A_octon\": 0.03211009174311927, \"ActinSpp\": 0.10550458715596331, \"A_nodul\": 0.0, \"CoscinSpp\": 0.10550458715596331, \"CyclotSpp\": 0.07339449541284404, \"Rop_tess\": 0.0963302752293578, \"StephanSpp\": 0.0045871559633027525}, {\"Depth\": 6.8, \"Age\": 7.29, \"A_curv\": 0.00816326530612245, \"A_octon\": 0.02040816326530612, \"ActinSpp\": 0.0653061224489796, \"A_nodul\": 0.0, \"CoscinSpp\": 0.02857142857142857, \"CyclotSpp\": 0.04897959183673469, \"Rop_tess\": 0.23673469387755103, \"StephanSpp\": 0.0}, {\"Depth\": 6.85, \"Age\": 7.34, \"A_curv\": 0.008547008547008548, \"A_octon\": 0.017094017094017096, \"ActinSpp\": 0.07692307692307693, \"A_nodul\": 0.0, \"CoscinSpp\": 0.06837606837606838, \"CyclotSpp\": 0.029914529914529916, \"Rop_tess\": 0.2264957264957265, \"StephanSpp\": 0.0}, {\"Depth\": 6.9, \"Age\": 7.38, \"A_curv\": 0.04, \"A_octon\": 0.025, \"ActinSpp\": 0.08, \"A_nodul\": 0.0, \"CoscinSpp\": 0.145, \"CyclotSpp\": 0.02, \"Rop_tess\": 0.19, \"StephanSpp\": 0.005}, {\"Depth\": 6.95, \"Age\": 7.43, \"A_curv\": 0.05, \"A_octon\": 0.025, \"ActinSpp\": 0.135, \"A_nodul\": 0.005, \"CoscinSpp\": 0.16, \"CyclotSpp\": 0.04, \"Rop_tess\": 0.09, \"StephanSpp\": 0.0}, {\"Depth\": 7.0, \"Age\": 7.47, \"A_curv\": 0.014634146341463415, \"A_octon\": 0.01951219512195122, \"ActinSpp\": 0.08780487804878048, \"A_nodul\": 0.004878048780487805, \"CoscinSpp\": 0.1073170731707317, \"CyclotSpp\": 0.01951219512195122, \"Rop_tess\": 0.22926829268292684, \"StephanSpp\": 0.004878048780487805}, {\"Depth\": 7.05, \"Age\": 7.51, \"A_curv\": 0.028455284552845527, \"A_octon\": 0.016260162601626018, \"ActinSpp\": 0.17073170731707318, \"A_nodul\": 0.0, \"CoscinSpp\": 0.08943089430894309, \"CyclotSpp\": 0.06097560975609756, \"Rop_tess\": 0.04065040650406504, \"StephanSpp\": 0.0}, {\"Depth\": 7.1, \"Age\": 7.56, \"A_curv\": 0.029166666666666667, \"A_octon\": 0.0125, \"ActinSpp\": 0.14166666666666666, \"A_nodul\": 0.0, \"CoscinSpp\": 0.1, \"CyclotSpp\": 0.058333333333333334, \"Rop_tess\": 0.075, \"StephanSpp\": 0.0}, {\"Depth\": 7.15, \"Age\": 7.6, \"A_curv\": 0.04975124378109453, \"A_octon\": 0.01990049751243781, \"ActinSpp\": 0.08955223880597014, \"A_nodul\": 0.0, \"CoscinSpp\": 0.0845771144278607, \"CyclotSpp\": 0.03482587064676617, \"Rop_tess\": 0.18407960199004975, \"StephanSpp\": 0.024875621890547265}, {\"Depth\": 7.2, \"Age\": 7.65, \"A_curv\": 0.01937984496124031, \"A_octon\": 0.027131782945736434, \"ActinSpp\": 0.12403100775193798, \"A_nodul\": 0.0, \"CoscinSpp\": 0.08139534883720931, \"CyclotSpp\": 0.05426356589147287, \"Rop_tess\": 0.08139534883720931, \"StephanSpp\": 0.0}, {\"Depth\": 7.25, \"Age\": 7.69, \"A_curv\": 0.015, \"A_octon\": 0.025, \"ActinSpp\": 0.215, \"A_nodul\": 0.0, \"CoscinSpp\": 0.12, \"CyclotSpp\": 0.055, \"Rop_tess\": 0.075, \"StephanSpp\": 0.0}, {\"Depth\": 7.3, \"Age\": 7.73, \"A_curv\": 0.0075, \"A_octon\": 0.005, \"ActinSpp\": 0.03, \"A_nodul\": 0.0, \"CoscinSpp\": 0.02, \"CyclotSpp\": 0.01, \"Rop_tess\": 0.1775, \"StephanSpp\": 0.0}, {\"Depth\": 7.35, \"Age\": 7.78, \"A_curv\": 0.013392857142857142, \"A_octon\": 0.017857142857142856, \"ActinSpp\": 0.14732142857142858, \"A_nodul\": 0.0, \"CoscinSpp\": 0.12946428571428573, \"CyclotSpp\": 0.07142857142857142, \"Rop_tess\": 0.06696428571428571, \"StephanSpp\": 0.004464285714285714}, {\"Depth\": 7.4, \"Age\": 7.82, \"A_curv\": 0.04, \"A_octon\": 0.015, \"ActinSpp\": 0.165, \"A_nodul\": 0.005, \"CoscinSpp\": 0.115, \"CyclotSpp\": 0.08, \"Rop_tess\": 0.085, \"StephanSpp\": 0.005}, {\"Depth\": 7.45, \"Age\": 7.87, \"A_curv\": 0.0049504950495049506, \"A_octon\": 0.034653465346534656, \"ActinSpp\": 0.0891089108910891, \"A_nodul\": 0.0, \"CoscinSpp\": 0.04950495049504951, \"CyclotSpp\": 0.06930693069306931, \"Rop_tess\": 0.24752475247524752, \"StephanSpp\": 0.0}, {\"Depth\": 7.5, \"Age\": 7.91, \"A_curv\": 0.019801980198019802, \"A_octon\": 0.009900990099009901, \"ActinSpp\": 0.14356435643564355, \"A_nodul\": 0.009900990099009901, \"CoscinSpp\": 0.08415841584158416, \"CyclotSpp\": 0.04455445544554455, \"Rop_tess\": 0.1782178217821782, \"StephanSpp\": 0.0}, {\"Depth\": 7.55, \"Age\": 7.95, \"A_curv\": 0.023696682464454975, \"A_octon\": 0.05687203791469194, \"ActinSpp\": 0.14691943127962084, \"A_nodul\": 0.0, \"CoscinSpp\": 0.12796208530805686, \"CyclotSpp\": 0.07582938388625593, \"Rop_tess\": 0.04265402843601896, \"StephanSpp\": 0.0}, {\"Depth\": 7.6, \"Age\": 8.0, \"A_curv\": 0.024630541871921183, \"A_octon\": 0.054187192118226604, \"ActinSpp\": 0.14285714285714285, \"A_nodul\": 0.0, \"CoscinSpp\": 0.06896551724137931, \"CyclotSpp\": 0.09852216748768473, \"Rop_tess\": 0.10344827586206896, \"StephanSpp\": 0.0}, {\"Depth\": 7.65, \"Age\": 8.04, \"A_curv\": 0.019704433497536946, \"A_octon\": 0.0049261083743842365, \"ActinSpp\": 0.04926108374384237, \"A_nodul\": 0.0, \"CoscinSpp\": 0.009852216748768473, \"CyclotSpp\": 0.04433497536945813, \"Rop_tess\": 0.35467980295566504, \"StephanSpp\": 0.0}, {\"Depth\": 7.7, \"Age\": 8.08, \"A_curv\": 0.034482758620689655, \"A_octon\": 0.06403940886699508, \"ActinSpp\": 0.12807881773399016, \"A_nodul\": 0.0, \"CoscinSpp\": 0.07881773399014778, \"CyclotSpp\": 0.10837438423645321, \"Rop_tess\": 0.06403940886699508, \"StephanSpp\": 0.014778325123152709}, {\"Depth\": 7.75, \"Age\": 8.13, \"A_curv\": 0.021367521367521368, \"A_octon\": 0.02564102564102564, \"ActinSpp\": 0.1452991452991453, \"A_nodul\": 0.004273504273504274, \"CoscinSpp\": 0.08547008547008547, \"CyclotSpp\": 0.1282051282051282, \"Rop_tess\": 0.017094017094017096, \"StephanSpp\": 0.0}, {\"Depth\": 7.8, \"Age\": 8.17, \"A_curv\": 0.024390243902439025, \"A_octon\": 0.024390243902439025, \"ActinSpp\": 0.08292682926829269, \"A_nodul\": 0.004878048780487805, \"CoscinSpp\": 0.07317073170731707, \"CyclotSpp\": 0.12195121951219512, \"Rop_tess\": 0.15121951219512195, \"StephanSpp\": 0.0}, {\"Depth\": 8.3, \"Age\": 8.61, \"A_curv\": 0.019801980198019802, \"A_octon\": 0.009900990099009901, \"ActinSpp\": 0.13366336633663367, \"A_nodul\": 0.0, \"CoscinSpp\": 0.0891089108910891, \"CyclotSpp\": 0.0049504950495049506, \"Rop_tess\": 0.2376237623762376, \"StephanSpp\": 0.0}, {\"Depth\": 8.35, \"Age\": 8.65, \"A_curv\": 0.047619047619047616, \"A_octon\": 0.009523809523809525, \"ActinSpp\": 0.14285714285714285, \"A_nodul\": 0.0, \"CoscinSpp\": 0.19523809523809524, \"CyclotSpp\": 0.047619047619047616, \"Rop_tess\": 0.02857142857142857, \"StephanSpp\": 0.0}, {\"Depth\": 8.4, \"Age\": 8.7, \"A_curv\": 0.014634146341463415, \"A_octon\": 0.024390243902439025, \"ActinSpp\": 0.1902439024390244, \"A_nodul\": 0.0, \"CoscinSpp\": 0.12682926829268293, \"CyclotSpp\": 0.014634146341463415, \"Rop_tess\": 0.11219512195121951, \"StephanSpp\": 0.0}, {\"Depth\": 8.45, \"Age\": 8.74, \"A_curv\": 0.024875621890547265, \"A_octon\": 0.18407960199004975, \"ActinSpp\": 0.11442786069651742, \"A_nodul\": 0.0, \"CoscinSpp\": 0.12935323383084577, \"CyclotSpp\": 0.004975124378109453, \"Rop_tess\": 0.029850746268656716, \"StephanSpp\": 0.0}, {\"Depth\": 8.5, \"Age\": 8.79, \"A_curv\": 0.025, \"A_octon\": 0.01, \"ActinSpp\": 0.135, \"A_nodul\": 0.0, \"CoscinSpp\": 0.11, \"CyclotSpp\": 0.055, \"Rop_tess\": 0.165, \"StephanSpp\": 0.005}, {\"Depth\": 8.55, \"Age\": 8.83, \"A_curv\": 0.00980392156862745, \"A_octon\": 0.00980392156862745, \"ActinSpp\": 0.24019607843137256, \"A_nodul\": 0.0, \"CoscinSpp\": 0.06862745098039216, \"CyclotSpp\": 0.03431372549019608, \"Rop_tess\": 0.12745098039215685, \"StephanSpp\": 0.0}, {\"Depth\": 8.6, \"Age\": 8.87, \"A_curv\": 0.013636363636363636, \"A_octon\": 0.01818181818181818, \"ActinSpp\": 0.22272727272727272, \"A_nodul\": 0.0, \"CoscinSpp\": 0.12727272727272726, \"CyclotSpp\": 0.03636363636363636, \"Rop_tess\": 0.03636363636363636, \"StephanSpp\": 0.0}, {\"Depth\": 8.65, \"Age\": 8.92, \"A_curv\": 0.0048543689320388345, \"A_octon\": 0.0048543689320388345, \"ActinSpp\": 0.2087378640776699, \"A_nodul\": 0.0, \"CoscinSpp\": 0.043689320388349516, \"CyclotSpp\": 0.11165048543689321, \"Rop_tess\": 0.11165048543689321, \"StephanSpp\": 0.0}, {\"Depth\": 8.7, \"Age\": 8.96, \"A_curv\": 0.03482587064676617, \"A_octon\": 0.014925373134328358, \"ActinSpp\": 0.24378109452736318, \"A_nodul\": 0.0, \"CoscinSpp\": 0.12437810945273632, \"CyclotSpp\": 0.04477611940298507, \"Rop_tess\": 0.024875621890547265, \"StephanSpp\": 0.0}, {\"Depth\": 9.5, \"Age\": 10.1, \"A_curv\": 0.04, \"A_octon\": 0.015, \"ActinSpp\": 0.22, \"A_nodul\": 0.0, \"CoscinSpp\": 0.06, \"CyclotSpp\": 0.05, \"Rop_tess\": 0.125, \"StephanSpp\": 0.0}, {\"Depth\": 9.55, \"Age\": 10.18, \"A_curv\": 0.025, \"A_octon\": 0.005, \"ActinSpp\": 0.165, \"A_nodul\": 0.0, \"CoscinSpp\": 0.06, \"CyclotSpp\": 0.025, \"Rop_tess\": 0.225, \"StephanSpp\": 0.0}, {\"Depth\": 9.6, \"Age\": 10.27, \"A_curv\": 0.04477611940298507, \"A_octon\": 0.014925373134328358, \"ActinSpp\": 0.263681592039801, \"A_nodul\": 0.004975124378109453, \"CoscinSpp\": 0.08955223880597014, \"CyclotSpp\": 0.004975124378109453, \"Rop_tess\": 0.04975124378109453, \"StephanSpp\": 0.01990049751243781}, {\"Depth\": 9.65, \"Age\": 10.35, \"A_curv\": 0.024752475247524754, \"A_octon\": 0.0297029702970297, \"ActinSpp\": 0.15841584158415842, \"A_nodul\": 0.0049504950495049506, \"CoscinSpp\": 0.09900990099009901, \"CyclotSpp\": 0.04455445544554455, \"Rop_tess\": 0.12871287128712872, \"StephanSpp\": 0.0}, {\"Depth\": 9.7, \"Age\": 10.43, \"A_curv\": 0.054455445544554455, \"A_octon\": 0.009900990099009901, \"ActinSpp\": 0.22772277227722773, \"A_nodul\": 0.0, \"CoscinSpp\": 0.13861386138613863, \"CyclotSpp\": 0.0297029702970297, \"Rop_tess\": 0.024752475247524754, \"StephanSpp\": 0.009900990099009901}, {\"Depth\": 9.75, \"Age\": 10.52, \"A_curv\": 0.06403940886699508, \"A_octon\": 0.04926108374384237, \"ActinSpp\": 0.14285714285714285, \"A_nodul\": 0.0, \"CoscinSpp\": 0.09852216748768473, \"CyclotSpp\": 0.06896551724137931, \"Rop_tess\": 0.06403940886699508, \"StephanSpp\": 0.0}, {\"Depth\": 9.8, \"Age\": 10.6, \"A_curv\": 0.075, \"A_octon\": 0.01, \"ActinSpp\": 0.2, \"A_nodul\": 0.005, \"CoscinSpp\": 0.125, \"CyclotSpp\": 0.015, \"Rop_tess\": 0.08, \"StephanSpp\": 0.0}, {\"Depth\": 9.85, \"Age\": 10.68, \"A_curv\": 0.06, \"A_octon\": 0.01, \"ActinSpp\": 0.25, \"A_nodul\": 0.06, \"CoscinSpp\": 0.105, \"CyclotSpp\": 0.005, \"Rop_tess\": 0.02, \"StephanSpp\": 0.0}, {\"Depth\": 9.9, \"Age\": 10.77, \"A_curv\": 0.029850746268656716, \"A_octon\": 0.004975124378109453, \"ActinSpp\": 0.24875621890547264, \"A_nodul\": 0.07960199004975124, \"CoscinSpp\": 0.06965174129353234, \"CyclotSpp\": 0.029850746268656716, \"Rop_tess\": 0.029850746268656716, \"StephanSpp\": 0.0}, {\"Depth\": 9.95, \"Age\": 10.85, \"A_curv\": 0.034653465346534656, \"A_octon\": 0.009900990099009901, \"ActinSpp\": 0.22772277227722773, \"A_nodul\": 0.04950495049504951, \"CoscinSpp\": 0.13366336633663367, \"CyclotSpp\": 0.019801980198019802, \"Rop_tess\": 0.0049504950495049506, \"StephanSpp\": 0.0049504950495049506}, {\"Depth\": 10.0, \"Age\": 10.93, \"A_curv\": 0.01990049751243781, \"A_octon\": 0.014925373134328358, \"ActinSpp\": 0.19900497512437812, \"A_nodul\": 0.11442786069651742, \"CoscinSpp\": 0.13432835820895522, \"CyclotSpp\": 0.0, \"Rop_tess\": 0.009950248756218905, \"StephanSpp\": 0.0}, {\"Depth\": 10.05, \"Age\": 11.02, \"A_curv\": 0.04433497536945813, \"A_octon\": 0.0049261083743842365, \"ActinSpp\": 0.2561576354679803, \"A_nodul\": 0.08866995073891626, \"CoscinSpp\": 0.06403940886699508, \"CyclotSpp\": 0.024630541871921183, \"Rop_tess\": 0.0049261083743842365, \"StephanSpp\": 0.0}, {\"Depth\": 10.1, \"Age\": 11.1, \"A_curv\": 0.034482758620689655, \"A_octon\": 0.0049261083743842365, \"ActinSpp\": 0.16748768472906403, \"A_nodul\": 0.054187192118226604, \"CoscinSpp\": 0.1625615763546798, \"CyclotSpp\": 0.024630541871921183, \"Rop_tess\": 0.029556650246305417, \"StephanSpp\": 0.0049261083743842365}, {\"Depth\": 10.15, \"Age\": 11.18, \"A_curv\": 0.054455445544554455, \"A_octon\": 0.0, \"ActinSpp\": 0.15346534653465346, \"A_nodul\": 0.09900990099009901, \"CoscinSpp\": 0.09900990099009901, \"CyclotSpp\": 0.01485148514851485, \"Rop_tess\": 0.06435643564356436, \"StephanSpp\": 0.0049504950495049506}, {\"Depth\": 10.2, \"Age\": 11.27, \"A_curv\": 0.0196078431372549, \"A_octon\": 0.0, \"ActinSpp\": 0.15196078431372548, \"A_nodul\": 0.058823529411764705, \"CoscinSpp\": 0.14215686274509803, \"CyclotSpp\": 0.04411764705882353, \"Rop_tess\": 0.07352941176470588, \"StephanSpp\": 0.0}, {\"Depth\": 10.25, \"Age\": 11.35, \"A_curv\": 0.03902439024390244, \"A_octon\": 0.00975609756097561, \"ActinSpp\": 0.17560975609756097, \"A_nodul\": 0.08780487804878048, \"CoscinSpp\": 0.08780487804878048, \"CyclotSpp\": 0.05853658536585366, \"Rop_tess\": 0.02926829268292683, \"StephanSpp\": 0.0}, {\"Depth\": 10.3, \"Age\": 11.43, \"A_curv\": 0.024509803921568627, \"A_octon\": 0.004901960784313725, \"ActinSpp\": 0.13725490196078433, \"A_nodul\": 0.049019607843137254, \"CoscinSpp\": 0.12745098039215685, \"CyclotSpp\": 0.024509803921568627, \"Rop_tess\": 0.12254901960784313, \"StephanSpp\": 0.0}, {\"Depth\": 10.35, \"Age\": 11.52, \"A_curv\": 0.01990049751243781, \"A_octon\": 0.01990049751243781, \"ActinSpp\": 0.19900497512437812, \"A_nodul\": 0.04975124378109453, \"CoscinSpp\": 0.12935323383084577, \"CyclotSpp\": 0.03482587064676617, \"Rop_tess\": 0.03980099502487562, \"StephanSpp\": 0.0}, {\"Depth\": 10.4, \"Age\": 11.6, \"A_curv\": 0.034482758620689655, \"A_octon\": 0.009852216748768473, \"ActinSpp\": 0.22660098522167488, \"A_nodul\": 0.024630541871921183, \"CoscinSpp\": 0.12807881773399016, \"CyclotSpp\": 0.029556650246305417, \"Rop_tess\": 0.034482758620689655, \"StephanSpp\": 0.0}, {\"Depth\": 10.45, \"Age\": 11.68, \"A_curv\": 0.009950248756218905, \"A_octon\": 0.024875621890547265, \"ActinSpp\": 0.18407960199004975, \"A_nodul\": 0.11442786069651742, \"CoscinSpp\": 0.09950248756218906, \"CyclotSpp\": 0.04477611940298507, \"Rop_tess\": 0.014925373134328358, \"StephanSpp\": 0.0}, {\"Depth\": 10.5, \"Age\": 11.77, \"A_curv\": 0.0, \"A_octon\": 0.0048543689320388345, \"ActinSpp\": 0.0970873786407767, \"A_nodul\": 0.13592233009708737, \"CoscinSpp\": 0.1407766990291262, \"CyclotSpp\": 0.0825242718446602, \"Rop_tess\": 0.024271844660194174, \"StephanSpp\": 0.0}, {\"Depth\": 10.55, \"Age\": 11.85, \"A_curv\": 0.0, \"A_octon\": 0.004807692307692308, \"ActinSpp\": 0.038461538461538464, \"A_nodul\": 0.28846153846153844, \"CoscinSpp\": 0.10576923076923077, \"CyclotSpp\": 0.038461538461538464, \"Rop_tess\": 0.004807692307692308, \"StephanSpp\": 0.0}, {\"Depth\": 10.6, \"Age\": 11.93, \"A_curv\": 0.009615384615384616, \"A_octon\": 0.0, \"ActinSpp\": 0.09134615384615384, \"A_nodul\": 0.1971153846153846, \"CoscinSpp\": 0.1201923076923077, \"CyclotSpp\": 0.052884615384615384, \"Rop_tess\": 0.0, \"StephanSpp\": 0.0}, {\"Depth\": 10.65, \"Age\": 12.02, \"A_curv\": 0.0049504950495049506, \"A_octon\": 0.0049504950495049506, \"ActinSpp\": 0.06930693069306931, \"A_nodul\": 0.30198019801980197, \"CoscinSpp\": 0.054455445544554455, \"CyclotSpp\": 0.054455445544554455, \"Rop_tess\": 0.0, \"StephanSpp\": 0.0}, {\"Depth\": 10.7, \"Age\": 12.1, \"A_curv\": 0.0049261083743842365, \"A_octon\": 0.009852216748768473, \"ActinSpp\": 0.04926108374384237, \"A_nodul\": 0.3054187192118227, \"CoscinSpp\": 0.06896551724137931, \"CyclotSpp\": 0.04926108374384237, \"Rop_tess\": 0.0, \"StephanSpp\": 0.0}, {\"Depth\": 10.75, \"Age\": 12.18, \"A_curv\": 0.019704433497536946, \"A_octon\": 0.0049261083743842365, \"ActinSpp\": 0.034482758620689655, \"A_nodul\": 0.31527093596059114, \"CoscinSpp\": 0.06403940886699508, \"CyclotSpp\": 0.054187192118226604, \"Rop_tess\": 0.0, \"StephanSpp\": 0.0}, {\"Depth\": 10.8, \"Age\": 12.27, \"A_curv\": 0.009900990099009901, \"A_octon\": 0.0049504950495049506, \"ActinSpp\": 0.06930693069306931, \"A_nodul\": 0.26732673267326734, \"CoscinSpp\": 0.08415841584158416, \"CyclotSpp\": 0.054455445544554455, \"Rop_tess\": 0.0049504950495049506, \"StephanSpp\": 0.0}, {\"Depth\": 10.85, \"Age\": 12.35, \"A_curv\": 0.00975609756097561, \"A_octon\": 0.004878048780487805, \"ActinSpp\": 0.05853658536585366, \"A_nodul\": 0.2926829268292683, \"CoscinSpp\": 0.07804878048780488, \"CyclotSpp\": 0.03902439024390244, \"Rop_tess\": 0.0, \"StephanSpp\": 0.0}, {\"Depth\": 10.9, \"Age\": 12.43, \"A_curv\": 0.004901960784313725, \"A_octon\": 0.00980392156862745, \"ActinSpp\": 0.06372549019607843, \"A_nodul\": 0.25980392156862747, \"CoscinSpp\": 0.09313725490196079, \"CyclotSpp\": 0.05392156862745098, \"Rop_tess\": 0.0, \"StephanSpp\": 0.0}, {\"Depth\": 10.95, \"Age\": 12.52, \"A_curv\": 0.009852216748768473, \"A_octon\": 0.009852216748768473, \"ActinSpp\": 0.06896551724137931, \"A_nodul\": 0.2512315270935961, \"CoscinSpp\": 0.08866995073891626, \"CyclotSpp\": 0.059113300492610835, \"Rop_tess\": 0.0049261083743842365, \"StephanSpp\": 0.0}, {\"Depth\": 11.0, \"Age\": 12.64, \"A_curv\": 0.0049504950495049506, \"A_octon\": 0.009900990099009901, \"ActinSpp\": 0.09405940594059406, \"A_nodul\": 0.21287128712871287, \"CoscinSpp\": 0.10891089108910891, \"CyclotSpp\": 0.0594059405940594, \"Rop_tess\": 0.0, \"StephanSpp\": 0.0049504950495049506}, {\"Depth\": 11.05, \"Age\": 12.73, \"A_curv\": 0.0049504950495049506, \"A_octon\": 0.0049504950495049506, \"ActinSpp\": 0.06435643564356436, \"A_nodul\": 0.25742574257425743, \"CoscinSpp\": 0.09405940594059406, \"CyclotSpp\": 0.054455445544554455, \"Rop_tess\": 0.0049504950495049506, \"StephanSpp\": 0.0}, {\"Depth\": 11.35, \"Age\": 13.08, \"A_curv\": 0.023923444976076555, \"A_octon\": 0.03827751196172249, \"ActinSpp\": 0.17703349282296652, \"A_nodul\": 0.1339712918660287, \"CoscinSpp\": 0.06698564593301436, \"CyclotSpp\": 0.023923444976076555, \"Rop_tess\": 0.0, \"StephanSpp\": 0.004784688995215311}, {\"Depth\": 11.4, \"Age\": 13.12, \"A_curv\": 0.0196078431372549, \"A_octon\": 0.0392156862745098, \"ActinSpp\": 0.10294117647058823, \"A_nodul\": 0.25980392156862747, \"CoscinSpp\": 0.05392156862745098, \"CyclotSpp\": 0.014705882352941176, \"Rop_tess\": 0.0, \"StephanSpp\": 0.0}, {\"Depth\": 11.45, \"Age\": 13.17, \"A_curv\": 0.009708737864077669, \"A_octon\": 0.038834951456310676, \"ActinSpp\": 0.1407766990291262, \"A_nodul\": 0.18446601941747573, \"CoscinSpp\": 0.10194174757281553, \"CyclotSpp\": 0.009708737864077669, \"Rop_tess\": 0.0, \"StephanSpp\": 0.0}, {\"Depth\": 11.5, \"Age\": 13.21, \"A_curv\": 0.054187192118226604, \"A_octon\": 0.019704433497536946, \"ActinSpp\": 0.14285714285714285, \"A_nodul\": 0.12807881773399016, \"CoscinSpp\": 0.11822660098522167, \"CyclotSpp\": 0.024630541871921183, \"Rop_tess\": 0.0, \"StephanSpp\": 0.0}, {\"Depth\": 11.55, \"Age\": 13.26, \"A_curv\": 0.00980392156862745, \"A_octon\": 0.0, \"ActinSpp\": 0.2107843137254902, \"A_nodul\": 0.18627450980392157, \"CoscinSpp\": 0.06862745098039216, \"CyclotSpp\": 0.00980392156862745, \"Rop_tess\": 0.0, \"StephanSpp\": 0.0}, {\"Depth\": 11.6, \"Age\": 13.3, \"A_curv\": 0.05263157894736842, \"A_octon\": 0.019138755980861243, \"ActinSpp\": 0.15311004784688995, \"A_nodul\": 0.11961722488038277, \"CoscinSpp\": 0.07177033492822966, \"CyclotSpp\": 0.05741626794258373, \"Rop_tess\": 0.0, \"StephanSpp\": 0.004784688995215311}, {\"Depth\": 11.65, \"Age\": 13.35, \"A_curv\": 0.02912621359223301, \"A_octon\": 0.03398058252427184, \"ActinSpp\": 0.1407766990291262, \"A_nodul\": 0.1262135922330097, \"CoscinSpp\": 0.1262135922330097, \"CyclotSpp\": 0.024271844660194174, \"Rop_tess\": 0.0, \"StephanSpp\": 0.0}, {\"Depth\": 11.7, \"Age\": 13.39, \"A_curv\": 0.029411764705882353, \"A_octon\": 0.00980392156862745, \"ActinSpp\": 0.20588235294117646, \"A_nodul\": 0.13725490196078433, \"CoscinSpp\": 0.08823529411764706, \"CyclotSpp\": 0.014705882352941176, \"Rop_tess\": 0.0, \"StephanSpp\": 0.0}, {\"Depth\": 11.75, \"Age\": 13.44, \"A_curv\": 0.10396039603960396, \"A_octon\": 0.0049504950495049506, \"ActinSpp\": 0.16336633663366337, \"A_nodul\": 0.0297029702970297, \"CoscinSpp\": 0.07425742574257425, \"CyclotSpp\": 0.10891089108910891, \"Rop_tess\": 0.0049504950495049506, \"StephanSpp\": 0.0}, {\"Depth\": 11.8, \"Age\": 13.48, \"A_curv\": 0.014705882352941176, \"A_octon\": 0.0196078431372549, \"ActinSpp\": 0.16666666666666666, \"A_nodul\": 0.14215686274509803, \"CoscinSpp\": 0.09313725490196079, \"CyclotSpp\": 0.04411764705882353, \"Rop_tess\": 0.00980392156862745, \"StephanSpp\": 0.0}, {\"Depth\": 11.85, \"Age\": 13.53, \"A_curv\": 0.03940886699507389, \"A_octon\": 0.009852216748768473, \"ActinSpp\": 0.18719211822660098, \"A_nodul\": 0.13793103448275862, \"CoscinSpp\": 0.07389162561576355, \"CyclotSpp\": 0.03940886699507389, \"Rop_tess\": 0.0049261083743842365, \"StephanSpp\": 0.0}, {\"Depth\": 11.9, \"Age\": 13.57, \"A_curv\": 0.00980392156862745, \"A_octon\": 0.014705882352941176, \"ActinSpp\": 0.17647058823529413, \"A_nodul\": 0.1568627450980392, \"CoscinSpp\": 0.07352941176470588, \"CyclotSpp\": 0.049019607843137254, \"Rop_tess\": 0.0, \"StephanSpp\": 0.004901960784313725}, {\"Depth\": 11.95, \"Age\": 13.61, \"A_curv\": 0.11386138613861387, \"A_octon\": 0.01485148514851485, \"ActinSpp\": 0.19306930693069307, \"A_nodul\": 0.04950495049504951, \"CoscinSpp\": 0.08415841584158416, \"CyclotSpp\": 0.0297029702970297, \"Rop_tess\": 0.0, \"StephanSpp\": 0.0}, {\"Depth\": 12.0, \"Age\": 13.66, \"A_curv\": 0.05365853658536585, \"A_octon\": 0.02926829268292683, \"ActinSpp\": 0.2097560975609756, \"A_nodul\": 0.09268292682926829, \"CoscinSpp\": 0.06341463414634146, \"CyclotSpp\": 0.03902439024390244, \"Rop_tess\": 0.0, \"StephanSpp\": 0.0}, {\"Depth\": 12.05, \"Age\": 13.7, \"A_curv\": 0.014354066985645933, \"A_octon\": 0.009569377990430622, \"ActinSpp\": 0.04784688995215311, \"A_nodul\": 0.24401913875598086, \"CoscinSpp\": 0.0430622009569378, \"CyclotSpp\": 0.04784688995215311, \"Rop_tess\": 0.07655502392344497, \"StephanSpp\": 0.0}, {\"Depth\": 12.1, \"Age\": 13.75, \"A_curv\": 0.04926108374384237, \"A_octon\": 0.014778325123152709, \"ActinSpp\": 0.1477832512315271, \"A_nodul\": 0.1477832512315271, \"CoscinSpp\": 0.10344827586206896, \"CyclotSpp\": 0.029556650246305417, \"Rop_tess\": 0.0, \"StephanSpp\": 0.0}, {\"Depth\": 12.15, \"Age\": 13.79, \"A_curv\": 0.019230769230769232, \"A_octon\": 0.038461538461538464, \"ActinSpp\": 0.12980769230769232, \"A_nodul\": 0.18269230769230768, \"CoscinSpp\": 0.052884615384615384, \"CyclotSpp\": 0.057692307692307696, \"Rop_tess\": 0.0, \"StephanSpp\": 0.0}, {\"Depth\": 11.1, \"Age\": 12.82, \"A_curv\": 0.0, \"A_octon\": 0.004901960784313725, \"ActinSpp\": 0.06862745098039216, \"A_nodul\": 0.22549019607843138, \"CoscinSpp\": 0.1323529411764706, \"CyclotSpp\": 0.049019607843137254, \"Rop_tess\": 0.0, \"StephanSpp\": 0.0}, {\"Depth\": 11.15, \"Age\": 12.9, \"A_curv\": 0.0, \"A_octon\": 0.009900990099009901, \"ActinSpp\": 0.0891089108910891, \"A_nodul\": 0.23267326732673269, \"CoscinSpp\": 0.11386138613861387, \"CyclotSpp\": 0.04455445544554455, \"Rop_tess\": 0.0049504950495049506, \"StephanSpp\": 0.0}, {\"Depth\": 11.2, \"Age\": 12.94, \"A_curv\": 0.004901960784313725, \"A_octon\": 0.00980392156862745, \"ActinSpp\": 0.09803921568627451, \"A_nodul\": 0.24509803921568626, \"CoscinSpp\": 0.09803921568627451, \"CyclotSpp\": 0.029411764705882353, \"Rop_tess\": 0.0, \"StephanSpp\": 0.0}, {\"Depth\": 11.25, \"Age\": 12.99, \"A_curv\": 0.00980392156862745, \"A_octon\": 0.0196078431372549, \"ActinSpp\": 0.19117647058823528, \"A_nodul\": 0.08823529411764706, \"CoscinSpp\": 0.16176470588235295, \"CyclotSpp\": 0.014705882352941176, \"Rop_tess\": 0.0, \"StephanSpp\": 0.004901960784313725}, {\"Depth\": 11.3, \"Age\": 13.03, \"A_curv\": 0.00980392156862745, \"A_octon\": 0.0392156862745098, \"ActinSpp\": 0.06372549019607843, \"A_nodul\": 0.24509803921568626, \"CoscinSpp\": 0.07352941176470588, \"CyclotSpp\": 0.0392156862745098, \"Rop_tess\": 0.014705882352941176, \"StephanSpp\": 0.0}, {\"Depth\": 12.2, \"Age\": 13.84, \"A_curv\": 0.054187192118226604, \"A_octon\": 0.014778325123152709, \"ActinSpp\": 0.2660098522167488, \"A_nodul\": 0.06896551724137931, \"CoscinSpp\": 0.04926108374384237, \"CyclotSpp\": 0.029556650246305417, \"Rop_tess\": 0.0, \"StephanSpp\": 0.0049261083743842365}, {\"Depth\": 12.25, \"Age\": 13.88, \"A_curv\": 0.04411764705882353, \"A_octon\": 0.004901960784313725, \"ActinSpp\": 0.1568627450980392, \"A_nodul\": 0.09803921568627451, \"CoscinSpp\": 0.12745098039215685, \"CyclotSpp\": 0.049019607843137254, \"Rop_tess\": 0.004901960784313725, \"StephanSpp\": 0.0}, {\"Depth\": 12.3, \"Age\": 13.93, \"A_curv\": 0.06435643564356436, \"A_octon\": 0.009900990099009901, \"ActinSpp\": 0.12871287128712872, \"A_nodul\": 0.15346534653465346, \"CoscinSpp\": 0.0891089108910891, \"CyclotSpp\": 0.039603960396039604, \"Rop_tess\": 0.0, \"StephanSpp\": 0.0049504950495049506}, {\"Depth\": 12.35, \"Age\": 13.97, \"A_curv\": 0.00980392156862745, \"A_octon\": 0.004901960784313725, \"ActinSpp\": 0.12745098039215685, \"A_nodul\": 0.21568627450980393, \"CoscinSpp\": 0.10294117647058823, \"CyclotSpp\": 0.029411764705882353, \"Rop_tess\": 0.0, \"StephanSpp\": 0.0}, {\"Depth\": 12.4, \"Age\": 14.02, \"A_curv\": 0.03940886699507389, \"A_octon\": 0.009852216748768473, \"ActinSpp\": 0.22167487684729065, \"A_nodul\": 0.11330049261083744, \"CoscinSpp\": 0.06896551724137931, \"CyclotSpp\": 0.03940886699507389, \"Rop_tess\": 0.0, \"StephanSpp\": 0.0}, {\"Depth\": 12.45, \"Age\": 14.06, \"A_curv\": 0.05314009661835749, \"A_octon\": 0.01932367149758454, \"ActinSpp\": 0.14009661835748793, \"A_nodul\": 0.1111111111111111, \"CoscinSpp\": 0.13043478260869565, \"CyclotSpp\": 0.033816425120772944, \"Rop_tess\": 0.0, \"StephanSpp\": 0.0}, {\"Depth\": 12.5, \"Age\": 14.11, \"A_curv\": 0.024390243902439025, \"A_octon\": 0.004878048780487805, \"ActinSpp\": 0.17073170731707318, \"A_nodul\": 0.14146341463414633, \"CoscinSpp\": 0.06829268292682927, \"CyclotSpp\": 0.06341463414634146, \"Rop_tess\": 0.014634146341463415, \"StephanSpp\": 0.0}, {\"Depth\": 12.55, \"Age\": 14.15, \"A_curv\": 0.028985507246376812, \"A_octon\": 0.00966183574879227, \"ActinSpp\": 0.14009661835748793, \"A_nodul\": 0.15942028985507245, \"CoscinSpp\": 0.08695652173913043, \"CyclotSpp\": 0.057971014492753624, \"Rop_tess\": 0.0, \"StephanSpp\": 0.0}, {\"Depth\": 12.6, \"Age\": 14.19, \"A_curv\": 0.03431372549019608, \"A_octon\": 0.014705882352941176, \"ActinSpp\": 0.1568627450980392, \"A_nodul\": 0.16666666666666666, \"CoscinSpp\": 0.09313725490196079, \"CyclotSpp\": 0.0196078431372549, \"Rop_tess\": 0.0, \"StephanSpp\": 0.0}, {\"Depth\": 12.65, \"Age\": 14.24, \"A_curv\": 0.043689320388349516, \"A_octon\": 0.019417475728155338, \"ActinSpp\": 0.16019417475728157, \"A_nodul\": 0.15048543689320387, \"CoscinSpp\": 0.07766990291262135, \"CyclotSpp\": 0.02912621359223301, \"Rop_tess\": 0.0, \"StephanSpp\": 0.0048543689320388345}, {\"Depth\": 12.7, \"Age\": 14.28, \"A_curv\": 0.009708737864077669, \"A_octon\": 0.0048543689320388345, \"ActinSpp\": 0.06796116504854369, \"A_nodul\": 0.3058252427184466, \"CoscinSpp\": 0.07766990291262135, \"CyclotSpp\": 0.009708737864077669, \"Rop_tess\": 0.0, \"StephanSpp\": 0.0}, {\"Depth\": 12.75, \"Age\": 14.33, \"A_curv\": 0.02912621359223301, \"A_octon\": 0.02912621359223301, \"ActinSpp\": 0.1796116504854369, \"A_nodul\": 0.16019417475728157, \"CoscinSpp\": 0.05339805825242718, \"CyclotSpp\": 0.024271844660194174, \"Rop_tess\": 0.0, \"StephanSpp\": 0.0048543689320388345}, {\"Depth\": 12.8, \"Age\": 14.37, \"A_curv\": 0.01951219512195122, \"A_octon\": 0.024390243902439025, \"ActinSpp\": 0.17073170731707318, \"A_nodul\": 0.18048780487804877, \"CoscinSpp\": 0.05853658536585366, \"CyclotSpp\": 0.03414634146341464, \"Rop_tess\": 0.0, \"StephanSpp\": 0.0}, {\"Depth\": 12.85, \"Age\": 14.42, \"A_curv\": 0.024630541871921183, \"A_octon\": 0.009852216748768473, \"ActinSpp\": 0.1625615763546798, \"A_nodul\": 0.17733990147783252, \"CoscinSpp\": 0.07881773399014778, \"CyclotSpp\": 0.029556650246305417, \"Rop_tess\": 0.0, \"StephanSpp\": 0.0}, {\"Depth\": 12.9, \"Age\": 14.46, \"A_curv\": 0.02926829268292683, \"A_octon\": 0.02926829268292683, \"ActinSpp\": 0.14634146341463414, \"A_nodul\": 0.15609756097560976, \"CoscinSpp\": 0.08780487804878048, \"CyclotSpp\": 0.03902439024390244, \"Rop_tess\": 0.0, \"StephanSpp\": 0.0}, {\"Depth\": 12.95, \"Age\": 14.51, \"A_curv\": 0.014492753623188406, \"A_octon\": 0.028985507246376812, \"ActinSpp\": 0.09178743961352658, \"A_nodul\": 0.2028985507246377, \"CoscinSpp\": 0.06763285024154589, \"CyclotSpp\": 0.07729468599033816, \"Rop_tess\": 0.0, \"StephanSpp\": 0.0}, {\"Depth\": 13.0, \"Age\": 14.55, \"A_curv\": 0.00975609756097561, \"A_octon\": 0.014634146341463415, \"ActinSpp\": 0.08292682926829269, \"A_nodul\": 0.32682926829268294, \"CoscinSpp\": 0.024390243902439025, \"CyclotSpp\": 0.01951219512195122, \"Rop_tess\": 0.0, \"StephanSpp\": 0.0}, {\"Depth\": 13.05, \"Age\": 14.6, \"A_curv\": 0.0, \"A_octon\": 0.019417475728155338, \"ActinSpp\": 0.10679611650485436, \"A_nodul\": 0.23786407766990292, \"CoscinSpp\": 0.0825242718446602, \"CyclotSpp\": 0.038834951456310676, \"Rop_tess\": 0.0, \"StephanSpp\": 0.0}, {\"Depth\": 13.1, \"Age\": 14.64, \"A_curv\": 0.0, \"A_octon\": 0.0, \"ActinSpp\": 0.03980099502487562, \"A_nodul\": 0.3582089552238806, \"CoscinSpp\": 0.07462686567164178, \"CyclotSpp\": 0.01990049751243781, \"Rop_tess\": 0.0, \"StephanSpp\": 0.0}, {\"Depth\": 13.15, \"Age\": 14.69, \"A_curv\": 0.004878048780487805, \"A_octon\": 0.014634146341463415, \"ActinSpp\": 0.09268292682926829, \"A_nodul\": 0.1951219512195122, \"CoscinSpp\": 0.14146341463414633, \"CyclotSpp\": 0.024390243902439025, \"Rop_tess\": 0.004878048780487805, \"StephanSpp\": 0.0}, {\"Depth\": 13.2, \"Age\": 14.73, \"A_curv\": 0.004878048780487805, \"A_octon\": 0.00975609756097561, \"ActinSpp\": 0.07317073170731707, \"A_nodul\": 0.2975609756097561, \"CoscinSpp\": 0.08292682926829269, \"CyclotSpp\": 0.014634146341463415, \"Rop_tess\": 0.0, \"StephanSpp\": 0.0}, {\"Depth\": 13.25, \"Age\": 14.78, \"A_curv\": 0.0048543689320388345, \"A_octon\": 0.0, \"ActinSpp\": 0.10679611650485436, \"A_nodul\": 0.24271844660194175, \"CoscinSpp\": 0.0970873786407767, \"CyclotSpp\": 0.02912621359223301, \"Rop_tess\": 0.0, \"StephanSpp\": 0.0}, {\"Depth\": 13.41, \"Age\": 14.92, \"A_curv\": 0.0, \"A_octon\": 0.013888888888888888, \"ActinSpp\": 0.06481481481481481, \"A_nodul\": 0.24537037037037038, \"CoscinSpp\": 0.07407407407407407, \"CyclotSpp\": 0.06018518518518518, \"Rop_tess\": 0.0, \"StephanSpp\": 0.0}, {\"Depth\": 13.46, \"Age\": 14.96, \"A_curv\": 0.0, \"A_octon\": 0.00966183574879227, \"ActinSpp\": 0.05314009661835749, \"A_nodul\": 0.2753623188405797, \"CoscinSpp\": 0.10628019323671498, \"CyclotSpp\": 0.028985507246376812, \"Rop_tess\": 0.004830917874396135, \"StephanSpp\": 0.0}, {\"Depth\": 13.51, \"Age\": 15.01, \"A_curv\": 0.0, \"A_octon\": 0.0, \"ActinSpp\": 0.04878048780487805, \"A_nodul\": 0.3073170731707317, \"CoscinSpp\": 0.1073170731707317, \"CyclotSpp\": 0.024390243902439025, \"Rop_tess\": 0.0, \"StephanSpp\": 0.0}, {\"Depth\": 13.56, \"Age\": 15.05, \"A_curv\": 0.0049261083743842365, \"A_octon\": 0.0, \"ActinSpp\": 0.034482758620689655, \"A_nodul\": 0.2660098522167488, \"CoscinSpp\": 0.12807881773399016, \"CyclotSpp\": 0.054187192118226604, \"Rop_tess\": 0.0, \"StephanSpp\": 0.0}, {\"Depth\": 13.61, \"Age\": 15.1, \"A_curv\": 0.0048543689320388345, \"A_octon\": 0.0048543689320388345, \"ActinSpp\": 0.04854368932038835, \"A_nodul\": 0.30097087378640774, \"CoscinSpp\": 0.07281553398058252, \"CyclotSpp\": 0.05339805825242718, \"Rop_tess\": 0.0, \"StephanSpp\": 0.0}, {\"Depth\": 13.66, \"Age\": 15.14, \"A_curv\": 0.014563106796116505, \"A_octon\": 0.009708737864077669, \"ActinSpp\": 0.05825242718446602, \"A_nodul\": 0.2815533980582524, \"CoscinSpp\": 0.06310679611650485, \"CyclotSpp\": 0.05825242718446602, \"Rop_tess\": 0.0, \"StephanSpp\": 0.0}, {\"Depth\": 13.71, \"Age\": 15.19, \"A_curv\": 0.004901960784313725, \"A_octon\": 0.00980392156862745, \"ActinSpp\": 0.06372549019607843, \"A_nodul\": 0.2696078431372549, \"CoscinSpp\": 0.08823529411764706, \"CyclotSpp\": 0.05392156862745098, \"Rop_tess\": 0.0, \"StephanSpp\": 0.0}]}}, {\"mode\": \"vega-lite\"});\n",
       "</script>"
      ],
      "text/plain": [
       "alt.LayerChart(...)"
      ]
     },
     "execution_count": 32,
     "metadata": {},
     "output_type": "execute_result"
    }
   ],
   "source": [
    "# BEGIN SOLUTION\n",
    "kdes = alt.Chart(diatoms).transform_calculate(\n",
    "    pleistocene = 'datum.Age > 11'\n",
    ").transform_density(\n",
    "    density = 'A_nodul',\n",
    "    groupby = ['pleistocene'],\n",
    "    as_ = ['Relative abundance', 'Density'],\n",
    "    bandwidth = 0.025,\n",
    "    extent = [0, 0.4],\n",
    "    steps = 500\n",
    ").mark_line(color = 'black').encode(\n",
    "    x = 'Relative abundance:Q',\n",
    "    y = 'Density:Q',\n",
    "    color = alt.Color('pleistocene:N', title = 'Pleistocene')\n",
    ")\n",
    "\n",
    "kdes + kdes.mark_area(opacity = 0.2)\n",
    "# END SOLUTION"
   ]
  },
  {
   "attachments": {},
   "cell_type": "markdown",
   "metadata": {
    "tags": [
     "otter_assign_solution_cell"
    ]
   },
   "source": [
    "**SOLUTION**\n",
    "Relative abundances of *A. nodulifer* are low during the end of the Pleistocene epoch and do not vary much; the taxon is relatively rare. However, following the climate shift, relative abundances are distributed between around 5% and 35%, indicating that the taxon is much more common. Typically abundance is around either 15% or 25% during the latter period. "
   ]
  },
  {
   "attachments": {},
   "cell_type": "markdown",
   "metadata": {},
   "source": [
    "<!-- END QUESTION -->\n",
    "\n",
    "# Visualizing community composition with PCA\n",
    "\n",
    "So far you've seen that the abundances of one taxon -- *Azpeitia nodulifer* -- change markedly before and after a shift in climate conditions. In this part you'll use PCA to compare variation in community composition among *all* eight taxa during the late Pleistocene and Holocene epochs."
   ]
  },
  {
   "attachments": {},
   "cell_type": "markdown",
   "metadata": {},
   "source": [
    "### Question 9: Pairwise correlations in relative abundances\n",
    "\n",
    "**(i) Compute the pairwise correlations between relative abundances and make a heatmap of the correlation matrix.**\n",
    "\n",
    "Be sure to remove or set to indices the Depth and Age variables before computing the correlation matrix. Save the matrix as `corr_mx`.\n",
    "\n",
    "1. Melt `corr_mx` to obtain a dataframe with three columns: \n",
    "    + `row`, which contains the values of the index of `corr_mx` (taxon names); \n",
    "    + `column`, which contains the names of the columns of `corr_mx` (also taxon names); and\n",
    "    + `Correlation`, which contains the values of `corr_mx`. \n",
    "    + Store the result as `corr_mx_long`.\n",
    "2. Create an Altair chart based on `corr_mx_long` and construct the heatmap by following the examples indicated above.\n",
    "    + Adjust the color scheme to `blueorange` over the extent (-1, 1) to obtain a diverging color gradient where a correlation of zero is blank (white).\n",
    "    + Adjust the color legend to indicate the color values corresponding to correlations of 1, 0.5, 0, -0.5, and -1.\n",
    "    + Sort the rows and columns in ascending order of correlation. \n",
    "\n",
    "**(ii) How does *A. nodulifer* seem to vary with the other taxa, if at all?**\n",
    "\n",
    "Answer in a few sentences based on the heatmap."
   ]
  },
  {
   "cell_type": "markdown",
   "metadata": {},
   "source": [
    "_Type your answer here, replacing this text._"
   ]
  },
  {
   "cell_type": "code",
   "execution_count": 33,
   "metadata": {
    "tags": [
     "otter_assign_solution_cell"
    ]
   },
   "outputs": [
    {
     "data": {
      "text/html": [
       "\n",
       "<div id=\"altair-viz-3d685756dae943c98b853ab1fe44f1fd\"></div>\n",
       "<script type=\"text/javascript\">\n",
       "  var VEGA_DEBUG = (typeof VEGA_DEBUG == \"undefined\") ? {} : VEGA_DEBUG;\n",
       "  (function(spec, embedOpt){\n",
       "    let outputDiv = document.currentScript.previousElementSibling;\n",
       "    if (outputDiv.id !== \"altair-viz-3d685756dae943c98b853ab1fe44f1fd\") {\n",
       "      outputDiv = document.getElementById(\"altair-viz-3d685756dae943c98b853ab1fe44f1fd\");\n",
       "    }\n",
       "    const paths = {\n",
       "      \"vega\": \"https://cdn.jsdelivr.net/npm//vega@5?noext\",\n",
       "      \"vega-lib\": \"https://cdn.jsdelivr.net/npm//vega-lib?noext\",\n",
       "      \"vega-lite\": \"https://cdn.jsdelivr.net/npm//vega-lite@4.17.0?noext\",\n",
       "      \"vega-embed\": \"https://cdn.jsdelivr.net/npm//vega-embed@6?noext\",\n",
       "    };\n",
       "\n",
       "    function maybeLoadScript(lib, version) {\n",
       "      var key = `${lib.replace(\"-\", \"\")}_version`;\n",
       "      return (VEGA_DEBUG[key] == version) ?\n",
       "        Promise.resolve(paths[lib]) :\n",
       "        new Promise(function(resolve, reject) {\n",
       "          var s = document.createElement('script');\n",
       "          document.getElementsByTagName(\"head\")[0].appendChild(s);\n",
       "          s.async = true;\n",
       "          s.onload = () => {\n",
       "            VEGA_DEBUG[key] = version;\n",
       "            return resolve(paths[lib]);\n",
       "          };\n",
       "          s.onerror = () => reject(`Error loading script: ${paths[lib]}`);\n",
       "          s.src = paths[lib];\n",
       "        });\n",
       "    }\n",
       "\n",
       "    function showError(err) {\n",
       "      outputDiv.innerHTML = `<div class=\"error\" style=\"color:red;\">${err}</div>`;\n",
       "      throw err;\n",
       "    }\n",
       "\n",
       "    function displayChart(vegaEmbed) {\n",
       "      vegaEmbed(outputDiv, spec, embedOpt)\n",
       "        .catch(err => showError(`Javascript Error: ${err.message}<br>This usually means there's a typo in your chart specification. See the javascript console for the full traceback.`));\n",
       "    }\n",
       "\n",
       "    if(typeof define === \"function\" && define.amd) {\n",
       "      requirejs.config({paths});\n",
       "      require([\"vega-embed\"], displayChart, err => showError(`Error loading script: ${err.message}`));\n",
       "    } else {\n",
       "      maybeLoadScript(\"vega\", \"5\")\n",
       "        .then(() => maybeLoadScript(\"vega-lite\", \"4.17.0\"))\n",
       "        .then(() => maybeLoadScript(\"vega-embed\", \"6\"))\n",
       "        .catch(showError)\n",
       "        .then(() => displayChart(vegaEmbed));\n",
       "    }\n",
       "  })({\"config\": {\"view\": {\"continuousWidth\": 400, \"continuousHeight\": 300}}, \"data\": {\"name\": \"data-9ee510db773f5545a7d2d7974b488e8b\"}, \"mark\": \"rect\", \"encoding\": {\"color\": {\"field\": \"Correlation\", \"legend\": {\"tickCount\": 5}, \"scale\": {\"domain\": [-1, 1], \"scheme\": \"blueorange\", \"type\": \"sqrt\"}, \"type\": \"quantitative\"}, \"x\": {\"field\": \"col\", \"sort\": {\"field\": \"Correlation\", \"order\": \"ascending\"}, \"title\": \"\", \"type\": \"nominal\"}, \"y\": {\"field\": \"row\", \"sort\": {\"field\": \"Correlation\", \"order\": \"ascending\"}, \"title\": \"\", \"type\": \"nominal\"}}, \"height\": 300, \"width\": 300, \"$schema\": \"https://vega.github.io/schema/vega-lite/v4.17.0.json\", \"datasets\": {\"data-9ee510db773f5545a7d2d7974b488e8b\": [{\"row\": \"A_curv\", \"col\": \"A_curv\", \"Correlation\": 1.0}, {\"row\": \"A_octon\", \"col\": \"A_curv\", \"Correlation\": 0.11148012704163955}, {\"row\": \"ActinSpp\", \"col\": \"A_curv\", \"Correlation\": 0.3908983210789049}, {\"row\": \"A_nodul\", \"col\": \"A_curv\", \"Correlation\": -0.4467783794634828}, {\"row\": \"CoscinSpp\", \"col\": \"A_curv\", \"Correlation\": 0.09122238756013563}, {\"row\": \"CyclotSpp\", \"col\": \"A_curv\", \"Correlation\": 0.21943881178532748}, {\"row\": \"Rop_tess\", \"col\": \"A_curv\", \"Correlation\": -0.06268987663790046}, {\"row\": \"StephanSpp\", \"col\": \"A_curv\", \"Correlation\": 0.15190926871442448}, {\"row\": \"A_curv\", \"col\": \"A_octon\", \"Correlation\": 0.11148012704163955}, {\"row\": \"A_octon\", \"col\": \"A_octon\", \"Correlation\": 1.0}, {\"row\": \"ActinSpp\", \"col\": \"A_octon\", \"Correlation\": -0.005009031137348913}, {\"row\": \"A_nodul\", \"col\": \"A_octon\", \"Correlation\": -0.21799220763122606}, {\"row\": \"CoscinSpp\", \"col\": \"A_octon\", \"Correlation\": 0.04958934728741469}, {\"row\": \"CyclotSpp\", \"col\": \"A_octon\", \"Correlation\": 0.06524911658995947}, {\"row\": \"Rop_tess\", \"col\": \"A_octon\", \"Correlation\": -0.023046710627739175}, {\"row\": \"StephanSpp\", \"col\": \"A_octon\", \"Correlation\": -0.04101728630045759}, {\"row\": \"A_curv\", \"col\": \"ActinSpp\", \"Correlation\": 0.3908983210789049}, {\"row\": \"A_octon\", \"col\": \"ActinSpp\", \"Correlation\": -0.005009031137348913}, {\"row\": \"ActinSpp\", \"col\": \"ActinSpp\", \"Correlation\": 1.0}, {\"row\": \"A_nodul\", \"col\": \"ActinSpp\", \"Correlation\": -0.36347511559409307}, {\"row\": \"CoscinSpp\", \"col\": \"ActinSpp\", \"Correlation\": 0.30602097625707547}, {\"row\": \"CyclotSpp\", \"col\": \"ActinSpp\", \"Correlation\": -0.05573194440277609}, {\"row\": \"Rop_tess\", \"col\": \"ActinSpp\", \"Correlation\": -0.3434096542828656}, {\"row\": \"StephanSpp\", \"col\": \"ActinSpp\", \"Correlation\": 0.05849426108338282}, {\"row\": \"A_curv\", \"col\": \"A_nodul\", \"Correlation\": -0.4467783794634828}, {\"row\": \"A_octon\", \"col\": \"A_nodul\", \"Correlation\": -0.21799220763122606}, {\"row\": \"ActinSpp\", \"col\": \"A_nodul\", \"Correlation\": -0.36347511559409307}, {\"row\": \"A_nodul\", \"col\": \"A_nodul\", \"Correlation\": 1.0}, {\"row\": \"CoscinSpp\", \"col\": \"A_nodul\", \"Correlation\": -0.010920227836139393}, {\"row\": \"CyclotSpp\", \"col\": \"A_nodul\", \"Correlation\": -0.4073376790554347}, {\"row\": \"Rop_tess\", \"col\": \"A_nodul\", \"Correlation\": -0.47194075252401796}, {\"row\": \"StephanSpp\", \"col\": \"A_nodul\", \"Correlation\": -0.15140866339925804}, {\"row\": \"A_curv\", \"col\": \"CoscinSpp\", \"Correlation\": 0.09122238756013563}, {\"row\": \"A_octon\", \"col\": \"CoscinSpp\", \"Correlation\": 0.04958934728741469}, {\"row\": \"ActinSpp\", \"col\": \"CoscinSpp\", \"Correlation\": 0.30602097625707547}, {\"row\": \"A_nodul\", \"col\": \"CoscinSpp\", \"Correlation\": -0.010920227836139393}, {\"row\": \"CoscinSpp\", \"col\": \"CoscinSpp\", \"Correlation\": 1.0}, {\"row\": \"CyclotSpp\", \"col\": \"CoscinSpp\", \"Correlation\": -0.26615674332029876}, {\"row\": \"Rop_tess\", \"col\": \"CoscinSpp\", \"Correlation\": -0.3417547521258265}, {\"row\": \"StephanSpp\", \"col\": \"CoscinSpp\", \"Correlation\": -0.016331607089081487}, {\"row\": \"A_curv\", \"col\": \"CyclotSpp\", \"Correlation\": 0.21943881178532748}, {\"row\": \"A_octon\", \"col\": \"CyclotSpp\", \"Correlation\": 0.06524911658995947}, {\"row\": \"ActinSpp\", \"col\": \"CyclotSpp\", \"Correlation\": -0.05573194440277609}, {\"row\": \"A_nodul\", \"col\": \"CyclotSpp\", \"Correlation\": -0.4073376790554347}, {\"row\": \"CoscinSpp\", \"col\": \"CyclotSpp\", \"Correlation\": -0.26615674332029876}, {\"row\": \"CyclotSpp\", \"col\": \"CyclotSpp\", \"Correlation\": 1.0}, {\"row\": \"Rop_tess\", \"col\": \"CyclotSpp\", \"Correlation\": 0.018149478515156917}, {\"row\": \"StephanSpp\", \"col\": \"CyclotSpp\", \"Correlation\": 0.07068436521730259}, {\"row\": \"A_curv\", \"col\": \"Rop_tess\", \"Correlation\": -0.06268987663790046}, {\"row\": \"A_octon\", \"col\": \"Rop_tess\", \"Correlation\": -0.023046710627739175}, {\"row\": \"ActinSpp\", \"col\": \"Rop_tess\", \"Correlation\": -0.3434096542828656}, {\"row\": \"A_nodul\", \"col\": \"Rop_tess\", \"Correlation\": -0.47194075252401796}, {\"row\": \"CoscinSpp\", \"col\": \"Rop_tess\", \"Correlation\": -0.3417547521258265}, {\"row\": \"CyclotSpp\", \"col\": \"Rop_tess\", \"Correlation\": 0.018149478515156917}, {\"row\": \"Rop_tess\", \"col\": \"Rop_tess\", \"Correlation\": 1.0}, {\"row\": \"StephanSpp\", \"col\": \"Rop_tess\", \"Correlation\": 0.03260666162779185}, {\"row\": \"A_curv\", \"col\": \"StephanSpp\", \"Correlation\": 0.15190926871442448}, {\"row\": \"A_octon\", \"col\": \"StephanSpp\", \"Correlation\": -0.04101728630045759}, {\"row\": \"ActinSpp\", \"col\": \"StephanSpp\", \"Correlation\": 0.05849426108338282}, {\"row\": \"A_nodul\", \"col\": \"StephanSpp\", \"Correlation\": -0.15140866339925804}, {\"row\": \"CoscinSpp\", \"col\": \"StephanSpp\", \"Correlation\": -0.016331607089081487}, {\"row\": \"CyclotSpp\", \"col\": \"StephanSpp\", \"Correlation\": 0.07068436521730259}, {\"row\": \"Rop_tess\", \"col\": \"StephanSpp\", \"Correlation\": 0.03260666162779185}, {\"row\": \"StephanSpp\", \"col\": \"StephanSpp\", \"Correlation\": 1.0}]}}, {\"mode\": \"vega-lite\"});\n",
       "</script>"
      ],
      "text/plain": [
       "alt.Chart(...)"
      ]
     },
     "execution_count": 33,
     "metadata": {},
     "output_type": "execute_result"
    }
   ],
   "source": [
    "corr_mx = diatoms.set_index(['Depth', 'Age']).corr() # SOLUTION\n",
    "\n",
    "# melt corr_mx\n",
    "# BEGIN SOLUTION\n",
    "corr_mx_long = corr_mx.reset_index().rename(\n",
    "    columns = {'index': 'row'}\n",
    ").melt(\n",
    "    id_vars = 'row',\n",
    "    var_name = 'col',\n",
    "    value_name = 'Correlation'\n",
    ")\n",
    "# END SOLUTION\n",
    "\n",
    "# construct heatmap\n",
    "# BEGIN SOLUTION\n",
    "fig5 = alt.Chart(corr_mx_long).mark_rect().encode(\n",
    "    x = alt.X('col', title = '', sort = {'field': 'Correlation', 'order': 'ascending'}),\n",
    "    y = alt.Y('row', title = '', sort = {'field': 'Correlation', 'order': 'ascending'}),\n",
    "    color = alt.Color('Correlation', \n",
    "                      scale = alt.Scale(scheme = 'blueorange',\n",
    "                                        domain = (-1, 1), \n",
    "                                        type = 'sqrt'),\n",
    "                     legend = alt.Legend(tickCount = 5))\n",
    ").properties(width = 300, height = 300)\n",
    "# END SOLUTION\n",
    "\n",
    "# display\n",
    "fig5"
   ]
  },
  {
   "attachments": {},
   "cell_type": "markdown",
   "metadata": {
    "tags": [
     "otter_assign_solution_cell"
    ]
   },
   "source": [
    "**SOLUTION**\n",
    "\n",
    "*Azpeitia nodulifer* abundances are negatively correlated with abundances of all other taxa -- all entries in the `A_nodul` row are blue. This indicates that when *A. nodulifer* diatoms are abundant, diatoms in other taxa tend to be less abundant; conversely, when *A. nodulifer* are not abundant, other taxa tend to be more abundant."
   ]
  },
  {
   "cell_type": "code",
   "execution_count": null,
   "metadata": {
    "deletable": false,
    "editable": false
   },
   "outputs": [],
   "source": [
    "grader.check(\"q9\")"
   ]
  },
  {
   "attachments": {},
   "cell_type": "markdown",
   "metadata": {},
   "source": [
    "### Question 10: Computing and selecting principal components\n",
    "\n",
    "Here you'll perform all of the calculations involved in PCA and check the variance ratios to select an appropriate number of principal components. The parts of this question correspond to the individual steps in this process.\n",
    "\n",
    "**(i) Center and scale the data columns.**\n",
    "\n",
    "For PCA it is usually recommended to center and scale the data; set Depth and Age as indices and center and scale the relative abundances. Store the normalized result as `pcdata`. \n",
    "\n",
    "**(ii) Compute the principal components.**\n",
    "\n",
    "Compute *all 8* principal components. For this part you do not need to show any specific output.\n",
    "\n",
    "**(iii) Examine the variance ratios.**\n",
    "\n",
    "Create a dataframe called `pcvars` with the variance information by following these steps:\n",
    "\n",
    "1. Store the proportion of variance explained (called `.explained_variance_ratio_` in the PCA output) as a dataframe named `pcvars` with just one column named `Proportion of variance explained`.\n",
    "2. Add a column named `Component` to `pcvars` with the integers 1 through 8 as values (indicating the component number).\n",
    "3. Add a column named `Cumulative variance explained` to `pcvars` that is the cumulative sum of `Proportion of variance explained`.\n",
    "    + *Hint*: slice the `Proportion of variance explained` column and use `.cumsum(axis = ...)`.\n",
    "\n",
    "For this part you do not need to show any specific output.\n",
    "\n",
    "**(iv) Plot the variance explained by each PC.**\n",
    "\n",
    "Use `pcvars` to construct a dual-axis plot showing the proportion of variance explained (left y axis) and cumulative variance explained (right y axis) as a function of component number (x axis), with points indicating the variance ratios and lines connecting the points. Follow these steps:\n",
    "\n",
    "1. Construct a base chart that encodes only `Component` on the `X` channel. Store this as `base`.\n",
    "2. Make a base layer for the proportion of variance explained that modifies `base` by encoding `Proportion of variance explained` on the `Y` channel. Store the result as `prop_var_base`.\n",
    "    + Give the `Y` axis title a distinct color of your choosing via `alt.Y(..., axis = alt.Axis(titleColor = ...))`.\n",
    "3. Make a base layer for the cumulative variance explained that modifies `base` by endocing `Cumulative variance explained` on the `Y` channel. Store the result as `cum_var_base`.\n",
    "    + Give the `Y` axis title another distinct color of your choosing via `alt.Y(..., axis = alt.Axis(titleColor = ...))`.\n",
    "4. Create a plot layer for the proportion of variance explained by combining points (`prop_var_base.mark_point()`) with lines (`prop_var_base.mark_line()`). Store the result as `cum_var`.\n",
    "    + Apply the color you chose for the axis title to the points and lines.\n",
    "5. Repeat the previous step for the cumulative variance explained.\n",
    "    + Apply the color you chose for the axis title to the points and lines.\n",
    "6. Layer the plots together using `alt.layer(l1, l2).resolve_scale(y = 'independent')`.\n",
    "\n",
    "Store the result as `fig6` and display the figure.\n",
    "\n",
    "**(v) How many PCs should be used?**\n",
    "\n",
    "Propose an answer based on the variance explained plots and indicate how much total variation your proposed number of components capture jointly."
   ]
  },
  {
   "cell_type": "markdown",
   "metadata": {},
   "source": [
    "_Type your answer here, replacing this text._"
   ]
  },
  {
   "cell_type": "code",
   "execution_count": 40,
   "metadata": {
    "tags": [
     "otter_assign_solution_cell"
    ]
   },
   "outputs": [],
   "source": [
    "## (i) center and scale data\n",
    "\n",
    "# helper variable pcdata_raw; set Depth and Age as indices\n",
    "pcdata_raw = diatoms.set_index(['Depth', 'Age']) # SOLUTION\n",
    "\n",
    "# center and scale the relative abundances\n",
    "pcdata = (pcdata_raw - pcdata_raw.mean())/pcdata_raw.std() # SOLUTION"
   ]
  },
  {
   "cell_type": "code",
   "execution_count": 41,
   "metadata": {
    "tags": [
     "otter_assign_solution_cell"
    ]
   },
   "outputs": [
    {
     "data": {
      "text/html": [
       "<style>#sk-container-id-1 {color: black;background-color: white;}#sk-container-id-1 pre{padding: 0;}#sk-container-id-1 div.sk-toggleable {background-color: white;}#sk-container-id-1 label.sk-toggleable__label {cursor: pointer;display: block;width: 100%;margin-bottom: 0;padding: 0.3em;box-sizing: border-box;text-align: center;}#sk-container-id-1 label.sk-toggleable__label-arrow:before {content: \"▸\";float: left;margin-right: 0.25em;color: #696969;}#sk-container-id-1 label.sk-toggleable__label-arrow:hover:before {color: black;}#sk-container-id-1 div.sk-estimator:hover label.sk-toggleable__label-arrow:before {color: black;}#sk-container-id-1 div.sk-toggleable__content {max-height: 0;max-width: 0;overflow: hidden;text-align: left;background-color: #f0f8ff;}#sk-container-id-1 div.sk-toggleable__content pre {margin: 0.2em;color: black;border-radius: 0.25em;background-color: #f0f8ff;}#sk-container-id-1 input.sk-toggleable__control:checked~div.sk-toggleable__content {max-height: 200px;max-width: 100%;overflow: auto;}#sk-container-id-1 input.sk-toggleable__control:checked~label.sk-toggleable__label-arrow:before {content: \"▾\";}#sk-container-id-1 div.sk-estimator input.sk-toggleable__control:checked~label.sk-toggleable__label {background-color: #d4ebff;}#sk-container-id-1 div.sk-label input.sk-toggleable__control:checked~label.sk-toggleable__label {background-color: #d4ebff;}#sk-container-id-1 input.sk-hidden--visually {border: 0;clip: rect(1px 1px 1px 1px);clip: rect(1px, 1px, 1px, 1px);height: 1px;margin: -1px;overflow: hidden;padding: 0;position: absolute;width: 1px;}#sk-container-id-1 div.sk-estimator {font-family: monospace;background-color: #f0f8ff;border: 1px dotted black;border-radius: 0.25em;box-sizing: border-box;margin-bottom: 0.5em;}#sk-container-id-1 div.sk-estimator:hover {background-color: #d4ebff;}#sk-container-id-1 div.sk-parallel-item::after {content: \"\";width: 100%;border-bottom: 1px solid gray;flex-grow: 1;}#sk-container-id-1 div.sk-label:hover label.sk-toggleable__label {background-color: #d4ebff;}#sk-container-id-1 div.sk-serial::before {content: \"\";position: absolute;border-left: 1px solid gray;box-sizing: border-box;top: 0;bottom: 0;left: 50%;z-index: 0;}#sk-container-id-1 div.sk-serial {display: flex;flex-direction: column;align-items: center;background-color: white;padding-right: 0.2em;padding-left: 0.2em;position: relative;}#sk-container-id-1 div.sk-item {position: relative;z-index: 1;}#sk-container-id-1 div.sk-parallel {display: flex;align-items: stretch;justify-content: center;background-color: white;position: relative;}#sk-container-id-1 div.sk-item::before, #sk-container-id-1 div.sk-parallel-item::before {content: \"\";position: absolute;border-left: 1px solid gray;box-sizing: border-box;top: 0;bottom: 0;left: 50%;z-index: -1;}#sk-container-id-1 div.sk-parallel-item {display: flex;flex-direction: column;z-index: 1;position: relative;background-color: white;}#sk-container-id-1 div.sk-parallel-item:first-child::after {align-self: flex-end;width: 50%;}#sk-container-id-1 div.sk-parallel-item:last-child::after {align-self: flex-start;width: 50%;}#sk-container-id-1 div.sk-parallel-item:only-child::after {width: 0;}#sk-container-id-1 div.sk-dashed-wrapped {border: 1px dashed gray;margin: 0 0.4em 0.5em 0.4em;box-sizing: border-box;padding-bottom: 0.4em;background-color: white;}#sk-container-id-1 div.sk-label label {font-family: monospace;font-weight: bold;display: inline-block;line-height: 1.2em;}#sk-container-id-1 div.sk-label-container {text-align: center;}#sk-container-id-1 div.sk-container {/* jupyter's `normalize.less` sets `[hidden] { display: none; }` but bootstrap.min.css set `[hidden] { display: none !important; }` so we also need the `!important` here to be able to override the default hidden behavior on the sphinx rendered scikit-learn.org. See: https://github.com/scikit-learn/scikit-learn/issues/21755 */display: inline-block !important;position: relative;}#sk-container-id-1 div.sk-text-repr-fallback {display: none;}</style><div id=\"sk-container-id-1\" class=\"sk-top-container\"><div class=\"sk-text-repr-fallback\"><pre>PCA(n_components=8)</pre><b>In a Jupyter environment, please rerun this cell to show the HTML representation or trust the notebook. <br />On GitHub, the HTML representation is unable to render, please try loading this page with nbviewer.org.</b></div><div class=\"sk-container\" hidden><div class=\"sk-item\"><div class=\"sk-estimator sk-toggleable\"><input class=\"sk-toggleable__control sk-hidden--visually\" id=\"sk-estimator-id-1\" type=\"checkbox\" checked><label for=\"sk-estimator-id-1\" class=\"sk-toggleable__label sk-toggleable__label-arrow\">PCA</label><div class=\"sk-toggleable__content\"><pre>PCA(n_components=8)</pre></div></div></div></div></div>"
      ],
      "text/plain": [
       "PCA(n_components=8)"
      ]
     },
     "execution_count": 41,
     "metadata": {},
     "output_type": "execute_result"
    }
   ],
   "source": [
    "## (ii) compute pcs\n",
    "\n",
    "pca = PCA(8) # SOLUTION\n",
    "pca.fit(pcdata) # SOLUTION"
   ]
  },
  {
   "cell_type": "code",
   "execution_count": 42,
   "metadata": {
    "tags": [
     "otter_assign_solution_cell"
    ]
   },
   "outputs": [],
   "source": [
    "## (iii) retrieve variance info\n",
    "\n",
    "# store proportion of variance explained as a dataframe\n",
    "pcvars = pd.DataFrame({'Proportion of variance explained': pca.explained_variance_ratio_}) # SOLUTION\n",
    "\n",
    "# add component number as a new column\n",
    "pcvars['Component'] = np.arange(1, 9) # SOLUTION\n",
    "\n",
    "# add cumulative variance explained as a new column\n",
    "pcvars['Cumulative variance explained'] = pcvars.iloc[:, 0].cumsum(axis = 0) # SOLUTION"
   ]
  },
  {
   "cell_type": "code",
   "execution_count": 43,
   "metadata": {
    "tags": [
     "otter_assign_solution_cell"
    ]
   },
   "outputs": [
    {
     "data": {
      "text/html": [
       "\n",
       "<div id=\"altair-viz-2471f5b08c8e434699f79442ddb30f0f\"></div>\n",
       "<script type=\"text/javascript\">\n",
       "  var VEGA_DEBUG = (typeof VEGA_DEBUG == \"undefined\") ? {} : VEGA_DEBUG;\n",
       "  (function(spec, embedOpt){\n",
       "    let outputDiv = document.currentScript.previousElementSibling;\n",
       "    if (outputDiv.id !== \"altair-viz-2471f5b08c8e434699f79442ddb30f0f\") {\n",
       "      outputDiv = document.getElementById(\"altair-viz-2471f5b08c8e434699f79442ddb30f0f\");\n",
       "    }\n",
       "    const paths = {\n",
       "      \"vega\": \"https://cdn.jsdelivr.net/npm//vega@5?noext\",\n",
       "      \"vega-lib\": \"https://cdn.jsdelivr.net/npm//vega-lib?noext\",\n",
       "      \"vega-lite\": \"https://cdn.jsdelivr.net/npm//vega-lite@4.17.0?noext\",\n",
       "      \"vega-embed\": \"https://cdn.jsdelivr.net/npm//vega-embed@6?noext\",\n",
       "    };\n",
       "\n",
       "    function maybeLoadScript(lib, version) {\n",
       "      var key = `${lib.replace(\"-\", \"\")}_version`;\n",
       "      return (VEGA_DEBUG[key] == version) ?\n",
       "        Promise.resolve(paths[lib]) :\n",
       "        new Promise(function(resolve, reject) {\n",
       "          var s = document.createElement('script');\n",
       "          document.getElementsByTagName(\"head\")[0].appendChild(s);\n",
       "          s.async = true;\n",
       "          s.onload = () => {\n",
       "            VEGA_DEBUG[key] = version;\n",
       "            return resolve(paths[lib]);\n",
       "          };\n",
       "          s.onerror = () => reject(`Error loading script: ${paths[lib]}`);\n",
       "          s.src = paths[lib];\n",
       "        });\n",
       "    }\n",
       "\n",
       "    function showError(err) {\n",
       "      outputDiv.innerHTML = `<div class=\"error\" style=\"color:red;\">${err}</div>`;\n",
       "      throw err;\n",
       "    }\n",
       "\n",
       "    function displayChart(vegaEmbed) {\n",
       "      vegaEmbed(outputDiv, spec, embedOpt)\n",
       "        .catch(err => showError(`Javascript Error: ${err.message}<br>This usually means there's a typo in your chart specification. See the javascript console for the full traceback.`));\n",
       "    }\n",
       "\n",
       "    if(typeof define === \"function\" && define.amd) {\n",
       "      requirejs.config({paths});\n",
       "      require([\"vega-embed\"], displayChart, err => showError(`Error loading script: ${err.message}`));\n",
       "    } else {\n",
       "      maybeLoadScript(\"vega\", \"5\")\n",
       "        .then(() => maybeLoadScript(\"vega-lite\", \"4.17.0\"))\n",
       "        .then(() => maybeLoadScript(\"vega-embed\", \"6\"))\n",
       "        .catch(showError)\n",
       "        .then(() => displayChart(vegaEmbed));\n",
       "    }\n",
       "  })({\"config\": {\"view\": {\"continuousWidth\": 400, \"continuousHeight\": 300}}, \"layer\": [{\"layer\": [{\"mark\": {\"type\": \"line\", \"stroke\": \"#57A44C\"}, \"encoding\": {\"x\": {\"field\": \"Component\", \"type\": \"quantitative\"}, \"y\": {\"axis\": {\"titleColor\": \"#57A44C\"}, \"field\": \"Proportion of variance explained\", \"type\": \"quantitative\"}}}, {\"mark\": {\"type\": \"point\", \"color\": \"#57A44C\"}, \"encoding\": {\"x\": {\"field\": \"Component\", \"type\": \"quantitative\"}, \"y\": {\"axis\": {\"titleColor\": \"#57A44C\"}, \"field\": \"Proportion of variance explained\", \"type\": \"quantitative\"}}}]}, {\"layer\": [{\"mark\": \"line\", \"encoding\": {\"x\": {\"field\": \"Component\", \"type\": \"quantitative\"}, \"y\": {\"axis\": {\"titleColor\": \"#5276A7\"}, \"field\": \"Cumulative variance explained\", \"type\": \"quantitative\"}}}, {\"mark\": \"point\", \"encoding\": {\"x\": {\"field\": \"Component\", \"type\": \"quantitative\"}, \"y\": {\"axis\": {\"titleColor\": \"#5276A7\"}, \"field\": \"Cumulative variance explained\", \"type\": \"quantitative\"}}}]}], \"data\": {\"name\": \"data-f49a25cfc1e65aeb14e5ccb375a032bc\"}, \"resolve\": {\"scale\": {\"y\": \"independent\"}}, \"$schema\": \"https://vega.github.io/schema/vega-lite/v4.17.0.json\", \"datasets\": {\"data-f49a25cfc1e65aeb14e5ccb375a032bc\": [{\"Proportion of variance explained\": 0.2555128666490458, \"Component\": 1, \"Cumulative variance explained\": 0.2555128666490458}, {\"Proportion of variance explained\": 0.2233538585983764, \"Component\": 2, \"Cumulative variance explained\": 0.47886672524742224}, {\"Proportion of variance explained\": 0.13214482809098474, \"Component\": 3, \"Cumulative variance explained\": 0.611011553338407}, {\"Proportion of variance explained\": 0.12254865210172854, \"Component\": 4, \"Cumulative variance explained\": 0.7335602054401354}, {\"Proportion of variance explained\": 0.11083337768890712, \"Component\": 5, \"Cumulative variance explained\": 0.8443935831290426}, {\"Proportion of variance explained\": 0.07798798130438565, \"Component\": 6, \"Cumulative variance explained\": 0.9223815644334282}, {\"Proportion of variance explained\": 0.06730261682388844, \"Component\": 7, \"Cumulative variance explained\": 0.9896841812573167}, {\"Proportion of variance explained\": 0.010315818742683364, \"Component\": 8, \"Cumulative variance explained\": 1.0}]}}, {\"mode\": \"vega-lite\"});\n",
       "</script>"
      ],
      "text/plain": [
       "alt.LayerChart(...)"
      ]
     },
     "execution_count": 43,
     "metadata": {},
     "output_type": "execute_result"
    }
   ],
   "source": [
    "## (iv) plot variance explained\n",
    "\n",
    "# encode component axis only as base layer\n",
    "base = alt.Chart(pcvars).encode(x = 'Component') # SOLUTION\n",
    "\n",
    "# make a base layer for the proportion of variance explained\n",
    "# BEGIN SOLUTION\n",
    "prop_var_base = base.encode(\n",
    "    y = alt.Y('Proportion of variance explained',\n",
    "              axis = alt.Axis(titleColor = '#57A44C'))\n",
    ")\n",
    "# END SOLUTION\n",
    "\n",
    "# make a base layer for the cumulative variance explained\n",
    "# BEGIN SOLUTION\n",
    "cum_var_base = base.encode(\n",
    "    y = alt.Y('Cumulative variance explained', axis = alt.Axis(titleColor = '#5276A7'))\n",
    ")\n",
    "# END SOLUTION\n",
    "\n",
    "# add points and lines to each base layer\n",
    "# BEGIN SOLUTION\n",
    "prop_var = prop_var_base.mark_line(stroke = '#57A44C') + prop_var_base.mark_point(color = '#57A44C')\n",
    "cum_var = cum_var_base.mark_line() + cum_var_base.mark_point()\n",
    "# END SOLUTION\n",
    "\n",
    "# layer the layers\n",
    "fig6 = alt.layer(prop_var, cum_var).resolve_scale(y = 'independent') # SOLUTION\n",
    "\n",
    "# display\n",
    "fig6"
   ]
  },
  {
   "attachments": {},
   "cell_type": "markdown",
   "metadata": {
    "tags": [
     "otter_assign_solution_cell"
    ]
   },
   "source": [
    "**SOLUTION**\n",
    "Two is a reasonable choice. The first two PC's capture over 20% of covariation each; after that, the remaining PC's capture relatively much less (8-12% each). The first two PCs together explain roughly half of the total variation in relative abundances. (Three is also a reasonable choice; three components would capture over 70% of total variation in relative abundances.)"
   ]
  },
  {
   "cell_type": "code",
   "execution_count": null,
   "metadata": {
    "deletable": false,
    "editable": false
   },
   "outputs": [],
   "source": [
    "grader.check(\"q10\")"
   ]
  },
  {
   "attachments": {},
   "cell_type": "markdown",
   "metadata": {},
   "source": [
    "Now that you've performed the calculations for PCA, you can move on to the fun/difficult part: figuring out what they say about the data.\n",
    "\n",
    "The first step in this process is to examine the loadings. Each principal component is a linear combination of the relative abundances by taxon, and the loadings tell you *how* that combination is formed; the loadings are the linear combination coefficients, and thus correspond to the weight of each taxon in the corresponding principal component. Some useful points to keep in mind:\n",
    "* a high loading value (negative or positive) indicates that a variable strongly influences the principal component;\n",
    "* a negative loading value indicates that\n",
    "    + increases in the value of a variable *decrease* the value of the principal component \n",
    "    + and decreases in the value of a variable *increase* the value of the principal component;\n",
    "* a positive loading value indicates that \n",
    "    + increases in the value of a variable *increase* the value of the principal component\n",
    "    + and decreases in the value of a variable *decrease* the value of the principal component;\n",
    "* similar loadings between two or more variables indicate that the principal component reflects their *average*;\n",
    "* divergent loadings between two sets of variables indicates that the principal component reflects their *difference*."
   ]
  },
  {
   "attachments": {},
   "cell_type": "markdown",
   "metadata": {},
   "source": [
    "### Question 11: Interpreting component loadings\n",
    "\n",
    "**(i) Extract the loadings from `pca`.**\n",
    "\n",
    "Store the loadings for the first two principal components (called `.components_` in the PCA output) in a dataframe named `loading_df`. Name the columns `PC1` and `PC2`, and append a column `Taxon` with the corresponding variable names, and print the resulting dataframe.\n",
    "\n",
    "**(ii) Construct loading plots**\n",
    "\n",
    "Construct a line-and-point plot connecting the loadings of the first two principal components. Display the value of the loading on the y axis and the taxa names on the x axis, and show points indicating the loading values. Distinguish the PC's by color, and add lines connecting the loading values for each principal component. Store the result as `fig7` and display the figure -- you may need to resize for better readability.\n",
    "\n",
    "*Hint*: you will need to first melt `loading_df` to long form with three columns -- the taxon name, the principal component (1 or 2), and the value of the loading.\n",
    "\n",
    "**(iii) Interpret the first principal component.**\n",
    "\n",
    "In a few sentences, answer the following questions.\n",
    "1. Which taxa are up-weighted and which are down-weighted in this component?\n",
    "2. How would you describe the principal component in context (*e.g.*, average abundance among a group, differences in abundances, etc.)?\n",
    "3. How would you interpret a larger value of the PC versus a smaller value of the PC in terms of diatom communnity composition?\n",
    "\n",
    "**(iv) Interpret the second principal component.**\n",
    "\n",
    "Answer the same questions for component 2."
   ]
  },
  {
   "cell_type": "markdown",
   "metadata": {},
   "source": [
    "_Type your answer here, replacing this text._"
   ]
  },
  {
   "cell_type": "code",
   "execution_count": 52,
   "metadata": {
    "tags": [
     "otter_assign_solution_cell"
    ]
   },
   "outputs": [],
   "source": [
    "## (i) retrieve loadings\n",
    "# store the loadings as a data frame with appropriate names\n",
    "loading_df = pd.DataFrame(pca.components_).transpose().rename(columns = {0: 'PC1', 1: 'PC2'}).loc[:, ['PC1', 'PC2']] # SOLUTION\n",
    "\n",
    "# add a column with the taxon names\n",
    "loading_df['Taxon'] = pcdata.columns.values # SOLUTION"
   ]
  },
  {
   "cell_type": "code",
   "execution_count": 53,
   "metadata": {
    "tags": [
     "otter_assign_solution_cell"
    ]
   },
   "outputs": [
    {
     "data": {
      "text/html": [
       "\n",
       "<div id=\"altair-viz-1585b72e10e74c979e14cf7284b27961\"></div>\n",
       "<script type=\"text/javascript\">\n",
       "  var VEGA_DEBUG = (typeof VEGA_DEBUG == \"undefined\") ? {} : VEGA_DEBUG;\n",
       "  (function(spec, embedOpt){\n",
       "    let outputDiv = document.currentScript.previousElementSibling;\n",
       "    if (outputDiv.id !== \"altair-viz-1585b72e10e74c979e14cf7284b27961\") {\n",
       "      outputDiv = document.getElementById(\"altair-viz-1585b72e10e74c979e14cf7284b27961\");\n",
       "    }\n",
       "    const paths = {\n",
       "      \"vega\": \"https://cdn.jsdelivr.net/npm//vega@5?noext\",\n",
       "      \"vega-lib\": \"https://cdn.jsdelivr.net/npm//vega-lib?noext\",\n",
       "      \"vega-lite\": \"https://cdn.jsdelivr.net/npm//vega-lite@4.17.0?noext\",\n",
       "      \"vega-embed\": \"https://cdn.jsdelivr.net/npm//vega-embed@6?noext\",\n",
       "    };\n",
       "\n",
       "    function maybeLoadScript(lib, version) {\n",
       "      var key = `${lib.replace(\"-\", \"\")}_version`;\n",
       "      return (VEGA_DEBUG[key] == version) ?\n",
       "        Promise.resolve(paths[lib]) :\n",
       "        new Promise(function(resolve, reject) {\n",
       "          var s = document.createElement('script');\n",
       "          document.getElementsByTagName(\"head\")[0].appendChild(s);\n",
       "          s.async = true;\n",
       "          s.onload = () => {\n",
       "            VEGA_DEBUG[key] = version;\n",
       "            return resolve(paths[lib]);\n",
       "          };\n",
       "          s.onerror = () => reject(`Error loading script: ${paths[lib]}`);\n",
       "          s.src = paths[lib];\n",
       "        });\n",
       "    }\n",
       "\n",
       "    function showError(err) {\n",
       "      outputDiv.innerHTML = `<div class=\"error\" style=\"color:red;\">${err}</div>`;\n",
       "      throw err;\n",
       "    }\n",
       "\n",
       "    function displayChart(vegaEmbed) {\n",
       "      vegaEmbed(outputDiv, spec, embedOpt)\n",
       "        .catch(err => showError(`Javascript Error: ${err.message}<br>This usually means there's a typo in your chart specification. See the javascript console for the full traceback.`));\n",
       "    }\n",
       "\n",
       "    if(typeof define === \"function\" && define.amd) {\n",
       "      requirejs.config({paths});\n",
       "      require([\"vega-embed\"], displayChart, err => showError(`Error loading script: ${err.message}`));\n",
       "    } else {\n",
       "      maybeLoadScript(\"vega\", \"5\")\n",
       "        .then(() => maybeLoadScript(\"vega-lite\", \"4.17.0\"))\n",
       "        .then(() => maybeLoadScript(\"vega-embed\", \"6\"))\n",
       "        .catch(showError)\n",
       "        .then(() => displayChart(vegaEmbed));\n",
       "    }\n",
       "  })({\"config\": {\"view\": {\"continuousWidth\": 400, \"continuousHeight\": 300}}, \"layer\": [{\"mark\": \"point\", \"encoding\": {\"color\": {\"field\": \"PC\", \"type\": \"nominal\"}, \"x\": {\"field\": \"Taxon\", \"type\": \"nominal\"}, \"y\": {\"field\": \"Loading\", \"type\": \"quantitative\"}}}, {\"mark\": \"line\", \"encoding\": {\"color\": {\"field\": \"PC\", \"type\": \"nominal\"}, \"x\": {\"field\": \"Taxon\", \"type\": \"nominal\"}, \"y\": {\"field\": \"Loading\", \"type\": \"quantitative\"}}}, {\"data\": {\"name\": \"data-9d49ac6f4eb17edf294d313c00d511b2\"}, \"mark\": \"rule\", \"encoding\": {\"size\": {\"value\": 2}, \"y\": {\"field\": \"Loading\", \"type\": \"quantitative\"}}}], \"data\": {\"name\": \"data-94d65b3a7e37d7fe11b6e87a69231c53\"}, \"height\": 150, \"width\": 400, \"$schema\": \"https://vega.github.io/schema/vega-lite/v4.17.0.json\", \"datasets\": {\"data-94d65b3a7e37d7fe11b6e87a69231c53\": [{\"Taxon\": \"A_curv\", \"PC\": \"PC1\", \"Loading\": -0.52137754489142}, {\"Taxon\": \"A_octon\", \"PC\": \"PC1\", \"Loading\": -0.19451988542116824}, {\"Taxon\": \"ActinSpp\", \"PC\": \"PC1\", \"Loading\": -0.373814557140438}, {\"Taxon\": \"A_nodul\", \"PC\": \"PC1\", \"Loading\": 0.6115630260808562}, {\"Taxon\": \"CoscinSpp\", \"PC\": \"PC1\", \"Loading\": -0.04119871652977915}, {\"Taxon\": \"CyclotSpp\", \"PC\": \"PC1\", \"Loading\": -0.34572600531760966}, {\"Taxon\": \"Rop_tess\", \"PC\": \"PC1\", \"Loading\": -0.11678603992578855}, {\"Taxon\": \"StephanSpp\", \"PC\": \"PC1\", \"Loading\": -0.20424991491144906}, {\"Taxon\": \"A_curv\", \"PC\": \"PC2\", \"Loading\": -0.15787989052091447}, {\"Taxon\": \"A_octon\", \"PC\": \"PC2\", \"Loading\": 0.0016385373844333161}, {\"Taxon\": \"ActinSpp\", \"PC\": \"PC2\", \"Loading\": -0.47714427309195223}, {\"Taxon\": \"A_nodul\", \"PC\": \"PC2\", \"Loading\": -0.1815027240405293}, {\"Taxon\": \"CoscinSpp\", \"PC\": \"PC2\", \"Loading\": -0.5484274789558757}, {\"Taxon\": \"CyclotSpp\", \"PC\": \"PC2\", \"Loading\": 0.2853297361181303}, {\"Taxon\": \"Rop_tess\", \"PC\": \"PC2\", \"Loading\": 0.5756648017779324}, {\"Taxon\": \"StephanSpp\", \"PC\": \"PC2\", \"Loading\": 0.029759657131725174}], \"data-9d49ac6f4eb17edf294d313c00d511b2\": [{\"Loading\": 0}]}}, {\"mode\": \"vega-lite\"});\n",
       "</script>"
      ],
      "text/plain": [
       "alt.LayerChart(...)"
      ]
     },
     "execution_count": 53,
     "metadata": {},
     "output_type": "execute_result"
    }
   ],
   "source": [
    "## (ii) construct loading plots\n",
    "# melt from wide to long\n",
    "loading_plot_df = loading_df.melt(\n",
    "    id_vars = 'Taxon', # SOLUTION\n",
    "    var_name = 'PC', # SOLUTION\n",
    "    value_name = 'Loading' # SOLUTION\n",
    ")\n",
    "\n",
    "# create base layer with encoding\n",
    "base = alt.Chart(loading_plot_df).encode(\n",
    "    x = 'Taxon', # SOLUTION\n",
    "    y = 'Loading', # SOLUTION\n",
    "    color = 'PC' # SOLUTION\n",
    ")\n",
    "\n",
    "# store horizontal line at zero\n",
    "rule = alt.Chart(pd.DataFrame({'Loading': 0}, index = [0])).mark_rule().encode(y = 'Loading', size = alt.value(2)) # SOLUTION\n",
    "\n",
    "# layer points + lines + rule to construct loading plot\n",
    "fig7 = base.mark_point() + base.mark_line() + rule # SOLUTION\n",
    "\n",
    "# show\n",
    "fig7.properties(width = 400, height = 150) # SOLUTION"
   ]
  },
  {
   "attachments": {},
   "cell_type": "markdown",
   "metadata": {
    "tags": [
     "otter_assign_solution_cell"
    ]
   },
   "source": [
    "**SOLUTION**\n",
    "\n",
    "For PC1, the loading is large and positive for *A. nodulifer*, and all other loadings are negative in varying magnitude. So this component is heavily up-weighted by high abundance of *A. nodulifer* and downweighted by high abunances of other taxa. In effect, it reflects the difference in relative abundance between *A. nodulifer* and a weighted average of all other taxa; when the PC is positive, *A. nodulifer* are more abundant than other taxa, and when the PC is negative, *A. nodulifer* is less abundant than other taxa.\n",
    "\n",
    "For PC2, the loading is large and positive for two taxa, *Cyclotella* and *R. tesselata*, and large and negative for two taxa, *Coscinodiscus* and *Actinoptychus*; all other loadings are negligibly small. So this component is heavily up-weighted by a high average abundance of the first two and down-weighted by a high average abundance of the second two. In effect, it reflects the difference in average relative abundance between two groups of taxa; when the PC is positive, the first group are more abundant than other taxa, and when the PC is negative, the second group is more abundant than other taxa."
   ]
  },
  {
   "cell_type": "code",
   "execution_count": null,
   "metadata": {
    "deletable": false,
    "editable": false
   },
   "outputs": [],
   "source": [
    "grader.check(\"q11\")"
   ]
  },
  {
   "attachments": {},
   "cell_type": "markdown",
   "metadata": {},
   "source": [
    "Recall that there was a shift in climate around 11,000 years ago, and *A. nodulifer* abundances seemed to differ before and after the shift. \n",
    "\n",
    "You can now use PCA to investigate whether not just individual abundances but *community composition* may have shifted around that time. To that end, let's think of the principal components as 'community composition indices':\n",
    "* consider PC1 a nodulifer/non-nodulifer community composition index; and \n",
    "* consider PC2 a complex community composition index. \n",
    "\n",
    "A pattern of variation or covariation in the principal components can be thought of as reflecting a particular ecological community composition dynamic -- a way that community composition varies throughout time. Here you'll look for distinct patterns of variation/covariation before and after 11,000 years ago via an exploratory plot of the principal components."
   ]
  },
  {
   "attachments": {},
   "cell_type": "markdown",
   "metadata": {},
   "source": [
    "### Question 12: Visualizing community composition shift\n",
    "\n",
    "**(i) Project the centered and scaled data onto the first two component directions.**\n",
    "\n",
    "This sounds a little more complicated than it is -- all that means is compute the values of the principal components for each data point. Create a dataframe called `projected_data` containing just the first two principal components as two columns named `PC1` and `PC2`, and two additional columns with the Age and Depth variables. \n",
    "\n",
    "**(ii) Construct a scatterplot of PC1 and PC2 by epoch.**\n",
    "\n",
    "Construct a scatterplot of the principal components with observations colored according to whether they occurred in the Pleistocene or Holocene epoch. Store the result as `fig8` and display the figure.\n",
    "\n",
    "**(iii) Comment on the plot: does there appear to be any change in community structure?**\n",
    "\n",
    "Answer in a few sentences."
   ]
  },
  {
   "cell_type": "markdown",
   "metadata": {},
   "source": [
    "_Type your answer here, replacing this text._"
   ]
  },
  {
   "cell_type": "code",
   "execution_count": 59,
   "metadata": {
    "tags": [
     "otter_assign_solution_cell"
    ]
   },
   "outputs": [],
   "source": [
    "## (i) project pcdata onto first two components; store as data frame\n",
    "\n",
    "# retrieve principal component scores for pc1 and pc2\n",
    "projected_data = pd.DataFrame(pca.fit_transform(pcdata)).iloc[:, 0:2].rename(columns = {0: 'PC1', 1: 'PC2'}) # SOLUTION\n",
    "\n",
    "# adjust index\n",
    "projected_data.index = pcdata.index # SOLUTION\n",
    "projected_data = projected_data.reset_index() # SOLUTION"
   ]
  },
  {
   "cell_type": "code",
   "execution_count": 60,
   "metadata": {
    "tags": [
     "otter_assign_solution_cell"
    ]
   },
   "outputs": [
    {
     "data": {
      "text/html": [
       "\n",
       "<div id=\"altair-viz-4a66888ef0034c7f8b9c79050399ce4f\"></div>\n",
       "<script type=\"text/javascript\">\n",
       "  var VEGA_DEBUG = (typeof VEGA_DEBUG == \"undefined\") ? {} : VEGA_DEBUG;\n",
       "  (function(spec, embedOpt){\n",
       "    let outputDiv = document.currentScript.previousElementSibling;\n",
       "    if (outputDiv.id !== \"altair-viz-4a66888ef0034c7f8b9c79050399ce4f\") {\n",
       "      outputDiv = document.getElementById(\"altair-viz-4a66888ef0034c7f8b9c79050399ce4f\");\n",
       "    }\n",
       "    const paths = {\n",
       "      \"vega\": \"https://cdn.jsdelivr.net/npm//vega@5?noext\",\n",
       "      \"vega-lib\": \"https://cdn.jsdelivr.net/npm//vega-lib?noext\",\n",
       "      \"vega-lite\": \"https://cdn.jsdelivr.net/npm//vega-lite@4.17.0?noext\",\n",
       "      \"vega-embed\": \"https://cdn.jsdelivr.net/npm//vega-embed@6?noext\",\n",
       "    };\n",
       "\n",
       "    function maybeLoadScript(lib, version) {\n",
       "      var key = `${lib.replace(\"-\", \"\")}_version`;\n",
       "      return (VEGA_DEBUG[key] == version) ?\n",
       "        Promise.resolve(paths[lib]) :\n",
       "        new Promise(function(resolve, reject) {\n",
       "          var s = document.createElement('script');\n",
       "          document.getElementsByTagName(\"head\")[0].appendChild(s);\n",
       "          s.async = true;\n",
       "          s.onload = () => {\n",
       "            VEGA_DEBUG[key] = version;\n",
       "            return resolve(paths[lib]);\n",
       "          };\n",
       "          s.onerror = () => reject(`Error loading script: ${paths[lib]}`);\n",
       "          s.src = paths[lib];\n",
       "        });\n",
       "    }\n",
       "\n",
       "    function showError(err) {\n",
       "      outputDiv.innerHTML = `<div class=\"error\" style=\"color:red;\">${err}</div>`;\n",
       "      throw err;\n",
       "    }\n",
       "\n",
       "    function displayChart(vegaEmbed) {\n",
       "      vegaEmbed(outputDiv, spec, embedOpt)\n",
       "        .catch(err => showError(`Javascript Error: ${err.message}<br>This usually means there's a typo in your chart specification. See the javascript console for the full traceback.`));\n",
       "    }\n",
       "\n",
       "    if(typeof define === \"function\" && define.amd) {\n",
       "      requirejs.config({paths});\n",
       "      require([\"vega-embed\"], displayChart, err => showError(`Error loading script: ${err.message}`));\n",
       "    } else {\n",
       "      maybeLoadScript(\"vega\", \"5\")\n",
       "        .then(() => maybeLoadScript(\"vega-lite\", \"4.17.0\"))\n",
       "        .then(() => maybeLoadScript(\"vega-embed\", \"6\"))\n",
       "        .catch(showError)\n",
       "        .then(() => displayChart(vegaEmbed));\n",
       "    }\n",
       "  })({\"config\": {\"view\": {\"continuousWidth\": 400, \"continuousHeight\": 300}}, \"data\": {\"name\": \"data-35c0fff8e92b5b1f5b0690ee3d672f2e\"}, \"mark\": \"point\", \"encoding\": {\"color\": {\"field\": \"holocene\", \"title\": \"Holocene\", \"type\": \"nominal\"}, \"x\": {\"field\": \"PC1\", \"title\": \"Nodulifer/non-nodulifer composition\", \"type\": \"quantitative\"}, \"y\": {\"field\": \"PC2\", \"title\": \"Complex community composition\", \"type\": \"quantitative\"}}, \"transform\": [{\"calculate\": \"datum.Age < 11\", \"as\": \"holocene\"}], \"$schema\": \"https://vega.github.io/schema/vega-lite/v4.17.0.json\", \"datasets\": {\"data-35c0fff8e92b5b1f5b0690ee3d672f2e\": [{\"Depth\": 0.0, \"Age\": 1.33, \"PC1\": -0.29452231960478814, \"PC2\": -0.633175810046139}, {\"Depth\": 0.05, \"Age\": 1.37, \"PC1\": -0.554701557071784, \"PC2\": -0.6188747287774228}, {\"Depth\": 0.1, \"Age\": 1.42, \"PC1\": -0.30774539275745694, \"PC2\": -2.0502358533304683}, {\"Depth\": 0.15, \"Age\": 1.46, \"PC1\": -1.7710664670390501, \"PC2\": 1.6372741540586415}, {\"Depth\": 0.2, \"Age\": 1.51, \"PC1\": -0.29280577872110547, \"PC2\": 0.25943037455617646}, {\"Depth\": 0.25, \"Age\": 1.55, \"PC1\": -0.22951054796954418, \"PC2\": 0.2650795302274221}, {\"Depth\": 0.3, \"Age\": 1.59, \"PC1\": -0.17868996036000873, \"PC2\": 1.969495826220095}, {\"Depth\": 0.35, \"Age\": 1.64, \"PC1\": -0.31574486457444834, \"PC2\": -1.011766546142131}, {\"Depth\": 0.4, \"Age\": 1.68, \"PC1\": -2.058715498956632, \"PC2\": -1.8363081314955532}, {\"Depth\": 0.45, \"Age\": 1.72, \"PC1\": -0.9107882783574445, \"PC2\": -1.2551807743864902}, {\"Depth\": 0.5, \"Age\": 1.77, \"PC1\": -0.5815080694072058, \"PC2\": 1.5668121615550523}, {\"Depth\": 0.55, \"Age\": 1.81, \"PC1\": -1.126687403495902, \"PC2\": 0.3093534320349245}, {\"Depth\": 0.6, \"Age\": 1.86, \"PC1\": -1.4136094000991255, \"PC2\": 0.0547654031390702}, {\"Depth\": 0.65, \"Age\": 1.9, \"PC1\": 0.17651335111113303, \"PC2\": 0.957973104085162}, {\"Depth\": 0.7, \"Age\": 1.94, \"PC1\": -1.5921831501633823, \"PC2\": -0.45145614508854826}, {\"Depth\": 0.75, \"Age\": 1.99, \"PC1\": -0.6955845010802693, \"PC2\": -1.618694990385836}, {\"Depth\": 0.8, \"Age\": 2.03, \"PC1\": -1.4012715638535513, \"PC2\": -1.1408054249471562}, {\"Depth\": 0.85, \"Age\": 2.08, \"PC1\": -2.3118467160723184, \"PC2\": 0.9630210472047545}, {\"Depth\": 0.9, \"Age\": 2.12, \"PC1\": -0.6701664537249995, \"PC2\": 0.1179702826332611}, {\"Depth\": 0.95, \"Age\": 2.16, \"PC1\": -2.3051344054116703, \"PC2\": 0.5991679517422543}, {\"Depth\": 1.0, \"Age\": 2.21, \"PC1\": -2.0798715542650412, \"PC2\": -0.5510408889074446}, {\"Depth\": 1.05, \"Age\": 2.25, \"PC1\": -1.6008420958264282, \"PC2\": 0.3231419488203198}, {\"Depth\": 1.1, \"Age\": 2.29, \"PC1\": -2.6834792862576524, \"PC2\": 1.571977711321387}, {\"Depth\": 1.15, \"Age\": 2.34, \"PC1\": -0.9463018173173262, \"PC2\": 0.03919870221904914}, {\"Depth\": 1.2, \"Age\": 2.38, \"PC1\": 0.4976969447845695, \"PC2\": 1.7505992545474784}, {\"Depth\": 1.25, \"Age\": 2.43, \"PC1\": -1.9479550002010773, \"PC2\": 0.47188097086670683}, {\"Depth\": 1.3, \"Age\": 2.47, \"PC1\": -0.5382172591771497, \"PC2\": 1.1179186050879448}, {\"Depth\": 1.35, \"Age\": 2.51, \"PC1\": -1.825027998371448, \"PC2\": 1.3072303284315077}, {\"Depth\": 1.4, \"Age\": 2.56, \"PC1\": -1.841457822737503, \"PC2\": 1.2997171613602714}, {\"Depth\": 1.49, \"Age\": 2.64, \"PC1\": -0.910967803698702, \"PC2\": -1.068057215855893}, {\"Depth\": 1.5, \"Age\": 2.65, \"PC1\": -0.6913942906795845, \"PC2\": 0.5551512174846942}, {\"Depth\": 1.55, \"Age\": 2.69, \"PC1\": -0.91752048594145, \"PC2\": 1.9610600500808006}, {\"Depth\": 1.6, \"Age\": 2.73, \"PC1\": -1.4143217338225609, \"PC2\": -0.6186513637457512}, {\"Depth\": 1.65, \"Age\": 2.78, \"PC1\": -1.2425786554614353, \"PC2\": 0.09143702235285335}, {\"Depth\": 1.7, \"Age\": 2.82, \"PC1\": -1.8512591836665042, \"PC2\": -0.5312005135220201}, {\"Depth\": 1.75, \"Age\": 2.87, \"PC1\": -2.360370223585121, \"PC2\": -0.17069958517997516}, {\"Depth\": 1.8, \"Age\": 2.91, \"PC1\": -1.2394197395941378, \"PC2\": -0.8165599639934676}, {\"Depth\": 1.85, \"Age\": 2.95, \"PC1\": -0.8827179850834399, \"PC2\": -0.8414674502599631}, {\"Depth\": 1.9, \"Age\": 3.0, \"PC1\": -1.0878313299685762, \"PC2\": 2.3375465626166445}, {\"Depth\": 1.95, \"Age\": 3.04, \"PC1\": -1.8890381356773505, \"PC2\": -0.2838039688733787}, {\"Depth\": 2.0, \"Age\": 3.08, \"PC1\": -1.3617183350383084, \"PC2\": 2.0103110008936222}, {\"Depth\": 2.05, \"Age\": 3.13, \"PC1\": -1.379957334609473, \"PC2\": 0.07528943882534811}, {\"Depth\": 2.1, \"Age\": 3.17, \"PC1\": -1.5446451117098385, \"PC2\": 0.0025736508906864883}, {\"Depth\": 2.15, \"Age\": 3.22, \"PC1\": -0.3507472666364964, \"PC2\": 0.8869935281172677}, {\"Depth\": 2.2, \"Age\": 3.26, \"PC1\": -0.554457752195936, \"PC2\": -0.8371115987584382}, {\"Depth\": 2.25, \"Age\": 3.3, \"PC1\": -1.3250254341476606, \"PC2\": -0.533999271447237}, {\"Depth\": 2.3, \"Age\": 3.35, \"PC1\": -0.5508080948514754, \"PC2\": -0.580190602445555}, {\"Depth\": 2.35, \"Age\": 3.39, \"PC1\": -0.4802491787207459, \"PC2\": 1.1166082623789824}, {\"Depth\": 2.4, \"Age\": 3.44, \"PC1\": -1.6531092150364048, \"PC2\": -0.3912761398496724}, {\"Depth\": 2.45, \"Age\": 3.48, \"PC1\": -1.7507105665855471, \"PC2\": -0.7759144099665761}, {\"Depth\": 2.5, \"Age\": 3.52, \"PC1\": -1.4043484025241864, \"PC2\": -0.5903283227659741}, {\"Depth\": 2.55, \"Age\": 3.57, \"PC1\": -1.1055773069642174, \"PC2\": -1.2283162769710325}, {\"Depth\": 2.59, \"Age\": 3.6, \"PC1\": -1.0363072181913453, \"PC2\": -1.1643173079892641}, {\"Depth\": 2.65, \"Age\": 3.65, \"PC1\": -1.1389478492354304, \"PC2\": 0.013058153799305312}, {\"Depth\": 2.7, \"Age\": 3.7, \"PC1\": -1.0576821897070892, \"PC2\": 0.11614544871169574}, {\"Depth\": 2.75, \"Age\": 3.74, \"PC1\": -1.2619390834614999, \"PC2\": 0.3306741913157195}, {\"Depth\": 2.8, \"Age\": 3.79, \"PC1\": -0.6940052421082866, \"PC2\": 0.8956520824849173}, {\"Depth\": 2.85, \"Age\": 3.83, \"PC1\": -0.26587529162055906, \"PC2\": 0.21381499071694537}, {\"Depth\": 2.9, \"Age\": 3.87, \"PC1\": -0.9693466816673241, \"PC2\": -0.2914392704549076}, {\"Depth\": 2.95, \"Age\": 3.92, \"PC1\": -0.2737387745148446, \"PC2\": 0.688151862140016}, {\"Depth\": 3.0, \"Age\": 3.96, \"PC1\": 0.1494234464832572, \"PC2\": 1.4804244101150634}, {\"Depth\": 3.0, \"Age\": 3.96, \"PC1\": -0.8651833109610849, \"PC2\": 2.8001097658600944}, {\"Depth\": 3.05, \"Age\": 4.01, \"PC1\": -0.12424432720036689, \"PC2\": 1.085910179239972}, {\"Depth\": 3.1, \"Age\": 4.05, \"PC1\": -0.2216719304636296, \"PC2\": 0.19001674791522893}, {\"Depth\": 3.2, \"Age\": 4.14, \"PC1\": 0.1637670315388102, \"PC2\": 1.850959975351752}, {\"Depth\": 3.25, \"Age\": 4.18, \"PC1\": 0.0353095927175836, \"PC2\": 0.6867420057544674}, {\"Depth\": 3.3, \"Age\": 4.22, \"PC1\": -0.0699954711498572, \"PC2\": -0.03688503744350716}, {\"Depth\": 3.35, \"Age\": 4.27, \"PC1\": 0.954804272975526, \"PC2\": 0.8151577581513256}, {\"Depth\": 3.4, \"Age\": 4.31, \"PC1\": -0.021303471279940426, \"PC2\": 0.33827796511941133}, {\"Depth\": 3.45, \"Age\": 4.36, \"PC1\": 0.3270259074893681, \"PC2\": 3.930100943251642}, {\"Depth\": 3.5, \"Age\": 4.4, \"PC1\": -0.054816819682169705, \"PC2\": 0.851735273678982}, {\"Depth\": 3.55, \"Age\": 4.44, \"PC1\": 0.29576408826165923, \"PC2\": 3.3563638904360342}, {\"Depth\": 3.6, \"Age\": 4.49, \"PC1\": 1.1803365007152171, \"PC2\": 1.0144631323481597}, {\"Depth\": 3.65, \"Age\": 4.53, \"PC1\": -0.6326656553408866, \"PC2\": 0.13870050678536788}, {\"Depth\": 3.7, \"Age\": 4.58, \"PC1\": 0.2604534094374758, \"PC2\": -0.21605083896033137}, {\"Depth\": 3.75, \"Age\": 4.62, \"PC1\": -0.2580988437446043, \"PC2\": 0.11106936401719956}, {\"Depth\": 4.75, \"Age\": 5.5, \"PC1\": -0.49253543341831457, \"PC2\": -1.212673050206014}, {\"Depth\": 4.8, \"Age\": 5.54, \"PC1\": -0.06941772401480234, \"PC2\": -0.36933936511192095}, {\"Depth\": 4.85, \"Age\": 5.58, \"PC1\": -0.42454112432129965, \"PC2\": -0.18191969999471777}, {\"Depth\": 4.9, \"Age\": 5.63, \"PC1\": -0.8248246097243245, \"PC2\": 0.16043391503578336}, {\"Depth\": 4.95, \"Age\": 5.67, \"PC1\": -1.061664800725988, \"PC2\": 0.66463085927424}, {\"Depth\": 5.0, \"Age\": 5.72, \"PC1\": -0.8319777583653091, \"PC2\": 1.114847425569177}, {\"Depth\": 5.05, \"Age\": 5.76, \"PC1\": -0.7420373396010916, \"PC2\": 2.5410654878897665}, {\"Depth\": 5.1, \"Age\": 5.8, \"PC1\": -0.6662878048951371, \"PC2\": 1.604922091384265}, {\"Depth\": 5.15, \"Age\": 5.85, \"PC1\": -0.38501115801956015, \"PC2\": 0.9386781233166108}, {\"Depth\": 5.2, \"Age\": 5.89, \"PC1\": -0.12396450606266987, \"PC2\": 0.294023551263738}, {\"Depth\": 5.25, \"Age\": 5.94, \"PC1\": -0.9706199667989973, \"PC2\": -0.5098349347075934}, {\"Depth\": 5.3, \"Age\": 5.98, \"PC1\": 0.26868551822825776, \"PC2\": 4.893758534046299}, {\"Depth\": 5.35, \"Age\": 6.02, \"PC1\": -0.42660945823746976, \"PC2\": 1.3118162330070586}, {\"Depth\": 5.4, \"Age\": 6.07, \"PC1\": 0.35346680127657076, \"PC2\": 2.5759399414376896}, {\"Depth\": 5.45, \"Age\": 6.11, \"PC1\": -0.8220355910974388, \"PC2\": -0.7839710948652769}, {\"Depth\": 5.5, \"Age\": 6.15, \"PC1\": 0.6364777750313332, \"PC2\": 1.767825437562148}, {\"Depth\": 5.55, \"Age\": 6.2, \"PC1\": 0.8997348365453713, \"PC2\": 1.5653808170284473}, {\"Depth\": 5.6, \"Age\": 6.24, \"PC1\": -0.9001202190867946, \"PC2\": 0.6571933360755192}, {\"Depth\": 5.65, \"Age\": 6.29, \"PC1\": -0.7018443537948026, \"PC2\": 1.5909449349859996}, {\"Depth\": 5.7, \"Age\": 6.33, \"PC1\": 0.7906932391535356, \"PC2\": 3.0832239656760088}, {\"Depth\": 5.75, \"Age\": 6.37, \"PC1\": -0.5210107185930019, \"PC2\": 1.0313052039569834}, {\"Depth\": 5.8, \"Age\": 6.42, \"PC1\": -1.1771051425521262, \"PC2\": 1.3774965971569646}, {\"Depth\": 5.85, \"Age\": 6.46, \"PC1\": -1.616900697770763, \"PC2\": 0.05313747629886233}, {\"Depth\": 5.9, \"Age\": 6.51, \"PC1\": -0.3509263696621487, \"PC2\": 2.312837836383749}, {\"Depth\": 5.95, \"Age\": 6.55, \"PC1\": -1.1301980339344195, \"PC2\": -0.3376830055440328}, {\"Depth\": 6.0, \"Age\": 6.59, \"PC1\": -1.6753848951098094, \"PC2\": 0.4417319834436164}, {\"Depth\": 6.05, \"Age\": 6.64, \"PC1\": 0.08314441733232374, \"PC2\": -0.40809043677943185}, {\"Depth\": 6.1, \"Age\": 6.68, \"PC1\": -0.9089832079017784, \"PC2\": -1.2606450665678777}, {\"Depth\": 6.15, \"Age\": 6.72, \"PC1\": 0.011356808710165209, \"PC2\": 0.6750715231835269}, {\"Depth\": 6.2, \"Age\": 6.77, \"PC1\": -0.7247790864848331, \"PC2\": -0.7260457917132979}, {\"Depth\": 6.25, \"Age\": 6.81, \"PC1\": 0.18356963906629256, \"PC2\": 0.39178735515962}, {\"Depth\": 6.3, \"Age\": 6.86, \"PC1\": -0.6352436669644914, \"PC2\": 2.6551784943677887}, {\"Depth\": 6.35, \"Age\": 6.9, \"PC1\": -0.6725193748705385, \"PC2\": -1.985416096944953}, {\"Depth\": 6.4, \"Age\": 6.94, \"PC1\": 1.0170001409509124, \"PC2\": 4.98612574827766}, {\"Depth\": 6.45, \"Age\": 6.99, \"PC1\": -0.9984016850860156, \"PC2\": -1.0042695890479911}, {\"Depth\": 6.5, \"Age\": 7.03, \"PC1\": 0.24205221626619686, \"PC2\": 1.380292414735123}, {\"Depth\": 6.55, \"Age\": 7.08, \"PC1\": 0.30643480288276775, \"PC2\": -1.0218194752437448}, {\"Depth\": 6.6, \"Age\": 7.12, \"PC1\": -0.5788917532992567, \"PC2\": 0.1413976878852896}, {\"Depth\": 6.65, \"Age\": 7.16, \"PC1\": -0.2520080231202501, \"PC2\": 0.05083805164000811}, {\"Depth\": 6.7, \"Age\": 7.21, \"PC1\": -0.22146672485596935, \"PC2\": 0.029654551891052275}, {\"Depth\": 6.75, \"Age\": 7.25, \"PC1\": -0.9401163469087032, \"PC2\": 0.27180326689596535}, {\"Depth\": 6.8, \"Age\": 7.29, \"PC1\": 0.6103046984309223, \"PC2\": 3.1155163688992555}, {\"Depth\": 6.85, \"Age\": 7.34, \"PC1\": 0.6774871597745659, \"PC2\": 2.116628784342938}, {\"Depth\": 6.9, \"Age\": 7.38, \"PC1\": -0.4136090260917375, \"PC2\": 0.17801602613084722}, {\"Depth\": 6.95, \"Age\": 7.43, \"PC1\": -0.9397505729739006, \"PC2\": -1.3044282423044502}, {\"Depth\": 7.0, \"Age\": 7.47, \"PC1\": 0.3358950498143638, \"PC2\": 1.257265368223615}, {\"Depth\": 7.05, \"Age\": 7.51, \"PC1\": -0.5176929345937124, \"PC2\": -0.44457743749952977}, {\"Depth\": 7.1, \"Age\": 7.56, \"PC1\": -0.33612287569535804, \"PC2\": -0.1334296797311887}, {\"Depth\": 7.15, \"Age\": 7.6, \"PC1\": -1.252306375823347, \"PC2\": 1.1837900248946758}, {\"Depth\": 7.2, \"Age\": 7.65, \"PC1\": -0.06467724056083062, \"PC2\": 0.44942124172573206}, {\"Depth\": 7.25, \"Age\": 7.69, \"PC1\": -0.5950561157954578, \"PC2\": -1.029768795895597}, {\"Depth\": 7.3, \"Age\": 7.73, \"PC1\": 1.475933084535373, \"PC2\": 2.87033845727169}, {\"Depth\": 7.35, \"Age\": 7.78, \"PC1\": -0.24727041315674034, \"PC2\": -0.5129030765629651}, {\"Depth\": 7.4, \"Age\": 7.82, \"PC1\": -1.142065796432445, \"PC2\": -0.45995576191521964}, {\"Depth\": 7.45, \"Age\": 7.87, \"PC1\": 0.15731842896789003, \"PC2\": 2.7903487510619005}, {\"Depth\": 7.5, \"Age\": 7.91, \"PC1\": -0.016385519518244476, \"PC2\": 0.8709600669519719}, {\"Depth\": 7.55, \"Age\": 7.95, \"PC1\": -0.8726992155756145, \"PC2\": -0.7385042259461574}, {\"Depth\": 7.6, \"Age\": 8.0, \"PC1\": -1.0407153885099583, \"PC2\": 0.9194730827418383}, {\"Depth\": 7.65, \"Age\": 8.04, \"PC1\": 0.4623278783651547, \"PC2\": 4.342203166025601}, {\"Depth\": 7.7, \"Age\": 8.08, \"PC1\": -1.7541000246485683, \"PC2\": 0.6230828964648149}, {\"Depth\": 7.75, \"Age\": 8.13, \"PC1\": -0.7315441275474653, \"PC2\": 0.17600794517402701}, {\"Depth\": 7.8, \"Age\": 8.17, \"PC1\": -0.5030300478335424, \"PC2\": 1.886961710525016}, {\"Depth\": 8.3, \"Age\": 8.61, \"PC1\": 0.21224628539263893, \"PC2\": 1.0757981562200731}, {\"Depth\": 8.35, \"Age\": 8.65, \"PC1\": -0.7912508575318261, \"PC2\": -2.3669186030512113}, {\"Depth\": 8.4, \"Age\": 8.7, \"PC1\": -0.14254733027216196, \"PC2\": -0.9150710143328543}, {\"Depth\": 8.45, \"Age\": 8.74, \"PC1\": -1.5875329576468864, \"PC2\": -1.04507206058782}, {\"Depth\": 8.5, \"Age\": 8.79, \"PC1\": -0.3996710585550879, \"PC2\": 0.46600679822060365}, {\"Depth\": 8.55, \"Age\": 8.83, \"PC1\": -0.290319590875031, \"PC2\": -0.06689425702639754}, {\"Depth\": 8.6, \"Age\": 8.87, \"PC1\": -0.32823312263367255, \"PC2\": -1.6304749156274445}, {\"Depth\": 8.65, \"Age\": 8.92, \"PC1\": -0.44822015223498207, \"PC2\": 1.0844153678121378}, {\"Depth\": 8.7, \"Age\": 8.96, \"PC1\": -1.0771288253144295, \"PC2\": -1.977767423603044}, {\"Depth\": 9.5, \"Age\": 10.1, \"PC1\": -1.1705949378304763, \"PC2\": 0.09224542970660604}, {\"Depth\": 9.55, \"Age\": 10.18, \"PC1\": -0.19959149932955317, \"PC2\": 1.2947041397465389}, {\"Depth\": 9.6, \"Age\": 10.27, \"PC1\": -1.6566326368255253, \"PC2\": -1.6505693765223963}, {\"Depth\": 9.65, \"Age\": 10.35, \"PC1\": -0.46821395794282933, \"PC2\": 0.07822384564879487}, {\"Depth\": 9.7, \"Age\": 10.43, \"PC1\": -1.6137142778308868, \"PC2\": -2.3121354342831744}, {\"Depth\": 9.75, \"Age\": 10.52, \"PC1\": -1.8240093580848513, \"PC2\": -0.4222146709185958}, {\"Depth\": 9.8, \"Age\": 10.6, \"PC1\": -1.6504625548230243, \"PC2\": -1.7346966121163374}, {\"Depth\": 9.85, \"Age\": 10.68, \"PC1\": -1.015050645381525, \"PC2\": -2.3347401842132847}, {\"Depth\": 9.9, \"Age\": 10.77, \"PC1\": -0.14451135976224175, \"PC2\": -1.2553409082351752}, {\"Depth\": 9.95, \"Age\": 10.85, \"PC1\": -0.4835723638236418, \"PC2\": -2.391106327776451}, {\"Depth\": 10.0, \"Age\": 10.93, \"PC1\": 0.7823387659805073, \"PC2\": -2.2637484848861673}, {\"Depth\": 10.05, \"Age\": 11.02, \"PC1\": -0.4534198014059369, \"PC2\": -1.5885339698659453}, {\"Depth\": 10.1, \"Age\": 11.1, \"PC1\": -0.08447650869315344, \"PC2\": -2.145011375735801}, {\"Depth\": 10.15, \"Age\": 11.18, \"PC1\": -0.08486425169764011, \"PC2\": -0.9846631095664151}, {\"Depth\": 10.2, \"Age\": 11.27, \"PC1\": 0.4595858493281224, \"PC2\": -1.0939432466481507}, {\"Depth\": 10.25, \"Age\": 11.35, \"PC1\": -0.15211458840853875, \"PC2\": -0.8246132497918861}, {\"Depth\": 10.3, \"Age\": 11.43, \"PC1\": 0.40539407857485926, \"PC2\": -0.49282562943774005}, {\"Depth\": 10.35, \"Age\": 11.52, \"PC1\": -0.026406956792375515, \"PC2\": -1.5907273478015833}, {\"Depth\": 10.4, \"Age\": 11.6, \"PC1\": -0.621173689945047, \"PC2\": -1.9647410304066872}, {\"Depth\": 10.45, \"Age\": 11.68, \"PC1\": 0.7199695559139846, \"PC2\": -1.1064336933056362}, {\"Depth\": 10.5, \"Age\": 11.77, \"PC1\": 1.6062502082840264, \"PC2\": -0.6818429581499317}, {\"Depth\": 10.55, \"Age\": 11.85, \"PC1\": 3.45507831640951, \"PC2\": -0.3003732474315337}, {\"Depth\": 10.6, \"Age\": 11.93, \"PC1\": 2.1432696086687097, \"PC2\": -0.8607606235132146}, {\"Depth\": 10.65, \"Age\": 12.02, \"PC1\": 3.133039800405775, \"PC2\": 0.31387369841527524}, {\"Depth\": 10.7, \"Age\": 12.1, \"PC1\": 3.261326042889321, \"PC2\": 0.20041138794829866}, {\"Depth\": 10.75, \"Age\": 12.18, \"PC1\": 3.03925999239644, \"PC2\": 0.30437625413621233}, {\"Depth\": 10.8, \"Age\": 12.27, \"PC1\": 2.7195296608445174, \"PC2\": -0.13516651304578697}, {\"Depth\": 10.85, \"Age\": 12.35, \"PC1\": 3.1078771025488594, \"PC2\": -0.12392793438070286}, {\"Depth\": 10.9, \"Age\": 12.43, \"PC1\": 2.7917582472749776, \"PC2\": -0.2239329685112224}, {\"Depth\": 10.95, \"Age\": 12.52, \"PC1\": 2.5153823359059393, \"PC2\": -0.1463902456392213}, {\"Depth\": 11.0, \"Age\": 12.64, \"PC1\": 2.072668229683208, \"PC2\": -0.6175711694154387}, {\"Depth\": 11.05, \"Age\": 12.73, \"PC1\": 2.8145159234880905, \"PC2\": -0.2006324706754275}, {\"Depth\": 11.35, \"Age\": 13.08, \"PC1\": 0.45632345548067793, \"PC2\": -0.8733113321755732}, {\"Depth\": 11.4, \"Age\": 13.12, \"PC1\": 2.130018055065063, \"PC2\": -0.2809712981787036}, {\"Depth\": 11.45, \"Age\": 13.17, \"PC1\": 1.6304174894286032, \"PC2\": -1.2469273490220252}, {\"Depth\": 11.5, \"Age\": 13.21, \"PC1\": 0.08053891213770668, \"PC2\": -1.7148819253337177}, {\"Depth\": 11.55, \"Age\": 13.26, \"PC1\": 1.6544139645887685, \"PC2\": -1.300795632881013}, {\"Depth\": 11.6, \"Age\": 13.3, \"PC1\": -0.3298301575065519, \"PC2\": -0.7358324280701167}, {\"Depth\": 11.65, \"Age\": 13.35, \"PC1\": 0.6090060763291608, \"PC2\": -1.6188374040382032}, {\"Depth\": 11.7, \"Age\": 13.39, \"PC1\": 0.6342582349452803, \"PC2\": -1.6319978047937562}, {\"Depth\": 11.75, \"Age\": 13.44, \"PC1\": -2.5693363271013903, \"PC2\": -0.765306521610211}, {\"Depth\": 11.8, \"Age\": 13.48, \"PC1\": 0.9743634364114389, \"PC2\": -0.9805618265785894}, {\"Depth\": 11.85, \"Age\": 13.53, \"PC1\": 0.2975339840801899, \"PC2\": -1.101569691397081}, {\"Depth\": 11.9, \"Age\": 13.57, \"PC1\": 1.0694055161310927, \"PC2\": -0.7392889606840866}, {\"Depth\": 11.95, \"Age\": 13.61, \"PC1\": -2.39926362682203, \"PC2\": -1.8915486633562368}, {\"Depth\": 12.0, \"Age\": 13.66, \"PC1\": -0.7623417451562909, \"PC2\": -1.191225370113026}, {\"Depth\": 12.05, \"Age\": 13.7, \"PC1\": 2.532684412759404, \"PC2\": 1.2695656771851558}, {\"Depth\": 12.1, \"Age\": 13.75, \"PC1\": 0.35160503520412384, \"PC2\": -1.467804577447598}, {\"Depth\": 12.15, \"Age\": 13.79, \"PC1\": 1.104987612161373, \"PC2\": -0.05811229540541375}, {\"Depth\": 11.1, \"Age\": 12.82, \"PC1\": 2.7157022944262494, \"PC2\": -0.8684860498412453}, {\"Depth\": 11.15, \"Age\": 12.9, \"PC1\": 2.614476874563254, \"PC2\": -0.7373399839919981}, {\"Depth\": 11.2, \"Age\": 12.94, \"PC1\": 2.649672319780625, \"PC2\": -0.7488759177203844}, {\"Depth\": 11.25, \"Age\": 12.99, \"PC1\": 0.6217519990113203, \"PC2\": -2.487571085831609}, {\"Depth\": 11.3, \"Age\": 13.03, \"PC1\": 2.3325368174593772, \"PC2\": 0.11673964933472114}, {\"Depth\": 12.2, \"Age\": 13.84, \"PC1\": -1.188195222711085, \"PC2\": -1.4502004243659672}, {\"Depth\": 12.25, \"Age\": 13.88, \"PC1\": 0.023862153476529417, \"PC2\": -1.654274400268954}, {\"Depth\": 12.3, \"Age\": 13.93, \"PC1\": -0.03812211122699629, \"PC2\": -1.1043967597205058}, {\"Depth\": 12.35, \"Age\": 13.97, \"PC1\": 2.165384905065848, \"PC2\": -1.0787840054973403}, {\"Depth\": 12.4, \"Age\": 14.02, \"PC1\": -0.09066540957548874, \"PC2\": -1.3114689284245267}, {\"Depth\": 12.45, \"Age\": 14.06, \"PC1\": -0.06907959396059424, \"PC2\": -1.7971123298447618}, {\"Depth\": 12.5, \"Age\": 14.11, \"PC1\": 0.7116471256490196, \"PC2\": -0.504050635277794}, {\"Depth\": 12.55, \"Age\": 14.15, \"PC1\": 0.9003412855028237, \"PC2\": -0.775273145449219}, {\"Depth\": 12.6, \"Age\": 14.19, \"PC1\": 0.9273594800294271, \"PC2\": -1.3475237252718228}, {\"Depth\": 12.65, \"Age\": 14.24, \"PC1\": 0.2930402866869403, \"PC2\": -1.0749612715472916}, {\"Depth\": 12.7, \"Age\": 14.28, \"PC1\": 3.370118710390856, \"PC2\": -0.4234937010814994}, {\"Depth\": 12.75, \"Age\": 14.33, \"PC1\": 0.5866650344317837, \"PC2\": -0.7556202111631813}, {\"Depth\": 12.8, \"Age\": 14.37, \"PC1\": 1.148988401000695, \"PC2\": -0.6764107887222558}, {\"Depth\": 12.85, \"Age\": 14.42, \"PC1\": 1.224408230320932, \"PC2\": -1.023363573642044}, {\"Depth\": 12.9, \"Age\": 14.46, \"PC1\": 0.7487703703211707, \"PC2\": -0.9666673478031395}, {\"Depth\": 12.95, \"Age\": 14.51, \"PC1\": 1.5684025380937123, \"PC2\": 0.15625389720322105}, {\"Depth\": 13.0, \"Age\": 14.55, \"PC1\": 3.2770084119140845, \"PC2\": 0.38815220563401587}, {\"Depth\": 13.05, \"Age\": 14.6, \"PC1\": 2.508213505147398, \"PC2\": -0.4388238078590232}, {\"Depth\": 13.1, \"Age\": 14.64, \"PC1\": 4.161816740517056, \"PC2\": -0.07336696968346862}, {\"Depth\": 13.15, \"Age\": 14.69, \"PC1\": 2.2778811704735307, \"PC2\": -1.3486977342569222}, {\"Depth\": 13.2, \"Age\": 14.73, \"PC1\": 3.3099176408281457, \"PC2\": -0.4695758716971339}, {\"Depth\": 13.25, \"Age\": 14.78, \"PC1\": 2.693839272516413, \"PC2\": -0.8079583362784486}, {\"Depth\": 13.41, \"Age\": 14.92, \"PC1\": 2.7517311373508444, \"PC2\": 0.20762789913511023}, {\"Depth\": 13.46, \"Age\": 14.96, \"PC1\": 3.2858220912093787, \"PC2\": -0.476797975161542}, {\"Depth\": 13.51, \"Age\": 15.01, \"PC1\": 3.6846451784145744, \"PC2\": -0.5870104080491785}, {\"Depth\": 13.56, \"Age\": 15.05, \"PC1\": 3.103614689500086, \"PC2\": -0.578815383841517}, {\"Depth\": 13.61, \"Age\": 15.1, \"PC1\": 3.2593128404065363, \"PC2\": 0.17701297151962647}, {\"Depth\": 13.66, \"Age\": 15.14, \"PC1\": 2.707272164110303, \"PC2\": 0.24712718673744827}, {\"Depth\": 13.71, \"Age\": 15.19, \"PC1\": 2.862804718981273, \"PC2\": -0.15858046235950862}]}}, {\"mode\": \"vega-lite\"});\n",
       "</script>"
      ],
      "text/plain": [
       "alt.Chart(...)"
      ]
     },
     "execution_count": 60,
     "metadata": {},
     "output_type": "execute_result"
    }
   ],
   "source": [
    "## (ii) construct scatterplot\n",
    "# BEGIN SOLUTION\n",
    "fig8 = alt.Chart(projected_data).transform_calculate(\n",
    "    holocene = 'datum.Age < 11'\n",
    ").mark_point().encode(\n",
    "    x = alt.X('PC1:Q', title = 'Nodulifer/non-nodulifer composition'),\n",
    "    y = alt.Y('PC2:Q', title = 'Complex community composition'),\n",
    "    color = alt.Color('holocene:N', title = 'Holocene')\n",
    ")\n",
    "# END SOLUTION\n",
    "\n",
    "# display\n",
    "fig8 # SOLUTION"
   ]
  },
  {
   "attachments": {},
   "cell_type": "markdown",
   "metadata": {
    "tags": [
     "otter_assign_solution_cell"
    ]
   },
   "source": [
    "**SOLUTION**\n",
    "\n",
    "While there is some overlap, observations seem to largely fall into distinct clusters according to epoch. There does seem to be a shift, but the shift is multivariate: the clusters are not separable on one axis alone. "
   ]
  },
  {
   "cell_type": "code",
   "execution_count": null,
   "metadata": {
    "deletable": false,
    "editable": false
   },
   "outputs": [],
   "source": [
    "grader.check(\"q12\")"
   ]
  },
  {
   "attachments": {},
   "cell_type": "markdown",
   "metadata": {},
   "source": [
    "<!-- BEGIN QUESTION -->\n",
    "\n",
    "### (Optional) Question 13: Multi-panel visualization\n",
    "\n",
    "Sometimes it's helpful to see marginal distributions together with a scatterplot. Follow the steps below to create a multi-panel figure with marginal density estimates appended to the projected scatter from the previous question.\n",
    "\n",
    "1. Create an Altair chart based on `projected_data` and use `.transform_calculate(...)` to define a variable `holocene` that indicates whether `Age` is older than 11,000 years. Store the result as `base`.\n",
    "2. Modify `base` to add points with the following encodings. \n",
    "    + Pass PC1 to the `X` encoding channel and title the axis 'A. Nodulifer/non-A. nodulifer composition'.\n",
    "    + Pass PC2 to the `Y` encoding channel and title the axis 'Complex community composition'.\n",
    "    + Pass the variable you created in step 1. to the `color` encoding channel and title it 'Holocene'.\n",
    "    Store the result as `scatter`.\n",
    "3. Construct plots of kernel density estimates for each principal component conditional on age being older than 11,000 years:\n",
    "    + modify `base` to create a `top_panel` plot with the KDE curves for PC1, with color corresponding to the age indicator from the `.transform_calculate(...)` step in making the base layer;\n",
    "    + modify `base` again to create a `side_panel` plot with the KDE curves for PC2, rotated 90 degrees relative to the usual orientation (flip the typical axes), and with color corresponding to the age indicator from the `.transform_calculate(...)` step in making the base layer.\n",
    "4. Then, resize these panels appropriately (top should be thin, side should be narrow), and use Altair's faceting operators `&` (vertical concatenation) and `|` (horizontal concatenation) to combine them with your scatterplot.\n",
    "\n",
    "Store the result as `fig9` and display the figure."
   ]
  },
  {
   "cell_type": "code",
   "execution_count": 64,
   "metadata": {
    "tags": [
     "otter_assign_solution_cell"
    ]
   },
   "outputs": [
    {
     "data": {
      "text/html": [
       "\n",
       "<div id=\"altair-viz-34923a8fd98d476f8fd47b7d8bf8582e\"></div>\n",
       "<script type=\"text/javascript\">\n",
       "  var VEGA_DEBUG = (typeof VEGA_DEBUG == \"undefined\") ? {} : VEGA_DEBUG;\n",
       "  (function(spec, embedOpt){\n",
       "    let outputDiv = document.currentScript.previousElementSibling;\n",
       "    if (outputDiv.id !== \"altair-viz-34923a8fd98d476f8fd47b7d8bf8582e\") {\n",
       "      outputDiv = document.getElementById(\"altair-viz-34923a8fd98d476f8fd47b7d8bf8582e\");\n",
       "    }\n",
       "    const paths = {\n",
       "      \"vega\": \"https://cdn.jsdelivr.net/npm//vega@5?noext\",\n",
       "      \"vega-lib\": \"https://cdn.jsdelivr.net/npm//vega-lib?noext\",\n",
       "      \"vega-lite\": \"https://cdn.jsdelivr.net/npm//vega-lite@4.17.0?noext\",\n",
       "      \"vega-embed\": \"https://cdn.jsdelivr.net/npm//vega-embed@6?noext\",\n",
       "    };\n",
       "\n",
       "    function maybeLoadScript(lib, version) {\n",
       "      var key = `${lib.replace(\"-\", \"\")}_version`;\n",
       "      return (VEGA_DEBUG[key] == version) ?\n",
       "        Promise.resolve(paths[lib]) :\n",
       "        new Promise(function(resolve, reject) {\n",
       "          var s = document.createElement('script');\n",
       "          document.getElementsByTagName(\"head\")[0].appendChild(s);\n",
       "          s.async = true;\n",
       "          s.onload = () => {\n",
       "            VEGA_DEBUG[key] = version;\n",
       "            return resolve(paths[lib]);\n",
       "          };\n",
       "          s.onerror = () => reject(`Error loading script: ${paths[lib]}`);\n",
       "          s.src = paths[lib];\n",
       "        });\n",
       "    }\n",
       "\n",
       "    function showError(err) {\n",
       "      outputDiv.innerHTML = `<div class=\"error\" style=\"color:red;\">${err}</div>`;\n",
       "      throw err;\n",
       "    }\n",
       "\n",
       "    function displayChart(vegaEmbed) {\n",
       "      vegaEmbed(outputDiv, spec, embedOpt)\n",
       "        .catch(err => showError(`Javascript Error: ${err.message}<br>This usually means there's a typo in your chart specification. See the javascript console for the full traceback.`));\n",
       "    }\n",
       "\n",
       "    if(typeof define === \"function\" && define.amd) {\n",
       "      requirejs.config({paths});\n",
       "      require([\"vega-embed\"], displayChart, err => showError(`Error loading script: ${err.message}`));\n",
       "    } else {\n",
       "      maybeLoadScript(\"vega\", \"5\")\n",
       "        .then(() => maybeLoadScript(\"vega-lite\", \"4.17.0\"))\n",
       "        .then(() => maybeLoadScript(\"vega-embed\", \"6\"))\n",
       "        .catch(showError)\n",
       "        .then(() => displayChart(vegaEmbed));\n",
       "    }\n",
       "  })({\"config\": {\"view\": {\"continuousWidth\": 400, \"continuousHeight\": 300}}, \"vconcat\": [{\"layer\": [{\"mark\": \"line\", \"encoding\": {\"color\": {\"field\": \"holocene\", \"title\": \"Holocene\", \"type\": \"nominal\"}, \"x\": {\"axis\": null, \"field\": \"PC1\", \"type\": \"quantitative\"}, \"y\": {\"axis\": null, \"field\": \"Density\", \"type\": \"quantitative\"}}, \"transform\": [{\"calculate\": \"datum.Age < 11\", \"as\": \"holocene\"}, {\"density\": \"PC1\", \"extent\": [-3, 5], \"groupby\": [\"holocene\"], \"steps\": 500, \"as\": [\"PC1\", \"Density\"]}]}, {\"mark\": {\"type\": \"area\", \"opacity\": 0.2}, \"encoding\": {\"color\": {\"field\": \"holocene\", \"title\": \"Holocene\", \"type\": \"nominal\"}, \"x\": {\"axis\": null, \"field\": \"PC1\", \"type\": \"quantitative\"}, \"y\": {\"axis\": null, \"field\": \"Density\", \"type\": \"quantitative\"}}, \"transform\": [{\"calculate\": \"datum.Age < 11\", \"as\": \"holocene\"}, {\"density\": \"PC1\", \"extent\": [-3, 5], \"groupby\": [\"holocene\"], \"steps\": 500, \"as\": [\"PC1\", \"Density\"]}]}], \"height\": 50}, {\"hconcat\": [{\"mark\": \"point\", \"encoding\": {\"color\": {\"field\": \"holocene\", \"title\": \"Holocene\", \"type\": \"nominal\"}, \"x\": {\"field\": \"PC1\", \"title\": \"Nodulifer/non-nodulifer composition\", \"type\": \"quantitative\"}, \"y\": {\"field\": \"PC2\", \"title\": \"Complex community composition\", \"type\": \"quantitative\"}}, \"transform\": [{\"calculate\": \"datum.Age < 11\", \"as\": \"holocene\"}]}, {\"layer\": [{\"mark\": {\"type\": \"line\", \"order\": false}, \"encoding\": {\"color\": {\"field\": \"holocene\", \"title\": \"Holocene\", \"type\": \"nominal\"}, \"x\": {\"axis\": null, \"field\": \"Density\", \"type\": \"quantitative\"}, \"y\": {\"axis\": null, \"field\": \"PC2\", \"type\": \"quantitative\"}}, \"transform\": [{\"calculate\": \"datum.Age < 11\", \"as\": \"holocene\"}, {\"density\": \"PC2\", \"extent\": [-3, 5], \"groupby\": [\"holocene\"], \"steps\": 500, \"as\": [\"PC2\", \"Density\"]}]}, {\"mark\": {\"type\": \"area\", \"opacity\": 0.2, \"order\": false}, \"encoding\": {\"color\": {\"field\": \"holocene\", \"title\": \"Holocene\", \"type\": \"nominal\"}, \"x\": {\"axis\": null, \"field\": \"Density\", \"type\": \"quantitative\"}, \"y\": {\"axis\": null, \"field\": \"PC2\", \"type\": \"quantitative\"}}, \"transform\": [{\"calculate\": \"datum.Age < 11\", \"as\": \"holocene\"}, {\"density\": \"PC2\", \"extent\": [-3, 5], \"groupby\": [\"holocene\"], \"steps\": 500, \"as\": [\"PC2\", \"Density\"]}]}], \"width\": 50}]}], \"data\": {\"name\": \"data-35c0fff8e92b5b1f5b0690ee3d672f2e\"}, \"$schema\": \"https://vega.github.io/schema/vega-lite/v4.17.0.json\", \"datasets\": {\"data-35c0fff8e92b5b1f5b0690ee3d672f2e\": [{\"Depth\": 0.0, \"Age\": 1.33, \"PC1\": -0.29452231960478814, \"PC2\": -0.633175810046139}, {\"Depth\": 0.05, \"Age\": 1.37, \"PC1\": -0.554701557071784, \"PC2\": -0.6188747287774228}, {\"Depth\": 0.1, \"Age\": 1.42, \"PC1\": -0.30774539275745694, \"PC2\": -2.0502358533304683}, {\"Depth\": 0.15, \"Age\": 1.46, \"PC1\": -1.7710664670390501, \"PC2\": 1.6372741540586415}, {\"Depth\": 0.2, \"Age\": 1.51, \"PC1\": -0.29280577872110547, \"PC2\": 0.25943037455617646}, {\"Depth\": 0.25, \"Age\": 1.55, \"PC1\": -0.22951054796954418, \"PC2\": 0.2650795302274221}, {\"Depth\": 0.3, \"Age\": 1.59, \"PC1\": -0.17868996036000873, \"PC2\": 1.969495826220095}, {\"Depth\": 0.35, \"Age\": 1.64, \"PC1\": -0.31574486457444834, \"PC2\": -1.011766546142131}, {\"Depth\": 0.4, \"Age\": 1.68, \"PC1\": -2.058715498956632, \"PC2\": -1.8363081314955532}, {\"Depth\": 0.45, \"Age\": 1.72, \"PC1\": -0.9107882783574445, \"PC2\": -1.2551807743864902}, {\"Depth\": 0.5, \"Age\": 1.77, \"PC1\": -0.5815080694072058, \"PC2\": 1.5668121615550523}, {\"Depth\": 0.55, \"Age\": 1.81, \"PC1\": -1.126687403495902, \"PC2\": 0.3093534320349245}, {\"Depth\": 0.6, \"Age\": 1.86, \"PC1\": -1.4136094000991255, \"PC2\": 0.0547654031390702}, {\"Depth\": 0.65, \"Age\": 1.9, \"PC1\": 0.17651335111113303, \"PC2\": 0.957973104085162}, {\"Depth\": 0.7, \"Age\": 1.94, \"PC1\": -1.5921831501633823, \"PC2\": -0.45145614508854826}, {\"Depth\": 0.75, \"Age\": 1.99, \"PC1\": -0.6955845010802693, \"PC2\": -1.618694990385836}, {\"Depth\": 0.8, \"Age\": 2.03, \"PC1\": -1.4012715638535513, \"PC2\": -1.1408054249471562}, {\"Depth\": 0.85, \"Age\": 2.08, \"PC1\": -2.3118467160723184, \"PC2\": 0.9630210472047545}, {\"Depth\": 0.9, \"Age\": 2.12, \"PC1\": -0.6701664537249995, \"PC2\": 0.1179702826332611}, {\"Depth\": 0.95, \"Age\": 2.16, \"PC1\": -2.3051344054116703, \"PC2\": 0.5991679517422543}, {\"Depth\": 1.0, \"Age\": 2.21, \"PC1\": -2.0798715542650412, \"PC2\": -0.5510408889074446}, {\"Depth\": 1.05, \"Age\": 2.25, \"PC1\": -1.6008420958264282, \"PC2\": 0.3231419488203198}, {\"Depth\": 1.1, \"Age\": 2.29, \"PC1\": -2.6834792862576524, \"PC2\": 1.571977711321387}, {\"Depth\": 1.15, \"Age\": 2.34, \"PC1\": -0.9463018173173262, \"PC2\": 0.03919870221904914}, {\"Depth\": 1.2, \"Age\": 2.38, \"PC1\": 0.4976969447845695, \"PC2\": 1.7505992545474784}, {\"Depth\": 1.25, \"Age\": 2.43, \"PC1\": -1.9479550002010773, \"PC2\": 0.47188097086670683}, {\"Depth\": 1.3, \"Age\": 2.47, \"PC1\": -0.5382172591771497, \"PC2\": 1.1179186050879448}, {\"Depth\": 1.35, \"Age\": 2.51, \"PC1\": -1.825027998371448, \"PC2\": 1.3072303284315077}, {\"Depth\": 1.4, \"Age\": 2.56, \"PC1\": -1.841457822737503, \"PC2\": 1.2997171613602714}, {\"Depth\": 1.49, \"Age\": 2.64, \"PC1\": -0.910967803698702, \"PC2\": -1.068057215855893}, {\"Depth\": 1.5, \"Age\": 2.65, \"PC1\": -0.6913942906795845, \"PC2\": 0.5551512174846942}, {\"Depth\": 1.55, \"Age\": 2.69, \"PC1\": -0.91752048594145, \"PC2\": 1.9610600500808006}, {\"Depth\": 1.6, \"Age\": 2.73, \"PC1\": -1.4143217338225609, \"PC2\": -0.6186513637457512}, {\"Depth\": 1.65, \"Age\": 2.78, \"PC1\": -1.2425786554614353, \"PC2\": 0.09143702235285335}, {\"Depth\": 1.7, \"Age\": 2.82, \"PC1\": -1.8512591836665042, \"PC2\": -0.5312005135220201}, {\"Depth\": 1.75, \"Age\": 2.87, \"PC1\": -2.360370223585121, \"PC2\": -0.17069958517997516}, {\"Depth\": 1.8, \"Age\": 2.91, \"PC1\": -1.2394197395941378, \"PC2\": -0.8165599639934676}, {\"Depth\": 1.85, \"Age\": 2.95, \"PC1\": -0.8827179850834399, \"PC2\": -0.8414674502599631}, {\"Depth\": 1.9, \"Age\": 3.0, \"PC1\": -1.0878313299685762, \"PC2\": 2.3375465626166445}, {\"Depth\": 1.95, \"Age\": 3.04, \"PC1\": -1.8890381356773505, \"PC2\": -0.2838039688733787}, {\"Depth\": 2.0, \"Age\": 3.08, \"PC1\": -1.3617183350383084, \"PC2\": 2.0103110008936222}, {\"Depth\": 2.05, \"Age\": 3.13, \"PC1\": -1.379957334609473, \"PC2\": 0.07528943882534811}, {\"Depth\": 2.1, \"Age\": 3.17, \"PC1\": -1.5446451117098385, \"PC2\": 0.0025736508906864883}, {\"Depth\": 2.15, \"Age\": 3.22, \"PC1\": -0.3507472666364964, \"PC2\": 0.8869935281172677}, {\"Depth\": 2.2, \"Age\": 3.26, \"PC1\": -0.554457752195936, \"PC2\": -0.8371115987584382}, {\"Depth\": 2.25, \"Age\": 3.3, \"PC1\": -1.3250254341476606, \"PC2\": -0.533999271447237}, {\"Depth\": 2.3, \"Age\": 3.35, \"PC1\": -0.5508080948514754, \"PC2\": -0.580190602445555}, {\"Depth\": 2.35, \"Age\": 3.39, \"PC1\": -0.4802491787207459, \"PC2\": 1.1166082623789824}, {\"Depth\": 2.4, \"Age\": 3.44, \"PC1\": -1.6531092150364048, \"PC2\": -0.3912761398496724}, {\"Depth\": 2.45, \"Age\": 3.48, \"PC1\": -1.7507105665855471, \"PC2\": -0.7759144099665761}, {\"Depth\": 2.5, \"Age\": 3.52, \"PC1\": -1.4043484025241864, \"PC2\": -0.5903283227659741}, {\"Depth\": 2.55, \"Age\": 3.57, \"PC1\": -1.1055773069642174, \"PC2\": -1.2283162769710325}, {\"Depth\": 2.59, \"Age\": 3.6, \"PC1\": -1.0363072181913453, \"PC2\": -1.1643173079892641}, {\"Depth\": 2.65, \"Age\": 3.65, \"PC1\": -1.1389478492354304, \"PC2\": 0.013058153799305312}, {\"Depth\": 2.7, \"Age\": 3.7, \"PC1\": -1.0576821897070892, \"PC2\": 0.11614544871169574}, {\"Depth\": 2.75, \"Age\": 3.74, \"PC1\": -1.2619390834614999, \"PC2\": 0.3306741913157195}, {\"Depth\": 2.8, \"Age\": 3.79, \"PC1\": -0.6940052421082866, \"PC2\": 0.8956520824849173}, {\"Depth\": 2.85, \"Age\": 3.83, \"PC1\": -0.26587529162055906, \"PC2\": 0.21381499071694537}, {\"Depth\": 2.9, \"Age\": 3.87, \"PC1\": -0.9693466816673241, \"PC2\": -0.2914392704549076}, {\"Depth\": 2.95, \"Age\": 3.92, \"PC1\": -0.2737387745148446, \"PC2\": 0.688151862140016}, {\"Depth\": 3.0, \"Age\": 3.96, \"PC1\": 0.1494234464832572, \"PC2\": 1.4804244101150634}, {\"Depth\": 3.0, \"Age\": 3.96, \"PC1\": -0.8651833109610849, \"PC2\": 2.8001097658600944}, {\"Depth\": 3.05, \"Age\": 4.01, \"PC1\": -0.12424432720036689, \"PC2\": 1.085910179239972}, {\"Depth\": 3.1, \"Age\": 4.05, \"PC1\": -0.2216719304636296, \"PC2\": 0.19001674791522893}, {\"Depth\": 3.2, \"Age\": 4.14, \"PC1\": 0.1637670315388102, \"PC2\": 1.850959975351752}, {\"Depth\": 3.25, \"Age\": 4.18, \"PC1\": 0.0353095927175836, \"PC2\": 0.6867420057544674}, {\"Depth\": 3.3, \"Age\": 4.22, \"PC1\": -0.0699954711498572, \"PC2\": -0.03688503744350716}, {\"Depth\": 3.35, \"Age\": 4.27, \"PC1\": 0.954804272975526, \"PC2\": 0.8151577581513256}, {\"Depth\": 3.4, \"Age\": 4.31, \"PC1\": -0.021303471279940426, \"PC2\": 0.33827796511941133}, {\"Depth\": 3.45, \"Age\": 4.36, \"PC1\": 0.3270259074893681, \"PC2\": 3.930100943251642}, {\"Depth\": 3.5, \"Age\": 4.4, \"PC1\": -0.054816819682169705, \"PC2\": 0.851735273678982}, {\"Depth\": 3.55, \"Age\": 4.44, \"PC1\": 0.29576408826165923, \"PC2\": 3.3563638904360342}, {\"Depth\": 3.6, \"Age\": 4.49, \"PC1\": 1.1803365007152171, \"PC2\": 1.0144631323481597}, {\"Depth\": 3.65, \"Age\": 4.53, \"PC1\": -0.6326656553408866, \"PC2\": 0.13870050678536788}, {\"Depth\": 3.7, \"Age\": 4.58, \"PC1\": 0.2604534094374758, \"PC2\": -0.21605083896033137}, {\"Depth\": 3.75, \"Age\": 4.62, \"PC1\": -0.2580988437446043, \"PC2\": 0.11106936401719956}, {\"Depth\": 4.75, \"Age\": 5.5, \"PC1\": -0.49253543341831457, \"PC2\": -1.212673050206014}, {\"Depth\": 4.8, \"Age\": 5.54, \"PC1\": -0.06941772401480234, \"PC2\": -0.36933936511192095}, {\"Depth\": 4.85, \"Age\": 5.58, \"PC1\": -0.42454112432129965, \"PC2\": -0.18191969999471777}, {\"Depth\": 4.9, \"Age\": 5.63, \"PC1\": -0.8248246097243245, \"PC2\": 0.16043391503578336}, {\"Depth\": 4.95, \"Age\": 5.67, \"PC1\": -1.061664800725988, \"PC2\": 0.66463085927424}, {\"Depth\": 5.0, \"Age\": 5.72, \"PC1\": -0.8319777583653091, \"PC2\": 1.114847425569177}, {\"Depth\": 5.05, \"Age\": 5.76, \"PC1\": -0.7420373396010916, \"PC2\": 2.5410654878897665}, {\"Depth\": 5.1, \"Age\": 5.8, \"PC1\": -0.6662878048951371, \"PC2\": 1.604922091384265}, {\"Depth\": 5.15, \"Age\": 5.85, \"PC1\": -0.38501115801956015, \"PC2\": 0.9386781233166108}, {\"Depth\": 5.2, \"Age\": 5.89, \"PC1\": -0.12396450606266987, \"PC2\": 0.294023551263738}, {\"Depth\": 5.25, \"Age\": 5.94, \"PC1\": -0.9706199667989973, \"PC2\": -0.5098349347075934}, {\"Depth\": 5.3, \"Age\": 5.98, \"PC1\": 0.26868551822825776, \"PC2\": 4.893758534046299}, {\"Depth\": 5.35, \"Age\": 6.02, \"PC1\": -0.42660945823746976, \"PC2\": 1.3118162330070586}, {\"Depth\": 5.4, \"Age\": 6.07, \"PC1\": 0.35346680127657076, \"PC2\": 2.5759399414376896}, {\"Depth\": 5.45, \"Age\": 6.11, \"PC1\": -0.8220355910974388, \"PC2\": -0.7839710948652769}, {\"Depth\": 5.5, \"Age\": 6.15, \"PC1\": 0.6364777750313332, \"PC2\": 1.767825437562148}, {\"Depth\": 5.55, \"Age\": 6.2, \"PC1\": 0.8997348365453713, \"PC2\": 1.5653808170284473}, {\"Depth\": 5.6, \"Age\": 6.24, \"PC1\": -0.9001202190867946, \"PC2\": 0.6571933360755192}, {\"Depth\": 5.65, \"Age\": 6.29, \"PC1\": -0.7018443537948026, \"PC2\": 1.5909449349859996}, {\"Depth\": 5.7, \"Age\": 6.33, \"PC1\": 0.7906932391535356, \"PC2\": 3.0832239656760088}, {\"Depth\": 5.75, \"Age\": 6.37, \"PC1\": -0.5210107185930019, \"PC2\": 1.0313052039569834}, {\"Depth\": 5.8, \"Age\": 6.42, \"PC1\": -1.1771051425521262, \"PC2\": 1.3774965971569646}, {\"Depth\": 5.85, \"Age\": 6.46, \"PC1\": -1.616900697770763, \"PC2\": 0.05313747629886233}, {\"Depth\": 5.9, \"Age\": 6.51, \"PC1\": -0.3509263696621487, \"PC2\": 2.312837836383749}, {\"Depth\": 5.95, \"Age\": 6.55, \"PC1\": -1.1301980339344195, \"PC2\": -0.3376830055440328}, {\"Depth\": 6.0, \"Age\": 6.59, \"PC1\": -1.6753848951098094, \"PC2\": 0.4417319834436164}, {\"Depth\": 6.05, \"Age\": 6.64, \"PC1\": 0.08314441733232374, \"PC2\": -0.40809043677943185}, {\"Depth\": 6.1, \"Age\": 6.68, \"PC1\": -0.9089832079017784, \"PC2\": -1.2606450665678777}, {\"Depth\": 6.15, \"Age\": 6.72, \"PC1\": 0.011356808710165209, \"PC2\": 0.6750715231835269}, {\"Depth\": 6.2, \"Age\": 6.77, \"PC1\": -0.7247790864848331, \"PC2\": -0.7260457917132979}, {\"Depth\": 6.25, \"Age\": 6.81, \"PC1\": 0.18356963906629256, \"PC2\": 0.39178735515962}, {\"Depth\": 6.3, \"Age\": 6.86, \"PC1\": -0.6352436669644914, \"PC2\": 2.6551784943677887}, {\"Depth\": 6.35, \"Age\": 6.9, \"PC1\": -0.6725193748705385, \"PC2\": -1.985416096944953}, {\"Depth\": 6.4, \"Age\": 6.94, \"PC1\": 1.0170001409509124, \"PC2\": 4.98612574827766}, {\"Depth\": 6.45, \"Age\": 6.99, \"PC1\": -0.9984016850860156, \"PC2\": -1.0042695890479911}, {\"Depth\": 6.5, \"Age\": 7.03, \"PC1\": 0.24205221626619686, \"PC2\": 1.380292414735123}, {\"Depth\": 6.55, \"Age\": 7.08, \"PC1\": 0.30643480288276775, \"PC2\": -1.0218194752437448}, {\"Depth\": 6.6, \"Age\": 7.12, \"PC1\": -0.5788917532992567, \"PC2\": 0.1413976878852896}, {\"Depth\": 6.65, \"Age\": 7.16, \"PC1\": -0.2520080231202501, \"PC2\": 0.05083805164000811}, {\"Depth\": 6.7, \"Age\": 7.21, \"PC1\": -0.22146672485596935, \"PC2\": 0.029654551891052275}, {\"Depth\": 6.75, \"Age\": 7.25, \"PC1\": -0.9401163469087032, \"PC2\": 0.27180326689596535}, {\"Depth\": 6.8, \"Age\": 7.29, \"PC1\": 0.6103046984309223, \"PC2\": 3.1155163688992555}, {\"Depth\": 6.85, \"Age\": 7.34, \"PC1\": 0.6774871597745659, \"PC2\": 2.116628784342938}, {\"Depth\": 6.9, \"Age\": 7.38, \"PC1\": -0.4136090260917375, \"PC2\": 0.17801602613084722}, {\"Depth\": 6.95, \"Age\": 7.43, \"PC1\": -0.9397505729739006, \"PC2\": -1.3044282423044502}, {\"Depth\": 7.0, \"Age\": 7.47, \"PC1\": 0.3358950498143638, \"PC2\": 1.257265368223615}, {\"Depth\": 7.05, \"Age\": 7.51, \"PC1\": -0.5176929345937124, \"PC2\": -0.44457743749952977}, {\"Depth\": 7.1, \"Age\": 7.56, \"PC1\": -0.33612287569535804, \"PC2\": -0.1334296797311887}, {\"Depth\": 7.15, \"Age\": 7.6, \"PC1\": -1.252306375823347, \"PC2\": 1.1837900248946758}, {\"Depth\": 7.2, \"Age\": 7.65, \"PC1\": -0.06467724056083062, \"PC2\": 0.44942124172573206}, {\"Depth\": 7.25, \"Age\": 7.69, \"PC1\": -0.5950561157954578, \"PC2\": -1.029768795895597}, {\"Depth\": 7.3, \"Age\": 7.73, \"PC1\": 1.475933084535373, \"PC2\": 2.87033845727169}, {\"Depth\": 7.35, \"Age\": 7.78, \"PC1\": -0.24727041315674034, \"PC2\": -0.5129030765629651}, {\"Depth\": 7.4, \"Age\": 7.82, \"PC1\": -1.142065796432445, \"PC2\": -0.45995576191521964}, {\"Depth\": 7.45, \"Age\": 7.87, \"PC1\": 0.15731842896789003, \"PC2\": 2.7903487510619005}, {\"Depth\": 7.5, \"Age\": 7.91, \"PC1\": -0.016385519518244476, \"PC2\": 0.8709600669519719}, {\"Depth\": 7.55, \"Age\": 7.95, \"PC1\": -0.8726992155756145, \"PC2\": -0.7385042259461574}, {\"Depth\": 7.6, \"Age\": 8.0, \"PC1\": -1.0407153885099583, \"PC2\": 0.9194730827418383}, {\"Depth\": 7.65, \"Age\": 8.04, \"PC1\": 0.4623278783651547, \"PC2\": 4.342203166025601}, {\"Depth\": 7.7, \"Age\": 8.08, \"PC1\": -1.7541000246485683, \"PC2\": 0.6230828964648149}, {\"Depth\": 7.75, \"Age\": 8.13, \"PC1\": -0.7315441275474653, \"PC2\": 0.17600794517402701}, {\"Depth\": 7.8, \"Age\": 8.17, \"PC1\": -0.5030300478335424, \"PC2\": 1.886961710525016}, {\"Depth\": 8.3, \"Age\": 8.61, \"PC1\": 0.21224628539263893, \"PC2\": 1.0757981562200731}, {\"Depth\": 8.35, \"Age\": 8.65, \"PC1\": -0.7912508575318261, \"PC2\": -2.3669186030512113}, {\"Depth\": 8.4, \"Age\": 8.7, \"PC1\": -0.14254733027216196, \"PC2\": -0.9150710143328543}, {\"Depth\": 8.45, \"Age\": 8.74, \"PC1\": -1.5875329576468864, \"PC2\": -1.04507206058782}, {\"Depth\": 8.5, \"Age\": 8.79, \"PC1\": -0.3996710585550879, \"PC2\": 0.46600679822060365}, {\"Depth\": 8.55, \"Age\": 8.83, \"PC1\": -0.290319590875031, \"PC2\": -0.06689425702639754}, {\"Depth\": 8.6, \"Age\": 8.87, \"PC1\": -0.32823312263367255, \"PC2\": -1.6304749156274445}, {\"Depth\": 8.65, \"Age\": 8.92, \"PC1\": -0.44822015223498207, \"PC2\": 1.0844153678121378}, {\"Depth\": 8.7, \"Age\": 8.96, \"PC1\": -1.0771288253144295, \"PC2\": -1.977767423603044}, {\"Depth\": 9.5, \"Age\": 10.1, \"PC1\": -1.1705949378304763, \"PC2\": 0.09224542970660604}, {\"Depth\": 9.55, \"Age\": 10.18, \"PC1\": -0.19959149932955317, \"PC2\": 1.2947041397465389}, {\"Depth\": 9.6, \"Age\": 10.27, \"PC1\": -1.6566326368255253, \"PC2\": -1.6505693765223963}, {\"Depth\": 9.65, \"Age\": 10.35, \"PC1\": -0.46821395794282933, \"PC2\": 0.07822384564879487}, {\"Depth\": 9.7, \"Age\": 10.43, \"PC1\": -1.6137142778308868, \"PC2\": -2.3121354342831744}, {\"Depth\": 9.75, \"Age\": 10.52, \"PC1\": -1.8240093580848513, \"PC2\": -0.4222146709185958}, {\"Depth\": 9.8, \"Age\": 10.6, \"PC1\": -1.6504625548230243, \"PC2\": -1.7346966121163374}, {\"Depth\": 9.85, \"Age\": 10.68, \"PC1\": -1.015050645381525, \"PC2\": -2.3347401842132847}, {\"Depth\": 9.9, \"Age\": 10.77, \"PC1\": -0.14451135976224175, \"PC2\": -1.2553409082351752}, {\"Depth\": 9.95, \"Age\": 10.85, \"PC1\": -0.4835723638236418, \"PC2\": -2.391106327776451}, {\"Depth\": 10.0, \"Age\": 10.93, \"PC1\": 0.7823387659805073, \"PC2\": -2.2637484848861673}, {\"Depth\": 10.05, \"Age\": 11.02, \"PC1\": -0.4534198014059369, \"PC2\": -1.5885339698659453}, {\"Depth\": 10.1, \"Age\": 11.1, \"PC1\": -0.08447650869315344, \"PC2\": -2.145011375735801}, {\"Depth\": 10.15, \"Age\": 11.18, \"PC1\": -0.08486425169764011, \"PC2\": -0.9846631095664151}, {\"Depth\": 10.2, \"Age\": 11.27, \"PC1\": 0.4595858493281224, \"PC2\": -1.0939432466481507}, {\"Depth\": 10.25, \"Age\": 11.35, \"PC1\": -0.15211458840853875, \"PC2\": -0.8246132497918861}, {\"Depth\": 10.3, \"Age\": 11.43, \"PC1\": 0.40539407857485926, \"PC2\": -0.49282562943774005}, {\"Depth\": 10.35, \"Age\": 11.52, \"PC1\": -0.026406956792375515, \"PC2\": -1.5907273478015833}, {\"Depth\": 10.4, \"Age\": 11.6, \"PC1\": -0.621173689945047, \"PC2\": -1.9647410304066872}, {\"Depth\": 10.45, \"Age\": 11.68, \"PC1\": 0.7199695559139846, \"PC2\": -1.1064336933056362}, {\"Depth\": 10.5, \"Age\": 11.77, \"PC1\": 1.6062502082840264, \"PC2\": -0.6818429581499317}, {\"Depth\": 10.55, \"Age\": 11.85, \"PC1\": 3.45507831640951, \"PC2\": -0.3003732474315337}, {\"Depth\": 10.6, \"Age\": 11.93, \"PC1\": 2.1432696086687097, \"PC2\": -0.8607606235132146}, {\"Depth\": 10.65, \"Age\": 12.02, \"PC1\": 3.133039800405775, \"PC2\": 0.31387369841527524}, {\"Depth\": 10.7, \"Age\": 12.1, \"PC1\": 3.261326042889321, \"PC2\": 0.20041138794829866}, {\"Depth\": 10.75, \"Age\": 12.18, \"PC1\": 3.03925999239644, \"PC2\": 0.30437625413621233}, {\"Depth\": 10.8, \"Age\": 12.27, \"PC1\": 2.7195296608445174, \"PC2\": -0.13516651304578697}, {\"Depth\": 10.85, \"Age\": 12.35, \"PC1\": 3.1078771025488594, \"PC2\": -0.12392793438070286}, {\"Depth\": 10.9, \"Age\": 12.43, \"PC1\": 2.7917582472749776, \"PC2\": -0.2239329685112224}, {\"Depth\": 10.95, \"Age\": 12.52, \"PC1\": 2.5153823359059393, \"PC2\": -0.1463902456392213}, {\"Depth\": 11.0, \"Age\": 12.64, \"PC1\": 2.072668229683208, \"PC2\": -0.6175711694154387}, {\"Depth\": 11.05, \"Age\": 12.73, \"PC1\": 2.8145159234880905, \"PC2\": -0.2006324706754275}, {\"Depth\": 11.35, \"Age\": 13.08, \"PC1\": 0.45632345548067793, \"PC2\": -0.8733113321755732}, {\"Depth\": 11.4, \"Age\": 13.12, \"PC1\": 2.130018055065063, \"PC2\": -0.2809712981787036}, {\"Depth\": 11.45, \"Age\": 13.17, \"PC1\": 1.6304174894286032, \"PC2\": -1.2469273490220252}, {\"Depth\": 11.5, \"Age\": 13.21, \"PC1\": 0.08053891213770668, \"PC2\": -1.7148819253337177}, {\"Depth\": 11.55, \"Age\": 13.26, \"PC1\": 1.6544139645887685, \"PC2\": -1.300795632881013}, {\"Depth\": 11.6, \"Age\": 13.3, \"PC1\": -0.3298301575065519, \"PC2\": -0.7358324280701167}, {\"Depth\": 11.65, \"Age\": 13.35, \"PC1\": 0.6090060763291608, \"PC2\": -1.6188374040382032}, {\"Depth\": 11.7, \"Age\": 13.39, \"PC1\": 0.6342582349452803, \"PC2\": -1.6319978047937562}, {\"Depth\": 11.75, \"Age\": 13.44, \"PC1\": -2.5693363271013903, \"PC2\": -0.765306521610211}, {\"Depth\": 11.8, \"Age\": 13.48, \"PC1\": 0.9743634364114389, \"PC2\": -0.9805618265785894}, {\"Depth\": 11.85, \"Age\": 13.53, \"PC1\": 0.2975339840801899, \"PC2\": -1.101569691397081}, {\"Depth\": 11.9, \"Age\": 13.57, \"PC1\": 1.0694055161310927, \"PC2\": -0.7392889606840866}, {\"Depth\": 11.95, \"Age\": 13.61, \"PC1\": -2.39926362682203, \"PC2\": -1.8915486633562368}, {\"Depth\": 12.0, \"Age\": 13.66, \"PC1\": -0.7623417451562909, \"PC2\": -1.191225370113026}, {\"Depth\": 12.05, \"Age\": 13.7, \"PC1\": 2.532684412759404, \"PC2\": 1.2695656771851558}, {\"Depth\": 12.1, \"Age\": 13.75, \"PC1\": 0.35160503520412384, \"PC2\": -1.467804577447598}, {\"Depth\": 12.15, \"Age\": 13.79, \"PC1\": 1.104987612161373, \"PC2\": -0.05811229540541375}, {\"Depth\": 11.1, \"Age\": 12.82, \"PC1\": 2.7157022944262494, \"PC2\": -0.8684860498412453}, {\"Depth\": 11.15, \"Age\": 12.9, \"PC1\": 2.614476874563254, \"PC2\": -0.7373399839919981}, {\"Depth\": 11.2, \"Age\": 12.94, \"PC1\": 2.649672319780625, \"PC2\": -0.7488759177203844}, {\"Depth\": 11.25, \"Age\": 12.99, \"PC1\": 0.6217519990113203, \"PC2\": -2.487571085831609}, {\"Depth\": 11.3, \"Age\": 13.03, \"PC1\": 2.3325368174593772, \"PC2\": 0.11673964933472114}, {\"Depth\": 12.2, \"Age\": 13.84, \"PC1\": -1.188195222711085, \"PC2\": -1.4502004243659672}, {\"Depth\": 12.25, \"Age\": 13.88, \"PC1\": 0.023862153476529417, \"PC2\": -1.654274400268954}, {\"Depth\": 12.3, \"Age\": 13.93, \"PC1\": -0.03812211122699629, \"PC2\": -1.1043967597205058}, {\"Depth\": 12.35, \"Age\": 13.97, \"PC1\": 2.165384905065848, \"PC2\": -1.0787840054973403}, {\"Depth\": 12.4, \"Age\": 14.02, \"PC1\": -0.09066540957548874, \"PC2\": -1.3114689284245267}, {\"Depth\": 12.45, \"Age\": 14.06, \"PC1\": -0.06907959396059424, \"PC2\": -1.7971123298447618}, {\"Depth\": 12.5, \"Age\": 14.11, \"PC1\": 0.7116471256490196, \"PC2\": -0.504050635277794}, {\"Depth\": 12.55, \"Age\": 14.15, \"PC1\": 0.9003412855028237, \"PC2\": -0.775273145449219}, {\"Depth\": 12.6, \"Age\": 14.19, \"PC1\": 0.9273594800294271, \"PC2\": -1.3475237252718228}, {\"Depth\": 12.65, \"Age\": 14.24, \"PC1\": 0.2930402866869403, \"PC2\": -1.0749612715472916}, {\"Depth\": 12.7, \"Age\": 14.28, \"PC1\": 3.370118710390856, \"PC2\": -0.4234937010814994}, {\"Depth\": 12.75, \"Age\": 14.33, \"PC1\": 0.5866650344317837, \"PC2\": -0.7556202111631813}, {\"Depth\": 12.8, \"Age\": 14.37, \"PC1\": 1.148988401000695, \"PC2\": -0.6764107887222558}, {\"Depth\": 12.85, \"Age\": 14.42, \"PC1\": 1.224408230320932, \"PC2\": -1.023363573642044}, {\"Depth\": 12.9, \"Age\": 14.46, \"PC1\": 0.7487703703211707, \"PC2\": -0.9666673478031395}, {\"Depth\": 12.95, \"Age\": 14.51, \"PC1\": 1.5684025380937123, \"PC2\": 0.15625389720322105}, {\"Depth\": 13.0, \"Age\": 14.55, \"PC1\": 3.2770084119140845, \"PC2\": 0.38815220563401587}, {\"Depth\": 13.05, \"Age\": 14.6, \"PC1\": 2.508213505147398, \"PC2\": -0.4388238078590232}, {\"Depth\": 13.1, \"Age\": 14.64, \"PC1\": 4.161816740517056, \"PC2\": -0.07336696968346862}, {\"Depth\": 13.15, \"Age\": 14.69, \"PC1\": 2.2778811704735307, \"PC2\": -1.3486977342569222}, {\"Depth\": 13.2, \"Age\": 14.73, \"PC1\": 3.3099176408281457, \"PC2\": -0.4695758716971339}, {\"Depth\": 13.25, \"Age\": 14.78, \"PC1\": 2.693839272516413, \"PC2\": -0.8079583362784486}, {\"Depth\": 13.41, \"Age\": 14.92, \"PC1\": 2.7517311373508444, \"PC2\": 0.20762789913511023}, {\"Depth\": 13.46, \"Age\": 14.96, \"PC1\": 3.2858220912093787, \"PC2\": -0.476797975161542}, {\"Depth\": 13.51, \"Age\": 15.01, \"PC1\": 3.6846451784145744, \"PC2\": -0.5870104080491785}, {\"Depth\": 13.56, \"Age\": 15.05, \"PC1\": 3.103614689500086, \"PC2\": -0.578815383841517}, {\"Depth\": 13.61, \"Age\": 15.1, \"PC1\": 3.2593128404065363, \"PC2\": 0.17701297151962647}, {\"Depth\": 13.66, \"Age\": 15.14, \"PC1\": 2.707272164110303, \"PC2\": 0.24712718673744827}, {\"Depth\": 13.71, \"Age\": 15.19, \"PC1\": 2.862804718981273, \"PC2\": -0.15858046235950862}]}}, {\"mode\": \"vega-lite\"});\n",
       "</script>"
      ],
      "text/plain": [
       "alt.VConcatChart(...)"
      ]
     },
     "execution_count": 64,
     "metadata": {},
     "output_type": "execute_result"
    }
   ],
   "source": [
    "# make base layer\n",
    "# BEGIN SOLUTION\n",
    "base = alt.Chart(projected_data).transform_calculate(\n",
    "    holocene = 'datum.Age < 11'\n",
    ")\n",
    "# END SOLUTION\n",
    "\n",
    "# data scatter\n",
    "# BEGIN SOLUTION\n",
    "scatter = base.mark_point().encode(\n",
    "    x = alt.X('PC1:Q', title = 'Nodulifer/non-nodulifer composition'),\n",
    "    y = alt.Y('PC2:Q', title = 'Complex community composition'),\n",
    "    color = alt.Color('holocene:N', title = 'Holocene')\n",
    ")\n",
    "\n",
    "# construct upper panel (kdes for pc1)\n",
    "# BEGIN SOLUTION\n",
    "pc1_kde = base.transform_density(\n",
    "    density = 'PC1',\n",
    "    groupby = ['holocene'],\n",
    "    as_ = ['PC1', 'Density'],\n",
    "    extent = [-3, 5],\n",
    "    steps = 500\n",
    ").encode(\n",
    "    x = alt.X('PC1:Q', axis = None),\n",
    "    y = alt.Y('Density:Q', axis = None),\n",
    "    color = alt.Color('holocene:N', title = 'Holocene')\n",
    ")\n",
    "\n",
    "top_panel = (pc1_kde.mark_line() + pc1_kde.mark_area(opacity = 0.2)).properties(height = 50)\n",
    "# END SOLUTION\n",
    "\n",
    "# construct side panel (kdes for pc2)\n",
    "# BEGIN SOLUTION\n",
    "pc2_kde = base.transform_density(\n",
    "    density = 'PC2',\n",
    "    groupby = ['holocene'],\n",
    "    as_ = ['PC2', 'Density'],\n",
    "    extent = [-3, 5],\n",
    "    steps = 500\n",
    ").encode(\n",
    "    y = alt.Y('PC2:Q', axis = None),\n",
    "    x = alt.X('Density:Q', axis = None),\n",
    "    color = alt.Color('holocene:N', title = 'Holocene')\n",
    ")\n",
    "\n",
    "side_panel = (pc2_kde.mark_line(order = False) + pc2_kde.mark_area(order = False, opacity = 0.2)).properties(width = 50)\n",
    "# END SOLUTION\n",
    "\n",
    "# facet\n",
    "fig9 = top_panel & (scatter | side_panel) # SOLUTION\n",
    "\n",
    "# display\n",
    "fig9\n"
   ]
  },
  {
   "attachments": {},
   "cell_type": "markdown",
   "metadata": {},
   "source": [
    "<!-- END QUESTION -->\n",
    "\n",
    "# Communicating results\n",
    "\n",
    "Take a moment to review and reflect on the results of your analysis in the previous parts. Think about how you would describe succinctly what you've learned from the diatom data."
   ]
  },
  {
   "attachments": {},
   "cell_type": "markdown",
   "metadata": {},
   "source": [
    "<!-- BEGIN QUESTION -->\n",
    "\n",
    "### Question 14: Summary\n",
    "\n",
    "Write a brief paragraph (3-5 sentences) that addresses the following questions by referring to your results above.\n",
    "* How would you characterize the typical ecological community composition of diatom taxa before and after 11,000 years ago?\n",
    "    + *Hint*: focus on the side and top panels and the typical values of each index in the two time periods.\n",
    "* Does the variation in ecological community composition over time seem to differ before and after 11,000 years ago?\n",
    "    + *Hint*: focus on the shape of data scatter.\n"
   ]
  },
  {
   "cell_type": "markdown",
   "metadata": {},
   "source": [
    "_Type your answer here, replacing this text._"
   ]
  },
  {
   "attachments": {},
   "cell_type": "markdown",
   "metadata": {
    "tags": [
     "otter_assign_solution_cell"
    ]
   },
   "source": [
    "**SOLUTION**\n",
    "\n",
    "Before 11,000 years ago, *A. nodulifer* were more abundant relative to other taxa (PC1 is typically positive), and the same period is characterized by low levels of abundance of other taxa, but possibly some proportion of *Coscinodiscus* and *Actinoptychus* in the community (PC2 is typically slightly negative); most variation in the community composition is driven by variation in the relative abundance of *A. nodulifer*. By contrast, between 11,000 years ago and now, *A.nodulifer* are generally less abundant and most of the variation in community composition is driven by alternations in the relative abundances of *Coscinodiscus* and *Actinoptychus* with those of *Cyclotella* and *R. tesselata*. The markedly different relationships between the community composition indices given by the PCs suggests that the dynamics of community composition may have shifted around the time of the last major climate change event, and in particular that the present community is both more dynamic (varies more) and diverse (based on a greater number of taxa)."
   ]
  },
  {
   "attachments": {},
   "cell_type": "markdown",
   "metadata": {},
   "source": [
    "<!-- END QUESTION -->\n",
    "\n",
    "<!-- BEGIN QUESTION -->\n",
    "\n",
    "### Question 15: Further work\n",
    "\n",
    "What more might you like to know, given what you've learned? Pose a question that your exploratory analysis raises for you.\n"
   ]
  },
  {
   "attachments": {},
   "cell_type": "markdown",
   "metadata": {},
   "source": [
    "#### Answer\n",
    "\n",
    "*Type your answer here.*"
   ]
  },
  {
   "attachments": {},
   "cell_type": "markdown",
   "metadata": {
    "tags": [
     "otter_assign_solution_cell"
    ]
   },
   "source": [
    "**SOLUTION**\n",
    "*Can be anything,* but here are two of my questions:\n",
    "\n",
    "1. What distinguishes *A. nodulifer* biologically and ecologically from other taxa?\n",
    "2. Was this change in the ecological community of diatoms associated with corresponding ecological changes higher in the food web?"
   ]
  },
  {
   "attachments": {},
   "cell_type": "markdown",
   "metadata": {},
   "source": [
    "<!-- END QUESTION -->\n",
    "\n",
    "# Submission\n",
    "\n",
    "\n",
    "1. Save the notebook. \n",
    "2. Restart the kernel and run all cells. (**CAUTION**: if your notebook is not saved, you will lose your work.)\n",
    "3. Carefully look through your notebook and verify that all computations execute correctly and all graphics are displayed clearly. You should see **no errors**; if there are any errors, make sure to correct them before you submit the notebook.\n",
    "4. Download the notebook as an `.ipynb` file. This is your backup copy.\n",
    "5. Export the notebook as PDF and upload to Gradescope."
   ]
  },
  {
   "cell_type": "markdown",
   "metadata": {
    "deletable": false,
    "editable": false
   },
   "source": [
    "---\n",
    "\n",
    "To double-check your work, the cell below will rerun all of the autograder tests."
   ]
  },
  {
   "cell_type": "code",
   "execution_count": null,
   "metadata": {
    "deletable": false,
    "editable": false
   },
   "outputs": [],
   "source": [
    "grader.check_all()"
   ]
  }
 ],
 "metadata": {
  "kernelspec": {
   "display_name": "Python 3",
   "language": "python",
   "name": "python3"
  },
  "language_info": {
   "codemirror_mode": {
    "name": "ipython",
    "version": 3
   },
   "file_extension": ".py",
   "mimetype": "text/x-python",
   "name": "python",
   "nbconvert_exporter": "python",
   "pygments_lexer": "ipython3",
   "version": "3.9.12"
  },
  "otter": {
   "OK_FORMAT": true,
   "tests": {
    "q1": {
     "name": "q1",
     "points": 1,
     "suites": [
      {
       "cases": [
        {
         "code": ">>> # diatoms_mod1 doesn't contain any NaN values\n>>> diatoms_mod1.isnull().values.any() == False\nTrue",
         "hidden": false,
         "locked": false
        },
        {
         "code": ">>> # diatoms_raw.loc[4, \"StephanSpp\"] is NaN; want to confirm that diatoms_mod1 is 0 instead\n>>> diatoms_mod1.loc[4, \"StephanSpp\"] == 0\nTrue",
         "hidden": false,
         "locked": false
        },
        {
         "code": ">>> (diatoms_mod1 == diatoms_raw.fillna(0)).all().all()\nTrue",
         "hidden": true,
         "locked": false
        },
        {
         "code": ">>> # check for correct knowledge of extracting two rows from a dataframe by index\n>>> (diatoms_mod1_examplerows == diatoms_mod1.iloc[4:6, :]).all().all() and \\\n... (diatoms_mod1_examplerows == diatoms_mod1.loc[4:5, :]).all().all()\nTrue",
         "hidden": false,
         "locked": false
        }
       ],
       "scored": true,
       "setup": "",
       "teardown": "",
       "type": "doctest"
      }
     ]
    },
    "q10": {
     "name": "q10",
     "points": 1,
     "suites": [
      {
       "cases": [
        {
         "code": ">>> #checking the shape of pcdata as we are retaining Depth and Age as indices\n>>> pcdata.shape == (230, 8)\nTrue",
         "hidden": false,
         "locked": false
        },
        {
         "code": ">>> (pcdata == (diatoms.set_index(['Depth', 'Age']) - diatoms.set_index(['Depth', 'Age']).mean())/diatoms.set_index(['Depth', 'Age']).std()).all().all()\nTrue",
         "hidden": true,
         "locked": false
        },
        {
         "code": ">>> pca.n_components_ == 8\nTrue",
         "hidden": false,
         "locked": false
        },
        {
         "code": ">>> (pca.explained_variance_ratio_ == PCA(8).fit(pcdata).explained_variance_ratio_).all()\nTrue",
         "hidden": true,
         "locked": false
        },
        {
         "code": ">>> # sanity check that we have 8 rows and 3 columns\n>>> pcvars.shape == (8,3)\nTrue",
         "hidden": false,
         "locked": false
        },
        {
         "code": ">>> # the summation of all the values in the Proportion of variance explained column should be 1\n>>> round(pcvars[\"Proportion of variance explained\"].sum()) == 1\nTrue",
         "hidden": false,
         "locked": false
        },
        {
         "code": ">>> # the last value of the cumulative sum should be 1 (since all the values in `Proportion of variance explained` adds to 1)\n>>> round(pcvars[\"Cumulative variance explained\"].iloc[-1]) == 1\nTrue",
         "hidden": false,
         "locked": false
        },
        {
         "code": ">>> (pcvars == pd.DataFrame({'Proportion of variance explained': pca.explained_variance_ratio_, 'Component' : np.arange(1, 9), 'Cumulative variance explained' : pca.explained_variance_ratio_.cumsum(axis = 0)})).all().all()\nTrue",
         "hidden": true,
         "locked": false
        }
       ],
       "scored": true,
       "setup": "",
       "teardown": "",
       "type": "doctest"
      }
     ]
    },
    "q11": {
     "name": "q11",
     "points": 1,
     "suites": [
      {
       "cases": [
        {
         "code": ">>> loading_df.shape == (8,3)\nTrue",
         "hidden": false,
         "locked": false
        },
        {
         "code": ">>> # sanity check of the PC1 columns' first value\n>>> loading_df.loc[0,\"PC1\"] == pca.components_[0,0]\nTrue",
         "hidden": false,
         "locked": false
        },
        {
         "code": ">>> # sanity check of the PC2 columns' first value\n>>> loading_df.loc[0,\"PC2\"] == pca.components_[1,0]\nTrue",
         "hidden": false,
         "locked": false
        },
        {
         "code": ">>> # sanity check of the Taxon columns' first value\n>>> loading_df.loc[0,\"Taxon\"] == \"A_curv\"\nTrue",
         "hidden": false,
         "locked": false
        },
        {
         "code": ">>> q = pd.DataFrame(pca.components_).transpose().rename(columns = {0: 'PC1', 1: 'PC2'}).loc[:, ['PC1', 'PC2']]\n>>> q['Taxon'] = pcdata.columns.values\n>>> (loading_df == q).all().all()\nTrue",
         "hidden": true,
         "locked": false
        }
       ],
       "scored": true,
       "setup": "",
       "teardown": "",
       "type": "doctest"
      }
     ]
    },
    "q12": {
     "name": "q12",
     "points": 1,
     "suites": [
      {
       "cases": [
        {
         "code": ">>> # sanity check of the columns included\n>>> (projected_data.columns == ['Depth', 'Age', 'PC1', 'PC2']).all()\nTrue",
         "hidden": false,
         "locked": false
        },
        {
         "code": ">>> # checking the shape of the dataframe\n>>> projected_data.shape == (230,4)\nTrue",
         "hidden": false,
         "locked": false
        },
        {
         "code": ">>> # sanity check of the first row\n>>> (round(projected_data.iloc[0],3) == [0, 1.33, -0.295, -0.633]).all()\nTrue",
         "hidden": false,
         "locked": false
        }
       ],
       "scored": true,
       "setup": "",
       "teardown": "",
       "type": "doctest"
      }
     ]
    },
    "q2": {
     "name": "q2",
     "points": 1,
     "suites": [
      {
       "cases": [
        {
         "code": ">>> # checking that diatoms_mod2 is indexed by Depth and Age\n>>> diatoms_mod2.index.names == [\"Depth\", \"Age\"]\nTrue",
         "hidden": false,
         "locked": false
        },
        {
         "code": ">>> # checking that the number of columns of diatoms_mod2 is 9\n>>> len(diatoms_mod2.columns) == 9\nTrue",
         "hidden": false,
         "locked": false
        },
        {
         "code": ">>> # checking that the first row of samp_size == 201\n>>> sampsize[0] == [201]\nAge\n1.33    True\nName: Num.counted, dtype: bool",
         "hidden": false,
         "locked": false
        },
        {
         "code": ">>> # checking that for all the rows, num.counted is 1; all the other columns should be less than 1\n>>> (diatoms_mod3[\"Num.counted\"] == 1).all()\nTrue",
         "hidden": false,
         "locked": false
        },
        {
         "code": ">>> # checking that all the proportions of diatoms are less than (or equal to) 1\n>>> (diatoms_mod3.loc[:,['A_curv', 'A_octon', 'ActinSpp', 'A_nodul', 'CoscinSpp', 'CyclotSpp', 'Rop_tess', 'StephanSpp']] <= 1).all().all()\nTrue",
         "hidden": false,
         "locked": false
        },
        {
         "code": ">>> # checking that once the indices have been reset to before and the Num.Counted column is dropped, we are left with 10 columns\n>>> len(diatoms.columns) == 10\nTrue",
         "hidden": false,
         "locked": false
        },
        {
         "code": ">>> # checking the values of the first row of diatoms\n>>> (round(diatoms.iloc[0,:],3) ==[0., 1.33 , 0.025, 0.01 , 0.159, 0.07 , 0.104, 0.109, 0.005, 0.005]).all()\nTrue",
         "hidden": false,
         "locked": false
        },
        {
         "code": ">>> (diatoms == diatoms_mod1.set_index(['Depth', 'Age']).div(diatoms_mod1.set_index(['Depth', 'Age'])[\"Num.counted\"], axis = 0).drop(columns = 'Num.counted').reset_index()).all().all()\nTrue",
         "hidden": true,
         "locked": false
        }
       ],
       "scored": true,
       "setup": "",
       "teardown": "",
       "type": "doctest"
      }
     ]
    },
    "q3": {
     "name": "q3",
     "points": 1,
     "suites": [
      {
       "cases": [
        {
         "code": ">>> # checking rounded values\n>>> (round(min_max_age) == [1,15]).all()\nTrue",
         "hidden": false,
         "locked": false
        },
        {
         "code": ">>> (min_max_age == diatoms.Age.aggregate(['min', 'max'])).all()\nTrue",
         "hidden": true,
         "locked": false
        }
       ],
       "scored": true,
       "setup": "",
       "teardown": "",
       "type": "doctest"
      }
     ]
    },
    "q4": {
     "name": "q4",
     "points": 1,
     "suites": [
      {
       "cases": [
        {
         "code": ">>> # checking the length of diffs\n>>> len(diffs) == 229\nTrue",
         "hidden": false,
         "locked": false
        },
        {
         "code": ">>> # testing the max difference\n>>> diffs.max() == 1.14\ndiff    False\ndtype: bool",
         "hidden": false,
         "locked": false
        },
        {
         "code": ">>> # checking that NA got removed\n>>> diffs.iloc[0].isna().values[0] == False\nTrue",
         "hidden": false,
         "locked": false
        },
        {
         "code": ">>> (diffs == pd.DataFrame({'diff': diatoms.Age.sort_values().diff().loc[1:, ]})).all().all()\nTrue",
         "hidden": true,
         "locked": false
        }
       ],
       "scored": true,
       "setup": "",
       "teardown": "",
       "type": "doctest"
      }
     ]
    },
    "q5": {
     "name": "q5",
     "points": 1,
     "suites": [
      {
       "cases": [
        {
         "code": ">>> (diatom_summary.columns == [\"mean\", \"std\"]).all()\nTrue",
         "hidden": false,
         "locked": false
        },
        {
         "code": ">>> # checking the shape of the dataframe\n>>> diatom_summary.shape == (8,2)\nTrue",
         "hidden": false,
         "locked": false
        },
        {
         "code": ">>> (diatom_summary == diatoms.iloc[:, 2:10].aggregate(['mean', 'std']).transpose()).all().all()\nTrue",
         "hidden": true,
         "locked": false
        }
       ],
       "scored": true,
       "setup": "",
       "teardown": "",
       "type": "doctest"
      }
     ]
    },
    "q9": {
     "name": "q9",
     "points": 1,
     "suites": [
      {
       "cases": [
        {
         "code": ">>> # checking the shape of the correlation matrix (do not want Age or Depth to be a component of the matrix)\n>>> corr_mx.shape == (8,8)\nTrue",
         "hidden": false,
         "locked": false
        },
        {
         "code": ">>> # checking that the diagonals are 1s (the correlation between a variable and itself should be 1)\n>>> (np.diag(corr_mx) == np.ones(8)).all()\nTrue",
         "hidden": false,
         "locked": false
        },
        {
         "code": ">>> (corr_mx == diatoms.set_index(['Depth', 'Age']).corr()).all().all()\nTrue",
         "hidden": true,
         "locked": false
        },
        {
         "code": ">>> corr_mx_long.shape == (64,3)\nTrue",
         "hidden": false,
         "locked": false
        },
        {
         "code": ">>> (corr_mx_long.columns == ['row', 'col', 'Correlation']).all()\nTrue",
         "hidden": false,
         "locked": false
        },
        {
         "code": ">>> (corr_mx_long == corr_mx.reset_index().rename(columns = {'index': 'row'}).melt(id_vars = 'row', var_name = 'col', value_name = 'Correlation')).all().all()\nTrue",
         "hidden": true,
         "locked": false
        }
       ],
       "scored": true,
       "setup": "",
       "teardown": "",
       "type": "doctest"
      }
     ]
    }
   }
  }
 },
 "nbformat": 4,
 "nbformat_minor": 4
}
