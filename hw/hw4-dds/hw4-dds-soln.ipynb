{
 "cells": [
  {
   "cell_type": "code",
   "execution_count": null,
   "metadata": {
    "deletable": false,
    "editable": false
   },
   "outputs": [],
   "source": [
    "# Initialize Otter\n",
    "import otter\n",
    "grader = otter.Notebook(\"hw4-dds.ipynb\")"
   ]
  },
  {
   "cell_type": "code",
   "execution_count": 35,
   "metadata": {},
   "outputs": [
    {
     "data": {
      "text/plain": [
       "DataTransformerRegistry.enable('default')"
      ]
     },
     "execution_count": 35,
     "metadata": {},
     "output_type": "execute_result"
    }
   ],
   "source": [
    "import numpy as np\n",
    "import pandas as pd\n",
    "import altair as alt\n",
    "import statsmodels.api as sm\n",
    "# disable row limit for plotting\n",
    "alt.data_transformers.disable_max_rows()\n",
    "# uncomment to ensure graphics display with pdf export\n",
    "# alt.renderers.enable('mimetype')"
   ]
  },
  {
   "attachments": {},
   "cell_type": "markdown",
   "metadata": {},
   "source": [
    "## Background: California Department of Developmental Services\n",
    "\n",
    "From Taylor, S. A., & Mickel, A. E. (2014). Simpson's Paradox: A Data Set and Discrimination Case Study Exercise. Journal of Statistics Education, 22(1):\n",
    "\n",
    "> Most states in the USA provide services and support to individuals with developmental disabilities (e.g., intellectual disability, cerebral palsy, autism, etc.) and their families. The agency through which the State of California serves the developmentally-disabled population is the California Department of Developmental Services (DDS) ... One of the responsibilities of DDS is to allocate funds that support over 250,000 developmentally-disabled residents. A number of years ago, an allegation of discrimination was made and supported by a univariate analysis that examined average annual expenditures on consumers by ethnicity. The analysis revealed that the average annual expenditures on Hispanic consumers was approximately one-third of the average expenditures on White non-Hispanic consumers. This finding was the catalyst for further investigation; subsequently, state legislators and department managers sought consulting services from a statistician.\n",
    "\n",
    "In this assignment, you'll analyze the deidentified DDS data published with this article to answer the question: *is there evidence of ethnic or gender discrimination in allocation of DDS funds?* This will involve practicing the following:\n",
    "\n",
    "* exploratory data visualization\n",
    "* regression analysis\n",
    "* model visualization\n",
    "\n",
    "**Aside**: The JSE article focuses on what's known as [Simpson's paradox](https://en.wikipedia.org/wiki/Simpson%27s_paradox), an arithmetic phenomenon in which aggregate trends across multiple groups show the *opposite* of within-group trends. We won't emphasize this topic, though the data does provide a nice illustration."
   ]
  },
  {
   "attachments": {},
   "cell_type": "markdown",
   "metadata": {},
   "source": [
    "# DDS data\n",
    "\n",
    "The data for this assignment are already tidy, so in this section you'll just familiarize yourself with basic characteristics. The first few rows of the data are shown below:"
   ]
  },
  {
   "cell_type": "code",
   "execution_count": 36,
   "metadata": {},
   "outputs": [
    {
     "data": {
      "text/html": [
       "<div>\n",
       "<style scoped>\n",
       "    .dataframe tbody tr th:only-of-type {\n",
       "        vertical-align: middle;\n",
       "    }\n",
       "\n",
       "    .dataframe tbody tr th {\n",
       "        vertical-align: top;\n",
       "    }\n",
       "\n",
       "    .dataframe thead th {\n",
       "        text-align: right;\n",
       "    }\n",
       "</style>\n",
       "<table border=\"1\" class=\"dataframe\">\n",
       "  <thead>\n",
       "    <tr style=\"text-align: right;\">\n",
       "      <th></th>\n",
       "      <th>Id</th>\n",
       "      <th>Age Cohort</th>\n",
       "      <th>Age</th>\n",
       "      <th>Gender</th>\n",
       "      <th>Expenditures</th>\n",
       "      <th>Ethnicity</th>\n",
       "    </tr>\n",
       "  </thead>\n",
       "  <tbody>\n",
       "    <tr>\n",
       "      <th>0</th>\n",
       "      <td>10210</td>\n",
       "      <td>13 to 17</td>\n",
       "      <td>17</td>\n",
       "      <td>Female</td>\n",
       "      <td>2113</td>\n",
       "      <td>White not Hispanic</td>\n",
       "    </tr>\n",
       "    <tr>\n",
       "      <th>1</th>\n",
       "      <td>10409</td>\n",
       "      <td>22 to 50</td>\n",
       "      <td>37</td>\n",
       "      <td>Male</td>\n",
       "      <td>41924</td>\n",
       "      <td>White not Hispanic</td>\n",
       "    </tr>\n",
       "    <tr>\n",
       "      <th>2</th>\n",
       "      <td>10486</td>\n",
       "      <td>0 to 5</td>\n",
       "      <td>3</td>\n",
       "      <td>Male</td>\n",
       "      <td>1454</td>\n",
       "      <td>Hispanic</td>\n",
       "    </tr>\n",
       "    <tr>\n",
       "      <th>3</th>\n",
       "      <td>10538</td>\n",
       "      <td>18 to 21</td>\n",
       "      <td>19</td>\n",
       "      <td>Female</td>\n",
       "      <td>6400</td>\n",
       "      <td>Hispanic</td>\n",
       "    </tr>\n",
       "    <tr>\n",
       "      <th>4</th>\n",
       "      <td>10568</td>\n",
       "      <td>13 to 17</td>\n",
       "      <td>13</td>\n",
       "      <td>Male</td>\n",
       "      <td>4412</td>\n",
       "      <td>White not Hispanic</td>\n",
       "    </tr>\n",
       "  </tbody>\n",
       "</table>\n",
       "</div>"
      ],
      "text/plain": [
       "      Id Age Cohort  Age  Gender  Expenditures           Ethnicity\n",
       "0  10210   13 to 17   17  Female          2113  White not Hispanic\n",
       "1  10409   22 to 50   37    Male         41924  White not Hispanic\n",
       "2  10486     0 to 5    3    Male          1454            Hispanic\n",
       "3  10538   18 to 21   19  Female          6400            Hispanic\n",
       "4  10568   13 to 17   13    Male          4412  White not Hispanic"
      ]
     },
     "execution_count": 36,
     "metadata": {},
     "output_type": "execute_result"
    }
   ],
   "source": [
    "dds = pd.read_csv('data/california-dds.csv')\n",
    "dds.head()"
   ]
  },
  {
   "attachments": {},
   "cell_type": "markdown",
   "metadata": {},
   "source": [
    "Take a moment to open and read the data documentation (*data > california-dds-documentation.md*)."
   ]
  },
  {
   "attachments": {},
   "cell_type": "markdown",
   "metadata": {},
   "source": [
    "<!-- BEGIN QUESTION -->\n",
    "\n",
    "### Question 1: Data description\n",
    "\n",
    "Write a short paragraph answering the following questions based on the data documentation.\n",
    "\n",
    "* (i) Why were the data collected? What is the purpose of this dataset?\n",
    "* (ii) What are the observational units?\n",
    "* (iii) What is the population of interest?\n",
    "* (iv) How was the sample obtained (*e.g.* random sampling, adminsitrative data, convenience sampling, etc.)?\n",
    "* (v) Can inferences about the population be drawn from the sample?\n",
    "\n",
    "In addition, make a table summarizing the variables measured. Use the format below.\n",
    "\n",
    "Name | Variable description | Type | Units of measurement\n",
    "---|---|---|---\n",
    "ID | Unique consumer identifier | Numeric | None "
   ]
  },
  {
   "cell_type": "markdown",
   "metadata": {},
   "source": [
    "_Type your answer here, replacing this text._"
   ]
  },
  {
   "attachments": {},
   "cell_type": "markdown",
   "metadata": {
    "tags": [
     "otter_assign_solution_cell"
    ]
   },
   "source": [
    "**SOLUTION**\n",
    "\n",
    "The population of interest is all developmentally disabled residents in California recieving DDS support. A random sample of individuals were drawn from the population to ascertain whether there is systematic ethnic or other bias in allocating DDS benefits. Because the sample was drawn randomly, the data support inferences about the population. Variables measured are summarized below.\n",
    "\n",
    "Name | Variable description | Type | Units of measurement\n",
    "---|---|---|---\n",
    "ID | Unique consumer identifier | Numeric | None \n",
    "Age Cohort | Age Range of Person | String | Years \n",
    "Age | Age of Person | Numeric | Years\n",
    "Gender | Gender of Person | String | None\n",
    "Expenditures | DDS Funds Allocated for Person | Numeric | USD\n",
    "Ethnicity | Ethnicity of Person | String | None"
   ]
  },
  {
   "attachments": {},
   "cell_type": "markdown",
   "metadata": {},
   "source": [
    "<!-- END QUESTION -->\n",
    "\n",
    "# Exploratory analysis\n",
    "\n",
    "Here you'll use graphical and descriptive techniques to explore the allegation of discriminatory allocation of benefits."
   ]
  },
  {
   "attachments": {},
   "cell_type": "markdown",
   "metadata": {},
   "source": [
    "### Question 2: Alleged discrimination\n",
    "\n",
    "Construct a table of median expenditures by ethnicity that also shows the sample size for each ethnic group in the data.\n",
    "\n",
    "1. Slice the ethnicity and expenditure variables from `dds`, group by ethnicity, and calculate the median expenditure. Store the resulting dataframe as `median_expend_by_eth`.\n",
    "2. Compute the sample sizes for each ethnicity using `.value_counts()`: obtain a pandas series indexed by ethnicity with a single column named `n`. You'll need to use `.rename(...)` to avoid having the column named `Ethnicity`. Store this pandas series as `ethnicity_n`.\n",
    "3. Use `pd.concat(...)` to append the sample sizes in `ethnicity_n` to the median expenditures in `median_expend_by_eth`. Store the result as `tbl_1`.\n",
    "\n",
    "Print `tbl_1`. Does expenditure seem to differ by ethnicity? Does sample size?"
   ]
  },
  {
   "cell_type": "markdown",
   "metadata": {},
   "source": [
    "_Type your answer here, replacing this text._"
   ]
  },
  {
   "cell_type": "code",
   "execution_count": 37,
   "metadata": {
    "tags": [
     "otter_assign_solution_cell"
    ]
   },
   "outputs": [
    {
     "data": {
      "text/html": [
       "<div>\n",
       "<style scoped>\n",
       "    .dataframe tbody tr th:only-of-type {\n",
       "        vertical-align: middle;\n",
       "    }\n",
       "\n",
       "    .dataframe tbody tr th {\n",
       "        vertical-align: top;\n",
       "    }\n",
       "\n",
       "    .dataframe thead th {\n",
       "        text-align: right;\n",
       "    }\n",
       "</style>\n",
       "<table border=\"1\" class=\"dataframe\">\n",
       "  <thead>\n",
       "    <tr style=\"text-align: right;\">\n",
       "      <th></th>\n",
       "      <th>Expenditures</th>\n",
       "      <th>n</th>\n",
       "    </tr>\n",
       "  </thead>\n",
       "  <tbody>\n",
       "    <tr>\n",
       "      <th>American Indian</th>\n",
       "      <td>41817.5</td>\n",
       "      <td>4</td>\n",
       "    </tr>\n",
       "    <tr>\n",
       "      <th>Asian</th>\n",
       "      <td>9369.0</td>\n",
       "      <td>129</td>\n",
       "    </tr>\n",
       "    <tr>\n",
       "      <th>Black</th>\n",
       "      <td>8687.0</td>\n",
       "      <td>59</td>\n",
       "    </tr>\n",
       "    <tr>\n",
       "      <th>Hispanic</th>\n",
       "      <td>3952.0</td>\n",
       "      <td>376</td>\n",
       "    </tr>\n",
       "    <tr>\n",
       "      <th>Multi Race</th>\n",
       "      <td>2622.0</td>\n",
       "      <td>26</td>\n",
       "    </tr>\n",
       "    <tr>\n",
       "      <th>Native Hawaiian</th>\n",
       "      <td>40727.0</td>\n",
       "      <td>3</td>\n",
       "    </tr>\n",
       "    <tr>\n",
       "      <th>Other</th>\n",
       "      <td>3316.5</td>\n",
       "      <td>2</td>\n",
       "    </tr>\n",
       "    <tr>\n",
       "      <th>White not Hispanic</th>\n",
       "      <td>15718.0</td>\n",
       "      <td>401</td>\n",
       "    </tr>\n",
       "  </tbody>\n",
       "</table>\n",
       "</div>"
      ],
      "text/plain": [
       "                    Expenditures    n\n",
       "American Indian          41817.5    4\n",
       "Asian                     9369.0  129\n",
       "Black                     8687.0   59\n",
       "Hispanic                  3952.0  376\n",
       "Multi Race                2622.0   26\n",
       "Native Hawaiian          40727.0    3\n",
       "Other                     3316.5    2\n",
       "White not Hispanic       15718.0  401"
      ]
     },
     "execution_count": 37,
     "metadata": {},
     "output_type": "execute_result"
    }
   ],
   "source": [
    "# compute median expenditures\n",
    "median_expend_by_eth = dds.iloc[:, 4:6].groupby('Ethnicity').median() # SOLUTION\n",
    "\n",
    "# compute sample sizes\n",
    "ethnicity_n = dds.Ethnicity.value_counts().rename('n') # SOLUTION\n",
    "\n",
    "# concatenate\n",
    "tbl_1 = pd.concat([median_expend_by_eth, ethnicity_n], axis = 1) # SOLUTION\n",
    "\n",
    "# print\n",
    "tbl_1"
   ]
  },
  {
   "attachments": {},
   "cell_type": "markdown",
   "metadata": {
    "tags": [
     "otter_assign_solution_cell"
    ]
   },
   "source": [
    "**SOLUTION**\n",
    "\n",
    "Yes, median expenditure does seem to differ between groups -- for example, the median benifit amount allocated to hispanic people is less than half of the that allocated to black people and less than a third of that allocated to white non-hispanic people. The sample sizes differ considerably, ranging from 2 to 401."
   ]
  },
  {
   "cell_type": "code",
   "execution_count": null,
   "metadata": {
    "deletable": false,
    "editable": false
   },
   "outputs": [],
   "source": [
    "grader.check(\"q2\")"
   ]
  },
  {
   "attachments": {},
   "cell_type": "markdown",
   "metadata": {},
   "source": [
    "<!-- BEGIN QUESTION -->\n",
    "\n",
    "### Question 3: Plot median expenditures\n",
    "\n",
    "Construct a point-and-line plot of median expenditure (y) against ethnicity (x), with:\n",
    "* ethnicities sorted by descending median expenditure;\n",
    "* the median expenditure axis shown on the log scale;\n",
    "* the y-axis labeled 'Median expenditure'; and \n",
    "* no x-axis label (since the ethnicity group names are used to label the axis ticks, the label 'Ethnicity' is redundant). \n",
    "\n",
    "Store the result as `fig_1` and display the plot.\n",
    "\n",
    "*Hints*:\n",
    "* you'll need to use `tbl_1.reset_index()` to obtain the ethnicity group as a variable;\n",
    "* recall that `.mark_line(point = True)` will add points to a line plot; \n",
    "* sorting can be done using `alt.X(..., sort = alt.EncodingSortField(field = ..., order = ...))`"
   ]
  },
  {
   "cell_type": "code",
   "execution_count": 43,
   "metadata": {
    "tags": [
     "otter_assign_solution_cell"
    ]
   },
   "outputs": [
    {
     "data": {
      "text/html": [
       "\n",
       "<div id=\"altair-viz-6544f93d6f274cceacf135e636104629\"></div>\n",
       "<script type=\"text/javascript\">\n",
       "  var VEGA_DEBUG = (typeof VEGA_DEBUG == \"undefined\") ? {} : VEGA_DEBUG;\n",
       "  (function(spec, embedOpt){\n",
       "    let outputDiv = document.currentScript.previousElementSibling;\n",
       "    if (outputDiv.id !== \"altair-viz-6544f93d6f274cceacf135e636104629\") {\n",
       "      outputDiv = document.getElementById(\"altair-viz-6544f93d6f274cceacf135e636104629\");\n",
       "    }\n",
       "    const paths = {\n",
       "      \"vega\": \"https://cdn.jsdelivr.net/npm//vega@5?noext\",\n",
       "      \"vega-lib\": \"https://cdn.jsdelivr.net/npm//vega-lib?noext\",\n",
       "      \"vega-lite\": \"https://cdn.jsdelivr.net/npm//vega-lite@4.17.0?noext\",\n",
       "      \"vega-embed\": \"https://cdn.jsdelivr.net/npm//vega-embed@6?noext\",\n",
       "    };\n",
       "\n",
       "    function maybeLoadScript(lib, version) {\n",
       "      var key = `${lib.replace(\"-\", \"\")}_version`;\n",
       "      return (VEGA_DEBUG[key] == version) ?\n",
       "        Promise.resolve(paths[lib]) :\n",
       "        new Promise(function(resolve, reject) {\n",
       "          var s = document.createElement('script');\n",
       "          document.getElementsByTagName(\"head\")[0].appendChild(s);\n",
       "          s.async = true;\n",
       "          s.onload = () => {\n",
       "            VEGA_DEBUG[key] = version;\n",
       "            return resolve(paths[lib]);\n",
       "          };\n",
       "          s.onerror = () => reject(`Error loading script: ${paths[lib]}`);\n",
       "          s.src = paths[lib];\n",
       "        });\n",
       "    }\n",
       "\n",
       "    function showError(err) {\n",
       "      outputDiv.innerHTML = `<div class=\"error\" style=\"color:red;\">${err}</div>`;\n",
       "      throw err;\n",
       "    }\n",
       "\n",
       "    function displayChart(vegaEmbed) {\n",
       "      vegaEmbed(outputDiv, spec, embedOpt)\n",
       "        .catch(err => showError(`Javascript Error: ${err.message}<br>This usually means there's a typo in your chart specification. See the javascript console for the full traceback.`));\n",
       "    }\n",
       "\n",
       "    if(typeof define === \"function\" && define.amd) {\n",
       "      requirejs.config({paths});\n",
       "      require([\"vega-embed\"], displayChart, err => showError(`Error loading script: ${err.message}`));\n",
       "    } else {\n",
       "      maybeLoadScript(\"vega\", \"5\")\n",
       "        .then(() => maybeLoadScript(\"vega-lite\", \"4.17.0\"))\n",
       "        .then(() => maybeLoadScript(\"vega-embed\", \"6\"))\n",
       "        .catch(showError)\n",
       "        .then(() => displayChart(vegaEmbed));\n",
       "    }\n",
       "  })({\"config\": {\"view\": {\"continuousWidth\": 400, \"continuousHeight\": 300}}, \"data\": {\"name\": \"data-d3a3ab1d81456236ce0df0df980639d4\"}, \"mark\": {\"type\": \"line\", \"point\": true}, \"encoding\": {\"x\": {\"field\": \"index\", \"sort\": {\"field\": \"Expenditures\", \"order\": \"descending\"}, \"title\": \"\", \"type\": \"nominal\"}, \"y\": {\"field\": \"Expenditures\", \"scale\": {\"type\": \"log\"}, \"title\": \"Median expenditure\", \"type\": \"quantitative\"}}, \"$schema\": \"https://vega.github.io/schema/vega-lite/v4.17.0.json\", \"datasets\": {\"data-d3a3ab1d81456236ce0df0df980639d4\": [{\"index\": \"American Indian\", \"Expenditures\": 41817.5, \"n\": 4}, {\"index\": \"Asian\", \"Expenditures\": 9369.0, \"n\": 129}, {\"index\": \"Black\", \"Expenditures\": 8687.0, \"n\": 59}, {\"index\": \"Hispanic\", \"Expenditures\": 3952.0, \"n\": 376}, {\"index\": \"Multi Race\", \"Expenditures\": 2622.0, \"n\": 26}, {\"index\": \"Native Hawaiian\", \"Expenditures\": 40727.0, \"n\": 3}, {\"index\": \"Other\", \"Expenditures\": 3316.5, \"n\": 2}, {\"index\": \"White not Hispanic\", \"Expenditures\": 15718.0, \"n\": 401}]}}, {\"mode\": \"vega-lite\"});\n",
       "</script>"
      ],
      "text/plain": [
       "alt.Chart(...)"
      ]
     },
     "execution_count": 43,
     "metadata": {},
     "output_type": "execute_result"
    }
   ],
   "source": [
    "# BEGIN SOLUTION\n",
    "fig_1 = alt.Chart(\n",
    "    tbl_1.reset_index()\n",
    ").mark_line(\n",
    "    point = True\n",
    ").encode(\n",
    "    x = alt.X(\n",
    "        'index', \n",
    "        title = '',\n",
    "        sort = alt.EncodingSortField(field = 'Expenditures', \n",
    "                                     order = 'descending')\n",
    "    ),\n",
    "    y = alt.Y(\n",
    "        'Expenditures', \n",
    "        title = 'Median expenditure', \n",
    "        scale = alt.Scale(type = 'log'))\n",
    ")\n",
    "\n",
    "# display\n",
    "fig_1\n",
    "# END SOLUTION\n"
   ]
  },
  {
   "attachments": {},
   "cell_type": "markdown",
   "metadata": {},
   "source": [
    "<!-- END QUESTION -->\n",
    "\n",
    "<!-- BEGIN QUESTION -->\n",
    "\n",
    "### Question 4: Age and expenditure\n",
    "\n",
    "How does expenditure differ by age? Construct a scatterplot of expenditure against age. Store the plot as `fig_2`. In one or two sentences, comment on the plot -- what is the main pattern it reveals?"
   ]
  },
  {
   "cell_type": "markdown",
   "metadata": {},
   "source": [
    "_Type your answer here, replacing this text._"
   ]
  },
  {
   "cell_type": "code",
   "execution_count": 44,
   "metadata": {
    "tags": [
     "otter_assign_solution_cell"
    ]
   },
   "outputs": [
    {
     "data": {
      "text/html": [
       "\n",
       "<div id=\"altair-viz-7d1b7ebbb12f454da6120da1deecc58e\"></div>\n",
       "<script type=\"text/javascript\">\n",
       "  var VEGA_DEBUG = (typeof VEGA_DEBUG == \"undefined\") ? {} : VEGA_DEBUG;\n",
       "  (function(spec, embedOpt){\n",
       "    let outputDiv = document.currentScript.previousElementSibling;\n",
       "    if (outputDiv.id !== \"altair-viz-7d1b7ebbb12f454da6120da1deecc58e\") {\n",
       "      outputDiv = document.getElementById(\"altair-viz-7d1b7ebbb12f454da6120da1deecc58e\");\n",
       "    }\n",
       "    const paths = {\n",
       "      \"vega\": \"https://cdn.jsdelivr.net/npm//vega@5?noext\",\n",
       "      \"vega-lib\": \"https://cdn.jsdelivr.net/npm//vega-lib?noext\",\n",
       "      \"vega-lite\": \"https://cdn.jsdelivr.net/npm//vega-lite@4.17.0?noext\",\n",
       "      \"vega-embed\": \"https://cdn.jsdelivr.net/npm//vega-embed@6?noext\",\n",
       "    };\n",
       "\n",
       "    function maybeLoadScript(lib, version) {\n",
       "      var key = `${lib.replace(\"-\", \"\")}_version`;\n",
       "      return (VEGA_DEBUG[key] == version) ?\n",
       "        Promise.resolve(paths[lib]) :\n",
       "        new Promise(function(resolve, reject) {\n",
       "          var s = document.createElement('script');\n",
       "          document.getElementsByTagName(\"head\")[0].appendChild(s);\n",
       "          s.async = true;\n",
       "          s.onload = () => {\n",
       "            VEGA_DEBUG[key] = version;\n",
       "            return resolve(paths[lib]);\n",
       "          };\n",
       "          s.onerror = () => reject(`Error loading script: ${paths[lib]}`);\n",
       "          s.src = paths[lib];\n",
       "        });\n",
       "    }\n",
       "\n",
       "    function showError(err) {\n",
       "      outputDiv.innerHTML = `<div class=\"error\" style=\"color:red;\">${err}</div>`;\n",
       "      throw err;\n",
       "    }\n",
       "\n",
       "    function displayChart(vegaEmbed) {\n",
       "      vegaEmbed(outputDiv, spec, embedOpt)\n",
       "        .catch(err => showError(`Javascript Error: ${err.message}<br>This usually means there's a typo in your chart specification. See the javascript console for the full traceback.`));\n",
       "    }\n",
       "\n",
       "    if(typeof define === \"function\" && define.amd) {\n",
       "      requirejs.config({paths});\n",
       "      require([\"vega-embed\"], displayChart, err => showError(`Error loading script: ${err.message}`));\n",
       "    } else {\n",
       "      maybeLoadScript(\"vega\", \"5\")\n",
       "        .then(() => maybeLoadScript(\"vega-lite\", \"4.17.0\"))\n",
       "        .then(() => maybeLoadScript(\"vega-embed\", \"6\"))\n",
       "        .catch(showError)\n",
       "        .then(() => displayChart(vegaEmbed));\n",
       "    }\n",
       "  })({\"config\": {\"view\": {\"continuousWidth\": 400, \"continuousHeight\": 300}}, \"data\": {\"name\": \"data-8c6c61eb9cd91c6013030cd10b8e93ea\"}, \"mark\": \"point\", \"encoding\": {\"x\": {\"field\": \"Age\", \"type\": \"quantitative\"}, \"y\": {\"field\": \"Expenditures\", \"scale\": {\"type\": \"log\"}, \"type\": \"quantitative\"}}, \"$schema\": \"https://vega.github.io/schema/vega-lite/v4.17.0.json\", \"datasets\": {\"data-8c6c61eb9cd91c6013030cd10b8e93ea\": [{\"Id\": 10210, \"Age Cohort\": \"13 to 17\", \"Age\": 17, \"Gender\": \"Female\", \"Expenditures\": 2113, \"Ethnicity\": \"White not Hispanic\"}, {\"Id\": 10409, \"Age Cohort\": \"22 to 50\", \"Age\": 37, \"Gender\": \"Male\", \"Expenditures\": 41924, \"Ethnicity\": \"White not Hispanic\"}, {\"Id\": 10486, \"Age Cohort\": \"0 to 5\", \"Age\": 3, \"Gender\": \"Male\", \"Expenditures\": 1454, \"Ethnicity\": \"Hispanic\"}, {\"Id\": 10538, \"Age Cohort\": \"18 to 21\", \"Age\": 19, \"Gender\": \"Female\", \"Expenditures\": 6400, \"Ethnicity\": \"Hispanic\"}, {\"Id\": 10568, \"Age Cohort\": \"13 to 17\", \"Age\": 13, \"Gender\": \"Male\", \"Expenditures\": 4412, \"Ethnicity\": \"White not Hispanic\"}, {\"Id\": 10690, \"Age Cohort\": \"13 to 17\", \"Age\": 15, \"Gender\": \"Female\", \"Expenditures\": 4566, \"Ethnicity\": \"Hispanic\"}, {\"Id\": 10711, \"Age Cohort\": \"13 to 17\", \"Age\": 13, \"Gender\": \"Female\", \"Expenditures\": 3915, \"Ethnicity\": \"White not Hispanic\"}, {\"Id\": 10778, \"Age Cohort\": \"13 to 17\", \"Age\": 17, \"Gender\": \"Male\", \"Expenditures\": 3873, \"Ethnicity\": \"Black\"}, {\"Id\": 10820, \"Age Cohort\": \"13 to 17\", \"Age\": 14, \"Gender\": \"Female\", \"Expenditures\": 5021, \"Ethnicity\": \"White not Hispanic\"}, {\"Id\": 10823, \"Age Cohort\": \"13 to 17\", \"Age\": 13, \"Gender\": \"Male\", \"Expenditures\": 2887, \"Ethnicity\": \"Hispanic\"}, {\"Id\": 11000, \"Age Cohort\": \"13 to 17\", \"Age\": 13, \"Gender\": \"Female\", \"Expenditures\": 4154, \"Ethnicity\": \"White not Hispanic\"}, {\"Id\": 11024, \"Age Cohort\": \"13 to 17\", \"Age\": 14, \"Gender\": \"Male\", \"Expenditures\": 3048, \"Ethnicity\": \"Hispanic\"}, {\"Id\": 11115, \"Age Cohort\": \"13 to 17\", \"Age\": 15, \"Gender\": \"Female\", \"Expenditures\": 2757, \"Ethnicity\": \"White not Hispanic\"}, {\"Id\": 11189, \"Age Cohort\": \"13 to 17\", \"Age\": 17, \"Gender\": \"Male\", \"Expenditures\": 5340, \"Ethnicity\": \"Multi Race\"}, {\"Id\": 11201, \"Age Cohort\": \"18 to 21\", \"Age\": 20, \"Gender\": \"Male\", \"Expenditures\": 10047, \"Ethnicity\": \"Hispanic\"}, {\"Id\": 11210, \"Age Cohort\": \"22 to 50\", \"Age\": 25, \"Gender\": \"Female\", \"Expenditures\": 34795, \"Ethnicity\": \"Black\"}, {\"Id\": 11379, \"Age Cohort\": \"22 to 50\", \"Age\": 23, \"Gender\": \"Female\", \"Expenditures\": 43025, \"Ethnicity\": \"White not Hispanic\"}, {\"Id\": 11380, \"Age Cohort\": \"22 to 50\", \"Age\": 41, \"Gender\": \"Male\", \"Expenditures\": 54115, \"Ethnicity\": \"Asian\"}, {\"Id\": 11441, \"Age Cohort\": \"0 to 5\", \"Age\": 5, \"Gender\": \"Female\", \"Expenditures\": 1748, \"Ethnicity\": \"Hispanic\"}, {\"Id\": 11466, \"Age Cohort\": \"13 to 17\", \"Age\": 15, \"Gender\": \"Female\", \"Expenditures\": 4515, \"Ethnicity\": \"Hispanic\"}, {\"Id\": 11812, \"Age Cohort\": \"0 to 5\", \"Age\": 5, \"Gender\": \"Male\", \"Expenditures\": 1861, \"Ethnicity\": \"Hispanic\"}, {\"Id\": 11842, \"Age Cohort\": \"0 to 5\", \"Age\": 5, \"Gender\": \"Male\", \"Expenditures\": 1598, \"Ethnicity\": \"Hispanic\"}, {\"Id\": 11922, \"Age Cohort\": \"22 to 50\", \"Age\": 22, \"Gender\": \"Female\", \"Expenditures\": 46571, \"Ethnicity\": \"Hispanic\"}, {\"Id\": 11935, \"Age Cohort\": \"0 to 5\", \"Age\": 3, \"Gender\": \"Male\", \"Expenditures\": 1066, \"Ethnicity\": \"Hispanic\"}, {\"Id\": 12127, \"Age Cohort\": \"13 to 17\", \"Age\": 16, \"Gender\": \"Female\", \"Expenditures\": 3867, \"Ethnicity\": \"Black\"}, {\"Id\": 12137, \"Age Cohort\": \"51+\", \"Age\": 71, \"Gender\": \"Female\", \"Expenditures\": 57928, \"Ethnicity\": \"White not Hispanic\"}, {\"Id\": 12207, \"Age Cohort\": \"13 to 17\", \"Age\": 13, \"Gender\": \"Female\", \"Expenditures\": 4002, \"Ethnicity\": \"White not Hispanic\"}, {\"Id\": 12530, \"Age Cohort\": \"18 to 21\", \"Age\": 18, \"Gender\": \"Female\", \"Expenditures\": 10434, \"Ethnicity\": \"Asian\"}, {\"Id\": 12589, \"Age Cohort\": \"51+\", \"Age\": 63, \"Gender\": \"Female\", \"Expenditures\": 56134, \"Ethnicity\": \"White not Hispanic\"}, {\"Id\": 12834, \"Age Cohort\": \"0 to 5\", \"Age\": 1, \"Gender\": \"Male\", \"Expenditures\": 1070, \"Ethnicity\": \"White not Hispanic\"}, {\"Id\": 12850, \"Age Cohort\": \"13 to 17\", \"Age\": 13, \"Gender\": \"Male\", \"Expenditures\": 3775, \"Ethnicity\": \"Multi Race\"}, {\"Id\": 12990, \"Age Cohort\": \"22 to 50\", \"Age\": 27, \"Gender\": \"Female\", \"Expenditures\": 35284, \"Ethnicity\": \"White not Hispanic\"}, {\"Id\": 13119, \"Age Cohort\": \"18 to 21\", \"Age\": 21, \"Gender\": \"Male\", \"Expenditures\": 7219, \"Ethnicity\": \"White not Hispanic\"}, {\"Id\": 13120, \"Age Cohort\": \"13 to 17\", \"Age\": 14, \"Gender\": \"Male\", \"Expenditures\": 4681, \"Ethnicity\": \"White not Hispanic\"}, {\"Id\": 13195, \"Age Cohort\": \"13 to 17\", \"Age\": 15, \"Gender\": \"Female\", \"Expenditures\": 4629, \"Ethnicity\": \"Asian\"}, {\"Id\": 13621, \"Age Cohort\": \"0 to 5\", \"Age\": 3, \"Gender\": \"Female\", \"Expenditures\": 2750, \"Ethnicity\": \"White not Hispanic\"}, {\"Id\": 13692, \"Age Cohort\": \"13 to 17\", \"Age\": 15, \"Gender\": \"Female\", \"Expenditures\": 3392, \"Ethnicity\": \"Asian\"}, {\"Id\": 13722, \"Age Cohort\": \"13 to 17\", \"Age\": 14, \"Gender\": \"Male\", \"Expenditures\": 5696, \"Ethnicity\": \"Black\"}, {\"Id\": 13826, \"Age Cohort\": \"22 to 50\", \"Age\": 30, \"Gender\": \"Female\", \"Expenditures\": 46660, \"Ethnicity\": \"White not Hispanic\"}, {\"Id\": 14233, \"Age Cohort\": \"6 to 12\", \"Age\": 6, \"Gender\": \"Female\", \"Expenditures\": 2354, \"Ethnicity\": \"Hispanic\"}, {\"Id\": 14367, \"Age Cohort\": \"22 to 50\", \"Age\": 33, \"Gender\": \"Male\", \"Expenditures\": 40781, \"Ethnicity\": \"White not Hispanic\"}, {\"Id\": 14427, \"Age Cohort\": \"6 to 12\", \"Age\": 10, \"Gender\": \"Female\", \"Expenditures\": 2559, \"Ethnicity\": \"Black\"}, {\"Id\": 14520, \"Age Cohort\": \"22 to 50\", \"Age\": 25, \"Gender\": \"Female\", \"Expenditures\": 36428, \"Ethnicity\": \"White not Hispanic\"}, {\"Id\": 14523, \"Age Cohort\": \"0 to 5\", \"Age\": 3, \"Gender\": \"Male\", \"Expenditures\": 674, \"Ethnicity\": \"Hispanic\"}, {\"Id\": 14648, \"Age Cohort\": \"22 to 50\", \"Age\": 26, \"Gender\": \"Male\", \"Expenditures\": 39844, \"Ethnicity\": \"Asian\"}, {\"Id\": 14653, \"Age Cohort\": \"13 to 17\", \"Age\": 17, \"Gender\": \"Male\", \"Expenditures\": 4046, \"Ethnicity\": \"White not Hispanic\"}, {\"Id\": 14665, \"Age Cohort\": \"22 to 50\", \"Age\": 33, \"Gender\": \"Male\", \"Expenditures\": 36184, \"Ethnicity\": \"White not Hispanic\"}, {\"Id\": 14845, \"Age Cohort\": \"13 to 17\", \"Age\": 16, \"Gender\": \"Male\", \"Expenditures\": 4968, \"Ethnicity\": \"Hispanic\"}, {\"Id\": 15034, \"Age Cohort\": \"22 to 50\", \"Age\": 24, \"Gender\": \"Male\", \"Expenditures\": 36901, \"Ethnicity\": \"White not Hispanic\"}, {\"Id\": 15060, \"Age Cohort\": \"51+\", \"Age\": 63, \"Gender\": \"Female\", \"Expenditures\": 50419, \"Ethnicity\": \"White not Hispanic\"}, {\"Id\": 15111, \"Age Cohort\": \"0 to 5\", \"Age\": 1, \"Gender\": \"Female\", \"Expenditures\": 340, \"Ethnicity\": \"White not Hispanic\"}, {\"Id\": 15205, \"Age Cohort\": \"22 to 50\", \"Age\": 24, \"Gender\": \"Female\", \"Expenditures\": 42192, \"Ethnicity\": \"Black\"}, {\"Id\": 15366, \"Age Cohort\": \"51+\", \"Age\": 75, \"Gender\": \"Female\", \"Expenditures\": 49239, \"Ethnicity\": \"White not Hispanic\"}, {\"Id\": 15422, \"Age Cohort\": \"22 to 50\", \"Age\": 27, \"Gender\": \"Male\", \"Expenditures\": 36057, \"Ethnicity\": \"White not Hispanic\"}, {\"Id\": 15448, \"Age Cohort\": \"6 to 12\", \"Age\": 8, \"Gender\": \"Female\", \"Expenditures\": 2895, \"Ethnicity\": \"Hispanic\"}, {\"Id\": 15487, \"Age Cohort\": \"22 to 50\", \"Age\": 24, \"Gender\": \"Male\", \"Expenditures\": 31512, \"Ethnicity\": \"White not Hispanic\"}, {\"Id\": 15778, \"Age Cohort\": \"6 to 12\", \"Age\": 10, \"Gender\": \"Female\", \"Expenditures\": 1915, \"Ethnicity\": \"Hispanic\"}, {\"Id\": 15801, \"Age Cohort\": \"13 to 17\", \"Age\": 16, \"Gender\": \"Male\", \"Expenditures\": 4091, \"Ethnicity\": \"Hispanic\"}, {\"Id\": 15888, \"Age Cohort\": \"13 to 17\", \"Age\": 13, \"Gender\": \"Male\", \"Expenditures\": 4798, \"Ethnicity\": \"Hispanic\"}, {\"Id\": 15970, \"Age Cohort\": \"51+\", \"Age\": 51, \"Gender\": \"Female\", \"Expenditures\": 54267, \"Ethnicity\": \"White not Hispanic\"}, {\"Id\": 16048, \"Age Cohort\": \"6 to 12\", \"Age\": 6, \"Gender\": \"Female\", \"Expenditures\": 1783, \"Ethnicity\": \"Asian\"}, {\"Id\": 16052, \"Age Cohort\": \"13 to 17\", \"Age\": 16, \"Gender\": \"Female\", \"Expenditures\": 3212, \"Ethnicity\": \"Hispanic\"}, {\"Id\": 16306, \"Age Cohort\": \"13 to 17\", \"Age\": 15, \"Gender\": \"Female\", \"Expenditures\": 2029, \"Ethnicity\": \"White not Hispanic\"}, {\"Id\": 16440, \"Age Cohort\": \"22 to 50\", \"Age\": 22, \"Gender\": \"Male\", \"Expenditures\": 37727, \"Ethnicity\": \"White not Hispanic\"}, {\"Id\": 16515, \"Age Cohort\": \"18 to 21\", \"Age\": 20, \"Gender\": \"Male\", \"Expenditures\": 11998, \"Ethnicity\": \"Hispanic\"}, {\"Id\": 16525, \"Age Cohort\": \"22 to 50\", \"Age\": 45, \"Gender\": \"Male\", \"Expenditures\": 50304, \"Ethnicity\": \"Hispanic\"}, {\"Id\": 16981, \"Age Cohort\": \"0 to 5\", \"Age\": 5, \"Gender\": \"Female\", \"Expenditures\": 1130, \"Ethnicity\": \"Hispanic\"}, {\"Id\": 17191, \"Age Cohort\": \"22 to 50\", \"Age\": 24, \"Gender\": \"Female\", \"Expenditures\": 45412, \"Ethnicity\": \"White not Hispanic\"}, {\"Id\": 17276, \"Age Cohort\": \"22 to 50\", \"Age\": 32, \"Gender\": \"Male\", \"Expenditures\": 38310, \"Ethnicity\": \"Hispanic\"}, {\"Id\": 17354, \"Age Cohort\": \"13 to 17\", \"Age\": 13, \"Gender\": \"Female\", \"Expenditures\": 3638, \"Ethnicity\": \"Hispanic\"}, {\"Id\": 17361, \"Age Cohort\": \"51+\", \"Age\": 74, \"Gender\": \"Female\", \"Expenditures\": 54616, \"Ethnicity\": \"Asian\"}, {\"Id\": 17456, \"Age Cohort\": \"22 to 50\", \"Age\": 26, \"Gender\": \"Female\", \"Expenditures\": 30504, \"Ethnicity\": \"Asian\"}, {\"Id\": 17604, \"Age Cohort\": \"18 to 21\", \"Age\": 19, \"Gender\": \"Male\", \"Expenditures\": 7621, \"Ethnicity\": \"Hispanic\"}, {\"Id\": 17605, \"Age Cohort\": \"18 to 21\", \"Age\": 18, \"Gender\": \"Male\", \"Expenditures\": 13677, \"Ethnicity\": \"White not Hispanic\"}, {\"Id\": 17744, \"Age Cohort\": \"6 to 12\", \"Age\": 6, \"Gender\": \"Female\", \"Expenditures\": 1423, \"Ethnicity\": \"Hispanic\"}, {\"Id\": 17799, \"Age Cohort\": \"13 to 17\", \"Age\": 17, \"Gender\": \"Female\", \"Expenditures\": 4395, \"Ethnicity\": \"Hispanic\"}, {\"Id\": 18015, \"Age Cohort\": \"22 to 50\", \"Age\": 29, \"Gender\": \"Male\", \"Expenditures\": 38236, \"Ethnicity\": \"White not Hispanic\"}, {\"Id\": 18057, \"Age Cohort\": \"13 to 17\", \"Age\": 17, \"Gender\": \"Male\", \"Expenditures\": 6798, \"Ethnicity\": \"White not Hispanic\"}, {\"Id\": 18080, \"Age Cohort\": \"13 to 17\", \"Age\": 13, \"Gender\": \"Female\", \"Expenditures\": 4052, \"Ethnicity\": \"White not Hispanic\"}, {\"Id\": 18095, \"Age Cohort\": \"22 to 50\", \"Age\": 48, \"Gender\": \"Female\", \"Expenditures\": 49424, \"Ethnicity\": \"White not Hispanic\"}, {\"Id\": 18127, \"Age Cohort\": \"22 to 50\", \"Age\": 34, \"Gender\": \"Female\", \"Expenditures\": 39521, \"Ethnicity\": \"Hispanic\"}, {\"Id\": 18223, \"Age Cohort\": \"6 to 12\", \"Age\": 9, \"Gender\": \"Female\", \"Expenditures\": 2471, \"Ethnicity\": \"Asian\"}, {\"Id\": 18262, \"Age Cohort\": \"18 to 21\", \"Age\": 18, \"Gender\": \"Male\", \"Expenditures\": 15018, \"Ethnicity\": \"Hispanic\"}, {\"Id\": 18313, \"Age Cohort\": \"13 to 17\", \"Age\": 16, \"Gender\": \"Male\", \"Expenditures\": 2924, \"Ethnicity\": \"White not Hispanic\"}, {\"Id\": 18383, \"Age Cohort\": \"0 to 5\", \"Age\": 0, \"Gender\": \"Male\", \"Expenditures\": 1149, \"Ethnicity\": \"Multi Race\"}, {\"Id\": 18421, \"Age Cohort\": \"13 to 17\", \"Age\": 15, \"Gender\": \"Female\", \"Expenditures\": 4525, \"Ethnicity\": \"Hispanic\"}, {\"Id\": 18482, \"Age Cohort\": \"13 to 17\", \"Age\": 16, \"Gender\": \"Male\", \"Expenditures\": 3796, \"Ethnicity\": \"Hispanic\"}, {\"Id\": 18492, \"Age Cohort\": \"18 to 21\", \"Age\": 18, \"Gender\": \"Female\", \"Expenditures\": 8730, \"Ethnicity\": \"Black\"}, {\"Id\": 18655, \"Age Cohort\": \"22 to 50\", \"Age\": 28, \"Gender\": \"Male\", \"Expenditures\": 37247, \"Ethnicity\": \"Black\"}, {\"Id\": 18656, \"Age Cohort\": \"22 to 50\", \"Age\": 28, \"Gender\": \"Female\", \"Expenditures\": 31027, \"Ethnicity\": \"White not Hispanic\"}, {\"Id\": 18671, \"Age Cohort\": \"22 to 50\", \"Age\": 22, \"Gender\": \"Male\", \"Expenditures\": 27364, \"Ethnicity\": \"White not Hispanic\"}, {\"Id\": 18749, \"Age Cohort\": \"22 to 50\", \"Age\": 27, \"Gender\": \"Female\", \"Expenditures\": 30998, \"Ethnicity\": \"White not Hispanic\"}, {\"Id\": 18867, \"Age Cohort\": \"51+\", \"Age\": 66, \"Gender\": \"Female\", \"Expenditures\": 49851, \"Ethnicity\": \"Asian\"}, {\"Id\": 18894, \"Age Cohort\": \"0 to 5\", \"Age\": 3, \"Gender\": \"Male\", \"Expenditures\": 1057, \"Ethnicity\": \"White not Hispanic\"}, {\"Id\": 19107, \"Age Cohort\": \"22 to 50\", \"Age\": 22, \"Gender\": \"Male\", \"Expenditures\": 42623, \"Ethnicity\": \"White not Hispanic\"}, {\"Id\": 19147, \"Age Cohort\": \"0 to 5\", \"Age\": 1, \"Gender\": \"Male\", \"Expenditures\": 1363, \"Ethnicity\": \"Hispanic\"}, {\"Id\": 19148, \"Age Cohort\": \"13 to 17\", \"Age\": 13, \"Gender\": \"Female\", \"Expenditures\": 5324, \"Ethnicity\": \"Black\"}, {\"Id\": 19228, \"Age Cohort\": \"22 to 50\", \"Age\": 22, \"Gender\": \"Male\", \"Expenditures\": 46513, \"Ethnicity\": \"Black\"}, {\"Id\": 19247, \"Age Cohort\": \"13 to 17\", \"Age\": 15, \"Gender\": \"Female\", \"Expenditures\": 2521, \"Ethnicity\": \"White not Hispanic\"}, {\"Id\": 19250, \"Age Cohort\": \"51+\", \"Age\": 94, \"Gender\": \"Female\", \"Expenditures\": 60871, \"Ethnicity\": \"Hispanic\"}, {\"Id\": 19251, \"Age Cohort\": \"22 to 50\", \"Age\": 41, \"Gender\": \"Female\", \"Expenditures\": 42139, \"Ethnicity\": \"White not Hispanic\"}, {\"Id\": 19290, \"Age Cohort\": \"0 to 5\", \"Age\": 5, \"Gender\": \"Male\", \"Expenditures\": 1713, \"Ethnicity\": \"Hispanic\"}, {\"Id\": 19373, \"Age Cohort\": \"6 to 12\", \"Age\": 6, \"Gender\": \"Female\", \"Expenditures\": 1814, \"Ethnicity\": \"Asian\"}, {\"Id\": 19412, \"Age Cohort\": \"51+\", \"Age\": 60, \"Gender\": \"Female\", \"Expenditures\": 57702, \"Ethnicity\": \"White not Hispanic\"}, {\"Id\": 19510, \"Age Cohort\": \"22 to 50\", \"Age\": 23, \"Gender\": \"Female\", \"Expenditures\": 36607, \"Ethnicity\": \"White not Hispanic\"}, {\"Id\": 19517, \"Age Cohort\": \"22 to 50\", \"Age\": 36, \"Gender\": \"Male\", \"Expenditures\": 29144, \"Ethnicity\": \"White not Hispanic\"}, {\"Id\": 19571, \"Age Cohort\": \"18 to 21\", \"Age\": 21, \"Gender\": \"Female\", \"Expenditures\": 7193, \"Ethnicity\": \"White not Hispanic\"}, {\"Id\": 19661, \"Age Cohort\": \"22 to 50\", \"Age\": 23, \"Gender\": \"Female\", \"Expenditures\": 49028, \"Ethnicity\": \"Hispanic\"}, {\"Id\": 19662, \"Age Cohort\": \"51+\", \"Age\": 80, \"Gender\": \"Female\", \"Expenditures\": 54309, \"Ethnicity\": \"White not Hispanic\"}, {\"Id\": 19663, \"Age Cohort\": \"6 to 12\", \"Age\": 6, \"Gender\": \"Female\", \"Expenditures\": 987, \"Ethnicity\": \"White not Hispanic\"}, {\"Id\": 19825, \"Age Cohort\": \"22 to 50\", \"Age\": 25, \"Gender\": \"Female\", \"Expenditures\": 41107, \"Ethnicity\": \"White not Hispanic\"}, {\"Id\": 19917, \"Age Cohort\": \"0 to 5\", \"Age\": 0, \"Gender\": \"Male\", \"Expenditures\": 904, \"Ethnicity\": \"White not Hispanic\"}, {\"Id\": 20057, \"Age Cohort\": \"51+\", \"Age\": 65, \"Gender\": \"Female\", \"Expenditures\": 56752, \"Ethnicity\": \"White not Hispanic\"}, {\"Id\": 20073, \"Age Cohort\": \"0 to 5\", \"Age\": 4, \"Gender\": \"Female\", \"Expenditures\": 1977, \"Ethnicity\": \"Hispanic\"}, {\"Id\": 20380, \"Age Cohort\": \"6 to 12\", \"Age\": 12, \"Gender\": \"Female\", \"Expenditures\": 3450, \"Ethnicity\": \"Hispanic\"}, {\"Id\": 20641, \"Age Cohort\": \"18 to 21\", \"Age\": 19, \"Gender\": \"Male\", \"Expenditures\": 10716, \"Ethnicity\": \"White not Hispanic\"}, {\"Id\": 20810, \"Age Cohort\": \"18 to 21\", \"Age\": 20, \"Gender\": \"Male\", \"Expenditures\": 9161, \"Ethnicity\": \"Hispanic\"}, {\"Id\": 20832, \"Age Cohort\": \"6 to 12\", \"Age\": 12, \"Gender\": \"Female\", \"Expenditures\": 3007, \"Ethnicity\": \"Hispanic\"}, {\"Id\": 20872, \"Age Cohort\": \"22 to 50\", \"Age\": 33, \"Gender\": \"Male\", \"Expenditures\": 34558, \"Ethnicity\": \"White not Hispanic\"}, {\"Id\": 20876, \"Age Cohort\": \"13 to 17\", \"Age\": 15, \"Gender\": \"Male\", \"Expenditures\": 3269, \"Ethnicity\": \"Hispanic\"}, {\"Id\": 20918, \"Age Cohort\": \"22 to 50\", \"Age\": 24, \"Gender\": \"Female\", \"Expenditures\": 40980, \"Ethnicity\": \"Hispanic\"}, {\"Id\": 20976, \"Age Cohort\": \"0 to 5\", \"Age\": 4, \"Gender\": \"Male\", \"Expenditures\": 1196, \"Ethnicity\": \"Hispanic\"}, {\"Id\": 20984, \"Age Cohort\": \"18 to 21\", \"Age\": 18, \"Gender\": \"Male\", \"Expenditures\": 4814, \"Ethnicity\": \"Black\"}, {\"Id\": 21140, \"Age Cohort\": \"0 to 5\", \"Age\": 5, \"Gender\": \"Male\", \"Expenditures\": 1997, \"Ethnicity\": \"White not Hispanic\"}, {\"Id\": 21158, \"Age Cohort\": \"22 to 50\", \"Age\": 24, \"Gender\": \"Female\", \"Expenditures\": 51149, \"Ethnicity\": \"Hispanic\"}, {\"Id\": 21167, \"Age Cohort\": \"18 to 21\", \"Age\": 18, \"Gender\": \"Female\", \"Expenditures\": 11038, \"Ethnicity\": \"Hispanic\"}, {\"Id\": 21296, \"Age Cohort\": \"18 to 21\", \"Age\": 21, \"Gender\": \"Male\", \"Expenditures\": 3988, \"Ethnicity\": \"Asian\"}, {\"Id\": 21305, \"Age Cohort\": \"18 to 21\", \"Age\": 18, \"Gender\": \"Female\", \"Expenditures\": 12306, \"Ethnicity\": \"White not Hispanic\"}, {\"Id\": 21351, \"Age Cohort\": \"18 to 21\", \"Age\": 19, \"Gender\": \"Female\", \"Expenditures\": 12649, \"Ethnicity\": \"Hispanic\"}, {\"Id\": 21503, \"Age Cohort\": \"22 to 50\", \"Age\": 24, \"Gender\": \"Male\", \"Expenditures\": 37416, \"Ethnicity\": \"White not Hispanic\"}, {\"Id\": 21585, \"Age Cohort\": \"6 to 12\", \"Age\": 11, \"Gender\": \"Female\", \"Expenditures\": 2664, \"Ethnicity\": \"Hispanic\"}, {\"Id\": 21591, \"Age Cohort\": \"51+\", \"Age\": 66, \"Gender\": \"Female\", \"Expenditures\": 59926, \"Ethnicity\": \"Hispanic\"}, {\"Id\": 21742, \"Age Cohort\": \"18 to 21\", \"Age\": 20, \"Gender\": \"Female\", \"Expenditures\": 10696, \"Ethnicity\": \"Asian\"}, {\"Id\": 22056, \"Age Cohort\": \"18 to 21\", \"Age\": 19, \"Gender\": \"Male\", \"Expenditures\": 9972, \"Ethnicity\": \"Hispanic\"}, {\"Id\": 22124, \"Age Cohort\": \"13 to 17\", \"Age\": 14, \"Gender\": \"Female\", \"Expenditures\": 5920, \"Ethnicity\": \"Hispanic\"}, {\"Id\": 22125, \"Age Cohort\": \"0 to 5\", \"Age\": 5, \"Gender\": \"Male\", \"Expenditures\": 2549, \"Ethnicity\": \"Hispanic\"}, {\"Id\": 22446, \"Age Cohort\": \"13 to 17\", \"Age\": 17, \"Gender\": \"Male\", \"Expenditures\": 2686, \"Ethnicity\": \"Hispanic\"}, {\"Id\": 22534, \"Age Cohort\": \"22 to 50\", \"Age\": 34, \"Gender\": \"Female\", \"Expenditures\": 40277, \"Ethnicity\": \"Hispanic\"}, {\"Id\": 22541, \"Age Cohort\": \"22 to 50\", \"Age\": 27, \"Gender\": \"Female\", \"Expenditures\": 42702, \"Ethnicity\": \"White not Hispanic\"}, {\"Id\": 22682, \"Age Cohort\": \"22 to 50\", \"Age\": 37, \"Gender\": \"Female\", \"Expenditures\": 42455, \"Ethnicity\": \"White not Hispanic\"}, {\"Id\": 22697, \"Age Cohort\": \"13 to 17\", \"Age\": 13, \"Gender\": \"Male\", \"Expenditures\": 4097, \"Ethnicity\": \"Hispanic\"}, {\"Id\": 22700, \"Age Cohort\": \"0 to 5\", \"Age\": 4, \"Gender\": \"Male\", \"Expenditures\": 1957, \"Ethnicity\": \"Hispanic\"}, {\"Id\": 22764, \"Age Cohort\": \"0 to 5\", \"Age\": 5, \"Gender\": \"Male\", \"Expenditures\": 1646, \"Ethnicity\": \"Hispanic\"}, {\"Id\": 22879, \"Age Cohort\": \"0 to 5\", \"Age\": 4, \"Gender\": \"Male\", \"Expenditures\": 1525, \"Ethnicity\": \"Hispanic\"}, {\"Id\": 22964, \"Age Cohort\": \"0 to 5\", \"Age\": 4, \"Gender\": \"Male\", \"Expenditures\": 1294, \"Ethnicity\": \"Hispanic\"}, {\"Id\": 22988, \"Age Cohort\": \"13 to 17\", \"Age\": 16, \"Gender\": \"Male\", \"Expenditures\": 4664, \"Ethnicity\": \"Multi Race\"}, {\"Id\": 23032, \"Age Cohort\": \"22 to 50\", \"Age\": 22, \"Gender\": \"Male\", \"Expenditures\": 43292, \"Ethnicity\": \"White not Hispanic\"}, {\"Id\": 23450, \"Age Cohort\": \"13 to 17\", \"Age\": 16, \"Gender\": \"Female\", \"Expenditures\": 1432, \"Ethnicity\": \"Asian\"}, {\"Id\": 23493, \"Age Cohort\": \"0 to 5\", \"Age\": 0, \"Gender\": \"Male\", \"Expenditures\": 1435, \"Ethnicity\": \"Hispanic\"}, {\"Id\": 23505, \"Age Cohort\": \"0 to 5\", \"Age\": 4, \"Gender\": \"Male\", \"Expenditures\": 1631, \"Ethnicity\": \"White not Hispanic\"}, {\"Id\": 23559, \"Age Cohort\": \"18 to 21\", \"Age\": 20, \"Gender\": \"Male\", \"Expenditures\": 8687, \"Ethnicity\": \"Black\"}, {\"Id\": 23617, \"Age Cohort\": \"18 to 21\", \"Age\": 19, \"Gender\": \"Female\", \"Expenditures\": 8096, \"Ethnicity\": \"Hispanic\"}, {\"Id\": 23651, \"Age Cohort\": \"0 to 5\", \"Age\": 3, \"Gender\": \"Male\", \"Expenditures\": 1123, \"Ethnicity\": \"Hispanic\"}, {\"Id\": 23861, \"Age Cohort\": \"51+\", \"Age\": 77, \"Gender\": \"Female\", \"Expenditures\": 55015, \"Ethnicity\": \"Asian\"}, {\"Id\": 23890, \"Age Cohort\": \"0 to 5\", \"Age\": 4, \"Gender\": \"Male\", \"Expenditures\": 1644, \"Ethnicity\": \"White not Hispanic\"}, {\"Id\": 23915, \"Age Cohort\": \"13 to 17\", \"Age\": 17, \"Gender\": \"Female\", \"Expenditures\": 3678, \"Ethnicity\": \"Hispanic\"}, {\"Id\": 24042, \"Age Cohort\": \"18 to 21\", \"Age\": 18, \"Gender\": \"Male\", \"Expenditures\": 8999, \"Ethnicity\": \"White not Hispanic\"}, {\"Id\": 24078, \"Age Cohort\": \"13 to 17\", \"Age\": 16, \"Gender\": \"Male\", \"Expenditures\": 1740, \"Ethnicity\": \"Hispanic\"}, {\"Id\": 24128, \"Age Cohort\": \"18 to 21\", \"Age\": 21, \"Gender\": \"Female\", \"Expenditures\": 15176, \"Ethnicity\": \"Hispanic\"}, {\"Id\": 24171, \"Age Cohort\": \"22 to 50\", \"Age\": 35, \"Gender\": \"Male\", \"Expenditures\": 27417, \"Ethnicity\": \"White not Hispanic\"}, {\"Id\": 24270, \"Age Cohort\": \"18 to 21\", \"Age\": 18, \"Gender\": \"Female\", \"Expenditures\": 9078, \"Ethnicity\": \"White not Hispanic\"}, {\"Id\": 24341, \"Age Cohort\": \"6 to 12\", \"Age\": 9, \"Gender\": \"Female\", \"Expenditures\": 1963, \"Ethnicity\": \"Hispanic\"}, {\"Id\": 24510, \"Age Cohort\": \"13 to 17\", \"Age\": 15, \"Gender\": \"Male\", \"Expenditures\": 4670, \"Ethnicity\": \"Hispanic\"}, {\"Id\": 24545, \"Age Cohort\": \"0 to 5\", \"Age\": 4, \"Gender\": \"Male\", \"Expenditures\": 2553, \"Ethnicity\": \"White not Hispanic\"}, {\"Id\": 24617, \"Age Cohort\": \"13 to 17\", \"Age\": 14, \"Gender\": \"Male\", \"Expenditures\": 3394, \"Ethnicity\": \"Hispanic\"}, {\"Id\": 24635, \"Age Cohort\": \"0 to 5\", \"Age\": 0, \"Gender\": \"Female\", \"Expenditures\": 995, \"Ethnicity\": \"Hispanic\"}, {\"Id\": 24731, \"Age Cohort\": \"0 to 5\", \"Age\": 0, \"Gender\": \"Female\", \"Expenditures\": 1068, \"Ethnicity\": \"White not Hispanic\"}, {\"Id\": 24786, \"Age Cohort\": \"13 to 17\", \"Age\": 15, \"Gender\": \"Male\", \"Expenditures\": 4818, \"Ethnicity\": \"White not Hispanic\"}, {\"Id\": 24838, \"Age Cohort\": \"0 to 5\", \"Age\": 2, \"Gender\": \"Male\", \"Expenditures\": 650, \"Ethnicity\": \"White not Hispanic\"}, {\"Id\": 24847, \"Age Cohort\": \"18 to 21\", \"Age\": 21, \"Gender\": \"Female\", \"Expenditures\": 15179, \"Ethnicity\": \"White not Hispanic\"}, {\"Id\": 24850, \"Age Cohort\": \"18 to 21\", \"Age\": 21, \"Gender\": \"Female\", \"Expenditures\": 16237, \"Ethnicity\": \"Hispanic\"}, {\"Id\": 24895, \"Age Cohort\": \"22 to 50\", \"Age\": 27, \"Gender\": \"Female\", \"Expenditures\": 47242, \"Ethnicity\": \"White not Hispanic\"}, {\"Id\": 24959, \"Age Cohort\": \"51+\", \"Age\": 82, \"Gender\": \"Female\", \"Expenditures\": 58922, \"Ethnicity\": \"White not Hispanic\"}, {\"Id\": 25000, \"Age Cohort\": \"18 to 21\", \"Age\": 21, \"Gender\": \"Male\", \"Expenditures\": 9592, \"Ethnicity\": \"Hispanic\"}, {\"Id\": 25184, \"Age Cohort\": \"18 to 21\", \"Age\": 21, \"Gender\": \"Male\", \"Expenditures\": 10008, \"Ethnicity\": \"White not Hispanic\"}, {\"Id\": 25281, \"Age Cohort\": \"22 to 50\", \"Age\": 28, \"Gender\": \"Female\", \"Expenditures\": 42346, \"Ethnicity\": \"White not Hispanic\"}, {\"Id\": 25300, \"Age Cohort\": \"6 to 12\", \"Age\": 6, \"Gender\": \"Female\", \"Expenditures\": 2119, \"Ethnicity\": \"Hispanic\"}, {\"Id\": 25321, \"Age Cohort\": \"22 to 50\", \"Age\": 40, \"Gender\": \"Male\", \"Expenditures\": 42840, \"Ethnicity\": \"White not Hispanic\"}, {\"Id\": 25370, \"Age Cohort\": \"18 to 21\", \"Age\": 19, \"Gender\": \"Female\", \"Expenditures\": 10292, \"Ethnicity\": \"Hispanic\"}, {\"Id\": 25457, \"Age Cohort\": \"13 to 17\", \"Age\": 16, \"Gender\": \"Female\", \"Expenditures\": 3501, \"Ethnicity\": \"Hispanic\"}, {\"Id\": 25575, \"Age Cohort\": \"22 to 50\", \"Age\": 23, \"Gender\": \"Male\", \"Expenditures\": 40992, \"Ethnicity\": \"White not Hispanic\"}, {\"Id\": 25613, \"Age Cohort\": \"0 to 5\", \"Age\": 0, \"Gender\": \"Male\", \"Expenditures\": 741, \"Ethnicity\": \"Hispanic\"}, {\"Id\": 25649, \"Age Cohort\": \"22 to 50\", \"Age\": 42, \"Gender\": \"Male\", \"Expenditures\": 37916, \"Ethnicity\": \"White not Hispanic\"}, {\"Id\": 25743, \"Age Cohort\": \"6 to 12\", \"Age\": 11, \"Gender\": \"Female\", \"Expenditures\": 1339, \"Ethnicity\": \"White not Hispanic\"}, {\"Id\": 25747, \"Age Cohort\": \"51+\", \"Age\": 74, \"Gender\": \"Female\", \"Expenditures\": 54266, \"Ethnicity\": \"White not Hispanic\"}, {\"Id\": 25765, \"Age Cohort\": \"0 to 5\", \"Age\": 4, \"Gender\": \"Male\", \"Expenditures\": 1016, \"Ethnicity\": \"Hispanic\"}, {\"Id\": 26071, \"Age Cohort\": \"6 to 12\", \"Age\": 6, \"Gender\": \"Female\", \"Expenditures\": 1582, \"Ethnicity\": \"Hispanic\"}, {\"Id\": 26099, \"Age Cohort\": \"18 to 21\", \"Age\": 20, \"Gender\": \"Male\", \"Expenditures\": 13345, \"Ethnicity\": \"Asian\"}, {\"Id\": 26169, \"Age Cohort\": \"22 to 50\", \"Age\": 33, \"Gender\": \"Female\", \"Expenditures\": 47204, \"Ethnicity\": \"White not Hispanic\"}, {\"Id\": 26423, \"Age Cohort\": \"13 to 17\", \"Age\": 17, \"Gender\": \"Male\", \"Expenditures\": 4723, \"Ethnicity\": \"Hispanic\"}, {\"Id\": 26427, \"Age Cohort\": \"13 to 17\", \"Age\": 13, \"Gender\": \"Male\", \"Expenditures\": 2460, \"Ethnicity\": \"Hispanic\"}, {\"Id\": 26437, \"Age Cohort\": \"0 to 5\", \"Age\": 0, \"Gender\": \"Male\", \"Expenditures\": 2296, \"Ethnicity\": \"Multi Race\"}, {\"Id\": 26457, \"Age Cohort\": \"13 to 17\", \"Age\": 16, \"Gender\": \"Female\", \"Expenditures\": 5718, \"Ethnicity\": \"Hispanic\"}, {\"Id\": 26648, \"Age Cohort\": \"18 to 21\", \"Age\": 21, \"Gender\": \"Female\", \"Expenditures\": 7571, \"Ethnicity\": \"Asian\"}, {\"Id\": 27029, \"Age Cohort\": \"18 to 21\", \"Age\": 18, \"Gender\": \"Male\", \"Expenditures\": 7207, \"Ethnicity\": \"Asian\"}, {\"Id\": 27031, \"Age Cohort\": \"0 to 5\", \"Age\": 4, \"Gender\": \"Male\", \"Expenditures\": 1028, \"Ethnicity\": \"Hispanic\"}, {\"Id\": 27150, \"Age Cohort\": \"6 to 12\", \"Age\": 12, \"Gender\": \"Female\", \"Expenditures\": 3141, \"Ethnicity\": \"Hispanic\"}, {\"Id\": 27311, \"Age Cohort\": \"13 to 17\", \"Age\": 17, \"Gender\": \"Male\", \"Expenditures\": 4556, \"Ethnicity\": \"White not Hispanic\"}, {\"Id\": 27356, \"Age Cohort\": \"22 to 50\", \"Age\": 25, \"Gender\": \"Female\", \"Expenditures\": 49142, \"Ethnicity\": \"White not Hispanic\"}, {\"Id\": 27484, \"Age Cohort\": \"6 to 12\", \"Age\": 11, \"Gender\": \"Male\", \"Expenditures\": 3585, \"Ethnicity\": \"Hispanic\"}, {\"Id\": 27547, \"Age Cohort\": \"6 to 12\", \"Age\": 7, \"Gender\": \"Female\", \"Expenditures\": 2039, \"Ethnicity\": \"Hispanic\"}, {\"Id\": 27561, \"Age Cohort\": \"6 to 12\", \"Age\": 12, \"Gender\": \"Female\", \"Expenditures\": 2431, \"Ethnicity\": \"White not Hispanic\"}, {\"Id\": 27824, \"Age Cohort\": \"6 to 12\", \"Age\": 11, \"Gender\": \"Male\", \"Expenditures\": 1024, \"Ethnicity\": \"White not Hispanic\"}, {\"Id\": 27921, \"Age Cohort\": \"22 to 50\", \"Age\": 22, \"Gender\": \"Female\", \"Expenditures\": 43858, \"Ethnicity\": \"Hispanic\"}, {\"Id\": 28013, \"Age Cohort\": \"0 to 5\", \"Age\": 1, \"Gender\": \"Male\", \"Expenditures\": 762, \"Ethnicity\": \"Hispanic\"}, {\"Id\": 28053, \"Age Cohort\": \"51+\", \"Age\": 62, \"Gender\": \"Female\", \"Expenditures\": 49749, \"Ethnicity\": \"White not Hispanic\"}, {\"Id\": 28066, \"Age Cohort\": \"18 to 21\", \"Age\": 20, \"Gender\": \"Male\", \"Expenditures\": 7081, \"Ethnicity\": \"Hispanic\"}, {\"Id\": 28083, \"Age Cohort\": \"0 to 5\", \"Age\": 5, \"Gender\": \"Female\", \"Expenditures\": 2291, \"Ethnicity\": \"Hispanic\"}, {\"Id\": 28085, \"Age Cohort\": \"6 to 12\", \"Age\": 9, \"Gender\": \"Female\", \"Expenditures\": 3374, \"Ethnicity\": \"White not Hispanic\"}, {\"Id\": 28189, \"Age Cohort\": \"0 to 5\", \"Age\": 4, \"Gender\": \"Male\", \"Expenditures\": 2359, \"Ethnicity\": \"Hispanic\"}, {\"Id\": 28384, \"Age Cohort\": \"22 to 50\", \"Age\": 33, \"Gender\": \"Female\", \"Expenditures\": 40809, \"Ethnicity\": \"Hispanic\"}, {\"Id\": 28469, \"Age Cohort\": \"0 to 5\", \"Age\": 4, \"Gender\": \"Male\", \"Expenditures\": 2211, \"Ethnicity\": \"Hispanic\"}, {\"Id\": 28502, \"Age Cohort\": \"18 to 21\", \"Age\": 19, \"Gender\": \"Male\", \"Expenditures\": 11527, \"Ethnicity\": \"Hispanic\"}, {\"Id\": 28514, \"Age Cohort\": \"13 to 17\", \"Age\": 15, \"Gender\": \"Female\", \"Expenditures\": 3959, \"Ethnicity\": \"Hispanic\"}, {\"Id\": 28728, \"Age Cohort\": \"18 to 21\", \"Age\": 20, \"Gender\": \"Male\", \"Expenditures\": 12854, \"Ethnicity\": \"White not Hispanic\"}, {\"Id\": 28948, \"Age Cohort\": \"0 to 5\", \"Age\": 1, \"Gender\": \"Male\", \"Expenditures\": 966, \"Ethnicity\": \"Hispanic\"}, {\"Id\": 29038, \"Age Cohort\": \"18 to 21\", \"Age\": 21, \"Gender\": \"Male\", \"Expenditures\": 7339, \"Ethnicity\": \"Hispanic\"}, {\"Id\": 29193, \"Age Cohort\": \"22 to 50\", \"Age\": 24, \"Gender\": \"Male\", \"Expenditures\": 46703, \"Ethnicity\": \"White not Hispanic\"}, {\"Id\": 29411, \"Age Cohort\": \"6 to 12\", \"Age\": 8, \"Gender\": \"Female\", \"Expenditures\": 3378, \"Ethnicity\": \"Hispanic\"}, {\"Id\": 29440, \"Age Cohort\": \"6 to 12\", \"Age\": 8, \"Gender\": \"Male\", \"Expenditures\": 2807, \"Ethnicity\": \"White not Hispanic\"}, {\"Id\": 29447, \"Age Cohort\": \"22 to 50\", \"Age\": 30, \"Gender\": \"Male\", \"Expenditures\": 46246, \"Ethnicity\": \"White not Hispanic\"}, {\"Id\": 29458, \"Age Cohort\": \"13 to 17\", \"Age\": 17, \"Gender\": \"Male\", \"Expenditures\": 4513, \"Ethnicity\": \"Hispanic\"}, {\"Id\": 29506, \"Age Cohort\": \"51+\", \"Age\": 56, \"Gender\": \"Female\", \"Expenditures\": 48215, \"Ethnicity\": \"White not Hispanic\"}, {\"Id\": 29574, \"Age Cohort\": \"13 to 17\", \"Age\": 16, \"Gender\": \"Male\", \"Expenditures\": 2357, \"Ethnicity\": \"White not Hispanic\"}, {\"Id\": 29795, \"Age Cohort\": \"18 to 21\", \"Age\": 20, \"Gender\": \"Male\", \"Expenditures\": 9597, \"Ethnicity\": \"White not Hispanic\"}, {\"Id\": 29804, \"Age Cohort\": \"13 to 17\", \"Age\": 14, \"Gender\": \"Male\", \"Expenditures\": 386, \"Ethnicity\": \"Asian\"}, {\"Id\": 29840, \"Age Cohort\": \"6 to 12\", \"Age\": 7, \"Gender\": \"Female\", \"Expenditures\": 1473, \"Ethnicity\": \"Hispanic\"}, {\"Id\": 29885, \"Age Cohort\": \"13 to 17\", \"Age\": 16, \"Gender\": \"Male\", \"Expenditures\": 4112, \"Ethnicity\": \"Hispanic\"}, {\"Id\": 29902, \"Age Cohort\": \"18 to 21\", \"Age\": 19, \"Gender\": \"Female\", \"Expenditures\": 8530, \"Ethnicity\": \"Asian\"}, {\"Id\": 29914, \"Age Cohort\": \"0 to 5\", \"Age\": 5, \"Gender\": \"Male\", \"Expenditures\": 1315, \"Ethnicity\": \"Asian\"}, {\"Id\": 30012, \"Age Cohort\": \"13 to 17\", \"Age\": 14, \"Gender\": \"Male\", \"Expenditures\": 4653, \"Ethnicity\": \"Hispanic\"}, {\"Id\": 30234, \"Age Cohort\": \"51+\", \"Age\": 78, \"Gender\": \"Female\", \"Expenditures\": 55430, \"Ethnicity\": \"American Indian\"}, {\"Id\": 30385, \"Age Cohort\": \"6 to 12\", \"Age\": 9, \"Gender\": \"Male\", \"Expenditures\": 722, \"Ethnicity\": \"White not Hispanic\"}, {\"Id\": 30438, \"Age Cohort\": \"18 to 21\", \"Age\": 19, \"Gender\": \"Female\", \"Expenditures\": 7667, \"Ethnicity\": \"Hispanic\"}, {\"Id\": 30481, \"Age Cohort\": \"18 to 21\", \"Age\": 20, \"Gender\": \"Male\", \"Expenditures\": 12587, \"Ethnicity\": \"Hispanic\"}, {\"Id\": 30517, \"Age Cohort\": \"6 to 12\", \"Age\": 7, \"Gender\": \"Male\", \"Expenditures\": 1725, \"Ethnicity\": \"Asian\"}, {\"Id\": 30617, \"Age Cohort\": \"0 to 5\", \"Age\": 4, \"Gender\": \"Female\", \"Expenditures\": 791, \"Ethnicity\": \"White not Hispanic\"}, {\"Id\": 30673, \"Age Cohort\": \"6 to 12\", \"Age\": 10, \"Gender\": \"Female\", \"Expenditures\": 2189, \"Ethnicity\": \"White not Hispanic\"}, {\"Id\": 30689, \"Age Cohort\": \"0 to 5\", \"Age\": 3, \"Gender\": \"Male\", \"Expenditures\": 668, \"Ethnicity\": \"Hispanic\"}, {\"Id\": 30780, \"Age Cohort\": \"18 to 21\", \"Age\": 20, \"Gender\": \"Female\", \"Expenditures\": 6218, \"Ethnicity\": \"Hispanic\"}, {\"Id\": 30909, \"Age Cohort\": \"13 to 17\", \"Age\": 17, \"Gender\": \"Male\", \"Expenditures\": 2015, \"Ethnicity\": \"Hispanic\"}, {\"Id\": 31063, \"Age Cohort\": \"18 to 21\", \"Age\": 21, \"Gender\": \"Male\", \"Expenditures\": 8948, \"Ethnicity\": \"Hispanic\"}, {\"Id\": 31163, \"Age Cohort\": \"51+\", \"Age\": 71, \"Gender\": \"Female\", \"Expenditures\": 52472, \"Ethnicity\": \"White not Hispanic\"}, {\"Id\": 31168, \"Age Cohort\": \"6 to 12\", \"Age\": 11, \"Gender\": \"Female\", \"Expenditures\": 2918, \"Ethnicity\": \"Multi Race\"}, {\"Id\": 31277, \"Age Cohort\": \"0 to 5\", \"Age\": 2, \"Gender\": \"Male\", \"Expenditures\": 561, \"Ethnicity\": \"Hispanic\"}, {\"Id\": 31307, \"Age Cohort\": \"51+\", \"Age\": 88, \"Gender\": \"Female\", \"Expenditures\": 54655, \"Ethnicity\": \"White not Hispanic\"}, {\"Id\": 31437, \"Age Cohort\": \"51+\", \"Age\": 70, \"Gender\": \"Female\", \"Expenditures\": 59622, \"Ethnicity\": \"Hispanic\"}, {\"Id\": 31632, \"Age Cohort\": \"22 to 50\", \"Age\": 23, \"Gender\": \"Male\", \"Expenditures\": 32344, \"Ethnicity\": \"Asian\"}, {\"Id\": 31642, \"Age Cohort\": \"6 to 12\", \"Age\": 11, \"Gender\": \"Female\", \"Expenditures\": 3335, \"Ethnicity\": \"White not Hispanic\"}, {\"Id\": 31658, \"Age Cohort\": \"51+\", \"Age\": 60, \"Gender\": \"Female\", \"Expenditures\": 46873, \"Ethnicity\": \"Black\"}, {\"Id\": 31859, \"Age Cohort\": \"6 to 12\", \"Age\": 10, \"Gender\": \"Male\", \"Expenditures\": 2380, \"Ethnicity\": \"White not Hispanic\"}, {\"Id\": 31910, \"Age Cohort\": \"13 to 17\", \"Age\": 17, \"Gender\": \"Female\", \"Expenditures\": 4921, \"Ethnicity\": \"Hispanic\"}, {\"Id\": 31919, \"Age Cohort\": \"6 to 12\", \"Age\": 10, \"Gender\": \"Male\", \"Expenditures\": 1455, \"Ethnicity\": \"White not Hispanic\"}, {\"Id\": 31960, \"Age Cohort\": \"22 to 50\", \"Age\": 25, \"Gender\": \"Male\", \"Expenditures\": 38730, \"Ethnicity\": \"White not Hispanic\"}, {\"Id\": 31973, \"Age Cohort\": \"22 to 50\", \"Age\": 38, \"Gender\": \"Female\", \"Expenditures\": 35088, \"Ethnicity\": \"Hispanic\"}, {\"Id\": 32161, \"Age Cohort\": \"6 to 12\", \"Age\": 11, \"Gender\": \"Female\", \"Expenditures\": 2059, \"Ethnicity\": \"Asian\"}, {\"Id\": 32186, \"Age Cohort\": \"13 to 17\", \"Age\": 16, \"Gender\": \"Female\", \"Expenditures\": 4054, \"Ethnicity\": \"Asian\"}, {\"Id\": 32326, \"Age Cohort\": \"6 to 12\", \"Age\": 7, \"Gender\": \"Male\", \"Expenditures\": 1212, \"Ethnicity\": \"Black\"}, {\"Id\": 32395, \"Age Cohort\": \"18 to 21\", \"Age\": 19, \"Gender\": \"Male\", \"Expenditures\": 12178, \"Ethnicity\": \"White not Hispanic\"}, {\"Id\": 32398, \"Age Cohort\": \"6 to 12\", \"Age\": 11, \"Gender\": \"Male\", \"Expenditures\": 1084, \"Ethnicity\": \"Hispanic\"}, {\"Id\": 32519, \"Age Cohort\": \"13 to 17\", \"Age\": 15, \"Gender\": \"Female\", \"Expenditures\": 3529, \"Ethnicity\": \"Asian\"}, {\"Id\": 32604, \"Age Cohort\": \"18 to 21\", \"Age\": 20, \"Gender\": \"Female\", \"Expenditures\": 11775, \"Ethnicity\": \"White not Hispanic\"}, {\"Id\": 32664, \"Age Cohort\": \"22 to 50\", \"Age\": 24, \"Gender\": \"Female\", \"Expenditures\": 36279, \"Ethnicity\": \"White not Hispanic\"}, {\"Id\": 32745, \"Age Cohort\": \"22 to 50\", \"Age\": 27, \"Gender\": \"Female\", \"Expenditures\": 47021, \"Ethnicity\": \"White not Hispanic\"}, {\"Id\": 32781, \"Age Cohort\": \"6 to 12\", \"Age\": 8, \"Gender\": \"Male\", \"Expenditures\": 641, \"Ethnicity\": \"Asian\"}, {\"Id\": 32893, \"Age Cohort\": \"18 to 21\", \"Age\": 20, \"Gender\": \"Male\", \"Expenditures\": 6362, \"Ethnicity\": \"White not Hispanic\"}, {\"Id\": 33032, \"Age Cohort\": \"6 to 12\", \"Age\": 11, \"Gender\": \"Female\", \"Expenditures\": 3695, \"Ethnicity\": \"Hispanic\"}, {\"Id\": 33305, \"Age Cohort\": \"0 to 5\", \"Age\": 4, \"Gender\": \"Male\", \"Expenditures\": 1437, \"Ethnicity\": \"Asian\"}, {\"Id\": 33339, \"Age Cohort\": \"6 to 12\", \"Age\": 11, \"Gender\": \"Male\", \"Expenditures\": 1582, \"Ethnicity\": \"White not Hispanic\"}, {\"Id\": 33360, \"Age Cohort\": \"22 to 50\", \"Age\": 25, \"Gender\": \"Female\", \"Expenditures\": 41984, \"Ethnicity\": \"Asian\"}, {\"Id\": 33375, \"Age Cohort\": \"0 to 5\", \"Age\": 2, \"Gender\": \"Male\", \"Expenditures\": 1347, \"Ethnicity\": \"White not Hispanic\"}, {\"Id\": 33464, \"Age Cohort\": \"18 to 21\", \"Age\": 18, \"Gender\": \"Female\", \"Expenditures\": 13593, \"Ethnicity\": \"White not Hispanic\"}, {\"Id\": 33509, \"Age Cohort\": \"0 to 5\", \"Age\": 1, \"Gender\": \"Female\", \"Expenditures\": 1767, \"Ethnicity\": \"Hispanic\"}, {\"Id\": 33551, \"Age Cohort\": \"6 to 12\", \"Age\": 12, \"Gender\": \"Female\", \"Expenditures\": 2880, \"Ethnicity\": \"White not Hispanic\"}, {\"Id\": 33643, \"Age Cohort\": \"13 to 17\", \"Age\": 13, \"Gender\": \"Male\", \"Expenditures\": 4483, \"Ethnicity\": \"Asian\"}, {\"Id\": 33886, \"Age Cohort\": \"13 to 17\", \"Age\": 13, \"Gender\": \"Male\", \"Expenditures\": 4003, \"Ethnicity\": \"White not Hispanic\"}, {\"Id\": 34146, \"Age Cohort\": \"51+\", \"Age\": 69, \"Gender\": \"Male\", \"Expenditures\": 67884, \"Ethnicity\": \"White not Hispanic\"}, {\"Id\": 34278, \"Age Cohort\": \"22 to 50\", \"Age\": 23, \"Gender\": \"Female\", \"Expenditures\": 46590, \"Ethnicity\": \"White not Hispanic\"}, {\"Id\": 34522, \"Age Cohort\": \"22 to 50\", \"Age\": 31, \"Gender\": \"Male\", \"Expenditures\": 39007, \"Ethnicity\": \"White not Hispanic\"}, {\"Id\": 34681, \"Age Cohort\": \"18 to 21\", \"Age\": 21, \"Gender\": \"Male\", \"Expenditures\": 10046, \"Ethnicity\": \"White not Hispanic\"}, {\"Id\": 34751, \"Age Cohort\": \"6 to 12\", \"Age\": 9, \"Gender\": \"Male\", \"Expenditures\": 2695, \"Ethnicity\": \"Asian\"}, {\"Id\": 34763, \"Age Cohort\": \"51+\", \"Age\": 85, \"Gender\": \"Male\", \"Expenditures\": 64898, \"Ethnicity\": \"White not Hispanic\"}, {\"Id\": 34821, \"Age Cohort\": \"22 to 50\", \"Age\": 26, \"Gender\": \"Female\", \"Expenditures\": 36738, \"Ethnicity\": \"Hispanic\"}, {\"Id\": 34983, \"Age Cohort\": \"22 to 50\", \"Age\": 27, \"Gender\": \"Male\", \"Expenditures\": 34394, \"Ethnicity\": \"White not Hispanic\"}, {\"Id\": 34997, \"Age Cohort\": \"51+\", \"Age\": 68, \"Gender\": \"Male\", \"Expenditures\": 49502, \"Ethnicity\": \"Hispanic\"}, {\"Id\": 35066, \"Age Cohort\": \"13 to 17\", \"Age\": 13, \"Gender\": \"Male\", \"Expenditures\": 4554, \"Ethnicity\": \"Black\"}, {\"Id\": 35093, \"Age Cohort\": \"6 to 12\", \"Age\": 9, \"Gender\": \"Male\", \"Expenditures\": 1824, \"Ethnicity\": \"Asian\"}, {\"Id\": 35298, \"Age Cohort\": \"22 to 50\", \"Age\": 30, \"Gender\": \"Female\", \"Expenditures\": 43134, \"Ethnicity\": \"White not Hispanic\"}, {\"Id\": 35360, \"Age Cohort\": \"6 to 12\", \"Age\": 10, \"Gender\": \"Female\", \"Expenditures\": 1622, \"Ethnicity\": \"Multi Race\"}, {\"Id\": 35503, \"Age Cohort\": \"13 to 17\", \"Age\": 13, \"Gender\": \"Male\", \"Expenditures\": 3522, \"Ethnicity\": \"Hispanic\"}, {\"Id\": 35590, \"Age Cohort\": \"6 to 12\", \"Age\": 8, \"Gender\": \"Male\", \"Expenditures\": 2776, \"Ethnicity\": \"Hispanic\"}, {\"Id\": 35630, \"Age Cohort\": \"18 to 21\", \"Age\": 18, \"Gender\": \"Female\", \"Expenditures\": 14578, \"Ethnicity\": \"White not Hispanic\"}, {\"Id\": 35656, \"Age Cohort\": \"18 to 21\", \"Age\": 21, \"Gender\": \"Male\", \"Expenditures\": 10150, \"Ethnicity\": \"Hispanic\"}, {\"Id\": 35666, \"Age Cohort\": \"18 to 21\", \"Age\": 20, \"Gender\": \"Female\", \"Expenditures\": 9207, \"Ethnicity\": \"White not Hispanic\"}, {\"Id\": 35684, \"Age Cohort\": \"18 to 21\", \"Age\": 20, \"Gender\": \"Female\", \"Expenditures\": 7605, \"Ethnicity\": \"Hispanic\"}, {\"Id\": 35799, \"Age Cohort\": \"6 to 12\", \"Age\": 8, \"Gender\": \"Male\", \"Expenditures\": 2954, \"Ethnicity\": \"Hispanic\"}, {\"Id\": 35970, \"Age Cohort\": \"13 to 17\", \"Age\": 13, \"Gender\": \"Male\", \"Expenditures\": 2797, \"Ethnicity\": \"Black\"}, {\"Id\": 36123, \"Age Cohort\": \"51+\", \"Age\": 59, \"Gender\": \"Male\", \"Expenditures\": 42739, \"Ethnicity\": \"Asian\"}, {\"Id\": 36179, \"Age Cohort\": \"13 to 17\", \"Age\": 15, \"Gender\": \"Female\", \"Expenditures\": 2900, \"Ethnicity\": \"Asian\"}, {\"Id\": 36391, \"Age Cohort\": \"0 to 5\", \"Age\": 1, \"Gender\": \"Female\", \"Expenditures\": 384, \"Ethnicity\": \"White not Hispanic\"}, {\"Id\": 36459, \"Age Cohort\": \"18 to 21\", \"Age\": 21, \"Gender\": \"Female\", \"Expenditures\": 9504, \"Ethnicity\": \"Asian\"}, {\"Id\": 36576, \"Age Cohort\": \"22 to 50\", \"Age\": 27, \"Gender\": \"Female\", \"Expenditures\": 38031, \"Ethnicity\": \"Hispanic\"}, {\"Id\": 36578, \"Age Cohort\": \"18 to 21\", \"Age\": 19, \"Gender\": \"Male\", \"Expenditures\": 7083, \"Ethnicity\": \"White not Hispanic\"}, {\"Id\": 36720, \"Age Cohort\": \"6 to 12\", \"Age\": 9, \"Gender\": \"Male\", \"Expenditures\": 2877, \"Ethnicity\": \"White not Hispanic\"}, {\"Id\": 36802, \"Age Cohort\": \"6 to 12\", \"Age\": 6, \"Gender\": \"Male\", \"Expenditures\": 1173, \"Ethnicity\": \"Hispanic\"}, {\"Id\": 37075, \"Age Cohort\": \"18 to 21\", \"Age\": 21, \"Gender\": \"Female\", \"Expenditures\": 12083, \"Ethnicity\": \"Hispanic\"}, {\"Id\": 37287, \"Age Cohort\": \"18 to 21\", \"Age\": 19, \"Gender\": \"Male\", \"Expenditures\": 3157, \"Ethnicity\": \"White not Hispanic\"}, {\"Id\": 37297, \"Age Cohort\": \"13 to 17\", \"Age\": 15, \"Gender\": \"Male\", \"Expenditures\": 4533, \"Ethnicity\": \"Hispanic\"}, {\"Id\": 37335, \"Age Cohort\": \"13 to 17\", \"Age\": 17, \"Gender\": \"Female\", \"Expenditures\": 3694, \"Ethnicity\": \"White not Hispanic\"}, {\"Id\": 37415, \"Age Cohort\": \"18 to 21\", \"Age\": 18, \"Gender\": \"Female\", \"Expenditures\": 8299, \"Ethnicity\": \"White not Hispanic\"}, {\"Id\": 37454, \"Age Cohort\": \"51+\", \"Age\": 76, \"Gender\": \"Male\", \"Expenditures\": 62097, \"Ethnicity\": \"Hispanic\"}, {\"Id\": 37524, \"Age Cohort\": \"18 to 21\", \"Age\": 18, \"Gender\": \"Male\", \"Expenditures\": 11935, \"Ethnicity\": \"Hispanic\"}, {\"Id\": 37694, \"Age Cohort\": \"18 to 21\", \"Age\": 20, \"Gender\": \"Male\", \"Expenditures\": 11034, \"Ethnicity\": \"Hispanic\"}, {\"Id\": 37731, \"Age Cohort\": \"18 to 21\", \"Age\": 19, \"Gender\": \"Male\", \"Expenditures\": 12481, \"Ethnicity\": \"White not Hispanic\"}, {\"Id\": 37846, \"Age Cohort\": \"18 to 21\", \"Age\": 18, \"Gender\": \"Female\", \"Expenditures\": 9200, \"Ethnicity\": \"Asian\"}, {\"Id\": 38017, \"Age Cohort\": \"18 to 21\", \"Age\": 20, \"Gender\": \"Female\", \"Expenditures\": 10294, \"Ethnicity\": \"Hispanic\"}, {\"Id\": 38104, \"Age Cohort\": \"18 to 21\", \"Age\": 21, \"Gender\": \"Male\", \"Expenditures\": 11668, \"Ethnicity\": \"Asian\"}, {\"Id\": 38121, \"Age Cohort\": \"22 to 50\", \"Age\": 37, \"Gender\": \"Female\", \"Expenditures\": 37948, \"Ethnicity\": \"White not Hispanic\"}, {\"Id\": 38584, \"Age Cohort\": \"13 to 17\", \"Age\": 14, \"Gender\": \"Female\", \"Expenditures\": 5530, \"Ethnicity\": \"White not Hispanic\"}, {\"Id\": 38732, \"Age Cohort\": \"13 to 17\", \"Age\": 16, \"Gender\": \"Male\", \"Expenditures\": 3909, \"Ethnicity\": \"Black\"}, {\"Id\": 38889, \"Age Cohort\": \"13 to 17\", \"Age\": 16, \"Gender\": \"Male\", \"Expenditures\": 5041, \"Ethnicity\": \"Asian\"}, {\"Id\": 38975, \"Age Cohort\": \"22 to 50\", \"Age\": 24, \"Gender\": \"Female\", \"Expenditures\": 39345, \"Ethnicity\": \"White not Hispanic\"}, {\"Id\": 39060, \"Age Cohort\": \"18 to 21\", \"Age\": 18, \"Gender\": \"Female\", \"Expenditures\": 16310, \"Ethnicity\": \"Hispanic\"}, {\"Id\": 39095, \"Age Cohort\": \"18 to 21\", \"Age\": 20, \"Gender\": \"Female\", \"Expenditures\": 6272, \"Ethnicity\": \"White not Hispanic\"}, {\"Id\": 39131, \"Age Cohort\": \"0 to 5\", \"Age\": 0, \"Gender\": \"Female\", \"Expenditures\": 685, \"Ethnicity\": \"White not Hispanic\"}, {\"Id\": 39134, \"Age Cohort\": \"6 to 12\", \"Age\": 9, \"Gender\": \"Male\", \"Expenditures\": 2490, \"Ethnicity\": \"Hispanic\"}, {\"Id\": 39287, \"Age Cohort\": \"51+\", \"Age\": 59, \"Gender\": \"Female\", \"Expenditures\": 44734, \"Ethnicity\": \"White not Hispanic\"}, {\"Id\": 39672, \"Age Cohort\": \"51+\", \"Age\": 54, \"Gender\": \"Female\", \"Expenditures\": 52833, \"Ethnicity\": \"White not Hispanic\"}, {\"Id\": 39767, \"Age Cohort\": \"6 to 12\", \"Age\": 10, \"Gender\": \"Female\", \"Expenditures\": 2341, \"Ethnicity\": \"Black\"}, {\"Id\": 39795, \"Age Cohort\": \"0 to 5\", \"Age\": 5, \"Gender\": \"Female\", \"Expenditures\": 1088, \"Ethnicity\": \"White not Hispanic\"}, {\"Id\": 39942, \"Age Cohort\": \"13 to 17\", \"Age\": 14, \"Gender\": \"Male\", \"Expenditures\": 3399, \"Ethnicity\": \"Multi Race\"}, {\"Id\": 39999, \"Age Cohort\": \"18 to 21\", \"Age\": 21, \"Gender\": \"Female\", \"Expenditures\": 11811, \"Ethnicity\": \"Hispanic\"}, {\"Id\": 40105, \"Age Cohort\": \"13 to 17\", \"Age\": 17, \"Gender\": \"Male\", \"Expenditures\": 3945, \"Ethnicity\": \"Hispanic\"}, {\"Id\": 40159, \"Age Cohort\": \"51+\", \"Age\": 73, \"Gender\": \"Female\", \"Expenditures\": 60198, \"Ethnicity\": \"Asian\"}, {\"Id\": 40277, \"Age Cohort\": \"6 to 12\", \"Age\": 9, \"Gender\": \"Female\", \"Expenditures\": 2781, \"Ethnicity\": \"Hispanic\"}, {\"Id\": 40313, \"Age Cohort\": \"0 to 5\", \"Age\": 4, \"Gender\": \"Female\", \"Expenditures\": 374, \"Ethnicity\": \"Asian\"}, {\"Id\": 40409, \"Age Cohort\": \"22 to 50\", \"Age\": 30, \"Gender\": \"Male\", \"Expenditures\": 36469, \"Ethnicity\": \"White not Hispanic\"}, {\"Id\": 40412, \"Age Cohort\": \"6 to 12\", \"Age\": 12, \"Gender\": \"Male\", \"Expenditures\": 2269, \"Ethnicity\": \"White not Hispanic\"}, {\"Id\": 40847, \"Age Cohort\": \"18 to 21\", \"Age\": 21, \"Gender\": \"Female\", \"Expenditures\": 10973, \"Ethnicity\": \"White not Hispanic\"}, {\"Id\": 40892, \"Age Cohort\": \"13 to 17\", \"Age\": 13, \"Gender\": \"Male\", \"Expenditures\": 1597, \"Ethnicity\": \"Hispanic\"}, {\"Id\": 40952, \"Age Cohort\": \"22 to 50\", \"Age\": 25, \"Gender\": \"Female\", \"Expenditures\": 48684, \"Ethnicity\": \"Hispanic\"}, {\"Id\": 40987, \"Age Cohort\": \"13 to 17\", \"Age\": 14, \"Gender\": \"Female\", \"Expenditures\": 2366, \"Ethnicity\": \"White not Hispanic\"}, {\"Id\": 41163, \"Age Cohort\": \"22 to 50\", \"Age\": 32, \"Gender\": \"Female\", \"Expenditures\": 45017, \"Ethnicity\": \"White not Hispanic\"}, {\"Id\": 41176, \"Age Cohort\": \"22 to 50\", \"Age\": 32, \"Gender\": \"Male\", \"Expenditures\": 43545, \"Ethnicity\": \"Black\"}, {\"Id\": 41831, \"Age Cohort\": \"6 to 12\", \"Age\": 7, \"Gender\": \"Male\", \"Expenditures\": 1645, \"Ethnicity\": \"White not Hispanic\"}, {\"Id\": 41850, \"Age Cohort\": \"13 to 17\", \"Age\": 13, \"Gender\": \"Male\", \"Expenditures\": 4975, \"Ethnicity\": \"Hispanic\"}, {\"Id\": 41968, \"Age Cohort\": \"13 to 17\", \"Age\": 14, \"Gender\": \"Female\", \"Expenditures\": 3257, \"Ethnicity\": \"Hispanic\"}, {\"Id\": 42216, \"Age Cohort\": \"18 to 21\", \"Age\": 18, \"Gender\": \"Male\", \"Expenditures\": 7878, \"Ethnicity\": \"Asian\"}, {\"Id\": 42229, \"Age Cohort\": \"13 to 17\", \"Age\": 16, \"Gender\": \"Female\", \"Expenditures\": 3977, \"Ethnicity\": \"White not Hispanic\"}, {\"Id\": 42262, \"Age Cohort\": \"6 to 12\", \"Age\": 6, \"Gender\": \"Male\", \"Expenditures\": 2247, \"Ethnicity\": \"Hispanic\"}, {\"Id\": 42265, \"Age Cohort\": \"13 to 17\", \"Age\": 16, \"Gender\": \"Female\", \"Expenditures\": 4215, \"Ethnicity\": \"White not Hispanic\"}, {\"Id\": 42348, \"Age Cohort\": \"51+\", \"Age\": 74, \"Gender\": \"Male\", \"Expenditures\": 52041, \"Ethnicity\": \"White not Hispanic\"}, {\"Id\": 42489, \"Age Cohort\": \"6 to 12\", \"Age\": 9, \"Gender\": \"Male\", \"Expenditures\": 1758, \"Ethnicity\": \"Hispanic\"}, {\"Id\": 42590, \"Age Cohort\": \"22 to 50\", \"Age\": 24, \"Gender\": \"Male\", \"Expenditures\": 51392, \"Ethnicity\": \"Hispanic\"}, {\"Id\": 42593, \"Age Cohort\": \"0 to 5\", \"Age\": 0, \"Gender\": \"Female\", \"Expenditures\": 1398, \"Ethnicity\": \"Black\"}, {\"Id\": 42657, \"Age Cohort\": \"51+\", \"Age\": 86, \"Gender\": \"Male\", \"Expenditures\": 60452, \"Ethnicity\": \"White not Hispanic\"}, {\"Id\": 42732, \"Age Cohort\": \"13 to 17\", \"Age\": 17, \"Gender\": \"Female\", \"Expenditures\": 4495, \"Ethnicity\": \"Hispanic\"}, {\"Id\": 42804, \"Age Cohort\": \"13 to 17\", \"Age\": 15, \"Gender\": \"Female\", \"Expenditures\": 2744, \"Ethnicity\": \"Hispanic\"}, {\"Id\": 42905, \"Age Cohort\": \"51+\", \"Age\": 74, \"Gender\": \"Female\", \"Expenditures\": 57760, \"Ethnicity\": \"White not Hispanic\"}, {\"Id\": 43039, \"Age Cohort\": \"13 to 17\", \"Age\": 16, \"Gender\": \"Male\", \"Expenditures\": 3561, \"Ethnicity\": \"Hispanic\"}, {\"Id\": 43188, \"Age Cohort\": \"18 to 21\", \"Age\": 21, \"Gender\": \"Female\", \"Expenditures\": 10063, \"Ethnicity\": \"White not Hispanic\"}, {\"Id\": 43245, \"Age Cohort\": \"6 to 12\", \"Age\": 11, \"Gender\": \"Female\", \"Expenditures\": 2906, \"Ethnicity\": \"Hispanic\"}, {\"Id\": 43291, \"Age Cohort\": \"6 to 12\", \"Age\": 11, \"Gender\": \"Male\", \"Expenditures\": 2140, \"Ethnicity\": \"Multi Race\"}, {\"Id\": 43308, \"Age Cohort\": \"22 to 50\", \"Age\": 34, \"Gender\": \"Female\", \"Expenditures\": 46325, \"Ethnicity\": \"White not Hispanic\"}, {\"Id\": 43455, \"Age Cohort\": \"51+\", \"Age\": 57, \"Gender\": \"Male\", \"Expenditures\": 48363, \"Ethnicity\": \"White not Hispanic\"}, {\"Id\": 43478, \"Age Cohort\": \"13 to 17\", \"Age\": 16, \"Gender\": \"Female\", \"Expenditures\": 5637, \"Ethnicity\": \"Hispanic\"}, {\"Id\": 43516, \"Age Cohort\": \"13 to 17\", \"Age\": 16, \"Gender\": \"Female\", \"Expenditures\": 3740, \"Ethnicity\": \"White not Hispanic\"}, {\"Id\": 43574, \"Age Cohort\": \"13 to 17\", \"Age\": 13, \"Gender\": \"Male\", \"Expenditures\": 4014, \"Ethnicity\": \"Asian\"}, {\"Id\": 43586, \"Age Cohort\": \"6 to 12\", \"Age\": 8, \"Gender\": \"Female\", \"Expenditures\": 2904, \"Ethnicity\": \"Hispanic\"}, {\"Id\": 43735, \"Age Cohort\": \"6 to 12\", \"Age\": 9, \"Gender\": \"Female\", \"Expenditures\": 2854, \"Ethnicity\": \"White not Hispanic\"}, {\"Id\": 43762, \"Age Cohort\": \"22 to 50\", \"Age\": 28, \"Gender\": \"Female\", \"Expenditures\": 39147, \"Ethnicity\": \"Hispanic\"}, {\"Id\": 43767, \"Age Cohort\": \"13 to 17\", \"Age\": 15, \"Gender\": \"Female\", \"Expenditures\": 4036, \"Ethnicity\": \"White not Hispanic\"}, {\"Id\": 43768, \"Age Cohort\": \"6 to 12\", \"Age\": 12, \"Gender\": \"Male\", \"Expenditures\": 3196, \"Ethnicity\": \"Asian\"}, {\"Id\": 43881, \"Age Cohort\": \"13 to 17\", \"Age\": 17, \"Gender\": \"Female\", \"Expenditures\": 3677, \"Ethnicity\": \"White not Hispanic\"}, {\"Id\": 43984, \"Age Cohort\": \"18 to 21\", \"Age\": 20, \"Gender\": \"Male\", \"Expenditures\": 6397, \"Ethnicity\": \"Hispanic\"}, {\"Id\": 43990, \"Age Cohort\": \"22 to 50\", \"Age\": 27, \"Gender\": \"Female\", \"Expenditures\": 48745, \"Ethnicity\": \"White not Hispanic\"}, {\"Id\": 44297, \"Age Cohort\": \"18 to 21\", \"Age\": 20, \"Gender\": \"Male\", \"Expenditures\": 7446, \"Ethnicity\": \"Hispanic\"}, {\"Id\": 44312, \"Age Cohort\": \"6 to 12\", \"Age\": 12, \"Gender\": \"Male\", \"Expenditures\": 1109, \"Ethnicity\": \"White not Hispanic\"}, {\"Id\": 44401, \"Age Cohort\": \"13 to 17\", \"Age\": 17, \"Gender\": \"Male\", \"Expenditures\": 5163, \"Ethnicity\": \"Hispanic\"}, {\"Id\": 44451, \"Age Cohort\": \"51+\", \"Age\": 67, \"Gender\": \"Male\", \"Expenditures\": 52243, \"Ethnicity\": \"Hispanic\"}, {\"Id\": 44613, \"Age Cohort\": \"22 to 50\", \"Age\": 26, \"Gender\": \"Male\", \"Expenditures\": 40637, \"Ethnicity\": \"White not Hispanic\"}, {\"Id\": 44669, \"Age Cohort\": \"13 to 17\", \"Age\": 14, \"Gender\": \"Female\", \"Expenditures\": 4774, \"Ethnicity\": \"Hispanic\"}, {\"Id\": 44973, \"Age Cohort\": \"22 to 50\", \"Age\": 28, \"Gender\": \"Male\", \"Expenditures\": 41464, \"Ethnicity\": \"White not Hispanic\"}, {\"Id\": 45104, \"Age Cohort\": \"51+\", \"Age\": 52, \"Gender\": \"Male\", \"Expenditures\": 51777, \"Ethnicity\": \"Hispanic\"}, {\"Id\": 45274, \"Age Cohort\": \"51+\", \"Age\": 57, \"Gender\": \"Female\", \"Expenditures\": 42897, \"Ethnicity\": \"White not Hispanic\"}, {\"Id\": 45319, \"Age Cohort\": \"51+\", \"Age\": 76, \"Gender\": \"Male\", \"Expenditures\": 59829, \"Ethnicity\": \"White not Hispanic\"}, {\"Id\": 45468, \"Age Cohort\": \"13 to 17\", \"Age\": 16, \"Gender\": \"Male\", \"Expenditures\": 3141, \"Ethnicity\": \"Hispanic\"}, {\"Id\": 45476, \"Age Cohort\": \"6 to 12\", \"Age\": 9, \"Gender\": \"Male\", \"Expenditures\": 2028, \"Ethnicity\": \"Asian\"}, {\"Id\": 45499, \"Age Cohort\": \"13 to 17\", \"Age\": 14, \"Gender\": \"Female\", \"Expenditures\": 4363, \"Ethnicity\": \"White not Hispanic\"}, {\"Id\": 45540, \"Age Cohort\": \"22 to 50\", \"Age\": 27, \"Gender\": \"Female\", \"Expenditures\": 37778, \"Ethnicity\": \"Asian\"}, {\"Id\": 45600, \"Age Cohort\": \"6 to 12\", \"Age\": 8, \"Gender\": \"Male\", \"Expenditures\": 1332, \"Ethnicity\": \"White not Hispanic\"}, {\"Id\": 45625, \"Age Cohort\": \"22 to 50\", \"Age\": 22, \"Gender\": \"Female\", \"Expenditures\": 36691, \"Ethnicity\": \"Hispanic\"}, {\"Id\": 45679, \"Age Cohort\": \"51+\", \"Age\": 73, \"Gender\": \"Male\", \"Expenditures\": 53211, \"Ethnicity\": \"Hispanic\"}, {\"Id\": 45755, \"Age Cohort\": \"6 to 12\", \"Age\": 11, \"Gender\": \"Male\", \"Expenditures\": 1144, \"Ethnicity\": \"Multi Race\"}, {\"Id\": 45798, \"Age Cohort\": \"6 to 12\", \"Age\": 11, \"Gender\": \"Female\", \"Expenditures\": 1217, \"Ethnicity\": \"White not Hispanic\"}, {\"Id\": 45827, \"Age Cohort\": \"51+\", \"Age\": 89, \"Gender\": \"Female\", \"Expenditures\": 58304, \"Ethnicity\": \"White not Hispanic\"}, {\"Id\": 45828, \"Age Cohort\": \"0 to 5\", \"Age\": 2, \"Gender\": \"Female\", \"Expenditures\": 1113, \"Ethnicity\": \"White not Hispanic\"}, {\"Id\": 45958, \"Age Cohort\": \"51+\", \"Age\": 73, \"Gender\": \"Male\", \"Expenditures\": 47997, \"Ethnicity\": \"White not Hispanic\"}, {\"Id\": 45962, \"Age Cohort\": \"18 to 21\", \"Age\": 19, \"Gender\": \"Female\", \"Expenditures\": 10502, \"Ethnicity\": \"White not Hispanic\"}, {\"Id\": 46063, \"Age Cohort\": \"13 to 17\", \"Age\": 13, \"Gender\": \"Male\", \"Expenditures\": 5872, \"Ethnicity\": \"White not Hispanic\"}, {\"Id\": 46251, \"Age Cohort\": \"22 to 50\", \"Age\": 33, \"Gender\": \"Male\", \"Expenditures\": 27090, \"Ethnicity\": \"White not Hispanic\"}, {\"Id\": 46272, \"Age Cohort\": \"22 to 50\", \"Age\": 32, \"Gender\": \"Female\", \"Expenditures\": 37697, \"Ethnicity\": \"Black\"}, {\"Id\": 46389, \"Age Cohort\": \"13 to 17\", \"Age\": 17, \"Gender\": \"Female\", \"Expenditures\": 5040, \"Ethnicity\": \"Hispanic\"}, {\"Id\": 46498, \"Age Cohort\": \"6 to 12\", \"Age\": 7, \"Gender\": \"Male\", \"Expenditures\": 2415, \"Ethnicity\": \"White not Hispanic\"}, {\"Id\": 46628, \"Age Cohort\": \"6 to 12\", \"Age\": 11, \"Gender\": \"Male\", \"Expenditures\": 2167, \"Ethnicity\": \"Hispanic\"}, {\"Id\": 46637, \"Age Cohort\": \"22 to 50\", \"Age\": 26, \"Gender\": \"Male\", \"Expenditures\": 41144, \"Ethnicity\": \"Asian\"}, {\"Id\": 46726, \"Age Cohort\": \"51+\", \"Age\": 95, \"Gender\": \"Male\", \"Expenditures\": 55187, \"Ethnicity\": \"Hispanic\"}, {\"Id\": 46876, \"Age Cohort\": \"51+\", \"Age\": 66, \"Gender\": \"Male\", \"Expenditures\": 49056, \"Ethnicity\": \"Black\"}, {\"Id\": 46945, \"Age Cohort\": \"22 to 50\", \"Age\": 35, \"Gender\": \"Female\", \"Expenditures\": 32529, \"Ethnicity\": \"White not Hispanic\"}, {\"Id\": 46977, \"Age Cohort\": \"13 to 17\", \"Age\": 16, \"Gender\": \"Female\", \"Expenditures\": 3738, \"Ethnicity\": \"White not Hispanic\"}, {\"Id\": 47043, \"Age Cohort\": \"22 to 50\", \"Age\": 25, \"Gender\": \"Male\", \"Expenditures\": 38619, \"Ethnicity\": \"Multi Race\"}, {\"Id\": 47059, \"Age Cohort\": \"22 to 50\", \"Age\": 30, \"Gender\": \"Male\", \"Expenditures\": 44910, \"Ethnicity\": \"Black\"}, {\"Id\": 47217, \"Age Cohort\": \"6 to 12\", \"Age\": 7, \"Gender\": \"Female\", \"Expenditures\": 2797, \"Ethnicity\": \"Hispanic\"}, {\"Id\": 47236, \"Age Cohort\": \"13 to 17\", \"Age\": 16, \"Gender\": \"Male\", \"Expenditures\": 4975, \"Ethnicity\": \"Hispanic\"}, {\"Id\": 47553, \"Age Cohort\": \"13 to 17\", \"Age\": 16, \"Gender\": \"Male\", \"Expenditures\": 4067, \"Ethnicity\": \"Asian\"}, {\"Id\": 47748, \"Age Cohort\": \"13 to 17\", \"Age\": 17, \"Gender\": \"Male\", \"Expenditures\": 4918, \"Ethnicity\": \"Black\"}, {\"Id\": 47809, \"Age Cohort\": \"22 to 50\", \"Age\": 31, \"Gender\": \"Female\", \"Expenditures\": 47778, \"Ethnicity\": \"Asian\"}, {\"Id\": 47887, \"Age Cohort\": \"6 to 12\", \"Age\": 9, \"Gender\": \"Male\", \"Expenditures\": 2755, \"Ethnicity\": \"Hispanic\"}, {\"Id\": 47979, \"Age Cohort\": \"22 to 50\", \"Age\": 22, \"Gender\": \"Male\", \"Expenditures\": 27058, \"Ethnicity\": \"White not Hispanic\"}, {\"Id\": 47997, \"Age Cohort\": \"51+\", \"Age\": 64, \"Gender\": \"Male\", \"Expenditures\": 57119, \"Ethnicity\": \"White not Hispanic\"}, {\"Id\": 48101, \"Age Cohort\": \"13 to 17\", \"Age\": 15, \"Gender\": \"Female\", \"Expenditures\": 3728, \"Ethnicity\": \"Asian\"}, {\"Id\": 48169, \"Age Cohort\": \"13 to 17\", \"Age\": 16, \"Gender\": \"Male\", \"Expenditures\": 4550, \"Ethnicity\": \"White not Hispanic\"}, {\"Id\": 48328, \"Age Cohort\": \"51+\", \"Age\": 81, \"Gender\": \"Female\", \"Expenditures\": 75098, \"Ethnicity\": \"Asian\"}, {\"Id\": 48353, \"Age Cohort\": \"6 to 12\", \"Age\": 9, \"Gender\": \"Female\", \"Expenditures\": 2016, \"Ethnicity\": \"Hispanic\"}, {\"Id\": 48653, \"Age Cohort\": \"6 to 12\", \"Age\": 7, \"Gender\": \"Male\", \"Expenditures\": 1974, \"Ethnicity\": \"Asian\"}, {\"Id\": 48882, \"Age Cohort\": \"18 to 21\", \"Age\": 21, \"Gender\": \"Male\", \"Expenditures\": 12259, \"Ethnicity\": \"Black\"}, {\"Id\": 48938, \"Age Cohort\": \"22 to 50\", \"Age\": 39, \"Gender\": \"Male\", \"Expenditures\": 36576, \"Ethnicity\": \"Black\"}, {\"Id\": 49026, \"Age Cohort\": \"13 to 17\", \"Age\": 13, \"Gender\": \"Male\", \"Expenditures\": 2810, \"Ethnicity\": \"Hispanic\"}, {\"Id\": 49094, \"Age Cohort\": \"13 to 17\", \"Age\": 16, \"Gender\": \"Male\", \"Expenditures\": 3745, \"Ethnicity\": \"Hispanic\"}, {\"Id\": 49199, \"Age Cohort\": \"6 to 12\", \"Age\": 10, \"Gender\": \"Female\", \"Expenditures\": 2854, \"Ethnicity\": \"Hispanic\"}, {\"Id\": 49285, \"Age Cohort\": \"0 to 5\", \"Age\": 1, \"Gender\": \"Female\", \"Expenditures\": 1592, \"Ethnicity\": \"Hispanic\"}, {\"Id\": 49463, \"Age Cohort\": \"13 to 17\", \"Age\": 13, \"Gender\": \"Male\", \"Expenditures\": 4245, \"Ethnicity\": \"White not Hispanic\"}, {\"Id\": 49506, \"Age Cohort\": \"13 to 17\", \"Age\": 16, \"Gender\": \"Male\", \"Expenditures\": 3445, \"Ethnicity\": \"Hispanic\"}, {\"Id\": 49533, \"Age Cohort\": \"18 to 21\", \"Age\": 18, \"Gender\": \"Male\", \"Expenditures\": 3153, \"Ethnicity\": \"Asian\"}, {\"Id\": 49598, \"Age Cohort\": \"51+\", \"Age\": 65, \"Gender\": \"Male\", \"Expenditures\": 52076, \"Ethnicity\": \"Asian\"}, {\"Id\": 49631, \"Age Cohort\": \"6 to 12\", \"Age\": 10, \"Gender\": \"Male\", \"Expenditures\": 676, \"Ethnicity\": \"White not Hispanic\"}, {\"Id\": 49818, \"Age Cohort\": \"13 to 17\", \"Age\": 16, \"Gender\": \"Female\", \"Expenditures\": 4696, \"Ethnicity\": \"Hispanic\"}, {\"Id\": 49889, \"Age Cohort\": \"13 to 17\", \"Age\": 16, \"Gender\": \"Female\", \"Expenditures\": 4949, \"Ethnicity\": \"Black\"}, {\"Id\": 49977, \"Age Cohort\": \"22 to 50\", \"Age\": 25, \"Gender\": \"Female\", \"Expenditures\": 44916, \"Ethnicity\": \"White not Hispanic\"}, {\"Id\": 50053, \"Age Cohort\": \"18 to 21\", \"Age\": 18, \"Gender\": \"Female\", \"Expenditures\": 11125, \"Ethnicity\": \"Asian\"}, {\"Id\": 50112, \"Age Cohort\": \"6 to 12\", \"Age\": 6, \"Gender\": \"Female\", \"Expenditures\": 4163, \"Ethnicity\": \"Hispanic\"}, {\"Id\": 50140, \"Age Cohort\": \"13 to 17\", \"Age\": 14, \"Gender\": \"Male\", \"Expenditures\": 4608, \"Ethnicity\": \"Hispanic\"}, {\"Id\": 50208, \"Age Cohort\": \"22 to 50\", \"Age\": 25, \"Gender\": \"Female\", \"Expenditures\": 41752, \"Ethnicity\": \"White not Hispanic\"}, {\"Id\": 50222, \"Age Cohort\": \"18 to 21\", \"Age\": 19, \"Gender\": \"Female\", \"Expenditures\": 7564, \"Ethnicity\": \"Multi Race\"}, {\"Id\": 50270, \"Age Cohort\": \"22 to 50\", \"Age\": 25, \"Gender\": \"Male\", \"Expenditures\": 46951, \"Ethnicity\": \"Hispanic\"}, {\"Id\": 50349, \"Age Cohort\": \"13 to 17\", \"Age\": 16, \"Gender\": \"Female\", \"Expenditures\": 3555, \"Ethnicity\": \"White not Hispanic\"}, {\"Id\": 50478, \"Age Cohort\": \"6 to 12\", \"Age\": 12, \"Gender\": \"Female\", \"Expenditures\": 3562, \"Ethnicity\": \"Hispanic\"}, {\"Id\": 50559, \"Age Cohort\": \"6 to 12\", \"Age\": 8, \"Gender\": \"Male\", \"Expenditures\": 2746, \"Ethnicity\": \"Hispanic\"}, {\"Id\": 50652, \"Age Cohort\": \"13 to 17\", \"Age\": 15, \"Gender\": \"Male\", \"Expenditures\": 3015, \"Ethnicity\": \"White not Hispanic\"}, {\"Id\": 50674, \"Age Cohort\": \"18 to 21\", \"Age\": 20, \"Gender\": \"Male\", \"Expenditures\": 9369, \"Ethnicity\": \"Asian\"}, {\"Id\": 50783, \"Age Cohort\": \"18 to 21\", \"Age\": 21, \"Gender\": \"Female\", \"Expenditures\": 8469, \"Ethnicity\": \"Hispanic\"}, {\"Id\": 50849, \"Age Cohort\": \"22 to 50\", \"Age\": 25, \"Gender\": \"Female\", \"Expenditures\": 48021, \"Ethnicity\": \"Black\"}, {\"Id\": 50913, \"Age Cohort\": \"18 to 21\", \"Age\": 18, \"Gender\": \"Male\", \"Expenditures\": 11723, \"Ethnicity\": \"White not Hispanic\"}, {\"Id\": 50989, \"Age Cohort\": \"13 to 17\", \"Age\": 14, \"Gender\": \"Male\", \"Expenditures\": 4219, \"Ethnicity\": \"Hispanic\"}, {\"Id\": 51150, \"Age Cohort\": \"51+\", \"Age\": 75, \"Gender\": \"Male\", \"Expenditures\": 52147, \"Ethnicity\": \"Hispanic\"}, {\"Id\": 51253, \"Age Cohort\": \"6 to 12\", \"Age\": 7, \"Gender\": \"Female\", \"Expenditures\": 633, \"Ethnicity\": \"White not Hispanic\"}, {\"Id\": 51259, \"Age Cohort\": \"6 to 12\", \"Age\": 11, \"Gender\": \"Female\", \"Expenditures\": 1363, \"Ethnicity\": \"Hispanic\"}, {\"Id\": 51290, \"Age Cohort\": \"13 to 17\", \"Age\": 14, \"Gender\": \"Male\", \"Expenditures\": 3113, \"Ethnicity\": \"Hispanic\"}, {\"Id\": 51420, \"Age Cohort\": \"13 to 17\", \"Age\": 13, \"Gender\": \"Male\", \"Expenditures\": 3417, \"Ethnicity\": \"White not Hispanic\"}, {\"Id\": 51577, \"Age Cohort\": \"6 to 12\", \"Age\": 7, \"Gender\": \"Male\", \"Expenditures\": 776, \"Ethnicity\": \"Hispanic\"}, {\"Id\": 51635, \"Age Cohort\": \"22 to 50\", \"Age\": 32, \"Gender\": \"Female\", \"Expenditures\": 36827, \"Ethnicity\": \"Hispanic\"}, {\"Id\": 51712, \"Age Cohort\": \"22 to 50\", \"Age\": 23, \"Gender\": \"Female\", \"Expenditures\": 43333, \"Ethnicity\": \"White not Hispanic\"}, {\"Id\": 51754, \"Age Cohort\": \"13 to 17\", \"Age\": 16, \"Gender\": \"Male\", \"Expenditures\": 2054, \"Ethnicity\": \"White not Hispanic\"}, {\"Id\": 51954, \"Age Cohort\": \"6 to 12\", \"Age\": 6, \"Gender\": \"Female\", \"Expenditures\": 1335, \"Ethnicity\": \"Asian\"}, {\"Id\": 52067, \"Age Cohort\": \"6 to 12\", \"Age\": 6, \"Gender\": \"Female\", \"Expenditures\": 1790, \"Ethnicity\": \"Black\"}, {\"Id\": 52073, \"Age Cohort\": \"18 to 21\", \"Age\": 19, \"Gender\": \"Female\", \"Expenditures\": 10531, \"Ethnicity\": \"Asian\"}, {\"Id\": 52177, \"Age Cohort\": \"6 to 12\", \"Age\": 12, \"Gender\": \"Female\", \"Expenditures\": 3539, \"Ethnicity\": \"Hispanic\"}, {\"Id\": 52217, \"Age Cohort\": \"18 to 21\", \"Age\": 19, \"Gender\": \"Male\", \"Expenditures\": 10230, \"Ethnicity\": \"Hispanic\"}, {\"Id\": 52373, \"Age Cohort\": \"22 to 50\", \"Age\": 27, \"Gender\": \"Female\", \"Expenditures\": 42969, \"Ethnicity\": \"White not Hispanic\"}, {\"Id\": 52722, \"Age Cohort\": \"22 to 50\", \"Age\": 24, \"Gender\": \"Male\", \"Expenditures\": 48694, \"Ethnicity\": \"White not Hispanic\"}, {\"Id\": 52727, \"Age Cohort\": \"22 to 50\", \"Age\": 30, \"Gender\": \"Male\", \"Expenditures\": 33721, \"Ethnicity\": \"Asian\"}, {\"Id\": 52794, \"Age Cohort\": \"22 to 50\", \"Age\": 30, \"Gender\": \"Female\", \"Expenditures\": 42703, \"Ethnicity\": \"White not Hispanic\"}, {\"Id\": 52868, \"Age Cohort\": \"22 to 50\", \"Age\": 30, \"Gender\": \"Male\", \"Expenditures\": 35523, \"Ethnicity\": \"White not Hispanic\"}, {\"Id\": 52887, \"Age Cohort\": \"18 to 21\", \"Age\": 18, \"Gender\": \"Female\", \"Expenditures\": 8869, \"Ethnicity\": \"Hispanic\"}, {\"Id\": 52969, \"Age Cohort\": \"51+\", \"Age\": 55, \"Gender\": \"Male\", \"Expenditures\": 49554, \"Ethnicity\": \"White not Hispanic\"}, {\"Id\": 53008, \"Age Cohort\": \"13 to 17\", \"Age\": 16, \"Gender\": \"Female\", \"Expenditures\": 2018, \"Ethnicity\": \"Other\"}, {\"Id\": 53083, \"Age Cohort\": \"6 to 12\", \"Age\": 10, \"Gender\": \"Female\", \"Expenditures\": 2455, \"Ethnicity\": \"White not Hispanic\"}, {\"Id\": 53225, \"Age Cohort\": \"6 to 12\", \"Age\": 6, \"Gender\": \"Female\", \"Expenditures\": 3379, \"Ethnicity\": \"Hispanic\"}, {\"Id\": 53288, \"Age Cohort\": \"13 to 17\", \"Age\": 14, \"Gender\": \"Female\", \"Expenditures\": 3580, \"Ethnicity\": \"Hispanic\"}, {\"Id\": 53339, \"Age Cohort\": \"51+\", \"Age\": 71, \"Gender\": \"Male\", \"Expenditures\": 46719, \"Ethnicity\": \"White not Hispanic\"}, {\"Id\": 53435, \"Age Cohort\": \"22 to 50\", \"Age\": 31, \"Gender\": \"Female\", \"Expenditures\": 46437, \"Ethnicity\": \"White not Hispanic\"}, {\"Id\": 53658, \"Age Cohort\": \"13 to 17\", \"Age\": 14, \"Gender\": \"Male\", \"Expenditures\": 5514, \"Ethnicity\": \"White not Hispanic\"}, {\"Id\": 53690, \"Age Cohort\": \"13 to 17\", \"Age\": 17, \"Gender\": \"Female\", \"Expenditures\": 5228, \"Ethnicity\": \"Hispanic\"}, {\"Id\": 53719, \"Age Cohort\": \"22 to 50\", \"Age\": 33, \"Gender\": \"Female\", \"Expenditures\": 42265, \"Ethnicity\": \"White not Hispanic\"}, {\"Id\": 53903, \"Age Cohort\": \"18 to 21\", \"Age\": 21, \"Gender\": \"Female\", \"Expenditures\": 13129, \"Ethnicity\": \"Hispanic\"}, {\"Id\": 53996, \"Age Cohort\": \"18 to 21\", \"Age\": 19, \"Gender\": \"Female\", \"Expenditures\": 8714, \"Ethnicity\": \"Asian\"}, {\"Id\": 54054, \"Age Cohort\": \"18 to 21\", \"Age\": 20, \"Gender\": \"Male\", \"Expenditures\": 13248, \"Ethnicity\": \"White not Hispanic\"}, {\"Id\": 54067, \"Age Cohort\": \"6 to 12\", \"Age\": 12, \"Gender\": \"Female\", \"Expenditures\": 1262, \"Ethnicity\": \"White not Hispanic\"}, {\"Id\": 54110, \"Age Cohort\": \"22 to 50\", \"Age\": 29, \"Gender\": \"Male\", \"Expenditures\": 41013, \"Ethnicity\": \"Asian\"}, {\"Id\": 54223, \"Age Cohort\": \"13 to 17\", \"Age\": 17, \"Gender\": \"Female\", \"Expenditures\": 2948, \"Ethnicity\": \"White not Hispanic\"}, {\"Id\": 54252, \"Age Cohort\": \"51+\", \"Age\": 71, \"Gender\": \"Female\", \"Expenditures\": 55428, \"Ethnicity\": \"Asian\"}, {\"Id\": 54406, \"Age Cohort\": \"22 to 50\", \"Age\": 25, \"Gender\": \"Male\", \"Expenditures\": 38085, \"Ethnicity\": \"Black\"}, {\"Id\": 54675, \"Age Cohort\": \"13 to 17\", \"Age\": 13, \"Gender\": \"Female\", \"Expenditures\": 4005, \"Ethnicity\": \"White not Hispanic\"}, {\"Id\": 55043, \"Age Cohort\": \"6 to 12\", \"Age\": 10, \"Gender\": \"Female\", \"Expenditures\": 4152, \"Ethnicity\": \"Hispanic\"}, {\"Id\": 55056, \"Age Cohort\": \"51+\", \"Age\": 95, \"Gender\": \"Female\", \"Expenditures\": 54680, \"Ethnicity\": \"Black\"}, {\"Id\": 55115, \"Age Cohort\": \"13 to 17\", \"Age\": 15, \"Gender\": \"Female\", \"Expenditures\": 3190, \"Ethnicity\": \"Hispanic\"}, {\"Id\": 55162, \"Age Cohort\": \"13 to 17\", \"Age\": 15, \"Gender\": \"Male\", \"Expenditures\": 3443, \"Ethnicity\": \"Hispanic\"}, {\"Id\": 55300, \"Age Cohort\": \"22 to 50\", \"Age\": 45, \"Gender\": \"Male\", \"Expenditures\": 46132, \"Ethnicity\": \"Black\"}, {\"Id\": 55314, \"Age Cohort\": \"13 to 17\", \"Age\": 17, \"Gender\": \"Female\", \"Expenditures\": 2184, \"Ethnicity\": \"Hispanic\"}, {\"Id\": 55345, \"Age Cohort\": \"13 to 17\", \"Age\": 16, \"Gender\": \"Male\", \"Expenditures\": 5412, \"Ethnicity\": \"Hispanic\"}, {\"Id\": 55424, \"Age Cohort\": \"22 to 50\", \"Age\": 24, \"Gender\": \"Male\", \"Expenditures\": 37133, \"Ethnicity\": \"White not Hispanic\"}, {\"Id\": 55442, \"Age Cohort\": \"0 to 5\", \"Age\": 0, \"Gender\": \"Female\", \"Expenditures\": 2532, \"Ethnicity\": \"Asian\"}, {\"Id\": 55877, \"Age Cohort\": \"13 to 17\", \"Age\": 15, \"Gender\": \"Female\", \"Expenditures\": 4527, \"Ethnicity\": \"Hispanic\"}, {\"Id\": 55882, \"Age Cohort\": \"13 to 17\", \"Age\": 15, \"Gender\": \"Female\", \"Expenditures\": 3055, \"Ethnicity\": \"White not Hispanic\"}, {\"Id\": 55958, \"Age Cohort\": \"22 to 50\", \"Age\": 32, \"Gender\": \"Male\", \"Expenditures\": 40587, \"Ethnicity\": \"White not Hispanic\"}, {\"Id\": 56063, \"Age Cohort\": \"18 to 21\", \"Age\": 21, \"Gender\": \"Male\", \"Expenditures\": 7488, \"Ethnicity\": \"White not Hispanic\"}, {\"Id\": 56109, \"Age Cohort\": \"18 to 21\", \"Age\": 20, \"Gender\": \"Female\", \"Expenditures\": 9540, \"Ethnicity\": \"White not Hispanic\"}, {\"Id\": 56202, \"Age Cohort\": \"6 to 12\", \"Age\": 12, \"Gender\": \"Female\", \"Expenditures\": 3003, \"Ethnicity\": \"Hispanic\"}, {\"Id\": 56203, \"Age Cohort\": \"18 to 21\", \"Age\": 19, \"Gender\": \"Female\", \"Expenditures\": 7122, \"Ethnicity\": \"Hispanic\"}, {\"Id\": 56309, \"Age Cohort\": \"6 to 12\", \"Age\": 7, \"Gender\": \"Female\", \"Expenditures\": 2191, \"Ethnicity\": \"Hispanic\"}, {\"Id\": 56318, \"Age Cohort\": \"51+\", \"Age\": 68, \"Gender\": \"Male\", \"Expenditures\": 57363, \"Ethnicity\": \"Hispanic\"}, {\"Id\": 56400, \"Age Cohort\": \"13 to 17\", \"Age\": 16, \"Gender\": \"Female\", \"Expenditures\": 1641, \"Ethnicity\": \"Hispanic\"}, {\"Id\": 56533, \"Age Cohort\": \"22 to 50\", \"Age\": 26, \"Gender\": \"Male\", \"Expenditures\": 37347, \"Ethnicity\": \"White not Hispanic\"}, {\"Id\": 56539, \"Age Cohort\": \"18 to 21\", \"Age\": 20, \"Gender\": \"Female\", \"Expenditures\": 15278, \"Ethnicity\": \"White not Hispanic\"}, {\"Id\": 56552, \"Age Cohort\": \"18 to 21\", \"Age\": 20, \"Gender\": \"Female\", \"Expenditures\": 11070, \"Ethnicity\": \"White not Hispanic\"}, {\"Id\": 56576, \"Age Cohort\": \"18 to 21\", \"Age\": 21, \"Gender\": \"Female\", \"Expenditures\": 9805, \"Ethnicity\": \"White not Hispanic\"}, {\"Id\": 56592, \"Age Cohort\": \"51+\", \"Age\": 88, \"Gender\": \"Male\", \"Expenditures\": 54875, \"Ethnicity\": \"Hispanic\"}, {\"Id\": 56736, \"Age Cohort\": \"18 to 21\", \"Age\": 18, \"Gender\": \"Female\", \"Expenditures\": 11054, \"Ethnicity\": \"Multi Race\"}, {\"Id\": 56738, \"Age Cohort\": \"51+\", \"Age\": 72, \"Gender\": \"Male\", \"Expenditures\": 53834, \"Ethnicity\": \"White not Hispanic\"}, {\"Id\": 56802, \"Age Cohort\": \"22 to 50\", \"Age\": 29, \"Gender\": \"Female\", \"Expenditures\": 42041, \"Ethnicity\": \"Hispanic\"}, {\"Id\": 56808, \"Age Cohort\": \"18 to 21\", \"Age\": 21, \"Gender\": \"Female\", \"Expenditures\": 11202, \"Ethnicity\": \"White not Hispanic\"}, {\"Id\": 56855, \"Age Cohort\": \"51+\", \"Age\": 64, \"Gender\": \"Female\", \"Expenditures\": 60774, \"Ethnicity\": \"White not Hispanic\"}, {\"Id\": 57039, \"Age Cohort\": \"22 to 50\", \"Age\": 22, \"Gender\": \"Female\", \"Expenditures\": 47954, \"Ethnicity\": \"Hispanic\"}, {\"Id\": 57141, \"Age Cohort\": \"22 to 50\", \"Age\": 23, \"Gender\": \"Male\", \"Expenditures\": 36180, \"Ethnicity\": \"White not Hispanic\"}, {\"Id\": 57419, \"Age Cohort\": \"0 to 5\", \"Age\": 5, \"Gender\": \"Female\", \"Expenditures\": 1632, \"Ethnicity\": \"Hispanic\"}, {\"Id\": 57420, \"Age Cohort\": \"6 to 12\", \"Age\": 6, \"Gender\": \"Male\", \"Expenditures\": 3948, \"Ethnicity\": \"Black\"}, {\"Id\": 57504, \"Age Cohort\": \"18 to 21\", \"Age\": 19, \"Gender\": \"Female\", \"Expenditures\": 12882, \"Ethnicity\": \"White not Hispanic\"}, {\"Id\": 57550, \"Age Cohort\": \"18 to 21\", \"Age\": 19, \"Gender\": \"Female\", \"Expenditures\": 8700, \"Ethnicity\": \"Asian\"}, {\"Id\": 57601, \"Age Cohort\": \"18 to 21\", \"Age\": 19, \"Gender\": \"Male\", \"Expenditures\": 11986, \"Ethnicity\": \"Hispanic\"}, {\"Id\": 57670, \"Age Cohort\": \"51+\", \"Age\": 62, \"Gender\": \"Male\", \"Expenditures\": 47420, \"Ethnicity\": \"Hispanic\"}, {\"Id\": 57874, \"Age Cohort\": \"13 to 17\", \"Age\": 17, \"Gender\": \"Male\", \"Expenditures\": 4300, \"Ethnicity\": \"Hispanic\"}, {\"Id\": 57961, \"Age Cohort\": \"13 to 17\", \"Age\": 13, \"Gender\": \"Male\", \"Expenditures\": 4787, \"Ethnicity\": \"Hispanic\"}, {\"Id\": 58075, \"Age Cohort\": \"6 to 12\", \"Age\": 12, \"Gender\": \"Female\", \"Expenditures\": 2339, \"Ethnicity\": \"Hispanic\"}, {\"Id\": 58136, \"Age Cohort\": \"13 to 17\", \"Age\": 15, \"Gender\": \"Female\", \"Expenditures\": 4345, \"Ethnicity\": \"Hispanic\"}, {\"Id\": 58293, \"Age Cohort\": \"13 to 17\", \"Age\": 14, \"Gender\": \"Female\", \"Expenditures\": 4768, \"Ethnicity\": \"White not Hispanic\"}, {\"Id\": 58317, \"Age Cohort\": \"51+\", \"Age\": 80, \"Gender\": \"Male\", \"Expenditures\": 57821, \"Ethnicity\": \"White not Hispanic\"}, {\"Id\": 58357, \"Age Cohort\": \"18 to 21\", \"Age\": 20, \"Gender\": \"Female\", \"Expenditures\": 9061, \"Ethnicity\": \"Hispanic\"}, {\"Id\": 58565, \"Age Cohort\": \"6 to 12\", \"Age\": 6, \"Gender\": \"Female\", \"Expenditures\": 3530, \"Ethnicity\": \"Asian\"}, {\"Id\": 58680, \"Age Cohort\": \"18 to 21\", \"Age\": 21, \"Gender\": \"Male\", \"Expenditures\": 4931, \"Ethnicity\": \"Hispanic\"}, {\"Id\": 58838, \"Age Cohort\": \"18 to 21\", \"Age\": 21, \"Gender\": \"Male\", \"Expenditures\": 10385, \"Ethnicity\": \"Asian\"}, {\"Id\": 58862, \"Age Cohort\": \"13 to 17\", \"Age\": 17, \"Gender\": \"Male\", \"Expenditures\": 3904, \"Ethnicity\": \"White not Hispanic\"}, {\"Id\": 58870, \"Age Cohort\": \"6 to 12\", \"Age\": 8, \"Gender\": \"Male\", \"Expenditures\": 2590, \"Ethnicity\": \"White not Hispanic\"}, {\"Id\": 58884, \"Age Cohort\": \"22 to 50\", \"Age\": 34, \"Gender\": \"Female\", \"Expenditures\": 41522, \"Ethnicity\": \"Black\"}, {\"Id\": 59001, \"Age Cohort\": \"22 to 50\", \"Age\": 27, \"Gender\": \"Female\", \"Expenditures\": 40156, \"Ethnicity\": \"White not Hispanic\"}, {\"Id\": 59079, \"Age Cohort\": \"18 to 21\", \"Age\": 18, \"Gender\": \"Male\", \"Expenditures\": 11479, \"Ethnicity\": \"Hispanic\"}, {\"Id\": 59154, \"Age Cohort\": \"13 to 17\", \"Age\": 15, \"Gender\": \"Female\", \"Expenditures\": 4798, \"Ethnicity\": \"Hispanic\"}, {\"Id\": 59206, \"Age Cohort\": \"51+\", \"Age\": 83, \"Gender\": \"Male\", \"Expenditures\": 58803, \"Ethnicity\": \"White not Hispanic\"}, {\"Id\": 59275, \"Age Cohort\": \"18 to 21\", \"Age\": 21, \"Gender\": \"Male\", \"Expenditures\": 16133, \"Ethnicity\": \"White not Hispanic\"}, {\"Id\": 59332, \"Age Cohort\": \"51+\", \"Age\": 64, \"Gender\": \"Male\", \"Expenditures\": 51599, \"Ethnicity\": \"Asian\"}, {\"Id\": 59343, \"Age Cohort\": \"22 to 50\", \"Age\": 26, \"Gender\": \"Female\", \"Expenditures\": 45507, \"Ethnicity\": \"White not Hispanic\"}, {\"Id\": 59467, \"Age Cohort\": \"6 to 12\", \"Age\": 8, \"Gender\": \"Female\", \"Expenditures\": 3544, \"Ethnicity\": \"White not Hispanic\"}, {\"Id\": 59660, \"Age Cohort\": \"6 to 12\", \"Age\": 9, \"Gender\": \"Female\", \"Expenditures\": 1713, \"Ethnicity\": \"Hispanic\"}, {\"Id\": 59753, \"Age Cohort\": \"13 to 17\", \"Age\": 14, \"Gender\": \"Female\", \"Expenditures\": 2462, \"Ethnicity\": \"Hispanic\"}, {\"Id\": 59881, \"Age Cohort\": \"18 to 21\", \"Age\": 19, \"Gender\": \"Male\", \"Expenditures\": 11816, \"Ethnicity\": \"White not Hispanic\"}, {\"Id\": 60002, \"Age Cohort\": \"13 to 17\", \"Age\": 17, \"Gender\": \"Male\", \"Expenditures\": 4531, \"Ethnicity\": \"White not Hispanic\"}, {\"Id\": 60018, \"Age Cohort\": \"22 to 50\", \"Age\": 35, \"Gender\": \"Female\", \"Expenditures\": 36607, \"Ethnicity\": \"White not Hispanic\"}, {\"Id\": 60037, \"Age Cohort\": \"13 to 17\", \"Age\": 15, \"Gender\": \"Female\", \"Expenditures\": 4884, \"Ethnicity\": \"Hispanic\"}, {\"Id\": 60292, \"Age Cohort\": \"13 to 17\", \"Age\": 14, \"Gender\": \"Male\", \"Expenditures\": 4058, \"Ethnicity\": \"Hispanic\"}, {\"Id\": 60348, \"Age Cohort\": \"0 to 5\", \"Age\": 5, \"Gender\": \"Female\", \"Expenditures\": 2019, \"Ethnicity\": \"White not Hispanic\"}, {\"Id\": 60352, \"Age Cohort\": \"6 to 12\", \"Age\": 7, \"Gender\": \"Female\", \"Expenditures\": 3464, \"Ethnicity\": \"Hispanic\"}, {\"Id\": 60372, \"Age Cohort\": \"6 to 12\", \"Age\": 12, \"Gender\": \"Male\", \"Expenditures\": 1539, \"Ethnicity\": \"Hispanic\"}, {\"Id\": 60425, \"Age Cohort\": \"13 to 17\", \"Age\": 16, \"Gender\": \"Male\", \"Expenditures\": 5224, \"Ethnicity\": \"White not Hispanic\"}, {\"Id\": 60508, \"Age Cohort\": \"51+\", \"Age\": 62, \"Gender\": \"Female\", \"Expenditures\": 49075, \"Ethnicity\": \"Asian\"}, {\"Id\": 60572, \"Age Cohort\": \"51+\", \"Age\": 69, \"Gender\": \"Male\", \"Expenditures\": 59682, \"Ethnicity\": \"White not Hispanic\"}, {\"Id\": 60676, \"Age Cohort\": \"18 to 21\", \"Age\": 21, \"Gender\": \"Female\", \"Expenditures\": 5066, \"Ethnicity\": \"Hispanic\"}, {\"Id\": 60864, \"Age Cohort\": \"18 to 21\", \"Age\": 20, \"Gender\": \"Male\", \"Expenditures\": 5583, \"Ethnicity\": \"Black\"}, {\"Id\": 61004, \"Age Cohort\": \"0 to 5\", \"Age\": 4, \"Gender\": \"Female\", \"Expenditures\": 456, \"Ethnicity\": \"Hispanic\"}, {\"Id\": 61019, \"Age Cohort\": \"0 to 5\", \"Age\": 0, \"Gender\": \"Female\", \"Expenditures\": 1147, \"Ethnicity\": \"Hispanic\"}, {\"Id\": 61051, \"Age Cohort\": \"22 to 50\", \"Age\": 37, \"Gender\": \"Male\", \"Expenditures\": 30627, \"Ethnicity\": \"White not Hispanic\"}, {\"Id\": 61120, \"Age Cohort\": \"6 to 12\", \"Age\": 7, \"Gender\": \"Male\", \"Expenditures\": 3000, \"Ethnicity\": \"Multi Race\"}, {\"Id\": 61187, \"Age Cohort\": \"6 to 12\", \"Age\": 11, \"Gender\": \"Male\", \"Expenditures\": 2885, \"Ethnicity\": \"Multi Race\"}, {\"Id\": 61192, \"Age Cohort\": \"18 to 21\", \"Age\": 20, \"Gender\": \"Male\", \"Expenditures\": 6255, \"Ethnicity\": \"Asian\"}, {\"Id\": 61329, \"Age Cohort\": \"18 to 21\", \"Age\": 18, \"Gender\": \"Female\", \"Expenditures\": 10068, \"Ethnicity\": \"White not Hispanic\"}, {\"Id\": 61449, \"Age Cohort\": \"13 to 17\", \"Age\": 14, \"Gender\": \"Male\", \"Expenditures\": 5025, \"Ethnicity\": \"Black\"}, {\"Id\": 61467, \"Age Cohort\": \"0 to 5\", \"Age\": 1, \"Gender\": \"Female\", \"Expenditures\": 2157, \"Ethnicity\": \"Asian\"}, {\"Id\": 61498, \"Age Cohort\": \"13 to 17\", \"Age\": 13, \"Gender\": \"Female\", \"Expenditures\": 3726, \"Ethnicity\": \"American Indian\"}, {\"Id\": 61570, \"Age Cohort\": \"6 to 12\", \"Age\": 11, \"Gender\": \"Male\", \"Expenditures\": 1286, \"Ethnicity\": \"Hispanic\"}, {\"Id\": 61588, \"Age Cohort\": \"22 to 50\", \"Age\": 24, \"Gender\": \"Female\", \"Expenditures\": 47674, \"Ethnicity\": \"White not Hispanic\"}, {\"Id\": 61654, \"Age Cohort\": \"18 to 21\", \"Age\": 21, \"Gender\": \"Female\", \"Expenditures\": 4731, \"Ethnicity\": \"Hispanic\"}, {\"Id\": 61680, \"Age Cohort\": \"13 to 17\", \"Age\": 16, \"Gender\": \"Male\", \"Expenditures\": 3839, \"Ethnicity\": \"White not Hispanic\"}, {\"Id\": 61785, \"Age Cohort\": \"13 to 17\", \"Age\": 13, \"Gender\": \"Female\", \"Expenditures\": 1195, \"Ethnicity\": \"White not Hispanic\"}, {\"Id\": 61806, \"Age Cohort\": \"22 to 50\", \"Age\": 24, \"Gender\": \"Female\", \"Expenditures\": 46911, \"Ethnicity\": \"Asian\"}, {\"Id\": 61887, \"Age Cohort\": \"13 to 17\", \"Age\": 17, \"Gender\": \"Male\", \"Expenditures\": 3629, \"Ethnicity\": \"Hispanic\"}, {\"Id\": 61944, \"Age Cohort\": \"51+\", \"Age\": 52, \"Gender\": \"Female\", \"Expenditures\": 48826, \"Ethnicity\": \"White not Hispanic\"}, {\"Id\": 61951, \"Age Cohort\": \"18 to 21\", \"Age\": 21, \"Gender\": \"Male\", \"Expenditures\": 15718, \"Ethnicity\": \"White not Hispanic\"}, {\"Id\": 61954, \"Age Cohort\": \"18 to 21\", \"Age\": 19, \"Gender\": \"Female\", \"Expenditures\": 5616, \"Ethnicity\": \"Hispanic\"}, {\"Id\": 62150, \"Age Cohort\": \"22 to 50\", \"Age\": 29, \"Gender\": \"Male\", \"Expenditures\": 34708, \"Ethnicity\": \"White not Hispanic\"}, {\"Id\": 62191, \"Age Cohort\": \"13 to 17\", \"Age\": 17, \"Gender\": \"Male\", \"Expenditures\": 3075, \"Ethnicity\": \"Asian\"}, {\"Id\": 62282, \"Age Cohort\": \"18 to 21\", \"Age\": 21, \"Gender\": \"Female\", \"Expenditures\": 6669, \"Ethnicity\": \"White not Hispanic\"}, {\"Id\": 62302, \"Age Cohort\": \"22 to 50\", \"Age\": 23, \"Gender\": \"Male\", \"Expenditures\": 39693, \"Ethnicity\": \"White not Hispanic\"}, {\"Id\": 62342, \"Age Cohort\": \"6 to 12\", \"Age\": 9, \"Gender\": \"Male\", \"Expenditures\": 3552, \"Ethnicity\": \"White not Hispanic\"}, {\"Id\": 62485, \"Age Cohort\": \"22 to 50\", \"Age\": 23, \"Gender\": \"Female\", \"Expenditures\": 27845, \"Ethnicity\": \"Hispanic\"}, {\"Id\": 62691, \"Age Cohort\": \"6 to 12\", \"Age\": 10, \"Gender\": \"Female\", \"Expenditures\": 2409, \"Ethnicity\": \"Hispanic\"}, {\"Id\": 62913, \"Age Cohort\": \"6 to 12\", \"Age\": 8, \"Gender\": \"Female\", \"Expenditures\": 2122, \"Ethnicity\": \"White not Hispanic\"}, {\"Id\": 62935, \"Age Cohort\": \"22 to 50\", \"Age\": 33, \"Gender\": \"Female\", \"Expenditures\": 42458, \"Ethnicity\": \"White not Hispanic\"}, {\"Id\": 62957, \"Age Cohort\": \"22 to 50\", \"Age\": 22, \"Gender\": \"Male\", \"Expenditures\": 40648, \"Ethnicity\": \"White not Hispanic\"}, {\"Id\": 63343, \"Age Cohort\": \"22 to 50\", \"Age\": 27, \"Gender\": \"Male\", \"Expenditures\": 36712, \"Ethnicity\": \"Asian\"}, {\"Id\": 63363, \"Age Cohort\": \"22 to 50\", \"Age\": 22, \"Gender\": \"Male\", \"Expenditures\": 31138, \"Ethnicity\": \"White not Hispanic\"}, {\"Id\": 63384, \"Age Cohort\": \"13 to 17\", \"Age\": 15, \"Gender\": \"Female\", \"Expenditures\": 2917, \"Ethnicity\": \"Asian\"}, {\"Id\": 63810, \"Age Cohort\": \"51+\", \"Age\": 68, \"Gender\": \"Male\", \"Expenditures\": 43945, \"Ethnicity\": \"White not Hispanic\"}, {\"Id\": 63833, \"Age Cohort\": \"22 to 50\", \"Age\": 27, \"Gender\": \"Male\", \"Expenditures\": 49793, \"Ethnicity\": \"White not Hispanic\"}, {\"Id\": 63959, \"Age Cohort\": \"18 to 21\", \"Age\": 20, \"Gender\": \"Female\", \"Expenditures\": 10247, \"Ethnicity\": \"Hispanic\"}, {\"Id\": 63992, \"Age Cohort\": \"51+\", \"Age\": 59, \"Gender\": \"Male\", \"Expenditures\": 33110, \"Ethnicity\": \"White not Hispanic\"}, {\"Id\": 64041, \"Age Cohort\": \"6 to 12\", \"Age\": 6, \"Gender\": \"Female\", \"Expenditures\": 1722, \"Ethnicity\": \"White not Hispanic\"}, {\"Id\": 64083, \"Age Cohort\": \"51+\", \"Age\": 75, \"Gender\": \"Male\", \"Expenditures\": 50261, \"Ethnicity\": \"White not Hispanic\"}, {\"Id\": 64181, \"Age Cohort\": \"6 to 12\", \"Age\": 8, \"Gender\": \"Male\", \"Expenditures\": 2153, \"Ethnicity\": \"Hispanic\"}, {\"Id\": 64182, \"Age Cohort\": \"6 to 12\", \"Age\": 12, \"Gender\": \"Male\", \"Expenditures\": 847, \"Ethnicity\": \"Hispanic\"}, {\"Id\": 64192, \"Age Cohort\": \"51+\", \"Age\": 66, \"Gender\": \"Female\", \"Expenditures\": 50910, \"Ethnicity\": \"White not Hispanic\"}, {\"Id\": 64319, \"Age Cohort\": \"18 to 21\", \"Age\": 20, \"Gender\": \"Male\", \"Expenditures\": 11470, \"Ethnicity\": \"Hispanic\"}, {\"Id\": 64421, \"Age Cohort\": \"6 to 12\", \"Age\": 10, \"Gender\": \"Female\", \"Expenditures\": 3584, \"Ethnicity\": \"Black\"}, {\"Id\": 64429, \"Age Cohort\": \"13 to 17\", \"Age\": 17, \"Gender\": \"Female\", \"Expenditures\": 2722, \"Ethnicity\": \"White not Hispanic\"}, {\"Id\": 64820, \"Age Cohort\": \"51+\", \"Age\": 63, \"Gender\": \"Male\", \"Expenditures\": 48614, \"Ethnicity\": \"White not Hispanic\"}, {\"Id\": 64829, \"Age Cohort\": \"18 to 21\", \"Age\": 18, \"Gender\": \"Male\", \"Expenditures\": 6991, \"Ethnicity\": \"White not Hispanic\"}, {\"Id\": 64899, \"Age Cohort\": \"13 to 17\", \"Age\": 16, \"Gender\": \"Female\", \"Expenditures\": 3698, \"Ethnicity\": \"Hispanic\"}, {\"Id\": 65036, \"Age Cohort\": \"22 to 50\", \"Age\": 28, \"Gender\": \"Male\", \"Expenditures\": 33278, \"Ethnicity\": \"Asian\"}, {\"Id\": 65255, \"Age Cohort\": \"51+\", \"Age\": 54, \"Gender\": \"Female\", \"Expenditures\": 50141, \"Ethnicity\": \"Native Hawaiian\"}, {\"Id\": 65274, \"Age Cohort\": \"0 to 5\", \"Age\": 5, \"Gender\": \"Female\", \"Expenditures\": 2308, \"Ethnicity\": \"Hispanic\"}, {\"Id\": 65331, \"Age Cohort\": \"13 to 17\", \"Age\": 17, \"Gender\": \"Male\", \"Expenditures\": 4527, \"Ethnicity\": \"Hispanic\"}, {\"Id\": 65394, \"Age Cohort\": \"6 to 12\", \"Age\": 6, \"Gender\": \"Female\", \"Expenditures\": 1254, \"Ethnicity\": \"Hispanic\"}, {\"Id\": 65419, \"Age Cohort\": \"13 to 17\", \"Age\": 16, \"Gender\": \"Male\", \"Expenditures\": 4017, \"Ethnicity\": \"White not Hispanic\"}, {\"Id\": 65431, \"Age Cohort\": \"51+\", \"Age\": 53, \"Gender\": \"Male\", \"Expenditures\": 53457, \"Ethnicity\": \"White not Hispanic\"}, {\"Id\": 65619, \"Age Cohort\": \"18 to 21\", \"Age\": 20, \"Gender\": \"Male\", \"Expenditures\": 6829, \"Ethnicity\": \"White not Hispanic\"}, {\"Id\": 65675, \"Age Cohort\": \"6 to 12\", \"Age\": 10, \"Gender\": \"Male\", \"Expenditures\": 1110, \"Ethnicity\": \"Hispanic\"}, {\"Id\": 65787, \"Age Cohort\": \"13 to 17\", \"Age\": 15, \"Gender\": \"Male\", \"Expenditures\": 3423, \"Ethnicity\": \"Hispanic\"}, {\"Id\": 65901, \"Age Cohort\": \"6 to 12\", \"Age\": 12, \"Gender\": \"Male\", \"Expenditures\": 1184, \"Ethnicity\": \"Hispanic\"}, {\"Id\": 65907, \"Age Cohort\": \"6 to 12\", \"Age\": 12, \"Gender\": \"Male\", \"Expenditures\": 1854, \"Ethnicity\": \"Black\"}, {\"Id\": 66098, \"Age Cohort\": \"6 to 12\", \"Age\": 12, \"Gender\": \"Male\", \"Expenditures\": 1689, \"Ethnicity\": \"Hispanic\"}, {\"Id\": 66116, \"Age Cohort\": \"18 to 21\", \"Age\": 18, \"Gender\": \"Male\", \"Expenditures\": 10535, \"Ethnicity\": \"Asian\"}, {\"Id\": 66375, \"Age Cohort\": \"6 to 12\", \"Age\": 10, \"Gender\": \"Male\", \"Expenditures\": 1560, \"Ethnicity\": \"Hispanic\"}, {\"Id\": 66446, \"Age Cohort\": \"18 to 21\", \"Age\": 18, \"Gender\": \"Male\", \"Expenditures\": 6620, \"Ethnicity\": \"Asian\"}, {\"Id\": 66577, \"Age Cohort\": \"18 to 21\", \"Age\": 19, \"Gender\": \"Male\", \"Expenditures\": 14729, \"Ethnicity\": \"Hispanic\"}, {\"Id\": 66734, \"Age Cohort\": \"22 to 50\", \"Age\": 23, \"Gender\": \"Female\", \"Expenditures\": 40394, \"Ethnicity\": \"White not Hispanic\"}, {\"Id\": 66769, \"Age Cohort\": \"13 to 17\", \"Age\": 17, \"Gender\": \"Male\", \"Expenditures\": 3520, \"Ethnicity\": \"White not Hispanic\"}, {\"Id\": 66818, \"Age Cohort\": \"18 to 21\", \"Age\": 19, \"Gender\": \"Female\", \"Expenditures\": 14926, \"Ethnicity\": \"Hispanic\"}, {\"Id\": 66840, \"Age Cohort\": \"22 to 50\", \"Age\": 26, \"Gender\": \"Female\", \"Expenditures\": 44588, \"Ethnicity\": \"White not Hispanic\"}, {\"Id\": 66841, \"Age Cohort\": \"51+\", \"Age\": 52, \"Gender\": \"Male\", \"Expenditures\": 39536, \"Ethnicity\": \"White not Hispanic\"}, {\"Id\": 67058, \"Age Cohort\": \"22 to 50\", \"Age\": 24, \"Gender\": \"Female\", \"Expenditures\": 45735, \"Ethnicity\": \"White not Hispanic\"}, {\"Id\": 67230, \"Age Cohort\": \"6 to 12\", \"Age\": 11, \"Gender\": \"Female\", \"Expenditures\": 2143, \"Ethnicity\": \"Hispanic\"}, {\"Id\": 67231, \"Age Cohort\": \"22 to 50\", \"Age\": 22, \"Gender\": \"Female\", \"Expenditures\": 44002, \"Ethnicity\": \"White not Hispanic\"}, {\"Id\": 67248, \"Age Cohort\": \"18 to 21\", \"Age\": 18, \"Gender\": \"Male\", \"Expenditures\": 8511, \"Ethnicity\": \"Hispanic\"}, {\"Id\": 67343, \"Age Cohort\": \"51+\", \"Age\": 65, \"Gender\": \"Male\", \"Expenditures\": 55442, \"Ethnicity\": \"Black\"}, {\"Id\": 67403, \"Age Cohort\": \"18 to 21\", \"Age\": 18, \"Gender\": \"Male\", \"Expenditures\": 9846, \"Ethnicity\": \"Asian\"}, {\"Id\": 67408, \"Age Cohort\": \"22 to 50\", \"Age\": 23, \"Gender\": \"Male\", \"Expenditures\": 49548, \"Ethnicity\": \"Hispanic\"}, {\"Id\": 67535, \"Age Cohort\": \"6 to 12\", \"Age\": 6, \"Gender\": \"Male\", \"Expenditures\": 2493, \"Ethnicity\": \"Hispanic\"}, {\"Id\": 67616, \"Age Cohort\": \"18 to 21\", \"Age\": 20, \"Gender\": \"Female\", \"Expenditures\": 13579, \"Ethnicity\": \"Hispanic\"}, {\"Id\": 67660, \"Age Cohort\": \"22 to 50\", \"Age\": 33, \"Gender\": \"Male\", \"Expenditures\": 44765, \"Ethnicity\": \"White not Hispanic\"}, {\"Id\": 67740, \"Age Cohort\": \"22 to 50\", \"Age\": 39, \"Gender\": \"Male\", \"Expenditures\": 36621, \"Ethnicity\": \"Hispanic\"}, {\"Id\": 67805, \"Age Cohort\": \"22 to 50\", \"Age\": 27, \"Gender\": \"Male\", \"Expenditures\": 50301, \"Ethnicity\": \"White not Hispanic\"}, {\"Id\": 67978, \"Age Cohort\": \"22 to 50\", \"Age\": 27, \"Gender\": \"Female\", \"Expenditures\": 32886, \"Ethnicity\": \"Asian\"}, {\"Id\": 68112, \"Age Cohort\": \"22 to 50\", \"Age\": 36, \"Gender\": \"Male\", \"Expenditures\": 38400, \"Ethnicity\": \"Black\"}, {\"Id\": 68296, \"Age Cohort\": \"18 to 21\", \"Age\": 18, \"Gender\": \"Male\", \"Expenditures\": 10299, \"Ethnicity\": \"White not Hispanic\"}, {\"Id\": 68353, \"Age Cohort\": \"22 to 50\", \"Age\": 25, \"Gender\": \"Male\", \"Expenditures\": 34425, \"Ethnicity\": \"White not Hispanic\"}, {\"Id\": 68357, \"Age Cohort\": \"22 to 50\", \"Age\": 27, \"Gender\": \"Male\", \"Expenditures\": 38331, \"Ethnicity\": \"White not Hispanic\"}, {\"Id\": 68378, \"Age Cohort\": \"6 to 12\", \"Age\": 11, \"Gender\": \"Male\", \"Expenditures\": 2498, \"Ethnicity\": \"Hispanic\"}, {\"Id\": 68507, \"Age Cohort\": \"18 to 21\", \"Age\": 20, \"Gender\": \"Female\", \"Expenditures\": 6771, \"Ethnicity\": \"Asian\"}, {\"Id\": 68570, \"Age Cohort\": \"18 to 21\", \"Age\": 20, \"Gender\": \"Male\", \"Expenditures\": 12265, \"Ethnicity\": \"Asian\"}, {\"Id\": 68685, \"Age Cohort\": \"22 to 50\", \"Age\": 27, \"Gender\": \"Male\", \"Expenditures\": 50353, \"Ethnicity\": \"White not Hispanic\"}, {\"Id\": 68697, \"Age Cohort\": \"13 to 17\", \"Age\": 16, \"Gender\": \"Female\", \"Expenditures\": 2797, \"Ethnicity\": \"Hispanic\"}, {\"Id\": 68724, \"Age Cohort\": \"6 to 12\", \"Age\": 8, \"Gender\": \"Female\", \"Expenditures\": 1733, \"Ethnicity\": \"Black\"}, {\"Id\": 68759, \"Age Cohort\": \"6 to 12\", \"Age\": 10, \"Gender\": \"Female\", \"Expenditures\": 992, \"Ethnicity\": \"White not Hispanic\"}, {\"Id\": 68824, \"Age Cohort\": \"0 to 5\", \"Age\": 5, \"Gender\": \"Female\", \"Expenditures\": 1339, \"Ethnicity\": \"Asian\"}, {\"Id\": 68830, \"Age Cohort\": \"6 to 12\", \"Age\": 8, \"Gender\": \"Male\", \"Expenditures\": 1594, \"Ethnicity\": \"Asian\"}, {\"Id\": 68863, \"Age Cohort\": \"13 to 17\", \"Age\": 13, \"Gender\": \"Female\", \"Expenditures\": 3332, \"Ethnicity\": \"White not Hispanic\"}, {\"Id\": 68944, \"Age Cohort\": \"13 to 17\", \"Age\": 13, \"Gender\": \"Male\", \"Expenditures\": 4963, \"Ethnicity\": \"Hispanic\"}, {\"Id\": 68956, \"Age Cohort\": \"6 to 12\", \"Age\": 8, \"Gender\": \"Female\", \"Expenditures\": 1417, \"Ethnicity\": \"Hispanic\"}, {\"Id\": 69156, \"Age Cohort\": \"18 to 21\", \"Age\": 18, \"Gender\": \"Female\", \"Expenditures\": 10969, \"Ethnicity\": \"White not Hispanic\"}, {\"Id\": 69282, \"Age Cohort\": \"6 to 12\", \"Age\": 9, \"Gender\": \"Male\", \"Expenditures\": 2643, \"Ethnicity\": \"Hispanic\"}, {\"Id\": 69499, \"Age Cohort\": \"18 to 21\", \"Age\": 20, \"Gender\": \"Male\", \"Expenditures\": 10976, \"Ethnicity\": \"Asian\"}, {\"Id\": 69542, \"Age Cohort\": \"0 to 5\", \"Age\": 5, \"Gender\": \"Female\", \"Expenditures\": 1053, \"Ethnicity\": \"Multi Race\"}, {\"Id\": 69581, \"Age Cohort\": \"6 to 12\", \"Age\": 7, \"Gender\": \"Female\", \"Expenditures\": 1903, \"Ethnicity\": \"Hispanic\"}, {\"Id\": 69608, \"Age Cohort\": \"13 to 17\", \"Age\": 16, \"Gender\": \"Male\", \"Expenditures\": 2760, \"Ethnicity\": \"Hispanic\"}, {\"Id\": 69614, \"Age Cohort\": \"18 to 21\", \"Age\": 18, \"Gender\": \"Female\", \"Expenditures\": 8567, \"Ethnicity\": \"White not Hispanic\"}, {\"Id\": 69616, \"Age Cohort\": \"18 to 21\", \"Age\": 21, \"Gender\": \"Female\", \"Expenditures\": 12172, \"Ethnicity\": \"White not Hispanic\"}, {\"Id\": 69726, \"Age Cohort\": \"18 to 21\", \"Age\": 19, \"Gender\": \"Female\", \"Expenditures\": 6690, \"Ethnicity\": \"Hispanic\"}, {\"Id\": 69933, \"Age Cohort\": \"18 to 21\", \"Age\": 19, \"Gender\": \"Female\", \"Expenditures\": 11629, \"Ethnicity\": \"Hispanic\"}, {\"Id\": 70035, \"Age Cohort\": \"22 to 50\", \"Age\": 30, \"Gender\": \"Female\", \"Expenditures\": 40727, \"Ethnicity\": \"Native Hawaiian\"}, {\"Id\": 70210, \"Age Cohort\": \"13 to 17\", \"Age\": 17, \"Gender\": \"Female\", \"Expenditures\": 5055, \"Ethnicity\": \"Hispanic\"}, {\"Id\": 70230, \"Age Cohort\": \"13 to 17\", \"Age\": 17, \"Gender\": \"Male\", \"Expenditures\": 3052, \"Ethnicity\": \"White not Hispanic\"}, {\"Id\": 70244, \"Age Cohort\": \"22 to 50\", \"Age\": 39, \"Gender\": \"Female\", \"Expenditures\": 56716, \"Ethnicity\": \"White not Hispanic\"}, {\"Id\": 70290, \"Age Cohort\": \"13 to 17\", \"Age\": 15, \"Gender\": \"Male\", \"Expenditures\": 3911, \"Ethnicity\": \"Hispanic\"}, {\"Id\": 70594, \"Age Cohort\": \"13 to 17\", \"Age\": 14, \"Gender\": \"Female\", \"Expenditures\": 3060, \"Ethnicity\": \"Asian\"}, {\"Id\": 70609, \"Age Cohort\": \"18 to 21\", \"Age\": 18, \"Gender\": \"Male\", \"Expenditures\": 3225, \"Ethnicity\": \"Hispanic\"}, {\"Id\": 70727, \"Age Cohort\": \"18 to 21\", \"Age\": 20, \"Gender\": \"Male\", \"Expenditures\": 11242, \"Ethnicity\": \"White not Hispanic\"}, {\"Id\": 70807, \"Age Cohort\": \"13 to 17\", \"Age\": 17, \"Gender\": \"Male\", \"Expenditures\": 4152, \"Ethnicity\": \"Hispanic\"}, {\"Id\": 70929, \"Age Cohort\": \"18 to 21\", \"Age\": 19, \"Gender\": \"Female\", \"Expenditures\": 7805, \"Ethnicity\": \"Hispanic\"}, {\"Id\": 71045, \"Age Cohort\": \"13 to 17\", \"Age\": 15, \"Gender\": \"Male\", \"Expenditures\": 3702, \"Ethnicity\": \"Hispanic\"}, {\"Id\": 71073, \"Age Cohort\": \"13 to 17\", \"Age\": 14, \"Gender\": \"Female\", \"Expenditures\": 5062, \"Ethnicity\": \"Multi Race\"}, {\"Id\": 71233, \"Age Cohort\": \"6 to 12\", \"Age\": 9, \"Gender\": \"Female\", \"Expenditures\": 1690, \"Ethnicity\": \"White not Hispanic\"}, {\"Id\": 71271, \"Age Cohort\": \"22 to 50\", \"Age\": 27, \"Gender\": \"Female\", \"Expenditures\": 39454, \"Ethnicity\": \"Asian\"}, {\"Id\": 71346, \"Age Cohort\": \"51+\", \"Age\": 53, \"Gender\": \"Male\", \"Expenditures\": 49380, \"Ethnicity\": \"White not Hispanic\"}, {\"Id\": 71422, \"Age Cohort\": \"18 to 21\", \"Age\": 20, \"Gender\": \"Female\", \"Expenditures\": 16677, \"Ethnicity\": \"Hispanic\"}, {\"Id\": 71440, \"Age Cohort\": \"13 to 17\", \"Age\": 13, \"Gender\": \"Male\", \"Expenditures\": 3395, \"Ethnicity\": \"Hispanic\"}, {\"Id\": 71526, \"Age Cohort\": \"51+\", \"Age\": 65, \"Gender\": \"Female\", \"Expenditures\": 54874, \"Ethnicity\": \"White not Hispanic\"}, {\"Id\": 71763, \"Age Cohort\": \"6 to 12\", \"Age\": 6, \"Gender\": \"Female\", \"Expenditures\": 3099, \"Ethnicity\": \"Hispanic\"}, {\"Id\": 71846, \"Age Cohort\": \"13 to 17\", \"Age\": 17, \"Gender\": \"Female\", \"Expenditures\": 3088, \"Ethnicity\": \"Hispanic\"}, {\"Id\": 71847, \"Age Cohort\": \"18 to 21\", \"Age\": 18, \"Gender\": \"Male\", \"Expenditures\": 14221, \"Ethnicity\": \"Hispanic\"}, {\"Id\": 71928, \"Age Cohort\": \"18 to 21\", \"Age\": 20, \"Gender\": \"Male\", \"Expenditures\": 12392, \"Ethnicity\": \"Asian\"}, {\"Id\": 71969, \"Age Cohort\": \"13 to 17\", \"Age\": 16, \"Gender\": \"Male\", \"Expenditures\": 4166, \"Ethnicity\": \"Black\"}, {\"Id\": 72028, \"Age Cohort\": \"18 to 21\", \"Age\": 19, \"Gender\": \"Female\", \"Expenditures\": 11032, \"Ethnicity\": \"White not Hispanic\"}, {\"Id\": 72101, \"Age Cohort\": \"22 to 50\", \"Age\": 34, \"Gender\": \"Male\", \"Expenditures\": 40546, \"Ethnicity\": \"White not Hispanic\"}, {\"Id\": 72341, \"Age Cohort\": \"6 to 12\", \"Age\": 6, \"Gender\": \"Male\", \"Expenditures\": 2597, \"Ethnicity\": \"Asian\"}, {\"Id\": 72365, \"Age Cohort\": \"18 to 21\", \"Age\": 19, \"Gender\": \"Male\", \"Expenditures\": 11068, \"Ethnicity\": \"White not Hispanic\"}, {\"Id\": 72418, \"Age Cohort\": \"6 to 12\", \"Age\": 9, \"Gender\": \"Female\", \"Expenditures\": 2634, \"Ethnicity\": \"Hispanic\"}, {\"Id\": 72424, \"Age Cohort\": \"22 to 50\", \"Age\": 34, \"Gender\": \"Female\", \"Expenditures\": 45409, \"Ethnicity\": \"Hispanic\"}, {\"Id\": 72511, \"Age Cohort\": \"51+\", \"Age\": 56, \"Gender\": \"Male\", \"Expenditures\": 52618, \"Ethnicity\": \"Black\"}, {\"Id\": 72593, \"Age Cohort\": \"22 to 50\", \"Age\": 22, \"Gender\": \"Female\", \"Expenditures\": 31853, \"Ethnicity\": \"Black\"}, {\"Id\": 72606, \"Age Cohort\": \"18 to 21\", \"Age\": 18, \"Gender\": \"Female\", \"Expenditures\": 3829, \"Ethnicity\": \"Hispanic\"}, {\"Id\": 72613, \"Age Cohort\": \"18 to 21\", \"Age\": 21, \"Gender\": \"Female\", \"Expenditures\": 7166, \"Ethnicity\": \"White not Hispanic\"}, {\"Id\": 72729, \"Age Cohort\": \"13 to 17\", \"Age\": 16, \"Gender\": \"Male\", \"Expenditures\": 4615, \"Ethnicity\": \"Other\"}, {\"Id\": 72808, \"Age Cohort\": \"18 to 21\", \"Age\": 18, \"Gender\": \"Male\", \"Expenditures\": 11282, \"Ethnicity\": \"Asian\"}, {\"Id\": 72893, \"Age Cohort\": \"13 to 17\", \"Age\": 16, \"Gender\": \"Female\", \"Expenditures\": 3060, \"Ethnicity\": \"Hispanic\"}, {\"Id\": 72903, \"Age Cohort\": \"0 to 5\", \"Age\": 5, \"Gender\": \"Female\", \"Expenditures\": 1702, \"Ethnicity\": \"Hispanic\"}, {\"Id\": 72982, \"Age Cohort\": \"18 to 21\", \"Age\": 21, \"Gender\": \"Male\", \"Expenditures\": 6977, \"Ethnicity\": \"Hispanic\"}, {\"Id\": 73085, \"Age Cohort\": \"18 to 21\", \"Age\": 20, \"Gender\": \"Male\", \"Expenditures\": 10898, \"Ethnicity\": \"White not Hispanic\"}, {\"Id\": 73176, \"Age Cohort\": \"13 to 17\", \"Age\": 13, \"Gender\": \"Male\", \"Expenditures\": 3419, \"Ethnicity\": \"Asian\"}, {\"Id\": 73402, \"Age Cohort\": \"13 to 17\", \"Age\": 14, \"Gender\": \"Female\", \"Expenditures\": 3633, \"Ethnicity\": \"Hispanic\"}, {\"Id\": 73569, \"Age Cohort\": \"18 to 21\", \"Age\": 18, \"Gender\": \"Female\", \"Expenditures\": 12603, \"Ethnicity\": \"Hispanic\"}, {\"Id\": 73713, \"Age Cohort\": \"51+\", \"Age\": 62, \"Gender\": \"Female\", \"Expenditures\": 50219, \"Ethnicity\": \"White not Hispanic\"}, {\"Id\": 73750, \"Age Cohort\": \"6 to 12\", \"Age\": 8, \"Gender\": \"Male\", \"Expenditures\": 2261, \"Ethnicity\": \"Black\"}, {\"Id\": 73758, \"Age Cohort\": \"6 to 12\", \"Age\": 6, \"Gender\": \"Male\", \"Expenditures\": 3203, \"Ethnicity\": \"Hispanic\"}, {\"Id\": 73772, \"Age Cohort\": \"22 to 50\", \"Age\": 35, \"Gender\": \"Female\", \"Expenditures\": 42329, \"Ethnicity\": \"White not Hispanic\"}, {\"Id\": 73907, \"Age Cohort\": \"6 to 12\", \"Age\": 8, \"Gender\": \"Female\", \"Expenditures\": 1609, \"Ethnicity\": \"Hispanic\"}, {\"Id\": 74044, \"Age Cohort\": \"18 to 21\", \"Age\": 18, \"Gender\": \"Male\", \"Expenditures\": 11176, \"Ethnicity\": \"Hispanic\"}, {\"Id\": 74146, \"Age Cohort\": \"18 to 21\", \"Age\": 19, \"Gender\": \"Female\", \"Expenditures\": 8398, \"Ethnicity\": \"White not Hispanic\"}, {\"Id\": 74185, \"Age Cohort\": \"6 to 12\", \"Age\": 7, \"Gender\": \"Male\", \"Expenditures\": 1728, \"Ethnicity\": \"White not Hispanic\"}, {\"Id\": 74272, \"Age Cohort\": \"18 to 21\", \"Age\": 19, \"Gender\": \"Male\", \"Expenditures\": 11180, \"Ethnicity\": \"Hispanic\"}, {\"Id\": 74463, \"Age Cohort\": \"22 to 50\", \"Age\": 27, \"Gender\": \"Female\", \"Expenditures\": 28581, \"Ethnicity\": \"Asian\"}, {\"Id\": 74521, \"Age Cohort\": \"6 to 12\", \"Age\": 12, \"Gender\": \"Male\", \"Expenditures\": 1416, \"Ethnicity\": \"Hispanic\"}, {\"Id\": 74523, \"Age Cohort\": \"13 to 17\", \"Age\": 15, \"Gender\": \"Male\", \"Expenditures\": 3677, \"Ethnicity\": \"Hispanic\"}, {\"Id\": 74683, \"Age Cohort\": \"13 to 17\", \"Age\": 15, \"Gender\": \"Male\", \"Expenditures\": 4616, \"Ethnicity\": \"White not Hispanic\"}, {\"Id\": 74721, \"Age Cohort\": \"51+\", \"Age\": 90, \"Gender\": \"Female\", \"Expenditures\": 58392, \"Ethnicity\": \"American Indian\"}, {\"Id\": 74878, \"Age Cohort\": \"6 to 12\", \"Age\": 9, \"Gender\": \"Male\", \"Expenditures\": 1661, \"Ethnicity\": \"Hispanic\"}, {\"Id\": 74891, \"Age Cohort\": \"0 to 5\", \"Age\": 5, \"Gender\": \"Female\", \"Expenditures\": 1611, \"Ethnicity\": \"Black\"}, {\"Id\": 74906, \"Age Cohort\": \"18 to 21\", \"Age\": 21, \"Gender\": \"Male\", \"Expenditures\": 9363, \"Ethnicity\": \"White not Hispanic\"}, {\"Id\": 74924, \"Age Cohort\": \"13 to 17\", \"Age\": 17, \"Gender\": \"Female\", \"Expenditures\": 5347, \"Ethnicity\": \"Hispanic\"}, {\"Id\": 74925, \"Age Cohort\": \"13 to 17\", \"Age\": 14, \"Gender\": \"Female\", \"Expenditures\": 4378, \"Ethnicity\": \"Hispanic\"}, {\"Id\": 74970, \"Age Cohort\": \"18 to 21\", \"Age\": 20, \"Gender\": \"Female\", \"Expenditures\": 10815, \"Ethnicity\": \"White not Hispanic\"}, {\"Id\": 75037, \"Age Cohort\": \"6 to 12\", \"Age\": 10, \"Gender\": \"Female\", \"Expenditures\": 2368, \"Ethnicity\": \"White not Hispanic\"}, {\"Id\": 75049, \"Age Cohort\": \"22 to 50\", \"Age\": 30, \"Gender\": \"Female\", \"Expenditures\": 40572, \"Ethnicity\": \"Hispanic\"}, {\"Id\": 75122, \"Age Cohort\": \"51+\", \"Age\": 72, \"Gender\": \"Female\", \"Expenditures\": 50198, \"Ethnicity\": \"White not Hispanic\"}, {\"Id\": 75138, \"Age Cohort\": \"6 to 12\", \"Age\": 11, \"Gender\": \"Male\", \"Expenditures\": 793, \"Ethnicity\": \"Hispanic\"}, {\"Id\": 75140, \"Age Cohort\": \"13 to 17\", \"Age\": 14, \"Gender\": \"Male\", \"Expenditures\": 2551, \"Ethnicity\": \"White not Hispanic\"}, {\"Id\": 75193, \"Age Cohort\": \"18 to 21\", \"Age\": 19, \"Gender\": \"Female\", \"Expenditures\": 8804, \"Ethnicity\": \"White not Hispanic\"}, {\"Id\": 75607, \"Age Cohort\": \"6 to 12\", \"Age\": 10, \"Gender\": \"Female\", \"Expenditures\": 2865, \"Ethnicity\": \"Hispanic\"}, {\"Id\": 75696, \"Age Cohort\": \"0 to 5\", \"Age\": 3, \"Gender\": \"Female\", \"Expenditures\": 1167, \"Ethnicity\": \"Hispanic\"}, {\"Id\": 75753, \"Age Cohort\": \"13 to 17\", \"Age\": 13, \"Gender\": \"Female\", \"Expenditures\": 5098, \"Ethnicity\": \"White not Hispanic\"}, {\"Id\": 75806, \"Age Cohort\": \"13 to 17\", \"Age\": 15, \"Gender\": \"Male\", \"Expenditures\": 5304, \"Ethnicity\": \"Hispanic\"}, {\"Id\": 75960, \"Age Cohort\": \"22 to 50\", \"Age\": 36, \"Gender\": \"Male\", \"Expenditures\": 38246, \"Ethnicity\": \"White not Hispanic\"}, {\"Id\": 76011, \"Age Cohort\": \"6 to 12\", \"Age\": 12, \"Gender\": \"Male\", \"Expenditures\": 1776, \"Ethnicity\": \"Hispanic\"}, {\"Id\": 76065, \"Age Cohort\": \"18 to 21\", \"Age\": 20, \"Gender\": \"Female\", \"Expenditures\": 15711, \"Ethnicity\": \"Hispanic\"}, {\"Id\": 76344, \"Age Cohort\": \"6 to 12\", \"Age\": 12, \"Gender\": \"Male\", \"Expenditures\": 3704, \"Ethnicity\": \"Hispanic\"}, {\"Id\": 76353, \"Age Cohort\": \"51+\", \"Age\": 66, \"Gender\": \"Male\", \"Expenditures\": 47006, \"Ethnicity\": \"White not Hispanic\"}, {\"Id\": 76461, \"Age Cohort\": \"13 to 17\", \"Age\": 13, \"Gender\": \"Male\", \"Expenditures\": 4710, \"Ethnicity\": \"Asian\"}, {\"Id\": 76518, \"Age Cohort\": \"51+\", \"Age\": 88, \"Gender\": \"Female\", \"Expenditures\": 56415, \"Ethnicity\": \"White not Hispanic\"}, {\"Id\": 76533, \"Age Cohort\": \"18 to 21\", \"Age\": 18, \"Gender\": \"Male\", \"Expenditures\": 11240, \"Ethnicity\": \"White not Hispanic\"}, {\"Id\": 76547, \"Age Cohort\": \"51+\", \"Age\": 79, \"Gender\": \"Female\", \"Expenditures\": 58469, \"Ethnicity\": \"White not Hispanic\"}, {\"Id\": 76701, \"Age Cohort\": \"13 to 17\", \"Age\": 14, \"Gender\": \"Male\", \"Expenditures\": 4842, \"Ethnicity\": \"White not Hispanic\"}, {\"Id\": 76737, \"Age Cohort\": \"13 to 17\", \"Age\": 14, \"Gender\": \"Male\", \"Expenditures\": 2701, \"Ethnicity\": \"White not Hispanic\"}, {\"Id\": 76776, \"Age Cohort\": \"51+\", \"Age\": 90, \"Gender\": \"Female\", \"Expenditures\": 57845, \"Ethnicity\": \"White not Hispanic\"}, {\"Id\": 76834, \"Age Cohort\": \"18 to 21\", \"Age\": 21, \"Gender\": \"Male\", \"Expenditures\": 6482, \"Ethnicity\": \"White not Hispanic\"}, {\"Id\": 76865, \"Age Cohort\": \"18 to 21\", \"Age\": 20, \"Gender\": \"Male\", \"Expenditures\": 9162, \"Ethnicity\": \"Hispanic\"}, {\"Id\": 76990, \"Age Cohort\": \"18 to 21\", \"Age\": 21, \"Gender\": \"Female\", \"Expenditures\": 12552, \"Ethnicity\": \"White not Hispanic\"}, {\"Id\": 77021, \"Age Cohort\": \"22 to 50\", \"Age\": 32, \"Gender\": \"Male\", \"Expenditures\": 30791, \"Ethnicity\": \"White not Hispanic\"}, {\"Id\": 77155, \"Age Cohort\": \"18 to 21\", \"Age\": 19, \"Gender\": \"Female\", \"Expenditures\": 9341, \"Ethnicity\": \"Hispanic\"}, {\"Id\": 77193, \"Age Cohort\": \"22 to 50\", \"Age\": 30, \"Gender\": \"Male\", \"Expenditures\": 48121, \"Ethnicity\": \"Hispanic\"}, {\"Id\": 77349, \"Age Cohort\": \"13 to 17\", \"Age\": 16, \"Gender\": \"Male\", \"Expenditures\": 3047, \"Ethnicity\": \"White not Hispanic\"}, {\"Id\": 77450, \"Age Cohort\": \"18 to 21\", \"Age\": 18, \"Gender\": \"Male\", \"Expenditures\": 3707, \"Ethnicity\": \"Asian\"}, {\"Id\": 77463, \"Age Cohort\": \"51+\", \"Age\": 71, \"Gender\": \"Female\", \"Expenditures\": 52421, \"Ethnicity\": \"Asian\"}, {\"Id\": 77587, \"Age Cohort\": \"18 to 21\", \"Age\": 18, \"Gender\": \"Female\", \"Expenditures\": 18435, \"Ethnicity\": \"Asian\"}, {\"Id\": 77596, \"Age Cohort\": \"22 to 50\", \"Age\": 24, \"Gender\": \"Male\", \"Expenditures\": 37367, \"Ethnicity\": \"Hispanic\"}, {\"Id\": 77607, \"Age Cohort\": \"13 to 17\", \"Age\": 15, \"Gender\": \"Female\", \"Expenditures\": 4260, \"Ethnicity\": \"Hispanic\"}, {\"Id\": 77654, \"Age Cohort\": \"0 to 5\", \"Age\": 0, \"Gender\": \"Female\", \"Expenditures\": 1458, \"Ethnicity\": \"Hispanic\"}, {\"Id\": 77715, \"Age Cohort\": \"18 to 21\", \"Age\": 20, \"Gender\": \"Male\", \"Expenditures\": 12234, \"Ethnicity\": \"Asian\"}, {\"Id\": 77829, \"Age Cohort\": \"22 to 50\", \"Age\": 39, \"Gender\": \"Male\", \"Expenditures\": 33259, \"Ethnicity\": \"White not Hispanic\"}, {\"Id\": 77916, \"Age Cohort\": \"6 to 12\", \"Age\": 6, \"Gender\": \"Female\", \"Expenditures\": 1804, \"Ethnicity\": \"Hispanic\"}, {\"Id\": 77933, \"Age Cohort\": \"51+\", \"Age\": 51, \"Gender\": \"Female\", \"Expenditures\": 52105, \"Ethnicity\": \"White not Hispanic\"}, {\"Id\": 78026, \"Age Cohort\": \"6 to 12\", \"Age\": 10, \"Gender\": \"Female\", \"Expenditures\": 1934, \"Ethnicity\": \"Hispanic\"}, {\"Id\": 78221, \"Age Cohort\": \"22 to 50\", \"Age\": 30, \"Gender\": \"Male\", \"Expenditures\": 40268, \"Ethnicity\": \"White not Hispanic\"}, {\"Id\": 78254, \"Age Cohort\": \"22 to 50\", \"Age\": 23, \"Gender\": \"Male\", \"Expenditures\": 37479, \"Ethnicity\": \"Native Hawaiian\"}, {\"Id\": 78364, \"Age Cohort\": \"51+\", \"Age\": 75, \"Gender\": \"Female\", \"Expenditures\": 65581, \"Ethnicity\": \"Hispanic\"}, {\"Id\": 78374, \"Age Cohort\": \"51+\", \"Age\": 66, \"Gender\": \"Male\", \"Expenditures\": 42160, \"Ethnicity\": \"White not Hispanic\"}, {\"Id\": 78383, \"Age Cohort\": \"6 to 12\", \"Age\": 7, \"Gender\": \"Female\", \"Expenditures\": 3125, \"Ethnicity\": \"Black\"}, {\"Id\": 78532, \"Age Cohort\": \"18 to 21\", \"Age\": 21, \"Gender\": \"Female\", \"Expenditures\": 7683, \"Ethnicity\": \"Asian\"}, {\"Id\": 78612, \"Age Cohort\": \"22 to 50\", \"Age\": 35, \"Gender\": \"Female\", \"Expenditures\": 33070, \"Ethnicity\": \"White not Hispanic\"}, {\"Id\": 78803, \"Age Cohort\": \"22 to 50\", \"Age\": 32, \"Gender\": \"Male\", \"Expenditures\": 32704, \"Ethnicity\": \"White not Hispanic\"}, {\"Id\": 79152, \"Age Cohort\": \"18 to 21\", \"Age\": 21, \"Gender\": \"Male\", \"Expenditures\": 11491, \"Ethnicity\": \"Black\"}, {\"Id\": 79204, \"Age Cohort\": \"18 to 21\", \"Age\": 19, \"Gender\": \"Male\", \"Expenditures\": 5303, \"Ethnicity\": \"White not Hispanic\"}, {\"Id\": 79379, \"Age Cohort\": \"22 to 50\", \"Age\": 25, \"Gender\": \"Female\", \"Expenditures\": 46437, \"Ethnicity\": \"Hispanic\"}, {\"Id\": 79645, \"Age Cohort\": \"22 to 50\", \"Age\": 32, \"Gender\": \"Male\", \"Expenditures\": 28205, \"Ethnicity\": \"American Indian\"}, {\"Id\": 79659, \"Age Cohort\": \"0 to 5\", \"Age\": 0, \"Gender\": \"Female\", \"Expenditures\": 1704, \"Ethnicity\": \"White not Hispanic\"}, {\"Id\": 79711, \"Age Cohort\": \"22 to 50\", \"Age\": 31, \"Gender\": \"Male\", \"Expenditures\": 33051, \"Ethnicity\": \"White not Hispanic\"}, {\"Id\": 79930, \"Age Cohort\": \"22 to 50\", \"Age\": 23, \"Gender\": \"Male\", \"Expenditures\": 50542, \"Ethnicity\": \"Asian\"}, {\"Id\": 80142, \"Age Cohort\": \"22 to 50\", \"Age\": 27, \"Gender\": \"Male\", \"Expenditures\": 37708, \"Ethnicity\": \"Hispanic\"}, {\"Id\": 80225, \"Age Cohort\": \"6 to 12\", \"Age\": 6, \"Gender\": \"Female\", \"Expenditures\": 987, \"Ethnicity\": \"Hispanic\"}, {\"Id\": 80338, \"Age Cohort\": \"6 to 12\", \"Age\": 10, \"Gender\": \"Female\", \"Expenditures\": 1590, \"Ethnicity\": \"Hispanic\"}, {\"Id\": 80426, \"Age Cohort\": \"18 to 21\", \"Age\": 19, \"Gender\": \"Female\", \"Expenditures\": 15527, \"Ethnicity\": \"White not Hispanic\"}, {\"Id\": 80439, \"Age Cohort\": \"13 to 17\", \"Age\": 17, \"Gender\": \"Female\", \"Expenditures\": 4496, \"Ethnicity\": \"Hispanic\"}, {\"Id\": 80464, \"Age Cohort\": \"18 to 21\", \"Age\": 20, \"Gender\": \"Female\", \"Expenditures\": 13264, \"Ethnicity\": \"Asian\"}, {\"Id\": 80529, \"Age Cohort\": \"6 to 12\", \"Age\": 8, \"Gender\": \"Female\", \"Expenditures\": 2459, \"Ethnicity\": \"White not Hispanic\"}, {\"Id\": 80534, \"Age Cohort\": \"51+\", \"Age\": 71, \"Gender\": \"Male\", \"Expenditures\": 58594, \"Ethnicity\": \"Black\"}, {\"Id\": 80636, \"Age Cohort\": \"18 to 21\", \"Age\": 21, \"Gender\": \"Male\", \"Expenditures\": 13468, \"Ethnicity\": \"Hispanic\"}, {\"Id\": 80688, \"Age Cohort\": \"22 to 50\", \"Age\": 22, \"Gender\": \"Female\", \"Expenditures\": 40240, \"Ethnicity\": \"Asian\"}, {\"Id\": 80955, \"Age Cohort\": \"6 to 12\", \"Age\": 11, \"Gender\": \"Male\", \"Expenditures\": 2727, \"Ethnicity\": \"White not Hispanic\"}, {\"Id\": 81195, \"Age Cohort\": \"18 to 21\", \"Age\": 21, \"Gender\": \"Male\", \"Expenditures\": 9923, \"Ethnicity\": \"Asian\"}, {\"Id\": 81203, \"Age Cohort\": \"22 to 50\", \"Age\": 37, \"Gender\": \"Male\", \"Expenditures\": 41550, \"Ethnicity\": \"White not Hispanic\"}, {\"Id\": 81394, \"Age Cohort\": \"22 to 50\", \"Age\": 23, \"Gender\": \"Male\", \"Expenditures\": 36521, \"Ethnicity\": \"White not Hispanic\"}, {\"Id\": 81488, \"Age Cohort\": \"6 to 12\", \"Age\": 11, \"Gender\": \"Female\", \"Expenditures\": 1905, \"Ethnicity\": \"Hispanic\"}, {\"Id\": 81512, \"Age Cohort\": \"18 to 21\", \"Age\": 20, \"Gender\": \"Female\", \"Expenditures\": 7237, \"Ethnicity\": \"White not Hispanic\"}, {\"Id\": 81530, \"Age Cohort\": \"22 to 50\", \"Age\": 22, \"Gender\": \"Male\", \"Expenditures\": 28061, \"Ethnicity\": \"Black\"}, {\"Id\": 81669, \"Age Cohort\": \"22 to 50\", \"Age\": 24, \"Gender\": \"Female\", \"Expenditures\": 42746, \"Ethnicity\": \"White not Hispanic\"}, {\"Id\": 81703, \"Age Cohort\": \"22 to 50\", \"Age\": 26, \"Gender\": \"Male\", \"Expenditures\": 34915, \"Ethnicity\": \"White not Hispanic\"}, {\"Id\": 81816, \"Age Cohort\": \"18 to 21\", \"Age\": 18, \"Gender\": \"Female\", \"Expenditures\": 7144, \"Ethnicity\": \"White not Hispanic\"}, {\"Id\": 81823, \"Age Cohort\": \"13 to 17\", \"Age\": 15, \"Gender\": \"Female\", \"Expenditures\": 3251, \"Ethnicity\": \"Hispanic\"}, {\"Id\": 81913, \"Age Cohort\": \"22 to 50\", \"Age\": 30, \"Gender\": \"Male\", \"Expenditures\": 42070, \"Ethnicity\": \"Hispanic\"}, {\"Id\": 81916, \"Age Cohort\": \"22 to 50\", \"Age\": 23, \"Gender\": \"Male\", \"Expenditures\": 40159, \"Ethnicity\": \"Hispanic\"}, {\"Id\": 82022, \"Age Cohort\": \"22 to 50\", \"Age\": 22, \"Gender\": \"Male\", \"Expenditures\": 37201, \"Ethnicity\": \"White not Hispanic\"}, {\"Id\": 82126, \"Age Cohort\": \"51+\", \"Age\": 53, \"Gender\": \"Male\", \"Expenditures\": 50176, \"Ethnicity\": \"Hispanic\"}, {\"Id\": 82186, \"Age Cohort\": \"6 to 12\", \"Age\": 7, \"Gender\": \"Male\", \"Expenditures\": 1691, \"Ethnicity\": \"Asian\"}, {\"Id\": 82230, \"Age Cohort\": \"22 to 50\", \"Age\": 29, \"Gender\": \"Female\", \"Expenditures\": 46356, \"Ethnicity\": \"White not Hispanic\"}, {\"Id\": 82254, \"Age Cohort\": \"22 to 50\", \"Age\": 33, \"Gender\": \"Male\", \"Expenditures\": 38762, \"Ethnicity\": \"White not Hispanic\"}, {\"Id\": 82355, \"Age Cohort\": \"51+\", \"Age\": 72, \"Gender\": \"Male\", \"Expenditures\": 60808, \"Ethnicity\": \"Black\"}, {\"Id\": 82582, \"Age Cohort\": \"51+\", \"Age\": 62, \"Gender\": \"Male\", \"Expenditures\": 47709, \"Ethnicity\": \"White not Hispanic\"}, {\"Id\": 82743, \"Age Cohort\": \"18 to 21\", \"Age\": 18, \"Gender\": \"Female\", \"Expenditures\": 10439, \"Ethnicity\": \"Hispanic\"}, {\"Id\": 82904, \"Age Cohort\": \"18 to 21\", \"Age\": 20, \"Gender\": \"Female\", \"Expenditures\": 11810, \"Ethnicity\": \"Hispanic\"}, {\"Id\": 82928, \"Age Cohort\": \"22 to 50\", \"Age\": 31, \"Gender\": \"Male\", \"Expenditures\": 34021, \"Ethnicity\": \"Hispanic\"}, {\"Id\": 83000, \"Age Cohort\": \"51+\", \"Age\": 80, \"Gender\": \"Male\", \"Expenditures\": 68890, \"Ethnicity\": \"White not Hispanic\"}, {\"Id\": 83149, \"Age Cohort\": \"51+\", \"Age\": 70, \"Gender\": \"Male\", \"Expenditures\": 50230, \"Ethnicity\": \"Hispanic\"}, {\"Id\": 83212, \"Age Cohort\": \"22 to 50\", \"Age\": 29, \"Gender\": \"Male\", \"Expenditures\": 36658, \"Ethnicity\": \"White not Hispanic\"}, {\"Id\": 83224, \"Age Cohort\": \"51+\", \"Age\": 73, \"Gender\": \"Male\", \"Expenditures\": 51455, \"Ethnicity\": \"White not Hispanic\"}, {\"Id\": 83404, \"Age Cohort\": \"18 to 21\", \"Age\": 20, \"Gender\": \"Male\", \"Expenditures\": 9932, \"Ethnicity\": \"Hispanic\"}, {\"Id\": 83443, \"Age Cohort\": \"18 to 21\", \"Age\": 20, \"Gender\": \"Female\", \"Expenditures\": 11803, \"Ethnicity\": \"Asian\"}, {\"Id\": 83495, \"Age Cohort\": \"22 to 50\", \"Age\": 40, \"Gender\": \"Male\", \"Expenditures\": 48064, \"Ethnicity\": \"Asian\"}, {\"Id\": 83771, \"Age Cohort\": \"13 to 17\", \"Age\": 13, \"Gender\": \"Female\", \"Expenditures\": 4473, \"Ethnicity\": \"White not Hispanic\"}, {\"Id\": 83851, \"Age Cohort\": \"22 to 50\", \"Age\": 24, \"Gender\": \"Male\", \"Expenditures\": 30803, \"Ethnicity\": \"Asian\"}, {\"Id\": 83897, \"Age Cohort\": \"22 to 50\", \"Age\": 32, \"Gender\": \"Female\", \"Expenditures\": 37637, \"Ethnicity\": \"White not Hispanic\"}, {\"Id\": 83972, \"Age Cohort\": \"51+\", \"Age\": 62, \"Gender\": \"Male\", \"Expenditures\": 44111, \"Ethnicity\": \"White not Hispanic\"}, {\"Id\": 84259, \"Age Cohort\": \"18 to 21\", \"Age\": 18, \"Gender\": \"Male\", \"Expenditures\": 8985, \"Ethnicity\": \"White not Hispanic\"}, {\"Id\": 84336, \"Age Cohort\": \"22 to 50\", \"Age\": 28, \"Gender\": \"Female\", \"Expenditures\": 48968, \"Ethnicity\": \"Asian\"}, {\"Id\": 84362, \"Age Cohort\": \"6 to 12\", \"Age\": 6, \"Gender\": \"Male\", \"Expenditures\": 2924, \"Ethnicity\": \"Hispanic\"}, {\"Id\": 84388, \"Age Cohort\": \"0 to 5\", \"Age\": 2, \"Gender\": \"Female\", \"Expenditures\": 697, \"Ethnicity\": \"Multi Race\"}, {\"Id\": 84436, \"Age Cohort\": \"22 to 50\", \"Age\": 24, \"Gender\": \"Female\", \"Expenditures\": 37663, \"Ethnicity\": \"Hispanic\"}, {\"Id\": 84477, \"Age Cohort\": \"18 to 21\", \"Age\": 19, \"Gender\": \"Male\", \"Expenditures\": 9675, \"Ethnicity\": \"Black\"}, {\"Id\": 84484, \"Age Cohort\": \"13 to 17\", \"Age\": 17, \"Gender\": \"Female\", \"Expenditures\": 4216, \"Ethnicity\": \"Asian\"}, {\"Id\": 84737, \"Age Cohort\": \"13 to 17\", \"Age\": 14, \"Gender\": \"Female\", \"Expenditures\": 5576, \"Ethnicity\": \"White not Hispanic\"}, {\"Id\": 84833, \"Age Cohort\": \"22 to 50\", \"Age\": 25, \"Gender\": \"Male\", \"Expenditures\": 31943, \"Ethnicity\": \"Hispanic\"}, {\"Id\": 84949, \"Age Cohort\": \"6 to 12\", \"Age\": 7, \"Gender\": \"Female\", \"Expenditures\": 2834, \"Ethnicity\": \"Black\"}, {\"Id\": 84996, \"Age Cohort\": \"6 to 12\", \"Age\": 12, \"Gender\": \"Male\", \"Expenditures\": 1531, \"Ethnicity\": \"White not Hispanic\"}, {\"Id\": 85005, \"Age Cohort\": \"13 to 17\", \"Age\": 15, \"Gender\": \"Female\", \"Expenditures\": 5254, \"Ethnicity\": \"White not Hispanic\"}, {\"Id\": 85129, \"Age Cohort\": \"22 to 50\", \"Age\": 23, \"Gender\": \"Male\", \"Expenditures\": 44219, \"Ethnicity\": \"White not Hispanic\"}, {\"Id\": 85179, \"Age Cohort\": \"22 to 50\", \"Age\": 28, \"Gender\": \"Male\", \"Expenditures\": 26178, \"Ethnicity\": \"Hispanic\"}, {\"Id\": 85261, \"Age Cohort\": \"13 to 17\", \"Age\": 14, \"Gender\": \"Female\", \"Expenditures\": 3189, \"Ethnicity\": \"White not Hispanic\"}, {\"Id\": 85301, \"Age Cohort\": \"6 to 12\", \"Age\": 12, \"Gender\": \"Female\", \"Expenditures\": 3732, \"Ethnicity\": \"Hispanic\"}, {\"Id\": 85491, \"Age Cohort\": \"22 to 50\", \"Age\": 23, \"Gender\": \"Male\", \"Expenditures\": 25348, \"Ethnicity\": \"Asian\"}, {\"Id\": 85501, \"Age Cohort\": \"18 to 21\", \"Age\": 21, \"Gender\": \"Female\", \"Expenditures\": 8957, \"Ethnicity\": \"Hispanic\"}, {\"Id\": 85633, \"Age Cohort\": \"13 to 17\", \"Age\": 14, \"Gender\": \"Female\", \"Expenditures\": 5280, \"Ethnicity\": \"Hispanic\"}, {\"Id\": 85639, \"Age Cohort\": \"22 to 50\", \"Age\": 33, \"Gender\": \"Male\", \"Expenditures\": 39010, \"Ethnicity\": \"White not Hispanic\"}, {\"Id\": 85741, \"Age Cohort\": \"22 to 50\", \"Age\": 41, \"Gender\": \"Female\", \"Expenditures\": 49223, \"Ethnicity\": \"White not Hispanic\"}, {\"Id\": 85775, \"Age Cohort\": \"18 to 21\", \"Age\": 19, \"Gender\": \"Female\", \"Expenditures\": 12243, \"Ethnicity\": \"Asian\"}, {\"Id\": 86019, \"Age Cohort\": \"22 to 50\", \"Age\": 25, \"Gender\": \"Male\", \"Expenditures\": 40999, \"Ethnicity\": \"Asian\"}, {\"Id\": 86084, \"Age Cohort\": \"18 to 21\", \"Age\": 20, \"Gender\": \"Female\", \"Expenditures\": 3749, \"Ethnicity\": \"Hispanic\"}, {\"Id\": 86328, \"Age Cohort\": \"6 to 12\", \"Age\": 9, \"Gender\": \"Female\", \"Expenditures\": 1416, \"Ethnicity\": \"Hispanic\"}, {\"Id\": 86396, \"Age Cohort\": \"22 to 50\", \"Age\": 32, \"Gender\": \"Female\", \"Expenditures\": 33630, \"Ethnicity\": \"White not Hispanic\"}, {\"Id\": 86416, \"Age Cohort\": \"22 to 50\", \"Age\": 26, \"Gender\": \"Male\", \"Expenditures\": 33634, \"Ethnicity\": \"Asian\"}, {\"Id\": 86565, \"Age Cohort\": \"18 to 21\", \"Age\": 19, \"Gender\": \"Male\", \"Expenditures\": 9760, \"Ethnicity\": \"Hispanic\"}, {\"Id\": 86579, \"Age Cohort\": \"22 to 50\", \"Age\": 42, \"Gender\": \"Female\", \"Expenditures\": 51084, \"Ethnicity\": \"Black\"}, {\"Id\": 86599, \"Age Cohort\": \"6 to 12\", \"Age\": 11, \"Gender\": \"Male\", \"Expenditures\": 1984, \"Ethnicity\": \"White not Hispanic\"}, {\"Id\": 86667, \"Age Cohort\": \"22 to 50\", \"Age\": 30, \"Gender\": \"Male\", \"Expenditures\": 40927, \"Ethnicity\": \"White not Hispanic\"}, {\"Id\": 86893, \"Age Cohort\": \"22 to 50\", \"Age\": 39, \"Gender\": \"Female\", \"Expenditures\": 31076, \"Ethnicity\": \"White not Hispanic\"}, {\"Id\": 87080, \"Age Cohort\": \"13 to 17\", \"Age\": 16, \"Gender\": \"Female\", \"Expenditures\": 4915, \"Ethnicity\": \"White not Hispanic\"}, {\"Id\": 87143, \"Age Cohort\": \"13 to 17\", \"Age\": 17, \"Gender\": \"Female\", \"Expenditures\": 3747, \"Ethnicity\": \"Hispanic\"}, {\"Id\": 87358, \"Age Cohort\": \"18 to 21\", \"Age\": 21, \"Gender\": \"Female\", \"Expenditures\": 9700, \"Ethnicity\": \"White not Hispanic\"}, {\"Id\": 87444, \"Age Cohort\": \"13 to 17\", \"Age\": 14, \"Gender\": \"Female\", \"Expenditures\": 1893, \"Ethnicity\": \"Multi Race\"}, {\"Id\": 87697, \"Age Cohort\": \"13 to 17\", \"Age\": 17, \"Gender\": \"Female\", \"Expenditures\": 4221, \"Ethnicity\": \"Hispanic\"}, {\"Id\": 87737, \"Age Cohort\": \"51+\", \"Age\": 91, \"Gender\": \"Male\", \"Expenditures\": 54481, \"Ethnicity\": \"Asian\"}, {\"Id\": 87869, \"Age Cohort\": \"6 to 12\", \"Age\": 10, \"Gender\": \"Female\", \"Expenditures\": 3060, \"Ethnicity\": \"Hispanic\"}, {\"Id\": 87923, \"Age Cohort\": \"22 to 50\", \"Age\": 24, \"Gender\": \"Female\", \"Expenditures\": 34274, \"Ethnicity\": \"Asian\"}, {\"Id\": 88118, \"Age Cohort\": \"18 to 21\", \"Age\": 19, \"Gender\": \"Female\", \"Expenditures\": 12523, \"Ethnicity\": \"Hispanic\"}, {\"Id\": 88132, \"Age Cohort\": \"51+\", \"Age\": 71, \"Gender\": \"Female\", \"Expenditures\": 56365, \"Ethnicity\": \"White not Hispanic\"}, {\"Id\": 88276, \"Age Cohort\": \"0 to 5\", \"Age\": 4, \"Gender\": \"Female\", \"Expenditures\": 1645, \"Ethnicity\": \"Asian\"}, {\"Id\": 88284, \"Age Cohort\": \"6 to 12\", \"Age\": 11, \"Gender\": \"Male\", \"Expenditures\": 2839, \"Ethnicity\": \"Hispanic\"}, {\"Id\": 88508, \"Age Cohort\": \"6 to 12\", \"Age\": 8, \"Gender\": \"Female\", \"Expenditures\": 3572, \"Ethnicity\": \"White not Hispanic\"}, {\"Id\": 88618, \"Age Cohort\": \"22 to 50\", \"Age\": 31, \"Gender\": \"Male\", \"Expenditures\": 39172, \"Ethnicity\": \"White not Hispanic\"}, {\"Id\": 88739, \"Age Cohort\": \"6 to 12\", \"Age\": 8, \"Gender\": \"Female\", \"Expenditures\": 1714, \"Ethnicity\": \"Hispanic\"}, {\"Id\": 88757, \"Age Cohort\": \"51+\", \"Age\": 72, \"Gender\": \"Male\", \"Expenditures\": 43957, \"Ethnicity\": \"White not Hispanic\"}, {\"Id\": 88930, \"Age Cohort\": \"51+\", \"Age\": 62, \"Gender\": \"Female\", \"Expenditures\": 58480, \"Ethnicity\": \"White not Hispanic\"}, {\"Id\": 89102, \"Age Cohort\": \"22 to 50\", \"Age\": 26, \"Gender\": \"Female\", \"Expenditures\": 43109, \"Ethnicity\": \"Black\"}, {\"Id\": 89108, \"Age Cohort\": \"6 to 12\", \"Age\": 7, \"Gender\": \"Female\", \"Expenditures\": 1875, \"Ethnicity\": \"Hispanic\"}, {\"Id\": 89124, \"Age Cohort\": \"51+\", \"Age\": 63, \"Gender\": \"Male\", \"Expenditures\": 50030, \"Ethnicity\": \"White not Hispanic\"}, {\"Id\": 89132, \"Age Cohort\": \"18 to 21\", \"Age\": 21, \"Gender\": \"Male\", \"Expenditures\": 8707, \"Ethnicity\": \"Hispanic\"}, {\"Id\": 89286, \"Age Cohort\": \"6 to 12\", \"Age\": 8, \"Gender\": \"Female\", \"Expenditures\": 2717, \"Ethnicity\": \"Hispanic\"}, {\"Id\": 89316, \"Age Cohort\": \"0 to 5\", \"Age\": 5, \"Gender\": \"Female\", \"Expenditures\": 1684, \"Ethnicity\": \"Hispanic\"}, {\"Id\": 89334, \"Age Cohort\": \"18 to 21\", \"Age\": 20, \"Gender\": \"Male\", \"Expenditures\": 7743, \"Ethnicity\": \"White not Hispanic\"}, {\"Id\": 89361, \"Age Cohort\": \"18 to 21\", \"Age\": 19, \"Gender\": \"Female\", \"Expenditures\": 7475, \"Ethnicity\": \"Asian\"}, {\"Id\": 89611, \"Age Cohort\": \"6 to 12\", \"Age\": 9, \"Gender\": \"Male\", \"Expenditures\": 2753, \"Ethnicity\": \"White not Hispanic\"}, {\"Id\": 89809, \"Age Cohort\": \"18 to 21\", \"Age\": 19, \"Gender\": \"Female\", \"Expenditures\": 8820, \"Ethnicity\": \"Asian\"}, {\"Id\": 89925, \"Age Cohort\": \"18 to 21\", \"Age\": 19, \"Gender\": \"Female\", \"Expenditures\": 5988, \"Ethnicity\": \"Hispanic\"}, {\"Id\": 90037, \"Age Cohort\": \"18 to 21\", \"Age\": 21, \"Gender\": \"Male\", \"Expenditures\": 11327, \"Ethnicity\": \"Black\"}, {\"Id\": 90151, \"Age Cohort\": \"13 to 17\", \"Age\": 16, \"Gender\": \"Female\", \"Expenditures\": 3702, \"Ethnicity\": \"Hispanic\"}, {\"Id\": 90220, \"Age Cohort\": \"13 to 17\", \"Age\": 13, \"Gender\": \"Female\", \"Expenditures\": 3887, \"Ethnicity\": \"Hispanic\"}, {\"Id\": 90233, \"Age Cohort\": \"18 to 21\", \"Age\": 19, \"Gender\": \"Male\", \"Expenditures\": 9979, \"Ethnicity\": \"Asian\"}, {\"Id\": 90239, \"Age Cohort\": \"18 to 21\", \"Age\": 18, \"Gender\": \"Female\", \"Expenditures\": 13730, \"Ethnicity\": \"Hispanic\"}, {\"Id\": 90299, \"Age Cohort\": \"18 to 21\", \"Age\": 19, \"Gender\": \"Male\", \"Expenditures\": 7570, \"Ethnicity\": \"White not Hispanic\"}, {\"Id\": 90432, \"Age Cohort\": \"22 to 50\", \"Age\": 27, \"Gender\": \"Female\", \"Expenditures\": 35720, \"Ethnicity\": \"White not Hispanic\"}, {\"Id\": 90644, \"Age Cohort\": \"18 to 21\", \"Age\": 19, \"Gender\": \"Female\", \"Expenditures\": 7061, \"Ethnicity\": \"Black\"}, {\"Id\": 90670, \"Age Cohort\": \"13 to 17\", \"Age\": 13, \"Gender\": \"Female\", \"Expenditures\": 5546, \"Ethnicity\": \"White not Hispanic\"}, {\"Id\": 90814, \"Age Cohort\": \"13 to 17\", \"Age\": 16, \"Gender\": \"Male\", \"Expenditures\": 3666, \"Ethnicity\": \"White not Hispanic\"}, {\"Id\": 90953, \"Age Cohort\": \"6 to 12\", \"Age\": 10, \"Gender\": \"Female\", \"Expenditures\": 669, \"Ethnicity\": \"Multi Race\"}, {\"Id\": 90996, \"Age Cohort\": \"22 to 50\", \"Age\": 29, \"Gender\": \"Female\", \"Expenditures\": 40755, \"Ethnicity\": \"White not Hispanic\"}, {\"Id\": 91011, \"Age Cohort\": \"22 to 50\", \"Age\": 32, \"Gender\": \"Female\", \"Expenditures\": 35435, \"Ethnicity\": \"Hispanic\"}, {\"Id\": 91064, \"Age Cohort\": \"18 to 21\", \"Age\": 21, \"Gender\": \"Male\", \"Expenditures\": 6904, \"Ethnicity\": \"Hispanic\"}, {\"Id\": 91288, \"Age Cohort\": \"22 to 50\", \"Age\": 29, \"Gender\": \"Male\", \"Expenditures\": 41268, \"Ethnicity\": \"White not Hispanic\"}, {\"Id\": 91383, \"Age Cohort\": \"6 to 12\", \"Age\": 12, \"Gender\": \"Male\", \"Expenditures\": 1996, \"Ethnicity\": \"White not Hispanic\"}, {\"Id\": 91756, \"Age Cohort\": \"13 to 17\", \"Age\": 14, \"Gender\": \"Male\", \"Expenditures\": 3703, \"Ethnicity\": \"Hispanic\"}, {\"Id\": 91766, \"Age Cohort\": \"6 to 12\", \"Age\": 7, \"Gender\": \"Female\", \"Expenditures\": 2669, \"Ethnicity\": \"White not Hispanic\"}, {\"Id\": 91966, \"Age Cohort\": \"13 to 17\", \"Age\": 14, \"Gender\": \"Male\", \"Expenditures\": 3319, \"Ethnicity\": \"Hispanic\"}, {\"Id\": 92055, \"Age Cohort\": \"13 to 17\", \"Age\": 17, \"Gender\": \"Female\", \"Expenditures\": 3478, \"Ethnicity\": \"Hispanic\"}, {\"Id\": 92109, \"Age Cohort\": \"18 to 21\", \"Age\": 20, \"Gender\": \"Male\", \"Expenditures\": 8359, \"Ethnicity\": \"White not Hispanic\"}, {\"Id\": 92198, \"Age Cohort\": \"13 to 17\", \"Age\": 17, \"Gender\": \"Male\", \"Expenditures\": 4791, \"Ethnicity\": \"Hispanic\"}, {\"Id\": 92207, \"Age Cohort\": \"6 to 12\", \"Age\": 6, \"Gender\": \"Male\", \"Expenditures\": 1898, \"Ethnicity\": \"Hispanic\"}, {\"Id\": 92215, \"Age Cohort\": \"6 to 12\", \"Age\": 9, \"Gender\": \"Female\", \"Expenditures\": 2632, \"Ethnicity\": \"White not Hispanic\"}, {\"Id\": 92265, \"Age Cohort\": \"22 to 50\", \"Age\": 32, \"Gender\": \"Female\", \"Expenditures\": 43662, \"Ethnicity\": \"White not Hispanic\"}, {\"Id\": 92381, \"Age Cohort\": \"6 to 12\", \"Age\": 11, \"Gender\": \"Female\", \"Expenditures\": 620, \"Ethnicity\": \"White not Hispanic\"}, {\"Id\": 92494, \"Age Cohort\": \"51+\", \"Age\": 73, \"Gender\": \"Female\", \"Expenditures\": 49088, \"Ethnicity\": \"White not Hispanic\"}, {\"Id\": 92628, \"Age Cohort\": \"22 to 50\", \"Age\": 33, \"Gender\": \"Male\", \"Expenditures\": 40517, \"Ethnicity\": \"Hispanic\"}, {\"Id\": 92700, \"Age Cohort\": \"0 to 5\", \"Age\": 4, \"Gender\": \"Female\", \"Expenditures\": 2543, \"Ethnicity\": \"White not Hispanic\"}, {\"Id\": 92718, \"Age Cohort\": \"6 to 12\", \"Age\": 6, \"Gender\": \"Male\", \"Expenditures\": 1997, \"Ethnicity\": \"Hispanic\"}, {\"Id\": 92766, \"Age Cohort\": \"6 to 12\", \"Age\": 8, \"Gender\": \"Female\", \"Expenditures\": 1189, \"Ethnicity\": \"Hispanic\"}, {\"Id\": 92789, \"Age Cohort\": \"22 to 50\", \"Age\": 25, \"Gender\": \"Male\", \"Expenditures\": 39849, \"Ethnicity\": \"White not Hispanic\"}, {\"Id\": 93080, \"Age Cohort\": \"22 to 50\", \"Age\": 23, \"Gender\": \"Male\", \"Expenditures\": 48349, \"Ethnicity\": \"White not Hispanic\"}, {\"Id\": 93118, \"Age Cohort\": \"13 to 17\", \"Age\": 16, \"Gender\": \"Male\", \"Expenditures\": 4031, \"Ethnicity\": \"Asian\"}, {\"Id\": 93194, \"Age Cohort\": \"6 to 12\", \"Age\": 8, \"Gender\": \"Male\", \"Expenditures\": 2623, \"Ethnicity\": \"Asian\"}, {\"Id\": 93415, \"Age Cohort\": \"22 to 50\", \"Age\": 22, \"Gender\": \"Female\", \"Expenditures\": 50795, \"Ethnicity\": \"White not Hispanic\"}, {\"Id\": 93495, \"Age Cohort\": \"6 to 12\", \"Age\": 10, \"Gender\": \"Female\", \"Expenditures\": 2484, \"Ethnicity\": \"Hispanic\"}, {\"Id\": 93600, \"Age Cohort\": \"22 to 50\", \"Age\": 31, \"Gender\": \"Male\", \"Expenditures\": 39577, \"Ethnicity\": \"White not Hispanic\"}, {\"Id\": 93628, \"Age Cohort\": \"6 to 12\", \"Age\": 6, \"Gender\": \"Male\", \"Expenditures\": 3259, \"Ethnicity\": \"Multi Race\"}, {\"Id\": 93673, \"Age Cohort\": \"18 to 21\", \"Age\": 18, \"Gender\": \"Male\", \"Expenditures\": 9080, \"Ethnicity\": \"Asian\"}, {\"Id\": 93702, \"Age Cohort\": \"22 to 50\", \"Age\": 27, \"Gender\": \"Female\", \"Expenditures\": 44293, \"Ethnicity\": \"Asian\"}, {\"Id\": 93727, \"Age Cohort\": \"0 to 5\", \"Age\": 4, \"Gender\": \"Female\", \"Expenditures\": 1219, \"Ethnicity\": \"Asian\"}, {\"Id\": 93757, \"Age Cohort\": \"18 to 21\", \"Age\": 18, \"Gender\": \"Female\", \"Expenditures\": 10298, \"Ethnicity\": \"White not Hispanic\"}, {\"Id\": 93763, \"Age Cohort\": \"6 to 12\", \"Age\": 8, \"Gender\": \"Male\", \"Expenditures\": 2430, \"Ethnicity\": \"Hispanic\"}, {\"Id\": 93871, \"Age Cohort\": \"13 to 17\", \"Age\": 14, \"Gender\": \"Female\", \"Expenditures\": 3792, \"Ethnicity\": \"Hispanic\"}, {\"Id\": 94072, \"Age Cohort\": \"6 to 12\", \"Age\": 11, \"Gender\": \"Female\", \"Expenditures\": 1360, \"Ethnicity\": \"White not Hispanic\"}, {\"Id\": 94273, \"Age Cohort\": \"13 to 17\", \"Age\": 15, \"Gender\": \"Male\", \"Expenditures\": 3099, \"Ethnicity\": \"Asian\"}, {\"Id\": 94371, \"Age Cohort\": \"22 to 50\", \"Age\": 30, \"Gender\": \"Male\", \"Expenditures\": 51486, \"Ethnicity\": \"White not Hispanic\"}, {\"Id\": 94442, \"Age Cohort\": \"6 to 12\", \"Age\": 11, \"Gender\": \"Male\", \"Expenditures\": 2212, \"Ethnicity\": \"Hispanic\"}, {\"Id\": 94480, \"Age Cohort\": \"13 to 17\", \"Age\": 17, \"Gender\": \"Female\", \"Expenditures\": 5183, \"Ethnicity\": \"Black\"}, {\"Id\": 94503, \"Age Cohort\": \"0 to 5\", \"Age\": 0, \"Gender\": \"Male\", \"Expenditures\": 1360, \"Ethnicity\": \"Hispanic\"}, {\"Id\": 94540, \"Age Cohort\": \"22 to 50\", \"Age\": 25, \"Gender\": \"Female\", \"Expenditures\": 40952, \"Ethnicity\": \"White not Hispanic\"}, {\"Id\": 94595, \"Age Cohort\": \"0 to 5\", \"Age\": 4, \"Gender\": \"Female\", \"Expenditures\": 2335, \"Ethnicity\": \"Multi Race\"}, {\"Id\": 94648, \"Age Cohort\": \"22 to 50\", \"Age\": 40, \"Gender\": \"Female\", \"Expenditures\": 43175, \"Ethnicity\": \"White not Hispanic\"}, {\"Id\": 94785, \"Age Cohort\": \"13 to 17\", \"Age\": 14, \"Gender\": \"Male\", \"Expenditures\": 4680, \"Ethnicity\": \"Hispanic\"}, {\"Id\": 94819, \"Age Cohort\": \"18 to 21\", \"Age\": 20, \"Gender\": \"Female\", \"Expenditures\": 14003, \"Ethnicity\": \"Hispanic\"}, {\"Id\": 94852, \"Age Cohort\": \"0 to 5\", \"Age\": 3, \"Gender\": \"Female\", \"Expenditures\": 1485, \"Ethnicity\": \"Hispanic\"}, {\"Id\": 95110, \"Age Cohort\": \"22 to 50\", \"Age\": 29, \"Gender\": \"Male\", \"Expenditures\": 43048, \"Ethnicity\": \"White not Hispanic\"}, {\"Id\": 95270, \"Age Cohort\": \"22 to 50\", \"Age\": 38, \"Gender\": \"Male\", \"Expenditures\": 29709, \"Ethnicity\": \"White not Hispanic\"}, {\"Id\": 95313, \"Age Cohort\": \"51+\", \"Age\": 79, \"Gender\": \"Female\", \"Expenditures\": 57497, \"Ethnicity\": \"Asian\"}, {\"Id\": 95673, \"Age Cohort\": \"51+\", \"Age\": 60, \"Gender\": \"Female\", \"Expenditures\": 62717, \"Ethnicity\": \"Hispanic\"}, {\"Id\": 95812, \"Age Cohort\": \"22 to 50\", \"Age\": 38, \"Gender\": \"Female\", \"Expenditures\": 37378, \"Ethnicity\": \"Hispanic\"}, {\"Id\": 95861, \"Age Cohort\": \"18 to 21\", \"Age\": 18, \"Gender\": \"Male\", \"Expenditures\": 12651, \"Ethnicity\": \"Asian\"}, {\"Id\": 96081, \"Age Cohort\": \"13 to 17\", \"Age\": 16, \"Gender\": \"Female\", \"Expenditures\": 2104, \"Ethnicity\": \"Hispanic\"}, {\"Id\": 96097, \"Age Cohort\": \"0 to 5\", \"Age\": 5, \"Gender\": \"Female\", \"Expenditures\": 222, \"Ethnicity\": \"Hispanic\"}, {\"Id\": 96188, \"Age Cohort\": \"22 to 50\", \"Age\": 23, \"Gender\": \"Male\", \"Expenditures\": 42560, \"Ethnicity\": \"Asian\"}, {\"Id\": 96258, \"Age Cohort\": \"22 to 50\", \"Age\": 29, \"Gender\": \"Male\", \"Expenditures\": 40614, \"Ethnicity\": \"Asian\"}, {\"Id\": 96279, \"Age Cohort\": \"0 to 5\", \"Age\": 5, \"Gender\": \"Female\", \"Expenditures\": 1003, \"Ethnicity\": \"Hispanic\"}, {\"Id\": 96367, \"Age Cohort\": \"22 to 50\", \"Age\": 26, \"Gender\": \"Male\", \"Expenditures\": 36440, \"Ethnicity\": \"Hispanic\"}, {\"Id\": 96426, \"Age Cohort\": \"6 to 12\", \"Age\": 9, \"Gender\": \"Male\", \"Expenditures\": 2544, \"Ethnicity\": \"White not Hispanic\"}, {\"Id\": 96466, \"Age Cohort\": \"13 to 17\", \"Age\": 17, \"Gender\": \"Female\", \"Expenditures\": 5241, \"Ethnicity\": \"Hispanic\"}, {\"Id\": 96684, \"Age Cohort\": \"13 to 17\", \"Age\": 14, \"Gender\": \"Male\", \"Expenditures\": 3524, \"Ethnicity\": \"White not Hispanic\"}, {\"Id\": 96739, \"Age Cohort\": \"22 to 50\", \"Age\": 30, \"Gender\": \"Female\", \"Expenditures\": 40125, \"Ethnicity\": \"White not Hispanic\"}, {\"Id\": 96746, \"Age Cohort\": \"6 to 12\", \"Age\": 10, \"Gender\": \"Male\", \"Expenditures\": 3382, \"Ethnicity\": \"Asian\"}, {\"Id\": 96840, \"Age Cohort\": \"51+\", \"Age\": 51, \"Gender\": \"Female\", \"Expenditures\": 48622, \"Ethnicity\": \"White not Hispanic\"}, {\"Id\": 96974, \"Age Cohort\": \"13 to 17\", \"Age\": 17, \"Gender\": \"Female\", \"Expenditures\": 5276, \"Ethnicity\": \"White not Hispanic\"}, {\"Id\": 97057, \"Age Cohort\": \"22 to 50\", \"Age\": 41, \"Gender\": \"Male\", \"Expenditures\": 50202, \"Ethnicity\": \"White not Hispanic\"}, {\"Id\": 97122, \"Age Cohort\": \"22 to 50\", \"Age\": 44, \"Gender\": \"Male\", \"Expenditures\": 46144, \"Ethnicity\": \"Hispanic\"}, {\"Id\": 97211, \"Age Cohort\": \"0 to 5\", \"Age\": 5, \"Gender\": \"Female\", \"Expenditures\": 240, \"Ethnicity\": \"Black\"}, {\"Id\": 97268, \"Age Cohort\": \"22 to 50\", \"Age\": 23, \"Gender\": \"Male\", \"Expenditures\": 35016, \"Ethnicity\": \"White not Hispanic\"}, {\"Id\": 97316, \"Age Cohort\": \"51+\", \"Age\": 75, \"Gender\": \"Female\", \"Expenditures\": 55956, \"Ethnicity\": \"White not Hispanic\"}, {\"Id\": 97426, \"Age Cohort\": \"0 to 5\", \"Age\": 1, \"Gender\": \"Female\", \"Expenditures\": 2359, \"Ethnicity\": \"Multi Race\"}, {\"Id\": 97793, \"Age Cohort\": \"6 to 12\", \"Age\": 9, \"Gender\": \"Female\", \"Expenditures\": 1048, \"Ethnicity\": \"Multi Race\"}, {\"Id\": 97930, \"Age Cohort\": \"51+\", \"Age\": 69, \"Gender\": \"Female\", \"Expenditures\": 53561, \"Ethnicity\": \"White not Hispanic\"}, {\"Id\": 98015, \"Age Cohort\": \"22 to 50\", \"Age\": 46, \"Gender\": \"Male\", \"Expenditures\": 52222, \"Ethnicity\": \"Hispanic\"}, {\"Id\": 98235, \"Age Cohort\": \"22 to 50\", \"Age\": 28, \"Gender\": \"Male\", \"Expenditures\": 29588, \"Ethnicity\": \"Hispanic\"}, {\"Id\": 98268, \"Age Cohort\": \"18 to 21\", \"Age\": 18, \"Gender\": \"Female\", \"Expenditures\": 10393, \"Ethnicity\": \"White not Hispanic\"}, {\"Id\": 98269, \"Age Cohort\": \"22 to 50\", \"Age\": 38, \"Gender\": \"Male\", \"Expenditures\": 54191, \"Ethnicity\": \"White not Hispanic\"}, {\"Id\": 98382, \"Age Cohort\": \"51+\", \"Age\": 54, \"Gender\": \"Female\", \"Expenditures\": 46312, \"Ethnicity\": \"White not Hispanic\"}, {\"Id\": 98428, \"Age Cohort\": \"22 to 50\", \"Age\": 24, \"Gender\": \"Male\", \"Expenditures\": 49449, \"Ethnicity\": \"Asian\"}, {\"Id\": 98522, \"Age Cohort\": \"13 to 17\", \"Age\": 13, \"Gender\": \"Female\", \"Expenditures\": 3097, \"Ethnicity\": \"White not Hispanic\"}, {\"Id\": 98547, \"Age Cohort\": \"13 to 17\", \"Age\": 13, \"Gender\": \"Female\", \"Expenditures\": 3392, \"Ethnicity\": \"White not Hispanic\"}, {\"Id\": 98562, \"Age Cohort\": \"13 to 17\", \"Age\": 15, \"Gender\": \"Female\", \"Expenditures\": 3641, \"Ethnicity\": \"Hispanic\"}, {\"Id\": 98683, \"Age Cohort\": \"6 to 12\", \"Age\": 8, \"Gender\": \"Male\", \"Expenditures\": 2441, \"Ethnicity\": \"Hispanic\"}, {\"Id\": 98792, \"Age Cohort\": \"0 to 5\", \"Age\": 5, \"Gender\": \"Male\", \"Expenditures\": 1411, \"Ethnicity\": \"Hispanic\"}, {\"Id\": 99046, \"Age Cohort\": \"22 to 50\", \"Age\": 30, \"Gender\": \"Female\", \"Expenditures\": 35231, \"Ethnicity\": \"White not Hispanic\"}, {\"Id\": 99114, \"Age Cohort\": \"18 to 21\", \"Age\": 18, \"Gender\": \"Male\", \"Expenditures\": 5298, \"Ethnicity\": \"Hispanic\"}, {\"Id\": 99147, \"Age Cohort\": \"18 to 21\", \"Age\": 20, \"Gender\": \"Male\", \"Expenditures\": 7288, \"Ethnicity\": \"Asian\"}, {\"Id\": 99529, \"Age Cohort\": \"0 to 5\", \"Age\": 2, \"Gender\": \"Male\", \"Expenditures\": 2258, \"Ethnicity\": \"Multi Race\"}, {\"Id\": 99622, \"Age Cohort\": \"51+\", \"Age\": 86, \"Gender\": \"Female\", \"Expenditures\": 57055, \"Ethnicity\": \"White not Hispanic\"}, {\"Id\": 99715, \"Age Cohort\": \"18 to 21\", \"Age\": 20, \"Gender\": \"Male\", \"Expenditures\": 7494, \"Ethnicity\": \"Hispanic\"}, {\"Id\": 99718, \"Age Cohort\": \"13 to 17\", \"Age\": 17, \"Gender\": \"Female\", \"Expenditures\": 3673, \"Ethnicity\": \"Multi Race\"}, {\"Id\": 99791, \"Age Cohort\": \"6 to 12\", \"Age\": 10, \"Gender\": \"Male\", \"Expenditures\": 3638, \"Ethnicity\": \"Hispanic\"}, {\"Id\": 99898, \"Age Cohort\": \"22 to 50\", \"Age\": 23, \"Gender\": \"Male\", \"Expenditures\": 26702, \"Ethnicity\": \"White not Hispanic\"}]}}, {\"mode\": \"vega-lite\"});\n",
       "</script>"
      ],
      "text/plain": [
       "alt.Chart(...)"
      ]
     },
     "execution_count": 44,
     "metadata": {},
     "output_type": "execute_result"
    }
   ],
   "source": [
    "# construct scatterplot\n",
    "# BEGIN SOLUTION\n",
    "fig_2 = alt.Chart(dds).mark_point().encode(\n",
    "    x = 'Age',\n",
    "    y = alt.Y('Expenditures', scale = alt.Scale(type = 'log'))\n",
    ")\n",
    "# END SOLUTION\n",
    "\n",
    "# display\n",
    "fig_2 # SOLUTION"
   ]
  },
  {
   "attachments": {},
   "cell_type": "markdown",
   "metadata": {
    "tags": [
     "otter_assign_solution_cell"
    ]
   },
   "source": [
    "**SOLUTION**\n",
    "\n",
    "Overall, benefit amounts increase with age, but there is a substantial jump at 18-21. This is most likely because underage recipients live with their families and have less financial need."
   ]
  },
  {
   "attachments": {},
   "cell_type": "markdown",
   "metadata": {},
   "source": [
    "<!-- END QUESTION -->\n",
    "\n",
    "Precisely because recipients have different needs at different ages that translate to jumps in expenditure, age has been discretized into age cohorts defined based on need level. Going forward, we'll work with these age cohorts -- by treating age as discrete, we won't need to attempt to model the discontinuities in the relationship between age and expenditure.\n",
    "\n",
    "The cohort labels are stored as `Age Cohort` in the dataset. There are six cohorts; the cell below coerces the labels to an ordered category, puts them in the proper order, and prints the category levels."
   ]
  },
  {
   "cell_type": "code",
   "execution_count": 45,
   "metadata": {},
   "outputs": [
    {
     "data": {
      "text/plain": [
       "Index(['0 to 5', '6 to 12', '13 to 17', '18 to 21', '22 to 50', '51+'], dtype='object')"
      ]
     },
     "execution_count": 45,
     "metadata": {},
     "output_type": "execute_result"
    }
   ],
   "source": [
    "# convert data types\n",
    "dds_cat = dds.astype({'Age Cohort': 'category', 'Ethnicity': 'category', 'Gender': 'category'}).copy()\n",
    "\n",
    "dds_cat['Age Cohort'] = dds_cat['Age Cohort'].cat.as_ordered().cat.reorder_categories(\n",
    "    dds_cat['Age Cohort'].cat.categories[[0, 5, 1, 2, 3, 4]]\n",
    ")\n",
    "\n",
    "# age cohorts\n",
    "dds_cat['Age Cohort'].cat.categories"
   ]
  },
  {
   "attachments": {},
   "cell_type": "markdown",
   "metadata": {},
   "source": [
    "Here is an explanation of how the cohort age boundaries were chosen:\n",
    "\n",
    "> The 0-5 cohort (preschool age) has the fewest needs and requires the least amount of funding. For the 6-12 cohort (elementary school age) and 13-17 (high school age), a number of needed services are provided by schools. The 18-21 cohort is typically in a transition phase as the consumers begin moving out from their parents’ homes into community centers or living on their own. The majority of those in the 22-50 cohort no longer live with their parents but may still receive some support from their family. Those in the 51+ cohort have the most needs and require the most amount of funding because they are living on their own or in community centers and often have no living parents."
   ]
  },
  {
   "attachments": {},
   "cell_type": "markdown",
   "metadata": {},
   "source": [
    "Note that the ordering can be retrieved using `.cat.codes`, which coerces an ordered categorical variable to its integer encoding (0 for lowest level, 1 for next lowest, and so on). It will be helpful to store the ordering for plotting purposes."
   ]
  },
  {
   "cell_type": "code",
   "execution_count": 46,
   "metadata": {},
   "outputs": [
    {
     "data": {
      "text/html": [
       "<div>\n",
       "<style scoped>\n",
       "    .dataframe tbody tr th:only-of-type {\n",
       "        vertical-align: middle;\n",
       "    }\n",
       "\n",
       "    .dataframe tbody tr th {\n",
       "        vertical-align: top;\n",
       "    }\n",
       "\n",
       "    .dataframe thead th {\n",
       "        text-align: right;\n",
       "    }\n",
       "</style>\n",
       "<table border=\"1\" class=\"dataframe\">\n",
       "  <thead>\n",
       "    <tr style=\"text-align: right;\">\n",
       "      <th></th>\n",
       "      <th>Id</th>\n",
       "      <th>Age Cohort</th>\n",
       "      <th>Age</th>\n",
       "      <th>Gender</th>\n",
       "      <th>Expenditures</th>\n",
       "      <th>Ethnicity</th>\n",
       "      <th>cohort_order</th>\n",
       "    </tr>\n",
       "  </thead>\n",
       "  <tbody>\n",
       "    <tr>\n",
       "      <th>0</th>\n",
       "      <td>10210</td>\n",
       "      <td>13 to 17</td>\n",
       "      <td>17</td>\n",
       "      <td>Female</td>\n",
       "      <td>2113</td>\n",
       "      <td>White not Hispanic</td>\n",
       "      <td>2.0</td>\n",
       "    </tr>\n",
       "    <tr>\n",
       "      <th>1</th>\n",
       "      <td>10409</td>\n",
       "      <td>22 to 50</td>\n",
       "      <td>37</td>\n",
       "      <td>Male</td>\n",
       "      <td>41924</td>\n",
       "      <td>White not Hispanic</td>\n",
       "      <td>4.0</td>\n",
       "    </tr>\n",
       "    <tr>\n",
       "      <th>2</th>\n",
       "      <td>10486</td>\n",
       "      <td>0 to 5</td>\n",
       "      <td>3</td>\n",
       "      <td>Male</td>\n",
       "      <td>1454</td>\n",
       "      <td>Hispanic</td>\n",
       "      <td>0.0</td>\n",
       "    </tr>\n",
       "    <tr>\n",
       "      <th>3</th>\n",
       "      <td>10538</td>\n",
       "      <td>18 to 21</td>\n",
       "      <td>19</td>\n",
       "      <td>Female</td>\n",
       "      <td>6400</td>\n",
       "      <td>Hispanic</td>\n",
       "      <td>3.0</td>\n",
       "    </tr>\n",
       "    <tr>\n",
       "      <th>4</th>\n",
       "      <td>10568</td>\n",
       "      <td>13 to 17</td>\n",
       "      <td>13</td>\n",
       "      <td>Male</td>\n",
       "      <td>4412</td>\n",
       "      <td>White not Hispanic</td>\n",
       "      <td>2.0</td>\n",
       "    </tr>\n",
       "  </tbody>\n",
       "</table>\n",
       "</div>"
      ],
      "text/plain": [
       "      Id Age Cohort  Age  Gender  Expenditures           Ethnicity  \\\n",
       "0  10210   13 to 17   17  Female          2113  White not Hispanic   \n",
       "1  10409   22 to 50   37    Male         41924  White not Hispanic   \n",
       "2  10486     0 to 5    3    Male          1454            Hispanic   \n",
       "3  10538   18 to 21   19  Female          6400            Hispanic   \n",
       "4  10568   13 to 17   13    Male          4412  White not Hispanic   \n",
       "\n",
       "   cohort_order  \n",
       "0           2.0  \n",
       "1           4.0  \n",
       "2           0.0  \n",
       "3           3.0  \n",
       "4           2.0  "
      ]
     },
     "execution_count": 46,
     "metadata": {},
     "output_type": "execute_result"
    }
   ],
   "source": [
    "# retrieve ordering\n",
    "dds_cat['cohort_order'] = dds_cat['Age Cohort'].cat.codes.head()\n",
    "dds_cat.head()"
   ]
  },
  {
   "attachments": {},
   "cell_type": "markdown",
   "metadata": {},
   "source": [
    "<!-- BEGIN QUESTION -->\n",
    "\n",
    "### Question 5: age structure of the sample\n",
    "\n",
    "Here you'll explore the age composition of each ethnic group in the sample.\n",
    "\n",
    "* (i) Group the data by ethnic group and tabulate the sample sizes for each group. Use `dds_cat` so that the order of age cohorts is preserved. Store the result as `samp_sizes`.\n",
    "\n",
    "* (ii) Visualize the age structure of each ethnic group in the sample. Construct a point-and-line plot of the sample size (y) against age cohort (x) by ethnicity (color or linetype). Make sure to preserve the ordering of age cohorts on the x axis (*hint*: create a variable like `cohort_order` above). Store the plot as `fig_3` and display.\n",
    "\n",
    "Comment on the figure. Are there differences in age composition by ethnic group among the individuals sampled?"
   ]
  },
  {
   "cell_type": "markdown",
   "metadata": {},
   "source": [
    "_Type your answer here, replacing this text._"
   ]
  },
  {
   "cell_type": "code",
   "execution_count": 47,
   "metadata": {
    "tags": [
     "otter_assign_solution_cell"
    ]
   },
   "outputs": [
    {
     "data": {
      "text/html": [
       "\n",
       "<div id=\"altair-viz-0e0ccf164faf45f79bd046b340cb88ff\"></div>\n",
       "<script type=\"text/javascript\">\n",
       "  var VEGA_DEBUG = (typeof VEGA_DEBUG == \"undefined\") ? {} : VEGA_DEBUG;\n",
       "  (function(spec, embedOpt){\n",
       "    let outputDiv = document.currentScript.previousElementSibling;\n",
       "    if (outputDiv.id !== \"altair-viz-0e0ccf164faf45f79bd046b340cb88ff\") {\n",
       "      outputDiv = document.getElementById(\"altair-viz-0e0ccf164faf45f79bd046b340cb88ff\");\n",
       "    }\n",
       "    const paths = {\n",
       "      \"vega\": \"https://cdn.jsdelivr.net/npm//vega@5?noext\",\n",
       "      \"vega-lib\": \"https://cdn.jsdelivr.net/npm//vega-lib?noext\",\n",
       "      \"vega-lite\": \"https://cdn.jsdelivr.net/npm//vega-lite@4.17.0?noext\",\n",
       "      \"vega-embed\": \"https://cdn.jsdelivr.net/npm//vega-embed@6?noext\",\n",
       "    };\n",
       "\n",
       "    function maybeLoadScript(lib, version) {\n",
       "      var key = `${lib.replace(\"-\", \"\")}_version`;\n",
       "      return (VEGA_DEBUG[key] == version) ?\n",
       "        Promise.resolve(paths[lib]) :\n",
       "        new Promise(function(resolve, reject) {\n",
       "          var s = document.createElement('script');\n",
       "          document.getElementsByTagName(\"head\")[0].appendChild(s);\n",
       "          s.async = true;\n",
       "          s.onload = () => {\n",
       "            VEGA_DEBUG[key] = version;\n",
       "            return resolve(paths[lib]);\n",
       "          };\n",
       "          s.onerror = () => reject(`Error loading script: ${paths[lib]}`);\n",
       "          s.src = paths[lib];\n",
       "        });\n",
       "    }\n",
       "\n",
       "    function showError(err) {\n",
       "      outputDiv.innerHTML = `<div class=\"error\" style=\"color:red;\">${err}</div>`;\n",
       "      throw err;\n",
       "    }\n",
       "\n",
       "    function displayChart(vegaEmbed) {\n",
       "      vegaEmbed(outputDiv, spec, embedOpt)\n",
       "        .catch(err => showError(`Javascript Error: ${err.message}<br>This usually means there's a typo in your chart specification. See the javascript console for the full traceback.`));\n",
       "    }\n",
       "\n",
       "    if(typeof define === \"function\" && define.amd) {\n",
       "      requirejs.config({paths});\n",
       "      require([\"vega-embed\"], displayChart, err => showError(`Error loading script: ${err.message}`));\n",
       "    } else {\n",
       "      maybeLoadScript(\"vega\", \"5\")\n",
       "        .then(() => maybeLoadScript(\"vega-lite\", \"4.17.0\"))\n",
       "        .then(() => maybeLoadScript(\"vega-embed\", \"6\"))\n",
       "        .catch(showError)\n",
       "        .then(() => displayChart(vegaEmbed));\n",
       "    }\n",
       "  })({\"config\": {\"view\": {\"continuousWidth\": 400, \"continuousHeight\": 300}}, \"data\": {\"name\": \"data-2b2bf823eac67a0b7c3f9c62cd5943e2\"}, \"mark\": {\"type\": \"line\", \"point\": true}, \"encoding\": {\"color\": {\"field\": \"Ethnicity\", \"type\": \"nominal\"}, \"x\": {\"field\": \"Age Cohort\", \"sort\": {\"field\": \"cohort_order\", \"order\": \"ascending\"}, \"title\": \"\", \"type\": \"nominal\"}, \"y\": {\"field\": \"n\", \"scale\": {\"type\": \"sqrt\"}, \"title\": \"Sample size\", \"type\": \"quantitative\"}}, \"$schema\": \"https://vega.github.io/schema/vega-lite/v4.17.0.json\", \"datasets\": {\"data-2b2bf823eac67a0b7c3f9c62cd5943e2\": [{\"Age Cohort\": \"0 to 5\", \"Ethnicity\": \"American Indian\", \"n\": 0, \"cohort_order\": 0}, {\"Age Cohort\": \"0 to 5\", \"Ethnicity\": \"Asian\", \"n\": 8, \"cohort_order\": 0}, {\"Age Cohort\": \"0 to 5\", \"Ethnicity\": \"Black\", \"n\": 3, \"cohort_order\": 0}, {\"Age Cohort\": \"0 to 5\", \"Ethnicity\": \"Hispanic\", \"n\": 44, \"cohort_order\": 0}, {\"Age Cohort\": \"0 to 5\", \"Ethnicity\": \"Multi Race\", \"n\": 7, \"cohort_order\": 0}, {\"Age Cohort\": \"0 to 5\", \"Ethnicity\": \"Native Hawaiian\", \"n\": 0, \"cohort_order\": 0}, {\"Age Cohort\": \"0 to 5\", \"Ethnicity\": \"Other\", \"n\": 0, \"cohort_order\": 0}, {\"Age Cohort\": \"0 to 5\", \"Ethnicity\": \"White not Hispanic\", \"n\": 20, \"cohort_order\": 0}, {\"Age Cohort\": \"6 to 12\", \"Ethnicity\": \"American Indian\", \"n\": 0, \"cohort_order\": 1}, {\"Age Cohort\": \"6 to 12\", \"Ethnicity\": \"Asian\", \"n\": 18, \"cohort_order\": 1}, {\"Age Cohort\": \"6 to 12\", \"Ethnicity\": \"Black\", \"n\": 11, \"cohort_order\": 1}, {\"Age Cohort\": \"6 to 12\", \"Ethnicity\": \"Hispanic\", \"n\": 91, \"cohort_order\": 1}, {\"Age Cohort\": \"6 to 12\", \"Ethnicity\": \"Multi Race\", \"n\": 9, \"cohort_order\": 1}, {\"Age Cohort\": \"6 to 12\", \"Ethnicity\": \"Native Hawaiian\", \"n\": 0, \"cohort_order\": 1}, {\"Age Cohort\": \"6 to 12\", \"Ethnicity\": \"Other\", \"n\": 0, \"cohort_order\": 1}, {\"Age Cohort\": \"6 to 12\", \"Ethnicity\": \"White not Hispanic\", \"n\": 46, \"cohort_order\": 1}, {\"Age Cohort\": \"13 to 17\", \"Ethnicity\": \"American Indian\", \"n\": 1, \"cohort_order\": 2}, {\"Age Cohort\": \"13 to 17\", \"Ethnicity\": \"Asian\", \"n\": 20, \"cohort_order\": 2}, {\"Age Cohort\": \"13 to 17\", \"Ethnicity\": \"Black\", \"n\": 12, \"cohort_order\": 2}, {\"Age Cohort\": \"13 to 17\", \"Ethnicity\": \"Hispanic\", \"n\": 103, \"cohort_order\": 2}, {\"Age Cohort\": \"13 to 17\", \"Ethnicity\": \"Multi Race\", \"n\": 7, \"cohort_order\": 2}, {\"Age Cohort\": \"13 to 17\", \"Ethnicity\": \"Native Hawaiian\", \"n\": 0, \"cohort_order\": 2}, {\"Age Cohort\": \"13 to 17\", \"Ethnicity\": \"Other\", \"n\": 2, \"cohort_order\": 2}, {\"Age Cohort\": \"13 to 17\", \"Ethnicity\": \"White not Hispanic\", \"n\": 67, \"cohort_order\": 2}, {\"Age Cohort\": \"18 to 21\", \"Ethnicity\": \"American Indian\", \"n\": 0, \"cohort_order\": 3}, {\"Age Cohort\": \"18 to 21\", \"Ethnicity\": \"Asian\", \"n\": 41, \"cohort_order\": 3}, {\"Age Cohort\": \"18 to 21\", \"Ethnicity\": \"Black\", \"n\": 9, \"cohort_order\": 3}, {\"Age Cohort\": \"18 to 21\", \"Ethnicity\": \"Hispanic\", \"n\": 78, \"cohort_order\": 3}, {\"Age Cohort\": \"18 to 21\", \"Ethnicity\": \"Multi Race\", \"n\": 2, \"cohort_order\": 3}, {\"Age Cohort\": \"18 to 21\", \"Ethnicity\": \"Native Hawaiian\", \"n\": 0, \"cohort_order\": 3}, {\"Age Cohort\": \"18 to 21\", \"Ethnicity\": \"Other\", \"n\": 0, \"cohort_order\": 3}, {\"Age Cohort\": \"18 to 21\", \"Ethnicity\": \"White not Hispanic\", \"n\": 69, \"cohort_order\": 3}, {\"Age Cohort\": \"22 to 50\", \"Ethnicity\": \"American Indian\", \"n\": 1, \"cohort_order\": 4}, {\"Age Cohort\": \"22 to 50\", \"Ethnicity\": \"Asian\", \"n\": 29, \"cohort_order\": 4}, {\"Age Cohort\": \"22 to 50\", \"Ethnicity\": \"Black\", \"n\": 17, \"cohort_order\": 4}, {\"Age Cohort\": \"22 to 50\", \"Ethnicity\": \"Hispanic\", \"n\": 43, \"cohort_order\": 4}, {\"Age Cohort\": \"22 to 50\", \"Ethnicity\": \"Multi Race\", \"n\": 1, \"cohort_order\": 4}, {\"Age Cohort\": \"22 to 50\", \"Ethnicity\": \"Native Hawaiian\", \"n\": 2, \"cohort_order\": 4}, {\"Age Cohort\": \"22 to 50\", \"Ethnicity\": \"Other\", \"n\": 0, \"cohort_order\": 4}, {\"Age Cohort\": \"22 to 50\", \"Ethnicity\": \"White not Hispanic\", \"n\": 133, \"cohort_order\": 4}, {\"Age Cohort\": \"51+\", \"Ethnicity\": \"American Indian\", \"n\": 2, \"cohort_order\": 5}, {\"Age Cohort\": \"51+\", \"Ethnicity\": \"Asian\", \"n\": 13, \"cohort_order\": 5}, {\"Age Cohort\": \"51+\", \"Ethnicity\": \"Black\", \"n\": 7, \"cohort_order\": 5}, {\"Age Cohort\": \"51+\", \"Ethnicity\": \"Hispanic\", \"n\": 17, \"cohort_order\": 5}, {\"Age Cohort\": \"51+\", \"Ethnicity\": \"Multi Race\", \"n\": 0, \"cohort_order\": 5}, {\"Age Cohort\": \"51+\", \"Ethnicity\": \"Native Hawaiian\", \"n\": 1, \"cohort_order\": 5}, {\"Age Cohort\": \"51+\", \"Ethnicity\": \"Other\", \"n\": 0, \"cohort_order\": 5}, {\"Age Cohort\": \"51+\", \"Ethnicity\": \"White not Hispanic\", \"n\": 66, \"cohort_order\": 5}]}}, {\"mode\": \"vega-lite\"});\n",
       "</script>"
      ],
      "text/plain": [
       "alt.Chart(...)"
      ]
     },
     "execution_count": 47,
     "metadata": {},
     "output_type": "execute_result"
    }
   ],
   "source": [
    "# compute sample sizes for each age/ethnic group\n",
    "samp_sizes = dds_cat.groupby(\n",
    "    ['Age Cohort', 'Ethnicity'] # SOLUTION\n",
    ").Id.count().reset_index().rename(\n",
    "    columns = {'Id': 'n'} # SOLUTION\n",
    ")\n",
    "\n",
    "# construct plot\n",
    "# BEGIN SOLUTION\n",
    "# add column with category codes\n",
    "samp_sizes['cohort_order'] = samp_sizes['Age Cohort'].cat.codes # SOLUTION\n",
    "\n",
    "fig_3 = alt.Chart(samp_sizes).mark_line(point = True).encode(\n",
    "    x = alt.X('Age Cohort', \n",
    "              title = '',\n",
    "              sort = alt.EncodingSortField(field = 'cohort_order', \n",
    "                                           order = 'ascending')),\n",
    "    y = alt.Y('n', \n",
    "              title = 'Sample size', \n",
    "              scale = alt.Scale(type = 'sqrt')),\n",
    "    color = 'Ethnicity'\n",
    ")\n",
    "# END SOLUTION\n",
    "\n",
    "# display\n",
    "fig_3 # SOLUTION"
   ]
  },
  {
   "attachments": {},
   "cell_type": "markdown",
   "metadata": {
    "tags": [
     "otter_assign_solution_cell"
    ]
   },
   "source": [
    "**SOLUTION**\n",
    "\n",
    "There are differences in age; for example, the white non-hispanic group comprises more individuals in the 22-50 cohort, whereas the hispanic group comprises more individuals in the 13-17 cohort."
   ]
  },
  {
   "attachments": {},
   "cell_type": "markdown",
   "metadata": {},
   "source": [
    "<!-- END QUESTION -->\n",
    "\n",
    "Age structure among ethnic groups might be related to the observed differences in median expenditure, because we know that:\n",
    "\n",
    "* (i) among the individuals in the sample, age distributions differed by ethnic group\n",
    "* (ii) age is related to benefit expenditure\n",
    "\n",
    "To see this, think through an example."
   ]
  },
  {
   "attachments": {},
   "cell_type": "markdown",
   "metadata": {},
   "source": [
    "<!-- BEGIN QUESTION -->\n",
    "\n",
    "### Question 6: potential confounding\n",
    "\n",
    "Look at the age distribution for `Multi Race` and consider the age-expenditure relationship. Can you explain why the median expenditure for this group might be lower than the others? Answer in 1-2 sentences."
   ]
  },
  {
   "cell_type": "markdown",
   "metadata": {},
   "source": [
    "_Type your answer here, replacing this text._"
   ]
  },
  {
   "attachments": {},
   "cell_type": "markdown",
   "metadata": {
    "tags": [
     "otter_assign_solution_cell"
    ]
   },
   "source": [
    "**SOLUTION**\n",
    "\n",
    "\n",
    "For the multiracial group, most recipients are under 17, and younger cohorts tend to recieve less expenditure."
   ]
  },
  {
   "attachments": {},
   "cell_type": "markdown",
   "metadata": {},
   "source": [
    "<!-- END QUESTION -->\n",
    "\n",
    "<!-- BEGIN QUESTION -->\n",
    "\n",
    "### Question 7: correcting for age\n",
    "\n",
    "Hopefully, the last few prompts convinced you that the apparent discrimination *could* simply be an artefact of differing age structure. You can investigate this by plotting median expenditure against ethnicity, as in figure 1, but now also correcting for age cohort.\n",
    "\n",
    "Construct an Altair point-and-line chart based on `dds_cat` with:\n",
    "\n",
    "   + ethnicity on the x axis\n",
    "   + no x axis label\n",
    "   + median expenditure on the y axis\n",
    "   + the y axis displayed on the log scale\n",
    "   + age cohort mapped to color and sorted in order of age\n",
    "   + lines connecting points that display the median expenditure for each ethnicity and cohort, with one line per age cohort\n",
    "    \n",
    "Store the result as `fig_4` and display the graphic."
   ]
  },
  {
   "cell_type": "code",
   "execution_count": 48,
   "metadata": {
    "tags": [
     "otter_assign_solution_cell"
    ]
   },
   "outputs": [
    {
     "data": {
      "text/html": [
       "\n",
       "<div id=\"altair-viz-0b72f0c280d0475ab49b20cff482936d\"></div>\n",
       "<script type=\"text/javascript\">\n",
       "  var VEGA_DEBUG = (typeof VEGA_DEBUG == \"undefined\") ? {} : VEGA_DEBUG;\n",
       "  (function(spec, embedOpt){\n",
       "    let outputDiv = document.currentScript.previousElementSibling;\n",
       "    if (outputDiv.id !== \"altair-viz-0b72f0c280d0475ab49b20cff482936d\") {\n",
       "      outputDiv = document.getElementById(\"altair-viz-0b72f0c280d0475ab49b20cff482936d\");\n",
       "    }\n",
       "    const paths = {\n",
       "      \"vega\": \"https://cdn.jsdelivr.net/npm//vega@5?noext\",\n",
       "      \"vega-lib\": \"https://cdn.jsdelivr.net/npm//vega-lib?noext\",\n",
       "      \"vega-lite\": \"https://cdn.jsdelivr.net/npm//vega-lite@4.17.0?noext\",\n",
       "      \"vega-embed\": \"https://cdn.jsdelivr.net/npm//vega-embed@6?noext\",\n",
       "    };\n",
       "\n",
       "    function maybeLoadScript(lib, version) {\n",
       "      var key = `${lib.replace(\"-\", \"\")}_version`;\n",
       "      return (VEGA_DEBUG[key] == version) ?\n",
       "        Promise.resolve(paths[lib]) :\n",
       "        new Promise(function(resolve, reject) {\n",
       "          var s = document.createElement('script');\n",
       "          document.getElementsByTagName(\"head\")[0].appendChild(s);\n",
       "          s.async = true;\n",
       "          s.onload = () => {\n",
       "            VEGA_DEBUG[key] = version;\n",
       "            return resolve(paths[lib]);\n",
       "          };\n",
       "          s.onerror = () => reject(`Error loading script: ${paths[lib]}`);\n",
       "          s.src = paths[lib];\n",
       "        });\n",
       "    }\n",
       "\n",
       "    function showError(err) {\n",
       "      outputDiv.innerHTML = `<div class=\"error\" style=\"color:red;\">${err}</div>`;\n",
       "      throw err;\n",
       "    }\n",
       "\n",
       "    function displayChart(vegaEmbed) {\n",
       "      vegaEmbed(outputDiv, spec, embedOpt)\n",
       "        .catch(err => showError(`Javascript Error: ${err.message}<br>This usually means there's a typo in your chart specification. See the javascript console for the full traceback.`));\n",
       "    }\n",
       "\n",
       "    if(typeof define === \"function\" && define.amd) {\n",
       "      requirejs.config({paths});\n",
       "      require([\"vega-embed\"], displayChart, err => showError(`Error loading script: ${err.message}`));\n",
       "    } else {\n",
       "      maybeLoadScript(\"vega\", \"5\")\n",
       "        .then(() => maybeLoadScript(\"vega-lite\", \"4.17.0\"))\n",
       "        .then(() => maybeLoadScript(\"vega-embed\", \"6\"))\n",
       "        .catch(showError)\n",
       "        .then(() => displayChart(vegaEmbed));\n",
       "    }\n",
       "  })({\"config\": {\"view\": {\"continuousWidth\": 400, \"continuousHeight\": 300}}, \"data\": {\"name\": \"data-c45255f102a5af550b2d77c3fd5e3956\"}, \"mark\": {\"type\": \"line\", \"point\": true}, \"encoding\": {\"color\": {\"field\": \"Age Cohort\", \"sort\": {\"field\": \"cohort_order\", \"order\": \"ascending\"}, \"type\": \"ordinal\"}, \"x\": {\"field\": \"Ethnicity\", \"title\": \"\", \"type\": \"nominal\"}, \"y\": {\"aggregate\": \"median\", \"field\": \"Expenditures\", \"scale\": {\"type\": \"log\"}, \"type\": \"quantitative\"}}, \"$schema\": \"https://vega.github.io/schema/vega-lite/v4.17.0.json\", \"datasets\": {\"data-c45255f102a5af550b2d77c3fd5e3956\": [{\"Id\": 10210, \"Age Cohort\": \"13 to 17\", \"Age\": 17, \"Gender\": \"Female\", \"Expenditures\": 2113, \"Ethnicity\": \"White not Hispanic\", \"cohort_order\": 2.0}, {\"Id\": 10409, \"Age Cohort\": \"22 to 50\", \"Age\": 37, \"Gender\": \"Male\", \"Expenditures\": 41924, \"Ethnicity\": \"White not Hispanic\", \"cohort_order\": 4.0}, {\"Id\": 10486, \"Age Cohort\": \"0 to 5\", \"Age\": 3, \"Gender\": \"Male\", \"Expenditures\": 1454, \"Ethnicity\": \"Hispanic\", \"cohort_order\": 0.0}, {\"Id\": 10538, \"Age Cohort\": \"18 to 21\", \"Age\": 19, \"Gender\": \"Female\", \"Expenditures\": 6400, \"Ethnicity\": \"Hispanic\", \"cohort_order\": 3.0}, {\"Id\": 10568, \"Age Cohort\": \"13 to 17\", \"Age\": 13, \"Gender\": \"Male\", \"Expenditures\": 4412, \"Ethnicity\": \"White not Hispanic\", \"cohort_order\": 2.0}, {\"Id\": 10690, \"Age Cohort\": \"13 to 17\", \"Age\": 15, \"Gender\": \"Female\", \"Expenditures\": 4566, \"Ethnicity\": \"Hispanic\", \"cohort_order\": null}, {\"Id\": 10711, \"Age Cohort\": \"13 to 17\", \"Age\": 13, \"Gender\": \"Female\", \"Expenditures\": 3915, \"Ethnicity\": \"White not Hispanic\", \"cohort_order\": null}, {\"Id\": 10778, \"Age Cohort\": \"13 to 17\", \"Age\": 17, \"Gender\": \"Male\", \"Expenditures\": 3873, \"Ethnicity\": \"Black\", \"cohort_order\": null}, {\"Id\": 10820, \"Age Cohort\": \"13 to 17\", \"Age\": 14, \"Gender\": \"Female\", \"Expenditures\": 5021, \"Ethnicity\": \"White not Hispanic\", \"cohort_order\": null}, {\"Id\": 10823, \"Age Cohort\": \"13 to 17\", \"Age\": 13, \"Gender\": \"Male\", \"Expenditures\": 2887, \"Ethnicity\": \"Hispanic\", \"cohort_order\": null}, {\"Id\": 11000, \"Age Cohort\": \"13 to 17\", \"Age\": 13, \"Gender\": \"Female\", \"Expenditures\": 4154, \"Ethnicity\": \"White not Hispanic\", \"cohort_order\": null}, {\"Id\": 11024, \"Age Cohort\": \"13 to 17\", \"Age\": 14, \"Gender\": \"Male\", \"Expenditures\": 3048, \"Ethnicity\": \"Hispanic\", \"cohort_order\": null}, {\"Id\": 11115, \"Age Cohort\": \"13 to 17\", \"Age\": 15, \"Gender\": \"Female\", \"Expenditures\": 2757, \"Ethnicity\": \"White not Hispanic\", \"cohort_order\": null}, {\"Id\": 11189, \"Age Cohort\": \"13 to 17\", \"Age\": 17, \"Gender\": \"Male\", \"Expenditures\": 5340, \"Ethnicity\": \"Multi Race\", \"cohort_order\": null}, {\"Id\": 11201, \"Age Cohort\": \"18 to 21\", \"Age\": 20, \"Gender\": \"Male\", \"Expenditures\": 10047, \"Ethnicity\": \"Hispanic\", \"cohort_order\": null}, {\"Id\": 11210, \"Age Cohort\": \"22 to 50\", \"Age\": 25, \"Gender\": \"Female\", \"Expenditures\": 34795, \"Ethnicity\": \"Black\", \"cohort_order\": null}, {\"Id\": 11379, \"Age Cohort\": \"22 to 50\", \"Age\": 23, \"Gender\": \"Female\", \"Expenditures\": 43025, \"Ethnicity\": \"White not Hispanic\", \"cohort_order\": null}, {\"Id\": 11380, \"Age Cohort\": \"22 to 50\", \"Age\": 41, \"Gender\": \"Male\", \"Expenditures\": 54115, \"Ethnicity\": \"Asian\", \"cohort_order\": null}, {\"Id\": 11441, \"Age Cohort\": \"0 to 5\", \"Age\": 5, \"Gender\": \"Female\", \"Expenditures\": 1748, \"Ethnicity\": \"Hispanic\", \"cohort_order\": null}, {\"Id\": 11466, \"Age Cohort\": \"13 to 17\", \"Age\": 15, \"Gender\": \"Female\", \"Expenditures\": 4515, \"Ethnicity\": \"Hispanic\", \"cohort_order\": null}, {\"Id\": 11812, \"Age Cohort\": \"0 to 5\", \"Age\": 5, \"Gender\": \"Male\", \"Expenditures\": 1861, \"Ethnicity\": \"Hispanic\", \"cohort_order\": null}, {\"Id\": 11842, \"Age Cohort\": \"0 to 5\", \"Age\": 5, \"Gender\": \"Male\", \"Expenditures\": 1598, \"Ethnicity\": \"Hispanic\", \"cohort_order\": null}, {\"Id\": 11922, \"Age Cohort\": \"22 to 50\", \"Age\": 22, \"Gender\": \"Female\", \"Expenditures\": 46571, \"Ethnicity\": \"Hispanic\", \"cohort_order\": null}, {\"Id\": 11935, \"Age Cohort\": \"0 to 5\", \"Age\": 3, \"Gender\": \"Male\", \"Expenditures\": 1066, \"Ethnicity\": \"Hispanic\", \"cohort_order\": null}, {\"Id\": 12127, \"Age Cohort\": \"13 to 17\", \"Age\": 16, \"Gender\": \"Female\", \"Expenditures\": 3867, \"Ethnicity\": \"Black\", \"cohort_order\": null}, {\"Id\": 12137, \"Age Cohort\": \"51+\", \"Age\": 71, \"Gender\": \"Female\", \"Expenditures\": 57928, \"Ethnicity\": \"White not Hispanic\", \"cohort_order\": null}, {\"Id\": 12207, \"Age Cohort\": \"13 to 17\", \"Age\": 13, \"Gender\": \"Female\", \"Expenditures\": 4002, \"Ethnicity\": \"White not Hispanic\", \"cohort_order\": null}, {\"Id\": 12530, \"Age Cohort\": \"18 to 21\", \"Age\": 18, \"Gender\": \"Female\", \"Expenditures\": 10434, \"Ethnicity\": \"Asian\", \"cohort_order\": null}, {\"Id\": 12589, \"Age Cohort\": \"51+\", \"Age\": 63, \"Gender\": \"Female\", \"Expenditures\": 56134, \"Ethnicity\": \"White not Hispanic\", \"cohort_order\": null}, {\"Id\": 12834, \"Age Cohort\": \"0 to 5\", \"Age\": 1, \"Gender\": \"Male\", \"Expenditures\": 1070, \"Ethnicity\": \"White not Hispanic\", \"cohort_order\": null}, {\"Id\": 12850, \"Age Cohort\": \"13 to 17\", \"Age\": 13, \"Gender\": \"Male\", \"Expenditures\": 3775, \"Ethnicity\": \"Multi Race\", \"cohort_order\": null}, {\"Id\": 12990, \"Age Cohort\": \"22 to 50\", \"Age\": 27, \"Gender\": \"Female\", \"Expenditures\": 35284, \"Ethnicity\": \"White not Hispanic\", \"cohort_order\": null}, {\"Id\": 13119, \"Age Cohort\": \"18 to 21\", \"Age\": 21, \"Gender\": \"Male\", \"Expenditures\": 7219, \"Ethnicity\": \"White not Hispanic\", \"cohort_order\": null}, {\"Id\": 13120, \"Age Cohort\": \"13 to 17\", \"Age\": 14, \"Gender\": \"Male\", \"Expenditures\": 4681, \"Ethnicity\": \"White not Hispanic\", \"cohort_order\": null}, {\"Id\": 13195, \"Age Cohort\": \"13 to 17\", \"Age\": 15, \"Gender\": \"Female\", \"Expenditures\": 4629, \"Ethnicity\": \"Asian\", \"cohort_order\": null}, {\"Id\": 13621, \"Age Cohort\": \"0 to 5\", \"Age\": 3, \"Gender\": \"Female\", \"Expenditures\": 2750, \"Ethnicity\": \"White not Hispanic\", \"cohort_order\": null}, {\"Id\": 13692, \"Age Cohort\": \"13 to 17\", \"Age\": 15, \"Gender\": \"Female\", \"Expenditures\": 3392, \"Ethnicity\": \"Asian\", \"cohort_order\": null}, {\"Id\": 13722, \"Age Cohort\": \"13 to 17\", \"Age\": 14, \"Gender\": \"Male\", \"Expenditures\": 5696, \"Ethnicity\": \"Black\", \"cohort_order\": null}, {\"Id\": 13826, \"Age Cohort\": \"22 to 50\", \"Age\": 30, \"Gender\": \"Female\", \"Expenditures\": 46660, \"Ethnicity\": \"White not Hispanic\", \"cohort_order\": null}, {\"Id\": 14233, \"Age Cohort\": \"6 to 12\", \"Age\": 6, \"Gender\": \"Female\", \"Expenditures\": 2354, \"Ethnicity\": \"Hispanic\", \"cohort_order\": null}, {\"Id\": 14367, \"Age Cohort\": \"22 to 50\", \"Age\": 33, \"Gender\": \"Male\", \"Expenditures\": 40781, \"Ethnicity\": \"White not Hispanic\", \"cohort_order\": null}, {\"Id\": 14427, \"Age Cohort\": \"6 to 12\", \"Age\": 10, \"Gender\": \"Female\", \"Expenditures\": 2559, \"Ethnicity\": \"Black\", \"cohort_order\": null}, {\"Id\": 14520, \"Age Cohort\": \"22 to 50\", \"Age\": 25, \"Gender\": \"Female\", \"Expenditures\": 36428, \"Ethnicity\": \"White not Hispanic\", \"cohort_order\": null}, {\"Id\": 14523, \"Age Cohort\": \"0 to 5\", \"Age\": 3, \"Gender\": \"Male\", \"Expenditures\": 674, \"Ethnicity\": \"Hispanic\", \"cohort_order\": null}, {\"Id\": 14648, \"Age Cohort\": \"22 to 50\", \"Age\": 26, \"Gender\": \"Male\", \"Expenditures\": 39844, \"Ethnicity\": \"Asian\", \"cohort_order\": null}, {\"Id\": 14653, \"Age Cohort\": \"13 to 17\", \"Age\": 17, \"Gender\": \"Male\", \"Expenditures\": 4046, \"Ethnicity\": \"White not Hispanic\", \"cohort_order\": null}, {\"Id\": 14665, \"Age Cohort\": \"22 to 50\", \"Age\": 33, \"Gender\": \"Male\", \"Expenditures\": 36184, \"Ethnicity\": \"White not Hispanic\", \"cohort_order\": null}, {\"Id\": 14845, \"Age Cohort\": \"13 to 17\", \"Age\": 16, \"Gender\": \"Male\", \"Expenditures\": 4968, \"Ethnicity\": \"Hispanic\", \"cohort_order\": null}, {\"Id\": 15034, \"Age Cohort\": \"22 to 50\", \"Age\": 24, \"Gender\": \"Male\", \"Expenditures\": 36901, \"Ethnicity\": \"White not Hispanic\", \"cohort_order\": null}, {\"Id\": 15060, \"Age Cohort\": \"51+\", \"Age\": 63, \"Gender\": \"Female\", \"Expenditures\": 50419, \"Ethnicity\": \"White not Hispanic\", \"cohort_order\": null}, {\"Id\": 15111, \"Age Cohort\": \"0 to 5\", \"Age\": 1, \"Gender\": \"Female\", \"Expenditures\": 340, \"Ethnicity\": \"White not Hispanic\", \"cohort_order\": null}, {\"Id\": 15205, \"Age Cohort\": \"22 to 50\", \"Age\": 24, \"Gender\": \"Female\", \"Expenditures\": 42192, \"Ethnicity\": \"Black\", \"cohort_order\": null}, {\"Id\": 15366, \"Age Cohort\": \"51+\", \"Age\": 75, \"Gender\": \"Female\", \"Expenditures\": 49239, \"Ethnicity\": \"White not Hispanic\", \"cohort_order\": null}, {\"Id\": 15422, \"Age Cohort\": \"22 to 50\", \"Age\": 27, \"Gender\": \"Male\", \"Expenditures\": 36057, \"Ethnicity\": \"White not Hispanic\", \"cohort_order\": null}, {\"Id\": 15448, \"Age Cohort\": \"6 to 12\", \"Age\": 8, \"Gender\": \"Female\", \"Expenditures\": 2895, \"Ethnicity\": \"Hispanic\", \"cohort_order\": null}, {\"Id\": 15487, \"Age Cohort\": \"22 to 50\", \"Age\": 24, \"Gender\": \"Male\", \"Expenditures\": 31512, \"Ethnicity\": \"White not Hispanic\", \"cohort_order\": null}, {\"Id\": 15778, \"Age Cohort\": \"6 to 12\", \"Age\": 10, \"Gender\": \"Female\", \"Expenditures\": 1915, \"Ethnicity\": \"Hispanic\", \"cohort_order\": null}, {\"Id\": 15801, \"Age Cohort\": \"13 to 17\", \"Age\": 16, \"Gender\": \"Male\", \"Expenditures\": 4091, \"Ethnicity\": \"Hispanic\", \"cohort_order\": null}, {\"Id\": 15888, \"Age Cohort\": \"13 to 17\", \"Age\": 13, \"Gender\": \"Male\", \"Expenditures\": 4798, \"Ethnicity\": \"Hispanic\", \"cohort_order\": null}, {\"Id\": 15970, \"Age Cohort\": \"51+\", \"Age\": 51, \"Gender\": \"Female\", \"Expenditures\": 54267, \"Ethnicity\": \"White not Hispanic\", \"cohort_order\": null}, {\"Id\": 16048, \"Age Cohort\": \"6 to 12\", \"Age\": 6, \"Gender\": \"Female\", \"Expenditures\": 1783, \"Ethnicity\": \"Asian\", \"cohort_order\": null}, {\"Id\": 16052, \"Age Cohort\": \"13 to 17\", \"Age\": 16, \"Gender\": \"Female\", \"Expenditures\": 3212, \"Ethnicity\": \"Hispanic\", \"cohort_order\": null}, {\"Id\": 16306, \"Age Cohort\": \"13 to 17\", \"Age\": 15, \"Gender\": \"Female\", \"Expenditures\": 2029, \"Ethnicity\": \"White not Hispanic\", \"cohort_order\": null}, {\"Id\": 16440, \"Age Cohort\": \"22 to 50\", \"Age\": 22, \"Gender\": \"Male\", \"Expenditures\": 37727, \"Ethnicity\": \"White not Hispanic\", \"cohort_order\": null}, {\"Id\": 16515, \"Age Cohort\": \"18 to 21\", \"Age\": 20, \"Gender\": \"Male\", \"Expenditures\": 11998, \"Ethnicity\": \"Hispanic\", \"cohort_order\": null}, {\"Id\": 16525, \"Age Cohort\": \"22 to 50\", \"Age\": 45, \"Gender\": \"Male\", \"Expenditures\": 50304, \"Ethnicity\": \"Hispanic\", \"cohort_order\": null}, {\"Id\": 16981, \"Age Cohort\": \"0 to 5\", \"Age\": 5, \"Gender\": \"Female\", \"Expenditures\": 1130, \"Ethnicity\": \"Hispanic\", \"cohort_order\": null}, {\"Id\": 17191, \"Age Cohort\": \"22 to 50\", \"Age\": 24, \"Gender\": \"Female\", \"Expenditures\": 45412, \"Ethnicity\": \"White not Hispanic\", \"cohort_order\": null}, {\"Id\": 17276, \"Age Cohort\": \"22 to 50\", \"Age\": 32, \"Gender\": \"Male\", \"Expenditures\": 38310, \"Ethnicity\": \"Hispanic\", \"cohort_order\": null}, {\"Id\": 17354, \"Age Cohort\": \"13 to 17\", \"Age\": 13, \"Gender\": \"Female\", \"Expenditures\": 3638, \"Ethnicity\": \"Hispanic\", \"cohort_order\": null}, {\"Id\": 17361, \"Age Cohort\": \"51+\", \"Age\": 74, \"Gender\": \"Female\", \"Expenditures\": 54616, \"Ethnicity\": \"Asian\", \"cohort_order\": null}, {\"Id\": 17456, \"Age Cohort\": \"22 to 50\", \"Age\": 26, \"Gender\": \"Female\", \"Expenditures\": 30504, \"Ethnicity\": \"Asian\", \"cohort_order\": null}, {\"Id\": 17604, \"Age Cohort\": \"18 to 21\", \"Age\": 19, \"Gender\": \"Male\", \"Expenditures\": 7621, \"Ethnicity\": \"Hispanic\", \"cohort_order\": null}, {\"Id\": 17605, \"Age Cohort\": \"18 to 21\", \"Age\": 18, \"Gender\": \"Male\", \"Expenditures\": 13677, \"Ethnicity\": \"White not Hispanic\", \"cohort_order\": null}, {\"Id\": 17744, \"Age Cohort\": \"6 to 12\", \"Age\": 6, \"Gender\": \"Female\", \"Expenditures\": 1423, \"Ethnicity\": \"Hispanic\", \"cohort_order\": null}, {\"Id\": 17799, \"Age Cohort\": \"13 to 17\", \"Age\": 17, \"Gender\": \"Female\", \"Expenditures\": 4395, \"Ethnicity\": \"Hispanic\", \"cohort_order\": null}, {\"Id\": 18015, \"Age Cohort\": \"22 to 50\", \"Age\": 29, \"Gender\": \"Male\", \"Expenditures\": 38236, \"Ethnicity\": \"White not Hispanic\", \"cohort_order\": null}, {\"Id\": 18057, \"Age Cohort\": \"13 to 17\", \"Age\": 17, \"Gender\": \"Male\", \"Expenditures\": 6798, \"Ethnicity\": \"White not Hispanic\", \"cohort_order\": null}, {\"Id\": 18080, \"Age Cohort\": \"13 to 17\", \"Age\": 13, \"Gender\": \"Female\", \"Expenditures\": 4052, \"Ethnicity\": \"White not Hispanic\", \"cohort_order\": null}, {\"Id\": 18095, \"Age Cohort\": \"22 to 50\", \"Age\": 48, \"Gender\": \"Female\", \"Expenditures\": 49424, \"Ethnicity\": \"White not Hispanic\", \"cohort_order\": null}, {\"Id\": 18127, \"Age Cohort\": \"22 to 50\", \"Age\": 34, \"Gender\": \"Female\", \"Expenditures\": 39521, \"Ethnicity\": \"Hispanic\", \"cohort_order\": null}, {\"Id\": 18223, \"Age Cohort\": \"6 to 12\", \"Age\": 9, \"Gender\": \"Female\", \"Expenditures\": 2471, \"Ethnicity\": \"Asian\", \"cohort_order\": null}, {\"Id\": 18262, \"Age Cohort\": \"18 to 21\", \"Age\": 18, \"Gender\": \"Male\", \"Expenditures\": 15018, \"Ethnicity\": \"Hispanic\", \"cohort_order\": null}, {\"Id\": 18313, \"Age Cohort\": \"13 to 17\", \"Age\": 16, \"Gender\": \"Male\", \"Expenditures\": 2924, \"Ethnicity\": \"White not Hispanic\", \"cohort_order\": null}, {\"Id\": 18383, \"Age Cohort\": \"0 to 5\", \"Age\": 0, \"Gender\": \"Male\", \"Expenditures\": 1149, \"Ethnicity\": \"Multi Race\", \"cohort_order\": null}, {\"Id\": 18421, \"Age Cohort\": \"13 to 17\", \"Age\": 15, \"Gender\": \"Female\", \"Expenditures\": 4525, \"Ethnicity\": \"Hispanic\", \"cohort_order\": null}, {\"Id\": 18482, \"Age Cohort\": \"13 to 17\", \"Age\": 16, \"Gender\": \"Male\", \"Expenditures\": 3796, \"Ethnicity\": \"Hispanic\", \"cohort_order\": null}, {\"Id\": 18492, \"Age Cohort\": \"18 to 21\", \"Age\": 18, \"Gender\": \"Female\", \"Expenditures\": 8730, \"Ethnicity\": \"Black\", \"cohort_order\": null}, {\"Id\": 18655, \"Age Cohort\": \"22 to 50\", \"Age\": 28, \"Gender\": \"Male\", \"Expenditures\": 37247, \"Ethnicity\": \"Black\", \"cohort_order\": null}, {\"Id\": 18656, \"Age Cohort\": \"22 to 50\", \"Age\": 28, \"Gender\": \"Female\", \"Expenditures\": 31027, \"Ethnicity\": \"White not Hispanic\", \"cohort_order\": null}, {\"Id\": 18671, \"Age Cohort\": \"22 to 50\", \"Age\": 22, \"Gender\": \"Male\", \"Expenditures\": 27364, \"Ethnicity\": \"White not Hispanic\", \"cohort_order\": null}, {\"Id\": 18749, \"Age Cohort\": \"22 to 50\", \"Age\": 27, \"Gender\": \"Female\", \"Expenditures\": 30998, \"Ethnicity\": \"White not Hispanic\", \"cohort_order\": null}, {\"Id\": 18867, \"Age Cohort\": \"51+\", \"Age\": 66, \"Gender\": \"Female\", \"Expenditures\": 49851, \"Ethnicity\": \"Asian\", \"cohort_order\": null}, {\"Id\": 18894, \"Age Cohort\": \"0 to 5\", \"Age\": 3, \"Gender\": \"Male\", \"Expenditures\": 1057, \"Ethnicity\": \"White not Hispanic\", \"cohort_order\": null}, {\"Id\": 19107, \"Age Cohort\": \"22 to 50\", \"Age\": 22, \"Gender\": \"Male\", \"Expenditures\": 42623, \"Ethnicity\": \"White not Hispanic\", \"cohort_order\": null}, {\"Id\": 19147, \"Age Cohort\": \"0 to 5\", \"Age\": 1, \"Gender\": \"Male\", \"Expenditures\": 1363, \"Ethnicity\": \"Hispanic\", \"cohort_order\": null}, {\"Id\": 19148, \"Age Cohort\": \"13 to 17\", \"Age\": 13, \"Gender\": \"Female\", \"Expenditures\": 5324, \"Ethnicity\": \"Black\", \"cohort_order\": null}, {\"Id\": 19228, \"Age Cohort\": \"22 to 50\", \"Age\": 22, \"Gender\": \"Male\", \"Expenditures\": 46513, \"Ethnicity\": \"Black\", \"cohort_order\": null}, {\"Id\": 19247, \"Age Cohort\": \"13 to 17\", \"Age\": 15, \"Gender\": \"Female\", \"Expenditures\": 2521, \"Ethnicity\": \"White not Hispanic\", \"cohort_order\": null}, {\"Id\": 19250, \"Age Cohort\": \"51+\", \"Age\": 94, \"Gender\": \"Female\", \"Expenditures\": 60871, \"Ethnicity\": \"Hispanic\", \"cohort_order\": null}, {\"Id\": 19251, \"Age Cohort\": \"22 to 50\", \"Age\": 41, \"Gender\": \"Female\", \"Expenditures\": 42139, \"Ethnicity\": \"White not Hispanic\", \"cohort_order\": null}, {\"Id\": 19290, \"Age Cohort\": \"0 to 5\", \"Age\": 5, \"Gender\": \"Male\", \"Expenditures\": 1713, \"Ethnicity\": \"Hispanic\", \"cohort_order\": null}, {\"Id\": 19373, \"Age Cohort\": \"6 to 12\", \"Age\": 6, \"Gender\": \"Female\", \"Expenditures\": 1814, \"Ethnicity\": \"Asian\", \"cohort_order\": null}, {\"Id\": 19412, \"Age Cohort\": \"51+\", \"Age\": 60, \"Gender\": \"Female\", \"Expenditures\": 57702, \"Ethnicity\": \"White not Hispanic\", \"cohort_order\": null}, {\"Id\": 19510, \"Age Cohort\": \"22 to 50\", \"Age\": 23, \"Gender\": \"Female\", \"Expenditures\": 36607, \"Ethnicity\": \"White not Hispanic\", \"cohort_order\": null}, {\"Id\": 19517, \"Age Cohort\": \"22 to 50\", \"Age\": 36, \"Gender\": \"Male\", \"Expenditures\": 29144, \"Ethnicity\": \"White not Hispanic\", \"cohort_order\": null}, {\"Id\": 19571, \"Age Cohort\": \"18 to 21\", \"Age\": 21, \"Gender\": \"Female\", \"Expenditures\": 7193, \"Ethnicity\": \"White not Hispanic\", \"cohort_order\": null}, {\"Id\": 19661, \"Age Cohort\": \"22 to 50\", \"Age\": 23, \"Gender\": \"Female\", \"Expenditures\": 49028, \"Ethnicity\": \"Hispanic\", \"cohort_order\": null}, {\"Id\": 19662, \"Age Cohort\": \"51+\", \"Age\": 80, \"Gender\": \"Female\", \"Expenditures\": 54309, \"Ethnicity\": \"White not Hispanic\", \"cohort_order\": null}, {\"Id\": 19663, \"Age Cohort\": \"6 to 12\", \"Age\": 6, \"Gender\": \"Female\", \"Expenditures\": 987, \"Ethnicity\": \"White not Hispanic\", \"cohort_order\": null}, {\"Id\": 19825, \"Age Cohort\": \"22 to 50\", \"Age\": 25, \"Gender\": \"Female\", \"Expenditures\": 41107, \"Ethnicity\": \"White not Hispanic\", \"cohort_order\": null}, {\"Id\": 19917, \"Age Cohort\": \"0 to 5\", \"Age\": 0, \"Gender\": \"Male\", \"Expenditures\": 904, \"Ethnicity\": \"White not Hispanic\", \"cohort_order\": null}, {\"Id\": 20057, \"Age Cohort\": \"51+\", \"Age\": 65, \"Gender\": \"Female\", \"Expenditures\": 56752, \"Ethnicity\": \"White not Hispanic\", \"cohort_order\": null}, {\"Id\": 20073, \"Age Cohort\": \"0 to 5\", \"Age\": 4, \"Gender\": \"Female\", \"Expenditures\": 1977, \"Ethnicity\": \"Hispanic\", \"cohort_order\": null}, {\"Id\": 20380, \"Age Cohort\": \"6 to 12\", \"Age\": 12, \"Gender\": \"Female\", \"Expenditures\": 3450, \"Ethnicity\": \"Hispanic\", \"cohort_order\": null}, {\"Id\": 20641, \"Age Cohort\": \"18 to 21\", \"Age\": 19, \"Gender\": \"Male\", \"Expenditures\": 10716, \"Ethnicity\": \"White not Hispanic\", \"cohort_order\": null}, {\"Id\": 20810, \"Age Cohort\": \"18 to 21\", \"Age\": 20, \"Gender\": \"Male\", \"Expenditures\": 9161, \"Ethnicity\": \"Hispanic\", \"cohort_order\": null}, {\"Id\": 20832, \"Age Cohort\": \"6 to 12\", \"Age\": 12, \"Gender\": \"Female\", \"Expenditures\": 3007, \"Ethnicity\": \"Hispanic\", \"cohort_order\": null}, {\"Id\": 20872, \"Age Cohort\": \"22 to 50\", \"Age\": 33, \"Gender\": \"Male\", \"Expenditures\": 34558, \"Ethnicity\": \"White not Hispanic\", \"cohort_order\": null}, {\"Id\": 20876, \"Age Cohort\": \"13 to 17\", \"Age\": 15, \"Gender\": \"Male\", \"Expenditures\": 3269, \"Ethnicity\": \"Hispanic\", \"cohort_order\": null}, {\"Id\": 20918, \"Age Cohort\": \"22 to 50\", \"Age\": 24, \"Gender\": \"Female\", \"Expenditures\": 40980, \"Ethnicity\": \"Hispanic\", \"cohort_order\": null}, {\"Id\": 20976, \"Age Cohort\": \"0 to 5\", \"Age\": 4, \"Gender\": \"Male\", \"Expenditures\": 1196, \"Ethnicity\": \"Hispanic\", \"cohort_order\": null}, {\"Id\": 20984, \"Age Cohort\": \"18 to 21\", \"Age\": 18, \"Gender\": \"Male\", \"Expenditures\": 4814, \"Ethnicity\": \"Black\", \"cohort_order\": null}, {\"Id\": 21140, \"Age Cohort\": \"0 to 5\", \"Age\": 5, \"Gender\": \"Male\", \"Expenditures\": 1997, \"Ethnicity\": \"White not Hispanic\", \"cohort_order\": null}, {\"Id\": 21158, \"Age Cohort\": \"22 to 50\", \"Age\": 24, \"Gender\": \"Female\", \"Expenditures\": 51149, \"Ethnicity\": \"Hispanic\", \"cohort_order\": null}, {\"Id\": 21167, \"Age Cohort\": \"18 to 21\", \"Age\": 18, \"Gender\": \"Female\", \"Expenditures\": 11038, \"Ethnicity\": \"Hispanic\", \"cohort_order\": null}, {\"Id\": 21296, \"Age Cohort\": \"18 to 21\", \"Age\": 21, \"Gender\": \"Male\", \"Expenditures\": 3988, \"Ethnicity\": \"Asian\", \"cohort_order\": null}, {\"Id\": 21305, \"Age Cohort\": \"18 to 21\", \"Age\": 18, \"Gender\": \"Female\", \"Expenditures\": 12306, \"Ethnicity\": \"White not Hispanic\", \"cohort_order\": null}, {\"Id\": 21351, \"Age Cohort\": \"18 to 21\", \"Age\": 19, \"Gender\": \"Female\", \"Expenditures\": 12649, \"Ethnicity\": \"Hispanic\", \"cohort_order\": null}, {\"Id\": 21503, \"Age Cohort\": \"22 to 50\", \"Age\": 24, \"Gender\": \"Male\", \"Expenditures\": 37416, \"Ethnicity\": \"White not Hispanic\", \"cohort_order\": null}, {\"Id\": 21585, \"Age Cohort\": \"6 to 12\", \"Age\": 11, \"Gender\": \"Female\", \"Expenditures\": 2664, \"Ethnicity\": \"Hispanic\", \"cohort_order\": null}, {\"Id\": 21591, \"Age Cohort\": \"51+\", \"Age\": 66, \"Gender\": \"Female\", \"Expenditures\": 59926, \"Ethnicity\": \"Hispanic\", \"cohort_order\": null}, {\"Id\": 21742, \"Age Cohort\": \"18 to 21\", \"Age\": 20, \"Gender\": \"Female\", \"Expenditures\": 10696, \"Ethnicity\": \"Asian\", \"cohort_order\": null}, {\"Id\": 22056, \"Age Cohort\": \"18 to 21\", \"Age\": 19, \"Gender\": \"Male\", \"Expenditures\": 9972, \"Ethnicity\": \"Hispanic\", \"cohort_order\": null}, {\"Id\": 22124, \"Age Cohort\": \"13 to 17\", \"Age\": 14, \"Gender\": \"Female\", \"Expenditures\": 5920, \"Ethnicity\": \"Hispanic\", \"cohort_order\": null}, {\"Id\": 22125, \"Age Cohort\": \"0 to 5\", \"Age\": 5, \"Gender\": \"Male\", \"Expenditures\": 2549, \"Ethnicity\": \"Hispanic\", \"cohort_order\": null}, {\"Id\": 22446, \"Age Cohort\": \"13 to 17\", \"Age\": 17, \"Gender\": \"Male\", \"Expenditures\": 2686, \"Ethnicity\": \"Hispanic\", \"cohort_order\": null}, {\"Id\": 22534, \"Age Cohort\": \"22 to 50\", \"Age\": 34, \"Gender\": \"Female\", \"Expenditures\": 40277, \"Ethnicity\": \"Hispanic\", \"cohort_order\": null}, {\"Id\": 22541, \"Age Cohort\": \"22 to 50\", \"Age\": 27, \"Gender\": \"Female\", \"Expenditures\": 42702, \"Ethnicity\": \"White not Hispanic\", \"cohort_order\": null}, {\"Id\": 22682, \"Age Cohort\": \"22 to 50\", \"Age\": 37, \"Gender\": \"Female\", \"Expenditures\": 42455, \"Ethnicity\": \"White not Hispanic\", \"cohort_order\": null}, {\"Id\": 22697, \"Age Cohort\": \"13 to 17\", \"Age\": 13, \"Gender\": \"Male\", \"Expenditures\": 4097, \"Ethnicity\": \"Hispanic\", \"cohort_order\": null}, {\"Id\": 22700, \"Age Cohort\": \"0 to 5\", \"Age\": 4, \"Gender\": \"Male\", \"Expenditures\": 1957, \"Ethnicity\": \"Hispanic\", \"cohort_order\": null}, {\"Id\": 22764, \"Age Cohort\": \"0 to 5\", \"Age\": 5, \"Gender\": \"Male\", \"Expenditures\": 1646, \"Ethnicity\": \"Hispanic\", \"cohort_order\": null}, {\"Id\": 22879, \"Age Cohort\": \"0 to 5\", \"Age\": 4, \"Gender\": \"Male\", \"Expenditures\": 1525, \"Ethnicity\": \"Hispanic\", \"cohort_order\": null}, {\"Id\": 22964, \"Age Cohort\": \"0 to 5\", \"Age\": 4, \"Gender\": \"Male\", \"Expenditures\": 1294, \"Ethnicity\": \"Hispanic\", \"cohort_order\": null}, {\"Id\": 22988, \"Age Cohort\": \"13 to 17\", \"Age\": 16, \"Gender\": \"Male\", \"Expenditures\": 4664, \"Ethnicity\": \"Multi Race\", \"cohort_order\": null}, {\"Id\": 23032, \"Age Cohort\": \"22 to 50\", \"Age\": 22, \"Gender\": \"Male\", \"Expenditures\": 43292, \"Ethnicity\": \"White not Hispanic\", \"cohort_order\": null}, {\"Id\": 23450, \"Age Cohort\": \"13 to 17\", \"Age\": 16, \"Gender\": \"Female\", \"Expenditures\": 1432, \"Ethnicity\": \"Asian\", \"cohort_order\": null}, {\"Id\": 23493, \"Age Cohort\": \"0 to 5\", \"Age\": 0, \"Gender\": \"Male\", \"Expenditures\": 1435, \"Ethnicity\": \"Hispanic\", \"cohort_order\": null}, {\"Id\": 23505, \"Age Cohort\": \"0 to 5\", \"Age\": 4, \"Gender\": \"Male\", \"Expenditures\": 1631, \"Ethnicity\": \"White not Hispanic\", \"cohort_order\": null}, {\"Id\": 23559, \"Age Cohort\": \"18 to 21\", \"Age\": 20, \"Gender\": \"Male\", \"Expenditures\": 8687, \"Ethnicity\": \"Black\", \"cohort_order\": null}, {\"Id\": 23617, \"Age Cohort\": \"18 to 21\", \"Age\": 19, \"Gender\": \"Female\", \"Expenditures\": 8096, \"Ethnicity\": \"Hispanic\", \"cohort_order\": null}, {\"Id\": 23651, \"Age Cohort\": \"0 to 5\", \"Age\": 3, \"Gender\": \"Male\", \"Expenditures\": 1123, \"Ethnicity\": \"Hispanic\", \"cohort_order\": null}, {\"Id\": 23861, \"Age Cohort\": \"51+\", \"Age\": 77, \"Gender\": \"Female\", \"Expenditures\": 55015, \"Ethnicity\": \"Asian\", \"cohort_order\": null}, {\"Id\": 23890, \"Age Cohort\": \"0 to 5\", \"Age\": 4, \"Gender\": \"Male\", \"Expenditures\": 1644, \"Ethnicity\": \"White not Hispanic\", \"cohort_order\": null}, {\"Id\": 23915, \"Age Cohort\": \"13 to 17\", \"Age\": 17, \"Gender\": \"Female\", \"Expenditures\": 3678, \"Ethnicity\": \"Hispanic\", \"cohort_order\": null}, {\"Id\": 24042, \"Age Cohort\": \"18 to 21\", \"Age\": 18, \"Gender\": \"Male\", \"Expenditures\": 8999, \"Ethnicity\": \"White not Hispanic\", \"cohort_order\": null}, {\"Id\": 24078, \"Age Cohort\": \"13 to 17\", \"Age\": 16, \"Gender\": \"Male\", \"Expenditures\": 1740, \"Ethnicity\": \"Hispanic\", \"cohort_order\": null}, {\"Id\": 24128, \"Age Cohort\": \"18 to 21\", \"Age\": 21, \"Gender\": \"Female\", \"Expenditures\": 15176, \"Ethnicity\": \"Hispanic\", \"cohort_order\": null}, {\"Id\": 24171, \"Age Cohort\": \"22 to 50\", \"Age\": 35, \"Gender\": \"Male\", \"Expenditures\": 27417, \"Ethnicity\": \"White not Hispanic\", \"cohort_order\": null}, {\"Id\": 24270, \"Age Cohort\": \"18 to 21\", \"Age\": 18, \"Gender\": \"Female\", \"Expenditures\": 9078, \"Ethnicity\": \"White not Hispanic\", \"cohort_order\": null}, {\"Id\": 24341, \"Age Cohort\": \"6 to 12\", \"Age\": 9, \"Gender\": \"Female\", \"Expenditures\": 1963, \"Ethnicity\": \"Hispanic\", \"cohort_order\": null}, {\"Id\": 24510, \"Age Cohort\": \"13 to 17\", \"Age\": 15, \"Gender\": \"Male\", \"Expenditures\": 4670, \"Ethnicity\": \"Hispanic\", \"cohort_order\": null}, {\"Id\": 24545, \"Age Cohort\": \"0 to 5\", \"Age\": 4, \"Gender\": \"Male\", \"Expenditures\": 2553, \"Ethnicity\": \"White not Hispanic\", \"cohort_order\": null}, {\"Id\": 24617, \"Age Cohort\": \"13 to 17\", \"Age\": 14, \"Gender\": \"Male\", \"Expenditures\": 3394, \"Ethnicity\": \"Hispanic\", \"cohort_order\": null}, {\"Id\": 24635, \"Age Cohort\": \"0 to 5\", \"Age\": 0, \"Gender\": \"Female\", \"Expenditures\": 995, \"Ethnicity\": \"Hispanic\", \"cohort_order\": null}, {\"Id\": 24731, \"Age Cohort\": \"0 to 5\", \"Age\": 0, \"Gender\": \"Female\", \"Expenditures\": 1068, \"Ethnicity\": \"White not Hispanic\", \"cohort_order\": null}, {\"Id\": 24786, \"Age Cohort\": \"13 to 17\", \"Age\": 15, \"Gender\": \"Male\", \"Expenditures\": 4818, \"Ethnicity\": \"White not Hispanic\", \"cohort_order\": null}, {\"Id\": 24838, \"Age Cohort\": \"0 to 5\", \"Age\": 2, \"Gender\": \"Male\", \"Expenditures\": 650, \"Ethnicity\": \"White not Hispanic\", \"cohort_order\": null}, {\"Id\": 24847, \"Age Cohort\": \"18 to 21\", \"Age\": 21, \"Gender\": \"Female\", \"Expenditures\": 15179, \"Ethnicity\": \"White not Hispanic\", \"cohort_order\": null}, {\"Id\": 24850, \"Age Cohort\": \"18 to 21\", \"Age\": 21, \"Gender\": \"Female\", \"Expenditures\": 16237, \"Ethnicity\": \"Hispanic\", \"cohort_order\": null}, {\"Id\": 24895, \"Age Cohort\": \"22 to 50\", \"Age\": 27, \"Gender\": \"Female\", \"Expenditures\": 47242, \"Ethnicity\": \"White not Hispanic\", \"cohort_order\": null}, {\"Id\": 24959, \"Age Cohort\": \"51+\", \"Age\": 82, \"Gender\": \"Female\", \"Expenditures\": 58922, \"Ethnicity\": \"White not Hispanic\", \"cohort_order\": null}, {\"Id\": 25000, \"Age Cohort\": \"18 to 21\", \"Age\": 21, \"Gender\": \"Male\", \"Expenditures\": 9592, \"Ethnicity\": \"Hispanic\", \"cohort_order\": null}, {\"Id\": 25184, \"Age Cohort\": \"18 to 21\", \"Age\": 21, \"Gender\": \"Male\", \"Expenditures\": 10008, \"Ethnicity\": \"White not Hispanic\", \"cohort_order\": null}, {\"Id\": 25281, \"Age Cohort\": \"22 to 50\", \"Age\": 28, \"Gender\": \"Female\", \"Expenditures\": 42346, \"Ethnicity\": \"White not Hispanic\", \"cohort_order\": null}, {\"Id\": 25300, \"Age Cohort\": \"6 to 12\", \"Age\": 6, \"Gender\": \"Female\", \"Expenditures\": 2119, \"Ethnicity\": \"Hispanic\", \"cohort_order\": null}, {\"Id\": 25321, \"Age Cohort\": \"22 to 50\", \"Age\": 40, \"Gender\": \"Male\", \"Expenditures\": 42840, \"Ethnicity\": \"White not Hispanic\", \"cohort_order\": null}, {\"Id\": 25370, \"Age Cohort\": \"18 to 21\", \"Age\": 19, \"Gender\": \"Female\", \"Expenditures\": 10292, \"Ethnicity\": \"Hispanic\", \"cohort_order\": null}, {\"Id\": 25457, \"Age Cohort\": \"13 to 17\", \"Age\": 16, \"Gender\": \"Female\", \"Expenditures\": 3501, \"Ethnicity\": \"Hispanic\", \"cohort_order\": null}, {\"Id\": 25575, \"Age Cohort\": \"22 to 50\", \"Age\": 23, \"Gender\": \"Male\", \"Expenditures\": 40992, \"Ethnicity\": \"White not Hispanic\", \"cohort_order\": null}, {\"Id\": 25613, \"Age Cohort\": \"0 to 5\", \"Age\": 0, \"Gender\": \"Male\", \"Expenditures\": 741, \"Ethnicity\": \"Hispanic\", \"cohort_order\": null}, {\"Id\": 25649, \"Age Cohort\": \"22 to 50\", \"Age\": 42, \"Gender\": \"Male\", \"Expenditures\": 37916, \"Ethnicity\": \"White not Hispanic\", \"cohort_order\": null}, {\"Id\": 25743, \"Age Cohort\": \"6 to 12\", \"Age\": 11, \"Gender\": \"Female\", \"Expenditures\": 1339, \"Ethnicity\": \"White not Hispanic\", \"cohort_order\": null}, {\"Id\": 25747, \"Age Cohort\": \"51+\", \"Age\": 74, \"Gender\": \"Female\", \"Expenditures\": 54266, \"Ethnicity\": \"White not Hispanic\", \"cohort_order\": null}, {\"Id\": 25765, \"Age Cohort\": \"0 to 5\", \"Age\": 4, \"Gender\": \"Male\", \"Expenditures\": 1016, \"Ethnicity\": \"Hispanic\", \"cohort_order\": null}, {\"Id\": 26071, \"Age Cohort\": \"6 to 12\", \"Age\": 6, \"Gender\": \"Female\", \"Expenditures\": 1582, \"Ethnicity\": \"Hispanic\", \"cohort_order\": null}, {\"Id\": 26099, \"Age Cohort\": \"18 to 21\", \"Age\": 20, \"Gender\": \"Male\", \"Expenditures\": 13345, \"Ethnicity\": \"Asian\", \"cohort_order\": null}, {\"Id\": 26169, \"Age Cohort\": \"22 to 50\", \"Age\": 33, \"Gender\": \"Female\", \"Expenditures\": 47204, \"Ethnicity\": \"White not Hispanic\", \"cohort_order\": null}, {\"Id\": 26423, \"Age Cohort\": \"13 to 17\", \"Age\": 17, \"Gender\": \"Male\", \"Expenditures\": 4723, \"Ethnicity\": \"Hispanic\", \"cohort_order\": null}, {\"Id\": 26427, \"Age Cohort\": \"13 to 17\", \"Age\": 13, \"Gender\": \"Male\", \"Expenditures\": 2460, \"Ethnicity\": \"Hispanic\", \"cohort_order\": null}, {\"Id\": 26437, \"Age Cohort\": \"0 to 5\", \"Age\": 0, \"Gender\": \"Male\", \"Expenditures\": 2296, \"Ethnicity\": \"Multi Race\", \"cohort_order\": null}, {\"Id\": 26457, \"Age Cohort\": \"13 to 17\", \"Age\": 16, \"Gender\": \"Female\", \"Expenditures\": 5718, \"Ethnicity\": \"Hispanic\", \"cohort_order\": null}, {\"Id\": 26648, \"Age Cohort\": \"18 to 21\", \"Age\": 21, \"Gender\": \"Female\", \"Expenditures\": 7571, \"Ethnicity\": \"Asian\", \"cohort_order\": null}, {\"Id\": 27029, \"Age Cohort\": \"18 to 21\", \"Age\": 18, \"Gender\": \"Male\", \"Expenditures\": 7207, \"Ethnicity\": \"Asian\", \"cohort_order\": null}, {\"Id\": 27031, \"Age Cohort\": \"0 to 5\", \"Age\": 4, \"Gender\": \"Male\", \"Expenditures\": 1028, \"Ethnicity\": \"Hispanic\", \"cohort_order\": null}, {\"Id\": 27150, \"Age Cohort\": \"6 to 12\", \"Age\": 12, \"Gender\": \"Female\", \"Expenditures\": 3141, \"Ethnicity\": \"Hispanic\", \"cohort_order\": null}, {\"Id\": 27311, \"Age Cohort\": \"13 to 17\", \"Age\": 17, \"Gender\": \"Male\", \"Expenditures\": 4556, \"Ethnicity\": \"White not Hispanic\", \"cohort_order\": null}, {\"Id\": 27356, \"Age Cohort\": \"22 to 50\", \"Age\": 25, \"Gender\": \"Female\", \"Expenditures\": 49142, \"Ethnicity\": \"White not Hispanic\", \"cohort_order\": null}, {\"Id\": 27484, \"Age Cohort\": \"6 to 12\", \"Age\": 11, \"Gender\": \"Male\", \"Expenditures\": 3585, \"Ethnicity\": \"Hispanic\", \"cohort_order\": null}, {\"Id\": 27547, \"Age Cohort\": \"6 to 12\", \"Age\": 7, \"Gender\": \"Female\", \"Expenditures\": 2039, \"Ethnicity\": \"Hispanic\", \"cohort_order\": null}, {\"Id\": 27561, \"Age Cohort\": \"6 to 12\", \"Age\": 12, \"Gender\": \"Female\", \"Expenditures\": 2431, \"Ethnicity\": \"White not Hispanic\", \"cohort_order\": null}, {\"Id\": 27824, \"Age Cohort\": \"6 to 12\", \"Age\": 11, \"Gender\": \"Male\", \"Expenditures\": 1024, \"Ethnicity\": \"White not Hispanic\", \"cohort_order\": null}, {\"Id\": 27921, \"Age Cohort\": \"22 to 50\", \"Age\": 22, \"Gender\": \"Female\", \"Expenditures\": 43858, \"Ethnicity\": \"Hispanic\", \"cohort_order\": null}, {\"Id\": 28013, \"Age Cohort\": \"0 to 5\", \"Age\": 1, \"Gender\": \"Male\", \"Expenditures\": 762, \"Ethnicity\": \"Hispanic\", \"cohort_order\": null}, {\"Id\": 28053, \"Age Cohort\": \"51+\", \"Age\": 62, \"Gender\": \"Female\", \"Expenditures\": 49749, \"Ethnicity\": \"White not Hispanic\", \"cohort_order\": null}, {\"Id\": 28066, \"Age Cohort\": \"18 to 21\", \"Age\": 20, \"Gender\": \"Male\", \"Expenditures\": 7081, \"Ethnicity\": \"Hispanic\", \"cohort_order\": null}, {\"Id\": 28083, \"Age Cohort\": \"0 to 5\", \"Age\": 5, \"Gender\": \"Female\", \"Expenditures\": 2291, \"Ethnicity\": \"Hispanic\", \"cohort_order\": null}, {\"Id\": 28085, \"Age Cohort\": \"6 to 12\", \"Age\": 9, \"Gender\": \"Female\", \"Expenditures\": 3374, \"Ethnicity\": \"White not Hispanic\", \"cohort_order\": null}, {\"Id\": 28189, \"Age Cohort\": \"0 to 5\", \"Age\": 4, \"Gender\": \"Male\", \"Expenditures\": 2359, \"Ethnicity\": \"Hispanic\", \"cohort_order\": null}, {\"Id\": 28384, \"Age Cohort\": \"22 to 50\", \"Age\": 33, \"Gender\": \"Female\", \"Expenditures\": 40809, \"Ethnicity\": \"Hispanic\", \"cohort_order\": null}, {\"Id\": 28469, \"Age Cohort\": \"0 to 5\", \"Age\": 4, \"Gender\": \"Male\", \"Expenditures\": 2211, \"Ethnicity\": \"Hispanic\", \"cohort_order\": null}, {\"Id\": 28502, \"Age Cohort\": \"18 to 21\", \"Age\": 19, \"Gender\": \"Male\", \"Expenditures\": 11527, \"Ethnicity\": \"Hispanic\", \"cohort_order\": null}, {\"Id\": 28514, \"Age Cohort\": \"13 to 17\", \"Age\": 15, \"Gender\": \"Female\", \"Expenditures\": 3959, \"Ethnicity\": \"Hispanic\", \"cohort_order\": null}, {\"Id\": 28728, \"Age Cohort\": \"18 to 21\", \"Age\": 20, \"Gender\": \"Male\", \"Expenditures\": 12854, \"Ethnicity\": \"White not Hispanic\", \"cohort_order\": null}, {\"Id\": 28948, \"Age Cohort\": \"0 to 5\", \"Age\": 1, \"Gender\": \"Male\", \"Expenditures\": 966, \"Ethnicity\": \"Hispanic\", \"cohort_order\": null}, {\"Id\": 29038, \"Age Cohort\": \"18 to 21\", \"Age\": 21, \"Gender\": \"Male\", \"Expenditures\": 7339, \"Ethnicity\": \"Hispanic\", \"cohort_order\": null}, {\"Id\": 29193, \"Age Cohort\": \"22 to 50\", \"Age\": 24, \"Gender\": \"Male\", \"Expenditures\": 46703, \"Ethnicity\": \"White not Hispanic\", \"cohort_order\": null}, {\"Id\": 29411, \"Age Cohort\": \"6 to 12\", \"Age\": 8, \"Gender\": \"Female\", \"Expenditures\": 3378, \"Ethnicity\": \"Hispanic\", \"cohort_order\": null}, {\"Id\": 29440, \"Age Cohort\": \"6 to 12\", \"Age\": 8, \"Gender\": \"Male\", \"Expenditures\": 2807, \"Ethnicity\": \"White not Hispanic\", \"cohort_order\": null}, {\"Id\": 29447, \"Age Cohort\": \"22 to 50\", \"Age\": 30, \"Gender\": \"Male\", \"Expenditures\": 46246, \"Ethnicity\": \"White not Hispanic\", \"cohort_order\": null}, {\"Id\": 29458, \"Age Cohort\": \"13 to 17\", \"Age\": 17, \"Gender\": \"Male\", \"Expenditures\": 4513, \"Ethnicity\": \"Hispanic\", \"cohort_order\": null}, {\"Id\": 29506, \"Age Cohort\": \"51+\", \"Age\": 56, \"Gender\": \"Female\", \"Expenditures\": 48215, \"Ethnicity\": \"White not Hispanic\", \"cohort_order\": null}, {\"Id\": 29574, \"Age Cohort\": \"13 to 17\", \"Age\": 16, \"Gender\": \"Male\", \"Expenditures\": 2357, \"Ethnicity\": \"White not Hispanic\", \"cohort_order\": null}, {\"Id\": 29795, \"Age Cohort\": \"18 to 21\", \"Age\": 20, \"Gender\": \"Male\", \"Expenditures\": 9597, \"Ethnicity\": \"White not Hispanic\", \"cohort_order\": null}, {\"Id\": 29804, \"Age Cohort\": \"13 to 17\", \"Age\": 14, \"Gender\": \"Male\", \"Expenditures\": 386, \"Ethnicity\": \"Asian\", \"cohort_order\": null}, {\"Id\": 29840, \"Age Cohort\": \"6 to 12\", \"Age\": 7, \"Gender\": \"Female\", \"Expenditures\": 1473, \"Ethnicity\": \"Hispanic\", \"cohort_order\": null}, {\"Id\": 29885, \"Age Cohort\": \"13 to 17\", \"Age\": 16, \"Gender\": \"Male\", \"Expenditures\": 4112, \"Ethnicity\": \"Hispanic\", \"cohort_order\": null}, {\"Id\": 29902, \"Age Cohort\": \"18 to 21\", \"Age\": 19, \"Gender\": \"Female\", \"Expenditures\": 8530, \"Ethnicity\": \"Asian\", \"cohort_order\": null}, {\"Id\": 29914, \"Age Cohort\": \"0 to 5\", \"Age\": 5, \"Gender\": \"Male\", \"Expenditures\": 1315, \"Ethnicity\": \"Asian\", \"cohort_order\": null}, {\"Id\": 30012, \"Age Cohort\": \"13 to 17\", \"Age\": 14, \"Gender\": \"Male\", \"Expenditures\": 4653, \"Ethnicity\": \"Hispanic\", \"cohort_order\": null}, {\"Id\": 30234, \"Age Cohort\": \"51+\", \"Age\": 78, \"Gender\": \"Female\", \"Expenditures\": 55430, \"Ethnicity\": \"American Indian\", \"cohort_order\": null}, {\"Id\": 30385, \"Age Cohort\": \"6 to 12\", \"Age\": 9, \"Gender\": \"Male\", \"Expenditures\": 722, \"Ethnicity\": \"White not Hispanic\", \"cohort_order\": null}, {\"Id\": 30438, \"Age Cohort\": \"18 to 21\", \"Age\": 19, \"Gender\": \"Female\", \"Expenditures\": 7667, \"Ethnicity\": \"Hispanic\", \"cohort_order\": null}, {\"Id\": 30481, \"Age Cohort\": \"18 to 21\", \"Age\": 20, \"Gender\": \"Male\", \"Expenditures\": 12587, \"Ethnicity\": \"Hispanic\", \"cohort_order\": null}, {\"Id\": 30517, \"Age Cohort\": \"6 to 12\", \"Age\": 7, \"Gender\": \"Male\", \"Expenditures\": 1725, \"Ethnicity\": \"Asian\", \"cohort_order\": null}, {\"Id\": 30617, \"Age Cohort\": \"0 to 5\", \"Age\": 4, \"Gender\": \"Female\", \"Expenditures\": 791, \"Ethnicity\": \"White not Hispanic\", \"cohort_order\": null}, {\"Id\": 30673, \"Age Cohort\": \"6 to 12\", \"Age\": 10, \"Gender\": \"Female\", \"Expenditures\": 2189, \"Ethnicity\": \"White not Hispanic\", \"cohort_order\": null}, {\"Id\": 30689, \"Age Cohort\": \"0 to 5\", \"Age\": 3, \"Gender\": \"Male\", \"Expenditures\": 668, \"Ethnicity\": \"Hispanic\", \"cohort_order\": null}, {\"Id\": 30780, \"Age Cohort\": \"18 to 21\", \"Age\": 20, \"Gender\": \"Female\", \"Expenditures\": 6218, \"Ethnicity\": \"Hispanic\", \"cohort_order\": null}, {\"Id\": 30909, \"Age Cohort\": \"13 to 17\", \"Age\": 17, \"Gender\": \"Male\", \"Expenditures\": 2015, \"Ethnicity\": \"Hispanic\", \"cohort_order\": null}, {\"Id\": 31063, \"Age Cohort\": \"18 to 21\", \"Age\": 21, \"Gender\": \"Male\", \"Expenditures\": 8948, \"Ethnicity\": \"Hispanic\", \"cohort_order\": null}, {\"Id\": 31163, \"Age Cohort\": \"51+\", \"Age\": 71, \"Gender\": \"Female\", \"Expenditures\": 52472, \"Ethnicity\": \"White not Hispanic\", \"cohort_order\": null}, {\"Id\": 31168, \"Age Cohort\": \"6 to 12\", \"Age\": 11, \"Gender\": \"Female\", \"Expenditures\": 2918, \"Ethnicity\": \"Multi Race\", \"cohort_order\": null}, {\"Id\": 31277, \"Age Cohort\": \"0 to 5\", \"Age\": 2, \"Gender\": \"Male\", \"Expenditures\": 561, \"Ethnicity\": \"Hispanic\", \"cohort_order\": null}, {\"Id\": 31307, \"Age Cohort\": \"51+\", \"Age\": 88, \"Gender\": \"Female\", \"Expenditures\": 54655, \"Ethnicity\": \"White not Hispanic\", \"cohort_order\": null}, {\"Id\": 31437, \"Age Cohort\": \"51+\", \"Age\": 70, \"Gender\": \"Female\", \"Expenditures\": 59622, \"Ethnicity\": \"Hispanic\", \"cohort_order\": null}, {\"Id\": 31632, \"Age Cohort\": \"22 to 50\", \"Age\": 23, \"Gender\": \"Male\", \"Expenditures\": 32344, \"Ethnicity\": \"Asian\", \"cohort_order\": null}, {\"Id\": 31642, \"Age Cohort\": \"6 to 12\", \"Age\": 11, \"Gender\": \"Female\", \"Expenditures\": 3335, \"Ethnicity\": \"White not Hispanic\", \"cohort_order\": null}, {\"Id\": 31658, \"Age Cohort\": \"51+\", \"Age\": 60, \"Gender\": \"Female\", \"Expenditures\": 46873, \"Ethnicity\": \"Black\", \"cohort_order\": null}, {\"Id\": 31859, \"Age Cohort\": \"6 to 12\", \"Age\": 10, \"Gender\": \"Male\", \"Expenditures\": 2380, \"Ethnicity\": \"White not Hispanic\", \"cohort_order\": null}, {\"Id\": 31910, \"Age Cohort\": \"13 to 17\", \"Age\": 17, \"Gender\": \"Female\", \"Expenditures\": 4921, \"Ethnicity\": \"Hispanic\", \"cohort_order\": null}, {\"Id\": 31919, \"Age Cohort\": \"6 to 12\", \"Age\": 10, \"Gender\": \"Male\", \"Expenditures\": 1455, \"Ethnicity\": \"White not Hispanic\", \"cohort_order\": null}, {\"Id\": 31960, \"Age Cohort\": \"22 to 50\", \"Age\": 25, \"Gender\": \"Male\", \"Expenditures\": 38730, \"Ethnicity\": \"White not Hispanic\", \"cohort_order\": null}, {\"Id\": 31973, \"Age Cohort\": \"22 to 50\", \"Age\": 38, \"Gender\": \"Female\", \"Expenditures\": 35088, \"Ethnicity\": \"Hispanic\", \"cohort_order\": null}, {\"Id\": 32161, \"Age Cohort\": \"6 to 12\", \"Age\": 11, \"Gender\": \"Female\", \"Expenditures\": 2059, \"Ethnicity\": \"Asian\", \"cohort_order\": null}, {\"Id\": 32186, \"Age Cohort\": \"13 to 17\", \"Age\": 16, \"Gender\": \"Female\", \"Expenditures\": 4054, \"Ethnicity\": \"Asian\", \"cohort_order\": null}, {\"Id\": 32326, \"Age Cohort\": \"6 to 12\", \"Age\": 7, \"Gender\": \"Male\", \"Expenditures\": 1212, \"Ethnicity\": \"Black\", \"cohort_order\": null}, {\"Id\": 32395, \"Age Cohort\": \"18 to 21\", \"Age\": 19, \"Gender\": \"Male\", \"Expenditures\": 12178, \"Ethnicity\": \"White not Hispanic\", \"cohort_order\": null}, {\"Id\": 32398, \"Age Cohort\": \"6 to 12\", \"Age\": 11, \"Gender\": \"Male\", \"Expenditures\": 1084, \"Ethnicity\": \"Hispanic\", \"cohort_order\": null}, {\"Id\": 32519, \"Age Cohort\": \"13 to 17\", \"Age\": 15, \"Gender\": \"Female\", \"Expenditures\": 3529, \"Ethnicity\": \"Asian\", \"cohort_order\": null}, {\"Id\": 32604, \"Age Cohort\": \"18 to 21\", \"Age\": 20, \"Gender\": \"Female\", \"Expenditures\": 11775, \"Ethnicity\": \"White not Hispanic\", \"cohort_order\": null}, {\"Id\": 32664, \"Age Cohort\": \"22 to 50\", \"Age\": 24, \"Gender\": \"Female\", \"Expenditures\": 36279, \"Ethnicity\": \"White not Hispanic\", \"cohort_order\": null}, {\"Id\": 32745, \"Age Cohort\": \"22 to 50\", \"Age\": 27, \"Gender\": \"Female\", \"Expenditures\": 47021, \"Ethnicity\": \"White not Hispanic\", \"cohort_order\": null}, {\"Id\": 32781, \"Age Cohort\": \"6 to 12\", \"Age\": 8, \"Gender\": \"Male\", \"Expenditures\": 641, \"Ethnicity\": \"Asian\", \"cohort_order\": null}, {\"Id\": 32893, \"Age Cohort\": \"18 to 21\", \"Age\": 20, \"Gender\": \"Male\", \"Expenditures\": 6362, \"Ethnicity\": \"White not Hispanic\", \"cohort_order\": null}, {\"Id\": 33032, \"Age Cohort\": \"6 to 12\", \"Age\": 11, \"Gender\": \"Female\", \"Expenditures\": 3695, \"Ethnicity\": \"Hispanic\", \"cohort_order\": null}, {\"Id\": 33305, \"Age Cohort\": \"0 to 5\", \"Age\": 4, \"Gender\": \"Male\", \"Expenditures\": 1437, \"Ethnicity\": \"Asian\", \"cohort_order\": null}, {\"Id\": 33339, \"Age Cohort\": \"6 to 12\", \"Age\": 11, \"Gender\": \"Male\", \"Expenditures\": 1582, \"Ethnicity\": \"White not Hispanic\", \"cohort_order\": null}, {\"Id\": 33360, \"Age Cohort\": \"22 to 50\", \"Age\": 25, \"Gender\": \"Female\", \"Expenditures\": 41984, \"Ethnicity\": \"Asian\", \"cohort_order\": null}, {\"Id\": 33375, \"Age Cohort\": \"0 to 5\", \"Age\": 2, \"Gender\": \"Male\", \"Expenditures\": 1347, \"Ethnicity\": \"White not Hispanic\", \"cohort_order\": null}, {\"Id\": 33464, \"Age Cohort\": \"18 to 21\", \"Age\": 18, \"Gender\": \"Female\", \"Expenditures\": 13593, \"Ethnicity\": \"White not Hispanic\", \"cohort_order\": null}, {\"Id\": 33509, \"Age Cohort\": \"0 to 5\", \"Age\": 1, \"Gender\": \"Female\", \"Expenditures\": 1767, \"Ethnicity\": \"Hispanic\", \"cohort_order\": null}, {\"Id\": 33551, \"Age Cohort\": \"6 to 12\", \"Age\": 12, \"Gender\": \"Female\", \"Expenditures\": 2880, \"Ethnicity\": \"White not Hispanic\", \"cohort_order\": null}, {\"Id\": 33643, \"Age Cohort\": \"13 to 17\", \"Age\": 13, \"Gender\": \"Male\", \"Expenditures\": 4483, \"Ethnicity\": \"Asian\", \"cohort_order\": null}, {\"Id\": 33886, \"Age Cohort\": \"13 to 17\", \"Age\": 13, \"Gender\": \"Male\", \"Expenditures\": 4003, \"Ethnicity\": \"White not Hispanic\", \"cohort_order\": null}, {\"Id\": 34146, \"Age Cohort\": \"51+\", \"Age\": 69, \"Gender\": \"Male\", \"Expenditures\": 67884, \"Ethnicity\": \"White not Hispanic\", \"cohort_order\": null}, {\"Id\": 34278, \"Age Cohort\": \"22 to 50\", \"Age\": 23, \"Gender\": \"Female\", \"Expenditures\": 46590, \"Ethnicity\": \"White not Hispanic\", \"cohort_order\": null}, {\"Id\": 34522, \"Age Cohort\": \"22 to 50\", \"Age\": 31, \"Gender\": \"Male\", \"Expenditures\": 39007, \"Ethnicity\": \"White not Hispanic\", \"cohort_order\": null}, {\"Id\": 34681, \"Age Cohort\": \"18 to 21\", \"Age\": 21, \"Gender\": \"Male\", \"Expenditures\": 10046, \"Ethnicity\": \"White not Hispanic\", \"cohort_order\": null}, {\"Id\": 34751, \"Age Cohort\": \"6 to 12\", \"Age\": 9, \"Gender\": \"Male\", \"Expenditures\": 2695, \"Ethnicity\": \"Asian\", \"cohort_order\": null}, {\"Id\": 34763, \"Age Cohort\": \"51+\", \"Age\": 85, \"Gender\": \"Male\", \"Expenditures\": 64898, \"Ethnicity\": \"White not Hispanic\", \"cohort_order\": null}, {\"Id\": 34821, \"Age Cohort\": \"22 to 50\", \"Age\": 26, \"Gender\": \"Female\", \"Expenditures\": 36738, \"Ethnicity\": \"Hispanic\", \"cohort_order\": null}, {\"Id\": 34983, \"Age Cohort\": \"22 to 50\", \"Age\": 27, \"Gender\": \"Male\", \"Expenditures\": 34394, \"Ethnicity\": \"White not Hispanic\", \"cohort_order\": null}, {\"Id\": 34997, \"Age Cohort\": \"51+\", \"Age\": 68, \"Gender\": \"Male\", \"Expenditures\": 49502, \"Ethnicity\": \"Hispanic\", \"cohort_order\": null}, {\"Id\": 35066, \"Age Cohort\": \"13 to 17\", \"Age\": 13, \"Gender\": \"Male\", \"Expenditures\": 4554, \"Ethnicity\": \"Black\", \"cohort_order\": null}, {\"Id\": 35093, \"Age Cohort\": \"6 to 12\", \"Age\": 9, \"Gender\": \"Male\", \"Expenditures\": 1824, \"Ethnicity\": \"Asian\", \"cohort_order\": null}, {\"Id\": 35298, \"Age Cohort\": \"22 to 50\", \"Age\": 30, \"Gender\": \"Female\", \"Expenditures\": 43134, \"Ethnicity\": \"White not Hispanic\", \"cohort_order\": null}, {\"Id\": 35360, \"Age Cohort\": \"6 to 12\", \"Age\": 10, \"Gender\": \"Female\", \"Expenditures\": 1622, \"Ethnicity\": \"Multi Race\", \"cohort_order\": null}, {\"Id\": 35503, \"Age Cohort\": \"13 to 17\", \"Age\": 13, \"Gender\": \"Male\", \"Expenditures\": 3522, \"Ethnicity\": \"Hispanic\", \"cohort_order\": null}, {\"Id\": 35590, \"Age Cohort\": \"6 to 12\", \"Age\": 8, \"Gender\": \"Male\", \"Expenditures\": 2776, \"Ethnicity\": \"Hispanic\", \"cohort_order\": null}, {\"Id\": 35630, \"Age Cohort\": \"18 to 21\", \"Age\": 18, \"Gender\": \"Female\", \"Expenditures\": 14578, \"Ethnicity\": \"White not Hispanic\", \"cohort_order\": null}, {\"Id\": 35656, \"Age Cohort\": \"18 to 21\", \"Age\": 21, \"Gender\": \"Male\", \"Expenditures\": 10150, \"Ethnicity\": \"Hispanic\", \"cohort_order\": null}, {\"Id\": 35666, \"Age Cohort\": \"18 to 21\", \"Age\": 20, \"Gender\": \"Female\", \"Expenditures\": 9207, \"Ethnicity\": \"White not Hispanic\", \"cohort_order\": null}, {\"Id\": 35684, \"Age Cohort\": \"18 to 21\", \"Age\": 20, \"Gender\": \"Female\", \"Expenditures\": 7605, \"Ethnicity\": \"Hispanic\", \"cohort_order\": null}, {\"Id\": 35799, \"Age Cohort\": \"6 to 12\", \"Age\": 8, \"Gender\": \"Male\", \"Expenditures\": 2954, \"Ethnicity\": \"Hispanic\", \"cohort_order\": null}, {\"Id\": 35970, \"Age Cohort\": \"13 to 17\", \"Age\": 13, \"Gender\": \"Male\", \"Expenditures\": 2797, \"Ethnicity\": \"Black\", \"cohort_order\": null}, {\"Id\": 36123, \"Age Cohort\": \"51+\", \"Age\": 59, \"Gender\": \"Male\", \"Expenditures\": 42739, \"Ethnicity\": \"Asian\", \"cohort_order\": null}, {\"Id\": 36179, \"Age Cohort\": \"13 to 17\", \"Age\": 15, \"Gender\": \"Female\", \"Expenditures\": 2900, \"Ethnicity\": \"Asian\", \"cohort_order\": null}, {\"Id\": 36391, \"Age Cohort\": \"0 to 5\", \"Age\": 1, \"Gender\": \"Female\", \"Expenditures\": 384, \"Ethnicity\": \"White not Hispanic\", \"cohort_order\": null}, {\"Id\": 36459, \"Age Cohort\": \"18 to 21\", \"Age\": 21, \"Gender\": \"Female\", \"Expenditures\": 9504, \"Ethnicity\": \"Asian\", \"cohort_order\": null}, {\"Id\": 36576, \"Age Cohort\": \"22 to 50\", \"Age\": 27, \"Gender\": \"Female\", \"Expenditures\": 38031, \"Ethnicity\": \"Hispanic\", \"cohort_order\": null}, {\"Id\": 36578, \"Age Cohort\": \"18 to 21\", \"Age\": 19, \"Gender\": \"Male\", \"Expenditures\": 7083, \"Ethnicity\": \"White not Hispanic\", \"cohort_order\": null}, {\"Id\": 36720, \"Age Cohort\": \"6 to 12\", \"Age\": 9, \"Gender\": \"Male\", \"Expenditures\": 2877, \"Ethnicity\": \"White not Hispanic\", \"cohort_order\": null}, {\"Id\": 36802, \"Age Cohort\": \"6 to 12\", \"Age\": 6, \"Gender\": \"Male\", \"Expenditures\": 1173, \"Ethnicity\": \"Hispanic\", \"cohort_order\": null}, {\"Id\": 37075, \"Age Cohort\": \"18 to 21\", \"Age\": 21, \"Gender\": \"Female\", \"Expenditures\": 12083, \"Ethnicity\": \"Hispanic\", \"cohort_order\": null}, {\"Id\": 37287, \"Age Cohort\": \"18 to 21\", \"Age\": 19, \"Gender\": \"Male\", \"Expenditures\": 3157, \"Ethnicity\": \"White not Hispanic\", \"cohort_order\": null}, {\"Id\": 37297, \"Age Cohort\": \"13 to 17\", \"Age\": 15, \"Gender\": \"Male\", \"Expenditures\": 4533, \"Ethnicity\": \"Hispanic\", \"cohort_order\": null}, {\"Id\": 37335, \"Age Cohort\": \"13 to 17\", \"Age\": 17, \"Gender\": \"Female\", \"Expenditures\": 3694, \"Ethnicity\": \"White not Hispanic\", \"cohort_order\": null}, {\"Id\": 37415, \"Age Cohort\": \"18 to 21\", \"Age\": 18, \"Gender\": \"Female\", \"Expenditures\": 8299, \"Ethnicity\": \"White not Hispanic\", \"cohort_order\": null}, {\"Id\": 37454, \"Age Cohort\": \"51+\", \"Age\": 76, \"Gender\": \"Male\", \"Expenditures\": 62097, \"Ethnicity\": \"Hispanic\", \"cohort_order\": null}, {\"Id\": 37524, \"Age Cohort\": \"18 to 21\", \"Age\": 18, \"Gender\": \"Male\", \"Expenditures\": 11935, \"Ethnicity\": \"Hispanic\", \"cohort_order\": null}, {\"Id\": 37694, \"Age Cohort\": \"18 to 21\", \"Age\": 20, \"Gender\": \"Male\", \"Expenditures\": 11034, \"Ethnicity\": \"Hispanic\", \"cohort_order\": null}, {\"Id\": 37731, \"Age Cohort\": \"18 to 21\", \"Age\": 19, \"Gender\": \"Male\", \"Expenditures\": 12481, \"Ethnicity\": \"White not Hispanic\", \"cohort_order\": null}, {\"Id\": 37846, \"Age Cohort\": \"18 to 21\", \"Age\": 18, \"Gender\": \"Female\", \"Expenditures\": 9200, \"Ethnicity\": \"Asian\", \"cohort_order\": null}, {\"Id\": 38017, \"Age Cohort\": \"18 to 21\", \"Age\": 20, \"Gender\": \"Female\", \"Expenditures\": 10294, \"Ethnicity\": \"Hispanic\", \"cohort_order\": null}, {\"Id\": 38104, \"Age Cohort\": \"18 to 21\", \"Age\": 21, \"Gender\": \"Male\", \"Expenditures\": 11668, \"Ethnicity\": \"Asian\", \"cohort_order\": null}, {\"Id\": 38121, \"Age Cohort\": \"22 to 50\", \"Age\": 37, \"Gender\": \"Female\", \"Expenditures\": 37948, \"Ethnicity\": \"White not Hispanic\", \"cohort_order\": null}, {\"Id\": 38584, \"Age Cohort\": \"13 to 17\", \"Age\": 14, \"Gender\": \"Female\", \"Expenditures\": 5530, \"Ethnicity\": \"White not Hispanic\", \"cohort_order\": null}, {\"Id\": 38732, \"Age Cohort\": \"13 to 17\", \"Age\": 16, \"Gender\": \"Male\", \"Expenditures\": 3909, \"Ethnicity\": \"Black\", \"cohort_order\": null}, {\"Id\": 38889, \"Age Cohort\": \"13 to 17\", \"Age\": 16, \"Gender\": \"Male\", \"Expenditures\": 5041, \"Ethnicity\": \"Asian\", \"cohort_order\": null}, {\"Id\": 38975, \"Age Cohort\": \"22 to 50\", \"Age\": 24, \"Gender\": \"Female\", \"Expenditures\": 39345, \"Ethnicity\": \"White not Hispanic\", \"cohort_order\": null}, {\"Id\": 39060, \"Age Cohort\": \"18 to 21\", \"Age\": 18, \"Gender\": \"Female\", \"Expenditures\": 16310, \"Ethnicity\": \"Hispanic\", \"cohort_order\": null}, {\"Id\": 39095, \"Age Cohort\": \"18 to 21\", \"Age\": 20, \"Gender\": \"Female\", \"Expenditures\": 6272, \"Ethnicity\": \"White not Hispanic\", \"cohort_order\": null}, {\"Id\": 39131, \"Age Cohort\": \"0 to 5\", \"Age\": 0, \"Gender\": \"Female\", \"Expenditures\": 685, \"Ethnicity\": \"White not Hispanic\", \"cohort_order\": null}, {\"Id\": 39134, \"Age Cohort\": \"6 to 12\", \"Age\": 9, \"Gender\": \"Male\", \"Expenditures\": 2490, \"Ethnicity\": \"Hispanic\", \"cohort_order\": null}, {\"Id\": 39287, \"Age Cohort\": \"51+\", \"Age\": 59, \"Gender\": \"Female\", \"Expenditures\": 44734, \"Ethnicity\": \"White not Hispanic\", \"cohort_order\": null}, {\"Id\": 39672, \"Age Cohort\": \"51+\", \"Age\": 54, \"Gender\": \"Female\", \"Expenditures\": 52833, \"Ethnicity\": \"White not Hispanic\", \"cohort_order\": null}, {\"Id\": 39767, \"Age Cohort\": \"6 to 12\", \"Age\": 10, \"Gender\": \"Female\", \"Expenditures\": 2341, \"Ethnicity\": \"Black\", \"cohort_order\": null}, {\"Id\": 39795, \"Age Cohort\": \"0 to 5\", \"Age\": 5, \"Gender\": \"Female\", \"Expenditures\": 1088, \"Ethnicity\": \"White not Hispanic\", \"cohort_order\": null}, {\"Id\": 39942, \"Age Cohort\": \"13 to 17\", \"Age\": 14, \"Gender\": \"Male\", \"Expenditures\": 3399, \"Ethnicity\": \"Multi Race\", \"cohort_order\": null}, {\"Id\": 39999, \"Age Cohort\": \"18 to 21\", \"Age\": 21, \"Gender\": \"Female\", \"Expenditures\": 11811, \"Ethnicity\": \"Hispanic\", \"cohort_order\": null}, {\"Id\": 40105, \"Age Cohort\": \"13 to 17\", \"Age\": 17, \"Gender\": \"Male\", \"Expenditures\": 3945, \"Ethnicity\": \"Hispanic\", \"cohort_order\": null}, {\"Id\": 40159, \"Age Cohort\": \"51+\", \"Age\": 73, \"Gender\": \"Female\", \"Expenditures\": 60198, \"Ethnicity\": \"Asian\", \"cohort_order\": null}, {\"Id\": 40277, \"Age Cohort\": \"6 to 12\", \"Age\": 9, \"Gender\": \"Female\", \"Expenditures\": 2781, \"Ethnicity\": \"Hispanic\", \"cohort_order\": null}, {\"Id\": 40313, \"Age Cohort\": \"0 to 5\", \"Age\": 4, \"Gender\": \"Female\", \"Expenditures\": 374, \"Ethnicity\": \"Asian\", \"cohort_order\": null}, {\"Id\": 40409, \"Age Cohort\": \"22 to 50\", \"Age\": 30, \"Gender\": \"Male\", \"Expenditures\": 36469, \"Ethnicity\": \"White not Hispanic\", \"cohort_order\": null}, {\"Id\": 40412, \"Age Cohort\": \"6 to 12\", \"Age\": 12, \"Gender\": \"Male\", \"Expenditures\": 2269, \"Ethnicity\": \"White not Hispanic\", \"cohort_order\": null}, {\"Id\": 40847, \"Age Cohort\": \"18 to 21\", \"Age\": 21, \"Gender\": \"Female\", \"Expenditures\": 10973, \"Ethnicity\": \"White not Hispanic\", \"cohort_order\": null}, {\"Id\": 40892, \"Age Cohort\": \"13 to 17\", \"Age\": 13, \"Gender\": \"Male\", \"Expenditures\": 1597, \"Ethnicity\": \"Hispanic\", \"cohort_order\": null}, {\"Id\": 40952, \"Age Cohort\": \"22 to 50\", \"Age\": 25, \"Gender\": \"Female\", \"Expenditures\": 48684, \"Ethnicity\": \"Hispanic\", \"cohort_order\": null}, {\"Id\": 40987, \"Age Cohort\": \"13 to 17\", \"Age\": 14, \"Gender\": \"Female\", \"Expenditures\": 2366, \"Ethnicity\": \"White not Hispanic\", \"cohort_order\": null}, {\"Id\": 41163, \"Age Cohort\": \"22 to 50\", \"Age\": 32, \"Gender\": \"Female\", \"Expenditures\": 45017, \"Ethnicity\": \"White not Hispanic\", \"cohort_order\": null}, {\"Id\": 41176, \"Age Cohort\": \"22 to 50\", \"Age\": 32, \"Gender\": \"Male\", \"Expenditures\": 43545, \"Ethnicity\": \"Black\", \"cohort_order\": null}, {\"Id\": 41831, \"Age Cohort\": \"6 to 12\", \"Age\": 7, \"Gender\": \"Male\", \"Expenditures\": 1645, \"Ethnicity\": \"White not Hispanic\", \"cohort_order\": null}, {\"Id\": 41850, \"Age Cohort\": \"13 to 17\", \"Age\": 13, \"Gender\": \"Male\", \"Expenditures\": 4975, \"Ethnicity\": \"Hispanic\", \"cohort_order\": null}, {\"Id\": 41968, \"Age Cohort\": \"13 to 17\", \"Age\": 14, \"Gender\": \"Female\", \"Expenditures\": 3257, \"Ethnicity\": \"Hispanic\", \"cohort_order\": null}, {\"Id\": 42216, \"Age Cohort\": \"18 to 21\", \"Age\": 18, \"Gender\": \"Male\", \"Expenditures\": 7878, \"Ethnicity\": \"Asian\", \"cohort_order\": null}, {\"Id\": 42229, \"Age Cohort\": \"13 to 17\", \"Age\": 16, \"Gender\": \"Female\", \"Expenditures\": 3977, \"Ethnicity\": \"White not Hispanic\", \"cohort_order\": null}, {\"Id\": 42262, \"Age Cohort\": \"6 to 12\", \"Age\": 6, \"Gender\": \"Male\", \"Expenditures\": 2247, \"Ethnicity\": \"Hispanic\", \"cohort_order\": null}, {\"Id\": 42265, \"Age Cohort\": \"13 to 17\", \"Age\": 16, \"Gender\": \"Female\", \"Expenditures\": 4215, \"Ethnicity\": \"White not Hispanic\", \"cohort_order\": null}, {\"Id\": 42348, \"Age Cohort\": \"51+\", \"Age\": 74, \"Gender\": \"Male\", \"Expenditures\": 52041, \"Ethnicity\": \"White not Hispanic\", \"cohort_order\": null}, {\"Id\": 42489, \"Age Cohort\": \"6 to 12\", \"Age\": 9, \"Gender\": \"Male\", \"Expenditures\": 1758, \"Ethnicity\": \"Hispanic\", \"cohort_order\": null}, {\"Id\": 42590, \"Age Cohort\": \"22 to 50\", \"Age\": 24, \"Gender\": \"Male\", \"Expenditures\": 51392, \"Ethnicity\": \"Hispanic\", \"cohort_order\": null}, {\"Id\": 42593, \"Age Cohort\": \"0 to 5\", \"Age\": 0, \"Gender\": \"Female\", \"Expenditures\": 1398, \"Ethnicity\": \"Black\", \"cohort_order\": null}, {\"Id\": 42657, \"Age Cohort\": \"51+\", \"Age\": 86, \"Gender\": \"Male\", \"Expenditures\": 60452, \"Ethnicity\": \"White not Hispanic\", \"cohort_order\": null}, {\"Id\": 42732, \"Age Cohort\": \"13 to 17\", \"Age\": 17, \"Gender\": \"Female\", \"Expenditures\": 4495, \"Ethnicity\": \"Hispanic\", \"cohort_order\": null}, {\"Id\": 42804, \"Age Cohort\": \"13 to 17\", \"Age\": 15, \"Gender\": \"Female\", \"Expenditures\": 2744, \"Ethnicity\": \"Hispanic\", \"cohort_order\": null}, {\"Id\": 42905, \"Age Cohort\": \"51+\", \"Age\": 74, \"Gender\": \"Female\", \"Expenditures\": 57760, \"Ethnicity\": \"White not Hispanic\", \"cohort_order\": null}, {\"Id\": 43039, \"Age Cohort\": \"13 to 17\", \"Age\": 16, \"Gender\": \"Male\", \"Expenditures\": 3561, \"Ethnicity\": \"Hispanic\", \"cohort_order\": null}, {\"Id\": 43188, \"Age Cohort\": \"18 to 21\", \"Age\": 21, \"Gender\": \"Female\", \"Expenditures\": 10063, \"Ethnicity\": \"White not Hispanic\", \"cohort_order\": null}, {\"Id\": 43245, \"Age Cohort\": \"6 to 12\", \"Age\": 11, \"Gender\": \"Female\", \"Expenditures\": 2906, \"Ethnicity\": \"Hispanic\", \"cohort_order\": null}, {\"Id\": 43291, \"Age Cohort\": \"6 to 12\", \"Age\": 11, \"Gender\": \"Male\", \"Expenditures\": 2140, \"Ethnicity\": \"Multi Race\", \"cohort_order\": null}, {\"Id\": 43308, \"Age Cohort\": \"22 to 50\", \"Age\": 34, \"Gender\": \"Female\", \"Expenditures\": 46325, \"Ethnicity\": \"White not Hispanic\", \"cohort_order\": null}, {\"Id\": 43455, \"Age Cohort\": \"51+\", \"Age\": 57, \"Gender\": \"Male\", \"Expenditures\": 48363, \"Ethnicity\": \"White not Hispanic\", \"cohort_order\": null}, {\"Id\": 43478, \"Age Cohort\": \"13 to 17\", \"Age\": 16, \"Gender\": \"Female\", \"Expenditures\": 5637, \"Ethnicity\": \"Hispanic\", \"cohort_order\": null}, {\"Id\": 43516, \"Age Cohort\": \"13 to 17\", \"Age\": 16, \"Gender\": \"Female\", \"Expenditures\": 3740, \"Ethnicity\": \"White not Hispanic\", \"cohort_order\": null}, {\"Id\": 43574, \"Age Cohort\": \"13 to 17\", \"Age\": 13, \"Gender\": \"Male\", \"Expenditures\": 4014, \"Ethnicity\": \"Asian\", \"cohort_order\": null}, {\"Id\": 43586, \"Age Cohort\": \"6 to 12\", \"Age\": 8, \"Gender\": \"Female\", \"Expenditures\": 2904, \"Ethnicity\": \"Hispanic\", \"cohort_order\": null}, {\"Id\": 43735, \"Age Cohort\": \"6 to 12\", \"Age\": 9, \"Gender\": \"Female\", \"Expenditures\": 2854, \"Ethnicity\": \"White not Hispanic\", \"cohort_order\": null}, {\"Id\": 43762, \"Age Cohort\": \"22 to 50\", \"Age\": 28, \"Gender\": \"Female\", \"Expenditures\": 39147, \"Ethnicity\": \"Hispanic\", \"cohort_order\": null}, {\"Id\": 43767, \"Age Cohort\": \"13 to 17\", \"Age\": 15, \"Gender\": \"Female\", \"Expenditures\": 4036, \"Ethnicity\": \"White not Hispanic\", \"cohort_order\": null}, {\"Id\": 43768, \"Age Cohort\": \"6 to 12\", \"Age\": 12, \"Gender\": \"Male\", \"Expenditures\": 3196, \"Ethnicity\": \"Asian\", \"cohort_order\": null}, {\"Id\": 43881, \"Age Cohort\": \"13 to 17\", \"Age\": 17, \"Gender\": \"Female\", \"Expenditures\": 3677, \"Ethnicity\": \"White not Hispanic\", \"cohort_order\": null}, {\"Id\": 43984, \"Age Cohort\": \"18 to 21\", \"Age\": 20, \"Gender\": \"Male\", \"Expenditures\": 6397, \"Ethnicity\": \"Hispanic\", \"cohort_order\": null}, {\"Id\": 43990, \"Age Cohort\": \"22 to 50\", \"Age\": 27, \"Gender\": \"Female\", \"Expenditures\": 48745, \"Ethnicity\": \"White not Hispanic\", \"cohort_order\": null}, {\"Id\": 44297, \"Age Cohort\": \"18 to 21\", \"Age\": 20, \"Gender\": \"Male\", \"Expenditures\": 7446, \"Ethnicity\": \"Hispanic\", \"cohort_order\": null}, {\"Id\": 44312, \"Age Cohort\": \"6 to 12\", \"Age\": 12, \"Gender\": \"Male\", \"Expenditures\": 1109, \"Ethnicity\": \"White not Hispanic\", \"cohort_order\": null}, {\"Id\": 44401, \"Age Cohort\": \"13 to 17\", \"Age\": 17, \"Gender\": \"Male\", \"Expenditures\": 5163, \"Ethnicity\": \"Hispanic\", \"cohort_order\": null}, {\"Id\": 44451, \"Age Cohort\": \"51+\", \"Age\": 67, \"Gender\": \"Male\", \"Expenditures\": 52243, \"Ethnicity\": \"Hispanic\", \"cohort_order\": null}, {\"Id\": 44613, \"Age Cohort\": \"22 to 50\", \"Age\": 26, \"Gender\": \"Male\", \"Expenditures\": 40637, \"Ethnicity\": \"White not Hispanic\", \"cohort_order\": null}, {\"Id\": 44669, \"Age Cohort\": \"13 to 17\", \"Age\": 14, \"Gender\": \"Female\", \"Expenditures\": 4774, \"Ethnicity\": \"Hispanic\", \"cohort_order\": null}, {\"Id\": 44973, \"Age Cohort\": \"22 to 50\", \"Age\": 28, \"Gender\": \"Male\", \"Expenditures\": 41464, \"Ethnicity\": \"White not Hispanic\", \"cohort_order\": null}, {\"Id\": 45104, \"Age Cohort\": \"51+\", \"Age\": 52, \"Gender\": \"Male\", \"Expenditures\": 51777, \"Ethnicity\": \"Hispanic\", \"cohort_order\": null}, {\"Id\": 45274, \"Age Cohort\": \"51+\", \"Age\": 57, \"Gender\": \"Female\", \"Expenditures\": 42897, \"Ethnicity\": \"White not Hispanic\", \"cohort_order\": null}, {\"Id\": 45319, \"Age Cohort\": \"51+\", \"Age\": 76, \"Gender\": \"Male\", \"Expenditures\": 59829, \"Ethnicity\": \"White not Hispanic\", \"cohort_order\": null}, {\"Id\": 45468, \"Age Cohort\": \"13 to 17\", \"Age\": 16, \"Gender\": \"Male\", \"Expenditures\": 3141, \"Ethnicity\": \"Hispanic\", \"cohort_order\": null}, {\"Id\": 45476, \"Age Cohort\": \"6 to 12\", \"Age\": 9, \"Gender\": \"Male\", \"Expenditures\": 2028, \"Ethnicity\": \"Asian\", \"cohort_order\": null}, {\"Id\": 45499, \"Age Cohort\": \"13 to 17\", \"Age\": 14, \"Gender\": \"Female\", \"Expenditures\": 4363, \"Ethnicity\": \"White not Hispanic\", \"cohort_order\": null}, {\"Id\": 45540, \"Age Cohort\": \"22 to 50\", \"Age\": 27, \"Gender\": \"Female\", \"Expenditures\": 37778, \"Ethnicity\": \"Asian\", \"cohort_order\": null}, {\"Id\": 45600, \"Age Cohort\": \"6 to 12\", \"Age\": 8, \"Gender\": \"Male\", \"Expenditures\": 1332, \"Ethnicity\": \"White not Hispanic\", \"cohort_order\": null}, {\"Id\": 45625, \"Age Cohort\": \"22 to 50\", \"Age\": 22, \"Gender\": \"Female\", \"Expenditures\": 36691, \"Ethnicity\": \"Hispanic\", \"cohort_order\": null}, {\"Id\": 45679, \"Age Cohort\": \"51+\", \"Age\": 73, \"Gender\": \"Male\", \"Expenditures\": 53211, \"Ethnicity\": \"Hispanic\", \"cohort_order\": null}, {\"Id\": 45755, \"Age Cohort\": \"6 to 12\", \"Age\": 11, \"Gender\": \"Male\", \"Expenditures\": 1144, \"Ethnicity\": \"Multi Race\", \"cohort_order\": null}, {\"Id\": 45798, \"Age Cohort\": \"6 to 12\", \"Age\": 11, \"Gender\": \"Female\", \"Expenditures\": 1217, \"Ethnicity\": \"White not Hispanic\", \"cohort_order\": null}, {\"Id\": 45827, \"Age Cohort\": \"51+\", \"Age\": 89, \"Gender\": \"Female\", \"Expenditures\": 58304, \"Ethnicity\": \"White not Hispanic\", \"cohort_order\": null}, {\"Id\": 45828, \"Age Cohort\": \"0 to 5\", \"Age\": 2, \"Gender\": \"Female\", \"Expenditures\": 1113, \"Ethnicity\": \"White not Hispanic\", \"cohort_order\": null}, {\"Id\": 45958, \"Age Cohort\": \"51+\", \"Age\": 73, \"Gender\": \"Male\", \"Expenditures\": 47997, \"Ethnicity\": \"White not Hispanic\", \"cohort_order\": null}, {\"Id\": 45962, \"Age Cohort\": \"18 to 21\", \"Age\": 19, \"Gender\": \"Female\", \"Expenditures\": 10502, \"Ethnicity\": \"White not Hispanic\", \"cohort_order\": null}, {\"Id\": 46063, \"Age Cohort\": \"13 to 17\", \"Age\": 13, \"Gender\": \"Male\", \"Expenditures\": 5872, \"Ethnicity\": \"White not Hispanic\", \"cohort_order\": null}, {\"Id\": 46251, \"Age Cohort\": \"22 to 50\", \"Age\": 33, \"Gender\": \"Male\", \"Expenditures\": 27090, \"Ethnicity\": \"White not Hispanic\", \"cohort_order\": null}, {\"Id\": 46272, \"Age Cohort\": \"22 to 50\", \"Age\": 32, \"Gender\": \"Female\", \"Expenditures\": 37697, \"Ethnicity\": \"Black\", \"cohort_order\": null}, {\"Id\": 46389, \"Age Cohort\": \"13 to 17\", \"Age\": 17, \"Gender\": \"Female\", \"Expenditures\": 5040, \"Ethnicity\": \"Hispanic\", \"cohort_order\": null}, {\"Id\": 46498, \"Age Cohort\": \"6 to 12\", \"Age\": 7, \"Gender\": \"Male\", \"Expenditures\": 2415, \"Ethnicity\": \"White not Hispanic\", \"cohort_order\": null}, {\"Id\": 46628, \"Age Cohort\": \"6 to 12\", \"Age\": 11, \"Gender\": \"Male\", \"Expenditures\": 2167, \"Ethnicity\": \"Hispanic\", \"cohort_order\": null}, {\"Id\": 46637, \"Age Cohort\": \"22 to 50\", \"Age\": 26, \"Gender\": \"Male\", \"Expenditures\": 41144, \"Ethnicity\": \"Asian\", \"cohort_order\": null}, {\"Id\": 46726, \"Age Cohort\": \"51+\", \"Age\": 95, \"Gender\": \"Male\", \"Expenditures\": 55187, \"Ethnicity\": \"Hispanic\", \"cohort_order\": null}, {\"Id\": 46876, \"Age Cohort\": \"51+\", \"Age\": 66, \"Gender\": \"Male\", \"Expenditures\": 49056, \"Ethnicity\": \"Black\", \"cohort_order\": null}, {\"Id\": 46945, \"Age Cohort\": \"22 to 50\", \"Age\": 35, \"Gender\": \"Female\", \"Expenditures\": 32529, \"Ethnicity\": \"White not Hispanic\", \"cohort_order\": null}, {\"Id\": 46977, \"Age Cohort\": \"13 to 17\", \"Age\": 16, \"Gender\": \"Female\", \"Expenditures\": 3738, \"Ethnicity\": \"White not Hispanic\", \"cohort_order\": null}, {\"Id\": 47043, \"Age Cohort\": \"22 to 50\", \"Age\": 25, \"Gender\": \"Male\", \"Expenditures\": 38619, \"Ethnicity\": \"Multi Race\", \"cohort_order\": null}, {\"Id\": 47059, \"Age Cohort\": \"22 to 50\", \"Age\": 30, \"Gender\": \"Male\", \"Expenditures\": 44910, \"Ethnicity\": \"Black\", \"cohort_order\": null}, {\"Id\": 47217, \"Age Cohort\": \"6 to 12\", \"Age\": 7, \"Gender\": \"Female\", \"Expenditures\": 2797, \"Ethnicity\": \"Hispanic\", \"cohort_order\": null}, {\"Id\": 47236, \"Age Cohort\": \"13 to 17\", \"Age\": 16, \"Gender\": \"Male\", \"Expenditures\": 4975, \"Ethnicity\": \"Hispanic\", \"cohort_order\": null}, {\"Id\": 47553, \"Age Cohort\": \"13 to 17\", \"Age\": 16, \"Gender\": \"Male\", \"Expenditures\": 4067, \"Ethnicity\": \"Asian\", \"cohort_order\": null}, {\"Id\": 47748, \"Age Cohort\": \"13 to 17\", \"Age\": 17, \"Gender\": \"Male\", \"Expenditures\": 4918, \"Ethnicity\": \"Black\", \"cohort_order\": null}, {\"Id\": 47809, \"Age Cohort\": \"22 to 50\", \"Age\": 31, \"Gender\": \"Female\", \"Expenditures\": 47778, \"Ethnicity\": \"Asian\", \"cohort_order\": null}, {\"Id\": 47887, \"Age Cohort\": \"6 to 12\", \"Age\": 9, \"Gender\": \"Male\", \"Expenditures\": 2755, \"Ethnicity\": \"Hispanic\", \"cohort_order\": null}, {\"Id\": 47979, \"Age Cohort\": \"22 to 50\", \"Age\": 22, \"Gender\": \"Male\", \"Expenditures\": 27058, \"Ethnicity\": \"White not Hispanic\", \"cohort_order\": null}, {\"Id\": 47997, \"Age Cohort\": \"51+\", \"Age\": 64, \"Gender\": \"Male\", \"Expenditures\": 57119, \"Ethnicity\": \"White not Hispanic\", \"cohort_order\": null}, {\"Id\": 48101, \"Age Cohort\": \"13 to 17\", \"Age\": 15, \"Gender\": \"Female\", \"Expenditures\": 3728, \"Ethnicity\": \"Asian\", \"cohort_order\": null}, {\"Id\": 48169, \"Age Cohort\": \"13 to 17\", \"Age\": 16, \"Gender\": \"Male\", \"Expenditures\": 4550, \"Ethnicity\": \"White not Hispanic\", \"cohort_order\": null}, {\"Id\": 48328, \"Age Cohort\": \"51+\", \"Age\": 81, \"Gender\": \"Female\", \"Expenditures\": 75098, \"Ethnicity\": \"Asian\", \"cohort_order\": null}, {\"Id\": 48353, \"Age Cohort\": \"6 to 12\", \"Age\": 9, \"Gender\": \"Female\", \"Expenditures\": 2016, \"Ethnicity\": \"Hispanic\", \"cohort_order\": null}, {\"Id\": 48653, \"Age Cohort\": \"6 to 12\", \"Age\": 7, \"Gender\": \"Male\", \"Expenditures\": 1974, \"Ethnicity\": \"Asian\", \"cohort_order\": null}, {\"Id\": 48882, \"Age Cohort\": \"18 to 21\", \"Age\": 21, \"Gender\": \"Male\", \"Expenditures\": 12259, \"Ethnicity\": \"Black\", \"cohort_order\": null}, {\"Id\": 48938, \"Age Cohort\": \"22 to 50\", \"Age\": 39, \"Gender\": \"Male\", \"Expenditures\": 36576, \"Ethnicity\": \"Black\", \"cohort_order\": null}, {\"Id\": 49026, \"Age Cohort\": \"13 to 17\", \"Age\": 13, \"Gender\": \"Male\", \"Expenditures\": 2810, \"Ethnicity\": \"Hispanic\", \"cohort_order\": null}, {\"Id\": 49094, \"Age Cohort\": \"13 to 17\", \"Age\": 16, \"Gender\": \"Male\", \"Expenditures\": 3745, \"Ethnicity\": \"Hispanic\", \"cohort_order\": null}, {\"Id\": 49199, \"Age Cohort\": \"6 to 12\", \"Age\": 10, \"Gender\": \"Female\", \"Expenditures\": 2854, \"Ethnicity\": \"Hispanic\", \"cohort_order\": null}, {\"Id\": 49285, \"Age Cohort\": \"0 to 5\", \"Age\": 1, \"Gender\": \"Female\", \"Expenditures\": 1592, \"Ethnicity\": \"Hispanic\", \"cohort_order\": null}, {\"Id\": 49463, \"Age Cohort\": \"13 to 17\", \"Age\": 13, \"Gender\": \"Male\", \"Expenditures\": 4245, \"Ethnicity\": \"White not Hispanic\", \"cohort_order\": null}, {\"Id\": 49506, \"Age Cohort\": \"13 to 17\", \"Age\": 16, \"Gender\": \"Male\", \"Expenditures\": 3445, \"Ethnicity\": \"Hispanic\", \"cohort_order\": null}, {\"Id\": 49533, \"Age Cohort\": \"18 to 21\", \"Age\": 18, \"Gender\": \"Male\", \"Expenditures\": 3153, \"Ethnicity\": \"Asian\", \"cohort_order\": null}, {\"Id\": 49598, \"Age Cohort\": \"51+\", \"Age\": 65, \"Gender\": \"Male\", \"Expenditures\": 52076, \"Ethnicity\": \"Asian\", \"cohort_order\": null}, {\"Id\": 49631, \"Age Cohort\": \"6 to 12\", \"Age\": 10, \"Gender\": \"Male\", \"Expenditures\": 676, \"Ethnicity\": \"White not Hispanic\", \"cohort_order\": null}, {\"Id\": 49818, \"Age Cohort\": \"13 to 17\", \"Age\": 16, \"Gender\": \"Female\", \"Expenditures\": 4696, \"Ethnicity\": \"Hispanic\", \"cohort_order\": null}, {\"Id\": 49889, \"Age Cohort\": \"13 to 17\", \"Age\": 16, \"Gender\": \"Female\", \"Expenditures\": 4949, \"Ethnicity\": \"Black\", \"cohort_order\": null}, {\"Id\": 49977, \"Age Cohort\": \"22 to 50\", \"Age\": 25, \"Gender\": \"Female\", \"Expenditures\": 44916, \"Ethnicity\": \"White not Hispanic\", \"cohort_order\": null}, {\"Id\": 50053, \"Age Cohort\": \"18 to 21\", \"Age\": 18, \"Gender\": \"Female\", \"Expenditures\": 11125, \"Ethnicity\": \"Asian\", \"cohort_order\": null}, {\"Id\": 50112, \"Age Cohort\": \"6 to 12\", \"Age\": 6, \"Gender\": \"Female\", \"Expenditures\": 4163, \"Ethnicity\": \"Hispanic\", \"cohort_order\": null}, {\"Id\": 50140, \"Age Cohort\": \"13 to 17\", \"Age\": 14, \"Gender\": \"Male\", \"Expenditures\": 4608, \"Ethnicity\": \"Hispanic\", \"cohort_order\": null}, {\"Id\": 50208, \"Age Cohort\": \"22 to 50\", \"Age\": 25, \"Gender\": \"Female\", \"Expenditures\": 41752, \"Ethnicity\": \"White not Hispanic\", \"cohort_order\": null}, {\"Id\": 50222, \"Age Cohort\": \"18 to 21\", \"Age\": 19, \"Gender\": \"Female\", \"Expenditures\": 7564, \"Ethnicity\": \"Multi Race\", \"cohort_order\": null}, {\"Id\": 50270, \"Age Cohort\": \"22 to 50\", \"Age\": 25, \"Gender\": \"Male\", \"Expenditures\": 46951, \"Ethnicity\": \"Hispanic\", \"cohort_order\": null}, {\"Id\": 50349, \"Age Cohort\": \"13 to 17\", \"Age\": 16, \"Gender\": \"Female\", \"Expenditures\": 3555, \"Ethnicity\": \"White not Hispanic\", \"cohort_order\": null}, {\"Id\": 50478, \"Age Cohort\": \"6 to 12\", \"Age\": 12, \"Gender\": \"Female\", \"Expenditures\": 3562, \"Ethnicity\": \"Hispanic\", \"cohort_order\": null}, {\"Id\": 50559, \"Age Cohort\": \"6 to 12\", \"Age\": 8, \"Gender\": \"Male\", \"Expenditures\": 2746, \"Ethnicity\": \"Hispanic\", \"cohort_order\": null}, {\"Id\": 50652, \"Age Cohort\": \"13 to 17\", \"Age\": 15, \"Gender\": \"Male\", \"Expenditures\": 3015, \"Ethnicity\": \"White not Hispanic\", \"cohort_order\": null}, {\"Id\": 50674, \"Age Cohort\": \"18 to 21\", \"Age\": 20, \"Gender\": \"Male\", \"Expenditures\": 9369, \"Ethnicity\": \"Asian\", \"cohort_order\": null}, {\"Id\": 50783, \"Age Cohort\": \"18 to 21\", \"Age\": 21, \"Gender\": \"Female\", \"Expenditures\": 8469, \"Ethnicity\": \"Hispanic\", \"cohort_order\": null}, {\"Id\": 50849, \"Age Cohort\": \"22 to 50\", \"Age\": 25, \"Gender\": \"Female\", \"Expenditures\": 48021, \"Ethnicity\": \"Black\", \"cohort_order\": null}, {\"Id\": 50913, \"Age Cohort\": \"18 to 21\", \"Age\": 18, \"Gender\": \"Male\", \"Expenditures\": 11723, \"Ethnicity\": \"White not Hispanic\", \"cohort_order\": null}, {\"Id\": 50989, \"Age Cohort\": \"13 to 17\", \"Age\": 14, \"Gender\": \"Male\", \"Expenditures\": 4219, \"Ethnicity\": \"Hispanic\", \"cohort_order\": null}, {\"Id\": 51150, \"Age Cohort\": \"51+\", \"Age\": 75, \"Gender\": \"Male\", \"Expenditures\": 52147, \"Ethnicity\": \"Hispanic\", \"cohort_order\": null}, {\"Id\": 51253, \"Age Cohort\": \"6 to 12\", \"Age\": 7, \"Gender\": \"Female\", \"Expenditures\": 633, \"Ethnicity\": \"White not Hispanic\", \"cohort_order\": null}, {\"Id\": 51259, \"Age Cohort\": \"6 to 12\", \"Age\": 11, \"Gender\": \"Female\", \"Expenditures\": 1363, \"Ethnicity\": \"Hispanic\", \"cohort_order\": null}, {\"Id\": 51290, \"Age Cohort\": \"13 to 17\", \"Age\": 14, \"Gender\": \"Male\", \"Expenditures\": 3113, \"Ethnicity\": \"Hispanic\", \"cohort_order\": null}, {\"Id\": 51420, \"Age Cohort\": \"13 to 17\", \"Age\": 13, \"Gender\": \"Male\", \"Expenditures\": 3417, \"Ethnicity\": \"White not Hispanic\", \"cohort_order\": null}, {\"Id\": 51577, \"Age Cohort\": \"6 to 12\", \"Age\": 7, \"Gender\": \"Male\", \"Expenditures\": 776, \"Ethnicity\": \"Hispanic\", \"cohort_order\": null}, {\"Id\": 51635, \"Age Cohort\": \"22 to 50\", \"Age\": 32, \"Gender\": \"Female\", \"Expenditures\": 36827, \"Ethnicity\": \"Hispanic\", \"cohort_order\": null}, {\"Id\": 51712, \"Age Cohort\": \"22 to 50\", \"Age\": 23, \"Gender\": \"Female\", \"Expenditures\": 43333, \"Ethnicity\": \"White not Hispanic\", \"cohort_order\": null}, {\"Id\": 51754, \"Age Cohort\": \"13 to 17\", \"Age\": 16, \"Gender\": \"Male\", \"Expenditures\": 2054, \"Ethnicity\": \"White not Hispanic\", \"cohort_order\": null}, {\"Id\": 51954, \"Age Cohort\": \"6 to 12\", \"Age\": 6, \"Gender\": \"Female\", \"Expenditures\": 1335, \"Ethnicity\": \"Asian\", \"cohort_order\": null}, {\"Id\": 52067, \"Age Cohort\": \"6 to 12\", \"Age\": 6, \"Gender\": \"Female\", \"Expenditures\": 1790, \"Ethnicity\": \"Black\", \"cohort_order\": null}, {\"Id\": 52073, \"Age Cohort\": \"18 to 21\", \"Age\": 19, \"Gender\": \"Female\", \"Expenditures\": 10531, \"Ethnicity\": \"Asian\", \"cohort_order\": null}, {\"Id\": 52177, \"Age Cohort\": \"6 to 12\", \"Age\": 12, \"Gender\": \"Female\", \"Expenditures\": 3539, \"Ethnicity\": \"Hispanic\", \"cohort_order\": null}, {\"Id\": 52217, \"Age Cohort\": \"18 to 21\", \"Age\": 19, \"Gender\": \"Male\", \"Expenditures\": 10230, \"Ethnicity\": \"Hispanic\", \"cohort_order\": null}, {\"Id\": 52373, \"Age Cohort\": \"22 to 50\", \"Age\": 27, \"Gender\": \"Female\", \"Expenditures\": 42969, \"Ethnicity\": \"White not Hispanic\", \"cohort_order\": null}, {\"Id\": 52722, \"Age Cohort\": \"22 to 50\", \"Age\": 24, \"Gender\": \"Male\", \"Expenditures\": 48694, \"Ethnicity\": \"White not Hispanic\", \"cohort_order\": null}, {\"Id\": 52727, \"Age Cohort\": \"22 to 50\", \"Age\": 30, \"Gender\": \"Male\", \"Expenditures\": 33721, \"Ethnicity\": \"Asian\", \"cohort_order\": null}, {\"Id\": 52794, \"Age Cohort\": \"22 to 50\", \"Age\": 30, \"Gender\": \"Female\", \"Expenditures\": 42703, \"Ethnicity\": \"White not Hispanic\", \"cohort_order\": null}, {\"Id\": 52868, \"Age Cohort\": \"22 to 50\", \"Age\": 30, \"Gender\": \"Male\", \"Expenditures\": 35523, \"Ethnicity\": \"White not Hispanic\", \"cohort_order\": null}, {\"Id\": 52887, \"Age Cohort\": \"18 to 21\", \"Age\": 18, \"Gender\": \"Female\", \"Expenditures\": 8869, \"Ethnicity\": \"Hispanic\", \"cohort_order\": null}, {\"Id\": 52969, \"Age Cohort\": \"51+\", \"Age\": 55, \"Gender\": \"Male\", \"Expenditures\": 49554, \"Ethnicity\": \"White not Hispanic\", \"cohort_order\": null}, {\"Id\": 53008, \"Age Cohort\": \"13 to 17\", \"Age\": 16, \"Gender\": \"Female\", \"Expenditures\": 2018, \"Ethnicity\": \"Other\", \"cohort_order\": null}, {\"Id\": 53083, \"Age Cohort\": \"6 to 12\", \"Age\": 10, \"Gender\": \"Female\", \"Expenditures\": 2455, \"Ethnicity\": \"White not Hispanic\", \"cohort_order\": null}, {\"Id\": 53225, \"Age Cohort\": \"6 to 12\", \"Age\": 6, \"Gender\": \"Female\", \"Expenditures\": 3379, \"Ethnicity\": \"Hispanic\", \"cohort_order\": null}, {\"Id\": 53288, \"Age Cohort\": \"13 to 17\", \"Age\": 14, \"Gender\": \"Female\", \"Expenditures\": 3580, \"Ethnicity\": \"Hispanic\", \"cohort_order\": null}, {\"Id\": 53339, \"Age Cohort\": \"51+\", \"Age\": 71, \"Gender\": \"Male\", \"Expenditures\": 46719, \"Ethnicity\": \"White not Hispanic\", \"cohort_order\": null}, {\"Id\": 53435, \"Age Cohort\": \"22 to 50\", \"Age\": 31, \"Gender\": \"Female\", \"Expenditures\": 46437, \"Ethnicity\": \"White not Hispanic\", \"cohort_order\": null}, {\"Id\": 53658, \"Age Cohort\": \"13 to 17\", \"Age\": 14, \"Gender\": \"Male\", \"Expenditures\": 5514, \"Ethnicity\": \"White not Hispanic\", \"cohort_order\": null}, {\"Id\": 53690, \"Age Cohort\": \"13 to 17\", \"Age\": 17, \"Gender\": \"Female\", \"Expenditures\": 5228, \"Ethnicity\": \"Hispanic\", \"cohort_order\": null}, {\"Id\": 53719, \"Age Cohort\": \"22 to 50\", \"Age\": 33, \"Gender\": \"Female\", \"Expenditures\": 42265, \"Ethnicity\": \"White not Hispanic\", \"cohort_order\": null}, {\"Id\": 53903, \"Age Cohort\": \"18 to 21\", \"Age\": 21, \"Gender\": \"Female\", \"Expenditures\": 13129, \"Ethnicity\": \"Hispanic\", \"cohort_order\": null}, {\"Id\": 53996, \"Age Cohort\": \"18 to 21\", \"Age\": 19, \"Gender\": \"Female\", \"Expenditures\": 8714, \"Ethnicity\": \"Asian\", \"cohort_order\": null}, {\"Id\": 54054, \"Age Cohort\": \"18 to 21\", \"Age\": 20, \"Gender\": \"Male\", \"Expenditures\": 13248, \"Ethnicity\": \"White not Hispanic\", \"cohort_order\": null}, {\"Id\": 54067, \"Age Cohort\": \"6 to 12\", \"Age\": 12, \"Gender\": \"Female\", \"Expenditures\": 1262, \"Ethnicity\": \"White not Hispanic\", \"cohort_order\": null}, {\"Id\": 54110, \"Age Cohort\": \"22 to 50\", \"Age\": 29, \"Gender\": \"Male\", \"Expenditures\": 41013, \"Ethnicity\": \"Asian\", \"cohort_order\": null}, {\"Id\": 54223, \"Age Cohort\": \"13 to 17\", \"Age\": 17, \"Gender\": \"Female\", \"Expenditures\": 2948, \"Ethnicity\": \"White not Hispanic\", \"cohort_order\": null}, {\"Id\": 54252, \"Age Cohort\": \"51+\", \"Age\": 71, \"Gender\": \"Female\", \"Expenditures\": 55428, \"Ethnicity\": \"Asian\", \"cohort_order\": null}, {\"Id\": 54406, \"Age Cohort\": \"22 to 50\", \"Age\": 25, \"Gender\": \"Male\", \"Expenditures\": 38085, \"Ethnicity\": \"Black\", \"cohort_order\": null}, {\"Id\": 54675, \"Age Cohort\": \"13 to 17\", \"Age\": 13, \"Gender\": \"Female\", \"Expenditures\": 4005, \"Ethnicity\": \"White not Hispanic\", \"cohort_order\": null}, {\"Id\": 55043, \"Age Cohort\": \"6 to 12\", \"Age\": 10, \"Gender\": \"Female\", \"Expenditures\": 4152, \"Ethnicity\": \"Hispanic\", \"cohort_order\": null}, {\"Id\": 55056, \"Age Cohort\": \"51+\", \"Age\": 95, \"Gender\": \"Female\", \"Expenditures\": 54680, \"Ethnicity\": \"Black\", \"cohort_order\": null}, {\"Id\": 55115, \"Age Cohort\": \"13 to 17\", \"Age\": 15, \"Gender\": \"Female\", \"Expenditures\": 3190, \"Ethnicity\": \"Hispanic\", \"cohort_order\": null}, {\"Id\": 55162, \"Age Cohort\": \"13 to 17\", \"Age\": 15, \"Gender\": \"Male\", \"Expenditures\": 3443, \"Ethnicity\": \"Hispanic\", \"cohort_order\": null}, {\"Id\": 55300, \"Age Cohort\": \"22 to 50\", \"Age\": 45, \"Gender\": \"Male\", \"Expenditures\": 46132, \"Ethnicity\": \"Black\", \"cohort_order\": null}, {\"Id\": 55314, \"Age Cohort\": \"13 to 17\", \"Age\": 17, \"Gender\": \"Female\", \"Expenditures\": 2184, \"Ethnicity\": \"Hispanic\", \"cohort_order\": null}, {\"Id\": 55345, \"Age Cohort\": \"13 to 17\", \"Age\": 16, \"Gender\": \"Male\", \"Expenditures\": 5412, \"Ethnicity\": \"Hispanic\", \"cohort_order\": null}, {\"Id\": 55424, \"Age Cohort\": \"22 to 50\", \"Age\": 24, \"Gender\": \"Male\", \"Expenditures\": 37133, \"Ethnicity\": \"White not Hispanic\", \"cohort_order\": null}, {\"Id\": 55442, \"Age Cohort\": \"0 to 5\", \"Age\": 0, \"Gender\": \"Female\", \"Expenditures\": 2532, \"Ethnicity\": \"Asian\", \"cohort_order\": null}, {\"Id\": 55877, \"Age Cohort\": \"13 to 17\", \"Age\": 15, \"Gender\": \"Female\", \"Expenditures\": 4527, \"Ethnicity\": \"Hispanic\", \"cohort_order\": null}, {\"Id\": 55882, \"Age Cohort\": \"13 to 17\", \"Age\": 15, \"Gender\": \"Female\", \"Expenditures\": 3055, \"Ethnicity\": \"White not Hispanic\", \"cohort_order\": null}, {\"Id\": 55958, \"Age Cohort\": \"22 to 50\", \"Age\": 32, \"Gender\": \"Male\", \"Expenditures\": 40587, \"Ethnicity\": \"White not Hispanic\", \"cohort_order\": null}, {\"Id\": 56063, \"Age Cohort\": \"18 to 21\", \"Age\": 21, \"Gender\": \"Male\", \"Expenditures\": 7488, \"Ethnicity\": \"White not Hispanic\", \"cohort_order\": null}, {\"Id\": 56109, \"Age Cohort\": \"18 to 21\", \"Age\": 20, \"Gender\": \"Female\", \"Expenditures\": 9540, \"Ethnicity\": \"White not Hispanic\", \"cohort_order\": null}, {\"Id\": 56202, \"Age Cohort\": \"6 to 12\", \"Age\": 12, \"Gender\": \"Female\", \"Expenditures\": 3003, \"Ethnicity\": \"Hispanic\", \"cohort_order\": null}, {\"Id\": 56203, \"Age Cohort\": \"18 to 21\", \"Age\": 19, \"Gender\": \"Female\", \"Expenditures\": 7122, \"Ethnicity\": \"Hispanic\", \"cohort_order\": null}, {\"Id\": 56309, \"Age Cohort\": \"6 to 12\", \"Age\": 7, \"Gender\": \"Female\", \"Expenditures\": 2191, \"Ethnicity\": \"Hispanic\", \"cohort_order\": null}, {\"Id\": 56318, \"Age Cohort\": \"51+\", \"Age\": 68, \"Gender\": \"Male\", \"Expenditures\": 57363, \"Ethnicity\": \"Hispanic\", \"cohort_order\": null}, {\"Id\": 56400, \"Age Cohort\": \"13 to 17\", \"Age\": 16, \"Gender\": \"Female\", \"Expenditures\": 1641, \"Ethnicity\": \"Hispanic\", \"cohort_order\": null}, {\"Id\": 56533, \"Age Cohort\": \"22 to 50\", \"Age\": 26, \"Gender\": \"Male\", \"Expenditures\": 37347, \"Ethnicity\": \"White not Hispanic\", \"cohort_order\": null}, {\"Id\": 56539, \"Age Cohort\": \"18 to 21\", \"Age\": 20, \"Gender\": \"Female\", \"Expenditures\": 15278, \"Ethnicity\": \"White not Hispanic\", \"cohort_order\": null}, {\"Id\": 56552, \"Age Cohort\": \"18 to 21\", \"Age\": 20, \"Gender\": \"Female\", \"Expenditures\": 11070, \"Ethnicity\": \"White not Hispanic\", \"cohort_order\": null}, {\"Id\": 56576, \"Age Cohort\": \"18 to 21\", \"Age\": 21, \"Gender\": \"Female\", \"Expenditures\": 9805, \"Ethnicity\": \"White not Hispanic\", \"cohort_order\": null}, {\"Id\": 56592, \"Age Cohort\": \"51+\", \"Age\": 88, \"Gender\": \"Male\", \"Expenditures\": 54875, \"Ethnicity\": \"Hispanic\", \"cohort_order\": null}, {\"Id\": 56736, \"Age Cohort\": \"18 to 21\", \"Age\": 18, \"Gender\": \"Female\", \"Expenditures\": 11054, \"Ethnicity\": \"Multi Race\", \"cohort_order\": null}, {\"Id\": 56738, \"Age Cohort\": \"51+\", \"Age\": 72, \"Gender\": \"Male\", \"Expenditures\": 53834, \"Ethnicity\": \"White not Hispanic\", \"cohort_order\": null}, {\"Id\": 56802, \"Age Cohort\": \"22 to 50\", \"Age\": 29, \"Gender\": \"Female\", \"Expenditures\": 42041, \"Ethnicity\": \"Hispanic\", \"cohort_order\": null}, {\"Id\": 56808, \"Age Cohort\": \"18 to 21\", \"Age\": 21, \"Gender\": \"Female\", \"Expenditures\": 11202, \"Ethnicity\": \"White not Hispanic\", \"cohort_order\": null}, {\"Id\": 56855, \"Age Cohort\": \"51+\", \"Age\": 64, \"Gender\": \"Female\", \"Expenditures\": 60774, \"Ethnicity\": \"White not Hispanic\", \"cohort_order\": null}, {\"Id\": 57039, \"Age Cohort\": \"22 to 50\", \"Age\": 22, \"Gender\": \"Female\", \"Expenditures\": 47954, \"Ethnicity\": \"Hispanic\", \"cohort_order\": null}, {\"Id\": 57141, \"Age Cohort\": \"22 to 50\", \"Age\": 23, \"Gender\": \"Male\", \"Expenditures\": 36180, \"Ethnicity\": \"White not Hispanic\", \"cohort_order\": null}, {\"Id\": 57419, \"Age Cohort\": \"0 to 5\", \"Age\": 5, \"Gender\": \"Female\", \"Expenditures\": 1632, \"Ethnicity\": \"Hispanic\", \"cohort_order\": null}, {\"Id\": 57420, \"Age Cohort\": \"6 to 12\", \"Age\": 6, \"Gender\": \"Male\", \"Expenditures\": 3948, \"Ethnicity\": \"Black\", \"cohort_order\": null}, {\"Id\": 57504, \"Age Cohort\": \"18 to 21\", \"Age\": 19, \"Gender\": \"Female\", \"Expenditures\": 12882, \"Ethnicity\": \"White not Hispanic\", \"cohort_order\": null}, {\"Id\": 57550, \"Age Cohort\": \"18 to 21\", \"Age\": 19, \"Gender\": \"Female\", \"Expenditures\": 8700, \"Ethnicity\": \"Asian\", \"cohort_order\": null}, {\"Id\": 57601, \"Age Cohort\": \"18 to 21\", \"Age\": 19, \"Gender\": \"Male\", \"Expenditures\": 11986, \"Ethnicity\": \"Hispanic\", \"cohort_order\": null}, {\"Id\": 57670, \"Age Cohort\": \"51+\", \"Age\": 62, \"Gender\": \"Male\", \"Expenditures\": 47420, \"Ethnicity\": \"Hispanic\", \"cohort_order\": null}, {\"Id\": 57874, \"Age Cohort\": \"13 to 17\", \"Age\": 17, \"Gender\": \"Male\", \"Expenditures\": 4300, \"Ethnicity\": \"Hispanic\", \"cohort_order\": null}, {\"Id\": 57961, \"Age Cohort\": \"13 to 17\", \"Age\": 13, \"Gender\": \"Male\", \"Expenditures\": 4787, \"Ethnicity\": \"Hispanic\", \"cohort_order\": null}, {\"Id\": 58075, \"Age Cohort\": \"6 to 12\", \"Age\": 12, \"Gender\": \"Female\", \"Expenditures\": 2339, \"Ethnicity\": \"Hispanic\", \"cohort_order\": null}, {\"Id\": 58136, \"Age Cohort\": \"13 to 17\", \"Age\": 15, \"Gender\": \"Female\", \"Expenditures\": 4345, \"Ethnicity\": \"Hispanic\", \"cohort_order\": null}, {\"Id\": 58293, \"Age Cohort\": \"13 to 17\", \"Age\": 14, \"Gender\": \"Female\", \"Expenditures\": 4768, \"Ethnicity\": \"White not Hispanic\", \"cohort_order\": null}, {\"Id\": 58317, \"Age Cohort\": \"51+\", \"Age\": 80, \"Gender\": \"Male\", \"Expenditures\": 57821, \"Ethnicity\": \"White not Hispanic\", \"cohort_order\": null}, {\"Id\": 58357, \"Age Cohort\": \"18 to 21\", \"Age\": 20, \"Gender\": \"Female\", \"Expenditures\": 9061, \"Ethnicity\": \"Hispanic\", \"cohort_order\": null}, {\"Id\": 58565, \"Age Cohort\": \"6 to 12\", \"Age\": 6, \"Gender\": \"Female\", \"Expenditures\": 3530, \"Ethnicity\": \"Asian\", \"cohort_order\": null}, {\"Id\": 58680, \"Age Cohort\": \"18 to 21\", \"Age\": 21, \"Gender\": \"Male\", \"Expenditures\": 4931, \"Ethnicity\": \"Hispanic\", \"cohort_order\": null}, {\"Id\": 58838, \"Age Cohort\": \"18 to 21\", \"Age\": 21, \"Gender\": \"Male\", \"Expenditures\": 10385, \"Ethnicity\": \"Asian\", \"cohort_order\": null}, {\"Id\": 58862, \"Age Cohort\": \"13 to 17\", \"Age\": 17, \"Gender\": \"Male\", \"Expenditures\": 3904, \"Ethnicity\": \"White not Hispanic\", \"cohort_order\": null}, {\"Id\": 58870, \"Age Cohort\": \"6 to 12\", \"Age\": 8, \"Gender\": \"Male\", \"Expenditures\": 2590, \"Ethnicity\": \"White not Hispanic\", \"cohort_order\": null}, {\"Id\": 58884, \"Age Cohort\": \"22 to 50\", \"Age\": 34, \"Gender\": \"Female\", \"Expenditures\": 41522, \"Ethnicity\": \"Black\", \"cohort_order\": null}, {\"Id\": 59001, \"Age Cohort\": \"22 to 50\", \"Age\": 27, \"Gender\": \"Female\", \"Expenditures\": 40156, \"Ethnicity\": \"White not Hispanic\", \"cohort_order\": null}, {\"Id\": 59079, \"Age Cohort\": \"18 to 21\", \"Age\": 18, \"Gender\": \"Male\", \"Expenditures\": 11479, \"Ethnicity\": \"Hispanic\", \"cohort_order\": null}, {\"Id\": 59154, \"Age Cohort\": \"13 to 17\", \"Age\": 15, \"Gender\": \"Female\", \"Expenditures\": 4798, \"Ethnicity\": \"Hispanic\", \"cohort_order\": null}, {\"Id\": 59206, \"Age Cohort\": \"51+\", \"Age\": 83, \"Gender\": \"Male\", \"Expenditures\": 58803, \"Ethnicity\": \"White not Hispanic\", \"cohort_order\": null}, {\"Id\": 59275, \"Age Cohort\": \"18 to 21\", \"Age\": 21, \"Gender\": \"Male\", \"Expenditures\": 16133, \"Ethnicity\": \"White not Hispanic\", \"cohort_order\": null}, {\"Id\": 59332, \"Age Cohort\": \"51+\", \"Age\": 64, \"Gender\": \"Male\", \"Expenditures\": 51599, \"Ethnicity\": \"Asian\", \"cohort_order\": null}, {\"Id\": 59343, \"Age Cohort\": \"22 to 50\", \"Age\": 26, \"Gender\": \"Female\", \"Expenditures\": 45507, \"Ethnicity\": \"White not Hispanic\", \"cohort_order\": null}, {\"Id\": 59467, \"Age Cohort\": \"6 to 12\", \"Age\": 8, \"Gender\": \"Female\", \"Expenditures\": 3544, \"Ethnicity\": \"White not Hispanic\", \"cohort_order\": null}, {\"Id\": 59660, \"Age Cohort\": \"6 to 12\", \"Age\": 9, \"Gender\": \"Female\", \"Expenditures\": 1713, \"Ethnicity\": \"Hispanic\", \"cohort_order\": null}, {\"Id\": 59753, \"Age Cohort\": \"13 to 17\", \"Age\": 14, \"Gender\": \"Female\", \"Expenditures\": 2462, \"Ethnicity\": \"Hispanic\", \"cohort_order\": null}, {\"Id\": 59881, \"Age Cohort\": \"18 to 21\", \"Age\": 19, \"Gender\": \"Male\", \"Expenditures\": 11816, \"Ethnicity\": \"White not Hispanic\", \"cohort_order\": null}, {\"Id\": 60002, \"Age Cohort\": \"13 to 17\", \"Age\": 17, \"Gender\": \"Male\", \"Expenditures\": 4531, \"Ethnicity\": \"White not Hispanic\", \"cohort_order\": null}, {\"Id\": 60018, \"Age Cohort\": \"22 to 50\", \"Age\": 35, \"Gender\": \"Female\", \"Expenditures\": 36607, \"Ethnicity\": \"White not Hispanic\", \"cohort_order\": null}, {\"Id\": 60037, \"Age Cohort\": \"13 to 17\", \"Age\": 15, \"Gender\": \"Female\", \"Expenditures\": 4884, \"Ethnicity\": \"Hispanic\", \"cohort_order\": null}, {\"Id\": 60292, \"Age Cohort\": \"13 to 17\", \"Age\": 14, \"Gender\": \"Male\", \"Expenditures\": 4058, \"Ethnicity\": \"Hispanic\", \"cohort_order\": null}, {\"Id\": 60348, \"Age Cohort\": \"0 to 5\", \"Age\": 5, \"Gender\": \"Female\", \"Expenditures\": 2019, \"Ethnicity\": \"White not Hispanic\", \"cohort_order\": null}, {\"Id\": 60352, \"Age Cohort\": \"6 to 12\", \"Age\": 7, \"Gender\": \"Female\", \"Expenditures\": 3464, \"Ethnicity\": \"Hispanic\", \"cohort_order\": null}, {\"Id\": 60372, \"Age Cohort\": \"6 to 12\", \"Age\": 12, \"Gender\": \"Male\", \"Expenditures\": 1539, \"Ethnicity\": \"Hispanic\", \"cohort_order\": null}, {\"Id\": 60425, \"Age Cohort\": \"13 to 17\", \"Age\": 16, \"Gender\": \"Male\", \"Expenditures\": 5224, \"Ethnicity\": \"White not Hispanic\", \"cohort_order\": null}, {\"Id\": 60508, \"Age Cohort\": \"51+\", \"Age\": 62, \"Gender\": \"Female\", \"Expenditures\": 49075, \"Ethnicity\": \"Asian\", \"cohort_order\": null}, {\"Id\": 60572, \"Age Cohort\": \"51+\", \"Age\": 69, \"Gender\": \"Male\", \"Expenditures\": 59682, \"Ethnicity\": \"White not Hispanic\", \"cohort_order\": null}, {\"Id\": 60676, \"Age Cohort\": \"18 to 21\", \"Age\": 21, \"Gender\": \"Female\", \"Expenditures\": 5066, \"Ethnicity\": \"Hispanic\", \"cohort_order\": null}, {\"Id\": 60864, \"Age Cohort\": \"18 to 21\", \"Age\": 20, \"Gender\": \"Male\", \"Expenditures\": 5583, \"Ethnicity\": \"Black\", \"cohort_order\": null}, {\"Id\": 61004, \"Age Cohort\": \"0 to 5\", \"Age\": 4, \"Gender\": \"Female\", \"Expenditures\": 456, \"Ethnicity\": \"Hispanic\", \"cohort_order\": null}, {\"Id\": 61019, \"Age Cohort\": \"0 to 5\", \"Age\": 0, \"Gender\": \"Female\", \"Expenditures\": 1147, \"Ethnicity\": \"Hispanic\", \"cohort_order\": null}, {\"Id\": 61051, \"Age Cohort\": \"22 to 50\", \"Age\": 37, \"Gender\": \"Male\", \"Expenditures\": 30627, \"Ethnicity\": \"White not Hispanic\", \"cohort_order\": null}, {\"Id\": 61120, \"Age Cohort\": \"6 to 12\", \"Age\": 7, \"Gender\": \"Male\", \"Expenditures\": 3000, \"Ethnicity\": \"Multi Race\", \"cohort_order\": null}, {\"Id\": 61187, \"Age Cohort\": \"6 to 12\", \"Age\": 11, \"Gender\": \"Male\", \"Expenditures\": 2885, \"Ethnicity\": \"Multi Race\", \"cohort_order\": null}, {\"Id\": 61192, \"Age Cohort\": \"18 to 21\", \"Age\": 20, \"Gender\": \"Male\", \"Expenditures\": 6255, \"Ethnicity\": \"Asian\", \"cohort_order\": null}, {\"Id\": 61329, \"Age Cohort\": \"18 to 21\", \"Age\": 18, \"Gender\": \"Female\", \"Expenditures\": 10068, \"Ethnicity\": \"White not Hispanic\", \"cohort_order\": null}, {\"Id\": 61449, \"Age Cohort\": \"13 to 17\", \"Age\": 14, \"Gender\": \"Male\", \"Expenditures\": 5025, \"Ethnicity\": \"Black\", \"cohort_order\": null}, {\"Id\": 61467, \"Age Cohort\": \"0 to 5\", \"Age\": 1, \"Gender\": \"Female\", \"Expenditures\": 2157, \"Ethnicity\": \"Asian\", \"cohort_order\": null}, {\"Id\": 61498, \"Age Cohort\": \"13 to 17\", \"Age\": 13, \"Gender\": \"Female\", \"Expenditures\": 3726, \"Ethnicity\": \"American Indian\", \"cohort_order\": null}, {\"Id\": 61570, \"Age Cohort\": \"6 to 12\", \"Age\": 11, \"Gender\": \"Male\", \"Expenditures\": 1286, \"Ethnicity\": \"Hispanic\", \"cohort_order\": null}, {\"Id\": 61588, \"Age Cohort\": \"22 to 50\", \"Age\": 24, \"Gender\": \"Female\", \"Expenditures\": 47674, \"Ethnicity\": \"White not Hispanic\", \"cohort_order\": null}, {\"Id\": 61654, \"Age Cohort\": \"18 to 21\", \"Age\": 21, \"Gender\": \"Female\", \"Expenditures\": 4731, \"Ethnicity\": \"Hispanic\", \"cohort_order\": null}, {\"Id\": 61680, \"Age Cohort\": \"13 to 17\", \"Age\": 16, \"Gender\": \"Male\", \"Expenditures\": 3839, \"Ethnicity\": \"White not Hispanic\", \"cohort_order\": null}, {\"Id\": 61785, \"Age Cohort\": \"13 to 17\", \"Age\": 13, \"Gender\": \"Female\", \"Expenditures\": 1195, \"Ethnicity\": \"White not Hispanic\", \"cohort_order\": null}, {\"Id\": 61806, \"Age Cohort\": \"22 to 50\", \"Age\": 24, \"Gender\": \"Female\", \"Expenditures\": 46911, \"Ethnicity\": \"Asian\", \"cohort_order\": null}, {\"Id\": 61887, \"Age Cohort\": \"13 to 17\", \"Age\": 17, \"Gender\": \"Male\", \"Expenditures\": 3629, \"Ethnicity\": \"Hispanic\", \"cohort_order\": null}, {\"Id\": 61944, \"Age Cohort\": \"51+\", \"Age\": 52, \"Gender\": \"Female\", \"Expenditures\": 48826, \"Ethnicity\": \"White not Hispanic\", \"cohort_order\": null}, {\"Id\": 61951, \"Age Cohort\": \"18 to 21\", \"Age\": 21, \"Gender\": \"Male\", \"Expenditures\": 15718, \"Ethnicity\": \"White not Hispanic\", \"cohort_order\": null}, {\"Id\": 61954, \"Age Cohort\": \"18 to 21\", \"Age\": 19, \"Gender\": \"Female\", \"Expenditures\": 5616, \"Ethnicity\": \"Hispanic\", \"cohort_order\": null}, {\"Id\": 62150, \"Age Cohort\": \"22 to 50\", \"Age\": 29, \"Gender\": \"Male\", \"Expenditures\": 34708, \"Ethnicity\": \"White not Hispanic\", \"cohort_order\": null}, {\"Id\": 62191, \"Age Cohort\": \"13 to 17\", \"Age\": 17, \"Gender\": \"Male\", \"Expenditures\": 3075, \"Ethnicity\": \"Asian\", \"cohort_order\": null}, {\"Id\": 62282, \"Age Cohort\": \"18 to 21\", \"Age\": 21, \"Gender\": \"Female\", \"Expenditures\": 6669, \"Ethnicity\": \"White not Hispanic\", \"cohort_order\": null}, {\"Id\": 62302, \"Age Cohort\": \"22 to 50\", \"Age\": 23, \"Gender\": \"Male\", \"Expenditures\": 39693, \"Ethnicity\": \"White not Hispanic\", \"cohort_order\": null}, {\"Id\": 62342, \"Age Cohort\": \"6 to 12\", \"Age\": 9, \"Gender\": \"Male\", \"Expenditures\": 3552, \"Ethnicity\": \"White not Hispanic\", \"cohort_order\": null}, {\"Id\": 62485, \"Age Cohort\": \"22 to 50\", \"Age\": 23, \"Gender\": \"Female\", \"Expenditures\": 27845, \"Ethnicity\": \"Hispanic\", \"cohort_order\": null}, {\"Id\": 62691, \"Age Cohort\": \"6 to 12\", \"Age\": 10, \"Gender\": \"Female\", \"Expenditures\": 2409, \"Ethnicity\": \"Hispanic\", \"cohort_order\": null}, {\"Id\": 62913, \"Age Cohort\": \"6 to 12\", \"Age\": 8, \"Gender\": \"Female\", \"Expenditures\": 2122, \"Ethnicity\": \"White not Hispanic\", \"cohort_order\": null}, {\"Id\": 62935, \"Age Cohort\": \"22 to 50\", \"Age\": 33, \"Gender\": \"Female\", \"Expenditures\": 42458, \"Ethnicity\": \"White not Hispanic\", \"cohort_order\": null}, {\"Id\": 62957, \"Age Cohort\": \"22 to 50\", \"Age\": 22, \"Gender\": \"Male\", \"Expenditures\": 40648, \"Ethnicity\": \"White not Hispanic\", \"cohort_order\": null}, {\"Id\": 63343, \"Age Cohort\": \"22 to 50\", \"Age\": 27, \"Gender\": \"Male\", \"Expenditures\": 36712, \"Ethnicity\": \"Asian\", \"cohort_order\": null}, {\"Id\": 63363, \"Age Cohort\": \"22 to 50\", \"Age\": 22, \"Gender\": \"Male\", \"Expenditures\": 31138, \"Ethnicity\": \"White not Hispanic\", \"cohort_order\": null}, {\"Id\": 63384, \"Age Cohort\": \"13 to 17\", \"Age\": 15, \"Gender\": \"Female\", \"Expenditures\": 2917, \"Ethnicity\": \"Asian\", \"cohort_order\": null}, {\"Id\": 63810, \"Age Cohort\": \"51+\", \"Age\": 68, \"Gender\": \"Male\", \"Expenditures\": 43945, \"Ethnicity\": \"White not Hispanic\", \"cohort_order\": null}, {\"Id\": 63833, \"Age Cohort\": \"22 to 50\", \"Age\": 27, \"Gender\": \"Male\", \"Expenditures\": 49793, \"Ethnicity\": \"White not Hispanic\", \"cohort_order\": null}, {\"Id\": 63959, \"Age Cohort\": \"18 to 21\", \"Age\": 20, \"Gender\": \"Female\", \"Expenditures\": 10247, \"Ethnicity\": \"Hispanic\", \"cohort_order\": null}, {\"Id\": 63992, \"Age Cohort\": \"51+\", \"Age\": 59, \"Gender\": \"Male\", \"Expenditures\": 33110, \"Ethnicity\": \"White not Hispanic\", \"cohort_order\": null}, {\"Id\": 64041, \"Age Cohort\": \"6 to 12\", \"Age\": 6, \"Gender\": \"Female\", \"Expenditures\": 1722, \"Ethnicity\": \"White not Hispanic\", \"cohort_order\": null}, {\"Id\": 64083, \"Age Cohort\": \"51+\", \"Age\": 75, \"Gender\": \"Male\", \"Expenditures\": 50261, \"Ethnicity\": \"White not Hispanic\", \"cohort_order\": null}, {\"Id\": 64181, \"Age Cohort\": \"6 to 12\", \"Age\": 8, \"Gender\": \"Male\", \"Expenditures\": 2153, \"Ethnicity\": \"Hispanic\", \"cohort_order\": null}, {\"Id\": 64182, \"Age Cohort\": \"6 to 12\", \"Age\": 12, \"Gender\": \"Male\", \"Expenditures\": 847, \"Ethnicity\": \"Hispanic\", \"cohort_order\": null}, {\"Id\": 64192, \"Age Cohort\": \"51+\", \"Age\": 66, \"Gender\": \"Female\", \"Expenditures\": 50910, \"Ethnicity\": \"White not Hispanic\", \"cohort_order\": null}, {\"Id\": 64319, \"Age Cohort\": \"18 to 21\", \"Age\": 20, \"Gender\": \"Male\", \"Expenditures\": 11470, \"Ethnicity\": \"Hispanic\", \"cohort_order\": null}, {\"Id\": 64421, \"Age Cohort\": \"6 to 12\", \"Age\": 10, \"Gender\": \"Female\", \"Expenditures\": 3584, \"Ethnicity\": \"Black\", \"cohort_order\": null}, {\"Id\": 64429, \"Age Cohort\": \"13 to 17\", \"Age\": 17, \"Gender\": \"Female\", \"Expenditures\": 2722, \"Ethnicity\": \"White not Hispanic\", \"cohort_order\": null}, {\"Id\": 64820, \"Age Cohort\": \"51+\", \"Age\": 63, \"Gender\": \"Male\", \"Expenditures\": 48614, \"Ethnicity\": \"White not Hispanic\", \"cohort_order\": null}, {\"Id\": 64829, \"Age Cohort\": \"18 to 21\", \"Age\": 18, \"Gender\": \"Male\", \"Expenditures\": 6991, \"Ethnicity\": \"White not Hispanic\", \"cohort_order\": null}, {\"Id\": 64899, \"Age Cohort\": \"13 to 17\", \"Age\": 16, \"Gender\": \"Female\", \"Expenditures\": 3698, \"Ethnicity\": \"Hispanic\", \"cohort_order\": null}, {\"Id\": 65036, \"Age Cohort\": \"22 to 50\", \"Age\": 28, \"Gender\": \"Male\", \"Expenditures\": 33278, \"Ethnicity\": \"Asian\", \"cohort_order\": null}, {\"Id\": 65255, \"Age Cohort\": \"51+\", \"Age\": 54, \"Gender\": \"Female\", \"Expenditures\": 50141, \"Ethnicity\": \"Native Hawaiian\", \"cohort_order\": null}, {\"Id\": 65274, \"Age Cohort\": \"0 to 5\", \"Age\": 5, \"Gender\": \"Female\", \"Expenditures\": 2308, \"Ethnicity\": \"Hispanic\", \"cohort_order\": null}, {\"Id\": 65331, \"Age Cohort\": \"13 to 17\", \"Age\": 17, \"Gender\": \"Male\", \"Expenditures\": 4527, \"Ethnicity\": \"Hispanic\", \"cohort_order\": null}, {\"Id\": 65394, \"Age Cohort\": \"6 to 12\", \"Age\": 6, \"Gender\": \"Female\", \"Expenditures\": 1254, \"Ethnicity\": \"Hispanic\", \"cohort_order\": null}, {\"Id\": 65419, \"Age Cohort\": \"13 to 17\", \"Age\": 16, \"Gender\": \"Male\", \"Expenditures\": 4017, \"Ethnicity\": \"White not Hispanic\", \"cohort_order\": null}, {\"Id\": 65431, \"Age Cohort\": \"51+\", \"Age\": 53, \"Gender\": \"Male\", \"Expenditures\": 53457, \"Ethnicity\": \"White not Hispanic\", \"cohort_order\": null}, {\"Id\": 65619, \"Age Cohort\": \"18 to 21\", \"Age\": 20, \"Gender\": \"Male\", \"Expenditures\": 6829, \"Ethnicity\": \"White not Hispanic\", \"cohort_order\": null}, {\"Id\": 65675, \"Age Cohort\": \"6 to 12\", \"Age\": 10, \"Gender\": \"Male\", \"Expenditures\": 1110, \"Ethnicity\": \"Hispanic\", \"cohort_order\": null}, {\"Id\": 65787, \"Age Cohort\": \"13 to 17\", \"Age\": 15, \"Gender\": \"Male\", \"Expenditures\": 3423, \"Ethnicity\": \"Hispanic\", \"cohort_order\": null}, {\"Id\": 65901, \"Age Cohort\": \"6 to 12\", \"Age\": 12, \"Gender\": \"Male\", \"Expenditures\": 1184, \"Ethnicity\": \"Hispanic\", \"cohort_order\": null}, {\"Id\": 65907, \"Age Cohort\": \"6 to 12\", \"Age\": 12, \"Gender\": \"Male\", \"Expenditures\": 1854, \"Ethnicity\": \"Black\", \"cohort_order\": null}, {\"Id\": 66098, \"Age Cohort\": \"6 to 12\", \"Age\": 12, \"Gender\": \"Male\", \"Expenditures\": 1689, \"Ethnicity\": \"Hispanic\", \"cohort_order\": null}, {\"Id\": 66116, \"Age Cohort\": \"18 to 21\", \"Age\": 18, \"Gender\": \"Male\", \"Expenditures\": 10535, \"Ethnicity\": \"Asian\", \"cohort_order\": null}, {\"Id\": 66375, \"Age Cohort\": \"6 to 12\", \"Age\": 10, \"Gender\": \"Male\", \"Expenditures\": 1560, \"Ethnicity\": \"Hispanic\", \"cohort_order\": null}, {\"Id\": 66446, \"Age Cohort\": \"18 to 21\", \"Age\": 18, \"Gender\": \"Male\", \"Expenditures\": 6620, \"Ethnicity\": \"Asian\", \"cohort_order\": null}, {\"Id\": 66577, \"Age Cohort\": \"18 to 21\", \"Age\": 19, \"Gender\": \"Male\", \"Expenditures\": 14729, \"Ethnicity\": \"Hispanic\", \"cohort_order\": null}, {\"Id\": 66734, \"Age Cohort\": \"22 to 50\", \"Age\": 23, \"Gender\": \"Female\", \"Expenditures\": 40394, \"Ethnicity\": \"White not Hispanic\", \"cohort_order\": null}, {\"Id\": 66769, \"Age Cohort\": \"13 to 17\", \"Age\": 17, \"Gender\": \"Male\", \"Expenditures\": 3520, \"Ethnicity\": \"White not Hispanic\", \"cohort_order\": null}, {\"Id\": 66818, \"Age Cohort\": \"18 to 21\", \"Age\": 19, \"Gender\": \"Female\", \"Expenditures\": 14926, \"Ethnicity\": \"Hispanic\", \"cohort_order\": null}, {\"Id\": 66840, \"Age Cohort\": \"22 to 50\", \"Age\": 26, \"Gender\": \"Female\", \"Expenditures\": 44588, \"Ethnicity\": \"White not Hispanic\", \"cohort_order\": null}, {\"Id\": 66841, \"Age Cohort\": \"51+\", \"Age\": 52, \"Gender\": \"Male\", \"Expenditures\": 39536, \"Ethnicity\": \"White not Hispanic\", \"cohort_order\": null}, {\"Id\": 67058, \"Age Cohort\": \"22 to 50\", \"Age\": 24, \"Gender\": \"Female\", \"Expenditures\": 45735, \"Ethnicity\": \"White not Hispanic\", \"cohort_order\": null}, {\"Id\": 67230, \"Age Cohort\": \"6 to 12\", \"Age\": 11, \"Gender\": \"Female\", \"Expenditures\": 2143, \"Ethnicity\": \"Hispanic\", \"cohort_order\": null}, {\"Id\": 67231, \"Age Cohort\": \"22 to 50\", \"Age\": 22, \"Gender\": \"Female\", \"Expenditures\": 44002, \"Ethnicity\": \"White not Hispanic\", \"cohort_order\": null}, {\"Id\": 67248, \"Age Cohort\": \"18 to 21\", \"Age\": 18, \"Gender\": \"Male\", \"Expenditures\": 8511, \"Ethnicity\": \"Hispanic\", \"cohort_order\": null}, {\"Id\": 67343, \"Age Cohort\": \"51+\", \"Age\": 65, \"Gender\": \"Male\", \"Expenditures\": 55442, \"Ethnicity\": \"Black\", \"cohort_order\": null}, {\"Id\": 67403, \"Age Cohort\": \"18 to 21\", \"Age\": 18, \"Gender\": \"Male\", \"Expenditures\": 9846, \"Ethnicity\": \"Asian\", \"cohort_order\": null}, {\"Id\": 67408, \"Age Cohort\": \"22 to 50\", \"Age\": 23, \"Gender\": \"Male\", \"Expenditures\": 49548, \"Ethnicity\": \"Hispanic\", \"cohort_order\": null}, {\"Id\": 67535, \"Age Cohort\": \"6 to 12\", \"Age\": 6, \"Gender\": \"Male\", \"Expenditures\": 2493, \"Ethnicity\": \"Hispanic\", \"cohort_order\": null}, {\"Id\": 67616, \"Age Cohort\": \"18 to 21\", \"Age\": 20, \"Gender\": \"Female\", \"Expenditures\": 13579, \"Ethnicity\": \"Hispanic\", \"cohort_order\": null}, {\"Id\": 67660, \"Age Cohort\": \"22 to 50\", \"Age\": 33, \"Gender\": \"Male\", \"Expenditures\": 44765, \"Ethnicity\": \"White not Hispanic\", \"cohort_order\": null}, {\"Id\": 67740, \"Age Cohort\": \"22 to 50\", \"Age\": 39, \"Gender\": \"Male\", \"Expenditures\": 36621, \"Ethnicity\": \"Hispanic\", \"cohort_order\": null}, {\"Id\": 67805, \"Age Cohort\": \"22 to 50\", \"Age\": 27, \"Gender\": \"Male\", \"Expenditures\": 50301, \"Ethnicity\": \"White not Hispanic\", \"cohort_order\": null}, {\"Id\": 67978, \"Age Cohort\": \"22 to 50\", \"Age\": 27, \"Gender\": \"Female\", \"Expenditures\": 32886, \"Ethnicity\": \"Asian\", \"cohort_order\": null}, {\"Id\": 68112, \"Age Cohort\": \"22 to 50\", \"Age\": 36, \"Gender\": \"Male\", \"Expenditures\": 38400, \"Ethnicity\": \"Black\", \"cohort_order\": null}, {\"Id\": 68296, \"Age Cohort\": \"18 to 21\", \"Age\": 18, \"Gender\": \"Male\", \"Expenditures\": 10299, \"Ethnicity\": \"White not Hispanic\", \"cohort_order\": null}, {\"Id\": 68353, \"Age Cohort\": \"22 to 50\", \"Age\": 25, \"Gender\": \"Male\", \"Expenditures\": 34425, \"Ethnicity\": \"White not Hispanic\", \"cohort_order\": null}, {\"Id\": 68357, \"Age Cohort\": \"22 to 50\", \"Age\": 27, \"Gender\": \"Male\", \"Expenditures\": 38331, \"Ethnicity\": \"White not Hispanic\", \"cohort_order\": null}, {\"Id\": 68378, \"Age Cohort\": \"6 to 12\", \"Age\": 11, \"Gender\": \"Male\", \"Expenditures\": 2498, \"Ethnicity\": \"Hispanic\", \"cohort_order\": null}, {\"Id\": 68507, \"Age Cohort\": \"18 to 21\", \"Age\": 20, \"Gender\": \"Female\", \"Expenditures\": 6771, \"Ethnicity\": \"Asian\", \"cohort_order\": null}, {\"Id\": 68570, \"Age Cohort\": \"18 to 21\", \"Age\": 20, \"Gender\": \"Male\", \"Expenditures\": 12265, \"Ethnicity\": \"Asian\", \"cohort_order\": null}, {\"Id\": 68685, \"Age Cohort\": \"22 to 50\", \"Age\": 27, \"Gender\": \"Male\", \"Expenditures\": 50353, \"Ethnicity\": \"White not Hispanic\", \"cohort_order\": null}, {\"Id\": 68697, \"Age Cohort\": \"13 to 17\", \"Age\": 16, \"Gender\": \"Female\", \"Expenditures\": 2797, \"Ethnicity\": \"Hispanic\", \"cohort_order\": null}, {\"Id\": 68724, \"Age Cohort\": \"6 to 12\", \"Age\": 8, \"Gender\": \"Female\", \"Expenditures\": 1733, \"Ethnicity\": \"Black\", \"cohort_order\": null}, {\"Id\": 68759, \"Age Cohort\": \"6 to 12\", \"Age\": 10, \"Gender\": \"Female\", \"Expenditures\": 992, \"Ethnicity\": \"White not Hispanic\", \"cohort_order\": null}, {\"Id\": 68824, \"Age Cohort\": \"0 to 5\", \"Age\": 5, \"Gender\": \"Female\", \"Expenditures\": 1339, \"Ethnicity\": \"Asian\", \"cohort_order\": null}, {\"Id\": 68830, \"Age Cohort\": \"6 to 12\", \"Age\": 8, \"Gender\": \"Male\", \"Expenditures\": 1594, \"Ethnicity\": \"Asian\", \"cohort_order\": null}, {\"Id\": 68863, \"Age Cohort\": \"13 to 17\", \"Age\": 13, \"Gender\": \"Female\", \"Expenditures\": 3332, \"Ethnicity\": \"White not Hispanic\", \"cohort_order\": null}, {\"Id\": 68944, \"Age Cohort\": \"13 to 17\", \"Age\": 13, \"Gender\": \"Male\", \"Expenditures\": 4963, \"Ethnicity\": \"Hispanic\", \"cohort_order\": null}, {\"Id\": 68956, \"Age Cohort\": \"6 to 12\", \"Age\": 8, \"Gender\": \"Female\", \"Expenditures\": 1417, \"Ethnicity\": \"Hispanic\", \"cohort_order\": null}, {\"Id\": 69156, \"Age Cohort\": \"18 to 21\", \"Age\": 18, \"Gender\": \"Female\", \"Expenditures\": 10969, \"Ethnicity\": \"White not Hispanic\", \"cohort_order\": null}, {\"Id\": 69282, \"Age Cohort\": \"6 to 12\", \"Age\": 9, \"Gender\": \"Male\", \"Expenditures\": 2643, \"Ethnicity\": \"Hispanic\", \"cohort_order\": null}, {\"Id\": 69499, \"Age Cohort\": \"18 to 21\", \"Age\": 20, \"Gender\": \"Male\", \"Expenditures\": 10976, \"Ethnicity\": \"Asian\", \"cohort_order\": null}, {\"Id\": 69542, \"Age Cohort\": \"0 to 5\", \"Age\": 5, \"Gender\": \"Female\", \"Expenditures\": 1053, \"Ethnicity\": \"Multi Race\", \"cohort_order\": null}, {\"Id\": 69581, \"Age Cohort\": \"6 to 12\", \"Age\": 7, \"Gender\": \"Female\", \"Expenditures\": 1903, \"Ethnicity\": \"Hispanic\", \"cohort_order\": null}, {\"Id\": 69608, \"Age Cohort\": \"13 to 17\", \"Age\": 16, \"Gender\": \"Male\", \"Expenditures\": 2760, \"Ethnicity\": \"Hispanic\", \"cohort_order\": null}, {\"Id\": 69614, \"Age Cohort\": \"18 to 21\", \"Age\": 18, \"Gender\": \"Female\", \"Expenditures\": 8567, \"Ethnicity\": \"White not Hispanic\", \"cohort_order\": null}, {\"Id\": 69616, \"Age Cohort\": \"18 to 21\", \"Age\": 21, \"Gender\": \"Female\", \"Expenditures\": 12172, \"Ethnicity\": \"White not Hispanic\", \"cohort_order\": null}, {\"Id\": 69726, \"Age Cohort\": \"18 to 21\", \"Age\": 19, \"Gender\": \"Female\", \"Expenditures\": 6690, \"Ethnicity\": \"Hispanic\", \"cohort_order\": null}, {\"Id\": 69933, \"Age Cohort\": \"18 to 21\", \"Age\": 19, \"Gender\": \"Female\", \"Expenditures\": 11629, \"Ethnicity\": \"Hispanic\", \"cohort_order\": null}, {\"Id\": 70035, \"Age Cohort\": \"22 to 50\", \"Age\": 30, \"Gender\": \"Female\", \"Expenditures\": 40727, \"Ethnicity\": \"Native Hawaiian\", \"cohort_order\": null}, {\"Id\": 70210, \"Age Cohort\": \"13 to 17\", \"Age\": 17, \"Gender\": \"Female\", \"Expenditures\": 5055, \"Ethnicity\": \"Hispanic\", \"cohort_order\": null}, {\"Id\": 70230, \"Age Cohort\": \"13 to 17\", \"Age\": 17, \"Gender\": \"Male\", \"Expenditures\": 3052, \"Ethnicity\": \"White not Hispanic\", \"cohort_order\": null}, {\"Id\": 70244, \"Age Cohort\": \"22 to 50\", \"Age\": 39, \"Gender\": \"Female\", \"Expenditures\": 56716, \"Ethnicity\": \"White not Hispanic\", \"cohort_order\": null}, {\"Id\": 70290, \"Age Cohort\": \"13 to 17\", \"Age\": 15, \"Gender\": \"Male\", \"Expenditures\": 3911, \"Ethnicity\": \"Hispanic\", \"cohort_order\": null}, {\"Id\": 70594, \"Age Cohort\": \"13 to 17\", \"Age\": 14, \"Gender\": \"Female\", \"Expenditures\": 3060, \"Ethnicity\": \"Asian\", \"cohort_order\": null}, {\"Id\": 70609, \"Age Cohort\": \"18 to 21\", \"Age\": 18, \"Gender\": \"Male\", \"Expenditures\": 3225, \"Ethnicity\": \"Hispanic\", \"cohort_order\": null}, {\"Id\": 70727, \"Age Cohort\": \"18 to 21\", \"Age\": 20, \"Gender\": \"Male\", \"Expenditures\": 11242, \"Ethnicity\": \"White not Hispanic\", \"cohort_order\": null}, {\"Id\": 70807, \"Age Cohort\": \"13 to 17\", \"Age\": 17, \"Gender\": \"Male\", \"Expenditures\": 4152, \"Ethnicity\": \"Hispanic\", \"cohort_order\": null}, {\"Id\": 70929, \"Age Cohort\": \"18 to 21\", \"Age\": 19, \"Gender\": \"Female\", \"Expenditures\": 7805, \"Ethnicity\": \"Hispanic\", \"cohort_order\": null}, {\"Id\": 71045, \"Age Cohort\": \"13 to 17\", \"Age\": 15, \"Gender\": \"Male\", \"Expenditures\": 3702, \"Ethnicity\": \"Hispanic\", \"cohort_order\": null}, {\"Id\": 71073, \"Age Cohort\": \"13 to 17\", \"Age\": 14, \"Gender\": \"Female\", \"Expenditures\": 5062, \"Ethnicity\": \"Multi Race\", \"cohort_order\": null}, {\"Id\": 71233, \"Age Cohort\": \"6 to 12\", \"Age\": 9, \"Gender\": \"Female\", \"Expenditures\": 1690, \"Ethnicity\": \"White not Hispanic\", \"cohort_order\": null}, {\"Id\": 71271, \"Age Cohort\": \"22 to 50\", \"Age\": 27, \"Gender\": \"Female\", \"Expenditures\": 39454, \"Ethnicity\": \"Asian\", \"cohort_order\": null}, {\"Id\": 71346, \"Age Cohort\": \"51+\", \"Age\": 53, \"Gender\": \"Male\", \"Expenditures\": 49380, \"Ethnicity\": \"White not Hispanic\", \"cohort_order\": null}, {\"Id\": 71422, \"Age Cohort\": \"18 to 21\", \"Age\": 20, \"Gender\": \"Female\", \"Expenditures\": 16677, \"Ethnicity\": \"Hispanic\", \"cohort_order\": null}, {\"Id\": 71440, \"Age Cohort\": \"13 to 17\", \"Age\": 13, \"Gender\": \"Male\", \"Expenditures\": 3395, \"Ethnicity\": \"Hispanic\", \"cohort_order\": null}, {\"Id\": 71526, \"Age Cohort\": \"51+\", \"Age\": 65, \"Gender\": \"Female\", \"Expenditures\": 54874, \"Ethnicity\": \"White not Hispanic\", \"cohort_order\": null}, {\"Id\": 71763, \"Age Cohort\": \"6 to 12\", \"Age\": 6, \"Gender\": \"Female\", \"Expenditures\": 3099, \"Ethnicity\": \"Hispanic\", \"cohort_order\": null}, {\"Id\": 71846, \"Age Cohort\": \"13 to 17\", \"Age\": 17, \"Gender\": \"Female\", \"Expenditures\": 3088, \"Ethnicity\": \"Hispanic\", \"cohort_order\": null}, {\"Id\": 71847, \"Age Cohort\": \"18 to 21\", \"Age\": 18, \"Gender\": \"Male\", \"Expenditures\": 14221, \"Ethnicity\": \"Hispanic\", \"cohort_order\": null}, {\"Id\": 71928, \"Age Cohort\": \"18 to 21\", \"Age\": 20, \"Gender\": \"Male\", \"Expenditures\": 12392, \"Ethnicity\": \"Asian\", \"cohort_order\": null}, {\"Id\": 71969, \"Age Cohort\": \"13 to 17\", \"Age\": 16, \"Gender\": \"Male\", \"Expenditures\": 4166, \"Ethnicity\": \"Black\", \"cohort_order\": null}, {\"Id\": 72028, \"Age Cohort\": \"18 to 21\", \"Age\": 19, \"Gender\": \"Female\", \"Expenditures\": 11032, \"Ethnicity\": \"White not Hispanic\", \"cohort_order\": null}, {\"Id\": 72101, \"Age Cohort\": \"22 to 50\", \"Age\": 34, \"Gender\": \"Male\", \"Expenditures\": 40546, \"Ethnicity\": \"White not Hispanic\", \"cohort_order\": null}, {\"Id\": 72341, \"Age Cohort\": \"6 to 12\", \"Age\": 6, \"Gender\": \"Male\", \"Expenditures\": 2597, \"Ethnicity\": \"Asian\", \"cohort_order\": null}, {\"Id\": 72365, \"Age Cohort\": \"18 to 21\", \"Age\": 19, \"Gender\": \"Male\", \"Expenditures\": 11068, \"Ethnicity\": \"White not Hispanic\", \"cohort_order\": null}, {\"Id\": 72418, \"Age Cohort\": \"6 to 12\", \"Age\": 9, \"Gender\": \"Female\", \"Expenditures\": 2634, \"Ethnicity\": \"Hispanic\", \"cohort_order\": null}, {\"Id\": 72424, \"Age Cohort\": \"22 to 50\", \"Age\": 34, \"Gender\": \"Female\", \"Expenditures\": 45409, \"Ethnicity\": \"Hispanic\", \"cohort_order\": null}, {\"Id\": 72511, \"Age Cohort\": \"51+\", \"Age\": 56, \"Gender\": \"Male\", \"Expenditures\": 52618, \"Ethnicity\": \"Black\", \"cohort_order\": null}, {\"Id\": 72593, \"Age Cohort\": \"22 to 50\", \"Age\": 22, \"Gender\": \"Female\", \"Expenditures\": 31853, \"Ethnicity\": \"Black\", \"cohort_order\": null}, {\"Id\": 72606, \"Age Cohort\": \"18 to 21\", \"Age\": 18, \"Gender\": \"Female\", \"Expenditures\": 3829, \"Ethnicity\": \"Hispanic\", \"cohort_order\": null}, {\"Id\": 72613, \"Age Cohort\": \"18 to 21\", \"Age\": 21, \"Gender\": \"Female\", \"Expenditures\": 7166, \"Ethnicity\": \"White not Hispanic\", \"cohort_order\": null}, {\"Id\": 72729, \"Age Cohort\": \"13 to 17\", \"Age\": 16, \"Gender\": \"Male\", \"Expenditures\": 4615, \"Ethnicity\": \"Other\", \"cohort_order\": null}, {\"Id\": 72808, \"Age Cohort\": \"18 to 21\", \"Age\": 18, \"Gender\": \"Male\", \"Expenditures\": 11282, \"Ethnicity\": \"Asian\", \"cohort_order\": null}, {\"Id\": 72893, \"Age Cohort\": \"13 to 17\", \"Age\": 16, \"Gender\": \"Female\", \"Expenditures\": 3060, \"Ethnicity\": \"Hispanic\", \"cohort_order\": null}, {\"Id\": 72903, \"Age Cohort\": \"0 to 5\", \"Age\": 5, \"Gender\": \"Female\", \"Expenditures\": 1702, \"Ethnicity\": \"Hispanic\", \"cohort_order\": null}, {\"Id\": 72982, \"Age Cohort\": \"18 to 21\", \"Age\": 21, \"Gender\": \"Male\", \"Expenditures\": 6977, \"Ethnicity\": \"Hispanic\", \"cohort_order\": null}, {\"Id\": 73085, \"Age Cohort\": \"18 to 21\", \"Age\": 20, \"Gender\": \"Male\", \"Expenditures\": 10898, \"Ethnicity\": \"White not Hispanic\", \"cohort_order\": null}, {\"Id\": 73176, \"Age Cohort\": \"13 to 17\", \"Age\": 13, \"Gender\": \"Male\", \"Expenditures\": 3419, \"Ethnicity\": \"Asian\", \"cohort_order\": null}, {\"Id\": 73402, \"Age Cohort\": \"13 to 17\", \"Age\": 14, \"Gender\": \"Female\", \"Expenditures\": 3633, \"Ethnicity\": \"Hispanic\", \"cohort_order\": null}, {\"Id\": 73569, \"Age Cohort\": \"18 to 21\", \"Age\": 18, \"Gender\": \"Female\", \"Expenditures\": 12603, \"Ethnicity\": \"Hispanic\", \"cohort_order\": null}, {\"Id\": 73713, \"Age Cohort\": \"51+\", \"Age\": 62, \"Gender\": \"Female\", \"Expenditures\": 50219, \"Ethnicity\": \"White not Hispanic\", \"cohort_order\": null}, {\"Id\": 73750, \"Age Cohort\": \"6 to 12\", \"Age\": 8, \"Gender\": \"Male\", \"Expenditures\": 2261, \"Ethnicity\": \"Black\", \"cohort_order\": null}, {\"Id\": 73758, \"Age Cohort\": \"6 to 12\", \"Age\": 6, \"Gender\": \"Male\", \"Expenditures\": 3203, \"Ethnicity\": \"Hispanic\", \"cohort_order\": null}, {\"Id\": 73772, \"Age Cohort\": \"22 to 50\", \"Age\": 35, \"Gender\": \"Female\", \"Expenditures\": 42329, \"Ethnicity\": \"White not Hispanic\", \"cohort_order\": null}, {\"Id\": 73907, \"Age Cohort\": \"6 to 12\", \"Age\": 8, \"Gender\": \"Female\", \"Expenditures\": 1609, \"Ethnicity\": \"Hispanic\", \"cohort_order\": null}, {\"Id\": 74044, \"Age Cohort\": \"18 to 21\", \"Age\": 18, \"Gender\": \"Male\", \"Expenditures\": 11176, \"Ethnicity\": \"Hispanic\", \"cohort_order\": null}, {\"Id\": 74146, \"Age Cohort\": \"18 to 21\", \"Age\": 19, \"Gender\": \"Female\", \"Expenditures\": 8398, \"Ethnicity\": \"White not Hispanic\", \"cohort_order\": null}, {\"Id\": 74185, \"Age Cohort\": \"6 to 12\", \"Age\": 7, \"Gender\": \"Male\", \"Expenditures\": 1728, \"Ethnicity\": \"White not Hispanic\", \"cohort_order\": null}, {\"Id\": 74272, \"Age Cohort\": \"18 to 21\", \"Age\": 19, \"Gender\": \"Male\", \"Expenditures\": 11180, \"Ethnicity\": \"Hispanic\", \"cohort_order\": null}, {\"Id\": 74463, \"Age Cohort\": \"22 to 50\", \"Age\": 27, \"Gender\": \"Female\", \"Expenditures\": 28581, \"Ethnicity\": \"Asian\", \"cohort_order\": null}, {\"Id\": 74521, \"Age Cohort\": \"6 to 12\", \"Age\": 12, \"Gender\": \"Male\", \"Expenditures\": 1416, \"Ethnicity\": \"Hispanic\", \"cohort_order\": null}, {\"Id\": 74523, \"Age Cohort\": \"13 to 17\", \"Age\": 15, \"Gender\": \"Male\", \"Expenditures\": 3677, \"Ethnicity\": \"Hispanic\", \"cohort_order\": null}, {\"Id\": 74683, \"Age Cohort\": \"13 to 17\", \"Age\": 15, \"Gender\": \"Male\", \"Expenditures\": 4616, \"Ethnicity\": \"White not Hispanic\", \"cohort_order\": null}, {\"Id\": 74721, \"Age Cohort\": \"51+\", \"Age\": 90, \"Gender\": \"Female\", \"Expenditures\": 58392, \"Ethnicity\": \"American Indian\", \"cohort_order\": null}, {\"Id\": 74878, \"Age Cohort\": \"6 to 12\", \"Age\": 9, \"Gender\": \"Male\", \"Expenditures\": 1661, \"Ethnicity\": \"Hispanic\", \"cohort_order\": null}, {\"Id\": 74891, \"Age Cohort\": \"0 to 5\", \"Age\": 5, \"Gender\": \"Female\", \"Expenditures\": 1611, \"Ethnicity\": \"Black\", \"cohort_order\": null}, {\"Id\": 74906, \"Age Cohort\": \"18 to 21\", \"Age\": 21, \"Gender\": \"Male\", \"Expenditures\": 9363, \"Ethnicity\": \"White not Hispanic\", \"cohort_order\": null}, {\"Id\": 74924, \"Age Cohort\": \"13 to 17\", \"Age\": 17, \"Gender\": \"Female\", \"Expenditures\": 5347, \"Ethnicity\": \"Hispanic\", \"cohort_order\": null}, {\"Id\": 74925, \"Age Cohort\": \"13 to 17\", \"Age\": 14, \"Gender\": \"Female\", \"Expenditures\": 4378, \"Ethnicity\": \"Hispanic\", \"cohort_order\": null}, {\"Id\": 74970, \"Age Cohort\": \"18 to 21\", \"Age\": 20, \"Gender\": \"Female\", \"Expenditures\": 10815, \"Ethnicity\": \"White not Hispanic\", \"cohort_order\": null}, {\"Id\": 75037, \"Age Cohort\": \"6 to 12\", \"Age\": 10, \"Gender\": \"Female\", \"Expenditures\": 2368, \"Ethnicity\": \"White not Hispanic\", \"cohort_order\": null}, {\"Id\": 75049, \"Age Cohort\": \"22 to 50\", \"Age\": 30, \"Gender\": \"Female\", \"Expenditures\": 40572, \"Ethnicity\": \"Hispanic\", \"cohort_order\": null}, {\"Id\": 75122, \"Age Cohort\": \"51+\", \"Age\": 72, \"Gender\": \"Female\", \"Expenditures\": 50198, \"Ethnicity\": \"White not Hispanic\", \"cohort_order\": null}, {\"Id\": 75138, \"Age Cohort\": \"6 to 12\", \"Age\": 11, \"Gender\": \"Male\", \"Expenditures\": 793, \"Ethnicity\": \"Hispanic\", \"cohort_order\": null}, {\"Id\": 75140, \"Age Cohort\": \"13 to 17\", \"Age\": 14, \"Gender\": \"Male\", \"Expenditures\": 2551, \"Ethnicity\": \"White not Hispanic\", \"cohort_order\": null}, {\"Id\": 75193, \"Age Cohort\": \"18 to 21\", \"Age\": 19, \"Gender\": \"Female\", \"Expenditures\": 8804, \"Ethnicity\": \"White not Hispanic\", \"cohort_order\": null}, {\"Id\": 75607, \"Age Cohort\": \"6 to 12\", \"Age\": 10, \"Gender\": \"Female\", \"Expenditures\": 2865, \"Ethnicity\": \"Hispanic\", \"cohort_order\": null}, {\"Id\": 75696, \"Age Cohort\": \"0 to 5\", \"Age\": 3, \"Gender\": \"Female\", \"Expenditures\": 1167, \"Ethnicity\": \"Hispanic\", \"cohort_order\": null}, {\"Id\": 75753, \"Age Cohort\": \"13 to 17\", \"Age\": 13, \"Gender\": \"Female\", \"Expenditures\": 5098, \"Ethnicity\": \"White not Hispanic\", \"cohort_order\": null}, {\"Id\": 75806, \"Age Cohort\": \"13 to 17\", \"Age\": 15, \"Gender\": \"Male\", \"Expenditures\": 5304, \"Ethnicity\": \"Hispanic\", \"cohort_order\": null}, {\"Id\": 75960, \"Age Cohort\": \"22 to 50\", \"Age\": 36, \"Gender\": \"Male\", \"Expenditures\": 38246, \"Ethnicity\": \"White not Hispanic\", \"cohort_order\": null}, {\"Id\": 76011, \"Age Cohort\": \"6 to 12\", \"Age\": 12, \"Gender\": \"Male\", \"Expenditures\": 1776, \"Ethnicity\": \"Hispanic\", \"cohort_order\": null}, {\"Id\": 76065, \"Age Cohort\": \"18 to 21\", \"Age\": 20, \"Gender\": \"Female\", \"Expenditures\": 15711, \"Ethnicity\": \"Hispanic\", \"cohort_order\": null}, {\"Id\": 76344, \"Age Cohort\": \"6 to 12\", \"Age\": 12, \"Gender\": \"Male\", \"Expenditures\": 3704, \"Ethnicity\": \"Hispanic\", \"cohort_order\": null}, {\"Id\": 76353, \"Age Cohort\": \"51+\", \"Age\": 66, \"Gender\": \"Male\", \"Expenditures\": 47006, \"Ethnicity\": \"White not Hispanic\", \"cohort_order\": null}, {\"Id\": 76461, \"Age Cohort\": \"13 to 17\", \"Age\": 13, \"Gender\": \"Male\", \"Expenditures\": 4710, \"Ethnicity\": \"Asian\", \"cohort_order\": null}, {\"Id\": 76518, \"Age Cohort\": \"51+\", \"Age\": 88, \"Gender\": \"Female\", \"Expenditures\": 56415, \"Ethnicity\": \"White not Hispanic\", \"cohort_order\": null}, {\"Id\": 76533, \"Age Cohort\": \"18 to 21\", \"Age\": 18, \"Gender\": \"Male\", \"Expenditures\": 11240, \"Ethnicity\": \"White not Hispanic\", \"cohort_order\": null}, {\"Id\": 76547, \"Age Cohort\": \"51+\", \"Age\": 79, \"Gender\": \"Female\", \"Expenditures\": 58469, \"Ethnicity\": \"White not Hispanic\", \"cohort_order\": null}, {\"Id\": 76701, \"Age Cohort\": \"13 to 17\", \"Age\": 14, \"Gender\": \"Male\", \"Expenditures\": 4842, \"Ethnicity\": \"White not Hispanic\", \"cohort_order\": null}, {\"Id\": 76737, \"Age Cohort\": \"13 to 17\", \"Age\": 14, \"Gender\": \"Male\", \"Expenditures\": 2701, \"Ethnicity\": \"White not Hispanic\", \"cohort_order\": null}, {\"Id\": 76776, \"Age Cohort\": \"51+\", \"Age\": 90, \"Gender\": \"Female\", \"Expenditures\": 57845, \"Ethnicity\": \"White not Hispanic\", \"cohort_order\": null}, {\"Id\": 76834, \"Age Cohort\": \"18 to 21\", \"Age\": 21, \"Gender\": \"Male\", \"Expenditures\": 6482, \"Ethnicity\": \"White not Hispanic\", \"cohort_order\": null}, {\"Id\": 76865, \"Age Cohort\": \"18 to 21\", \"Age\": 20, \"Gender\": \"Male\", \"Expenditures\": 9162, \"Ethnicity\": \"Hispanic\", \"cohort_order\": null}, {\"Id\": 76990, \"Age Cohort\": \"18 to 21\", \"Age\": 21, \"Gender\": \"Female\", \"Expenditures\": 12552, \"Ethnicity\": \"White not Hispanic\", \"cohort_order\": null}, {\"Id\": 77021, \"Age Cohort\": \"22 to 50\", \"Age\": 32, \"Gender\": \"Male\", \"Expenditures\": 30791, \"Ethnicity\": \"White not Hispanic\", \"cohort_order\": null}, {\"Id\": 77155, \"Age Cohort\": \"18 to 21\", \"Age\": 19, \"Gender\": \"Female\", \"Expenditures\": 9341, \"Ethnicity\": \"Hispanic\", \"cohort_order\": null}, {\"Id\": 77193, \"Age Cohort\": \"22 to 50\", \"Age\": 30, \"Gender\": \"Male\", \"Expenditures\": 48121, \"Ethnicity\": \"Hispanic\", \"cohort_order\": null}, {\"Id\": 77349, \"Age Cohort\": \"13 to 17\", \"Age\": 16, \"Gender\": \"Male\", \"Expenditures\": 3047, \"Ethnicity\": \"White not Hispanic\", \"cohort_order\": null}, {\"Id\": 77450, \"Age Cohort\": \"18 to 21\", \"Age\": 18, \"Gender\": \"Male\", \"Expenditures\": 3707, \"Ethnicity\": \"Asian\", \"cohort_order\": null}, {\"Id\": 77463, \"Age Cohort\": \"51+\", \"Age\": 71, \"Gender\": \"Female\", \"Expenditures\": 52421, \"Ethnicity\": \"Asian\", \"cohort_order\": null}, {\"Id\": 77587, \"Age Cohort\": \"18 to 21\", \"Age\": 18, \"Gender\": \"Female\", \"Expenditures\": 18435, \"Ethnicity\": \"Asian\", \"cohort_order\": null}, {\"Id\": 77596, \"Age Cohort\": \"22 to 50\", \"Age\": 24, \"Gender\": \"Male\", \"Expenditures\": 37367, \"Ethnicity\": \"Hispanic\", \"cohort_order\": null}, {\"Id\": 77607, \"Age Cohort\": \"13 to 17\", \"Age\": 15, \"Gender\": \"Female\", \"Expenditures\": 4260, \"Ethnicity\": \"Hispanic\", \"cohort_order\": null}, {\"Id\": 77654, \"Age Cohort\": \"0 to 5\", \"Age\": 0, \"Gender\": \"Female\", \"Expenditures\": 1458, \"Ethnicity\": \"Hispanic\", \"cohort_order\": null}, {\"Id\": 77715, \"Age Cohort\": \"18 to 21\", \"Age\": 20, \"Gender\": \"Male\", \"Expenditures\": 12234, \"Ethnicity\": \"Asian\", \"cohort_order\": null}, {\"Id\": 77829, \"Age Cohort\": \"22 to 50\", \"Age\": 39, \"Gender\": \"Male\", \"Expenditures\": 33259, \"Ethnicity\": \"White not Hispanic\", \"cohort_order\": null}, {\"Id\": 77916, \"Age Cohort\": \"6 to 12\", \"Age\": 6, \"Gender\": \"Female\", \"Expenditures\": 1804, \"Ethnicity\": \"Hispanic\", \"cohort_order\": null}, {\"Id\": 77933, \"Age Cohort\": \"51+\", \"Age\": 51, \"Gender\": \"Female\", \"Expenditures\": 52105, \"Ethnicity\": \"White not Hispanic\", \"cohort_order\": null}, {\"Id\": 78026, \"Age Cohort\": \"6 to 12\", \"Age\": 10, \"Gender\": \"Female\", \"Expenditures\": 1934, \"Ethnicity\": \"Hispanic\", \"cohort_order\": null}, {\"Id\": 78221, \"Age Cohort\": \"22 to 50\", \"Age\": 30, \"Gender\": \"Male\", \"Expenditures\": 40268, \"Ethnicity\": \"White not Hispanic\", \"cohort_order\": null}, {\"Id\": 78254, \"Age Cohort\": \"22 to 50\", \"Age\": 23, \"Gender\": \"Male\", \"Expenditures\": 37479, \"Ethnicity\": \"Native Hawaiian\", \"cohort_order\": null}, {\"Id\": 78364, \"Age Cohort\": \"51+\", \"Age\": 75, \"Gender\": \"Female\", \"Expenditures\": 65581, \"Ethnicity\": \"Hispanic\", \"cohort_order\": null}, {\"Id\": 78374, \"Age Cohort\": \"51+\", \"Age\": 66, \"Gender\": \"Male\", \"Expenditures\": 42160, \"Ethnicity\": \"White not Hispanic\", \"cohort_order\": null}, {\"Id\": 78383, \"Age Cohort\": \"6 to 12\", \"Age\": 7, \"Gender\": \"Female\", \"Expenditures\": 3125, \"Ethnicity\": \"Black\", \"cohort_order\": null}, {\"Id\": 78532, \"Age Cohort\": \"18 to 21\", \"Age\": 21, \"Gender\": \"Female\", \"Expenditures\": 7683, \"Ethnicity\": \"Asian\", \"cohort_order\": null}, {\"Id\": 78612, \"Age Cohort\": \"22 to 50\", \"Age\": 35, \"Gender\": \"Female\", \"Expenditures\": 33070, \"Ethnicity\": \"White not Hispanic\", \"cohort_order\": null}, {\"Id\": 78803, \"Age Cohort\": \"22 to 50\", \"Age\": 32, \"Gender\": \"Male\", \"Expenditures\": 32704, \"Ethnicity\": \"White not Hispanic\", \"cohort_order\": null}, {\"Id\": 79152, \"Age Cohort\": \"18 to 21\", \"Age\": 21, \"Gender\": \"Male\", \"Expenditures\": 11491, \"Ethnicity\": \"Black\", \"cohort_order\": null}, {\"Id\": 79204, \"Age Cohort\": \"18 to 21\", \"Age\": 19, \"Gender\": \"Male\", \"Expenditures\": 5303, \"Ethnicity\": \"White not Hispanic\", \"cohort_order\": null}, {\"Id\": 79379, \"Age Cohort\": \"22 to 50\", \"Age\": 25, \"Gender\": \"Female\", \"Expenditures\": 46437, \"Ethnicity\": \"Hispanic\", \"cohort_order\": null}, {\"Id\": 79645, \"Age Cohort\": \"22 to 50\", \"Age\": 32, \"Gender\": \"Male\", \"Expenditures\": 28205, \"Ethnicity\": \"American Indian\", \"cohort_order\": null}, {\"Id\": 79659, \"Age Cohort\": \"0 to 5\", \"Age\": 0, \"Gender\": \"Female\", \"Expenditures\": 1704, \"Ethnicity\": \"White not Hispanic\", \"cohort_order\": null}, {\"Id\": 79711, \"Age Cohort\": \"22 to 50\", \"Age\": 31, \"Gender\": \"Male\", \"Expenditures\": 33051, \"Ethnicity\": \"White not Hispanic\", \"cohort_order\": null}, {\"Id\": 79930, \"Age Cohort\": \"22 to 50\", \"Age\": 23, \"Gender\": \"Male\", \"Expenditures\": 50542, \"Ethnicity\": \"Asian\", \"cohort_order\": null}, {\"Id\": 80142, \"Age Cohort\": \"22 to 50\", \"Age\": 27, \"Gender\": \"Male\", \"Expenditures\": 37708, \"Ethnicity\": \"Hispanic\", \"cohort_order\": null}, {\"Id\": 80225, \"Age Cohort\": \"6 to 12\", \"Age\": 6, \"Gender\": \"Female\", \"Expenditures\": 987, \"Ethnicity\": \"Hispanic\", \"cohort_order\": null}, {\"Id\": 80338, \"Age Cohort\": \"6 to 12\", \"Age\": 10, \"Gender\": \"Female\", \"Expenditures\": 1590, \"Ethnicity\": \"Hispanic\", \"cohort_order\": null}, {\"Id\": 80426, \"Age Cohort\": \"18 to 21\", \"Age\": 19, \"Gender\": \"Female\", \"Expenditures\": 15527, \"Ethnicity\": \"White not Hispanic\", \"cohort_order\": null}, {\"Id\": 80439, \"Age Cohort\": \"13 to 17\", \"Age\": 17, \"Gender\": \"Female\", \"Expenditures\": 4496, \"Ethnicity\": \"Hispanic\", \"cohort_order\": null}, {\"Id\": 80464, \"Age Cohort\": \"18 to 21\", \"Age\": 20, \"Gender\": \"Female\", \"Expenditures\": 13264, \"Ethnicity\": \"Asian\", \"cohort_order\": null}, {\"Id\": 80529, \"Age Cohort\": \"6 to 12\", \"Age\": 8, \"Gender\": \"Female\", \"Expenditures\": 2459, \"Ethnicity\": \"White not Hispanic\", \"cohort_order\": null}, {\"Id\": 80534, \"Age Cohort\": \"51+\", \"Age\": 71, \"Gender\": \"Male\", \"Expenditures\": 58594, \"Ethnicity\": \"Black\", \"cohort_order\": null}, {\"Id\": 80636, \"Age Cohort\": \"18 to 21\", \"Age\": 21, \"Gender\": \"Male\", \"Expenditures\": 13468, \"Ethnicity\": \"Hispanic\", \"cohort_order\": null}, {\"Id\": 80688, \"Age Cohort\": \"22 to 50\", \"Age\": 22, \"Gender\": \"Female\", \"Expenditures\": 40240, \"Ethnicity\": \"Asian\", \"cohort_order\": null}, {\"Id\": 80955, \"Age Cohort\": \"6 to 12\", \"Age\": 11, \"Gender\": \"Male\", \"Expenditures\": 2727, \"Ethnicity\": \"White not Hispanic\", \"cohort_order\": null}, {\"Id\": 81195, \"Age Cohort\": \"18 to 21\", \"Age\": 21, \"Gender\": \"Male\", \"Expenditures\": 9923, \"Ethnicity\": \"Asian\", \"cohort_order\": null}, {\"Id\": 81203, \"Age Cohort\": \"22 to 50\", \"Age\": 37, \"Gender\": \"Male\", \"Expenditures\": 41550, \"Ethnicity\": \"White not Hispanic\", \"cohort_order\": null}, {\"Id\": 81394, \"Age Cohort\": \"22 to 50\", \"Age\": 23, \"Gender\": \"Male\", \"Expenditures\": 36521, \"Ethnicity\": \"White not Hispanic\", \"cohort_order\": null}, {\"Id\": 81488, \"Age Cohort\": \"6 to 12\", \"Age\": 11, \"Gender\": \"Female\", \"Expenditures\": 1905, \"Ethnicity\": \"Hispanic\", \"cohort_order\": null}, {\"Id\": 81512, \"Age Cohort\": \"18 to 21\", \"Age\": 20, \"Gender\": \"Female\", \"Expenditures\": 7237, \"Ethnicity\": \"White not Hispanic\", \"cohort_order\": null}, {\"Id\": 81530, \"Age Cohort\": \"22 to 50\", \"Age\": 22, \"Gender\": \"Male\", \"Expenditures\": 28061, \"Ethnicity\": \"Black\", \"cohort_order\": null}, {\"Id\": 81669, \"Age Cohort\": \"22 to 50\", \"Age\": 24, \"Gender\": \"Female\", \"Expenditures\": 42746, \"Ethnicity\": \"White not Hispanic\", \"cohort_order\": null}, {\"Id\": 81703, \"Age Cohort\": \"22 to 50\", \"Age\": 26, \"Gender\": \"Male\", \"Expenditures\": 34915, \"Ethnicity\": \"White not Hispanic\", \"cohort_order\": null}, {\"Id\": 81816, \"Age Cohort\": \"18 to 21\", \"Age\": 18, \"Gender\": \"Female\", \"Expenditures\": 7144, \"Ethnicity\": \"White not Hispanic\", \"cohort_order\": null}, {\"Id\": 81823, \"Age Cohort\": \"13 to 17\", \"Age\": 15, \"Gender\": \"Female\", \"Expenditures\": 3251, \"Ethnicity\": \"Hispanic\", \"cohort_order\": null}, {\"Id\": 81913, \"Age Cohort\": \"22 to 50\", \"Age\": 30, \"Gender\": \"Male\", \"Expenditures\": 42070, \"Ethnicity\": \"Hispanic\", \"cohort_order\": null}, {\"Id\": 81916, \"Age Cohort\": \"22 to 50\", \"Age\": 23, \"Gender\": \"Male\", \"Expenditures\": 40159, \"Ethnicity\": \"Hispanic\", \"cohort_order\": null}, {\"Id\": 82022, \"Age Cohort\": \"22 to 50\", \"Age\": 22, \"Gender\": \"Male\", \"Expenditures\": 37201, \"Ethnicity\": \"White not Hispanic\", \"cohort_order\": null}, {\"Id\": 82126, \"Age Cohort\": \"51+\", \"Age\": 53, \"Gender\": \"Male\", \"Expenditures\": 50176, \"Ethnicity\": \"Hispanic\", \"cohort_order\": null}, {\"Id\": 82186, \"Age Cohort\": \"6 to 12\", \"Age\": 7, \"Gender\": \"Male\", \"Expenditures\": 1691, \"Ethnicity\": \"Asian\", \"cohort_order\": null}, {\"Id\": 82230, \"Age Cohort\": \"22 to 50\", \"Age\": 29, \"Gender\": \"Female\", \"Expenditures\": 46356, \"Ethnicity\": \"White not Hispanic\", \"cohort_order\": null}, {\"Id\": 82254, \"Age Cohort\": \"22 to 50\", \"Age\": 33, \"Gender\": \"Male\", \"Expenditures\": 38762, \"Ethnicity\": \"White not Hispanic\", \"cohort_order\": null}, {\"Id\": 82355, \"Age Cohort\": \"51+\", \"Age\": 72, \"Gender\": \"Male\", \"Expenditures\": 60808, \"Ethnicity\": \"Black\", \"cohort_order\": null}, {\"Id\": 82582, \"Age Cohort\": \"51+\", \"Age\": 62, \"Gender\": \"Male\", \"Expenditures\": 47709, \"Ethnicity\": \"White not Hispanic\", \"cohort_order\": null}, {\"Id\": 82743, \"Age Cohort\": \"18 to 21\", \"Age\": 18, \"Gender\": \"Female\", \"Expenditures\": 10439, \"Ethnicity\": \"Hispanic\", \"cohort_order\": null}, {\"Id\": 82904, \"Age Cohort\": \"18 to 21\", \"Age\": 20, \"Gender\": \"Female\", \"Expenditures\": 11810, \"Ethnicity\": \"Hispanic\", \"cohort_order\": null}, {\"Id\": 82928, \"Age Cohort\": \"22 to 50\", \"Age\": 31, \"Gender\": \"Male\", \"Expenditures\": 34021, \"Ethnicity\": \"Hispanic\", \"cohort_order\": null}, {\"Id\": 83000, \"Age Cohort\": \"51+\", \"Age\": 80, \"Gender\": \"Male\", \"Expenditures\": 68890, \"Ethnicity\": \"White not Hispanic\", \"cohort_order\": null}, {\"Id\": 83149, \"Age Cohort\": \"51+\", \"Age\": 70, \"Gender\": \"Male\", \"Expenditures\": 50230, \"Ethnicity\": \"Hispanic\", \"cohort_order\": null}, {\"Id\": 83212, \"Age Cohort\": \"22 to 50\", \"Age\": 29, \"Gender\": \"Male\", \"Expenditures\": 36658, \"Ethnicity\": \"White not Hispanic\", \"cohort_order\": null}, {\"Id\": 83224, \"Age Cohort\": \"51+\", \"Age\": 73, \"Gender\": \"Male\", \"Expenditures\": 51455, \"Ethnicity\": \"White not Hispanic\", \"cohort_order\": null}, {\"Id\": 83404, \"Age Cohort\": \"18 to 21\", \"Age\": 20, \"Gender\": \"Male\", \"Expenditures\": 9932, \"Ethnicity\": \"Hispanic\", \"cohort_order\": null}, {\"Id\": 83443, \"Age Cohort\": \"18 to 21\", \"Age\": 20, \"Gender\": \"Female\", \"Expenditures\": 11803, \"Ethnicity\": \"Asian\", \"cohort_order\": null}, {\"Id\": 83495, \"Age Cohort\": \"22 to 50\", \"Age\": 40, \"Gender\": \"Male\", \"Expenditures\": 48064, \"Ethnicity\": \"Asian\", \"cohort_order\": null}, {\"Id\": 83771, \"Age Cohort\": \"13 to 17\", \"Age\": 13, \"Gender\": \"Female\", \"Expenditures\": 4473, \"Ethnicity\": \"White not Hispanic\", \"cohort_order\": null}, {\"Id\": 83851, \"Age Cohort\": \"22 to 50\", \"Age\": 24, \"Gender\": \"Male\", \"Expenditures\": 30803, \"Ethnicity\": \"Asian\", \"cohort_order\": null}, {\"Id\": 83897, \"Age Cohort\": \"22 to 50\", \"Age\": 32, \"Gender\": \"Female\", \"Expenditures\": 37637, \"Ethnicity\": \"White not Hispanic\", \"cohort_order\": null}, {\"Id\": 83972, \"Age Cohort\": \"51+\", \"Age\": 62, \"Gender\": \"Male\", \"Expenditures\": 44111, \"Ethnicity\": \"White not Hispanic\", \"cohort_order\": null}, {\"Id\": 84259, \"Age Cohort\": \"18 to 21\", \"Age\": 18, \"Gender\": \"Male\", \"Expenditures\": 8985, \"Ethnicity\": \"White not Hispanic\", \"cohort_order\": null}, {\"Id\": 84336, \"Age Cohort\": \"22 to 50\", \"Age\": 28, \"Gender\": \"Female\", \"Expenditures\": 48968, \"Ethnicity\": \"Asian\", \"cohort_order\": null}, {\"Id\": 84362, \"Age Cohort\": \"6 to 12\", \"Age\": 6, \"Gender\": \"Male\", \"Expenditures\": 2924, \"Ethnicity\": \"Hispanic\", \"cohort_order\": null}, {\"Id\": 84388, \"Age Cohort\": \"0 to 5\", \"Age\": 2, \"Gender\": \"Female\", \"Expenditures\": 697, \"Ethnicity\": \"Multi Race\", \"cohort_order\": null}, {\"Id\": 84436, \"Age Cohort\": \"22 to 50\", \"Age\": 24, \"Gender\": \"Female\", \"Expenditures\": 37663, \"Ethnicity\": \"Hispanic\", \"cohort_order\": null}, {\"Id\": 84477, \"Age Cohort\": \"18 to 21\", \"Age\": 19, \"Gender\": \"Male\", \"Expenditures\": 9675, \"Ethnicity\": \"Black\", \"cohort_order\": null}, {\"Id\": 84484, \"Age Cohort\": \"13 to 17\", \"Age\": 17, \"Gender\": \"Female\", \"Expenditures\": 4216, \"Ethnicity\": \"Asian\", \"cohort_order\": null}, {\"Id\": 84737, \"Age Cohort\": \"13 to 17\", \"Age\": 14, \"Gender\": \"Female\", \"Expenditures\": 5576, \"Ethnicity\": \"White not Hispanic\", \"cohort_order\": null}, {\"Id\": 84833, \"Age Cohort\": \"22 to 50\", \"Age\": 25, \"Gender\": \"Male\", \"Expenditures\": 31943, \"Ethnicity\": \"Hispanic\", \"cohort_order\": null}, {\"Id\": 84949, \"Age Cohort\": \"6 to 12\", \"Age\": 7, \"Gender\": \"Female\", \"Expenditures\": 2834, \"Ethnicity\": \"Black\", \"cohort_order\": null}, {\"Id\": 84996, \"Age Cohort\": \"6 to 12\", \"Age\": 12, \"Gender\": \"Male\", \"Expenditures\": 1531, \"Ethnicity\": \"White not Hispanic\", \"cohort_order\": null}, {\"Id\": 85005, \"Age Cohort\": \"13 to 17\", \"Age\": 15, \"Gender\": \"Female\", \"Expenditures\": 5254, \"Ethnicity\": \"White not Hispanic\", \"cohort_order\": null}, {\"Id\": 85129, \"Age Cohort\": \"22 to 50\", \"Age\": 23, \"Gender\": \"Male\", \"Expenditures\": 44219, \"Ethnicity\": \"White not Hispanic\", \"cohort_order\": null}, {\"Id\": 85179, \"Age Cohort\": \"22 to 50\", \"Age\": 28, \"Gender\": \"Male\", \"Expenditures\": 26178, \"Ethnicity\": \"Hispanic\", \"cohort_order\": null}, {\"Id\": 85261, \"Age Cohort\": \"13 to 17\", \"Age\": 14, \"Gender\": \"Female\", \"Expenditures\": 3189, \"Ethnicity\": \"White not Hispanic\", \"cohort_order\": null}, {\"Id\": 85301, \"Age Cohort\": \"6 to 12\", \"Age\": 12, \"Gender\": \"Female\", \"Expenditures\": 3732, \"Ethnicity\": \"Hispanic\", \"cohort_order\": null}, {\"Id\": 85491, \"Age Cohort\": \"22 to 50\", \"Age\": 23, \"Gender\": \"Male\", \"Expenditures\": 25348, \"Ethnicity\": \"Asian\", \"cohort_order\": null}, {\"Id\": 85501, \"Age Cohort\": \"18 to 21\", \"Age\": 21, \"Gender\": \"Female\", \"Expenditures\": 8957, \"Ethnicity\": \"Hispanic\", \"cohort_order\": null}, {\"Id\": 85633, \"Age Cohort\": \"13 to 17\", \"Age\": 14, \"Gender\": \"Female\", \"Expenditures\": 5280, \"Ethnicity\": \"Hispanic\", \"cohort_order\": null}, {\"Id\": 85639, \"Age Cohort\": \"22 to 50\", \"Age\": 33, \"Gender\": \"Male\", \"Expenditures\": 39010, \"Ethnicity\": \"White not Hispanic\", \"cohort_order\": null}, {\"Id\": 85741, \"Age Cohort\": \"22 to 50\", \"Age\": 41, \"Gender\": \"Female\", \"Expenditures\": 49223, \"Ethnicity\": \"White not Hispanic\", \"cohort_order\": null}, {\"Id\": 85775, \"Age Cohort\": \"18 to 21\", \"Age\": 19, \"Gender\": \"Female\", \"Expenditures\": 12243, \"Ethnicity\": \"Asian\", \"cohort_order\": null}, {\"Id\": 86019, \"Age Cohort\": \"22 to 50\", \"Age\": 25, \"Gender\": \"Male\", \"Expenditures\": 40999, \"Ethnicity\": \"Asian\", \"cohort_order\": null}, {\"Id\": 86084, \"Age Cohort\": \"18 to 21\", \"Age\": 20, \"Gender\": \"Female\", \"Expenditures\": 3749, \"Ethnicity\": \"Hispanic\", \"cohort_order\": null}, {\"Id\": 86328, \"Age Cohort\": \"6 to 12\", \"Age\": 9, \"Gender\": \"Female\", \"Expenditures\": 1416, \"Ethnicity\": \"Hispanic\", \"cohort_order\": null}, {\"Id\": 86396, \"Age Cohort\": \"22 to 50\", \"Age\": 32, \"Gender\": \"Female\", \"Expenditures\": 33630, \"Ethnicity\": \"White not Hispanic\", \"cohort_order\": null}, {\"Id\": 86416, \"Age Cohort\": \"22 to 50\", \"Age\": 26, \"Gender\": \"Male\", \"Expenditures\": 33634, \"Ethnicity\": \"Asian\", \"cohort_order\": null}, {\"Id\": 86565, \"Age Cohort\": \"18 to 21\", \"Age\": 19, \"Gender\": \"Male\", \"Expenditures\": 9760, \"Ethnicity\": \"Hispanic\", \"cohort_order\": null}, {\"Id\": 86579, \"Age Cohort\": \"22 to 50\", \"Age\": 42, \"Gender\": \"Female\", \"Expenditures\": 51084, \"Ethnicity\": \"Black\", \"cohort_order\": null}, {\"Id\": 86599, \"Age Cohort\": \"6 to 12\", \"Age\": 11, \"Gender\": \"Male\", \"Expenditures\": 1984, \"Ethnicity\": \"White not Hispanic\", \"cohort_order\": null}, {\"Id\": 86667, \"Age Cohort\": \"22 to 50\", \"Age\": 30, \"Gender\": \"Male\", \"Expenditures\": 40927, \"Ethnicity\": \"White not Hispanic\", \"cohort_order\": null}, {\"Id\": 86893, \"Age Cohort\": \"22 to 50\", \"Age\": 39, \"Gender\": \"Female\", \"Expenditures\": 31076, \"Ethnicity\": \"White not Hispanic\", \"cohort_order\": null}, {\"Id\": 87080, \"Age Cohort\": \"13 to 17\", \"Age\": 16, \"Gender\": \"Female\", \"Expenditures\": 4915, \"Ethnicity\": \"White not Hispanic\", \"cohort_order\": null}, {\"Id\": 87143, \"Age Cohort\": \"13 to 17\", \"Age\": 17, \"Gender\": \"Female\", \"Expenditures\": 3747, \"Ethnicity\": \"Hispanic\", \"cohort_order\": null}, {\"Id\": 87358, \"Age Cohort\": \"18 to 21\", \"Age\": 21, \"Gender\": \"Female\", \"Expenditures\": 9700, \"Ethnicity\": \"White not Hispanic\", \"cohort_order\": null}, {\"Id\": 87444, \"Age Cohort\": \"13 to 17\", \"Age\": 14, \"Gender\": \"Female\", \"Expenditures\": 1893, \"Ethnicity\": \"Multi Race\", \"cohort_order\": null}, {\"Id\": 87697, \"Age Cohort\": \"13 to 17\", \"Age\": 17, \"Gender\": \"Female\", \"Expenditures\": 4221, \"Ethnicity\": \"Hispanic\", \"cohort_order\": null}, {\"Id\": 87737, \"Age Cohort\": \"51+\", \"Age\": 91, \"Gender\": \"Male\", \"Expenditures\": 54481, \"Ethnicity\": \"Asian\", \"cohort_order\": null}, {\"Id\": 87869, \"Age Cohort\": \"6 to 12\", \"Age\": 10, \"Gender\": \"Female\", \"Expenditures\": 3060, \"Ethnicity\": \"Hispanic\", \"cohort_order\": null}, {\"Id\": 87923, \"Age Cohort\": \"22 to 50\", \"Age\": 24, \"Gender\": \"Female\", \"Expenditures\": 34274, \"Ethnicity\": \"Asian\", \"cohort_order\": null}, {\"Id\": 88118, \"Age Cohort\": \"18 to 21\", \"Age\": 19, \"Gender\": \"Female\", \"Expenditures\": 12523, \"Ethnicity\": \"Hispanic\", \"cohort_order\": null}, {\"Id\": 88132, \"Age Cohort\": \"51+\", \"Age\": 71, \"Gender\": \"Female\", \"Expenditures\": 56365, \"Ethnicity\": \"White not Hispanic\", \"cohort_order\": null}, {\"Id\": 88276, \"Age Cohort\": \"0 to 5\", \"Age\": 4, \"Gender\": \"Female\", \"Expenditures\": 1645, \"Ethnicity\": \"Asian\", \"cohort_order\": null}, {\"Id\": 88284, \"Age Cohort\": \"6 to 12\", \"Age\": 11, \"Gender\": \"Male\", \"Expenditures\": 2839, \"Ethnicity\": \"Hispanic\", \"cohort_order\": null}, {\"Id\": 88508, \"Age Cohort\": \"6 to 12\", \"Age\": 8, \"Gender\": \"Female\", \"Expenditures\": 3572, \"Ethnicity\": \"White not Hispanic\", \"cohort_order\": null}, {\"Id\": 88618, \"Age Cohort\": \"22 to 50\", \"Age\": 31, \"Gender\": \"Male\", \"Expenditures\": 39172, \"Ethnicity\": \"White not Hispanic\", \"cohort_order\": null}, {\"Id\": 88739, \"Age Cohort\": \"6 to 12\", \"Age\": 8, \"Gender\": \"Female\", \"Expenditures\": 1714, \"Ethnicity\": \"Hispanic\", \"cohort_order\": null}, {\"Id\": 88757, \"Age Cohort\": \"51+\", \"Age\": 72, \"Gender\": \"Male\", \"Expenditures\": 43957, \"Ethnicity\": \"White not Hispanic\", \"cohort_order\": null}, {\"Id\": 88930, \"Age Cohort\": \"51+\", \"Age\": 62, \"Gender\": \"Female\", \"Expenditures\": 58480, \"Ethnicity\": \"White not Hispanic\", \"cohort_order\": null}, {\"Id\": 89102, \"Age Cohort\": \"22 to 50\", \"Age\": 26, \"Gender\": \"Female\", \"Expenditures\": 43109, \"Ethnicity\": \"Black\", \"cohort_order\": null}, {\"Id\": 89108, \"Age Cohort\": \"6 to 12\", \"Age\": 7, \"Gender\": \"Female\", \"Expenditures\": 1875, \"Ethnicity\": \"Hispanic\", \"cohort_order\": null}, {\"Id\": 89124, \"Age Cohort\": \"51+\", \"Age\": 63, \"Gender\": \"Male\", \"Expenditures\": 50030, \"Ethnicity\": \"White not Hispanic\", \"cohort_order\": null}, {\"Id\": 89132, \"Age Cohort\": \"18 to 21\", \"Age\": 21, \"Gender\": \"Male\", \"Expenditures\": 8707, \"Ethnicity\": \"Hispanic\", \"cohort_order\": null}, {\"Id\": 89286, \"Age Cohort\": \"6 to 12\", \"Age\": 8, \"Gender\": \"Female\", \"Expenditures\": 2717, \"Ethnicity\": \"Hispanic\", \"cohort_order\": null}, {\"Id\": 89316, \"Age Cohort\": \"0 to 5\", \"Age\": 5, \"Gender\": \"Female\", \"Expenditures\": 1684, \"Ethnicity\": \"Hispanic\", \"cohort_order\": null}, {\"Id\": 89334, \"Age Cohort\": \"18 to 21\", \"Age\": 20, \"Gender\": \"Male\", \"Expenditures\": 7743, \"Ethnicity\": \"White not Hispanic\", \"cohort_order\": null}, {\"Id\": 89361, \"Age Cohort\": \"18 to 21\", \"Age\": 19, \"Gender\": \"Female\", \"Expenditures\": 7475, \"Ethnicity\": \"Asian\", \"cohort_order\": null}, {\"Id\": 89611, \"Age Cohort\": \"6 to 12\", \"Age\": 9, \"Gender\": \"Male\", \"Expenditures\": 2753, \"Ethnicity\": \"White not Hispanic\", \"cohort_order\": null}, {\"Id\": 89809, \"Age Cohort\": \"18 to 21\", \"Age\": 19, \"Gender\": \"Female\", \"Expenditures\": 8820, \"Ethnicity\": \"Asian\", \"cohort_order\": null}, {\"Id\": 89925, \"Age Cohort\": \"18 to 21\", \"Age\": 19, \"Gender\": \"Female\", \"Expenditures\": 5988, \"Ethnicity\": \"Hispanic\", \"cohort_order\": null}, {\"Id\": 90037, \"Age Cohort\": \"18 to 21\", \"Age\": 21, \"Gender\": \"Male\", \"Expenditures\": 11327, \"Ethnicity\": \"Black\", \"cohort_order\": null}, {\"Id\": 90151, \"Age Cohort\": \"13 to 17\", \"Age\": 16, \"Gender\": \"Female\", \"Expenditures\": 3702, \"Ethnicity\": \"Hispanic\", \"cohort_order\": null}, {\"Id\": 90220, \"Age Cohort\": \"13 to 17\", \"Age\": 13, \"Gender\": \"Female\", \"Expenditures\": 3887, \"Ethnicity\": \"Hispanic\", \"cohort_order\": null}, {\"Id\": 90233, \"Age Cohort\": \"18 to 21\", \"Age\": 19, \"Gender\": \"Male\", \"Expenditures\": 9979, \"Ethnicity\": \"Asian\", \"cohort_order\": null}, {\"Id\": 90239, \"Age Cohort\": \"18 to 21\", \"Age\": 18, \"Gender\": \"Female\", \"Expenditures\": 13730, \"Ethnicity\": \"Hispanic\", \"cohort_order\": null}, {\"Id\": 90299, \"Age Cohort\": \"18 to 21\", \"Age\": 19, \"Gender\": \"Male\", \"Expenditures\": 7570, \"Ethnicity\": \"White not Hispanic\", \"cohort_order\": null}, {\"Id\": 90432, \"Age Cohort\": \"22 to 50\", \"Age\": 27, \"Gender\": \"Female\", \"Expenditures\": 35720, \"Ethnicity\": \"White not Hispanic\", \"cohort_order\": null}, {\"Id\": 90644, \"Age Cohort\": \"18 to 21\", \"Age\": 19, \"Gender\": \"Female\", \"Expenditures\": 7061, \"Ethnicity\": \"Black\", \"cohort_order\": null}, {\"Id\": 90670, \"Age Cohort\": \"13 to 17\", \"Age\": 13, \"Gender\": \"Female\", \"Expenditures\": 5546, \"Ethnicity\": \"White not Hispanic\", \"cohort_order\": null}, {\"Id\": 90814, \"Age Cohort\": \"13 to 17\", \"Age\": 16, \"Gender\": \"Male\", \"Expenditures\": 3666, \"Ethnicity\": \"White not Hispanic\", \"cohort_order\": null}, {\"Id\": 90953, \"Age Cohort\": \"6 to 12\", \"Age\": 10, \"Gender\": \"Female\", \"Expenditures\": 669, \"Ethnicity\": \"Multi Race\", \"cohort_order\": null}, {\"Id\": 90996, \"Age Cohort\": \"22 to 50\", \"Age\": 29, \"Gender\": \"Female\", \"Expenditures\": 40755, \"Ethnicity\": \"White not Hispanic\", \"cohort_order\": null}, {\"Id\": 91011, \"Age Cohort\": \"22 to 50\", \"Age\": 32, \"Gender\": \"Female\", \"Expenditures\": 35435, \"Ethnicity\": \"Hispanic\", \"cohort_order\": null}, {\"Id\": 91064, \"Age Cohort\": \"18 to 21\", \"Age\": 21, \"Gender\": \"Male\", \"Expenditures\": 6904, \"Ethnicity\": \"Hispanic\", \"cohort_order\": null}, {\"Id\": 91288, \"Age Cohort\": \"22 to 50\", \"Age\": 29, \"Gender\": \"Male\", \"Expenditures\": 41268, \"Ethnicity\": \"White not Hispanic\", \"cohort_order\": null}, {\"Id\": 91383, \"Age Cohort\": \"6 to 12\", \"Age\": 12, \"Gender\": \"Male\", \"Expenditures\": 1996, \"Ethnicity\": \"White not Hispanic\", \"cohort_order\": null}, {\"Id\": 91756, \"Age Cohort\": \"13 to 17\", \"Age\": 14, \"Gender\": \"Male\", \"Expenditures\": 3703, \"Ethnicity\": \"Hispanic\", \"cohort_order\": null}, {\"Id\": 91766, \"Age Cohort\": \"6 to 12\", \"Age\": 7, \"Gender\": \"Female\", \"Expenditures\": 2669, \"Ethnicity\": \"White not Hispanic\", \"cohort_order\": null}, {\"Id\": 91966, \"Age Cohort\": \"13 to 17\", \"Age\": 14, \"Gender\": \"Male\", \"Expenditures\": 3319, \"Ethnicity\": \"Hispanic\", \"cohort_order\": null}, {\"Id\": 92055, \"Age Cohort\": \"13 to 17\", \"Age\": 17, \"Gender\": \"Female\", \"Expenditures\": 3478, \"Ethnicity\": \"Hispanic\", \"cohort_order\": null}, {\"Id\": 92109, \"Age Cohort\": \"18 to 21\", \"Age\": 20, \"Gender\": \"Male\", \"Expenditures\": 8359, \"Ethnicity\": \"White not Hispanic\", \"cohort_order\": null}, {\"Id\": 92198, \"Age Cohort\": \"13 to 17\", \"Age\": 17, \"Gender\": \"Male\", \"Expenditures\": 4791, \"Ethnicity\": \"Hispanic\", \"cohort_order\": null}, {\"Id\": 92207, \"Age Cohort\": \"6 to 12\", \"Age\": 6, \"Gender\": \"Male\", \"Expenditures\": 1898, \"Ethnicity\": \"Hispanic\", \"cohort_order\": null}, {\"Id\": 92215, \"Age Cohort\": \"6 to 12\", \"Age\": 9, \"Gender\": \"Female\", \"Expenditures\": 2632, \"Ethnicity\": \"White not Hispanic\", \"cohort_order\": null}, {\"Id\": 92265, \"Age Cohort\": \"22 to 50\", \"Age\": 32, \"Gender\": \"Female\", \"Expenditures\": 43662, \"Ethnicity\": \"White not Hispanic\", \"cohort_order\": null}, {\"Id\": 92381, \"Age Cohort\": \"6 to 12\", \"Age\": 11, \"Gender\": \"Female\", \"Expenditures\": 620, \"Ethnicity\": \"White not Hispanic\", \"cohort_order\": null}, {\"Id\": 92494, \"Age Cohort\": \"51+\", \"Age\": 73, \"Gender\": \"Female\", \"Expenditures\": 49088, \"Ethnicity\": \"White not Hispanic\", \"cohort_order\": null}, {\"Id\": 92628, \"Age Cohort\": \"22 to 50\", \"Age\": 33, \"Gender\": \"Male\", \"Expenditures\": 40517, \"Ethnicity\": \"Hispanic\", \"cohort_order\": null}, {\"Id\": 92700, \"Age Cohort\": \"0 to 5\", \"Age\": 4, \"Gender\": \"Female\", \"Expenditures\": 2543, \"Ethnicity\": \"White not Hispanic\", \"cohort_order\": null}, {\"Id\": 92718, \"Age Cohort\": \"6 to 12\", \"Age\": 6, \"Gender\": \"Male\", \"Expenditures\": 1997, \"Ethnicity\": \"Hispanic\", \"cohort_order\": null}, {\"Id\": 92766, \"Age Cohort\": \"6 to 12\", \"Age\": 8, \"Gender\": \"Female\", \"Expenditures\": 1189, \"Ethnicity\": \"Hispanic\", \"cohort_order\": null}, {\"Id\": 92789, \"Age Cohort\": \"22 to 50\", \"Age\": 25, \"Gender\": \"Male\", \"Expenditures\": 39849, \"Ethnicity\": \"White not Hispanic\", \"cohort_order\": null}, {\"Id\": 93080, \"Age Cohort\": \"22 to 50\", \"Age\": 23, \"Gender\": \"Male\", \"Expenditures\": 48349, \"Ethnicity\": \"White not Hispanic\", \"cohort_order\": null}, {\"Id\": 93118, \"Age Cohort\": \"13 to 17\", \"Age\": 16, \"Gender\": \"Male\", \"Expenditures\": 4031, \"Ethnicity\": \"Asian\", \"cohort_order\": null}, {\"Id\": 93194, \"Age Cohort\": \"6 to 12\", \"Age\": 8, \"Gender\": \"Male\", \"Expenditures\": 2623, \"Ethnicity\": \"Asian\", \"cohort_order\": null}, {\"Id\": 93415, \"Age Cohort\": \"22 to 50\", \"Age\": 22, \"Gender\": \"Female\", \"Expenditures\": 50795, \"Ethnicity\": \"White not Hispanic\", \"cohort_order\": null}, {\"Id\": 93495, \"Age Cohort\": \"6 to 12\", \"Age\": 10, \"Gender\": \"Female\", \"Expenditures\": 2484, \"Ethnicity\": \"Hispanic\", \"cohort_order\": null}, {\"Id\": 93600, \"Age Cohort\": \"22 to 50\", \"Age\": 31, \"Gender\": \"Male\", \"Expenditures\": 39577, \"Ethnicity\": \"White not Hispanic\", \"cohort_order\": null}, {\"Id\": 93628, \"Age Cohort\": \"6 to 12\", \"Age\": 6, \"Gender\": \"Male\", \"Expenditures\": 3259, \"Ethnicity\": \"Multi Race\", \"cohort_order\": null}, {\"Id\": 93673, \"Age Cohort\": \"18 to 21\", \"Age\": 18, \"Gender\": \"Male\", \"Expenditures\": 9080, \"Ethnicity\": \"Asian\", \"cohort_order\": null}, {\"Id\": 93702, \"Age Cohort\": \"22 to 50\", \"Age\": 27, \"Gender\": \"Female\", \"Expenditures\": 44293, \"Ethnicity\": \"Asian\", \"cohort_order\": null}, {\"Id\": 93727, \"Age Cohort\": \"0 to 5\", \"Age\": 4, \"Gender\": \"Female\", \"Expenditures\": 1219, \"Ethnicity\": \"Asian\", \"cohort_order\": null}, {\"Id\": 93757, \"Age Cohort\": \"18 to 21\", \"Age\": 18, \"Gender\": \"Female\", \"Expenditures\": 10298, \"Ethnicity\": \"White not Hispanic\", \"cohort_order\": null}, {\"Id\": 93763, \"Age Cohort\": \"6 to 12\", \"Age\": 8, \"Gender\": \"Male\", \"Expenditures\": 2430, \"Ethnicity\": \"Hispanic\", \"cohort_order\": null}, {\"Id\": 93871, \"Age Cohort\": \"13 to 17\", \"Age\": 14, \"Gender\": \"Female\", \"Expenditures\": 3792, \"Ethnicity\": \"Hispanic\", \"cohort_order\": null}, {\"Id\": 94072, \"Age Cohort\": \"6 to 12\", \"Age\": 11, \"Gender\": \"Female\", \"Expenditures\": 1360, \"Ethnicity\": \"White not Hispanic\", \"cohort_order\": null}, {\"Id\": 94273, \"Age Cohort\": \"13 to 17\", \"Age\": 15, \"Gender\": \"Male\", \"Expenditures\": 3099, \"Ethnicity\": \"Asian\", \"cohort_order\": null}, {\"Id\": 94371, \"Age Cohort\": \"22 to 50\", \"Age\": 30, \"Gender\": \"Male\", \"Expenditures\": 51486, \"Ethnicity\": \"White not Hispanic\", \"cohort_order\": null}, {\"Id\": 94442, \"Age Cohort\": \"6 to 12\", \"Age\": 11, \"Gender\": \"Male\", \"Expenditures\": 2212, \"Ethnicity\": \"Hispanic\", \"cohort_order\": null}, {\"Id\": 94480, \"Age Cohort\": \"13 to 17\", \"Age\": 17, \"Gender\": \"Female\", \"Expenditures\": 5183, \"Ethnicity\": \"Black\", \"cohort_order\": null}, {\"Id\": 94503, \"Age Cohort\": \"0 to 5\", \"Age\": 0, \"Gender\": \"Male\", \"Expenditures\": 1360, \"Ethnicity\": \"Hispanic\", \"cohort_order\": null}, {\"Id\": 94540, \"Age Cohort\": \"22 to 50\", \"Age\": 25, \"Gender\": \"Female\", \"Expenditures\": 40952, \"Ethnicity\": \"White not Hispanic\", \"cohort_order\": null}, {\"Id\": 94595, \"Age Cohort\": \"0 to 5\", \"Age\": 4, \"Gender\": \"Female\", \"Expenditures\": 2335, \"Ethnicity\": \"Multi Race\", \"cohort_order\": null}, {\"Id\": 94648, \"Age Cohort\": \"22 to 50\", \"Age\": 40, \"Gender\": \"Female\", \"Expenditures\": 43175, \"Ethnicity\": \"White not Hispanic\", \"cohort_order\": null}, {\"Id\": 94785, \"Age Cohort\": \"13 to 17\", \"Age\": 14, \"Gender\": \"Male\", \"Expenditures\": 4680, \"Ethnicity\": \"Hispanic\", \"cohort_order\": null}, {\"Id\": 94819, \"Age Cohort\": \"18 to 21\", \"Age\": 20, \"Gender\": \"Female\", \"Expenditures\": 14003, \"Ethnicity\": \"Hispanic\", \"cohort_order\": null}, {\"Id\": 94852, \"Age Cohort\": \"0 to 5\", \"Age\": 3, \"Gender\": \"Female\", \"Expenditures\": 1485, \"Ethnicity\": \"Hispanic\", \"cohort_order\": null}, {\"Id\": 95110, \"Age Cohort\": \"22 to 50\", \"Age\": 29, \"Gender\": \"Male\", \"Expenditures\": 43048, \"Ethnicity\": \"White not Hispanic\", \"cohort_order\": null}, {\"Id\": 95270, \"Age Cohort\": \"22 to 50\", \"Age\": 38, \"Gender\": \"Male\", \"Expenditures\": 29709, \"Ethnicity\": \"White not Hispanic\", \"cohort_order\": null}, {\"Id\": 95313, \"Age Cohort\": \"51+\", \"Age\": 79, \"Gender\": \"Female\", \"Expenditures\": 57497, \"Ethnicity\": \"Asian\", \"cohort_order\": null}, {\"Id\": 95673, \"Age Cohort\": \"51+\", \"Age\": 60, \"Gender\": \"Female\", \"Expenditures\": 62717, \"Ethnicity\": \"Hispanic\", \"cohort_order\": null}, {\"Id\": 95812, \"Age Cohort\": \"22 to 50\", \"Age\": 38, \"Gender\": \"Female\", \"Expenditures\": 37378, \"Ethnicity\": \"Hispanic\", \"cohort_order\": null}, {\"Id\": 95861, \"Age Cohort\": \"18 to 21\", \"Age\": 18, \"Gender\": \"Male\", \"Expenditures\": 12651, \"Ethnicity\": \"Asian\", \"cohort_order\": null}, {\"Id\": 96081, \"Age Cohort\": \"13 to 17\", \"Age\": 16, \"Gender\": \"Female\", \"Expenditures\": 2104, \"Ethnicity\": \"Hispanic\", \"cohort_order\": null}, {\"Id\": 96097, \"Age Cohort\": \"0 to 5\", \"Age\": 5, \"Gender\": \"Female\", \"Expenditures\": 222, \"Ethnicity\": \"Hispanic\", \"cohort_order\": null}, {\"Id\": 96188, \"Age Cohort\": \"22 to 50\", \"Age\": 23, \"Gender\": \"Male\", \"Expenditures\": 42560, \"Ethnicity\": \"Asian\", \"cohort_order\": null}, {\"Id\": 96258, \"Age Cohort\": \"22 to 50\", \"Age\": 29, \"Gender\": \"Male\", \"Expenditures\": 40614, \"Ethnicity\": \"Asian\", \"cohort_order\": null}, {\"Id\": 96279, \"Age Cohort\": \"0 to 5\", \"Age\": 5, \"Gender\": \"Female\", \"Expenditures\": 1003, \"Ethnicity\": \"Hispanic\", \"cohort_order\": null}, {\"Id\": 96367, \"Age Cohort\": \"22 to 50\", \"Age\": 26, \"Gender\": \"Male\", \"Expenditures\": 36440, \"Ethnicity\": \"Hispanic\", \"cohort_order\": null}, {\"Id\": 96426, \"Age Cohort\": \"6 to 12\", \"Age\": 9, \"Gender\": \"Male\", \"Expenditures\": 2544, \"Ethnicity\": \"White not Hispanic\", \"cohort_order\": null}, {\"Id\": 96466, \"Age Cohort\": \"13 to 17\", \"Age\": 17, \"Gender\": \"Female\", \"Expenditures\": 5241, \"Ethnicity\": \"Hispanic\", \"cohort_order\": null}, {\"Id\": 96684, \"Age Cohort\": \"13 to 17\", \"Age\": 14, \"Gender\": \"Male\", \"Expenditures\": 3524, \"Ethnicity\": \"White not Hispanic\", \"cohort_order\": null}, {\"Id\": 96739, \"Age Cohort\": \"22 to 50\", \"Age\": 30, \"Gender\": \"Female\", \"Expenditures\": 40125, \"Ethnicity\": \"White not Hispanic\", \"cohort_order\": null}, {\"Id\": 96746, \"Age Cohort\": \"6 to 12\", \"Age\": 10, \"Gender\": \"Male\", \"Expenditures\": 3382, \"Ethnicity\": \"Asian\", \"cohort_order\": null}, {\"Id\": 96840, \"Age Cohort\": \"51+\", \"Age\": 51, \"Gender\": \"Female\", \"Expenditures\": 48622, \"Ethnicity\": \"White not Hispanic\", \"cohort_order\": null}, {\"Id\": 96974, \"Age Cohort\": \"13 to 17\", \"Age\": 17, \"Gender\": \"Female\", \"Expenditures\": 5276, \"Ethnicity\": \"White not Hispanic\", \"cohort_order\": null}, {\"Id\": 97057, \"Age Cohort\": \"22 to 50\", \"Age\": 41, \"Gender\": \"Male\", \"Expenditures\": 50202, \"Ethnicity\": \"White not Hispanic\", \"cohort_order\": null}, {\"Id\": 97122, \"Age Cohort\": \"22 to 50\", \"Age\": 44, \"Gender\": \"Male\", \"Expenditures\": 46144, \"Ethnicity\": \"Hispanic\", \"cohort_order\": null}, {\"Id\": 97211, \"Age Cohort\": \"0 to 5\", \"Age\": 5, \"Gender\": \"Female\", \"Expenditures\": 240, \"Ethnicity\": \"Black\", \"cohort_order\": null}, {\"Id\": 97268, \"Age Cohort\": \"22 to 50\", \"Age\": 23, \"Gender\": \"Male\", \"Expenditures\": 35016, \"Ethnicity\": \"White not Hispanic\", \"cohort_order\": null}, {\"Id\": 97316, \"Age Cohort\": \"51+\", \"Age\": 75, \"Gender\": \"Female\", \"Expenditures\": 55956, \"Ethnicity\": \"White not Hispanic\", \"cohort_order\": null}, {\"Id\": 97426, \"Age Cohort\": \"0 to 5\", \"Age\": 1, \"Gender\": \"Female\", \"Expenditures\": 2359, \"Ethnicity\": \"Multi Race\", \"cohort_order\": null}, {\"Id\": 97793, \"Age Cohort\": \"6 to 12\", \"Age\": 9, \"Gender\": \"Female\", \"Expenditures\": 1048, \"Ethnicity\": \"Multi Race\", \"cohort_order\": null}, {\"Id\": 97930, \"Age Cohort\": \"51+\", \"Age\": 69, \"Gender\": \"Female\", \"Expenditures\": 53561, \"Ethnicity\": \"White not Hispanic\", \"cohort_order\": null}, {\"Id\": 98015, \"Age Cohort\": \"22 to 50\", \"Age\": 46, \"Gender\": \"Male\", \"Expenditures\": 52222, \"Ethnicity\": \"Hispanic\", \"cohort_order\": null}, {\"Id\": 98235, \"Age Cohort\": \"22 to 50\", \"Age\": 28, \"Gender\": \"Male\", \"Expenditures\": 29588, \"Ethnicity\": \"Hispanic\", \"cohort_order\": null}, {\"Id\": 98268, \"Age Cohort\": \"18 to 21\", \"Age\": 18, \"Gender\": \"Female\", \"Expenditures\": 10393, \"Ethnicity\": \"White not Hispanic\", \"cohort_order\": null}, {\"Id\": 98269, \"Age Cohort\": \"22 to 50\", \"Age\": 38, \"Gender\": \"Male\", \"Expenditures\": 54191, \"Ethnicity\": \"White not Hispanic\", \"cohort_order\": null}, {\"Id\": 98382, \"Age Cohort\": \"51+\", \"Age\": 54, \"Gender\": \"Female\", \"Expenditures\": 46312, \"Ethnicity\": \"White not Hispanic\", \"cohort_order\": null}, {\"Id\": 98428, \"Age Cohort\": \"22 to 50\", \"Age\": 24, \"Gender\": \"Male\", \"Expenditures\": 49449, \"Ethnicity\": \"Asian\", \"cohort_order\": null}, {\"Id\": 98522, \"Age Cohort\": \"13 to 17\", \"Age\": 13, \"Gender\": \"Female\", \"Expenditures\": 3097, \"Ethnicity\": \"White not Hispanic\", \"cohort_order\": null}, {\"Id\": 98547, \"Age Cohort\": \"13 to 17\", \"Age\": 13, \"Gender\": \"Female\", \"Expenditures\": 3392, \"Ethnicity\": \"White not Hispanic\", \"cohort_order\": null}, {\"Id\": 98562, \"Age Cohort\": \"13 to 17\", \"Age\": 15, \"Gender\": \"Female\", \"Expenditures\": 3641, \"Ethnicity\": \"Hispanic\", \"cohort_order\": null}, {\"Id\": 98683, \"Age Cohort\": \"6 to 12\", \"Age\": 8, \"Gender\": \"Male\", \"Expenditures\": 2441, \"Ethnicity\": \"Hispanic\", \"cohort_order\": null}, {\"Id\": 98792, \"Age Cohort\": \"0 to 5\", \"Age\": 5, \"Gender\": \"Male\", \"Expenditures\": 1411, \"Ethnicity\": \"Hispanic\", \"cohort_order\": null}, {\"Id\": 99046, \"Age Cohort\": \"22 to 50\", \"Age\": 30, \"Gender\": \"Female\", \"Expenditures\": 35231, \"Ethnicity\": \"White not Hispanic\", \"cohort_order\": null}, {\"Id\": 99114, \"Age Cohort\": \"18 to 21\", \"Age\": 18, \"Gender\": \"Male\", \"Expenditures\": 5298, \"Ethnicity\": \"Hispanic\", \"cohort_order\": null}, {\"Id\": 99147, \"Age Cohort\": \"18 to 21\", \"Age\": 20, \"Gender\": \"Male\", \"Expenditures\": 7288, \"Ethnicity\": \"Asian\", \"cohort_order\": null}, {\"Id\": 99529, \"Age Cohort\": \"0 to 5\", \"Age\": 2, \"Gender\": \"Male\", \"Expenditures\": 2258, \"Ethnicity\": \"Multi Race\", \"cohort_order\": null}, {\"Id\": 99622, \"Age Cohort\": \"51+\", \"Age\": 86, \"Gender\": \"Female\", \"Expenditures\": 57055, \"Ethnicity\": \"White not Hispanic\", \"cohort_order\": null}, {\"Id\": 99715, \"Age Cohort\": \"18 to 21\", \"Age\": 20, \"Gender\": \"Male\", \"Expenditures\": 7494, \"Ethnicity\": \"Hispanic\", \"cohort_order\": null}, {\"Id\": 99718, \"Age Cohort\": \"13 to 17\", \"Age\": 17, \"Gender\": \"Female\", \"Expenditures\": 3673, \"Ethnicity\": \"Multi Race\", \"cohort_order\": null}, {\"Id\": 99791, \"Age Cohort\": \"6 to 12\", \"Age\": 10, \"Gender\": \"Male\", \"Expenditures\": 3638, \"Ethnicity\": \"Hispanic\", \"cohort_order\": null}, {\"Id\": 99898, \"Age Cohort\": \"22 to 50\", \"Age\": 23, \"Gender\": \"Male\", \"Expenditures\": 26702, \"Ethnicity\": \"White not Hispanic\", \"cohort_order\": null}]}}, {\"mode\": \"vega-lite\"});\n",
       "</script>"
      ],
      "text/plain": [
       "alt.Chart(...)"
      ]
     },
     "execution_count": 48,
     "metadata": {},
     "output_type": "execute_result"
    }
   ],
   "source": [
    "# construct plot\n",
    "# BEGIN SOLUTION\n",
    "fig_4 = alt.Chart(dds_cat).mark_line(point = True).encode(\n",
    "    x = alt.X('Ethnicity', title = ''),\n",
    "    y = alt.Y('median(Expenditures)', \n",
    "              scale = alt.Scale(type = 'log')),\n",
    "    color = alt.Color('Age Cohort:O', \n",
    "                      sort = alt.EncodingSortField(field = 'cohort_order', \n",
    "                                                   order = 'ascending'))\n",
    ")\n",
    "# END SOLUTION\n",
    "\n",
    "# display\n",
    "fig_4 # SOLUTION"
   ]
  },
  {
   "attachments": {},
   "cell_type": "markdown",
   "metadata": {},
   "source": [
    "<!-- END QUESTION -->\n",
    "\n",
    "# Regression analysis\n",
    "\n",
    "Now that you've thoroughly explored the data, you'll use a linear model in this part to estimate the differences in median expenditure that you observed graphically in part 1.\n",
    "\n",
    "More specifically, you'll model the log of expenditures (response variable) as a function of gender, age cohort, and ethnicity:\n",
    "\n",
    "$$\n",
    "\\log\\left(\\text{expend}_i\\right)\n",
    "    = \\beta_0 + \\underbrace{\\beta_1\\left(\\text{6-12}\\right)_i + \\cdots + \\beta_5\\left(\\text{51+}\\right)_i}_\\text{age cohort} + \\underbrace{\\beta_6\\text{female}_i}_\\text{sex} + \\underbrace{\\beta_7\\text{hispanic}_i + \\cdots + \\beta_{13}\\text{other}_i}_\\text{ethnicity} + \\epsilon_i\n",
    "$$\n",
    "\n",
    "In this model, *all* of the explanatory variables are categorical and encoded using indicators; in this case, the linear model coefficients capture means for each group. \n",
    "\n",
    "Because this model is a little different than the examples you've seen so far in two respects -- the response variable is log-transformed and all explanatory variables are categorical -- some comments are provided below on these features. You can review or skip the comments, depending on your level of interest in understanding the model better mathematically.\n",
    "\n",
    "**Commments about parameter interpretation**\n",
    "\n",
    "In particular, each coefficient represents a difference in means from the 'baseline' group. All indicators are zero for a white male recipient between ages 0 and 5, so this is the baseline group and:\n",
    "\n",
    "$$\\mathbb{E}\\left(\\log(\\text{expend})\\;|\\; \\text{male, white, 0-5}\\right) = \\beta_1$$\n",
    "\n",
    "Then, the expected log expenditure for a hispanic male recipient between ages 0 and 5 is:\n",
    "\n",
    "$$\\mathbb{E}\\left(\\log(\\text{expend})\\;|\\; \\text{male, hispanic, 0-5}\\right) = \\beta_0 + \\beta_7$$\n",
    "\n",
    "So $\\beta_7$ is *the difference in mean log expenditure between hispanic and white recipients after accounting for gender and age*. The other parameters have similar interpretations.\n",
    "\n",
    "While the calculation shown above may seem a little foreign, you should know that the parameters represent marginal differences in means between genders (holding age and ethnicity fixed), between ages (holding gender and ethnicity fixed), and between ethnicities (holding age and gender fixed).\n",
    "\n",
    "**Comments about the log transformation**\n",
    "\n",
    "The response in this model is the *log* of expenditures (this gives a better model for a variety of reasons). The statistical assumption then becomes that:\n",
    "\n",
    "$$\\log(\\text{expend})_i \\sim N\\left(\\mathbf{x}_i'\\beta, \\sigma^2\\right)$$\n",
    "\n",
    "If the log of a random variable $Y$ is normal, then $Y$ is known as a *lognormal* random variable; it can be shown mathematically that the exponentiated mean of $\\log Y$ is the median of $Y$. As a consequence, according to our model:\n",
    "\n",
    "$$\\text{median}(\\text{expend}_i) = \\exp\\left\\{\\mathbf{x}_i'\\beta\\right\\}$$\n",
    "\n",
    "You'll work on the log scale throughout to avoid complicating matters, but know that this model for the log of expenditures is *equivalently* a model of the median expenditures."
   ]
  },
  {
   "attachments": {},
   "cell_type": "markdown",
   "metadata": {},
   "source": [
    "The cell below reorders the category levels to match the model written above. To ensure the parameters appear in the proper order, this reordering is done for you."
   ]
  },
  {
   "cell_type": "code",
   "execution_count": 49,
   "metadata": {},
   "outputs": [],
   "source": [
    "# remove ID and quantitative age\n",
    "reg_data = dds_cat.copy().drop(columns = ['Id', 'Age'])\n",
    "\n",
    "# reorder ethnicity\n",
    "reg_data['Ethnicity'] = reg_data.Ethnicity.cat.as_ordered().cat.reorder_categories(\n",
    "    reg_data.Ethnicity.cat.categories[[7, 3, 2, 1, 5, 0, 4, 6]]\n",
    ")\n",
    "\n",
    "# reorder gender\n",
    "reg_data['Gender'] = reg_data.Gender.cat.as_ordered().cat.reorder_categories(['Male', 'Female'])"
   ]
  },
  {
   "attachments": {},
   "cell_type": "markdown",
   "metadata": {},
   "source": [
    "### Question 8: Data preprocessing\n",
    "\n",
    "Obtain the explanatory variable matrix and response vector needed to fit the linear model.\n",
    "\n",
    "1. Use `pd.get_dummies(..., drop_first = True)` to create the indicator variable encodings for gender, ethnicity, and age. Note that this function can process multiple categorical variables at once. Store the data frame of indicators for all three variables as `indicators`.\n",
    "2. Add an intercept to obtain the explanatory variable matrix. Store this as a data frame called `x`.\n",
    "3. Store the response variable as a pandas series named `y`."
   ]
  },
  {
   "cell_type": "code",
   "execution_count": 50,
   "metadata": {
    "tags": [
     "otter_assign_solution_cell"
    ]
   },
   "outputs": [],
   "source": [
    "indicators = pd.get_dummies(reg_data.loc[:, ['Gender', 'Ethnicity', 'Age Cohort']], drop_first = True) # SOLUTION\n",
    "x = sm.tools.add_constant(indicators) # SOLUTION\n",
    "y = np.log(reg_data.Expenditures) # SOLUTION"
   ]
  },
  {
   "cell_type": "code",
   "execution_count": null,
   "metadata": {
    "deletable": false,
    "editable": false
   },
   "outputs": [],
   "source": [
    "grader.check(\"q8\")"
   ]
  },
  {
   "attachments": {},
   "cell_type": "markdown",
   "metadata": {},
   "source": [
    "### Question 9: model fitting\n",
    "\n",
    "Fit the model:\n",
    "\n",
    "$$\n",
    "\\log\\left(\\text{expend}_i\\right)\n",
    "    = \\beta_0 + \\beta_1\\left(\\text{6-12}\\right)_i + \\cdots + \\beta_5\\left(\\text{51+}\\right)_i \n",
    "        + \\beta_6\\text{female}_i \n",
    "        + \\beta_7\\text{hispanic}_i + \\cdots + \\beta_{13}\\text{other}_i\n",
    "        + \\epsilon_i\n",
    "$$\n",
    "\n",
    "Store the parameter estimates and standard errors as a data frame named `coef_tbl`. Index the data frame by variable name, and don't forget to include the error variance estimate. Display the result."
   ]
  },
  {
   "cell_type": "code",
   "execution_count": 56,
   "metadata": {
    "tags": [
     "otter_assign_solution_cell"
    ]
   },
   "outputs": [
    {
     "data": {
      "text/html": [
       "<div>\n",
       "<style scoped>\n",
       "    .dataframe tbody tr th:only-of-type {\n",
       "        vertical-align: middle;\n",
       "    }\n",
       "\n",
       "    .dataframe tbody tr th {\n",
       "        vertical-align: top;\n",
       "    }\n",
       "\n",
       "    .dataframe thead th {\n",
       "        text-align: right;\n",
       "    }\n",
       "</style>\n",
       "<table border=\"1\" class=\"dataframe\">\n",
       "  <thead>\n",
       "    <tr style=\"text-align: right;\">\n",
       "      <th></th>\n",
       "      <th>estimate</th>\n",
       "      <th>standard error</th>\n",
       "    </tr>\n",
       "  </thead>\n",
       "  <tbody>\n",
       "    <tr>\n",
       "      <th>const</th>\n",
       "      <td>7.092439</td>\n",
       "      <td>0.041661</td>\n",
       "    </tr>\n",
       "    <tr>\n",
       "      <th>Gender_Female</th>\n",
       "      <td>0.039784</td>\n",
       "      <td>0.020749</td>\n",
       "    </tr>\n",
       "    <tr>\n",
       "      <th>Ethnicity_Hispanic</th>\n",
       "      <td>0.038594</td>\n",
       "      <td>0.024893</td>\n",
       "    </tr>\n",
       "    <tr>\n",
       "      <th>Ethnicity_Black</th>\n",
       "      <td>0.041713</td>\n",
       "      <td>0.045725</td>\n",
       "    </tr>\n",
       "    <tr>\n",
       "      <th>Ethnicity_Asian</th>\n",
       "      <td>-0.021103</td>\n",
       "      <td>0.033470</td>\n",
       "    </tr>\n",
       "    <tr>\n",
       "      <th>Ethnicity_Native Hawaiian</th>\n",
       "      <td>-0.030725</td>\n",
       "      <td>0.189967</td>\n",
       "    </tr>\n",
       "    <tr>\n",
       "      <th>Ethnicity_American Indian</th>\n",
       "      <td>-0.054396</td>\n",
       "      <td>0.164910</td>\n",
       "    </tr>\n",
       "    <tr>\n",
       "      <th>Ethnicity_Multi Race</th>\n",
       "      <td>0.041024</td>\n",
       "      <td>0.067680</td>\n",
       "    </tr>\n",
       "    <tr>\n",
       "      <th>Ethnicity_Other</th>\n",
       "      <td>-0.189877</td>\n",
       "      <td>0.232910</td>\n",
       "    </tr>\n",
       "    <tr>\n",
       "      <th>Age Cohort_6 to 12</th>\n",
       "      <td>0.490276</td>\n",
       "      <td>0.043855</td>\n",
       "    </tr>\n",
       "    <tr>\n",
       "      <th>Age Cohort_13 to 17</th>\n",
       "      <td>1.101010</td>\n",
       "      <td>0.042783</td>\n",
       "    </tr>\n",
       "    <tr>\n",
       "      <th>Age Cohort_18 to 21</th>\n",
       "      <td>2.023844</td>\n",
       "      <td>0.043456</td>\n",
       "    </tr>\n",
       "    <tr>\n",
       "      <th>Age Cohort_22 to 50</th>\n",
       "      <td>3.470836</td>\n",
       "      <td>0.043521</td>\n",
       "    </tr>\n",
       "    <tr>\n",
       "      <th>Age Cohort_51+</th>\n",
       "      <td>3.762393</td>\n",
       "      <td>0.049561</td>\n",
       "    </tr>\n",
       "    <tr>\n",
       "      <th>error variance</th>\n",
       "      <td>0.107005</td>\n",
       "      <td>NaN</td>\n",
       "    </tr>\n",
       "  </tbody>\n",
       "</table>\n",
       "</div>"
      ],
      "text/plain": [
       "                           estimate  standard error\n",
       "const                      7.092439        0.041661\n",
       "Gender_Female              0.039784        0.020749\n",
       "Ethnicity_Hispanic         0.038594        0.024893\n",
       "Ethnicity_Black            0.041713        0.045725\n",
       "Ethnicity_Asian           -0.021103        0.033470\n",
       "Ethnicity_Native Hawaiian -0.030725        0.189967\n",
       "Ethnicity_American Indian -0.054396        0.164910\n",
       "Ethnicity_Multi Race       0.041024        0.067680\n",
       "Ethnicity_Other           -0.189877        0.232910\n",
       "Age Cohort_6 to 12         0.490276        0.043855\n",
       "Age Cohort_13 to 17        1.101010        0.042783\n",
       "Age Cohort_18 to 21        2.023844        0.043456\n",
       "Age Cohort_22 to 50        3.470836        0.043521\n",
       "Age Cohort_51+             3.762393        0.049561\n",
       "error variance             0.107005             NaN"
      ]
     },
     "execution_count": 56,
     "metadata": {},
     "output_type": "execute_result"
    }
   ],
   "source": [
    "# fit model\n",
    "mlr = sm.OLS(endog = y, exog = x) # SOLUTION\n",
    "rslt = mlr.fit() # SOLUTION\n",
    "\n",
    "# retreive estimates and std errors\n",
    "coef_tbl = pd.DataFrame(\n",
    "    # BEGIN SOLUTION\n",
    "    {'estimate': rslt.params, \n",
    "    'standard error': np.sqrt(rslt.cov_params().values.diagonal())},\n",
    "    index = x.columns\n",
    "    # END SOLUTION\n",
    ")\n",
    "coef_tbl.loc['error variance', 'estimate'] = rslt.scale # SOLUTION\n",
    "\n",
    "# display\n",
    "coef_tbl"
   ]
  },
  {
   "cell_type": "code",
   "execution_count": null,
   "metadata": {
    "deletable": false,
    "editable": false
   },
   "outputs": [],
   "source": [
    "grader.check(\"q9\")"
   ]
  },
  {
   "attachments": {},
   "cell_type": "markdown",
   "metadata": {},
   "source": [
    "Now look at both the estimates and standard errors for each level of each categorical variable; if some estimates are large for at least one level and the standard errors aren't too big, then estimated mean log expenditures differ according to the value of that variable when the other variables are held constant.\n",
    "\n",
    "For example: the estimate for `Gender_Female` is 0.04; that means that, if age and ethnicity are held fixed, the estimated difference in mean log expenditure between female and male recipients is 0.04. If $\\log(a) - \\log(b) = 0.04$, then $\\frac{a}{b} = e^{0.04} \\approx 1.041$; so the estimated expenditures (not on the log scale) differ by a factor of about 1, *i.e.*, are about the same. Further, the standard error is 0.02, so the estimate is within 2SE of 0; the difference could well be zero. So the model suggests there is no difference in expenditure by gender."
   ]
  },
  {
   "attachments": {},
   "cell_type": "markdown",
   "metadata": {},
   "source": [
    "<!-- BEGIN QUESTION -->\n",
    "\n",
    "### Question 10: interpretation\n",
    "\n",
    "Do the parameter estimates suggest differences in expenditure by age or ethnicity?\n",
    "\n",
    "First consider the estimates and standard errors for each level of age, and state whether any differences in mean log expenditure between levels appear significant; if so, cite one example. Then do the same for the levels of ethnicity. Answer in 2-4 sentences.\n",
    "\n",
    "(*Hint*: it may be helpful scratch work to exponentiate the coefficient estimates and consider whether they differ by much from 1.)"
   ]
  },
  {
   "cell_type": "markdown",
   "metadata": {},
   "source": [
    "_Type your answer here, replacing this text._"
   ]
  },
  {
   "cell_type": "code",
   "execution_count": 62,
   "metadata": {
    "tags": [
     "otter_assign_solution_cell"
    ]
   },
   "outputs": [
    {
     "data": {
      "text/plain": [
       "const                        1202.838256\n",
       "Gender_Female                   1.040586\n",
       "Ethnicity_Hispanic              1.039348\n",
       "Ethnicity_Black                 1.042595\n",
       "Ethnicity_Asian                 0.979118\n",
       "Ethnicity_Native Hawaiian       0.969742\n",
       "Ethnicity_American Indian       0.947057\n",
       "Ethnicity_Multi Race            1.041877\n",
       "Ethnicity_Other                 0.827061\n",
       "Age Cohort_6 to 12              1.632767\n",
       "Age Cohort_13 to 17             3.007203\n",
       "Age Cohort_18 to 21             7.567356\n",
       "Age Cohort_22 to 50            32.163632\n",
       "Age Cohort_51+                 43.051330\n",
       "dtype: float64"
      ]
     },
     "execution_count": 62,
     "metadata": {},
     "output_type": "execute_result"
    }
   ],
   "source": [
    "# exponentiate parameter estimates\n",
    "np.exp(rslt.params) # SOLUTION"
   ]
  },
  {
   "attachments": {},
   "cell_type": "markdown",
   "metadata": {
    "tags": [
     "otter_assign_solution_cell"
    ]
   },
   "source": [
    "**SOLUTION**\n",
    "\n",
    "The estimates suggest significant differences in expenditure between all age cohorts; for example, the 22-50 cohort receives an estimated 32 times the median expenditure (see comments on the log transform) of the 0-5 cohort, after accounting for gender and ethnicity. The estimates suggest no significant differences according to ethnicity; all estimated differences are near 0 on the log scale, and near 1 when exponentiated."
   ]
  },
  {
   "attachments": {},
   "cell_type": "markdown",
   "metadata": {},
   "source": [
    "<!-- END QUESTION -->\n",
    "\n",
    "Now as a final step in the analysis, you'll visualize your results. The idea is simple: plot the estimated mean log expenditures for each group. Essentially you'll make a version of your figure 4 from part 1 in which the points are estimated rather than observed. So the model visualization graphic will look similar to your exploratory figure.\n",
    "\n",
    "The cell below constructs a prediction grid for you. This grid comprises all unique combinations of the age, sex, and ethnicity categories."
   ]
  },
  {
   "cell_type": "code",
   "execution_count": 63,
   "metadata": {},
   "outputs": [
    {
     "data": {
      "text/html": [
       "<div>\n",
       "<style scoped>\n",
       "    .dataframe tbody tr th:only-of-type {\n",
       "        vertical-align: middle;\n",
       "    }\n",
       "\n",
       "    .dataframe tbody tr th {\n",
       "        vertical-align: top;\n",
       "    }\n",
       "\n",
       "    .dataframe thead th {\n",
       "        text-align: right;\n",
       "    }\n",
       "</style>\n",
       "<table border=\"1\" class=\"dataframe\">\n",
       "  <thead>\n",
       "    <tr style=\"text-align: right;\">\n",
       "      <th></th>\n",
       "      <th>Gender</th>\n",
       "      <th>Ethnicity</th>\n",
       "      <th>Age Cohort</th>\n",
       "    </tr>\n",
       "  </thead>\n",
       "  <tbody>\n",
       "    <tr>\n",
       "      <th>0</th>\n",
       "      <td>Male</td>\n",
       "      <td>White not Hispanic</td>\n",
       "      <td>0 to 5</td>\n",
       "    </tr>\n",
       "    <tr>\n",
       "      <th>1</th>\n",
       "      <td>Male</td>\n",
       "      <td>White not Hispanic</td>\n",
       "      <td>6 to 12</td>\n",
       "    </tr>\n",
       "    <tr>\n",
       "      <th>2</th>\n",
       "      <td>Male</td>\n",
       "      <td>White not Hispanic</td>\n",
       "      <td>13 to 17</td>\n",
       "    </tr>\n",
       "    <tr>\n",
       "      <th>3</th>\n",
       "      <td>Male</td>\n",
       "      <td>White not Hispanic</td>\n",
       "      <td>18 to 21</td>\n",
       "    </tr>\n",
       "    <tr>\n",
       "      <th>4</th>\n",
       "      <td>Male</td>\n",
       "      <td>White not Hispanic</td>\n",
       "      <td>22 to 50</td>\n",
       "    </tr>\n",
       "  </tbody>\n",
       "</table>\n",
       "</div>"
      ],
      "text/plain": [
       "  Gender           Ethnicity Age Cohort\n",
       "0   Male  White not Hispanic     0 to 5\n",
       "1   Male  White not Hispanic    6 to 12\n",
       "2   Male  White not Hispanic   13 to 17\n",
       "3   Male  White not Hispanic   18 to 21\n",
       "4   Male  White not Hispanic   22 to 50"
      ]
     },
     "execution_count": 63,
     "metadata": {},
     "output_type": "execute_result"
    }
   ],
   "source": [
    "# obtain unique values of each categorical variable\n",
    "genders = reg_data.Gender.cat.categories.values\n",
    "ethnicities = reg_data.Ethnicity.cat.categories.values\n",
    "ages = reg_data['Age Cohort'].cat.categories.values\n",
    "\n",
    "# generate mesh\n",
    "gx, ex, ax = np.meshgrid(genders, ethnicities, ages)\n",
    "grid = np.array([gx.ravel(), ex.ravel(), ax.ravel()]).T\n",
    "\n",
    "# coerce to dataframe\n",
    "grid_df = pd.DataFrame(grid, columns = ['Gender', 'Ethnicity', 'Age Cohort'])\n",
    "grid_df.head()"
   ]
  },
  {
   "attachments": {},
   "cell_type": "markdown",
   "metadata": {},
   "source": [
    "### Question 11: compute predictions\n",
    "\n",
    "Calculate predictions with confidence intervals for the predicted mean for each grid point; append these to `grid_df` and store the result as `pred_df`. Ensure that the column containing the predictions is named `mean`.\n",
    "\n",
    "Note that you will need to generate indicators in order to compute the predictions; this can be done in the same way that the data were preprocessed. Note also that **you will need to arrange the indicator columns in exactly the same order that they appear in the explanatory variable matrix** in order to generate valid predictions."
   ]
  },
  {
   "cell_type": "code",
   "execution_count": 64,
   "metadata": {
    "tags": [
     "otter_assign_solution_cell"
    ]
   },
   "outputs": [
    {
     "data": {
      "text/html": [
       "<div>\n",
       "<style scoped>\n",
       "    .dataframe tbody tr th:only-of-type {\n",
       "        vertical-align: middle;\n",
       "    }\n",
       "\n",
       "    .dataframe tbody tr th {\n",
       "        vertical-align: top;\n",
       "    }\n",
       "\n",
       "    .dataframe thead th {\n",
       "        text-align: right;\n",
       "    }\n",
       "</style>\n",
       "<table border=\"1\" class=\"dataframe\">\n",
       "  <thead>\n",
       "    <tr style=\"text-align: right;\">\n",
       "      <th></th>\n",
       "      <th>Gender</th>\n",
       "      <th>Ethnicity</th>\n",
       "      <th>Age Cohort</th>\n",
       "      <th>mean</th>\n",
       "      <th>mean_se</th>\n",
       "      <th>mean_ci_lower</th>\n",
       "      <th>mean_ci_upper</th>\n",
       "      <th>obs_ci_lower</th>\n",
       "      <th>obs_ci_upper</th>\n",
       "    </tr>\n",
       "  </thead>\n",
       "  <tbody>\n",
       "    <tr>\n",
       "      <th>0</th>\n",
       "      <td>Male</td>\n",
       "      <td>White not Hispanic</td>\n",
       "      <td>0 to 5</td>\n",
       "      <td>7.092439</td>\n",
       "      <td>0.041661</td>\n",
       "      <td>7.010685</td>\n",
       "      <td>7.174194</td>\n",
       "      <td>6.445331</td>\n",
       "      <td>7.739548</td>\n",
       "    </tr>\n",
       "    <tr>\n",
       "      <th>1</th>\n",
       "      <td>Male</td>\n",
       "      <td>White not Hispanic</td>\n",
       "      <td>6 to 12</td>\n",
       "      <td>7.582715</td>\n",
       "      <td>0.032020</td>\n",
       "      <td>7.519881</td>\n",
       "      <td>7.645550</td>\n",
       "      <td>6.937724</td>\n",
       "      <td>8.227707</td>\n",
       "    </tr>\n",
       "    <tr>\n",
       "      <th>2</th>\n",
       "      <td>Male</td>\n",
       "      <td>White not Hispanic</td>\n",
       "      <td>13 to 17</td>\n",
       "      <td>8.193450</td>\n",
       "      <td>0.029301</td>\n",
       "      <td>8.135950</td>\n",
       "      <td>8.250950</td>\n",
       "      <td>7.548956</td>\n",
       "      <td>8.837943</td>\n",
       "    </tr>\n",
       "    <tr>\n",
       "      <th>3</th>\n",
       "      <td>Male</td>\n",
       "      <td>White not Hispanic</td>\n",
       "      <td>18 to 21</td>\n",
       "      <td>9.116283</td>\n",
       "      <td>0.029439</td>\n",
       "      <td>9.058513</td>\n",
       "      <td>9.174053</td>\n",
       "      <td>8.471765</td>\n",
       "      <td>9.760801</td>\n",
       "    </tr>\n",
       "    <tr>\n",
       "      <th>4</th>\n",
       "      <td>Male</td>\n",
       "      <td>White not Hispanic</td>\n",
       "      <td>22 to 50</td>\n",
       "      <td>10.563276</td>\n",
       "      <td>0.025658</td>\n",
       "      <td>10.512926</td>\n",
       "      <td>10.613626</td>\n",
       "      <td>9.919380</td>\n",
       "      <td>11.207171</td>\n",
       "    </tr>\n",
       "  </tbody>\n",
       "</table>\n",
       "</div>"
      ],
      "text/plain": [
       "  Gender           Ethnicity Age Cohort       mean   mean_se  mean_ci_lower  \\\n",
       "0   Male  White not Hispanic     0 to 5   7.092439  0.041661       7.010685   \n",
       "1   Male  White not Hispanic    6 to 12   7.582715  0.032020       7.519881   \n",
       "2   Male  White not Hispanic   13 to 17   8.193450  0.029301       8.135950   \n",
       "3   Male  White not Hispanic   18 to 21   9.116283  0.029439       9.058513   \n",
       "4   Male  White not Hispanic   22 to 50  10.563276  0.025658      10.512926   \n",
       "\n",
       "   mean_ci_upper  obs_ci_lower  obs_ci_upper  \n",
       "0       7.174194      6.445331      7.739548  \n",
       "1       7.645550      6.937724      8.227707  \n",
       "2       8.250950      7.548956      8.837943  \n",
       "3       9.174053      8.471765      9.760801  \n",
       "4      10.613626      9.919380     11.207171  "
      ]
     },
     "execution_count": 64,
     "metadata": {},
     "output_type": "execute_result"
    }
   ],
   "source": [
    "# generate indicators based on the prediction grid\n",
    "grid_indicators = pd.get_dummies(grid_df, prefix = None).drop(columns = {'Gender_Male', 'Ethnicity_White not Hispanic', 'Age Cohort_0 to 5'}) # SOLUTION\n",
    "\n",
    "# add an intercept and arrange columns to match x\n",
    "x_grid = sm.tools.add_constant(grid_indicators).loc[:, x.columns.values.tolist()] # SOLUTION\n",
    "\n",
    "# compute predictions\n",
    "preds = rslt.get_prediction(x_grid) # SOLUTION\n",
    "\n",
    "# append values of categorical variables at grid points to predictions\n",
    "pred_df = pd.concat([grid_df, preds.summary_frame()], axis = 1) # SOLUTION\n",
    "\n",
    "# preview\n",
    "pred_df.head()"
   ]
  },
  {
   "cell_type": "code",
   "execution_count": null,
   "metadata": {
    "deletable": false,
    "editable": false
   },
   "outputs": [],
   "source": [
    "grader.check(\"q11\")"
   ]
  },
  {
   "attachments": {},
   "cell_type": "markdown",
   "metadata": {},
   "source": [
    "<!-- BEGIN QUESTION -->\n",
    "\n",
    "### Question 12: model visualization\n",
    "\n",
    "Plot estimated mean log expenditure (y) against ethnicity (x) by age cohort (color) and gender (facet). Construct a line plot with points at each estimated value, and include confidence bands. Use a sequential color scale for age and ensure that the age cohorts are in appropriate order (you may want to construct another `cohort_order` variable as before for this purpose)."
   ]
  },
  {
   "cell_type": "code",
   "execution_count": 67,
   "metadata": {
    "tags": [
     "otter_assign_solution_cell"
    ]
   },
   "outputs": [
    {
     "data": {
      "text/html": [
       "\n",
       "<div id=\"altair-viz-7436c78a4e304c668cff42acba19c0db\"></div>\n",
       "<script type=\"text/javascript\">\n",
       "  var VEGA_DEBUG = (typeof VEGA_DEBUG == \"undefined\") ? {} : VEGA_DEBUG;\n",
       "  (function(spec, embedOpt){\n",
       "    let outputDiv = document.currentScript.previousElementSibling;\n",
       "    if (outputDiv.id !== \"altair-viz-7436c78a4e304c668cff42acba19c0db\") {\n",
       "      outputDiv = document.getElementById(\"altair-viz-7436c78a4e304c668cff42acba19c0db\");\n",
       "    }\n",
       "    const paths = {\n",
       "      \"vega\": \"https://cdn.jsdelivr.net/npm//vega@5?noext\",\n",
       "      \"vega-lib\": \"https://cdn.jsdelivr.net/npm//vega-lib?noext\",\n",
       "      \"vega-lite\": \"https://cdn.jsdelivr.net/npm//vega-lite@4.17.0?noext\",\n",
       "      \"vega-embed\": \"https://cdn.jsdelivr.net/npm//vega-embed@6?noext\",\n",
       "    };\n",
       "\n",
       "    function maybeLoadScript(lib, version) {\n",
       "      var key = `${lib.replace(\"-\", \"\")}_version`;\n",
       "      return (VEGA_DEBUG[key] == version) ?\n",
       "        Promise.resolve(paths[lib]) :\n",
       "        new Promise(function(resolve, reject) {\n",
       "          var s = document.createElement('script');\n",
       "          document.getElementsByTagName(\"head\")[0].appendChild(s);\n",
       "          s.async = true;\n",
       "          s.onload = () => {\n",
       "            VEGA_DEBUG[key] = version;\n",
       "            return resolve(paths[lib]);\n",
       "          };\n",
       "          s.onerror = () => reject(`Error loading script: ${paths[lib]}`);\n",
       "          s.src = paths[lib];\n",
       "        });\n",
       "    }\n",
       "\n",
       "    function showError(err) {\n",
       "      outputDiv.innerHTML = `<div class=\"error\" style=\"color:red;\">${err}</div>`;\n",
       "      throw err;\n",
       "    }\n",
       "\n",
       "    function displayChart(vegaEmbed) {\n",
       "      vegaEmbed(outputDiv, spec, embedOpt)\n",
       "        .catch(err => showError(`Javascript Error: ${err.message}<br>This usually means there's a typo in your chart specification. See the javascript console for the full traceback.`));\n",
       "    }\n",
       "\n",
       "    if(typeof define === \"function\" && define.amd) {\n",
       "      requirejs.config({paths});\n",
       "      require([\"vega-embed\"], displayChart, err => showError(`Error loading script: ${err.message}`));\n",
       "    } else {\n",
       "      maybeLoadScript(\"vega\", \"5\")\n",
       "        .then(() => maybeLoadScript(\"vega-lite\", \"4.17.0\"))\n",
       "        .then(() => maybeLoadScript(\"vega-embed\", \"6\"))\n",
       "        .catch(showError)\n",
       "        .then(() => displayChart(vegaEmbed));\n",
       "    }\n",
       "  })({\"config\": {\"view\": {\"continuousWidth\": 400, \"continuousHeight\": 300}}, \"data\": {\"name\": \"data-6dfa5a4c0f86e478c019ab47fc79026d\"}, \"facet\": {\"column\": {\"field\": \"Gender\", \"type\": \"nominal\"}}, \"spec\": {\"layer\": [{\"mark\": {\"type\": \"line\", \"point\": true}, \"encoding\": {\"color\": {\"field\": \"Age Cohort\", \"sort\": {\"field\": \"cohort_order\", \"order\": \"ascending\"}, \"type\": \"ordinal\"}, \"x\": {\"field\": \"Ethnicity\", \"title\": \"\", \"type\": \"nominal\"}, \"y\": {\"field\": \"mean\", \"scale\": {\"zero\": false}, \"title\": \"Estimated log median expentiure\", \"type\": \"quantitative\"}}}, {\"mark\": {\"type\": \"area\", \"opacity\": 0.4}, \"encoding\": {\"color\": {\"field\": \"Age Cohort\", \"sort\": {\"field\": \"cohort_order\", \"order\": \"ascending\"}, \"type\": \"ordinal\"}, \"x\": {\"field\": \"Ethnicity\", \"type\": \"nominal\"}, \"y\": {\"field\": \"mean_ci_lower\", \"type\": \"quantitative\"}, \"y2\": {\"field\": \"mean_ci_upper\"}}}]}, \"$schema\": \"https://vega.github.io/schema/vega-lite/v4.17.0.json\", \"datasets\": {\"data-6dfa5a4c0f86e478c019ab47fc79026d\": [{\"Gender\": \"Male\", \"Ethnicity\": \"White not Hispanic\", \"Age Cohort\": \"0 to 5\", \"mean\": 7.092439256011245, \"mean_se\": 0.041660978905950864, \"mean_ci_lower\": 7.010684882309157, \"mean_ci_upper\": 7.174193629713333, \"obs_ci_lower\": 6.445330575070641, \"obs_ci_upper\": 7.7395479369518485, \"cohort_order\": 0}, {\"Gender\": \"Male\", \"Ethnicity\": \"White not Hispanic\", \"Age Cohort\": \"6 to 12\", \"mean\": 7.582715095888047, \"mean_se\": 0.032019609043347844, \"mean_ci_lower\": 7.519880684593149, \"mean_ci_upper\": 7.645549507182945, \"obs_ci_lower\": 6.937723599376625, \"obs_ci_upper\": 8.22770659239947, \"cohort_order\": 1}, {\"Gender\": \"Male\", \"Ethnicity\": \"White not Hispanic\", \"Age Cohort\": \"13 to 17\", \"mean\": 8.193449717055714, \"mean_se\": 0.029301322833292027, \"mean_ci_lower\": 8.135949596804428, \"mean_ci_upper\": 8.250949837307, \"obs_ci_lower\": 7.548956015644924, \"obs_ci_upper\": 8.837943418466503, \"cohort_order\": 2}, {\"Gender\": \"Male\", \"Ethnicity\": \"White not Hispanic\", \"Age Cohort\": \"18 to 21\", \"mean\": 9.116282970401045, \"mean_se\": 0.0294388558457865, \"mean_ci_lower\": 9.058512959100746, \"mean_ci_upper\": 9.174052981701344, \"obs_ci_lower\": 8.471765133925665, \"obs_ci_upper\": 9.760800806876425, \"cohort_order\": 3}, {\"Gender\": \"Male\", \"Ethnicity\": \"White not Hispanic\", \"Age Cohort\": \"22 to 50\", \"mean\": 10.56327562775497, \"mean_se\": 0.02565768643391629, \"mean_ci_lower\": 10.512925680630955, \"mean_ci_upper\": 10.613625574878986, \"obs_ci_lower\": 9.919380461982888, \"obs_ci_upper\": 11.207170793527053, \"cohort_order\": 4}, {\"Gender\": \"Male\", \"Ethnicity\": \"White not Hispanic\", \"Age Cohort\": \"51+\", \"mean\": 10.854832373618141, \"mean_se\": 0.034839367078327084, \"mean_ci_lower\": 10.786464545725865, \"mean_ci_upper\": 10.923200201510417, \"obs_ci_lower\": 10.209278326910992, \"obs_ci_upper\": 11.50038642032529, \"cohort_order\": 5}, {\"Gender\": \"Female\", \"Ethnicity\": \"White not Hispanic\", \"Age Cohort\": \"0 to 5\", \"mean\": 7.132223036584678, \"mean_se\": 0.04135845267210763, \"mean_ci_lower\": 7.051062332148791, \"mean_ci_upper\": 7.213383741020565, \"obs_ci_lower\": 6.485189090586636, \"obs_ci_upper\": 7.77925698258272, \"cohort_order\": 0}, {\"Gender\": \"Female\", \"Ethnicity\": \"White not Hispanic\", \"Age Cohort\": \"6 to 12\", \"mean\": 7.6224988764614805, \"mean_se\": 0.031193222663759478, \"mean_ci_lower\": 7.561286143357383, \"mean_ci_upper\": 7.683711609565578, \"obs_ci_lower\": 6.977663342372872, \"obs_ci_upper\": 8.26733441055009, \"cohort_order\": 1}, {\"Gender\": \"Female\", \"Ethnicity\": \"White not Hispanic\", \"Age Cohort\": \"13 to 17\", \"mean\": 8.233233497629147, \"mean_se\": 0.02908094097116852, \"mean_ci_lower\": 8.176165848759627, \"mean_ci_upper\": 8.290301146498667, \"obs_ci_lower\": 7.588778236282975, \"obs_ci_upper\": 8.877688758975319, \"cohort_order\": 2}, {\"Gender\": \"Female\", \"Ethnicity\": \"White not Hispanic\", \"Age Cohort\": \"18 to 21\", \"mean\": 9.156066750974478, \"mean_se\": 0.02921454046033194, \"mean_ci_lower\": 9.098736930095315, \"mean_ci_upper\": 9.213396571853641, \"obs_ci_lower\": 8.511588220927662, \"obs_ci_upper\": 9.800545281021295, \"cohort_order\": 3}, {\"Gender\": \"Female\", \"Ethnicity\": \"White not Hispanic\", \"Age Cohort\": \"22 to 50\", \"mean\": 10.603059408328404, \"mean_se\": 0.026059742868129742, \"mean_ci_lower\": 10.55192047657572, \"mean_ci_upper\": 10.654198340081088, \"obs_ci_lower\": 9.959102066829704, \"obs_ci_upper\": 11.247016749827104, \"cohort_order\": 4}, {\"Gender\": \"Female\", \"Ethnicity\": \"White not Hispanic\", \"Age Cohort\": \"51+\", \"mean\": 10.894616154191574, \"mean_se\": 0.03440942257980658, \"mean_ci_lower\": 10.827092037708063, \"mean_ci_upper\": 10.962140270675086, \"obs_ci_lower\": 10.24915091606008, \"obs_ci_upper\": 11.540081392323069, \"cohort_order\": 5}, {\"Gender\": \"Male\", \"Ethnicity\": \"Hispanic\", \"Age Cohort\": \"0 to 5\", \"mean\": 7.131033195511535, \"mean_se\": 0.039271450578326296, \"mean_ci_lower\": 7.05396796731199, \"mean_ci_upper\": 7.208098423711081, \"obs_ci_lower\": 6.484500198111777, \"obs_ci_upper\": 7.777566192911293, \"cohort_order\": 0}, {\"Gender\": \"Male\", \"Ethnicity\": \"Hispanic\", \"Age Cohort\": \"6 to 12\", \"mean\": 7.621309035388338, \"mean_se\": 0.02931120239829673, \"mean_ci_lower\": 7.563789527746966, \"mean_ci_upper\": 7.678828543029709, \"obs_ci_lower\": 6.97681360399369, \"obs_ci_upper\": 8.265804466782985, \"cohort_order\": 1}, {\"Gender\": \"Male\", \"Ethnicity\": \"Hispanic\", \"Age Cohort\": \"13 to 17\", \"mean\": 8.232043656556003, \"mean_se\": 0.027363495135330214, \"mean_ci_lower\": 8.17834627675753, \"mean_ci_upper\": 8.285741036354477, \"obs_ci_lower\": 7.587878090939143, \"obs_ci_upper\": 8.876209222172863, \"cohort_order\": 2}, {\"Gender\": \"Male\", \"Ethnicity\": \"Hispanic\", \"Age Cohort\": \"18 to 21\", \"mean\": 9.154876909901335, \"mean_se\": 0.028982338517192018, \"mean_ci_lower\": 9.09800275580995, \"mean_ci_upper\": 9.211751063992718, \"obs_ci_lower\": 8.510438754037734, \"obs_ci_upper\": 9.799315065764935, \"cohort_order\": 3}, {\"Gender\": \"Male\", \"Ethnicity\": \"Hispanic\", \"Age Cohort\": \"22 to 50\", \"mean\": 10.60186956725526, \"mean_se\": 0.030161956009408512, \"mean_ci_lower\": 10.542680563829638, \"mean_ci_upper\": 10.661058570680883, \"obs_ci_lower\": 9.957222993188674, \"obs_ci_upper\": 11.246516141321846, \"cohort_order\": 4}, {\"Gender\": \"Male\", \"Ethnicity\": \"Hispanic\", \"Age Cohort\": \"51+\", \"mean\": 10.893426313118432, \"mean_se\": 0.03882044193400664, \"mean_ci_lower\": 10.81724613203537, \"mean_ci_upper\": 10.969606494201495, \"obs_ci_lower\": 10.246998214008318, \"obs_ci_upper\": 11.539854412228546, \"cohort_order\": 5}, {\"Gender\": \"Female\", \"Ethnicity\": \"Hispanic\", \"Age Cohort\": \"0 to 5\", \"mean\": 7.170816976084969, \"mean_se\": 0.039099555398130315, \"mean_ci_lower\": 7.09408907031923, \"mean_ci_upper\": 7.2475448818507076, \"obs_ci_lower\": 6.5243240999815555, \"obs_ci_upper\": 7.817309852188382, \"cohort_order\": 0}, {\"Gender\": \"Female\", \"Ethnicity\": \"Hispanic\", \"Age Cohort\": \"6 to 12\", \"mean\": 7.661092815961771, \"mean_se\": 0.028610353382518765, \"mean_ci_lower\": 7.604948635397422, \"mean_ci_upper\": 7.71723699652612, \"obs_ci_lower\": 7.016718672827125, \"obs_ci_upper\": 8.305466959096417, \"cohort_order\": 1}, {\"Gender\": \"Female\", \"Ethnicity\": \"Hispanic\", \"Age Cohort\": \"13 to 17\", \"mean\": 8.271827437129437, \"mean_se\": 0.027341149057522805, \"mean_ci_lower\": 8.218173908667245, \"mean_ci_upper\": 8.325480965591629, \"obs_ci_lower\": 7.627665525459932, \"obs_ci_upper\": 8.915989348798941, \"cohort_order\": 2}, {\"Gender\": \"Female\", \"Ethnicity\": \"Hispanic\", \"Age Cohort\": \"18 to 21\", \"mean\": 9.194660690474768, \"mean_se\": 0.028956226351186342, \"mean_ci_lower\": 9.137837778188878, \"mean_ci_upper\": 9.251483602760658, \"obs_ci_lower\": 8.550227054876876, \"obs_ci_upper\": 9.83909432607266, \"cohort_order\": 3}, {\"Gender\": \"Female\", \"Ethnicity\": \"Hispanic\", \"Age Cohort\": \"22 to 50\", \"mean\": 10.641653347828694, \"mean_se\": 0.030694964950330427, \"mean_ci_lower\": 10.581418382131252, \"mean_ci_upper\": 10.701888313526135, \"obs_ci_lower\": 9.996909896197085, \"obs_ci_upper\": 11.286396799460302, \"cohort_order\": 4}, {\"Gender\": \"Female\", \"Ethnicity\": \"Hispanic\", \"Age Cohort\": \"51+\", \"mean\": 10.933210093691866, \"mean_se\": 0.03858623502734512, \"mean_ci_lower\": 10.857489513882552, \"mean_ci_upper\": 11.00893067350118, \"obs_ci_lower\": 10.286835996488144, \"obs_ci_upper\": 11.579584190895588, \"cohort_order\": 5}, {\"Gender\": \"Male\", \"Ethnicity\": \"Black\", \"Age Cohort\": \"0 to 5\", \"mean\": 7.134152046314024, \"mean_se\": 0.05681294422399582, \"mean_ci_lower\": 7.022663867323084, \"mean_ci_upper\": 7.245640225304964, \"obs_ci_lower\": 6.482618868813459, \"obs_ci_upper\": 7.785685223814589, \"cohort_order\": 0}, {\"Gender\": \"Male\", \"Ethnicity\": \"Black\", \"Age Cohort\": \"6 to 12\", \"mean\": 7.624427886190826, \"mean_se\": 0.049319815191472605, \"mean_ci_lower\": 7.527644020137559, \"mean_ci_upper\": 7.721211752244094, \"obs_ci_lower\": 6.975249186557602, \"obs_ci_upper\": 8.273606585824052, \"cohort_order\": 1}, {\"Gender\": \"Male\", \"Ethnicity\": \"Black\", \"Age Cohort\": \"13 to 17\", \"mean\": 8.235162507358492, \"mean_se\": 0.04818781083305923, \"mean_ci_lower\": 8.140600055918622, \"mean_ci_upper\": 8.329724958798362, \"obs_ci_lower\": 7.586311272828122, \"obs_ci_upper\": 8.884013741888863, \"cohort_order\": 2}, {\"Gender\": \"Male\", \"Ethnicity\": \"Black\", \"Age Cohort\": \"18 to 21\", \"mean\": 9.157995760703823, \"mean_se\": 0.04891132450566266, \"mean_ci_lower\": 9.062013505679834, \"mean_ci_upper\": 9.253978015727812, \"obs_ci_lower\": 8.508936086553012, \"obs_ci_upper\": 9.807055434854634, \"cohort_order\": 3}, {\"Gender\": \"Male\", \"Ethnicity\": \"Black\", \"Age Cohort\": \"22 to 50\", \"mean\": 10.60498841805775, \"mean_se\": 0.0470758055377232, \"mean_ci_lower\": 10.51260813561297, \"mean_ci_upper\": 10.697368700502532, \"obs_ci_lower\": 9.956451615775995, \"obs_ci_upper\": 11.253525220339506, \"cohort_order\": 4}, {\"Gender\": \"Male\", \"Ethnicity\": \"Black\", \"Age Cohort\": \"51+\", \"mean\": 10.896545163920921, \"mean_se\": 0.053118478044135505, \"mean_ci_lower\": 10.792306905038192, \"mean_ci_upper\": 11.00078342280365, \"obs_ci_lower\": 10.246213339431169, \"obs_ci_upper\": 11.546876988410673, \"cohort_order\": 5}, {\"Gender\": \"Female\", \"Ethnicity\": \"Black\", \"Age Cohort\": \"0 to 5\", \"mean\": 7.173935826887457, \"mean_se\": 0.057156406214093396, \"mean_ci_lower\": 7.061773647413853, \"mean_ci_upper\": 7.286098006361062, \"obs_ci_lower\": 6.522286978324416, \"obs_ci_upper\": 7.825584675450498, \"cohort_order\": 0}, {\"Gender\": \"Female\", \"Ethnicity\": \"Black\", \"Age Cohort\": \"6 to 12\", \"mean\": 7.66421166676426, \"mean_se\": 0.04944153763047582, \"mean_ci_lower\": 7.567188935902062, \"mean_ci_upper\": 7.761234397626457, \"obs_ci_lower\": 7.014997312615165, \"obs_ci_upper\": 8.313426020913354, \"cohort_order\": 1}, {\"Gender\": \"Female\", \"Ethnicity\": \"Black\", \"Age Cohort\": \"13 to 17\", \"mean\": 8.274946287931925, \"mean_se\": 0.04871815284627689, \"mean_ci_lower\": 8.179343107726742, \"mean_ci_upper\": 8.370549468137108, \"obs_ci_lower\": 7.625942562677122, \"obs_ci_upper\": 8.92395001318673, \"cohort_order\": 2}, {\"Gender\": \"Female\", \"Ethnicity\": \"Black\", \"Age Cohort\": \"18 to 21\", \"mean\": 9.197779541277256, \"mean_se\": 0.04943096703060056, \"mean_ci_lower\": 9.10077755387321, \"mean_ci_upper\": 9.294781528681304, \"obs_ci_lower\": 8.548568286838764, \"obs_ci_upper\": 9.84699079571575, \"cohort_order\": 3}, {\"Gender\": \"Female\", \"Ethnicity\": \"Black\", \"Age Cohort\": \"22 to 50\", \"mean\": 10.644772198631184, \"mean_se\": 0.047970662785916426, \"mean_ci_lower\": 10.550635872622376, \"mean_ci_upper\": 10.738908524639992, \"obs_ci_lower\": 9.995982929913133, \"obs_ci_upper\": 11.293561467349235, \"cohort_order\": 4}, {\"Gender\": \"Female\", \"Ethnicity\": \"Black\", \"Age Cohort\": \"51+\", \"mean\": 10.936328944494354, \"mean_se\": 0.0534421113866705, \"mean_ci_lower\": 10.83145559632849, \"mean_ci_upper\": 11.041202292660218, \"obs_ci_lower\": 10.285895022804544, \"obs_ci_upper\": 11.586762866184165, \"cohort_order\": 5}, {\"Gender\": \"Male\", \"Ethnicity\": \"Asian\", \"Age Cohort\": \"0 to 5\", \"mean\": 7.071336356207862, \"mean_se\": 0.047242287510745176, \"mean_ci_lower\": 6.978629374060036, \"mean_ci_upper\": 7.164043338355688, \"obs_ci_lower\": 6.4227529368482354, \"obs_ci_upper\": 7.719919775567488, \"cohort_order\": 0}, {\"Gender\": \"Male\", \"Ethnicity\": \"Asian\", \"Age Cohort\": \"6 to 12\", \"mean\": 7.561612196084664, \"mean_se\": 0.03903856240723021, \"mean_ci_lower\": 7.4850039813080045, \"mean_ci_upper\": 7.638220410861324, \"obs_ci_lower\": 6.915133514378504, \"obs_ci_upper\": 8.208090877790823, \"cohort_order\": 1}, {\"Gender\": \"Male\", \"Ethnicity\": \"Asian\", \"Age Cohort\": \"13 to 17\", \"mean\": 8.17234681725233, \"mean_se\": 0.0374844010453142, \"mean_ci_lower\": 8.098788446529078, \"mean_ci_upper\": 8.245905187975584, \"obs_ci_lower\": 7.52622244746527, \"obs_ci_upper\": 8.818471187039393, \"cohort_order\": 2}, {\"Gender\": \"Male\", \"Ethnicity\": \"Asian\", \"Age Cohort\": \"18 to 21\", \"mean\": 9.095180070597662, \"mean_se\": 0.035292054127537296, \"mean_ci_lower\": 9.025923901932723, \"mean_ci_upper\": 9.164436239262601, \"obs_ci_lower\": 8.449531339299122, \"obs_ci_upper\": 9.740828801896201, \"cohort_order\": 3}, {\"Gender\": \"Male\", \"Ethnicity\": \"Asian\", \"Age Cohort\": \"22 to 50\", \"mean\": 10.542172727951588, \"mean_se\": 0.03622667304862648, \"mean_ci_lower\": 10.47108248849546, \"mean_ci_upper\": 10.613262967407715, \"obs_ci_lower\": 9.896324688955419, \"obs_ci_upper\": 11.188020766947757, \"cohort_order\": 4}, {\"Gender\": \"Male\", \"Ethnicity\": \"Asian\", \"Age Cohort\": \"51+\", \"mean\": 10.83372947381476, \"mean_se\": 0.043551152030362514, \"mean_ci_lower\": 10.748265875700936, \"mean_ci_upper\": 10.919193071928584, \"obs_ci_lower\": 10.186141723828838, \"obs_ci_upper\": 11.481317223800682, \"cohort_order\": 5}, {\"Gender\": \"Female\", \"Ethnicity\": \"Asian\", \"Age Cohort\": \"0 to 5\", \"mean\": 7.111120136781295, \"mean_se\": 0.047364844950466146, \"mean_ci_lower\": 7.018172651241805, \"mean_ci_upper\": 7.204067622320785, \"obs_ci_lower\": 6.462502296757309, \"obs_ci_upper\": 7.759737976805281, \"cohort_order\": 0}, {\"Gender\": \"Female\", \"Ethnicity\": \"Asian\", \"Age Cohort\": \"6 to 12\", \"mean\": 7.601395976658098, \"mean_se\": 0.038839174754236816, \"mean_ci_lower\": 7.525179034797305, \"mean_ci_upper\": 7.67761291851889, \"obs_ci_lower\": 6.954963544337534, \"obs_ci_upper\": 8.24782840897866, \"cohort_order\": 1}, {\"Gender\": \"Female\", \"Ethnicity\": \"Asian\", \"Age Cohort\": \"13 to 17\", \"mean\": 8.212130597825764, \"mean_se\": 0.03780111497851147, \"mean_ci_lower\": 8.137950716280365, \"mean_ci_upper\": 8.286310479371163, \"obs_ci_lower\": 7.5659351767994645, \"obs_ci_upper\": 8.858326018852065, \"cohort_order\": 2}, {\"Gender\": \"Female\", \"Ethnicity\": \"Asian\", \"Age Cohort\": \"18 to 21\", \"mean\": 9.134963851171095, \"mean_se\": 0.035624185453779864, \"mean_ci_lower\": 9.065055917010557, \"mean_ci_upper\": 9.204871785331633, \"obs_ci_lower\": 8.489244882433253, \"obs_ci_upper\": 9.780682819908938, \"cohort_order\": 3}, {\"Gender\": \"Female\", \"Ethnicity\": \"Asian\", \"Age Cohort\": \"22 to 50\", \"mean\": 10.581956508525021, \"mean_se\": 0.03701182958580745, \"mean_ci_lower\": 10.509325499201237, \"mean_ci_upper\": 10.654587517848805, \"obs_ci_lower\": 9.935937057699693, \"obs_ci_upper\": 11.22797595935035, \"cohort_order\": 4}, {\"Gender\": \"Female\", \"Ethnicity\": \"Asian\", \"Age Cohort\": \"51+\", \"mean\": 10.873513254388193, \"mean_se\": 0.043630723933186524, \"mean_ci_lower\": 10.78789350653304, \"mean_ci_upper\": 10.959133002243346, \"obs_ci_lower\": 10.225904878475676, \"obs_ci_upper\": 11.52112163030071, \"cohort_order\": 5}, {\"Gender\": \"Male\", \"Ethnicity\": \"Native Hawaiian\", \"Age Cohort\": \"0 to 5\", \"mean\": 7.061714496892059, \"mean_se\": 0.19398234081199403, \"mean_ci_lower\": 6.681048818868728, \"mean_ci_upper\": 7.442380174915391, \"obs_ci_lower\": 6.3154087781988215, \"obs_ci_upper\": 7.808020215585297, \"cohort_order\": 0}, {\"Gender\": \"Male\", \"Ethnicity\": \"Native Hawaiian\", \"Age Cohort\": \"6 to 12\", \"mean\": 7.551990336768862, \"mean_se\": 0.19215575165612947, \"mean_ci_lower\": 7.1749091077040115, \"mean_ci_upper\": 7.929071565833712, \"obs_ci_lower\": 6.807506542020899, \"obs_ci_upper\": 8.296474131516824, \"cohort_order\": 1}, {\"Gender\": \"Male\", \"Ethnicity\": \"Native Hawaiian\", \"Age Cohort\": \"13 to 17\", \"mean\": 8.162724957936527, \"mean_se\": 0.19175172318165687, \"mean_ci_lower\": 7.786436583378597, \"mean_ci_upper\": 8.539013332494457, \"obs_ci_lower\": 7.418642430150317, \"obs_ci_upper\": 8.906807485722737, \"cohort_order\": 2}, {\"Gender\": \"Male\", \"Ethnicity\": \"Native Hawaiian\", \"Age Cohort\": \"18 to 21\", \"mean\": 9.085558211281858, \"mean_se\": 0.191776645544241, \"mean_ci_lower\": 8.70922092975636, \"mean_ci_upper\": 9.461895492807358, \"obs_ci_lower\": 8.34145094966209, \"obs_ci_upper\": 9.829665472901628, \"cohort_order\": 3}, {\"Gender\": \"Male\", \"Ethnicity\": \"Native Hawaiian\", \"Age Cohort\": \"22 to 50\", \"mean\": 10.532550868635784, \"mean_se\": 0.1897737418822315, \"mean_ci_lower\": 10.160144030867809, \"mean_ci_upper\": 10.90495770640376, \"obs_ci_lower\": 9.790423709622175, \"obs_ci_upper\": 11.274678027649394, \"cohort_order\": 4}, {\"Gender\": \"Male\", \"Ethnicity\": \"Native Hawaiian\", \"Age Cohort\": \"51+\", \"mean\": 10.824107614498956, \"mean_se\": 0.19116696805159256, \"mean_ci_lower\": 10.448966747529253, \"mean_ci_upper\": 11.19924848146866, \"obs_ci_lower\": 10.080604731249638, \"obs_ci_upper\": 11.567610497748275, \"cohort_order\": 5}, {\"Gender\": \"Female\", \"Ethnicity\": \"Native Hawaiian\", \"Age Cohort\": \"0 to 5\", \"mean\": 7.101498277465493, \"mean_se\": 0.19353704913385603, \"mean_ci_lower\": 6.721706427739454, \"mean_ci_upper\": 7.4812901271915315, \"obs_ci_lower\": 6.355637890765948, \"obs_ci_upper\": 7.8473586641650375, \"cohort_order\": 0}, {\"Gender\": \"Female\", \"Ethnicity\": \"Native Hawaiian\", \"Age Cohort\": \"6 to 12\", \"mean\": 7.591774117342295, \"mean_se\": 0.19163546401411524, \"mean_ci_lower\": 7.215713886617734, \"mean_ci_upper\": 7.967834348066856, \"obs_ci_lower\": 6.847806937648272, \"obs_ci_upper\": 8.335741297036318, \"cohort_order\": 1}, {\"Gender\": \"Female\", \"Ethnicity\": \"Native Hawaiian\", \"Age Cohort\": \"13 to 17\", \"mean\": 8.20250873850996, \"mean_se\": 0.19133325206987328, \"mean_ci_lower\": 7.8270415602982215, \"mean_ci_upper\": 8.5779759167217, \"obs_ci_lower\": 7.458841158711329, \"obs_ci_upper\": 8.946176318308591, \"cohort_order\": 2}, {\"Gender\": \"Female\", \"Ethnicity\": \"Native Hawaiian\", \"Age Cohort\": \"18 to 21\", \"mean\": 9.125341991855292, \"mean_se\": 0.19135746997050296, \"mean_ci_lower\": 8.749827289092993, \"mean_ci_upper\": 9.50085669461759, \"obs_ci_lower\": 8.38165041645597, \"obs_ci_upper\": 9.869033567254613, \"cohort_order\": 3}, {\"Gender\": \"Female\", \"Ethnicity\": \"Native Hawaiian\", \"Age Cohort\": \"22 to 50\", \"mean\": 10.572334649209218, \"mean_se\": 0.1894397604245392, \"mean_ci_lower\": 10.20058320758456, \"mean_ci_upper\": 10.944086090833876, \"obs_ci_lower\": 9.830536157919784, \"obs_ci_upper\": 11.314133140498651, \"cohort_order\": 4}, {\"Gender\": \"Female\", \"Ethnicity\": \"Native Hawaiian\", \"Age Cohort\": \"51+\", \"mean\": 10.86389139507239, \"mean_se\": 0.19070289178302202, \"mean_ci_lower\": 10.489661218770149, \"mean_ci_upper\": 11.23812157137463, \"obs_ci_lower\": 10.120847592740068, \"obs_ci_upper\": 11.606935197404711, \"cohort_order\": 5}, {\"Gender\": \"Male\", \"Ethnicity\": \"American Indian\", \"Age Cohort\": \"0 to 5\", \"mean\": 7.0380427757896395, \"mean_se\": 0.16944097222865917, \"mean_ci_lower\": 6.705536413053929, \"mean_ci_upper\": 7.37054913852535, \"obs_ci_lower\": 6.315113769185949, \"obs_ci_upper\": 7.76097178239333, \"cohort_order\": 0}, {\"Gender\": \"Male\", \"Ethnicity\": \"American Indian\", \"Age Cohort\": \"6 to 12\", \"mean\": 7.528318615666442, \"mean_se\": 0.16736501501185633, \"mean_ci_lower\": 7.199886055000414, \"mean_ci_upper\": 7.8567511763324696, \"obs_ci_lower\": 6.807254253605112, \"obs_ci_upper\": 8.249382977727771, \"cohort_order\": 1}, {\"Gender\": \"Male\", \"Ethnicity\": \"American Indian\", \"Age Cohort\": \"13 to 17\", \"mean\": 8.139053236834108, \"mean_se\": 0.16613986303279246, \"mean_ci_lower\": 7.8130248811428205, \"mean_ci_upper\": 8.465081592525395, \"obs_ci_lower\": 7.419080767885446, \"obs_ci_upper\": 8.85902570578277, \"cohort_order\": 2}, {\"Gender\": \"Male\", \"Ethnicity\": \"American Indian\", \"Age Cohort\": \"18 to 21\", \"mean\": 9.06188649017944, \"mean_se\": 0.16696092081265174, \"mean_ci_lower\": 8.734246912996761, \"mean_ci_upper\": 9.389526067362118, \"obs_ci_lower\": 8.341182972867562, \"obs_ci_upper\": 9.782590007491317, \"cohort_order\": 3}, {\"Gender\": \"Male\", \"Ethnicity\": \"American Indian\", \"Age Cohort\": \"22 to 50\", \"mean\": 10.508879147533365, \"mean_se\": 0.16590110616096795, \"mean_ci_lower\": 10.183319321843909, \"mean_ci_upper\": 10.834438973222822, \"obs_ci_lower\": 9.789118723897683, \"obs_ci_upper\": 11.228639571169047, \"cohort_order\": 4}, {\"Gender\": \"Male\", \"Ethnicity\": \"American Indian\", \"Age Cohort\": \"51+\", \"mean\": 10.800435893396536, \"mean_se\": 0.16530894461273501, \"mean_ci_lower\": 10.476038109449197, \"mean_ci_upper\": 11.124833677343874, \"obs_ci_lower\": 10.081200334237222, \"obs_ci_upper\": 11.51967145255585, \"cohort_order\": 5}, {\"Gender\": \"Female\", \"Ethnicity\": \"American Indian\", \"Age Cohort\": \"0 to 5\", \"mean\": 7.077826556363073, \"mean_se\": 0.16876840255362008, \"mean_ci_lower\": 6.746640026094045, \"mean_ci_upper\": 7.4090130866321005, \"obs_ci_lower\": 6.3555036471590896, \"obs_ci_upper\": 7.800149465567056, \"cohort_order\": 0}, {\"Gender\": \"Female\", \"Ethnicity\": \"American Indian\", \"Age Cohort\": \"6 to 12\", \"mean\": 7.568102396239875, \"mean_se\": 0.1666026896945531, \"mean_ci_lower\": 7.241165802075596, \"mean_ci_upper\": 7.895038990404155, \"obs_ci_lower\": 6.847718190462842, \"obs_ci_upper\": 8.288486602016908, \"cohort_order\": 1}, {\"Gender\": \"Female\", \"Ethnicity\": \"American Indian\", \"Age Cohort\": \"13 to 17\", \"mean\": 8.178837017407542, \"mean_se\": 0.1654908876138546, \"mean_ci_lower\": 7.854082193455465, \"mean_ci_upper\": 8.503591841359619, \"obs_ci_lower\": 7.459440351437083, \"obs_ci_upper\": 8.898233683378, \"cohort_order\": 2}, {\"Gender\": \"Female\", \"Ethnicity\": \"American Indian\", \"Age Cohort\": \"18 to 21\", \"mean\": 9.101670270752873, \"mean_se\": 0.16631427601407692, \"mean_ci_lower\": 8.775299651763293, \"mean_ci_upper\": 9.428040889742453, \"obs_ci_lower\": 8.381542748525796, \"obs_ci_upper\": 9.82179779297995, \"cohort_order\": 3}, {\"Gender\": \"Female\", \"Ethnicity\": \"American Indian\", \"Age Cohort\": \"22 to 50\", \"mean\": 10.548662928106799, \"mean_se\": 0.16535300583092905, \"mean_ci_lower\": 10.224178679621359, \"mean_ci_upper\": 10.873147176592239, \"obs_ci_lower\": 9.829388366590525, \"obs_ci_upper\": 11.267937489623073, \"cohort_order\": 4}, {\"Gender\": \"Female\", \"Ethnicity\": \"American Indian\", \"Age Cohort\": \"51+\", \"mean\": 10.840219673969969, \"mean_se\": 0.16460534687400707, \"mean_ci_lower\": 10.517202611118929, \"mean_ci_upper\": 11.163236736821009, \"obs_ci_lower\": 10.12160580670732, \"obs_ci_upper\": 11.558833541232618, \"cohort_order\": 5}, {\"Gender\": \"Male\", \"Ethnicity\": \"Multi Race\", \"Age Cohort\": \"0 to 5\", \"mean\": 7.133463367168154, \"mean_se\": 0.07099143141290609, \"mean_ci_lower\": 6.9941517099342, \"mean_ci_upper\": 7.272775024402109, \"obs_ci_lower\": 6.476596862335903, \"obs_ci_upper\": 7.790329872000406, \"cohort_order\": 0}, {\"Gender\": \"Male\", \"Ethnicity\": \"Multi Race\", \"Age Cohort\": \"6 to 12\", \"mean\": 7.623739207044957, \"mean_se\": 0.06806560310358024, \"mean_ci_lower\": 7.490169115834421, \"mean_ci_upper\": 7.7573092982554925, \"obs_ci_lower\": 6.968066394892998, \"obs_ci_upper\": 8.279412019196917, \"cohort_order\": 1}, {\"Gender\": \"Male\", \"Ethnicity\": \"Multi Race\", \"Age Cohort\": \"13 to 17\", \"mean\": 8.234473828212623, \"mean_se\": 0.06827423361996882, \"mean_ci_lower\": 8.100494326142083, \"mean_ci_upper\": 8.368453330283163, \"obs_ci_lower\": 7.578717490611272, \"obs_ci_upper\": 8.890230165813975, \"cohort_order\": 2}, {\"Gender\": \"Male\", \"Ethnicity\": \"Multi Race\", \"Age Cohort\": \"18 to 21\", \"mean\": 9.157307081557954, \"mean_se\": 0.06999547973379834, \"mean_ci_lower\": 9.019949852854035, \"mean_ci_upper\": 9.294664310261874, \"obs_ci_lower\": 8.500852303521807, \"obs_ci_upper\": 9.813761859594102, \"cohort_order\": 3}, {\"Gender\": \"Male\", \"Ethnicity\": \"Multi Race\", \"Age Cohort\": \"22 to 50\", \"mean\": 10.60429973891188, \"mean_se\": 0.07012773250748061, \"mean_ci_lower\": 10.466682980956207, \"mean_ci_upper\": 10.741916496867553, \"obs_ci_lower\": 9.947790607673404, \"obs_ci_upper\": 11.260808870150356, \"cohort_order\": 4}, {\"Gender\": \"Male\", \"Ethnicity\": \"Multi Race\", \"Age Cohort\": \"51+\", \"mean\": 10.895856484775052, \"mean_se\": 0.07441473235403338, \"mean_ci_lower\": 10.74982703473389, \"mean_ci_upper\": 11.041885934816214, \"obs_ci_lower\": 10.237532501003693, \"obs_ci_upper\": 11.554180468546411, \"cohort_order\": 5}, {\"Gender\": \"Female\", \"Ethnicity\": \"Multi Race\", \"Age Cohort\": \"0 to 5\", \"mean\": 7.173247147741588, \"mean_se\": 0.07101541010108364, \"mean_ci_lower\": 7.033888435381094, \"mean_ci_upper\": 7.312605860102082, \"obs_ci_lower\": 6.516370661604322, \"obs_ci_upper\": 7.830123633878854, \"cohort_order\": 0}, {\"Gender\": \"Female\", \"Ethnicity\": \"Multi Race\", \"Age Cohort\": \"6 to 12\", \"mean\": 7.66352298761839, \"mean_se\": 0.06789115403687733, \"mean_ci_lower\": 7.530295230519191, \"mean_ci_upper\": 7.796750744717589, \"obs_ci_lower\": 7.007919828236931, \"obs_ci_upper\": 8.31912614699985, \"cohort_order\": 1}, {\"Gender\": \"Female\", \"Ethnicity\": \"Multi Race\", \"Age Cohort\": \"13 to 17\", \"mean\": 8.274257608786057, \"mean_se\": 0.06838878035266258, \"mean_ci_lower\": 8.140053323317792, \"mean_ci_upper\": 8.408461894254321, \"obs_ci_lower\": 7.618455308113579, \"obs_ci_upper\": 8.930059909458535, \"cohort_order\": 2}, {\"Gender\": \"Female\", \"Ethnicity\": \"Multi Race\", \"Age Cohort\": \"18 to 21\", \"mean\": 9.197090862131388, \"mean_se\": 0.07010514259101686, \"mean_ci_lower\": 9.059518434014356, \"mean_ci_upper\": 9.33466329024842, \"obs_ci_lower\": 8.540591021836446, \"obs_ci_upper\": 9.85359070242633, \"cohort_order\": 3}, {\"Gender\": \"Female\", \"Ethnicity\": \"Multi Race\", \"Age Cohort\": \"22 to 50\", \"mean\": 10.644083519485314, \"mean_se\": 0.07047845688999922, \"mean_ci_lower\": 10.5057785095253, \"mean_ci_upper\": 10.782388529445328, \"obs_ci_lower\": 9.987429772744074, \"obs_ci_upper\": 11.300737266226554, \"cohort_order\": 4}, {\"Gender\": \"Female\", \"Ethnicity\": \"Multi Race\", \"Age Cohort\": \"51+\", \"mean\": 10.935640265348486, \"mean_se\": 0.07440631659289795, \"mean_ci_lower\": 10.789627330168445, \"mean_ci_upper\": 11.081653200528526, \"obs_ci_lower\": 10.277319944707266, \"obs_ci_upper\": 11.593960585989706, \"cohort_order\": 5}, {\"Gender\": \"Male\", \"Ethnicity\": \"Other\", \"Age Cohort\": \"0 to 5\", \"mean\": 6.9025623225940445, \"mean_se\": 0.23547092333253622, \"mean_ci_lower\": 6.440480576853931, \"mean_ci_upper\": 7.364644068334158, \"obs_ci_lower\": 6.11162275026535, \"obs_ci_upper\": 7.693501894922739, \"cohort_order\": 0}, {\"Gender\": \"Male\", \"Ethnicity\": \"Other\", \"Age Cohort\": \"6 to 12\", \"mean\": 7.392838162470847, \"mean_se\": 0.23399811679827928, \"mean_ci_lower\": 6.933646612279531, \"mean_ci_upper\": 7.852029712662163, \"obs_ci_lower\": 6.603583610950001, \"obs_ci_upper\": 8.182092713991693, \"cohort_order\": 1}, {\"Gender\": \"Male\", \"Ethnicity\": \"Other\", \"Age Cohort\": \"13 to 17\", \"mean\": 8.003572783638512, \"mean_se\": 0.23153848523828743, \"mean_ci_lower\": 7.549207947629284, \"mean_ci_upper\": 8.45793761964774, \"obs_ci_lower\": 7.217116636398909, \"obs_ci_upper\": 8.790028930878115, \"cohort_order\": 2}, {\"Gender\": \"Male\", \"Ethnicity\": \"Other\", \"Age Cohort\": \"18 to 21\", \"mean\": 8.926406036983844, \"mean_se\": 0.23382586515661127, \"mean_ci_lower\": 8.467552508736647, \"mean_ci_upper\": 9.38525956523104, \"obs_ci_lower\": 8.137348100128655, \"obs_ci_upper\": 9.715463973839032, \"cohort_order\": 3}, {\"Gender\": \"Male\", \"Ethnicity\": \"Other\", \"Age Cohort\": \"22 to 50\", \"mean\": 10.37339869433777, \"mean_se\": 0.23374670831506195, \"mean_ci_lower\": 9.914700501326928, \"mean_ci_upper\": 10.83209688734861, \"obs_ci_lower\": 9.584431078018392, \"obs_ci_upper\": 11.162366310657147, \"cohort_order\": 4}, {\"Gender\": \"Male\", \"Ethnicity\": \"Other\", \"Age Cohort\": \"51+\", \"mean\": 10.664955440200941, \"mean_se\": 0.23498439276762512, \"mean_ci_lower\": 10.203828448829682, \"mean_ci_upper\": 11.1260824315722, \"obs_ci_lower\": 9.874573273461094, \"obs_ci_upper\": 11.45533760694079, \"cohort_order\": 5}, {\"Gender\": \"Female\", \"Ethnicity\": \"Other\", \"Age Cohort\": \"0 to 5\", \"mean\": 6.942346103167478, \"mean_se\": 0.23544491196693598, \"mean_ci_lower\": 6.48031540142488, \"mean_ci_upper\": 7.4043768049100755, \"obs_ci_lower\": 6.151436350615377, \"obs_ci_upper\": 7.7332558557195785, \"cohort_order\": 0}, {\"Gender\": \"Female\", \"Ethnicity\": \"Other\", \"Age Cohort\": \"6 to 12\", \"mean\": 7.43262194304428, \"mean_se\": 0.23391397314828244, \"mean_ci_lower\": 6.973595514066799, \"mean_ci_upper\": 7.891648372021761, \"obs_ci_lower\": 6.643463448298715, \"obs_ci_upper\": 8.221780437789846, \"cohort_order\": 1}, {\"Gender\": \"Female\", \"Ethnicity\": \"Other\", \"Age Cohort\": \"13 to 17\", \"mean\": 8.043356564211946, \"mean_se\": 0.2315384852382874, \"mean_ci_lower\": 7.588991728202718, \"mean_ci_upper\": 8.497721400221174, \"obs_ci_lower\": 7.256900416972343, \"obs_ci_upper\": 8.829812711451549, \"cohort_order\": 2}, {\"Gender\": \"Female\", \"Ethnicity\": \"Other\", \"Age Cohort\": \"18 to 21\", \"mean\": 8.966189817557277, \"mean_se\": 0.23382524403718546, \"mean_ci_lower\": 8.507337508177976, \"mean_ci_upper\": 9.425042126936578, \"obs_ci_lower\": 8.177132589498383, \"obs_ci_upper\": 9.755247045616171, \"cohort_order\": 3}, {\"Gender\": \"Female\", \"Ethnicity\": \"Other\", \"Age Cohort\": \"22 to 50\", \"mean\": 10.413182474911203, \"mean_se\": 0.23381869763847102, \"mean_ci_lower\": 9.954343012006971, \"mean_ci_upper\": 10.872021937815434, \"obs_ci_lower\": 9.624132717261212, \"obs_ci_upper\": 11.202232232561194, \"cohort_order\": 4}, {\"Gender\": \"Female\", \"Ethnicity\": \"Other\", \"Age Cohort\": \"51+\", \"mean\": 10.704739220774375, \"mean_se\": 0.2349484158283239, \"mean_ci_lower\": 10.243682829571847, \"mean_ci_upper\": 11.165795611976902, \"obs_ci_lower\": 9.91439824170397, \"obs_ci_upper\": 11.495080199844779, \"cohort_order\": 5}]}}, {\"mode\": \"vega-lite\"});\n",
       "</script>"
      ],
      "text/plain": [
       "alt.FacetChart(...)"
      ]
     },
     "execution_count": 67,
     "metadata": {},
     "output_type": "execute_result"
    }
   ],
   "source": [
    "# add cohort ordering\n",
    "pred_df['cohort_order'] = pred_df['Age Cohort'].astype('category').cat.reorder_categories(new_categories = ages).cat.as_ordered().cat.codes # SOLUTION\n",
    "\n",
    "# construct point-and-line plot\n",
    "lines = alt.Chart(pred_df).mark_line(point = True).encode(\n",
    "    x = alt.X('Ethnicity', title = ''), # SOLUTION\n",
    "    y = alt.Y('mean', title = 'Estimated log median expentiure', scale = alt.Scale(zero = False)), # SOLUTION\n",
    "    color = alt.Color('Age Cohort:O', sort = alt.EncodingSortField(field = 'cohort_order', order = 'ascending')) # SOLUTION\n",
    ")\n",
    "\n",
    "# construct confidence bands\n",
    "bands = alt.Chart(pred_df).mark_area(opacity = 0.4).encode(\n",
    "    x = 'Ethnicity', # SOLUTION\n",
    "    y = 'mean_ci_lower', # SOLUTION\n",
    "    y2 = 'mean_ci_upper', # SOLUTION\n",
    "    color = alt.Color('Age Cohort:O', sort = alt.EncodingSortField(field = 'cohort_order', order = 'ascending')) # SOLUTION\n",
    ")\n",
    "\n",
    "# layer then facet\n",
    "fig_5 = (lines + bands).facet(column = 'Gender') # SOLUTION\n",
    "\n",
    "# display\n",
    "fig_5"
   ]
  },
  {
   "attachments": {},
   "cell_type": "markdown",
   "metadata": {},
   "source": [
    "<!-- END QUESTION -->\n",
    "\n",
    "<!-- BEGIN QUESTION -->\n",
    "\n",
    "### Question 13: uncertainty\n",
    "\n",
    "Which estimates have greater uncertainty and why? Identify the ethnic groups for which the uncertainty band is relatively wide in the plot. Why might uncertainty be higher for these groups? Answer in 2 sentences.\n",
    "\n",
    "(*Hint*: it may help to refer to figure 3.)"
   ]
  },
  {
   "cell_type": "markdown",
   "metadata": {},
   "source": [
    "_Type your answer here, replacing this text._"
   ]
  },
  {
   "attachments": {},
   "cell_type": "markdown",
   "metadata": {
    "tags": [
     "otter_assign_solution_cell"
    ]
   },
   "source": [
    "**SOLUTION**\n",
    "\n",
    "Estimated expenditures for American Indian, Other, and Native Hawaiian all have high uncertainty. This is because the sample sizes are small for those groups; with relatively little information about them in the data, estimates are likely to vary more."
   ]
  },
  {
   "attachments": {},
   "cell_type": "markdown",
   "metadata": {},
   "source": [
    "<!-- END QUESTION -->\n",
    "\n",
    "# Communicating results\n",
    "\n",
    "Review your exploratory and regression analyses above, and then answer the following questions."
   ]
  },
  {
   "attachments": {},
   "cell_type": "markdown",
   "metadata": {},
   "source": [
    "<!-- BEGIN QUESTION -->\n",
    "\n",
    "### Question 14: summary\n",
    "\n",
    "Write a one-paragraph summary of your analysis. Focus on answering the question, 'do the data provide evidence of ethnic or gender discrimination in allocation of DDS funds?'\n",
    "\n",
    "Your summary should include the following:\n",
    "\n",
    "* a description of the data indicating observations, variables, and sampling mechanism;\n",
    "* a description of any important exploratory findings;\n",
    "* a description of the method you used to analyze the data (don't worry about capturing every detail);\n",
    "* a description of the findings of the analysis;\n",
    "* an answer to the question."
   ]
  },
  {
   "cell_type": "markdown",
   "metadata": {},
   "source": [
    "_Type your answer here, replacing this text._"
   ]
  },
  {
   "attachments": {},
   "cell_type": "markdown",
   "metadata": {
    "tags": [
     "otter_assign_solution_cell"
    ]
   },
   "source": [
    "**SOLUTION**\n",
    "\n",
    "This case study investigated potential discrimination in allocation of California Department of Developmental Services (DDS) benefit funds for people with disabilities. Data on 1000 randomly selected benefit recipients were analyzed; the age, ethnicity, and gender of the recipient were recorded along with benefit amount. While there is an apparent difference in the median benefit amount by ethnic group, after considering the age of the recipients there are no substantial differences. A regression analysis was conducted to estimate groupwise differences in benefit amounts, and showed that while there were significant differences between age cohorts, the benefit amounts were similar across ethnicities and genders after adjusting for age. The data thus provide no evidence of discrimination."
   ]
  },
  {
   "attachments": {},
   "cell_type": "markdown",
   "metadata": {},
   "source": [
    "<!-- END QUESTION -->\n",
    "\n",
    "# Submission\n",
    "\n",
    "\n",
    "1. Save the notebook. \n",
    "2. Restart the kernel and run all cells. (**CAUTION**: if your notebook is not saved, you will lose your work.)\n",
    "3. Carefully look through your notebook and verify that all computations execute correctly and all graphics are displayed clearly. You should see **no errors**; if there are any errors, make sure to correct them before you submit the notebook.\n",
    "4. Download the notebook as an `.ipynb` file. This is your backup copy.\n",
    "5. Export the notebook as PDF and upload to Gradescope."
   ]
  },
  {
   "cell_type": "markdown",
   "metadata": {
    "deletable": false,
    "editable": false
   },
   "source": [
    "---\n",
    "\n",
    "To double-check your work, the cell below will rerun all of the autograder tests."
   ]
  },
  {
   "cell_type": "code",
   "execution_count": null,
   "metadata": {
    "deletable": false,
    "editable": false
   },
   "outputs": [],
   "source": [
    "grader.check_all()"
   ]
  }
 ],
 "metadata": {
  "kernelspec": {
   "display_name": "Python 3",
   "language": "python",
   "name": "python3"
  },
  "language_info": {
   "codemirror_mode": {
    "name": "ipython",
    "version": 3
   },
   "file_extension": ".py",
   "mimetype": "text/x-python",
   "name": "python",
   "nbconvert_exporter": "python",
   "pygments_lexer": "ipython3",
   "version": "3.9.12"
  },
  "otter": {
   "OK_FORMAT": true,
   "tests": {
    "q11": {
     "name": "q11",
     "points": 1,
     "suites": [
      {
       "cases": [
        {
         "code": ">>> pred_df.shape[0] == (len(ages)*len(genders)*len(ethnicities))\nTrue",
         "hidden": false,
         "locked": false
        },
        {
         "code": ">>> (np.round(pred_df[(pred_df.Gender == 'Female') & (pred_df['Age Cohort'] == '22 to 50') & (pred_df.Ethnicity == 'Hispanic')]['mean'], 6) == 10.641653).all()\nTrue",
         "hidden": false,
         "locked": false
        }
       ],
       "scored": true,
       "setup": "",
       "teardown": "",
       "type": "doctest"
      }
     ]
    },
    "q2": {
     "name": "q2",
     "points": 1,
     "suites": [
      {
       "cases": [
        {
         "code": ">>> median_expend_by_eth.shape[0] == 8\nTrue",
         "hidden": false,
         "locked": false
        },
        {
         "code": ">>> median_expend_by_eth.loc['Asian', 'Expenditures'] == 9369\nTrue",
         "hidden": false,
         "locked": false
        },
        {
         "code": ">>> ethnicity_n.loc['Other'] == 2\nTrue",
         "hidden": false,
         "locked": false
        },
        {
         "code": ">>> ethnicity_n.max() > 400\nTrue",
         "hidden": false,
         "locked": false
        },
        {
         "code": ">>> (median_expend_by_eth.idxmax() == 'American Indian').all()\nTrue",
         "hidden": false,
         "locked": false
        }
       ],
       "scored": true,
       "setup": "",
       "teardown": "",
       "type": "doctest"
      }
     ]
    },
    "q8": {
     "name": "q8",
     "points": 1,
     "suites": [
      {
       "cases": [
        {
         "code": ">>> indicators.shape[1] == (len(reg_data.Gender.cat.categories) - 1 + len(reg_data.Ethnicity.cat.categories) - 1 + len(reg_data['Age Cohort'].cat.categories) - 1)\nTrue",
         "hidden": false,
         "locked": false
        },
        {
         "code": ">>> np.sort(np.unique(indicators.values)).tolist() == [0, 1]\nTrue",
         "hidden": false,
         "locked": false
        },
        {
         "code": ">>> x.shape[1] == indicators.shape[1] + 1\nTrue",
         "hidden": false,
         "locked": false
        },
        {
         "code": ">>> y.shape[0] == x.shape[0]\nTrue",
         "hidden": false,
         "locked": false
        },
        {
         "code": ">>> y[1] == np.log(reg_data.Expenditures[1])\nTrue",
         "hidden": false,
         "locked": false
        }
       ],
       "scored": true,
       "setup": "",
       "teardown": "",
       "type": "doctest"
      }
     ]
    },
    "q9": {
     "name": "q9",
     "points": 1,
     "suites": [
      {
       "cases": [
        {
         "code": ">>> coef_tbl.shape[0] == (x.shape[1] + 1)\nTrue",
         "hidden": false,
         "locked": false
        },
        {
         "code": ">>> coef_tbl.estimate.max() < 7.5\nTrue",
         "hidden": false,
         "locked": false
        },
        {
         "code": ">>> coef_tbl.estimate.min() > -1\nTrue",
         "hidden": false,
         "locked": false
        },
        {
         "code": ">>> (coef_tbl.estimate < 0).sum() == 4\nTrue",
         "hidden": false,
         "locked": false
        },
        {
         "code": ">>> np.round(coef_tbl.loc['const', 'estimate'], 4) == 7.0924\nTrue",
         "hidden": false,
         "locked": false
        }
       ],
       "scored": true,
       "setup": "",
       "teardown": "",
       "type": "doctest"
      }
     ]
    }
   }
  }
 },
 "nbformat": 4,
 "nbformat_minor": 4
}
