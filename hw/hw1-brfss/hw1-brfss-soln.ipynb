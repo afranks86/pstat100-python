{
 "cells": [
  {
   "cell_type": "code",
   "execution_count": null,
   "metadata": {
    "deletable": false,
    "editable": false
   },
   "outputs": [],
   "source": [
    "# Initialize Otter\n",
    "import otter\n",
    "grader = otter.Notebook(\"hw1-brfss.ipynb\")"
   ]
  },
  {
   "cell_type": "code",
   "execution_count": 1,
   "metadata": {},
   "outputs": [],
   "source": [
    "import numpy as np\n",
    "import pandas as pd\n",
    "import altair as alt"
   ]
  },
  {
   "attachments": {},
   "cell_type": "markdown",
   "metadata": {},
   "source": [
    "# Background\n",
    "\n",
    "The [Behavioral Risk Factor Surveillance System](https://www.cdc.gov/brfss/index.html) (BRFSS) is a long-term effort administered by the CDC to collect data on behaviors affecting physical and mental health, past and present health conditions, and access to healthcare among U.S. residents. The BRFSS comprises telephone surveys of U.S. residents conducted annually since 1984; in the last decade, over half a million interviews have been conducted each year. This is the largest such data collection effort in the world, and many countries have developed similar programs. The objective of the program is to support monitoring and analysis of factors influencing public health in the United States.\n",
    "\n",
    "Each year, a standard survey questionnaire is developed that includes a core component comprising questions about: demographic and household information; health-related perceptions, conditions, and behaviors; substance use; and diet. Trained interviewers in each state call randomly selected telephone (landline and cell) numbers and administer the questionnaire; the phone numbers are chosen so as to obtain a representative sample of all households with telephone numbers. Take a moment to [read about the 2019 survey here](https://www.cdc.gov/brfss/annual_data/annual_2019.html).\n",
    "\n",
    "In this assignment you'll import and subsample the BRFSS 2019 data and perform a simple descriptive analysis exploring associations between adverse childhood experiences, health perceptions, tobacco use, and depressive disorders. This is an opportunity to practice:\n",
    "\n",
    "* review of data documentation\n",
    "* data assessment and critical thinking about data collection \n",
    "* dataframe transformations in pandas \n",
    "* communicating and interpreting grouped summaries"
   ]
  },
  {
   "attachments": {},
   "cell_type": "markdown",
   "metadata": {},
   "source": [
    "# Data import and assessment\n",
    "\n",
    "The cell below imports select columns from the 2019 dataset as a pandas DataFrame. The file is big, so this may take a few moments. Run the cell and then have a quick look at the first few rows and columns."
   ]
  },
  {
   "cell_type": "code",
   "execution_count": 2,
   "metadata": {},
   "outputs": [
    {
     "data": {
      "text/html": [
       "<div>\n",
       "<style scoped>\n",
       "    .dataframe tbody tr th:only-of-type {\n",
       "        vertical-align: middle;\n",
       "    }\n",
       "\n",
       "    .dataframe tbody tr th {\n",
       "        vertical-align: top;\n",
       "    }\n",
       "\n",
       "    .dataframe thead th {\n",
       "        text-align: right;\n",
       "    }\n",
       "</style>\n",
       "<table border=\"1\" class=\"dataframe\">\n",
       "  <thead>\n",
       "    <tr style=\"text-align: right;\">\n",
       "      <th></th>\n",
       "      <th>GENHLTH</th>\n",
       "      <th>ADDEPEV3</th>\n",
       "      <th>ACEDEPRS</th>\n",
       "      <th>ACEDRINK</th>\n",
       "      <th>ACEDRUGS</th>\n",
       "      <th>ACEPRISN</th>\n",
       "      <th>_LLCPWT</th>\n",
       "      <th>_SEX</th>\n",
       "      <th>_AGEG5YR</th>\n",
       "      <th>_SMOKER3</th>\n",
       "    </tr>\n",
       "  </thead>\n",
       "  <tbody>\n",
       "    <tr>\n",
       "      <th>0</th>\n",
       "      <td>3.0</td>\n",
       "      <td>2.0</td>\n",
       "      <td>2.0</td>\n",
       "      <td>2.0</td>\n",
       "      <td>2.0</td>\n",
       "      <td>2.0</td>\n",
       "      <td>0.007391</td>\n",
       "      <td>2.0</td>\n",
       "      <td>13.0</td>\n",
       "      <td>3.0</td>\n",
       "    </tr>\n",
       "    <tr>\n",
       "      <th>1</th>\n",
       "      <td>4.0</td>\n",
       "      <td>2.0</td>\n",
       "      <td>2.0</td>\n",
       "      <td>1.0</td>\n",
       "      <td>2.0</td>\n",
       "      <td>2.0</td>\n",
       "      <td>0.000687</td>\n",
       "      <td>2.0</td>\n",
       "      <td>11.0</td>\n",
       "      <td>4.0</td>\n",
       "    </tr>\n",
       "    <tr>\n",
       "      <th>2</th>\n",
       "      <td>3.0</td>\n",
       "      <td>2.0</td>\n",
       "      <td>2.0</td>\n",
       "      <td>2.0</td>\n",
       "      <td>2.0</td>\n",
       "      <td>2.0</td>\n",
       "      <td>0.004639</td>\n",
       "      <td>2.0</td>\n",
       "      <td>10.0</td>\n",
       "      <td>4.0</td>\n",
       "    </tr>\n",
       "    <tr>\n",
       "      <th>3</th>\n",
       "      <td>4.0</td>\n",
       "      <td>2.0</td>\n",
       "      <td>NaN</td>\n",
       "      <td>NaN</td>\n",
       "      <td>NaN</td>\n",
       "      <td>NaN</td>\n",
       "      <td>0.003827</td>\n",
       "      <td>2.0</td>\n",
       "      <td>13.0</td>\n",
       "      <td>9.0</td>\n",
       "    </tr>\n",
       "    <tr>\n",
       "      <th>4</th>\n",
       "      <td>2.0</td>\n",
       "      <td>2.0</td>\n",
       "      <td>2.0</td>\n",
       "      <td>2.0</td>\n",
       "      <td>2.0</td>\n",
       "      <td>2.0</td>\n",
       "      <td>0.001868</td>\n",
       "      <td>2.0</td>\n",
       "      <td>13.0</td>\n",
       "      <td>3.0</td>\n",
       "    </tr>\n",
       "  </tbody>\n",
       "</table>\n",
       "</div>"
      ],
      "text/plain": [
       "   GENHLTH  ADDEPEV3  ACEDEPRS  ACEDRINK  ACEDRUGS  ACEPRISN   _LLCPWT  _SEX  \\\n",
       "0      3.0       2.0       2.0       2.0       2.0       2.0  0.007391   2.0   \n",
       "1      4.0       2.0       2.0       1.0       2.0       2.0  0.000687   2.0   \n",
       "2      3.0       2.0       2.0       2.0       2.0       2.0  0.004639   2.0   \n",
       "3      4.0       2.0       NaN       NaN       NaN       NaN  0.003827   2.0   \n",
       "4      2.0       2.0       2.0       2.0       2.0       2.0  0.001868   2.0   \n",
       "\n",
       "   _AGEG5YR  _SMOKER3  \n",
       "0      13.0       3.0  \n",
       "1      11.0       4.0  \n",
       "2      10.0       4.0  \n",
       "3      13.0       9.0  \n",
       "4      13.0       3.0  "
      ]
     },
     "execution_count": 2,
     "metadata": {},
     "output_type": "execute_result"
    }
   ],
   "source": [
    "# store variable names of interest\n",
    "selected_vars = ['_SEX', '_AGEG5YR', \n",
    "                 'GENHLTH', 'ACEPRISN', \n",
    "                 'ACEDRUGS', 'ACEDRINK', \n",
    "                 'ACEDEPRS', 'ADDEPEV3', \n",
    "                 '_SMOKER3', '_LLCPWT']\n",
    "\n",
    "# import full 2019 BRFSS dataset\n",
    "brfss = pd.read_csv('data/brfss2019.zip', compression = 'zip', usecols = selected_vars)\n",
    "\n",
    "# invert sampling weights\n",
    "brfss['_LLCPWT'] = 1/brfss._LLCPWT\n",
    "\n",
    "# print first few rows\n",
    "brfss.head()"
   ]
  },
  {
   "attachments": {},
   "cell_type": "markdown",
   "metadata": {},
   "source": [
    "### Question 1: Data dimensions\n",
    "\n",
    "Check the dimensions of the dataset. Store the dimensions as `nrows` and `ncolumns`.\n"
   ]
  },
  {
   "cell_type": "code",
   "execution_count": 3,
   "metadata": {
    "tags": [
     "otter_assign_solution_cell"
    ]
   },
   "outputs": [
    {
     "name": "stdout",
     "output_type": "stream",
     "text": [
      "418268 10\n"
     ]
    }
   ],
   "source": [
    "nrows, ncolumns = brfss.shape # SOLUTION\n",
    "\n",
    "print(nrows, ncolumns)"
   ]
  },
  {
   "cell_type": "code",
   "execution_count": null,
   "metadata": {
    "deletable": false,
    "editable": false
   },
   "outputs": [],
   "source": [
    "grader.check(\"q1\")"
   ]
  },
  {
   "attachments": {},
   "cell_type": "markdown",
   "metadata": {},
   "source": [
    "<!-- BEGIN QUESTION -->\n",
    "\n",
    "### Question 2: Row and column information\n",
    "\n",
    "Now that you've imported the data, you should verify that the dimensions conform to the format you expect based on data documentation and ensure you understand what each row and each column represents.\n",
    "\n",
    "Check the number of records (interviews conducted) reported and variables measured for 2019 by reviewing the [surveillance summaries by year](https://www.cdc.gov/brfss/annual_data/all_years/states_data.htm), and then answer the following questions in a few sentences:\n",
    "\n",
    "* Does the number of rows match the number of reported records? \n",
    "* How many columns were imported, and how many columns are reported in the full dataset? \n",
    "* What does each row in the `brfss` dataframe represent?\n",
    "* What does each column in the `brfss` dataframe represent\n"
   ]
  },
  {
   "cell_type": "markdown",
   "metadata": {},
   "source": [
    "_Type your answer here, replacing this text._"
   ]
  },
  {
   "cell_type": "markdown",
   "metadata": {
    "tags": [
     "otter_assign_solution_cell"
    ]
   },
   "source": [
    "**SOLUTION:** \n",
    "\n",
    "Yes, there are exactly as many rows as reported records. The documentation reports 342 variables measured; we only imported 10 of those variables.\n",
    "Each row corresponds to a respondent, and each column corresponds to a respondent attribute or answer to one of the survey questions."
   ]
  },
  {
   "attachments": {},
   "cell_type": "markdown",
   "metadata": {},
   "source": [
    "<!-- END QUESTION -->\n",
    "\n",
    "<!-- BEGIN QUESTION -->\n",
    "\n",
    "### Question 3: Sampling design and data collection\n",
    "\n",
    "Skim the [overview documentation](https://www.cdc.gov/brfss/annual_data/2019/pdf/overview-2019-508.pdf) for the 2019 BRFSS data. Focus specifically the 'Background' and 'Data Collection' sections, read selectively for relevant details, and answer the following questions in a few sentences:\n",
    "\n",
    "i. Who conducts the interviews and how long does a typical interview last?\n",
    "\n",
    "ii. Who does an interviewer speak to in each household?\n",
    "\n",
    "iii. What criteria must a person meet to be interviewed?\n",
    "\n",
    "iv. Who *can't* appear in the survey? Give two examples.\n",
    "\n",
    "v. What is the study population (*i.e.*, all individuals who could possibly be sampled)?\n",
    "\n",
    "vi. Does the data contain any identifying information?"
   ]
  },
  {
   "cell_type": "markdown",
   "metadata": {},
   "source": [
    "_Type your answer here, replacing this text._"
   ]
  },
  {
   "attachments": {},
   "cell_type": "markdown",
   "metadata": {
    "tags": [
     "otter_assign_solution_cell"
    ]
   },
   "source": [
    "**SOLUTION:** \n",
    " State healthcare personell or trained contractors conduct interveiews, and they generally last 17-27 minutes. After speaking with whoever answers the phone, the interviewer determines a randomly selected adult in the household to survey. The respondent must be over 18, live in a private residence or college housing, and have a working phone. Anyone not meeting these criteria cannot participate, such as: anyone under 18; anyone living in residential care facilities or prisons; anyone without a permanent home. The study population is all adult U.S. residents with working phones and living in private or college housing. The data are de-identified and none of the variables allow for easy reconstruction of a respondent's identity."
   ]
  },
  {
   "attachments": {},
   "cell_type": "markdown",
   "metadata": {},
   "source": [
    "<!-- END QUESTION -->\n",
    "\n",
    "<!-- BEGIN QUESTION -->\n",
    "\n",
    "### Question 4: Variable descriptions\n",
    "\n",
    "You'll work with the small subset variables imported above: sex, age, general health self-assessment, smoking status, depressive disorder, and adverse childhood experiences (ACEs). The names of these variables as they appear in the raw dataset are defined in the cell in which you imported the data as `selected_vars`. It is often useful, and therefore good practice, to include a brief description of each variable at the outset of any reported analyses, both for your own clarity and for that of any potential readers. Open the [2019 BRFSS codebook](https://www.cdc.gov/brfss/annual_data/2019/pdf/codebook19_llcp-v2-508.HTML) in your browser and use text searching to locate each of the variable names of interest. Read the codebook entries and fill in the second column in the table below with a one-sentence description of each variable identified in `selected_vars`. Rephrase the descriptions in your own words -- do not copy the codebook descriptions verbatim.\n"
   ]
  },
  {
   "cell_type": "markdown",
   "metadata": {},
   "source": [
    "Variable name | Description \n",
    "--------------|--------------\n",
    "`GENHLTH` |\n",
    "`_SEX` |\n",
    "`_AGEG5YR` |\n",
    "`ACEPRISN` |\n",
    "`ACEDRUGS` |\n",
    "`ACEDRINK` |\n",
    "`ACEDEPRS` |\n",
    "`ADDEPEV3` |\n",
    "`_SMOKER3` |"
   ]
  },
  {
   "cell_type": "markdown",
   "metadata": {
    "tags": [
     "otter_assign_solution_cell"
    ]
   },
   "source": [
    "**SOLUTION**\n",
    "\n",
    "Variable name | Description \n",
    "--------------|--------------\n",
    "`GENHLTH` | Self-rated general health\n",
    "`_SEX` | Respondent's sex\n",
    "`_AGEG5YR` | Age bracket in 5-year intervals\n",
    "`ACEPRISN` | Lived with anyone who served prison time or was in prison?\n",
    "`ACEDRUGS` | Lived with anyone abusing substances?\n",
    "`ACEDRINK` | Lived with a problem drinker or alcoholic?\n",
    "`ACEDEPRS` | Lived with anyone depressed, mentally ill, or suicidal?\n",
    "`ADDEPEV3` | Ever diagnosed with a depressive disorder?\n",
    "`_SMOKER3` | Smoking status"
   ]
  },
  {
   "attachments": {},
   "cell_type": "markdown",
   "metadata": {},
   "source": [
    "<!-- END QUESTION -->\n",
    "\n",
    "# Subsampling\n",
    "\n",
    "To simplify life a little, we'll draw a large random sample of the rows and work with that in place of the full dataset. This is known as **subsampling**. \n",
    "\n",
    "The cell below draws a random subsample of 10k records. Because the subsample is randomly drawn, we should not expect it to vary in any systematic way from the overall dataset, and distinct subsamples should have similar properties -- therefore, results downstream should be similar to an analysis of the full dataset, and should also be possible to replicate using distinct subsamples."
   ]
  },
  {
   "cell_type": "code",
   "execution_count": 7,
   "metadata": {},
   "outputs": [],
   "source": [
    "# for reproducibility\n",
    "np.random.seed(32221) \n",
    "\n",
    "# randomly sample 10k records\n",
    "samp = brfss.sample(n = 10000, \n",
    "                    replace = False, \n",
    "                    weights = '_LLCPWT')"
   ]
  },
  {
   "attachments": {},
   "cell_type": "markdown",
   "metadata": {},
   "source": [
    "*Asides:* \n",
    "\n",
    "* Notice that the random number generator seed is set before carrying out this task -- this ensures that every time the cell is run, the same subsample is drawn. As a result, the computations in this notebook are _reproducible_: when I run the notebook on my computer, I get the same results as you get when you run the notebook on your computer. \n",
    "\n",
    "* Notice also that _sampling weights_ provided with the dataset are used to draw a weighted sample. Some respondents are more likely to be selected than others from the general population of U.S. adults with phone numbers, so the BRFSS calculates derived weights that are inversely proportional to estimates of the probability that the respondent is included in the survey. This is a somewhat sophisticated calculation, however if you're interested, you can read about how these weights are calculated and why in the overview documentation you used to answer the questions above. We use the sampling weights in drawing the subsample so that we get a representative sample of U.S. adults with phone numbers.\n",
    "\n",
    "* Notice the missing values. How many entries are missing in each column? The cell below computes the proportion of missing values for each of the selected variables. We'll return to this issue later on."
   ]
  },
  {
   "cell_type": "code",
   "execution_count": 8,
   "metadata": {},
   "outputs": [
    {
     "data": {
      "text/plain": [
       "GENHLTH     0.0000\n",
       "ADDEPEV3    0.0000\n",
       "ACEDEPRS    0.8086\n",
       "ACEDRINK    0.8088\n",
       "ACEDRUGS    0.8088\n",
       "ACEPRISN    0.8088\n",
       "_LLCPWT     0.0000\n",
       "_SEX        0.0000\n",
       "_AGEG5YR    0.0000\n",
       "_SMOKER3    0.0000\n",
       "dtype: float64"
      ]
     },
     "execution_count": 8,
     "metadata": {},
     "output_type": "execute_result"
    }
   ],
   "source": [
    "# proportions of missingness \n",
    "samp.isna().mean()"
   ]
  },
  {
   "attachments": {},
   "cell_type": "markdown",
   "metadata": {},
   "source": [
    "# Tidying\n",
    "\n",
    "In the following series of questions you'll tidy up the subsample by performing these steps:\n",
    "\n",
    "* selecting columns of interest;\n",
    "* replacing coded values of question responses with responses;\n",
    "* defining new variables based on existing ones;\n",
    "* renaming columns.\n",
    "\n",
    "The goal of this is to produce a clean version of the dataset that is well-organized, intuitive to navigate, and ready for analysis.\n",
    "\n",
    "The variable entries are coded numerically to represent certain responses. These should be replaced by more informative entries. We can use the codebook to determine which number means what, and replace the values accordingly.\n",
    "\n",
    "The cell below replaces the numeric values for `_AGEG5YR` by their meanings, illustrating how to use `.replace()` with a dictionary to convert the numeric coding to interpretable values. The basic strategy is:\n",
    "\n",
    "1. Store the variable coding for `VAR` as a dictionary `var_codes`.\n",
    "2. Use `.replace({'VAR': var_codes})` to modify values.\n",
    "\n",
    "If you need additional examples, check the [pandas documentation](https://pandas.pydata.org/docs/reference/api/pandas.DataFrame.replace.html) for `.replace()`."
   ]
  },
  {
   "cell_type": "code",
   "execution_count": 9,
   "metadata": {},
   "outputs": [
    {
     "data": {
      "text/html": [
       "<div>\n",
       "<style scoped>\n",
       "    .dataframe tbody tr th:only-of-type {\n",
       "        vertical-align: middle;\n",
       "    }\n",
       "\n",
       "    .dataframe tbody tr th {\n",
       "        vertical-align: top;\n",
       "    }\n",
       "\n",
       "    .dataframe thead th {\n",
       "        text-align: right;\n",
       "    }\n",
       "</style>\n",
       "<table border=\"1\" class=\"dataframe\">\n",
       "  <thead>\n",
       "    <tr style=\"text-align: right;\">\n",
       "      <th></th>\n",
       "      <th>GENHLTH</th>\n",
       "      <th>ADDEPEV3</th>\n",
       "      <th>ACEDEPRS</th>\n",
       "      <th>ACEDRINK</th>\n",
       "      <th>ACEDRUGS</th>\n",
       "      <th>ACEPRISN</th>\n",
       "      <th>_LLCPWT</th>\n",
       "      <th>_SEX</th>\n",
       "      <th>_AGEG5YR</th>\n",
       "      <th>_SMOKER3</th>\n",
       "    </tr>\n",
       "  </thead>\n",
       "  <tbody>\n",
       "    <tr>\n",
       "      <th>237125</th>\n",
       "      <td>5.0</td>\n",
       "      <td>2.0</td>\n",
       "      <td>NaN</td>\n",
       "      <td>NaN</td>\n",
       "      <td>NaN</td>\n",
       "      <td>NaN</td>\n",
       "      <td>0.057004</td>\n",
       "      <td>2.0</td>\n",
       "      <td>25-29</td>\n",
       "      <td>3.0</td>\n",
       "    </tr>\n",
       "    <tr>\n",
       "      <th>329116</th>\n",
       "      <td>5.0</td>\n",
       "      <td>2.0</td>\n",
       "      <td>NaN</td>\n",
       "      <td>NaN</td>\n",
       "      <td>NaN</td>\n",
       "      <td>NaN</td>\n",
       "      <td>0.108336</td>\n",
       "      <td>2.0</td>\n",
       "      <td>80+</td>\n",
       "      <td>3.0</td>\n",
       "    </tr>\n",
       "    <tr>\n",
       "      <th>178937</th>\n",
       "      <td>3.0</td>\n",
       "      <td>2.0</td>\n",
       "      <td>NaN</td>\n",
       "      <td>NaN</td>\n",
       "      <td>NaN</td>\n",
       "      <td>NaN</td>\n",
       "      <td>0.000998</td>\n",
       "      <td>1.0</td>\n",
       "      <td>18-24</td>\n",
       "      <td>4.0</td>\n",
       "    </tr>\n",
       "    <tr>\n",
       "      <th>410081</th>\n",
       "      <td>4.0</td>\n",
       "      <td>1.0</td>\n",
       "      <td>NaN</td>\n",
       "      <td>NaN</td>\n",
       "      <td>NaN</td>\n",
       "      <td>NaN</td>\n",
       "      <td>0.021973</td>\n",
       "      <td>2.0</td>\n",
       "      <td>45-49</td>\n",
       "      <td>2.0</td>\n",
       "    </tr>\n",
       "    <tr>\n",
       "      <th>184555</th>\n",
       "      <td>2.0</td>\n",
       "      <td>2.0</td>\n",
       "      <td>2.0</td>\n",
       "      <td>2.0</td>\n",
       "      <td>2.0</td>\n",
       "      <td>2.0</td>\n",
       "      <td>0.027175</td>\n",
       "      <td>2.0</td>\n",
       "      <td>80+</td>\n",
       "      <td>3.0</td>\n",
       "    </tr>\n",
       "  </tbody>\n",
       "</table>\n",
       "</div>"
      ],
      "text/plain": [
       "        GENHLTH  ADDEPEV3  ACEDEPRS  ACEDRINK  ACEDRUGS  ACEPRISN   _LLCPWT  \\\n",
       "237125      5.0       2.0       NaN       NaN       NaN       NaN  0.057004   \n",
       "329116      5.0       2.0       NaN       NaN       NaN       NaN  0.108336   \n",
       "178937      3.0       2.0       NaN       NaN       NaN       NaN  0.000998   \n",
       "410081      4.0       1.0       NaN       NaN       NaN       NaN  0.021973   \n",
       "184555      2.0       2.0       2.0       2.0       2.0       2.0  0.027175   \n",
       "\n",
       "        _SEX _AGEG5YR  _SMOKER3  \n",
       "237125   2.0    25-29       3.0  \n",
       "329116   2.0      80+       3.0  \n",
       "178937   1.0    18-24       4.0  \n",
       "410081   2.0    45-49       2.0  \n",
       "184555   2.0      80+       3.0  "
      ]
     },
     "execution_count": 9,
     "metadata": {},
     "output_type": "execute_result"
    }
   ],
   "source": [
    "# dictionary representing variable coding\n",
    "age_codes = {\n",
    "    1: '18-24', 2: '25-29', 3: '30-34',\n",
    "    4: '35-39', 5: '40-44', 6: '45-49',\n",
    "    7: '50-54', 8: '55-59', 9: '60-64',\n",
    "    10: '65-69', 11: '70-74', 12: '75-79',\n",
    "    13: '80+', 14: 'Unsure/refused/missing'\n",
    "}\n",
    "\n",
    "# recode age categories\n",
    "samp_mod1 = samp.replace({'_AGEG5YR': age_codes})\n",
    "\n",
    "# check result\n",
    "samp_mod1.head()"
   ]
  },
  {
   "attachments": {},
   "cell_type": "markdown",
   "metadata": {},
   "source": [
    "### Question 5: Recoding variables\n",
    "\n",
    "Following the example immediately above and referring to the [2019 BRFSS codebook](https://www.cdc.gov/brfss/annual_data/2019/pdf/codebook19_llcp-v2-508.HTML), replace the numeric codings with response categories for each of the following variables:\n",
    "\n",
    "* `_SEX`\n",
    "* `GENHLTH`\n",
    "* `_SMOKER3`\n",
    "\n",
    "Notice that above, the first modification (slicing) was stored as `samp_mod1`, and was a function of `samp`. You'll follow this pattern, creating `samp_mod2`, `samp_mod3`, and so on so that each step (modification) of your data manipulations is stored separately, for easy troubleshooting.\n",
    "\n",
    "i. Recode `_SEX`: define a new dataframe `samp_mod2` that is the same as `samp_mod1` but with the `_SEX` variable recoded as `M` and `F`. \n",
    "\n",
    "ii. Recode `GENHLTH`: define a new dataframe `samp_mod3` that is the same as `samp_mod2` but with the `GENHLTH` variable recoded as `Excellent`, `Very good`, `Good`, `Fair`, `Poor`, `Unsure`, and `Refused`.\n",
    "\n",
    "iii. Recode `_SMOKER3`: define a new dataframe `samp_mod4` that is the same as `samp_mod3` but with `_SMOKER3` recoded as `Daily`, `Some days`, `Former`, `Never`, and `Unsure/refused/missing`. \n",
    "\n",
    "iv. Print the first few rows of `samp_mod4`."
   ]
  },
  {
   "cell_type": "code",
   "execution_count": 10,
   "metadata": {
    "tags": [
     "otter_assign_solution_cell"
    ]
   },
   "outputs": [
    {
     "data": {
      "text/html": [
       "<div>\n",
       "<style scoped>\n",
       "    .dataframe tbody tr th:only-of-type {\n",
       "        vertical-align: middle;\n",
       "    }\n",
       "\n",
       "    .dataframe tbody tr th {\n",
       "        vertical-align: top;\n",
       "    }\n",
       "\n",
       "    .dataframe thead th {\n",
       "        text-align: right;\n",
       "    }\n",
       "</style>\n",
       "<table border=\"1\" class=\"dataframe\">\n",
       "  <thead>\n",
       "    <tr style=\"text-align: right;\">\n",
       "      <th></th>\n",
       "      <th>GENHLTH</th>\n",
       "      <th>ADDEPEV3</th>\n",
       "      <th>ACEDEPRS</th>\n",
       "      <th>ACEDRINK</th>\n",
       "      <th>ACEDRUGS</th>\n",
       "      <th>ACEPRISN</th>\n",
       "      <th>_LLCPWT</th>\n",
       "      <th>_SEX</th>\n",
       "      <th>_AGEG5YR</th>\n",
       "      <th>_SMOKER3</th>\n",
       "    </tr>\n",
       "  </thead>\n",
       "  <tbody>\n",
       "    <tr>\n",
       "      <th>237125</th>\n",
       "      <td>Poor</td>\n",
       "      <td>2.0</td>\n",
       "      <td>NaN</td>\n",
       "      <td>NaN</td>\n",
       "      <td>NaN</td>\n",
       "      <td>NaN</td>\n",
       "      <td>0.057004</td>\n",
       "      <td>F</td>\n",
       "      <td>25-29</td>\n",
       "      <td>Former</td>\n",
       "    </tr>\n",
       "    <tr>\n",
       "      <th>329116</th>\n",
       "      <td>Poor</td>\n",
       "      <td>2.0</td>\n",
       "      <td>NaN</td>\n",
       "      <td>NaN</td>\n",
       "      <td>NaN</td>\n",
       "      <td>NaN</td>\n",
       "      <td>0.108336</td>\n",
       "      <td>F</td>\n",
       "      <td>80+</td>\n",
       "      <td>Former</td>\n",
       "    </tr>\n",
       "    <tr>\n",
       "      <th>178937</th>\n",
       "      <td>Good</td>\n",
       "      <td>2.0</td>\n",
       "      <td>NaN</td>\n",
       "      <td>NaN</td>\n",
       "      <td>NaN</td>\n",
       "      <td>NaN</td>\n",
       "      <td>0.000998</td>\n",
       "      <td>M</td>\n",
       "      <td>18-24</td>\n",
       "      <td>Never</td>\n",
       "    </tr>\n",
       "    <tr>\n",
       "      <th>410081</th>\n",
       "      <td>Fair</td>\n",
       "      <td>1.0</td>\n",
       "      <td>NaN</td>\n",
       "      <td>NaN</td>\n",
       "      <td>NaN</td>\n",
       "      <td>NaN</td>\n",
       "      <td>0.021973</td>\n",
       "      <td>F</td>\n",
       "      <td>45-49</td>\n",
       "      <td>Some days</td>\n",
       "    </tr>\n",
       "    <tr>\n",
       "      <th>184555</th>\n",
       "      <td>Very good</td>\n",
       "      <td>2.0</td>\n",
       "      <td>2.0</td>\n",
       "      <td>2.0</td>\n",
       "      <td>2.0</td>\n",
       "      <td>2.0</td>\n",
       "      <td>0.027175</td>\n",
       "      <td>F</td>\n",
       "      <td>80+</td>\n",
       "      <td>Former</td>\n",
       "    </tr>\n",
       "  </tbody>\n",
       "</table>\n",
       "</div>"
      ],
      "text/plain": [
       "          GENHLTH  ADDEPEV3  ACEDEPRS  ACEDRINK  ACEDRUGS  ACEPRISN   _LLCPWT  \\\n",
       "237125       Poor       2.0       NaN       NaN       NaN       NaN  0.057004   \n",
       "329116       Poor       2.0       NaN       NaN       NaN       NaN  0.108336   \n",
       "178937       Good       2.0       NaN       NaN       NaN       NaN  0.000998   \n",
       "410081       Fair       1.0       NaN       NaN       NaN       NaN  0.021973   \n",
       "184555  Very good       2.0       2.0       2.0       2.0       2.0  0.027175   \n",
       "\n",
       "       _SEX _AGEG5YR   _SMOKER3  \n",
       "237125    F    25-29     Former  \n",
       "329116    F      80+     Former  \n",
       "178937    M    18-24      Never  \n",
       "410081    F    45-49  Some days  \n",
       "184555    F      80+     Former  "
      ]
     },
     "execution_count": 10,
     "metadata": {},
     "output_type": "execute_result"
    }
   ],
   "source": [
    "# define dictionary for sex\n",
    "sex_codes = {1: 'M', 2: 'F'} # SOLUTION\n",
    "\n",
    "# recode sex\n",
    "samp_mod2 = samp_mod1.replace({'_SEX': sex_codes}) # SOLUTION\n",
    "\n",
    "# define dictionary for health\n",
    "health_codes = { 1: 'Excellent', 2: 'Very good', 3: 'Good', 4: 'Fair', 5: 'Poor', 7: 'Unsure', 9: 'Refused'} # SOLUTION\n",
    "\n",
    "# recode health\n",
    "samp_mod3 = samp_mod2.replace({'GENHLTH': health_codes}) # SOLUTION\n",
    "\n",
    "# define dictionary for smoking\n",
    "smoke_codes = { 1: 'Daily', 2: 'Some days', 3: 'Former', 4: 'Never', 9: 'Unsure/refused/missing'} # SOLUTION\n",
    "\n",
    "# recode smoking\n",
    "samp_mod4 = samp_mod3.replace({'_SMOKER3': smoke_codes}) # SOLUTION\n",
    "\n",
    "# print a few rows\n",
    "samp_mod4.head() # SOLUTION"
   ]
  },
  {
   "cell_type": "code",
   "execution_count": null,
   "metadata": {
    "deletable": false,
    "editable": false
   },
   "outputs": [],
   "source": [
    "grader.check(\"q5\")"
   ]
  },
  {
   "attachments": {},
   "cell_type": "markdown",
   "metadata": {},
   "source": [
    "### Question 6: Value replacement\n",
    "\n",
    "Now all the variables *except* the adverse childhood experience and depressive disorder question responses are represented interpretably. In the codebook that the answer key is identical for these remaining variables. \n",
    "\n",
    "The numeric codings can be replaced all at once by applying `.replace()` to the dataframe with an argument of the form \n",
    "\n",
    "* `df.replace({'var1': varcodes1, 'var2': varcodes1, ..., 'varp': varcodesp})` \n",
    "\n",
    "Define a new dataframe `samp_mod5` that is the same as `samp_mod4` but with the remaining variables recoded according to the answer key `Yes`, `No`, `Unsure`, `Refused`. Print the first few rows of the result using `.head()`.\n"
   ]
  },
  {
   "cell_type": "code",
   "execution_count": 22,
   "metadata": {
    "tags": [
     "otter_assign_solution_cell"
    ]
   },
   "outputs": [
    {
     "data": {
      "text/html": [
       "<div>\n",
       "<style scoped>\n",
       "    .dataframe tbody tr th:only-of-type {\n",
       "        vertical-align: middle;\n",
       "    }\n",
       "\n",
       "    .dataframe tbody tr th {\n",
       "        vertical-align: top;\n",
       "    }\n",
       "\n",
       "    .dataframe thead th {\n",
       "        text-align: right;\n",
       "    }\n",
       "</style>\n",
       "<table border=\"1\" class=\"dataframe\">\n",
       "  <thead>\n",
       "    <tr style=\"text-align: right;\">\n",
       "      <th></th>\n",
       "      <th>GENHLTH</th>\n",
       "      <th>ADDEPEV3</th>\n",
       "      <th>ACEDEPRS</th>\n",
       "      <th>ACEDRINK</th>\n",
       "      <th>ACEDRUGS</th>\n",
       "      <th>ACEPRISN</th>\n",
       "      <th>_LLCPWT</th>\n",
       "      <th>_SEX</th>\n",
       "      <th>_AGEG5YR</th>\n",
       "      <th>_SMOKER3</th>\n",
       "    </tr>\n",
       "  </thead>\n",
       "  <tbody>\n",
       "    <tr>\n",
       "      <th>237125</th>\n",
       "      <td>Poor</td>\n",
       "      <td>No</td>\n",
       "      <td>NaN</td>\n",
       "      <td>NaN</td>\n",
       "      <td>NaN</td>\n",
       "      <td>NaN</td>\n",
       "      <td>0.057004</td>\n",
       "      <td>F</td>\n",
       "      <td>25-29</td>\n",
       "      <td>Former</td>\n",
       "    </tr>\n",
       "    <tr>\n",
       "      <th>329116</th>\n",
       "      <td>Poor</td>\n",
       "      <td>No</td>\n",
       "      <td>NaN</td>\n",
       "      <td>NaN</td>\n",
       "      <td>NaN</td>\n",
       "      <td>NaN</td>\n",
       "      <td>0.108336</td>\n",
       "      <td>F</td>\n",
       "      <td>80+</td>\n",
       "      <td>Former</td>\n",
       "    </tr>\n",
       "    <tr>\n",
       "      <th>178937</th>\n",
       "      <td>Good</td>\n",
       "      <td>No</td>\n",
       "      <td>NaN</td>\n",
       "      <td>NaN</td>\n",
       "      <td>NaN</td>\n",
       "      <td>NaN</td>\n",
       "      <td>0.000998</td>\n",
       "      <td>M</td>\n",
       "      <td>18-24</td>\n",
       "      <td>Never</td>\n",
       "    </tr>\n",
       "    <tr>\n",
       "      <th>410081</th>\n",
       "      <td>Fair</td>\n",
       "      <td>Yes</td>\n",
       "      <td>NaN</td>\n",
       "      <td>NaN</td>\n",
       "      <td>NaN</td>\n",
       "      <td>NaN</td>\n",
       "      <td>0.021973</td>\n",
       "      <td>F</td>\n",
       "      <td>45-49</td>\n",
       "      <td>Some days</td>\n",
       "    </tr>\n",
       "    <tr>\n",
       "      <th>184555</th>\n",
       "      <td>Very good</td>\n",
       "      <td>No</td>\n",
       "      <td>No</td>\n",
       "      <td>No</td>\n",
       "      <td>No</td>\n",
       "      <td>No</td>\n",
       "      <td>0.027175</td>\n",
       "      <td>F</td>\n",
       "      <td>80+</td>\n",
       "      <td>Former</td>\n",
       "    </tr>\n",
       "  </tbody>\n",
       "</table>\n",
       "</div>"
      ],
      "text/plain": [
       "          GENHLTH ADDEPEV3 ACEDEPRS ACEDRINK ACEDRUGS ACEPRISN   _LLCPWT _SEX  \\\n",
       "237125       Poor       No      NaN      NaN      NaN      NaN  0.057004    F   \n",
       "329116       Poor       No      NaN      NaN      NaN      NaN  0.108336    F   \n",
       "178937       Good       No      NaN      NaN      NaN      NaN  0.000998    M   \n",
       "410081       Fair      Yes      NaN      NaN      NaN      NaN  0.021973    F   \n",
       "184555  Very good       No       No       No       No       No  0.027175    F   \n",
       "\n",
       "       _AGEG5YR   _SMOKER3  \n",
       "237125    25-29     Former  \n",
       "329116      80+     Former  \n",
       "178937    18-24      Never  \n",
       "410081    45-49  Some days  \n",
       "184555      80+     Former  "
      ]
     },
     "execution_count": 22,
     "metadata": {},
     "output_type": "execute_result"
    }
   ],
   "source": [
    "# define dictionary\n",
    "answer_codes = {1: 'Yes', 2: 'No', 7: 'Unsure', 9: 'Refused'} #SOLUTION\n",
    "\n",
    "# recode\n",
    "samp_mod5 =  samp_mod4.replace({'ACEPRISN': answer_codes, 'ACEDRUGS': answer_codes, 'ACEDRINK': answer_codes, 'ACEDEPRS': answer_codes, 'ADDEPEV3': answer_codes}) #SOLUTION\n",
    "\n",
    "# check using head()\n",
    "samp_mod5.head() #SOLUTION"
   ]
  },
  {
   "cell_type": "code",
   "execution_count": null,
   "metadata": {
    "deletable": false,
    "editable": false
   },
   "outputs": [],
   "source": [
    "grader.check(\"q6\")"
   ]
  },
  {
   "cell_type": "markdown",
   "metadata": {},
   "source": [
    "Finally, all the variables in the dataset are categorical. Notice that the current data types do not reflect this."
   ]
  },
  {
   "cell_type": "code",
   "execution_count": 27,
   "metadata": {},
   "outputs": [
    {
     "data": {
      "text/plain": [
       "GENHLTH      object\n",
       "ADDEPEV3     object\n",
       "ACEDEPRS     object\n",
       "ACEDRINK     object\n",
       "ACEDRUGS     object\n",
       "ACEPRISN     object\n",
       "_LLCPWT     float64\n",
       "_SEX         object\n",
       "_AGEG5YR     object\n",
       "_SMOKER3     object\n",
       "dtype: object"
      ]
     },
     "execution_count": 27,
     "metadata": {},
     "output_type": "execute_result"
    }
   ],
   "source": [
    "samp_mod5.dtypes"
   ]
  },
  {
   "cell_type": "markdown",
   "metadata": {},
   "source": [
    "Let's coerce the variables to `category` data types using `.astype()`."
   ]
  },
  {
   "cell_type": "code",
   "execution_count": 28,
   "metadata": {},
   "outputs": [
    {
     "data": {
      "text/plain": [
       "GENHLTH     category\n",
       "ADDEPEV3    category\n",
       "ACEDEPRS    category\n",
       "ACEDRINK    category\n",
       "ACEDRUGS    category\n",
       "ACEPRISN    category\n",
       "_LLCPWT     category\n",
       "_SEX        category\n",
       "_AGEG5YR    category\n",
       "_SMOKER3    category\n",
       "dtype: object"
      ]
     },
     "execution_count": 28,
     "metadata": {},
     "output_type": "execute_result"
    }
   ],
   "source": [
    "# coerce to categorical\n",
    "samp_mod6 = samp_mod5.astype('category')\n",
    "\n",
    "# check new data types\n",
    "samp_mod6.dtypes"
   ]
  },
  {
   "attachments": {},
   "cell_type": "markdown",
   "metadata": {},
   "source": [
    "### Question 7: Define ACE indicator variable\n",
    "\n",
    "Downstream analysis of ACEs will be facilitated by having an indicator variable that is a `1` if the respondent answered 'Yes' to any ACE question, and a `0` otherwise -- that way, you can easily count the number of respondents reporting ACEs by summing up the indicator or compute the proportion by taking an average.\n",
    "\n",
    "To this end, define a new logical variable:\n",
    "\n",
    "* `adverse_conditions`: did the respondent answer yes to any of the adverse childhood condition questions?\n",
    "\n",
    "You can accomplish this task in several steps:\n",
    "\n",
    "1. Obtain a logical array indicating the positions of the ACE variables (hint: use `.columns` to obtain the column index and operate on the result with `.str.startswith(...)`.). Store this as `ace_positions`.\n",
    "2. Use the logical array `ace_positions` to select the ACE columns via `.loc[]`. Store this as `ace_data`.\n",
    "3. Obtain a dataframe that indicates whether each entry is a 'Yes' (hint: use the boolean operator `==`, which is a vectorized operation). Store this as `ace_yes`.\n",
    "4. Compute the row sums using `.sum()`. Store this as `ace_numyes`.\n",
    "5. Define the new variable as `ace_numyes > 0`.\n",
    "\n",
    "Store the result as `samp_mod7`, and print the first few rows using `.head()`.\n"
   ]
  },
  {
   "cell_type": "code",
   "execution_count": 29,
   "metadata": {
    "tags": [
     "otter_assign_solution_cell"
    ]
   },
   "outputs": [],
   "source": [
    "# BEGIN SOLUTION NO PROMPT\n",
    "# copy samp_mod6\n",
    "samp_mod7 = samp_mod6.copy()\n",
    "\n",
    "# ace column positions\n",
    "ace_positions = samp_mod7.columns.str.startswith('ACE')\n",
    "\n",
    "# ace data\n",
    "ace_data = samp_mod7.loc[:, ace_positions]\n",
    "\n",
    "# ace yes indicators\n",
    "ace_yes = (ace_data == 'Yes')\n",
    "\n",
    "# number of yesses\n",
    "ace_numyes = ace_yes.sum(axis = 1)\n",
    "\n",
    "# assign new variable\n",
    "samp_mod7['adverse_conditions'] = (ace_numyes > 0)\n",
    "\n",
    "# check result\n",
    "samp_mod7.head()\n",
    "# END SOLUTION\n",
    "\n",
    "\"\"\" # BEGIN PROMPT\n",
    "# copy samp_mod6\n",
    "samp_mod7 = samp_mod6.copy()\n",
    "\n",
    "# ace column positions\n",
    "ace_positions = ...\n",
    "\n",
    "# ace data\n",
    "ace_data = ...\n",
    "\n",
    "# ace yes indicators\n",
    "ace_yes = ...\n",
    "\n",
    "# number of yesses\n",
    "ace_numyes = ...\n",
    "\n",
    "# assign new variable\n",
    "samp_mod7['adverse_conditions'] = ...\n",
    "\n",
    "# check result using .head()\n",
    "...\n",
    "\"\"\"; # END PROMPT"
   ]
  },
  {
   "cell_type": "code",
   "execution_count": null,
   "metadata": {
    "deletable": false,
    "editable": false
   },
   "outputs": [],
   "source": [
    "grader.check(\"q7\")"
   ]
  },
  {
   "attachments": {},
   "cell_type": "markdown",
   "metadata": {},
   "source": [
    "### Question 8: Define missingness indicator variable\n",
    "\n",
    "As you saw earlier, there are some missing values for the ACE questions. These arise whenever a respondent is not asked these questions. In fact, answers are missing for nearly 80% of the respondents in our subsample. We should keep track of this information. Define a missing indicator:\n",
    "\n",
    "* `adverse_missing`: is a response missing for at least one of the ACE questions?\n"
   ]
  },
  {
   "cell_type": "code",
   "execution_count": 43,
   "metadata": {
    "tags": [
     "otter_assign_solution_cell"
    ]
   },
   "outputs": [],
   "source": [
    "# BEGIN SOLUTION NO PROMPT\n",
    "# copy modification 7\n",
    "samp_mod8 = samp_mod7.copy()\n",
    "\n",
    "# define missing indicator using loc\n",
    "samp_mod8.loc[:, 'adverse_missing'] = samp_mod8.loc[:, samp_mod8.columns.str.startswith('ACE').tolist()].isna().sum(axis = 1) > 0\n",
    "\n",
    "# check\n",
    "samp_mod8.head()\n",
    "\n",
    "# END SOLUTION\n",
    "\"\"\" # BEGIN PROMPT\n",
    "# copy modification 7\n",
    "samp_mod8 = samp_mod7.copy()\n",
    "\n",
    "# define missing indicator using loc\n",
    "...\n",
    "\n",
    "# check using head()\n",
    "\"\"\"; # END PROMPT"
   ]
  },
  {
   "cell_type": "code",
   "execution_count": null,
   "metadata": {
    "deletable": false,
    "editable": false
   },
   "outputs": [],
   "source": [
    "grader.check(\"q8\")"
   ]
  },
  {
   "attachments": {},
   "cell_type": "markdown",
   "metadata": {},
   "source": [
    "### Question 9: Filter respondents who did not answer ACE questions\n",
    "\n",
    "Since values are missing for the ACE question if a respondent was not asked, we can remove these observations and do any analysis *conditional on respondents having been asked the ACE questions*. Use your indicator variable `adverse_missing` to filter out respondents who were not asked the ACE questions.\n",
    "\n",
    "Note that this dramatically limits the scope of inference for subsequent analyses to only those locations where the ACE module was included in the survey.\n"
   ]
  },
  {
   "cell_type": "code",
   "execution_count": 47,
   "metadata": {
    "tags": [
     "otter_assign_solution_cell"
    ]
   },
   "outputs": [],
   "source": [
    "samp_mod9 = samp_mod8[~samp_mod8.adverse_missing] #SOLUTION"
   ]
  },
  {
   "cell_type": "code",
   "execution_count": null,
   "metadata": {
    "deletable": false,
    "editable": false
   },
   "outputs": [],
   "source": [
    "grader.check(\"q9\")"
   ]
  },
  {
   "attachments": {},
   "cell_type": "markdown",
   "metadata": {},
   "source": [
    "### Question 10: Define depression indicator variable\n",
    "\n",
    "It will prove similarly helpful to define an indicator for reported depression:\n",
    "\n",
    "* `depression`: did the respondent report having been diagnosed with a depressive disorder?\n",
    "\n",
    "Follow the same strategy as above for the ACE variables, and store the result as `samp_mod10`. See if you can perform the calculation of the new variable in a single line of code. Print the first few rows using `.head()`.\n"
   ]
  },
  {
   "cell_type": "code",
   "execution_count": 53,
   "metadata": {
    "tags": [
     "otter_assign_solution_cell"
    ]
   },
   "outputs": [],
   "source": [
    "# BEGIN SOLUTION NO PROMPT\n",
    "# copy samp_mod9\n",
    "samp_mod10 = samp_mod9.copy()\n",
    "\n",
    "# define missing indicator using loc\n",
    "samp_mod10['depression'] = ((samp_mod10.loc[:, 'ADDEPEV3'] == 'Yes') > 0)\n",
    "\n",
    "# check\n",
    "samp_mod10.head()\n",
    "\n",
    "# END SOLUTION\n",
    "\"\"\" # BEGIN PROMPT\n",
    "# copy samp_mod9\n",
    "samp_mod10 = samp_mod9.copy()\n",
    "\n",
    "# define new variable using loc\n",
    "...\n",
    "\n",
    "# check using .head()\n",
    "...\n",
    "\"\"\"; # END PROMPT"
   ]
  },
  {
   "cell_type": "code",
   "execution_count": null,
   "metadata": {
    "deletable": false,
    "editable": false
   },
   "outputs": [],
   "source": [
    "grader.check(\"q10\")"
   ]
  },
  {
   "attachments": {},
   "cell_type": "markdown",
   "metadata": {},
   "source": [
    "### Question 11: Final dataset\n",
    "\n",
    "For the final dataset, drop the respondent answers to individual questions, the missingness indicator, and select just the derived indicator variables along with general health, sex, age, and smoking status. Check the [pandas documentation](https://pandas.pydata.org/pandas-docs/stable/reference/api/pandas.DataFrame.rename.html) for `.rename()` and follow the examples to rename the latter variables:\n",
    "\n",
    "* general_health\n",
    "* sex\n",
    "* age\n",
    "* smoking\n",
    "\n",
    "See if you can perform both operations (slicing and renaming) in a single chain. Store the result as `data`.\n"
   ]
  },
  {
   "cell_type": "code",
   "execution_count": 57,
   "metadata": {
    "tags": [
     "otter_assign_solution_cell"
    ]
   },
   "outputs": [
    {
     "data": {
      "text/plain": [
       "Index(['GENHLTH', 'ADDEPEV3', 'ACEDEPRS', 'ACEDRINK', 'ACEDRUGS', 'ACEPRISN',\n",
       "       '_LLCPWT', '_SEX', '_AGEG5YR', '_SMOKER3', 'adverse_conditions',\n",
       "       'adverse_missing', 'depression'],\n",
       "      dtype='object')"
      ]
     },
     "execution_count": 57,
     "metadata": {},
     "output_type": "execute_result"
    }
   ],
   "source": [
    "samp_mod10.columns"
   ]
  },
  {
   "cell_type": "code",
   "execution_count": 58,
   "metadata": {
    "tags": [
     "otter_assign_solution_cell"
    ]
   },
   "outputs": [],
   "source": [
    "# BEGIN SOLUTION NO PROMPT\n",
    "# slice and rename\n",
    "data = samp_mod10.iloc[:, [0, 7, 8, 9, 10, 12]].rename( #dropping some variables is the same as only selecting the remaining variables\n",
    "    columns = {'GENHLTH': 'general_health',\n",
    "               '_SEX': 'sex',\n",
    "               '_AGEG5YR': 'age',\n",
    "               '_SMOKER3': 'smoking'}\n",
    ")\n",
    "\n",
    "# preview\n",
    "data.head()\n",
    "\n",
    "# END SOLUTION\n",
    "\"\"\" # BEGIN PROMPT\n",
    "# slice and rename\n",
    "data = ...\n",
    "\n",
    "# check using .head()\n",
    "\n",
    "\"\"\"; # END PROMPT"
   ]
  },
  {
   "cell_type": "code",
   "execution_count": null,
   "metadata": {
    "deletable": false,
    "editable": false
   },
   "outputs": [],
   "source": [
    "grader.check(\"q11\")"
   ]
  },
  {
   "attachments": {},
   "cell_type": "markdown",
   "metadata": {},
   "source": [
    "# Descriptive analysis\n",
    "\n",
    "Now that you have a clean dataset, you'll use grouping and aggregation to compute several summary statistics that will help you explore whether there is an apparent association between experiencing adverse childhood conditions and self-reported health, smoking status, and depressive disorders in areas where the ACE module was administered.\n",
    "\n",
    "The basic strategy will be to calculate the proportions of respondents who answered yes to one of the adverse experience questions when respondents are grouped by the other variables."
   ]
  },
  {
   "attachments": {},
   "cell_type": "markdown",
   "metadata": {},
   "source": [
    "### Question 12: Proportion of respondents reporting ACEs\n",
    "\n",
    "Calculate the overall proportion of respondents in the subsample that reported experiencing at least one adverse condition (given that they answered the ACE questions). Use `.mean()`; store the result as `mean_ace` and print.\n"
   ]
  },
  {
   "cell_type": "code",
   "execution_count": 62,
   "metadata": {
    "tags": [
     "otter_assign_solution_cell"
    ]
   },
   "outputs": [
    {
     "data": {
      "text/plain": [
       "0.3070083682008368"
      ]
     },
     "execution_count": 62,
     "metadata": {},
     "output_type": "execute_result"
    }
   ],
   "source": [
    "# proportion of respondents reporting at least one adverse condition\n",
    "mean_ace = data.adverse_conditions.mean() #SOLUTION\n",
    "\n",
    "# print\n",
    "mean_ace"
   ]
  },
  {
   "cell_type": "code",
   "execution_count": null,
   "metadata": {
    "deletable": false,
    "editable": false
   },
   "outputs": [],
   "source": [
    "grader.check(\"q12\")"
   ]
  },
  {
   "cell_type": "markdown",
   "metadata": {},
   "source": [
    "*Does the proportion of respondents who reported experiencing adverse childhood conditions vary by general health?*\n",
    "\n",
    "The cell below computes the porportion separately by general health self-rating. Notice that the depression variable is dropped so that the result doesn't also report the proportion of respondents reporting having been diagnosed with a depressive disorder. Notice also that the proportion of missing values for respondents indicating each general health rating is shown."
   ]
  },
  {
   "cell_type": "code",
   "execution_count": 65,
   "metadata": {},
   "outputs": [
    {
     "data": {
      "text/html": [
       "<div>\n",
       "<style scoped>\n",
       "    .dataframe tbody tr th:only-of-type {\n",
       "        vertical-align: middle;\n",
       "    }\n",
       "\n",
       "    .dataframe tbody tr th {\n",
       "        vertical-align: top;\n",
       "    }\n",
       "\n",
       "    .dataframe thead th {\n",
       "        text-align: right;\n",
       "    }\n",
       "</style>\n",
       "<table border=\"1\" class=\"dataframe\">\n",
       "  <thead>\n",
       "    <tr style=\"text-align: right;\">\n",
       "      <th></th>\n",
       "      <th>adverse_conditions</th>\n",
       "    </tr>\n",
       "    <tr>\n",
       "      <th>general_health</th>\n",
       "      <th></th>\n",
       "    </tr>\n",
       "  </thead>\n",
       "  <tbody>\n",
       "    <tr>\n",
       "      <th>Excellent</th>\n",
       "      <td>0.300000</td>\n",
       "    </tr>\n",
       "    <tr>\n",
       "      <th>Fair</th>\n",
       "      <td>0.355491</td>\n",
       "    </tr>\n",
       "    <tr>\n",
       "      <th>Good</th>\n",
       "      <td>0.299174</td>\n",
       "    </tr>\n",
       "    <tr>\n",
       "      <th>Poor</th>\n",
       "      <td>0.441667</td>\n",
       "    </tr>\n",
       "    <tr>\n",
       "      <th>Refused</th>\n",
       "      <td>0.000000</td>\n",
       "    </tr>\n",
       "    <tr>\n",
       "      <th>Unsure</th>\n",
       "      <td>0.000000</td>\n",
       "    </tr>\n",
       "    <tr>\n",
       "      <th>Very good</th>\n",
       "      <td>0.264957</td>\n",
       "    </tr>\n",
       "  </tbody>\n",
       "</table>\n",
       "</div>"
      ],
      "text/plain": [
       "                adverse_conditions\n",
       "general_health                    \n",
       "Excellent                 0.300000\n",
       "Fair                      0.355491\n",
       "Good                      0.299174\n",
       "Poor                      0.441667\n",
       "Refused                   0.000000\n",
       "Unsure                    0.000000\n",
       "Very good                 0.264957"
      ]
     },
     "execution_count": 65,
     "metadata": {},
     "output_type": "execute_result"
    }
   ],
   "source": [
    "# proportions grouped by general health\n",
    "data.drop(\n",
    "    columns = 'depression'\n",
    ").groupby(\n",
    "    'general_health'\n",
    ").mean(numeric_only = True)"
   ]
  },
  {
   "cell_type": "markdown",
   "metadata": {},
   "source": [
    "Notice that the row index lists the general health rating out of order. This can be fixed using a `.loc[]` call and the dictionary that was defined for the variable coding."
   ]
  },
  {
   "cell_type": "code",
   "execution_count": 66,
   "metadata": {},
   "outputs": [
    {
     "data": {
      "text/html": [
       "<div>\n",
       "<style scoped>\n",
       "    .dataframe tbody tr th:only-of-type {\n",
       "        vertical-align: middle;\n",
       "    }\n",
       "\n",
       "    .dataframe tbody tr th {\n",
       "        vertical-align: top;\n",
       "    }\n",
       "\n",
       "    .dataframe thead th {\n",
       "        text-align: right;\n",
       "    }\n",
       "</style>\n",
       "<table border=\"1\" class=\"dataframe\">\n",
       "  <thead>\n",
       "    <tr style=\"text-align: right;\">\n",
       "      <th></th>\n",
       "      <th>adverse_conditions</th>\n",
       "    </tr>\n",
       "    <tr>\n",
       "      <th>general_health</th>\n",
       "      <th></th>\n",
       "    </tr>\n",
       "  </thead>\n",
       "  <tbody>\n",
       "    <tr>\n",
       "      <th>Excellent</th>\n",
       "      <td>0.300000</td>\n",
       "    </tr>\n",
       "    <tr>\n",
       "      <th>Very good</th>\n",
       "      <td>0.264957</td>\n",
       "    </tr>\n",
       "    <tr>\n",
       "      <th>Good</th>\n",
       "      <td>0.299174</td>\n",
       "    </tr>\n",
       "    <tr>\n",
       "      <th>Fair</th>\n",
       "      <td>0.355491</td>\n",
       "    </tr>\n",
       "    <tr>\n",
       "      <th>Poor</th>\n",
       "      <td>0.441667</td>\n",
       "    </tr>\n",
       "    <tr>\n",
       "      <th>Unsure</th>\n",
       "      <td>0.000000</td>\n",
       "    </tr>\n",
       "    <tr>\n",
       "      <th>Refused</th>\n",
       "      <td>0.000000</td>\n",
       "    </tr>\n",
       "  </tbody>\n",
       "</table>\n",
       "</div>"
      ],
      "text/plain": [
       "                adverse_conditions\n",
       "general_health                    \n",
       "Excellent                 0.300000\n",
       "Very good                 0.264957\n",
       "Good                      0.299174\n",
       "Fair                      0.355491\n",
       "Poor                      0.441667\n",
       "Unsure                    0.000000\n",
       "Refused                   0.000000"
      ]
     },
     "execution_count": 66,
     "metadata": {},
     "output_type": "execute_result"
    }
   ],
   "source": [
    "# same as above, rearranging index\n",
    "ace_health = data.drop(\n",
    "    columns = 'depression'\n",
    ").groupby(\n",
    "    'general_health'\n",
    ").mean(\n",
    "    numeric_only = True\n",
    ").loc[list(health_codes.values()), :]\n",
    "\n",
    "# print\n",
    "ace_health"
   ]
  },
  {
   "attachments": {},
   "cell_type": "markdown",
   "metadata": {},
   "source": [
    "### Question 13: Association between smoking status and ACEs\n",
    "\n",
    "*Does the proportion of respondents who reported experiencing adverse childhood conditions vary by smoking status?*\n",
    "\n",
    "Following the example above for computing the proportion of respondents reporting ACEs by general health rating, calculate the proportion of respondents reporting ACEs by smoking status (be sure to arrange the rows in appropriate order of smoking status) and store as `ace_smoking`.\n"
   ]
  },
  {
   "cell_type": "code",
   "execution_count": 67,
   "metadata": {
    "tags": [
     "otter_assign_solution_cell"
    ]
   },
   "outputs": [
    {
     "data": {
      "text/html": [
       "<div>\n",
       "<style scoped>\n",
       "    .dataframe tbody tr th:only-of-type {\n",
       "        vertical-align: middle;\n",
       "    }\n",
       "\n",
       "    .dataframe tbody tr th {\n",
       "        vertical-align: top;\n",
       "    }\n",
       "\n",
       "    .dataframe thead th {\n",
       "        text-align: right;\n",
       "    }\n",
       "</style>\n",
       "<table border=\"1\" class=\"dataframe\">\n",
       "  <thead>\n",
       "    <tr style=\"text-align: right;\">\n",
       "      <th></th>\n",
       "      <th>adverse_conditions</th>\n",
       "    </tr>\n",
       "    <tr>\n",
       "      <th>smoking</th>\n",
       "      <th></th>\n",
       "    </tr>\n",
       "  </thead>\n",
       "  <tbody>\n",
       "    <tr>\n",
       "      <th>Daily</th>\n",
       "      <td>0.453125</td>\n",
       "    </tr>\n",
       "    <tr>\n",
       "      <th>Some days</th>\n",
       "      <td>0.527778</td>\n",
       "    </tr>\n",
       "    <tr>\n",
       "      <th>Former</th>\n",
       "      <td>0.334459</td>\n",
       "    </tr>\n",
       "    <tr>\n",
       "      <th>Never</th>\n",
       "      <td>0.251434</td>\n",
       "    </tr>\n",
       "    <tr>\n",
       "      <th>Unsure/refused/missing</th>\n",
       "      <td>0.100000</td>\n",
       "    </tr>\n",
       "  </tbody>\n",
       "</table>\n",
       "</div>"
      ],
      "text/plain": [
       "                        adverse_conditions\n",
       "smoking                                   \n",
       "Daily                             0.453125\n",
       "Some days                         0.527778\n",
       "Former                            0.334459\n",
       "Never                             0.251434\n",
       "Unsure/refused/missing            0.100000"
      ]
     },
     "execution_count": 67,
     "metadata": {},
     "output_type": "execute_result"
    }
   ],
   "source": [
    "# proportions grouped by smoking status\n",
    "ace_smoking = data.drop(\n",
    "    columns = 'depression'\n",
    ").groupby(\n",
    "    'smoking'\n",
    ").mean(\n",
    "    numeric_only = True\n",
    ").loc[list(smoke_codes.values()), :] #SOLUTION\n",
    "\n",
    "# print\n",
    "ace_smoking"
   ]
  },
  {
   "cell_type": "code",
   "execution_count": null,
   "metadata": {
    "deletable": false,
    "editable": false
   },
   "outputs": [],
   "source": [
    "grader.check(\"q13\")"
   ]
  },
  {
   "attachments": {},
   "cell_type": "markdown",
   "metadata": {},
   "source": [
    "### Question 14: Association between depression and ACEs\n",
    "\n",
    "*Does the proportion of respondents who reported experiencing adverse childhood conditions vary by smoking status?*\n",
    "\n",
    "Calculate the proportion of respondents reporting ACEs by whether respondents had been diagnosed with a depressive disorder and store as `ace_depr`.\n"
   ]
  },
  {
   "cell_type": "code",
   "execution_count": 71,
   "metadata": {
    "tags": [
     "otter_assign_solution_cell"
    ]
   },
   "outputs": [
    {
     "data": {
      "text/html": [
       "<div>\n",
       "<style scoped>\n",
       "    .dataframe tbody tr th:only-of-type {\n",
       "        vertical-align: middle;\n",
       "    }\n",
       "\n",
       "    .dataframe tbody tr th {\n",
       "        vertical-align: top;\n",
       "    }\n",
       "\n",
       "    .dataframe thead th {\n",
       "        text-align: right;\n",
       "    }\n",
       "</style>\n",
       "<table border=\"1\" class=\"dataframe\">\n",
       "  <thead>\n",
       "    <tr style=\"text-align: right;\">\n",
       "      <th></th>\n",
       "      <th>adverse_conditions</th>\n",
       "    </tr>\n",
       "    <tr>\n",
       "      <th>depression</th>\n",
       "      <th></th>\n",
       "    </tr>\n",
       "  </thead>\n",
       "  <tbody>\n",
       "    <tr>\n",
       "      <th>False</th>\n",
       "      <td>0.250975</td>\n",
       "    </tr>\n",
       "    <tr>\n",
       "      <th>True</th>\n",
       "      <td>0.537433</td>\n",
       "    </tr>\n",
       "  </tbody>\n",
       "</table>\n",
       "</div>"
      ],
      "text/plain": [
       "            adverse_conditions\n",
       "depression                    \n",
       "False                 0.250975\n",
       "True                  0.537433"
      ]
     },
     "execution_count": 71,
     "metadata": {},
     "output_type": "execute_result"
    }
   ],
   "source": [
    "# proportions grouped by having experienced depression\n",
    "ace_depr = data.groupby(\n",
    "    'depression'\n",
    ").mean(\n",
    "    numeric_only = True\n",
    ") #SOLUTION\n",
    "\n",
    "# print\n",
    "ace_depr"
   ]
  },
  {
   "cell_type": "code",
   "execution_count": null,
   "metadata": {
    "deletable": false,
    "editable": false
   },
   "outputs": [],
   "source": [
    "grader.check(\"q14\")"
   ]
  },
  {
   "attachments": {},
   "cell_type": "markdown",
   "metadata": {},
   "source": [
    "### Question 15: Exploring subgroupings\n",
    "\n",
    "*Does the apparent association between general health and ACEs persist after accounting for sex?*\n",
    "\n",
    "Repeat the calculation of the proportion of respondents reporting ACEs by general health rating, but also group by sex. Store the result as `ace_health_sex`.\n"
   ]
  },
  {
   "cell_type": "code",
   "execution_count": 75,
   "metadata": {
    "tags": [
     "otter_assign_solution_cell"
    ]
   },
   "outputs": [],
   "source": [
    "# group by general health and sex\n",
    "ace_health_sex = data.drop(\n",
    "    columns = 'depression'\n",
    ").groupby(\n",
    "    ['general_health', 'sex']\n",
    ").mean(numeric_only = True) #SOLUTION"
   ]
  },
  {
   "cell_type": "code",
   "execution_count": null,
   "metadata": {
    "deletable": false,
    "editable": false
   },
   "outputs": [],
   "source": [
    "grader.check(\"q15\")"
   ]
  },
  {
   "attachments": {},
   "cell_type": "markdown",
   "metadata": {},
   "source": [
    "The cell below rearranges the table a little for better readability."
   ]
  },
  {
   "cell_type": "code",
   "execution_count": 79,
   "metadata": {},
   "outputs": [
    {
     "data": {
      "text/html": [
       "<div>\n",
       "<style scoped>\n",
       "    .dataframe tbody tr th:only-of-type {\n",
       "        vertical-align: middle;\n",
       "    }\n",
       "\n",
       "    .dataframe tbody tr th {\n",
       "        vertical-align: top;\n",
       "    }\n",
       "\n",
       "    .dataframe thead th {\n",
       "        text-align: right;\n",
       "    }\n",
       "</style>\n",
       "<table border=\"1\" class=\"dataframe\">\n",
       "  <thead>\n",
       "    <tr style=\"text-align: right;\">\n",
       "      <th>sex</th>\n",
       "      <th>F</th>\n",
       "      <th>M</th>\n",
       "    </tr>\n",
       "    <tr>\n",
       "      <th>general_health</th>\n",
       "      <th></th>\n",
       "      <th></th>\n",
       "    </tr>\n",
       "  </thead>\n",
       "  <tbody>\n",
       "    <tr>\n",
       "      <th>Excellent</th>\n",
       "      <td>0.328671</td>\n",
       "      <td>0.261682</td>\n",
       "    </tr>\n",
       "    <tr>\n",
       "      <th>Very good</th>\n",
       "      <td>0.282123</td>\n",
       "      <td>0.237885</td>\n",
       "    </tr>\n",
       "    <tr>\n",
       "      <th>Good</th>\n",
       "      <td>0.308108</td>\n",
       "      <td>0.285106</td>\n",
       "    </tr>\n",
       "    <tr>\n",
       "      <th>Fair</th>\n",
       "      <td>0.367150</td>\n",
       "      <td>0.338129</td>\n",
       "    </tr>\n",
       "    <tr>\n",
       "      <th>Poor</th>\n",
       "      <td>0.549296</td>\n",
       "      <td>0.285714</td>\n",
       "    </tr>\n",
       "    <tr>\n",
       "      <th>Unsure</th>\n",
       "      <td>NaN</td>\n",
       "      <td>0.000000</td>\n",
       "    </tr>\n",
       "    <tr>\n",
       "      <th>Refused</th>\n",
       "      <td>0.000000</td>\n",
       "      <td>NaN</td>\n",
       "    </tr>\n",
       "  </tbody>\n",
       "</table>\n",
       "</div>"
      ],
      "text/plain": [
       "sex                    F         M\n",
       "general_health                    \n",
       "Excellent       0.328671  0.261682\n",
       "Very good       0.282123  0.237885\n",
       "Good            0.308108  0.285106\n",
       "Fair            0.367150  0.338129\n",
       "Poor            0.549296  0.285714\n",
       "Unsure               NaN  0.000000\n",
       "Refused         0.000000       NaN"
      ]
     },
     "execution_count": 79,
     "metadata": {},
     "output_type": "execute_result"
    }
   ],
   "source": [
    "# pivot table for better display\n",
    "ace_health_sex.reset_index().pivot(columns = 'sex', index = 'general_health', values = 'adverse_conditions').loc[list(health_codes.values()), :]"
   ]
  },
  {
   "cell_type": "markdown",
   "metadata": {},
   "source": [
    "Even after rearrangement, the table in the last question is a little tricky to read (few people like visually scanning tables). This information would be better displayed in a plot. The example below generates a bar chart showing the summaries you calculated in Q2(d), with the proportion on the y axis, the health rating on the x axis, and separate bars for the two sexes."
   ]
  },
  {
   "cell_type": "code",
   "execution_count": 80,
   "metadata": {},
   "outputs": [
    {
     "name": "stderr",
     "output_type": "stream",
     "text": [
      "C:\\Users\\trdea\\AppData\\Local\\Temp\\ipykernel_10156\\2150558614.py:6: FutureWarning: The `inplace` parameter in pandas.Categorical.set_categories is deprecated and will be removed in a future version. Removing unused categories will always return a new Categorical object.\n",
      "  plot_df.general_health.cat.set_categories(genhealth_order, inplace=True)\n"
     ]
    },
    {
     "data": {
      "text/html": [
       "\n",
       "<div id=\"altair-viz-2226212af66340d8aec1abe61fd2290d\"></div>\n",
       "<script type=\"text/javascript\">\n",
       "  var VEGA_DEBUG = (typeof VEGA_DEBUG == \"undefined\") ? {} : VEGA_DEBUG;\n",
       "  (function(spec, embedOpt){\n",
       "    let outputDiv = document.currentScript.previousElementSibling;\n",
       "    if (outputDiv.id !== \"altair-viz-2226212af66340d8aec1abe61fd2290d\") {\n",
       "      outputDiv = document.getElementById(\"altair-viz-2226212af66340d8aec1abe61fd2290d\");\n",
       "    }\n",
       "    const paths = {\n",
       "      \"vega\": \"https://cdn.jsdelivr.net/npm//vega@5?noext\",\n",
       "      \"vega-lib\": \"https://cdn.jsdelivr.net/npm//vega-lib?noext\",\n",
       "      \"vega-lite\": \"https://cdn.jsdelivr.net/npm//vega-lite@4.17.0?noext\",\n",
       "      \"vega-embed\": \"https://cdn.jsdelivr.net/npm//vega-embed@6?noext\",\n",
       "    };\n",
       "\n",
       "    function maybeLoadScript(lib, version) {\n",
       "      var key = `${lib.replace(\"-\", \"\")}_version`;\n",
       "      return (VEGA_DEBUG[key] == version) ?\n",
       "        Promise.resolve(paths[lib]) :\n",
       "        new Promise(function(resolve, reject) {\n",
       "          var s = document.createElement('script');\n",
       "          document.getElementsByTagName(\"head\")[0].appendChild(s);\n",
       "          s.async = true;\n",
       "          s.onload = () => {\n",
       "            VEGA_DEBUG[key] = version;\n",
       "            return resolve(paths[lib]);\n",
       "          };\n",
       "          s.onerror = () => reject(`Error loading script: ${paths[lib]}`);\n",
       "          s.src = paths[lib];\n",
       "        });\n",
       "    }\n",
       "\n",
       "    function showError(err) {\n",
       "      outputDiv.innerHTML = `<div class=\"error\" style=\"color:red;\">${err}</div>`;\n",
       "      throw err;\n",
       "    }\n",
       "\n",
       "    function displayChart(vegaEmbed) {\n",
       "      vegaEmbed(outputDiv, spec, embedOpt)\n",
       "        .catch(err => showError(`Javascript Error: ${err.message}<br>This usually means there's a typo in your chart specification. See the javascript console for the full traceback.`));\n",
       "    }\n",
       "\n",
       "    if(typeof define === \"function\" && define.amd) {\n",
       "      requirejs.config({paths});\n",
       "      require([\"vega-embed\"], displayChart, err => showError(`Error loading script: ${err.message}`));\n",
       "    } else {\n",
       "      maybeLoadScript(\"vega\", \"5\")\n",
       "        .then(() => maybeLoadScript(\"vega-lite\", \"4.17.0\"))\n",
       "        .then(() => maybeLoadScript(\"vega-embed\", \"6\"))\n",
       "        .catch(showError)\n",
       "        .then(() => displayChart(vegaEmbed));\n",
       "    }\n",
       "  })({\"config\": {\"view\": {\"continuousWidth\": 400, \"continuousHeight\": 300}}, \"data\": {\"name\": \"data-022287d79b92537076d9261c23550f11\"}, \"mark\": \"bar\", \"encoding\": {\"color\": {\"field\": \"sex\", \"type\": \"nominal\"}, \"column\": {\"field\": \"sex\", \"type\": \"nominal\"}, \"x\": {\"field\": \"general_health\", \"sort\": [\"general_health\"], \"title\": \"Self-rated general health\", \"type\": \"nominal\"}, \"y\": {\"field\": \"adverse_conditions\", \"title\": \"Prop. of respondents reporting ACEs\", \"type\": \"quantitative\"}}, \"height\": 200, \"width\": 200, \"$schema\": \"https://vega.github.io/schema/vega-lite/v4.17.0.json\", \"datasets\": {\"data-022287d79b92537076d9261c23550f11\": [{\"general_health\": \"Excellent\", \"sex\": \"F\", \"adverse_conditions\": 0.32867132867132864}, {\"general_health\": \"Excellent\", \"sex\": \"M\", \"adverse_conditions\": 0.2616822429906542}, {\"general_health\": \"Very good\", \"sex\": \"F\", \"adverse_conditions\": 0.28212290502793297}, {\"general_health\": \"Very good\", \"sex\": \"M\", \"adverse_conditions\": 0.23788546255506607}, {\"general_health\": \"Good\", \"sex\": \"F\", \"adverse_conditions\": 0.3081081081081081}, {\"general_health\": \"Good\", \"sex\": \"M\", \"adverse_conditions\": 0.2851063829787234}, {\"general_health\": \"Fair\", \"sex\": \"F\", \"adverse_conditions\": 0.3671497584541063}, {\"general_health\": \"Fair\", \"sex\": \"M\", \"adverse_conditions\": 0.3381294964028777}, {\"general_health\": \"Poor\", \"sex\": \"F\", \"adverse_conditions\": 0.5492957746478874}, {\"general_health\": \"Poor\", \"sex\": \"M\", \"adverse_conditions\": 0.2857142857142857}, {\"general_health\": \"Unsure\", \"sex\": \"F\", \"adverse_conditions\": null}, {\"general_health\": \"Unsure\", \"sex\": \"M\", \"adverse_conditions\": 0.0}, {\"general_health\": \"Refused\", \"sex\": \"F\", \"adverse_conditions\": 0.0}, {\"general_health\": \"Refused\", \"sex\": \"M\", \"adverse_conditions\": null}]}}, {\"mode\": \"vega-lite\"});\n",
       "</script>"
      ],
      "text/plain": [
       "alt.Chart(...)"
      ]
     },
     "execution_count": 80,
     "metadata": {},
     "output_type": "execute_result"
    }
   ],
   "source": [
    "# coerce indices to columns for plotting\n",
    "plot_df = ace_health_sex.reset_index()\n",
    "\n",
    "# specify order of general health categories\n",
    "genhealth_order = list(health_codes.values())\n",
    "plot_df.general_health.cat.set_categories(genhealth_order, inplace=True)\n",
    "plot_df.sort_values([\"general_health\"], inplace=True)\n",
    "\n",
    "# plot\n",
    "alt.Chart(plot_df).mark_bar().encode(\n",
    "    x = alt.X('general_health', \n",
    "              sort = ['general_health'],\n",
    "              title = 'Self-rated general health'),\n",
    "    y = alt.Y('adverse_conditions',\n",
    "              title = 'Prop. of respondents reporting ACEs'),\n",
    "    color = 'sex',\n",
    "    column = 'sex'\n",
    ").properties(\n",
    "    width = 200, \n",
    "    height = 200\n",
    ")"
   ]
  },
  {
   "attachments": {},
   "cell_type": "markdown",
   "metadata": {},
   "source": [
    "<!-- BEGIN QUESTION -->\n",
    "\n",
    "### Question 16: Visualization\n",
    "\n",
    "Use the example above to plot the proportion of respondents reporting ACEs \n",
    "against smoking status for men and women.\n",
    "\n",
    "*Hint*: you only need to modify the example by substituting smoking status for general health.\n"
   ]
  },
  {
   "cell_type": "code",
   "execution_count": 81,
   "metadata": {
    "tags": [
     "otter_assign_solution_cell"
    ]
   },
   "outputs": [
    {
     "data": {
      "text/html": [
       "\n",
       "<div id=\"altair-viz-f5b23530fa3746df9a8fcbaab955b3cb\"></div>\n",
       "<script type=\"text/javascript\">\n",
       "  var VEGA_DEBUG = (typeof VEGA_DEBUG == \"undefined\") ? {} : VEGA_DEBUG;\n",
       "  (function(spec, embedOpt){\n",
       "    let outputDiv = document.currentScript.previousElementSibling;\n",
       "    if (outputDiv.id !== \"altair-viz-f5b23530fa3746df9a8fcbaab955b3cb\") {\n",
       "      outputDiv = document.getElementById(\"altair-viz-f5b23530fa3746df9a8fcbaab955b3cb\");\n",
       "    }\n",
       "    const paths = {\n",
       "      \"vega\": \"https://cdn.jsdelivr.net/npm//vega@5?noext\",\n",
       "      \"vega-lib\": \"https://cdn.jsdelivr.net/npm//vega-lib?noext\",\n",
       "      \"vega-lite\": \"https://cdn.jsdelivr.net/npm//vega-lite@4.17.0?noext\",\n",
       "      \"vega-embed\": \"https://cdn.jsdelivr.net/npm//vega-embed@6?noext\",\n",
       "    };\n",
       "\n",
       "    function maybeLoadScript(lib, version) {\n",
       "      var key = `${lib.replace(\"-\", \"\")}_version`;\n",
       "      return (VEGA_DEBUG[key] == version) ?\n",
       "        Promise.resolve(paths[lib]) :\n",
       "        new Promise(function(resolve, reject) {\n",
       "          var s = document.createElement('script');\n",
       "          document.getElementsByTagName(\"head\")[0].appendChild(s);\n",
       "          s.async = true;\n",
       "          s.onload = () => {\n",
       "            VEGA_DEBUG[key] = version;\n",
       "            return resolve(paths[lib]);\n",
       "          };\n",
       "          s.onerror = () => reject(`Error loading script: ${paths[lib]}`);\n",
       "          s.src = paths[lib];\n",
       "        });\n",
       "    }\n",
       "\n",
       "    function showError(err) {\n",
       "      outputDiv.innerHTML = `<div class=\"error\" style=\"color:red;\">${err}</div>`;\n",
       "      throw err;\n",
       "    }\n",
       "\n",
       "    function displayChart(vegaEmbed) {\n",
       "      vegaEmbed(outputDiv, spec, embedOpt)\n",
       "        .catch(err => showError(`Javascript Error: ${err.message}<br>This usually means there's a typo in your chart specification. See the javascript console for the full traceback.`));\n",
       "    }\n",
       "\n",
       "    if(typeof define === \"function\" && define.amd) {\n",
       "      requirejs.config({paths});\n",
       "      require([\"vega-embed\"], displayChart, err => showError(`Error loading script: ${err.message}`));\n",
       "    } else {\n",
       "      maybeLoadScript(\"vega\", \"5\")\n",
       "        .then(() => maybeLoadScript(\"vega-lite\", \"4.17.0\"))\n",
       "        .then(() => maybeLoadScript(\"vega-embed\", \"6\"))\n",
       "        .catch(showError)\n",
       "        .then(() => displayChart(vegaEmbed));\n",
       "    }\n",
       "  })({\"config\": {\"view\": {\"continuousWidth\": 400, \"continuousHeight\": 300}}, \"data\": {\"name\": \"data-b239cadbcd4e3e2b0533d061c9f53bf0\"}, \"mark\": \"bar\", \"encoding\": {\"color\": {\"field\": \"sex\", \"type\": \"nominal\"}, \"column\": {\"field\": \"sex\", \"type\": \"nominal\"}, \"x\": {\"field\": \"smoking\", \"sort\": [\"Excellent\", \"Very good\", \"Good\", \"Fair\", \"Poor\", \"Unsure\", \"Refused\"], \"title\": \"Smoking status\", \"type\": \"nominal\"}, \"y\": {\"field\": \"adverse_conditions\", \"title\": \"Prop. of respondents reporting ACEs\", \"type\": \"quantitative\"}}, \"height\": 200, \"width\": 200, \"$schema\": \"https://vega.github.io/schema/vega-lite/v4.17.0.json\", \"datasets\": {\"data-b239cadbcd4e3e2b0533d061c9f53bf0\": [{\"smoking\": \"Daily\", \"sex\": \"F\", \"adverse_conditions\": 0.5398230088495575}, {\"smoking\": \"Daily\", \"sex\": \"M\", \"adverse_conditions\": 0.3291139240506329}, {\"smoking\": \"Some days\", \"sex\": \"F\", \"adverse_conditions\": 0.5135135135135135}, {\"smoking\": \"Some days\", \"sex\": \"M\", \"adverse_conditions\": 0.5428571428571428}, {\"smoking\": \"Former\", \"sex\": \"F\", \"adverse_conditions\": 0.38387096774193546}, {\"smoking\": \"Former\", \"sex\": \"M\", \"adverse_conditions\": 0.2801418439716312}, {\"smoking\": \"Never\", \"sex\": \"F\", \"adverse_conditions\": 0.2583941605839416}, {\"smoking\": \"Never\", \"sex\": \"M\", \"adverse_conditions\": 0.23822714681440443}, {\"smoking\": \"Unsure/refused/missing\", \"sex\": \"F\", \"adverse_conditions\": 0.2}, {\"smoking\": \"Unsure/refused/missing\", \"sex\": \"M\", \"adverse_conditions\": 0.0}]}}, {\"mode\": \"vega-lite\"});\n",
       "</script>"
      ],
      "text/plain": [
       "alt.Chart(...)"
      ]
     },
     "execution_count": 81,
     "metadata": {},
     "output_type": "execute_result"
    }
   ],
   "source": [
    "# BEGIN SOLUTION NO PROMPT\n",
    "# proportions grouped by smoking status\n",
    "ace_smoking_sex = data.drop(\n",
    "    columns = 'depression'\n",
    ").groupby(\n",
    "    ['smoking', 'sex']\n",
    ").mean(numeric_only = True).loc[list(smoke_codes.values()), :]\n",
    "\n",
    "# coerce indices to columns for plotting\n",
    "plot_df = ace_smoking_sex.reset_index()\n",
    "\n",
    "# specify order of general health categories\n",
    "smoke_order = pd.CategoricalDtype(list(smoke_codes.values()), ordered = True)\n",
    "plot_df['smoking'] = plot_df.smoking.astype(smoke_order)\n",
    "\n",
    "# plot\n",
    "alt.Chart(plot_df).mark_bar().encode(\n",
    "    x = alt.X('smoking', \n",
    "              sort = list(health_codes.values()),\n",
    "              title = 'Smoking status'),\n",
    "    y = alt.Y('adverse_conditions',\n",
    "              title = 'Prop. of respondents reporting ACEs'),\n",
    "    color = 'sex',\n",
    "    column = 'sex'\n",
    ").properties(\n",
    "    width = 200, \n",
    "    height = 200\n",
    ")\n",
    "# END SOLUTION"
   ]
  },
  {
   "cell_type": "code",
   "execution_count": 82,
   "metadata": {
    "tags": [
     "otter_assign_solution_cell"
    ]
   },
   "outputs": [
    {
     "data": {
      "text/plain": [
       "Ellipsis"
      ]
     },
     "execution_count": 82,
     "metadata": {},
     "output_type": "execute_result"
    }
   ],
   "source": [
    "# BEGIN PROMPT\n",
    "# dataframe of proportions grouped by smoking status\n",
    "ace_smoking_sex = ...\n",
    "\n",
    "# coerce indices to columns for plotting\n",
    "...\n",
    "\n",
    "# specify order of general health categories\n",
    "...\n",
    "\n",
    "# plot\n",
    "...\n",
    "# END PROMPT"
   ]
  },
  {
   "attachments": {},
   "cell_type": "markdown",
   "metadata": {},
   "source": [
    "<!-- END QUESTION -->\n",
    "\n",
    "# Communicating results\n",
    "\n",
    "Here you'll be asked to reflect briefly on your findings."
   ]
  },
  {
   "attachments": {},
   "cell_type": "markdown",
   "metadata": {},
   "source": [
    "<!-- BEGIN QUESTION -->\n",
    "\n",
    "### Question 17: Summary\n",
    "\n",
    "*Is there an observed association between reporting ACEs and general health, smoking status, and depression among survey respondents who answered the ACE questions?*\n",
    "\n",
    "Write a two to three sentence answer to the above question summarizing your findings. State an answer to the question in your first sentence, and then in your second/third sentences describe exactly what you observed in the foregoing descriptive analysis of the BRFSS data. Be precise, but also concise. There is no need to describe any of the data manipulations, survey design, or the like.\n"
   ]
  },
  {
   "cell_type": "markdown",
   "metadata": {},
   "source": [
    "_Type your answer here, replacing this text._"
   ]
  },
  {
   "cell_type": "markdown",
   "metadata": {
    "tags": [
     "otter_assign_solution_cell"
    ]
   },
   "source": [
    "**SOLUTION**\n",
    "\n",
    "Yes, there are observed associations between reported adverse childhood experiences and general health, smoking status, and depression. The proportion of respondents reporting ACEs generally increases with smoking frequency for both men and women; there are higher observed rates of ACE reports among respondents in poorer health for both men and women; and there are higher observed rates of ACE reports among respondents with a diagnosed depressive disorder."
   ]
  },
  {
   "attachments": {},
   "cell_type": "markdown",
   "metadata": {},
   "source": [
    "<!-- END QUESTION -->\n",
    "\n",
    "<!-- BEGIN QUESTION -->\n",
    "\n",
    "### Question 18: Scope of inference\n",
    "\n",
    "Recall from the overview documentation all the care that the BRFSS dedicates to collecting a representative sample of the U.S. adult population with phone numbers. Do you think that your findings provide evidence of an association among the general public (not just the individuals survey)? Why or why not? Answer in two sentences.\n"
   ]
  },
  {
   "cell_type": "markdown",
   "metadata": {},
   "source": [
    "_Type your answer here, replacing this text._"
   ]
  },
  {
   "cell_type": "markdown",
   "metadata": {
    "tags": [
     "otter_assign_solution_cell"
    ]
   },
   "source": [
    "**SOLUTION**\n",
    "\n",
    "The sample is a probability sample of the study population, so results are in principle generalizable; however, many ACE responses were missing because certain states did not ask those questions. As a result, the observed proportions are likely *underestimates* of the rates among the general public (U.S. adults with phone numbers in private or college housing) and may misrepresent the overall pattern of association. More narrowly, the findings **do** provide evidence of associations between adverse childhood experiences and health, depression, and smoking among a subset of states."
   ]
  },
  {
   "attachments": {},
   "cell_type": "markdown",
   "metadata": {},
   "source": [
    "<!-- END QUESTION -->\n",
    "\n",
    "<!-- BEGIN QUESTION -->\n",
    "\n",
    "### Question 19: Bias\n",
    "\n",
    "What is a potential source of bias in the survey results, and how might this affect the proportions you've calculated?\n",
    "\n",
    "Answer in one or two sentences.\n"
   ]
  },
  {
   "cell_type": "markdown",
   "metadata": {},
   "source": [
    "_Type your answer here, replacing this text._"
   ]
  },
  {
   "cell_type": "markdown",
   "metadata": {
    "tags": [
     "otter_assign_solution_cell"
    ]
   },
   "source": [
    "**SOLUTION**\n",
    "\n",
    "Adverse childhood experience is a sensitive matter; respondents may not be comfortable responding truthfully to some of these questions. This would likely produce negative bias -- the sample proportions may be *underestimates* if this is common."
   ]
  },
  {
   "attachments": {},
   "cell_type": "markdown",
   "metadata": {},
   "source": [
    "<!-- END QUESTION -->\n",
    "\n",
    "### Comment\n",
    "\n",
    "Notice that the language 'association' is non-causual: we don't say that ACEs cause (or don't cause) poorer health outcomes. This is intentional, because the BRFSS data are what are known as 'observational' data, *i.e.* not originating from a controlled experiment. There could be unobserved factors that explain the association. \n",
    "\n",
    "To take a simple example, dog owners live longer, but the reason is simply that dog owners walk more -- so it's the exercise, not the dogs, that cause an increase in longevity. An observational study that doesn't measure exercise would show a positive association between dog ownership and lifespan, but it's a non-causal relationship. \n",
    "\n",
    "(As an interesting/amusing aside, there is a [well known study](https://www.ncbi.nlm.nih.gov/pmc/articles/PMC1884050/) that established an association between birdkeeping and lung cancer; obviously this is non-causal, yet the study authors recommended that individuals at high risk for cancer avoid 'avian exposure', as they were unsure of the mechanism.)\n",
    "\n",
    "So there could easily be unobserved factors that account for the observed association in the BRFSS data. We guard against over-interpreting the results by using causally-neutral language."
   ]
  },
  {
   "cell_type": "markdown",
   "metadata": {},
   "source": [
    "# Submission\n",
    "\n",
    "\n",
    "1. Save the notebook. \n",
    "2. Restart the kernel and run all cells. (**CAUTION**: if your notebook is not saved, you will lose your work.)\n",
    "3. Carefully look through your notebook and verify that all computations execute correctly. You should see **no errors**; if there are any errors, make sure to correct them before you submit the notebook.\n",
    "4. Download the notebook as an `.ipynb` file. This is your backup copy.\n",
    "5. Export the notebook as PDF and upload to Gradescope."
   ]
  }
 ],
 "metadata": {
  "kernelspec": {
   "display_name": "Python 3",
   "language": "python",
   "name": "python3"
  },
  "language_info": {
   "codemirror_mode": {
    "name": "ipython",
    "version": 3
   },
   "file_extension": ".py",
   "mimetype": "text/x-python",
   "name": "python",
   "nbconvert_exporter": "python",
   "pygments_lexer": "ipython3",
   "version": "3.9.12"
  },
  "otter": {
   "OK_FORMAT": true,
   "tests": {
    "q1": {
     "name": "q1",
     "points": 1,
     "suites": [
      {
       "cases": [
        {
         "code": ">>> # more than 100k rows\n>>> nrows > 100000\nTrue",
         "hidden": false,
         "locked": false
        },
        {
         "code": ">>> # fewer than 12 columns\n>>> ncolumns < 12\nTrue",
         "hidden": false,
         "locked": false
        },
        {
         "code": ">>> (nrows, ncolumns) == brfss.shape\nTrue",
         "hidden": true,
         "locked": false
        }
       ],
       "scored": true,
       "setup": "",
       "teardown": "",
       "type": "doctest"
      }
     ]
    },
    "q10": {
     "name": "q10",
     "points": 1,
     "suites": [
      {
       "cases": [
        {
         "code": ">>> # check an example row where respondent did *not* report experiencing depression \n>>> samp_mod10.loc[61521]['depression'] == False\nTrue",
         "hidden": false,
         "locked": false
        },
        {
         "code": ">>> # check an example row where respondent did report experiencing depression\n>>> samp_mod10.loc[253240]['depression'] == True\nTrue",
         "hidden": false,
         "locked": false
        },
        {
         "code": ">>> (samp_mod10['depression'] == ((samp_mod10.loc[:, 'ADDEPEV3'] == 'Yes') > 0)).all()\nTrue",
         "hidden": true,
         "locked": false
        }
       ],
       "scored": true,
       "setup": "",
       "teardown": "",
       "type": "doctest"
      }
     ]
    },
    "q11": {
     "name": "q11",
     "points": 1,
     "suites": [
      {
       "cases": [
        {
         "code": ">>> # check dimensions\n>>> data.shape == (1912, 6)\nTrue",
         "hidden": false,
         "locked": false
        },
        {
         "code": ">>> # check columns are named as instructed\n>>> (data.columns == ['sex', 'age', 'general_health', 'smoking', 'adverse_conditions', 'depression']).all()\nFalse",
         "hidden": false,
         "locked": false
        },
        {
         "code": ">>> (data == samp_mod10.iloc[:, [0, 7, 8, 9, 10, 12]].rename(columns = {'GENHLTH': 'general_health', '_SEX': 'sex', '_AGEG5YR': 'age', '_SMOKER3': 'smoking'})).all().all()\nTrue",
         "hidden": true,
         "locked": false
        }
       ],
       "scored": true,
       "setup": "",
       "teardown": "",
       "type": "doctest"
      }
     ]
    },
    "q12": {
     "name": "q12",
     "points": 2,
     "suites": [
      {
       "cases": [
        {
         "code": ">>> # proportion should be between 0 and 1\n>>> (mean_ace >= 0) and (mean_ace <= 1)\nTrue",
         "hidden": false,
         "locked": false
        },
        {
         "code": ">>> mean_ace == data[\"adverse_conditions\"].mean()\nTrue",
         "hidden": true,
         "locked": false
        }
       ],
       "scored": true,
       "setup": "",
       "teardown": "",
       "type": "doctest"
      }
     ]
    },
    "q13": {
     "name": "q13",
     "points": 2,
     "suites": [
      {
       "cases": [
        {
         "code": ">>> # around 30% of formers smokers report ACEs\n>>> round(ace_smoking.loc[\"Former\"].values[0], 1) == 0.3\nTrue",
         "hidden": false,
         "locked": false
        },
        {
         "code": ">>> # check dimensions of table\n>>> ace_smoking.shape == (5,1)\nTrue",
         "hidden": false,
         "locked": false
        },
        {
         "code": ">>> (ace_smoking == data.drop(columns = 'depression').groupby('smoking').mean(numeric_only = True).loc[list(smoke_codes.values()), :]).values[0].all()\nTrue",
         "hidden": true,
         "locked": false
        }
       ],
       "scored": true,
       "setup": "",
       "teardown": "",
       "type": "doctest"
      }
     ]
    },
    "q14": {
     "name": "q14",
     "points": 2,
     "suites": [
      {
       "cases": [
        {
         "code": ">>> # check dimensions of table\n>>> ace_depr.shape == (2,1)\nTrue",
         "hidden": false,
         "locked": false
        },
        {
         "code": ">>> # around 50% of those reporting depression report aces\n>>> round(ace_depr.loc[True,].values[0], 1) == 0.5\nTrue",
         "hidden": false,
         "locked": false
        },
        {
         "code": ">>> (ace_depr == data.groupby('depression').mean(numeric_only = True)).values[0].all()\nTrue",
         "hidden": true,
         "locked": false
        }
       ],
       "scored": true,
       "setup": "",
       "teardown": "",
       "type": "doctest"
      }
     ]
    },
    "q15": {
     "name": "q15",
     "points": 4,
     "suites": [
      {
       "cases": [
        {
         "code": ">>> # check dimensions of table\n>>> ace_health_sex.shape == (14,1)\nTrue",
         "hidden": false,
         "locked": false
        },
        {
         "code": ">>> # around 30% of women reporting excellent health also reported aces\n>>> round(ace_health_sex.loc[\"Excellent\"].loc[\"F\"].values[0], 1) == 0.3\nTrue",
         "hidden": false,
         "locked": false
        },
        {
         "code": ">>> # having the order of the table be in lexicographic order or in categorical order shouldn't affect the correctness\n>>> (ace_health_sex.loc[list(health_codes.values()), :].replace(np.nan, -1) == data.drop(columns = 'depression').groupby(['general_health', 'sex']).mean(numeric_only = True).loc[list(health_codes.values()), :].replace(np.nan, -1)).values[0].all()\nTrue",
         "hidden": true,
         "locked": false
        }
       ],
       "scored": true,
       "setup": "",
       "teardown": "",
       "type": "doctest"
      }
     ]
    },
    "q5": {
     "name": "q5",
     "points": 1,
     "suites": [
      {
       "cases": [
        {
         "code": ">>> samp_mod2.shape == (10000, 10)\nTrue",
         "hidden": false,
         "locked": false
        },
        {
         "code": ">>> len(sex_codes.items()) == 2\nTrue",
         "hidden": false,
         "locked": false
        },
        {
         "code": ">>> (samp_mod2.replace(np.nan, -1) == samp_mod1.replace({'_SEX': {1: 'M', 2: 'F'}}).replace(np.nan, -1)).all().all()\nTrue",
         "hidden": true,
         "locked": false
        },
        {
         "code": ">>> samp_mod3.shape == (10000, 10)\nTrue",
         "hidden": false,
         "locked": false
        },
        {
         "code": ">>> len(health_codes.items()) == 7\nTrue",
         "hidden": false,
         "locked": false
        },
        {
         "code": ">>> (np.unique(samp_mod2.GENHLTH) == [1., 2., 3., 4., 5., 7., 9.]).all() # hint for creating samp_mod4\nTrue",
         "hidden": false,
         "locked": false
        },
        {
         "code": ">>> (samp_mod3.replace(np.nan, -1) == samp_mod2.replace({'GENHLTH': { 1: 'Excellent', 2: 'Very good', 3: 'Good', 4: 'Fair', 5: 'Poor', 7: 'Unsure', 9: 'Refused'}}).replace(np.nan, -1)).all().all()\nTrue",
         "hidden": true,
         "locked": false
        },
        {
         "code": ">>> samp_mod4.shape == (10000, 10)\nTrue",
         "hidden": false,
         "locked": false
        },
        {
         "code": ">>> len(smoke_codes.items()) == 5\nTrue",
         "hidden": false,
         "locked": false
        },
        {
         "code": ">>> (np.unique(samp_mod3._SMOKER3) == [1., 2., 3., 4., 9.]).all() # hint for creating samp_mod4\nTrue",
         "hidden": false,
         "locked": false
        },
        {
         "code": ">>> (samp_mod4.replace(np.nan, -1) == samp_mod3.replace({'_SMOKER3': { 1: 'Daily', 2: 'Some days', 3: 'Former', 4: 'Never', 9: 'Unsure/refused/missing'}}).replace(np.nan, -1)).all().all()\nTrue",
         "hidden": true,
         "locked": false
        }
       ],
       "scored": true,
       "setup": "",
       "teardown": "",
       "type": "doctest"
      }
     ]
    },
    "q6": {
     "name": "q6",
     "points": 1,
     "suites": [
      {
       "cases": [
        {
         "code": ">>> # dimensions shouldn't change\n>>> samp_mod5.shape == samp_mod4.shape\nTrue",
         "hidden": false,
         "locked": false
        },
        {
         "code": ">>> # number of items in recoding dictionary should match number of unique values of recoded variable\n>>> len(answer_codes.items()) == len(np.unique(samp_mod4.iloc[:, 2:6].values[~np.isnan(samp_mod4.iloc[:, 2:6].values)]))\nTrue",
         "hidden": false,
         "locked": false
        },
        {
         "code": ">>> # the old values for ACEPRISN, ignoring NaN\n>>> (np.unique(samp_mod4.ACEPRISN.dropna()) == [1., 2., 7., 9.]).all()\nTrue",
         "hidden": false,
         "locked": false
        },
        {
         "code": ">>> (samp_mod5.replace(np.nan, -1) == samp_mod4.replace({'ACEPRISN': {1: 'Yes', 2: 'No', 7: 'Unsure', 9: 'Refused'}, 'ACEDRUGS': {1: 'Yes', 2: 'No', 7: 'Unsure', 9: 'Refused'}, 'ACEDRINK': {1: 'Yes', 2: 'No', 7: 'Unsure', 9: 'Refused'}, 'ACEDEPRS': {1: 'Yes', 2: 'No', 7: 'Unsure', 9: 'Refused'}, 'ADDEPEV3': {1: 'Yes', 2: 'No', 7: 'Unsure', 9: 'Refused'}}).replace(np.nan, -1)).all().all()\nTrue",
         "hidden": true,
         "locked": false
        }
       ],
       "scored": true,
       "setup": "",
       "teardown": "",
       "type": "doctest"
      }
     ]
    },
    "q7": {
     "name": "q7",
     "points": 1,
     "suites": [
      {
       "cases": [
        {
         "code": ">>> # check datatype of ace column position indicator; 'bool' is boolean (i.e. logical) data type\n>>> ace_positions.dtype == bool\nTrue",
         "hidden": false,
         "locked": false
        },
        {
         "code": ">>> # check two columns of position indicator for correct encoding \n>>> (ace_positions[0] == False) and (ace_positions[3] == True)\nTrue",
         "hidden": false,
         "locked": false
        },
        {
         "code": ">>> # check dimensions of ace data slice\n>>> ace_data.shape == (10000,4) \nTrue",
         "hidden": false,
         "locked": false
        },
        {
         "code": ">>> # check dimensions of ace indicator dataframe\n>>> ace_yes.shape == (10000, 4) \nTrue",
         "hidden": false,
         "locked": false
        },
        {
         "code": ">>> # check datatype of one column of ace indicator dataframe\n>>> ace_yes[\"ACEPRISN\"].dtype == bool \nTrue",
         "hidden": false,
         "locked": false
        },
        {
         "code": ">>> # check an entire row of ace indicator dataframe\n>>> (ace_yes.iloc[1586].values == [False, True,  False, False]).all()\nTrue",
         "hidden": false,
         "locked": false
        },
        {
         "code": ">>> # check dimensions of count of yesses\n>>> ace_numyes.shape == (10000,)\nTrue",
         "hidden": false,
         "locked": false
        },
        {
         "code": ">>> # check a particular entry in count of yesses\n>>> ace_numyes.iloc[29] == 4 \nTrue",
         "hidden": false,
         "locked": false
        },
        {
         "code": ">>> # verify new indicator variable is named as instructed\n>>> \"adverse_conditions\" in samp_mod7.columns \nTrue",
         "hidden": false,
         "locked": false
        },
        {
         "code": ">>> # check datatype of new indicator variable\n>>> samp_mod7[\"adverse_conditions\"].dtype == bool \nTrue",
         "hidden": false,
         "locked": false
        },
        {
         "code": ">>> # test an example row that should have ACE yes indicators (one or more 'yes' answers)\n>>> samp_mod7.iloc[29][\"adverse_conditions\"] == True\nTrue",
         "hidden": false,
         "locked": false
        },
        {
         "code": ">>> # test an example row that should NOT have ACE yes indicators (no 'yes' answers)\n>>> samp_mod7.iloc[0][\"adverse_conditions\"] == False\nTrue",
         "hidden": false,
         "locked": false
        },
        {
         "code": ">>> (samp_mod7['adverse_conditions'] == ((((samp_mod7.loc[:, samp_mod7.columns.str.startswith('ACE')]) == 'Yes').sum(axis = 1)) > 0)).all()\nTrue",
         "hidden": true,
         "locked": false
        }
       ],
       "scored": true,
       "setup": "",
       "teardown": "",
       "type": "doctest"
      }
     ]
    },
    "q8": {
     "name": "q8",
     "points": 1,
     "suites": [
      {
       "cases": [
        {
         "code": ">>> # check an example row where ace variables were missing\n>>> samp_mod8.loc[407595][\"adverse_missing\"] == True\nTrue",
         "hidden": false,
         "locked": false
        },
        {
         "code": ">>> # check an example row where ace variables were *not* missing\n>>> samp_mod8.loc[280001][\"adverse_missing\"] == False\nTrue",
         "hidden": false,
         "locked": false
        },
        {
         "code": ">>> (samp_mod8.loc[:, 'adverse_missing'] == (samp_mod8.loc[:, samp_mod8.columns.str.startswith('ACE').tolist()].isna().sum(axis = 1) > 0)).all()\nTrue",
         "hidden": true,
         "locked": false
        }
       ],
       "scored": true,
       "setup": "",
       "teardown": "",
       "type": "doctest"
      }
     ]
    },
    "q9": {
     "name": "q9",
     "points": 1,
     "suites": [
      {
       "cases": [
        {
         "code": ">>> # no rows should have missing entries for this ace question\n>>> samp_mod9.ACEPRISN.isna().sum() == 0\nTrue",
         "hidden": false,
         "locked": false
        },
        {
         "code": ">>> # no rows should have missing entries for this ace question\n>>> samp_mod9.ACEDRUGS.isna().sum() == 0\nTrue",
         "hidden": false,
         "locked": false
        },
        {
         "code": ">>> # no rows should have missing entries for this ace question\n>>> samp_mod9.ACEDRINK.isna().sum() == 0\nTrue",
         "hidden": false,
         "locked": false
        },
        {
         "code": ">>> # no rows should have missing entries for this ace question\n>>> samp_mod9.ACEDEPRS.isna().sum() == 0\nTrue",
         "hidden": false,
         "locked": false
        },
        {
         "code": ">>> (samp_mod9 == samp_mod8[~samp_mod8.adverse_missing]).all().all()\nTrue",
         "hidden": true,
         "locked": false
        }
       ],
       "scored": true,
       "setup": "",
       "teardown": "",
       "type": "doctest"
      }
     ]
    }
   }
  }
 },
 "nbformat": 4,
 "nbformat_minor": 4
}
