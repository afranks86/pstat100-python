{
 "cells": [
  {
   "cell_type": "code",
   "execution_count": null,
   "metadata": {
    "deletable": false,
    "editable": false
   },
   "outputs": [],
   "source": [
    "# Initialize Otter\n",
    "import otter\n",
    "grader = otter.Notebook(\"lab6-regression.ipynb\")"
   ]
  },
  {
   "cell_type": "code",
   "execution_count": 1,
   "metadata": {},
   "outputs": [
    {
     "data": {
      "text/plain": [
       "DataTransformerRegistry.enable('default')"
      ]
     },
     "execution_count": 1,
     "metadata": {},
     "output_type": "execute_result"
    }
   ],
   "source": [
    "import numpy as np\n",
    "import pandas as pd\n",
    "import altair as alt\n",
    "import statsmodels.api as sm\n",
    "\n",
    "# disable row limit for plotting\n",
    "alt.data_transformers.disable_max_rows()\n",
    "# uncomment to ensure graphics display with pdf export\n",
    "# alt.renderers.enable('mimetype')"
   ]
  },
  {
   "attachments": {},
   "cell_type": "markdown",
   "metadata": {},
   "source": [
    "# Lab 6: Regression\n",
    "\n",
    "This lab covers the nuts and bolts of fitting linear models. The linear model expresses a response variable, $y$, as a linear function of $p - 1$ explanatory variables $x_1, \\dots, x_{p - 1}$ and a random error $\\epsilon$. Its general form is:\n",
    "\n",
    "$$y = \\beta_0 + \\beta_1 x_1 + \\cdots + \\beta_{p - 1} x_{p - 1} + \\epsilon \\qquad \\epsilon \\sim N(0, \\sigma^2)$$\n",
    "\n",
    "Usually, the response and explanatory variables and error term are indexed by observation $i = 1, \\dots, n$ so that the model describes a dataset comprising $n$ values of each variable:\n",
    "\n",
    "$$y_i = \\beta_0 + \\beta_1 x_{i1} + \\cdots + \\beta_{p - 1} x_{i, p - 1} + \\epsilon_i \\qquad\\begin{cases} \\epsilon_i \\sim N(0, \\sigma^2) \\\\ i = 1, \\dots, n\\end{cases}$$\n",
    "\n",
    "Because the indices get confusing to keep track of, it is much easier to express the model in matrix form as\n",
    "\n",
    "$$\\mathbf{y} = \\mathbf{X}\\beta + \\epsilon$$\n",
    "\n",
    "where:\n",
    "\n",
    "$$\\mathbf{y} = \\left[\\begin{array}{c} y_1 \\\\ y_2 \\\\ \\vdots \\\\ y_n \\end{array}\\right]_{\\;n \\times 1} \\qquad\n",
    "    \\mathbf{X} = \\left[\\begin{array}{cccc} \n",
    "        1 &x_{11} &\\cdots &x_{1, p - 1} \\\\\n",
    "        1 &x_{21} &\\cdots &x_{2, p - 1} \\\\\n",
    "        \\vdots &\\vdots &\\ddots &\\vdots \\\\\n",
    "        1 &x_{n1} &\\cdots &x_{n, p - 1}\n",
    "        \\end{array}\\right]_{\\;n \\times p} \\qquad\n",
    "    \\beta = \\left[\\begin{array}{c} \\beta_0 \\\\ \\beta_1 \\\\ \\vdots \\\\ \\beta_{p - 1} \\end{array} \\right]_{\\;p \\times 1} \\qquad\n",
    "    \\epsilon = \\left[\\begin{array}{c} \\epsilon_1 \\\\ \\epsilon_2 \\\\ \\vdots \\\\ \\epsilon_n \\end{array}\\right]_{\\;n \\times 1}$$\n",
    "    \n",
    "\n",
    "**Fitting** a model of this form means _**estimating the parameters**_ $\\beta_0, \\beta_1, \\dots, \\beta_{p - 1}$ and $\\sigma^2$ from a set of data. \n",
    "\n",
    "* The ordinary least squares (OLS) estimates of $\\beta$, which are best under most circumstances, are\n",
    "$$\\hat{\\beta} = (\\mathbf{X'X})^{-1}\\mathbf{X'y}$$\n",
    "* The error variance $\\sigma^2$ can be estimated by\n",
    "$$\\hat{\\sigma}^2 = \\frac{1}{n - p - 1}\\left(\\mathbf{y} - \\mathbf{X}\\hat{\\beta}\\right)'\\left(\\mathbf{y} - \\mathbf{X}\\hat{\\beta}\\right)$$\n",
    "\n",
    "When fitting a linear model, it is also of interest to quantify uncertainty by estimating the variability of $\\hat{\\beta}$ and measure overall quality of fit. This lab illustrates that process and the computations involved.\n",
    "\n",
    "**Objectives**\n",
    "\n",
    "In this lab, you'll learn how to:\n",
    "\n",
    "* compute OLS estimates;\n",
    "* calculate fitted values and residuals;\n",
    "* compute the error variance estimate;\n",
    "* compute the variance-covariance matrix of $\\hat{\\beta}$, which quantifies the variability of model estimates;\n",
    "* compute standard errors for each model estimate;\n",
    "* compute the proportion of variation captured by a linear model.\n",
    "\n",
    "Throughout you'll use simple visualizations to help make the connection between fitted models and the aspects of a dataset that model features describe."
   ]
  },
  {
   "attachments": {},
   "cell_type": "markdown",
   "metadata": {},
   "source": [
    "# Data: fertility rates\n",
    "\n",
    "By way of data, you'll work with country indicators, total fertility rates, and gender indicators for a selection of countries in 2018, and explore the decline in fertility rates associated with developed nations. Data from the U.S. 2020 census indicated significant [population growth decline in the United States](https://www.washingtonpost.com/dc-md-va/interactive/2021/2020-census-us-population-results/). If the topic interests you, you can read more about perspectives and existing data in this [Our World in Data article](https://ourworldindata.org/fertility-rate). \n",
    "\n",
    "The data are stored in separate `.csv` files imported below:"
   ]
  },
  {
   "cell_type": "code",
   "execution_count": 2,
   "metadata": {},
   "outputs": [],
   "source": [
    "fertility = pd.read_csv('data/fertility.csv')\n",
    "country = pd.read_csv('data/country-indicators.csv')\n",
    "gender = pd.read_csv('data/gender-data.csv')"
   ]
  },
  {
   "attachments": {},
   "cell_type": "markdown",
   "metadata": {},
   "source": [
    "The variables you'll work with in this portion are the following:\n",
    "\n",
    "Dataset | Name | Variable | Units\n",
    "---|---|---|---\n",
    "`fertility` | `fertility_total` | National fertility rate | Average number of children per woman\n",
    "`country` | `hdi` | Human development index | Index between 0 and 1 (0 is lowest, 1 is highest)\n",
    "`gender` | `edu_expected_yrs_f` | Expected years of education for adult women | Years"
   ]
  },
  {
   "attachments": {},
   "cell_type": "markdown",
   "metadata": {},
   "source": [
    "Because the variables of interest are stored in three separate dataframes, you'll first need to extract them and merge by country."
   ]
  },
  {
   "cell_type": "code",
   "execution_count": 3,
   "metadata": {},
   "outputs": [
    {
     "data": {
      "text/html": [
       "<div>\n",
       "<style scoped>\n",
       "    .dataframe tbody tr th:only-of-type {\n",
       "        vertical-align: middle;\n",
       "    }\n",
       "\n",
       "    .dataframe tbody tr th {\n",
       "        vertical-align: top;\n",
       "    }\n",
       "\n",
       "    .dataframe thead th {\n",
       "        text-align: right;\n",
       "    }\n",
       "</style>\n",
       "<table border=\"1\" class=\"dataframe\">\n",
       "  <thead>\n",
       "    <tr style=\"text-align: right;\">\n",
       "      <th></th>\n",
       "      <th>fertility_total</th>\n",
       "      <th>educ_expected_yrs_f</th>\n",
       "      <th>hdi</th>\n",
       "    </tr>\n",
       "    <tr>\n",
       "      <th>Country</th>\n",
       "      <th></th>\n",
       "      <th></th>\n",
       "      <th></th>\n",
       "    </tr>\n",
       "  </thead>\n",
       "  <tbody>\n",
       "    <tr>\n",
       "      <th>Afghanistan</th>\n",
       "      <td>4.473</td>\n",
       "      <td>6.795722</td>\n",
       "      <td>0.509</td>\n",
       "    </tr>\n",
       "    <tr>\n",
       "      <th>Albania</th>\n",
       "      <td>1.617</td>\n",
       "      <td>13.201755</td>\n",
       "      <td>0.792</td>\n",
       "    </tr>\n",
       "    <tr>\n",
       "      <th>Algeria</th>\n",
       "      <td>3.023</td>\n",
       "      <td>12.108990</td>\n",
       "      <td>0.746</td>\n",
       "    </tr>\n",
       "    <tr>\n",
       "      <th>Angola</th>\n",
       "      <td>5.519</td>\n",
       "      <td>6.973901</td>\n",
       "      <td>0.582</td>\n",
       "    </tr>\n",
       "  </tbody>\n",
       "</table>\n",
       "</div>"
      ],
      "text/plain": [
       "             fertility_total  educ_expected_yrs_f    hdi\n",
       "Country                                                 \n",
       "Afghanistan            4.473             6.795722  0.509\n",
       "Albania                1.617            13.201755  0.792\n",
       "Algeria                3.023            12.108990  0.746\n",
       "Angola                 5.519             6.973901  0.582"
      ]
     },
     "execution_count": 3,
     "metadata": {},
     "output_type": "execute_result"
    }
   ],
   "source": [
    "# slice variables of interest\n",
    "fertility_sub = fertility.loc[:, ['Country', 'fertility_total']]\n",
    "gender_sub = gender.loc[:, ['educ_expected_yrs_f', 'Country']]\n",
    "country_sub = country.loc[:, ['Country', 'hdi']]\n",
    "\n",
    "# merge variables of interest\n",
    "reg_data = pd.merge(\n",
    "    fertility_sub, \n",
    "    gender_sub, \n",
    "    on = 'Country', \n",
    "    how = 'inner'\n",
    ").merge(\n",
    "    country_sub,\n",
    "    on = 'Country',\n",
    "    how = 'left'\n",
    ").set_index('Country').dropna()\n",
    "\n",
    "# preview\n",
    "reg_data.head(4)"
   ]
  },
  {
   "attachments": {},
   "cell_type": "markdown",
   "metadata": {},
   "source": [
    "We'll treat the fertility rates as our variable of interest."
   ]
  },
  {
   "attachments": {},
   "cell_type": "markdown",
   "metadata": {},
   "source": [
    "# Exploratory analysis\n",
    "\n",
    "A preliminary step in regression analysis is typically data exploration through scatterplots. The objective of exploratory analysis in this context is to identify an approximately linear relationship to model. "
   ]
  },
  {
   "attachments": {},
   "cell_type": "markdown",
   "metadata": {},
   "source": [
    "<!-- BEGIN QUESTION -->\n",
    "\n",
    "### Question 1: Education and fertility rate\n",
    "\n",
    "Construct a scatterplot of total fertility against expected years of education for women. Label the axes 'Fertility rate' and 'Expected years of education for women'. Store this plot as `scatter_educ` and display the graphic.\n",
    "\n",
    "(*Remark*: be sure to include `scale = alt.Scale(zero = False)` in the axis specification so that your plot does not have extra whitespace.)"
   ]
  },
  {
   "cell_type": "code",
   "execution_count": 4,
   "metadata": {
    "tags": [
     "otter_assign_solution_cell"
    ]
   },
   "outputs": [
    {
     "data": {
      "text/html": [
       "\n",
       "<div id=\"altair-viz-cca9424e029a442887ac04d5df688333\"></div>\n",
       "<script type=\"text/javascript\">\n",
       "  var VEGA_DEBUG = (typeof VEGA_DEBUG == \"undefined\") ? {} : VEGA_DEBUG;\n",
       "  (function(spec, embedOpt){\n",
       "    let outputDiv = document.currentScript.previousElementSibling;\n",
       "    if (outputDiv.id !== \"altair-viz-cca9424e029a442887ac04d5df688333\") {\n",
       "      outputDiv = document.getElementById(\"altair-viz-cca9424e029a442887ac04d5df688333\");\n",
       "    }\n",
       "    const paths = {\n",
       "      \"vega\": \"https://cdn.jsdelivr.net/npm//vega@5?noext\",\n",
       "      \"vega-lib\": \"https://cdn.jsdelivr.net/npm//vega-lib?noext\",\n",
       "      \"vega-lite\": \"https://cdn.jsdelivr.net/npm//vega-lite@4.17.0?noext\",\n",
       "      \"vega-embed\": \"https://cdn.jsdelivr.net/npm//vega-embed@6?noext\",\n",
       "    };\n",
       "\n",
       "    function maybeLoadScript(lib, version) {\n",
       "      var key = `${lib.replace(\"-\", \"\")}_version`;\n",
       "      return (VEGA_DEBUG[key] == version) ?\n",
       "        Promise.resolve(paths[lib]) :\n",
       "        new Promise(function(resolve, reject) {\n",
       "          var s = document.createElement('script');\n",
       "          document.getElementsByTagName(\"head\")[0].appendChild(s);\n",
       "          s.async = true;\n",
       "          s.onload = () => {\n",
       "            VEGA_DEBUG[key] = version;\n",
       "            return resolve(paths[lib]);\n",
       "          };\n",
       "          s.onerror = () => reject(`Error loading script: ${paths[lib]}`);\n",
       "          s.src = paths[lib];\n",
       "        });\n",
       "    }\n",
       "\n",
       "    function showError(err) {\n",
       "      outputDiv.innerHTML = `<div class=\"error\" style=\"color:red;\">${err}</div>`;\n",
       "      throw err;\n",
       "    }\n",
       "\n",
       "    function displayChart(vegaEmbed) {\n",
       "      vegaEmbed(outputDiv, spec, embedOpt)\n",
       "        .catch(err => showError(`Javascript Error: ${err.message}<br>This usually means there's a typo in your chart specification. See the javascript console for the full traceback.`));\n",
       "    }\n",
       "\n",
       "    if(typeof define === \"function\" && define.amd) {\n",
       "      requirejs.config({paths});\n",
       "      require([\"vega-embed\"], displayChart, err => showError(`Error loading script: ${err.message}`));\n",
       "    } else {\n",
       "      maybeLoadScript(\"vega\", \"5\")\n",
       "        .then(() => maybeLoadScript(\"vega-lite\", \"4.17.0\"))\n",
       "        .then(() => maybeLoadScript(\"vega-embed\", \"6\"))\n",
       "        .catch(showError)\n",
       "        .then(() => displayChart(vegaEmbed));\n",
       "    }\n",
       "  })({\"config\": {\"view\": {\"continuousWidth\": 400, \"continuousHeight\": 300}}, \"data\": {\"name\": \"data-8db060f081acab01582dba50ceaf6303\"}, \"mark\": \"circle\", \"encoding\": {\"x\": {\"field\": \"educ_expected_yrs_f\", \"scale\": {\"zero\": false}, \"title\": \"Expected years of education for women\", \"type\": \"quantitative\"}, \"y\": {\"field\": \"fertility_total\", \"scale\": {\"zero\": false}, \"title\": \"Fertility rate\", \"type\": \"quantitative\"}}, \"$schema\": \"https://vega.github.io/schema/vega-lite/v4.17.0.json\", \"datasets\": {\"data-8db060f081acab01582dba50ceaf6303\": [{\"fertility_total\": 4.473, \"educ_expected_yrs_f\": 6.795722485, \"hdi\": 0.509}, {\"fertility_total\": 1.617, \"educ_expected_yrs_f\": 13.20175457, \"hdi\": 0.792}, {\"fertility_total\": 3.023, \"educ_expected_yrs_f\": 12.10898972, \"hdi\": 0.746}, {\"fertility_total\": 5.519, \"educ_expected_yrs_f\": 6.973901272000001, \"hdi\": 0.5820000000000001}, {\"fertility_total\": 1.994, \"educ_expected_yrs_f\": 12.91444111, \"hdi\": 0.772}, {\"fertility_total\": 2.261, \"educ_expected_yrs_f\": 13.06125259, \"hdi\": 0.8420000000000001}, {\"fertility_total\": 1.755, \"educ_expected_yrs_f\": 11.62581253, \"hdi\": 0.7709999999999999}, {\"fertility_total\": 1.74, \"educ_expected_yrs_f\": 13.62022209, \"hdi\": 0.943}, {\"fertility_total\": 1.47, \"educ_expected_yrs_f\": 13.46689415, \"hdi\": 0.921}, {\"fertility_total\": 1.73, \"educ_expected_yrs_f\": 12.44501495, \"hdi\": 0.754}, {\"fertility_total\": 1.987, \"educ_expected_yrs_f\": 13.27036572, \"hdi\": 0.852}, {\"fertility_total\": 2.036, \"educ_expected_yrs_f\": 10.52187443, \"hdi\": 0.625}, {\"fertility_total\": 1.4480000000000002, \"educ_expected_yrs_f\": 13.75893879, \"hdi\": 0.823}, {\"fertility_total\": 1.62, \"educ_expected_yrs_f\": 13.56679726, \"hdi\": 0.93}, {\"fertility_total\": 4.836, \"educ_expected_yrs_f\": 8.782134056, \"hdi\": 0.541}, {\"fertility_total\": 1.975, \"educ_expected_yrs_f\": 10.70332813, \"hdi\": 0.649}, {\"fertility_total\": 1.265, \"educ_expected_yrs_f\": 11.78481483, \"hdi\": 0.777}, {\"fertility_total\": 2.874, \"educ_expected_yrs_f\": 8.500170707999999, \"hdi\": 0.73}, {\"fertility_total\": 1.848, \"educ_expected_yrs_f\": 13.21317291, \"hdi\": 0.836}, {\"fertility_total\": 1.56, \"educ_expected_yrs_f\": 12.24310493, \"hdi\": 0.813}, {\"fertility_total\": 5.189, \"educ_expected_yrs_f\": 6.696904658999999, \"hdi\": 0.4429999999999999}, {\"fertility_total\": 5.41, \"educ_expected_yrs_f\": 8.191820145, \"hdi\": 0.431}, {\"fertility_total\": 2.503, \"educ_expected_yrs_f\": 9.635119438, \"hdi\": 0.585}, {\"fertility_total\": 4.572, \"educ_expected_yrs_f\": 8.315596581, \"hdi\": 0.56}, {\"fertility_total\": 1.4988, \"educ_expected_yrs_f\": 13.709587099999998, \"hdi\": 0.928}, {\"fertility_total\": 4.721, \"educ_expected_yrs_f\": 3.848102808, \"hdi\": 0.395}, {\"fertility_total\": 5.747000000000001, \"educ_expected_yrs_f\": 4.473656654, \"hdi\": 0.397}, {\"fertility_total\": 1.649, \"educ_expected_yrs_f\": 13.05471802, \"hdi\": 0.8490000000000001}, {\"fertility_total\": 1.69, \"educ_expected_yrs_f\": 13.0906477, \"hdi\": 0.755}, {\"fertility_total\": 1.807, \"educ_expected_yrs_f\": 12.70421314, \"hdi\": 0.764}, {\"fertility_total\": 4.205, \"educ_expected_yrs_f\": 8.128657341, \"hdi\": 0.552}, {\"fertility_total\": 1.754, \"educ_expected_yrs_f\": 12.51764488, \"hdi\": 0.8079999999999999}, {\"fertility_total\": 1.47, \"educ_expected_yrs_f\": 13.5518446, \"hdi\": 0.848}, {\"fertility_total\": 1.329, \"educ_expected_yrs_f\": 13.61954403, \"hdi\": 0.885}, {\"fertility_total\": 1.73, \"educ_expected_yrs_f\": 13.47161579, \"hdi\": 0.939}, {\"fertility_total\": 2.346, \"educ_expected_yrs_f\": 12.15325356, \"hdi\": 0.7509999999999999}, {\"fertility_total\": 2.427, \"educ_expected_yrs_f\": 13.219711300000002, \"hdi\": 0.762}, {\"fertility_total\": 2.039, \"educ_expected_yrs_f\": 10.9428196, \"hdi\": 0.67}, {\"fertility_total\": 1.67, \"educ_expected_yrs_f\": 13.53030491, \"hdi\": 0.889}, {\"fertility_total\": 4.247, \"educ_expected_yrs_f\": 7.516855717, \"hdi\": 0.478}, {\"fertility_total\": 2.774, \"educ_expected_yrs_f\": 11.43205929, \"hdi\": 0.742}, {\"fertility_total\": 1.41, \"educ_expected_yrs_f\": 13.74469662, \"hdi\": 0.937}, {\"fertility_total\": 1.88, \"educ_expected_yrs_f\": 13.8239584, \"hdi\": 0.898}, {\"fertility_total\": 3.969, \"educ_expected_yrs_f\": 8.538388252, \"hdi\": 0.6970000000000001}, {\"fertility_total\": 2.06, \"educ_expected_yrs_f\": 13.02663994, \"hdi\": 0.805}, {\"fertility_total\": 1.57, \"educ_expected_yrs_f\": 13.34453487, \"hdi\": 0.946}, {\"fertility_total\": 3.87, \"educ_expected_yrs_f\": 11.91578197, \"hdi\": 0.606}, {\"fertility_total\": 1.35, \"educ_expected_yrs_f\": 13.28767872, \"hdi\": 0.8809999999999999}, {\"fertility_total\": 2.063, \"educ_expected_yrs_f\": 13.13885593, \"hdi\": 0.773}, {\"fertility_total\": 2.87, \"educ_expected_yrs_f\": 9.521496773, \"hdi\": 0.657}, {\"fertility_total\": 4.7, \"educ_expected_yrs_f\": 6.210740089, \"hdi\": 0.473}, {\"fertility_total\": 2.462, \"educ_expected_yrs_f\": 12.30990696, \"hdi\": 0.68}, {\"fertility_total\": 2.935, \"educ_expected_yrs_f\": 11.44699955, \"hdi\": 0.508}, {\"fertility_total\": 2.46, \"educ_expected_yrs_f\": 9.822359085, \"hdi\": 0.633}, {\"fertility_total\": 1.55, \"educ_expected_yrs_f\": 12.96164417, \"hdi\": 0.85}, {\"fertility_total\": 1.71, \"educ_expected_yrs_f\": 13.54500961, \"hdi\": 0.946}, {\"fertility_total\": 2.222, \"educ_expected_yrs_f\": 10.93618393, \"hdi\": 0.642}, {\"fertility_total\": 2.311, \"educ_expected_yrs_f\": 12.41253376, \"hdi\": 0.7120000000000001}, {\"fertility_total\": 3.672, \"educ_expected_yrs_f\": 7.038986206000001, \"hdi\": 0.6709999999999999}, {\"fertility_total\": 1.75, \"educ_expected_yrs_f\": 13.92032051, \"hdi\": 0.951}, {\"fertility_total\": 3.09, \"educ_expected_yrs_f\": 13.90762043, \"hdi\": 0.916}, {\"fertility_total\": 1.29, \"educ_expected_yrs_f\": 13.31961727, \"hdi\": 0.89}, {\"fertility_total\": 1.979, \"educ_expected_yrs_f\": 11.82789326, \"hdi\": 0.7340000000000001}, {\"fertility_total\": 2.761, \"educ_expected_yrs_f\": 11.72220421, \"hdi\": 0.728}, {\"fertility_total\": 2.84, \"educ_expected_yrs_f\": 13.86884308, \"hdi\": 0.8190000000000001}, {\"fertility_total\": 3.492, \"educ_expected_yrs_f\": 11.30184937, \"hdi\": 0.599}, {\"fertility_total\": 3.569, \"educ_expected_yrs_f\": 11.82059479, \"hdi\": 0.628}, {\"fertility_total\": 2.082, \"educ_expected_yrs_f\": 12.40283394, \"hdi\": 0.807}, {\"fertility_total\": 1.6, \"educ_expected_yrs_f\": 13.7176199, \"hdi\": 0.863}, {\"fertility_total\": 3.141, \"educ_expected_yrs_f\": 10.41264439, \"hdi\": 0.522}, {\"fertility_total\": 4.315, \"educ_expected_yrs_f\": 4.166073798999999, \"hdi\": 0.48}, {\"fertility_total\": 1.63, \"educ_expected_yrs_f\": 13.88928127, \"hdi\": 0.8759999999999999}, {\"fertility_total\": 1.38, \"educ_expected_yrs_f\": 12.47436428, \"hdi\": 0.913}, {\"fertility_total\": 4.077, \"educ_expected_yrs_f\": 8.609224318999999, \"hdi\": 0.527}, {\"fertility_total\": 4.209, \"educ_expected_yrs_f\": 9.583486557, \"hdi\": 0.478}, {\"fertility_total\": 2.001, \"educ_expected_yrs_f\": 12.68888378, \"hdi\": 0.805}, {\"fertility_total\": 5.877000000000001, \"educ_expected_yrs_f\": 5.42065239, \"hdi\": 0.431}, {\"fertility_total\": 1.23, \"educ_expected_yrs_f\": 13.50980282, \"hdi\": 0.894}, {\"fertility_total\": 4.561, \"educ_expected_yrs_f\": 7.564128876, \"hdi\": 0.542}, {\"fertility_total\": 1.41, \"educ_expected_yrs_f\": 12.77645302, \"hdi\": 0.8009999999999999}, {\"fertility_total\": 2.129, \"educ_expected_yrs_f\": 12.97874069, \"hdi\": 0.7759999999999999}, {\"fertility_total\": 2.895, \"educ_expected_yrs_f\": 13.25112915, \"hdi\": 0.735}, {\"fertility_total\": 1.745, \"educ_expected_yrs_f\": 12.64217091, \"hdi\": 0.826}, {\"fertility_total\": 2.415, \"educ_expected_yrs_f\": 10.41762161, \"hdi\": 0.68}, {\"fertility_total\": 2.154, \"educ_expected_yrs_f\": 9.829102516, \"hdi\": 0.579}, {\"fertility_total\": 3.3960000000000004, \"educ_expected_yrs_f\": 9.723130226, \"hdi\": 0.645}, {\"fertility_total\": 1.917, \"educ_expected_yrs_f\": 12.0131464, \"hdi\": 0.596}, {\"fertility_total\": 1.59, \"educ_expected_yrs_f\": 13.92983341, \"hdi\": 0.942}, {\"fertility_total\": 1.71, \"educ_expected_yrs_f\": 13.77946663, \"hdi\": 0.928}, {\"fertility_total\": 2.404, \"educ_expected_yrs_f\": 11.10092926, \"hdi\": 0.659}, {\"fertility_total\": 6.912999999999999, \"educ_expected_yrs_f\": 5.059231758, \"hdi\": 0.391}, {\"fertility_total\": 5.3870000000000005, \"educ_expected_yrs_f\": 10.09999943, \"hdi\": 0.534}, {\"fertility_total\": 1.496, \"educ_expected_yrs_f\": 11.08503532, \"hdi\": 0.77}, {\"fertility_total\": 1.56, \"educ_expected_yrs_f\": 13.67211056, \"hdi\": 0.956}, {\"fertility_total\": 2.888, \"educ_expected_yrs_f\": 13.10266685, \"hdi\": 0.813}, {\"fertility_total\": 3.51, \"educ_expected_yrs_f\": 8.687153816, \"hdi\": 0.552}, {\"fertility_total\": 2.461, \"educ_expected_yrs_f\": 10.88493347, \"hdi\": 0.812}, {\"fertility_total\": 3.564, \"educ_expected_yrs_f\": 9.818692207, \"hdi\": 0.5489999999999999}, {\"fertility_total\": 2.4290000000000003, \"educ_expected_yrs_f\": 11.26677418, \"hdi\": 0.727}, {\"fertility_total\": 2.254, \"educ_expected_yrs_f\": 12.89012051, \"hdi\": 0.7709999999999999}, {\"fertility_total\": 2.576, \"educ_expected_yrs_f\": 13.04763317, \"hdi\": 0.711}, {\"fertility_total\": 1.46, \"educ_expected_yrs_f\": 13.45503712, \"hdi\": 0.877}, {\"fertility_total\": 1.42, \"educ_expected_yrs_f\": 13.82900047, \"hdi\": 0.86}, {\"fertility_total\": 1.866, \"educ_expected_yrs_f\": 12.7883606, \"hdi\": 0.845}, {\"fertility_total\": 1.76, \"educ_expected_yrs_f\": 11.98094845, \"hdi\": 0.823}, {\"fertility_total\": 1.579, \"educ_expected_yrs_f\": 13.68534756, \"hdi\": 0.823}, {\"fertility_total\": 4.044, \"educ_expected_yrs_f\": 6.980305195, \"hdi\": 0.54}, {\"fertility_total\": 3.877, \"educ_expected_yrs_f\": 12.44684696, \"hdi\": 0.7090000000000001}, {\"fertility_total\": 2.319, \"educ_expected_yrs_f\": 12.26758575, \"hdi\": 0.8540000000000001}, {\"fertility_total\": 4.625, \"educ_expected_yrs_f\": 7.849748135, \"hdi\": 0.516}, {\"fertility_total\": 1.49, \"educ_expected_yrs_f\": 13.49239731, \"hdi\": 0.8029999999999999}, {\"fertility_total\": 2.41, \"educ_expected_yrs_f\": 13.53542233, \"hdi\": 0.79}, {\"fertility_total\": 4.263, \"educ_expected_yrs_f\": 9.282006264, \"hdi\": 0.447}, {\"fertility_total\": 1.14, \"educ_expected_yrs_f\": 13.90422153, \"hdi\": 0.936}, {\"fertility_total\": 1.61, \"educ_expected_yrs_f\": 13.71750641, \"hdi\": 0.912}, {\"fertility_total\": 4.4030000000000005, \"educ_expected_yrs_f\": 8.841700553999999, \"hdi\": 0.564}, {\"fertility_total\": 2.405, \"educ_expected_yrs_f\": 10.11397743, \"hdi\": 0.7070000000000001}, {\"fertility_total\": 4.696000000000001, \"educ_expected_yrs_f\": 3.916237831, \"hdi\": 0.429}, {\"fertility_total\": 1.26, \"educ_expected_yrs_f\": 13.08606815, \"hdi\": 0.905}, {\"fertility_total\": 2.199, \"educ_expected_yrs_f\": 13.11488724, \"hdi\": 0.779}, {\"fertility_total\": 4.407, \"educ_expected_yrs_f\": 6.943500996, \"hdi\": 0.506}, {\"fertility_total\": 1.76, \"educ_expected_yrs_f\": 13.90402126, \"hdi\": 0.943}, {\"fertility_total\": 1.52, \"educ_expected_yrs_f\": 13.21845913, \"hdi\": 0.955}, {\"fertility_total\": 3.585, \"educ_expected_yrs_f\": 10.43918705, \"hdi\": 0.6609999999999999}, {\"fertility_total\": 1.525, \"educ_expected_yrs_f\": 12.644207000000002, \"hdi\": 0.772}, {\"fertility_total\": 4.023, \"educ_expected_yrs_f\": 10.87477875, \"hdi\": 0.599}, {\"fertility_total\": 4.32, \"educ_expected_yrs_f\": 9.123530388, \"hdi\": 0.51}, {\"fertility_total\": 3.556, \"educ_expected_yrs_f\": 11.83284092, \"hdi\": 0.723}, {\"fertility_total\": 2.197, \"educ_expected_yrs_f\": 10.95233727, \"hdi\": 0.738}, {\"fertility_total\": 2.069, \"educ_expected_yrs_f\": 11.99552917, \"hdi\": 0.8170000000000001}, {\"fertility_total\": 1.301, \"educ_expected_yrs_f\": 13.00567055, \"hdi\": 0.774}, {\"fertility_total\": 1.413, \"educ_expected_yrs_f\": 13.1702652, \"hdi\": 0.889}, {\"fertility_total\": 1.68, \"educ_expected_yrs_f\": 13.85765934, \"hdi\": 0.928}, {\"fertility_total\": 1.7295, \"educ_expected_yrs_f\": 12.93639374, \"hdi\": 0.925}, {\"fertility_total\": 1.973, \"educ_expected_yrs_f\": 12.47761631, \"hdi\": 0.816}, {\"fertility_total\": 2.604, \"educ_expected_yrs_f\": 12.00484753, \"hdi\": 0.7170000000000001}, {\"fertility_total\": 3.782, \"educ_expected_yrs_f\": 10.13373089, \"hdi\": 0.603}, {\"fertility_total\": 4.633, \"educ_expected_yrs_f\": 8.745135307, \"hdi\": 0.5820000000000001}, {\"fertility_total\": 3.615, \"educ_expected_yrs_f\": 10.97491837, \"hdi\": 0.569}]}}, {\"mode\": \"vega-lite\"});\n",
       "</script>"
      ],
      "text/plain": [
       "alt.Chart(...)"
      ]
     },
     "execution_count": 4,
     "metadata": {},
     "output_type": "execute_result"
    }
   ],
   "source": [
    "# BEGIN SOLUTION\n",
    "# construct plot\n",
    "scatter_educ = alt.Chart(reg_data).mark_circle().encode(\n",
    "    x = alt.X('educ_expected_yrs_f', \n",
    "              title = 'Expected years of education for women', \n",
    "              scale = alt.Scale(zero = False)),\n",
    "    y = alt.Y('fertility_total', \n",
    "              title = 'Fertility rate', \n",
    "              scale = alt.Scale(zero = False))\n",
    ")\n",
    "\n",
    "# display\n",
    "scatter_educ\n",
    "# END SOLUTION"
   ]
  },
  {
   "attachments": {},
   "cell_type": "markdown",
   "metadata": {},
   "source": [
    "<!-- END QUESTION -->\n",
    "\n",
    "This figure shows a clear negative association between fertility rate and women's educational attainment, *and* that the relationship is roughly linear. Next, check whether HDI seems to be related to fertility rate. "
   ]
  },
  {
   "attachments": {},
   "cell_type": "markdown",
   "metadata": {},
   "source": [
    "<!-- BEGIN QUESTION -->\n",
    "\n",
    "### Question 2: HDI and fertility rate\n",
    "\n",
    "Now construct a scatterplot comparing fertility rate with HDI. Make sure you choose appropriate labels for your axes and plot. Store this plot as `scatter_hdi` and display the graphic."
   ]
  },
  {
   "cell_type": "code",
   "execution_count": 5,
   "metadata": {
    "tags": [
     "otter_assign_solution_cell"
    ]
   },
   "outputs": [
    {
     "data": {
      "text/html": [
       "\n",
       "<div id=\"altair-viz-f0a7bee8a8074f2a86a234fa0e2c6751\"></div>\n",
       "<script type=\"text/javascript\">\n",
       "  var VEGA_DEBUG = (typeof VEGA_DEBUG == \"undefined\") ? {} : VEGA_DEBUG;\n",
       "  (function(spec, embedOpt){\n",
       "    let outputDiv = document.currentScript.previousElementSibling;\n",
       "    if (outputDiv.id !== \"altair-viz-f0a7bee8a8074f2a86a234fa0e2c6751\") {\n",
       "      outputDiv = document.getElementById(\"altair-viz-f0a7bee8a8074f2a86a234fa0e2c6751\");\n",
       "    }\n",
       "    const paths = {\n",
       "      \"vega\": \"https://cdn.jsdelivr.net/npm//vega@5?noext\",\n",
       "      \"vega-lib\": \"https://cdn.jsdelivr.net/npm//vega-lib?noext\",\n",
       "      \"vega-lite\": \"https://cdn.jsdelivr.net/npm//vega-lite@4.17.0?noext\",\n",
       "      \"vega-embed\": \"https://cdn.jsdelivr.net/npm//vega-embed@6?noext\",\n",
       "    };\n",
       "\n",
       "    function maybeLoadScript(lib, version) {\n",
       "      var key = `${lib.replace(\"-\", \"\")}_version`;\n",
       "      return (VEGA_DEBUG[key] == version) ?\n",
       "        Promise.resolve(paths[lib]) :\n",
       "        new Promise(function(resolve, reject) {\n",
       "          var s = document.createElement('script');\n",
       "          document.getElementsByTagName(\"head\")[0].appendChild(s);\n",
       "          s.async = true;\n",
       "          s.onload = () => {\n",
       "            VEGA_DEBUG[key] = version;\n",
       "            return resolve(paths[lib]);\n",
       "          };\n",
       "          s.onerror = () => reject(`Error loading script: ${paths[lib]}`);\n",
       "          s.src = paths[lib];\n",
       "        });\n",
       "    }\n",
       "\n",
       "    function showError(err) {\n",
       "      outputDiv.innerHTML = `<div class=\"error\" style=\"color:red;\">${err}</div>`;\n",
       "      throw err;\n",
       "    }\n",
       "\n",
       "    function displayChart(vegaEmbed) {\n",
       "      vegaEmbed(outputDiv, spec, embedOpt)\n",
       "        .catch(err => showError(`Javascript Error: ${err.message}<br>This usually means there's a typo in your chart specification. See the javascript console for the full traceback.`));\n",
       "    }\n",
       "\n",
       "    if(typeof define === \"function\" && define.amd) {\n",
       "      requirejs.config({paths});\n",
       "      require([\"vega-embed\"], displayChart, err => showError(`Error loading script: ${err.message}`));\n",
       "    } else {\n",
       "      maybeLoadScript(\"vega\", \"5\")\n",
       "        .then(() => maybeLoadScript(\"vega-lite\", \"4.17.0\"))\n",
       "        .then(() => maybeLoadScript(\"vega-embed\", \"6\"))\n",
       "        .catch(showError)\n",
       "        .then(() => displayChart(vegaEmbed));\n",
       "    }\n",
       "  })({\"config\": {\"view\": {\"continuousWidth\": 400, \"continuousHeight\": 300}}, \"data\": {\"name\": \"data-8db060f081acab01582dba50ceaf6303\"}, \"mark\": \"circle\", \"encoding\": {\"x\": {\"field\": \"hdi\", \"scale\": {\"zero\": false}, \"title\": \"Human development index\", \"type\": \"quantitative\"}, \"y\": {\"field\": \"fertility_total\", \"scale\": {\"zero\": false}, \"title\": \"Fertility rate\", \"type\": \"quantitative\"}}, \"$schema\": \"https://vega.github.io/schema/vega-lite/v4.17.0.json\", \"datasets\": {\"data-8db060f081acab01582dba50ceaf6303\": [{\"fertility_total\": 4.473, \"educ_expected_yrs_f\": 6.795722485, \"hdi\": 0.509}, {\"fertility_total\": 1.617, \"educ_expected_yrs_f\": 13.20175457, \"hdi\": 0.792}, {\"fertility_total\": 3.023, \"educ_expected_yrs_f\": 12.10898972, \"hdi\": 0.746}, {\"fertility_total\": 5.519, \"educ_expected_yrs_f\": 6.973901272000001, \"hdi\": 0.5820000000000001}, {\"fertility_total\": 1.994, \"educ_expected_yrs_f\": 12.91444111, \"hdi\": 0.772}, {\"fertility_total\": 2.261, \"educ_expected_yrs_f\": 13.06125259, \"hdi\": 0.8420000000000001}, {\"fertility_total\": 1.755, \"educ_expected_yrs_f\": 11.62581253, \"hdi\": 0.7709999999999999}, {\"fertility_total\": 1.74, \"educ_expected_yrs_f\": 13.62022209, \"hdi\": 0.943}, {\"fertility_total\": 1.47, \"educ_expected_yrs_f\": 13.46689415, \"hdi\": 0.921}, {\"fertility_total\": 1.73, \"educ_expected_yrs_f\": 12.44501495, \"hdi\": 0.754}, {\"fertility_total\": 1.987, \"educ_expected_yrs_f\": 13.27036572, \"hdi\": 0.852}, {\"fertility_total\": 2.036, \"educ_expected_yrs_f\": 10.52187443, \"hdi\": 0.625}, {\"fertility_total\": 1.4480000000000002, \"educ_expected_yrs_f\": 13.75893879, \"hdi\": 0.823}, {\"fertility_total\": 1.62, \"educ_expected_yrs_f\": 13.56679726, \"hdi\": 0.93}, {\"fertility_total\": 4.836, \"educ_expected_yrs_f\": 8.782134056, \"hdi\": 0.541}, {\"fertility_total\": 1.975, \"educ_expected_yrs_f\": 10.70332813, \"hdi\": 0.649}, {\"fertility_total\": 1.265, \"educ_expected_yrs_f\": 11.78481483, \"hdi\": 0.777}, {\"fertility_total\": 2.874, \"educ_expected_yrs_f\": 8.500170707999999, \"hdi\": 0.73}, {\"fertility_total\": 1.848, \"educ_expected_yrs_f\": 13.21317291, \"hdi\": 0.836}, {\"fertility_total\": 1.56, \"educ_expected_yrs_f\": 12.24310493, \"hdi\": 0.813}, {\"fertility_total\": 5.189, \"educ_expected_yrs_f\": 6.696904658999999, \"hdi\": 0.4429999999999999}, {\"fertility_total\": 5.41, \"educ_expected_yrs_f\": 8.191820145, \"hdi\": 0.431}, {\"fertility_total\": 2.503, \"educ_expected_yrs_f\": 9.635119438, \"hdi\": 0.585}, {\"fertility_total\": 4.572, \"educ_expected_yrs_f\": 8.315596581, \"hdi\": 0.56}, {\"fertility_total\": 1.4988, \"educ_expected_yrs_f\": 13.709587099999998, \"hdi\": 0.928}, {\"fertility_total\": 4.721, \"educ_expected_yrs_f\": 3.848102808, \"hdi\": 0.395}, {\"fertility_total\": 5.747000000000001, \"educ_expected_yrs_f\": 4.473656654, \"hdi\": 0.397}, {\"fertility_total\": 1.649, \"educ_expected_yrs_f\": 13.05471802, \"hdi\": 0.8490000000000001}, {\"fertility_total\": 1.69, \"educ_expected_yrs_f\": 13.0906477, \"hdi\": 0.755}, {\"fertility_total\": 1.807, \"educ_expected_yrs_f\": 12.70421314, \"hdi\": 0.764}, {\"fertility_total\": 4.205, \"educ_expected_yrs_f\": 8.128657341, \"hdi\": 0.552}, {\"fertility_total\": 1.754, \"educ_expected_yrs_f\": 12.51764488, \"hdi\": 0.8079999999999999}, {\"fertility_total\": 1.47, \"educ_expected_yrs_f\": 13.5518446, \"hdi\": 0.848}, {\"fertility_total\": 1.329, \"educ_expected_yrs_f\": 13.61954403, \"hdi\": 0.885}, {\"fertility_total\": 1.73, \"educ_expected_yrs_f\": 13.47161579, \"hdi\": 0.939}, {\"fertility_total\": 2.346, \"educ_expected_yrs_f\": 12.15325356, \"hdi\": 0.7509999999999999}, {\"fertility_total\": 2.427, \"educ_expected_yrs_f\": 13.219711300000002, \"hdi\": 0.762}, {\"fertility_total\": 2.039, \"educ_expected_yrs_f\": 10.9428196, \"hdi\": 0.67}, {\"fertility_total\": 1.67, \"educ_expected_yrs_f\": 13.53030491, \"hdi\": 0.889}, {\"fertility_total\": 4.247, \"educ_expected_yrs_f\": 7.516855717, \"hdi\": 0.478}, {\"fertility_total\": 2.774, \"educ_expected_yrs_f\": 11.43205929, \"hdi\": 0.742}, {\"fertility_total\": 1.41, \"educ_expected_yrs_f\": 13.74469662, \"hdi\": 0.937}, {\"fertility_total\": 1.88, \"educ_expected_yrs_f\": 13.8239584, \"hdi\": 0.898}, {\"fertility_total\": 3.969, \"educ_expected_yrs_f\": 8.538388252, \"hdi\": 0.6970000000000001}, {\"fertility_total\": 2.06, \"educ_expected_yrs_f\": 13.02663994, \"hdi\": 0.805}, {\"fertility_total\": 1.57, \"educ_expected_yrs_f\": 13.34453487, \"hdi\": 0.946}, {\"fertility_total\": 3.87, \"educ_expected_yrs_f\": 11.91578197, \"hdi\": 0.606}, {\"fertility_total\": 1.35, \"educ_expected_yrs_f\": 13.28767872, \"hdi\": 0.8809999999999999}, {\"fertility_total\": 2.063, \"educ_expected_yrs_f\": 13.13885593, \"hdi\": 0.773}, {\"fertility_total\": 2.87, \"educ_expected_yrs_f\": 9.521496773, \"hdi\": 0.657}, {\"fertility_total\": 4.7, \"educ_expected_yrs_f\": 6.210740089, \"hdi\": 0.473}, {\"fertility_total\": 2.462, \"educ_expected_yrs_f\": 12.30990696, \"hdi\": 0.68}, {\"fertility_total\": 2.935, \"educ_expected_yrs_f\": 11.44699955, \"hdi\": 0.508}, {\"fertility_total\": 2.46, \"educ_expected_yrs_f\": 9.822359085, \"hdi\": 0.633}, {\"fertility_total\": 1.55, \"educ_expected_yrs_f\": 12.96164417, \"hdi\": 0.85}, {\"fertility_total\": 1.71, \"educ_expected_yrs_f\": 13.54500961, \"hdi\": 0.946}, {\"fertility_total\": 2.222, \"educ_expected_yrs_f\": 10.93618393, \"hdi\": 0.642}, {\"fertility_total\": 2.311, \"educ_expected_yrs_f\": 12.41253376, \"hdi\": 0.7120000000000001}, {\"fertility_total\": 3.672, \"educ_expected_yrs_f\": 7.038986206000001, \"hdi\": 0.6709999999999999}, {\"fertility_total\": 1.75, \"educ_expected_yrs_f\": 13.92032051, \"hdi\": 0.951}, {\"fertility_total\": 3.09, \"educ_expected_yrs_f\": 13.90762043, \"hdi\": 0.916}, {\"fertility_total\": 1.29, \"educ_expected_yrs_f\": 13.31961727, \"hdi\": 0.89}, {\"fertility_total\": 1.979, \"educ_expected_yrs_f\": 11.82789326, \"hdi\": 0.7340000000000001}, {\"fertility_total\": 2.761, \"educ_expected_yrs_f\": 11.72220421, \"hdi\": 0.728}, {\"fertility_total\": 2.84, \"educ_expected_yrs_f\": 13.86884308, \"hdi\": 0.8190000000000001}, {\"fertility_total\": 3.492, \"educ_expected_yrs_f\": 11.30184937, \"hdi\": 0.599}, {\"fertility_total\": 3.569, \"educ_expected_yrs_f\": 11.82059479, \"hdi\": 0.628}, {\"fertility_total\": 2.082, \"educ_expected_yrs_f\": 12.40283394, \"hdi\": 0.807}, {\"fertility_total\": 1.6, \"educ_expected_yrs_f\": 13.7176199, \"hdi\": 0.863}, {\"fertility_total\": 3.141, \"educ_expected_yrs_f\": 10.41264439, \"hdi\": 0.522}, {\"fertility_total\": 4.315, \"educ_expected_yrs_f\": 4.166073798999999, \"hdi\": 0.48}, {\"fertility_total\": 1.63, \"educ_expected_yrs_f\": 13.88928127, \"hdi\": 0.8759999999999999}, {\"fertility_total\": 1.38, \"educ_expected_yrs_f\": 12.47436428, \"hdi\": 0.913}, {\"fertility_total\": 4.077, \"educ_expected_yrs_f\": 8.609224318999999, \"hdi\": 0.527}, {\"fertility_total\": 4.209, \"educ_expected_yrs_f\": 9.583486557, \"hdi\": 0.478}, {\"fertility_total\": 2.001, \"educ_expected_yrs_f\": 12.68888378, \"hdi\": 0.805}, {\"fertility_total\": 5.877000000000001, \"educ_expected_yrs_f\": 5.42065239, \"hdi\": 0.431}, {\"fertility_total\": 1.23, \"educ_expected_yrs_f\": 13.50980282, \"hdi\": 0.894}, {\"fertility_total\": 4.561, \"educ_expected_yrs_f\": 7.564128876, \"hdi\": 0.542}, {\"fertility_total\": 1.41, \"educ_expected_yrs_f\": 12.77645302, \"hdi\": 0.8009999999999999}, {\"fertility_total\": 2.129, \"educ_expected_yrs_f\": 12.97874069, \"hdi\": 0.7759999999999999}, {\"fertility_total\": 2.895, \"educ_expected_yrs_f\": 13.25112915, \"hdi\": 0.735}, {\"fertility_total\": 1.745, \"educ_expected_yrs_f\": 12.64217091, \"hdi\": 0.826}, {\"fertility_total\": 2.415, \"educ_expected_yrs_f\": 10.41762161, \"hdi\": 0.68}, {\"fertility_total\": 2.154, \"educ_expected_yrs_f\": 9.829102516, \"hdi\": 0.579}, {\"fertility_total\": 3.3960000000000004, \"educ_expected_yrs_f\": 9.723130226, \"hdi\": 0.645}, {\"fertility_total\": 1.917, \"educ_expected_yrs_f\": 12.0131464, \"hdi\": 0.596}, {\"fertility_total\": 1.59, \"educ_expected_yrs_f\": 13.92983341, \"hdi\": 0.942}, {\"fertility_total\": 1.71, \"educ_expected_yrs_f\": 13.77946663, \"hdi\": 0.928}, {\"fertility_total\": 2.404, \"educ_expected_yrs_f\": 11.10092926, \"hdi\": 0.659}, {\"fertility_total\": 6.912999999999999, \"educ_expected_yrs_f\": 5.059231758, \"hdi\": 0.391}, {\"fertility_total\": 5.3870000000000005, \"educ_expected_yrs_f\": 10.09999943, \"hdi\": 0.534}, {\"fertility_total\": 1.496, \"educ_expected_yrs_f\": 11.08503532, \"hdi\": 0.77}, {\"fertility_total\": 1.56, \"educ_expected_yrs_f\": 13.67211056, \"hdi\": 0.956}, {\"fertility_total\": 2.888, \"educ_expected_yrs_f\": 13.10266685, \"hdi\": 0.813}, {\"fertility_total\": 3.51, \"educ_expected_yrs_f\": 8.687153816, \"hdi\": 0.552}, {\"fertility_total\": 2.461, \"educ_expected_yrs_f\": 10.88493347, \"hdi\": 0.812}, {\"fertility_total\": 3.564, \"educ_expected_yrs_f\": 9.818692207, \"hdi\": 0.5489999999999999}, {\"fertility_total\": 2.4290000000000003, \"educ_expected_yrs_f\": 11.26677418, \"hdi\": 0.727}, {\"fertility_total\": 2.254, \"educ_expected_yrs_f\": 12.89012051, \"hdi\": 0.7709999999999999}, {\"fertility_total\": 2.576, \"educ_expected_yrs_f\": 13.04763317, \"hdi\": 0.711}, {\"fertility_total\": 1.46, \"educ_expected_yrs_f\": 13.45503712, \"hdi\": 0.877}, {\"fertility_total\": 1.42, \"educ_expected_yrs_f\": 13.82900047, \"hdi\": 0.86}, {\"fertility_total\": 1.866, \"educ_expected_yrs_f\": 12.7883606, \"hdi\": 0.845}, {\"fertility_total\": 1.76, \"educ_expected_yrs_f\": 11.98094845, \"hdi\": 0.823}, {\"fertility_total\": 1.579, \"educ_expected_yrs_f\": 13.68534756, \"hdi\": 0.823}, {\"fertility_total\": 4.044, \"educ_expected_yrs_f\": 6.980305195, \"hdi\": 0.54}, {\"fertility_total\": 3.877, \"educ_expected_yrs_f\": 12.44684696, \"hdi\": 0.7090000000000001}, {\"fertility_total\": 2.319, \"educ_expected_yrs_f\": 12.26758575, \"hdi\": 0.8540000000000001}, {\"fertility_total\": 4.625, \"educ_expected_yrs_f\": 7.849748135, \"hdi\": 0.516}, {\"fertility_total\": 1.49, \"educ_expected_yrs_f\": 13.49239731, \"hdi\": 0.8029999999999999}, {\"fertility_total\": 2.41, \"educ_expected_yrs_f\": 13.53542233, \"hdi\": 0.79}, {\"fertility_total\": 4.263, \"educ_expected_yrs_f\": 9.282006264, \"hdi\": 0.447}, {\"fertility_total\": 1.14, \"educ_expected_yrs_f\": 13.90422153, \"hdi\": 0.936}, {\"fertility_total\": 1.61, \"educ_expected_yrs_f\": 13.71750641, \"hdi\": 0.912}, {\"fertility_total\": 4.4030000000000005, \"educ_expected_yrs_f\": 8.841700553999999, \"hdi\": 0.564}, {\"fertility_total\": 2.405, \"educ_expected_yrs_f\": 10.11397743, \"hdi\": 0.7070000000000001}, {\"fertility_total\": 4.696000000000001, \"educ_expected_yrs_f\": 3.916237831, \"hdi\": 0.429}, {\"fertility_total\": 1.26, \"educ_expected_yrs_f\": 13.08606815, \"hdi\": 0.905}, {\"fertility_total\": 2.199, \"educ_expected_yrs_f\": 13.11488724, \"hdi\": 0.779}, {\"fertility_total\": 4.407, \"educ_expected_yrs_f\": 6.943500996, \"hdi\": 0.506}, {\"fertility_total\": 1.76, \"educ_expected_yrs_f\": 13.90402126, \"hdi\": 0.943}, {\"fertility_total\": 1.52, \"educ_expected_yrs_f\": 13.21845913, \"hdi\": 0.955}, {\"fertility_total\": 3.585, \"educ_expected_yrs_f\": 10.43918705, \"hdi\": 0.6609999999999999}, {\"fertility_total\": 1.525, \"educ_expected_yrs_f\": 12.644207000000002, \"hdi\": 0.772}, {\"fertility_total\": 4.023, \"educ_expected_yrs_f\": 10.87477875, \"hdi\": 0.599}, {\"fertility_total\": 4.32, \"educ_expected_yrs_f\": 9.123530388, \"hdi\": 0.51}, {\"fertility_total\": 3.556, \"educ_expected_yrs_f\": 11.83284092, \"hdi\": 0.723}, {\"fertility_total\": 2.197, \"educ_expected_yrs_f\": 10.95233727, \"hdi\": 0.738}, {\"fertility_total\": 2.069, \"educ_expected_yrs_f\": 11.99552917, \"hdi\": 0.8170000000000001}, {\"fertility_total\": 1.301, \"educ_expected_yrs_f\": 13.00567055, \"hdi\": 0.774}, {\"fertility_total\": 1.413, \"educ_expected_yrs_f\": 13.1702652, \"hdi\": 0.889}, {\"fertility_total\": 1.68, \"educ_expected_yrs_f\": 13.85765934, \"hdi\": 0.928}, {\"fertility_total\": 1.7295, \"educ_expected_yrs_f\": 12.93639374, \"hdi\": 0.925}, {\"fertility_total\": 1.973, \"educ_expected_yrs_f\": 12.47761631, \"hdi\": 0.816}, {\"fertility_total\": 2.604, \"educ_expected_yrs_f\": 12.00484753, \"hdi\": 0.7170000000000001}, {\"fertility_total\": 3.782, \"educ_expected_yrs_f\": 10.13373089, \"hdi\": 0.603}, {\"fertility_total\": 4.633, \"educ_expected_yrs_f\": 8.745135307, \"hdi\": 0.5820000000000001}, {\"fertility_total\": 3.615, \"educ_expected_yrs_f\": 10.97491837, \"hdi\": 0.569}]}}, {\"mode\": \"vega-lite\"});\n",
       "</script>"
      ],
      "text/plain": [
       "alt.Chart(...)"
      ]
     },
     "execution_count": 5,
     "metadata": {},
     "output_type": "execute_result"
    }
   ],
   "source": [
    "# BEGIN SOLUTION\n",
    "# construct plot\n",
    "scatter_hdi = alt.Chart(reg_data).mark_circle().encode(\n",
    "    x = alt.X('hdi', \n",
    "              title = 'Human development index', \n",
    "              scale = alt.Scale(zero = False)),\n",
    "    y = alt.Y('fertility_total', \n",
    "              title = 'Fertility rate', \n",
    "              scale = alt.Scale(zero = False))\n",
    ")\n",
    "\n",
    "# display\n",
    "scatter_hdi\n",
    "# END SOLUTION"
   ]
  },
  {
   "attachments": {},
   "cell_type": "markdown",
   "metadata": {},
   "source": [
    "<!-- END QUESTION -->\n",
    "\n",
    "This figure shows a negative relationship between fertility rate and HDI; it may not be exactly linear, but a line should provide a decent approximation. So, the plots suggest that a linear regression model in one or both explanatory variables is reasonable."
   ]
  },
  {
   "attachments": {},
   "cell_type": "markdown",
   "metadata": {},
   "source": [
    "# Simple linear regression\n",
    "\n",
    "To start you'll fit a simple linear model regressing fertility on education.\n",
    "\n",
    "First we'll need to store the quantities -- the response and explanatory variables -- needed for model fitting in the proper format. Recall that the linear model in matrix form is:\n",
    "\n",
    "$$\\underbrace{\\left[\\begin{array}{c} y_1 \\\\ \\vdots \\\\ y_n \\end{array}\\right]}_{\\mathbf{y}}\n",
    "    = \\underbrace{\\left[\\begin{array}{cc}\n",
    "        1 & x_1 \\\\ \\vdots &\\vdots \\\\ 1 & x_n\n",
    "        \\end{array}\\right]}_\\mathbf{X}\n",
    "      \\underbrace{\\left[\\begin{array}{c} \\beta_0 \\\\ \\beta_1 \\end{array}\\right]}_\\beta\n",
    "      + \\underbrace{\\left[\\begin{array}{c} \\epsilon_1 \\\\ \\vdots \\\\ \\epsilon_n \\end{array}\\right]}_\\epsilon$$\n",
    "      \n",
    "Notice that the explanatory variable matrix $\\mathbf{X}$ includes a column of ones for the intercept. So the quantities needed are:\n",
    "\n",
    "* $\\mathbf{y}$, a one-dimensional array of the total fertility rates for each country; and \n",
    "* $\\mathbf{X}$, a two-dimensional array with a column of ones (intercept) and a column of the expected years of education for women (explanatory variable).\n",
    "\n",
    "The cell below constructs these arrays as pandas objects."
   ]
  },
  {
   "cell_type": "code",
   "execution_count": 6,
   "metadata": {},
   "outputs": [
    {
     "data": {
      "text/html": [
       "<div>\n",
       "<style scoped>\n",
       "    .dataframe tbody tr th:only-of-type {\n",
       "        vertical-align: middle;\n",
       "    }\n",
       "\n",
       "    .dataframe tbody tr th {\n",
       "        vertical-align: top;\n",
       "    }\n",
       "\n",
       "    .dataframe thead th {\n",
       "        text-align: right;\n",
       "    }\n",
       "</style>\n",
       "<table border=\"1\" class=\"dataframe\">\n",
       "  <thead>\n",
       "    <tr style=\"text-align: right;\">\n",
       "      <th></th>\n",
       "      <th>const</th>\n",
       "      <th>educ_expected_yrs_f</th>\n",
       "    </tr>\n",
       "    <tr>\n",
       "      <th>Country</th>\n",
       "      <th></th>\n",
       "      <th></th>\n",
       "    </tr>\n",
       "  </thead>\n",
       "  <tbody>\n",
       "    <tr>\n",
       "      <th>Afghanistan</th>\n",
       "      <td>1.0</td>\n",
       "      <td>6.795722</td>\n",
       "    </tr>\n",
       "    <tr>\n",
       "      <th>Albania</th>\n",
       "      <td>1.0</td>\n",
       "      <td>13.201755</td>\n",
       "    </tr>\n",
       "    <tr>\n",
       "      <th>Algeria</th>\n",
       "      <td>1.0</td>\n",
       "      <td>12.108990</td>\n",
       "    </tr>\n",
       "    <tr>\n",
       "      <th>Angola</th>\n",
       "      <td>1.0</td>\n",
       "      <td>6.973901</td>\n",
       "    </tr>\n",
       "    <tr>\n",
       "      <th>Antigua and Barbuda</th>\n",
       "      <td>1.0</td>\n",
       "      <td>12.914441</td>\n",
       "    </tr>\n",
       "  </tbody>\n",
       "</table>\n",
       "</div>"
      ],
      "text/plain": [
       "                     const  educ_expected_yrs_f\n",
       "Country                                        \n",
       "Afghanistan            1.0             6.795722\n",
       "Albania                1.0            13.201755\n",
       "Algeria                1.0            12.108990\n",
       "Angola                 1.0             6.973901\n",
       "Antigua and Barbuda    1.0            12.914441"
      ]
     },
     "execution_count": 6,
     "metadata": {},
     "output_type": "execute_result"
    }
   ],
   "source": [
    "# retrieve response\n",
    "y = reg_data.fertility_total\n",
    "\n",
    "# construct explanatory variable matrix\n",
    "x = sm.tools.add_constant(reg_data.educ_expected_yrs_f)\n",
    "\n",
    "# print first five rows of x\n",
    "x.head()"
   ]
  },
  {
   "attachments": {},
   "cell_type": "markdown",
   "metadata": {},
   "source": [
    "## Estimation\n",
    "\n",
    "'Fitting' a model refers to computing estimates; `statsmodels.OLS()` will fit a linear regression model based on the response vector and explanatory variable matrix. Note that the model structure is implicit -- `OLS` will fit $y = X\\beta + \\epsilon$ no matter what, so you need to be sure you have arranged $X$ and $y$ correctly to fit the model that you intend."
   ]
  },
  {
   "cell_type": "code",
   "execution_count": 7,
   "metadata": {},
   "outputs": [],
   "source": [
    "# fit model\n",
    "slr = sm.OLS(endog = y, exog = x)"
   ]
  },
  {
   "attachments": {},
   "cell_type": "markdown",
   "metadata": {},
   "source": [
    "This returns an object of a distinct model class specific to `OLS`:"
   ]
  },
  {
   "cell_type": "code",
   "execution_count": 8,
   "metadata": {},
   "outputs": [
    {
     "data": {
      "text/plain": [
       "statsmodels.regression.linear_model.OLS"
      ]
     },
     "execution_count": 8,
     "metadata": {},
     "output_type": "execute_result"
    }
   ],
   "source": [
    "type(slr)"
   ]
  },
  {
   "attachments": {},
   "cell_type": "markdown",
   "metadata": {},
   "source": [
    "Associated with the class are various attributes and methods. From the model instance, `.fit()` retrieves the model results:"
   ]
  },
  {
   "cell_type": "code",
   "execution_count": 9,
   "metadata": {},
   "outputs": [
    {
     "data": {
      "text/plain": [
       "statsmodels.regression.linear_model.RegressionResultsWrapper"
      ]
     },
     "execution_count": 9,
     "metadata": {},
     "output_type": "execute_result"
    }
   ],
   "source": [
    "type(slr.fit())"
   ]
  },
  {
   "attachments": {},
   "cell_type": "markdown",
   "metadata": {},
   "source": [
    "Note, however, that `slr.fit()` will not produce any interesting output:"
   ]
  },
  {
   "cell_type": "code",
   "execution_count": 10,
   "metadata": {},
   "outputs": [
    {
     "data": {
      "text/plain": [
       "<statsmodels.regression.linear_model.RegressionResultsWrapper at 0x1c8be960c10>"
      ]
     },
     "execution_count": 10,
     "metadata": {},
     "output_type": "execute_result"
    }
   ],
   "source": [
    "slr.fit()"
   ]
  },
  {
   "attachments": {},
   "cell_type": "markdown",
   "metadata": {},
   "source": [
    "What the `.fit()` method does is create a results object that contains parameter estimates and other quantities we might want to retrieve."
   ]
  },
  {
   "cell_type": "code",
   "execution_count": 11,
   "metadata": {},
   "outputs": [],
   "source": [
    "rslt = slr.fit()"
   ]
  },
  {
   "attachments": {},
   "cell_type": "markdown",
   "metadata": {},
   "source": [
    "The coeffient estimates $\\hat{\\beta}_0, \\hat{\\beta}_1$ are:"
   ]
  },
  {
   "cell_type": "code",
   "execution_count": 12,
   "metadata": {},
   "outputs": [
    {
     "data": {
      "text/plain": [
       "const                  7.511423\n",
       "educ_expected_yrs_f   -0.427472\n",
       "dtype: float64"
      ]
     },
     "execution_count": 12,
     "metadata": {},
     "output_type": "execute_result"
    }
   ],
   "source": [
    "rslt.params"
   ]
  },
  {
   "attachments": {},
   "cell_type": "markdown",
   "metadata": {},
   "source": [
    "The error variance estimate $\\hat{\\sigma}^2$ is:"
   ]
  },
  {
   "cell_type": "code",
   "execution_count": 13,
   "metadata": {},
   "outputs": [
    {
     "data": {
      "text/plain": [
       "0.43785919814090585"
      ]
     },
     "execution_count": 13,
     "metadata": {},
     "output_type": "execute_result"
    }
   ],
   "source": [
    "rslt.scale"
   ]
  },
  {
   "attachments": {},
   "cell_type": "markdown",
   "metadata": {},
   "source": [
    "It was noted in lecture that the variances and covariances of $\\hat{\\beta}_0, \\hat{\\beta}_1$ are given by the matrix:\n",
    "\n",
    "$$\\sigma^2 (\\mathbf{X}'\\mathbf{X})^{-1} \n",
    "  = \\left[\\begin{array}{cc} \n",
    "        \\text{var}\\hat{\\beta}_0 & \\text{cov}\\left(\\hat{\\beta}_0, \\hat{\\beta}_1\\right) \\\\\n",
    "        \\text{cov}\\left(\\hat{\\beta}_1, \\hat{\\beta}_0\\right) & \\text{var}\\hat{\\beta}_1\n",
    "        \\end{array}\\right]$$\n",
    "\n",
    "So we can *estimate* these quantities, which quantify the variation and covariation of the estimated coefficients, by plugging in the estimated error variance and computing $\\hat{\\sigma}^2 (\\mathbf{X}'\\mathbf{X})^{-1}$. This estimate is:"
   ]
  },
  {
   "cell_type": "code",
   "execution_count": 14,
   "metadata": {},
   "outputs": [
    {
     "data": {
      "text/html": [
       "<div>\n",
       "<style scoped>\n",
       "    .dataframe tbody tr th:only-of-type {\n",
       "        vertical-align: middle;\n",
       "    }\n",
       "\n",
       "    .dataframe tbody tr th {\n",
       "        vertical-align: top;\n",
       "    }\n",
       "\n",
       "    .dataframe thead th {\n",
       "        text-align: right;\n",
       "    }\n",
       "</style>\n",
       "<table border=\"1\" class=\"dataframe\">\n",
       "  <thead>\n",
       "    <tr style=\"text-align: right;\">\n",
       "      <th></th>\n",
       "      <th>const</th>\n",
       "      <th>educ_expected_yrs_f</th>\n",
       "    </tr>\n",
       "  </thead>\n",
       "  <tbody>\n",
       "    <tr>\n",
       "      <th>const</th>\n",
       "      <td>0.068834</td>\n",
       "      <td>-0.005782</td>\n",
       "    </tr>\n",
       "    <tr>\n",
       "      <th>educ_expected_yrs_f</th>\n",
       "      <td>-0.005782</td>\n",
       "      <td>0.000509</td>\n",
       "    </tr>\n",
       "  </tbody>\n",
       "</table>\n",
       "</div>"
      ],
      "text/plain": [
       "                        const  educ_expected_yrs_f\n",
       "const                0.068834            -0.005782\n",
       "educ_expected_yrs_f -0.005782             0.000509"
      ]
     },
     "execution_count": 14,
     "metadata": {},
     "output_type": "execute_result"
    }
   ],
   "source": [
    "rslt.cov_params()"
   ]
  },
  {
   "attachments": {},
   "cell_type": "markdown",
   "metadata": {},
   "source": [
    "Standard errors for the coefficient estimates are obtained from the diagonal entries. We might create a nice summary of all the estimates as follows:"
   ]
  },
  {
   "cell_type": "code",
   "execution_count": 15,
   "metadata": {},
   "outputs": [
    {
     "data": {
      "text/html": [
       "<div>\n",
       "<style scoped>\n",
       "    .dataframe tbody tr th:only-of-type {\n",
       "        vertical-align: middle;\n",
       "    }\n",
       "\n",
       "    .dataframe tbody tr th {\n",
       "        vertical-align: top;\n",
       "    }\n",
       "\n",
       "    .dataframe thead th {\n",
       "        text-align: right;\n",
       "    }\n",
       "</style>\n",
       "<table border=\"1\" class=\"dataframe\">\n",
       "  <thead>\n",
       "    <tr style=\"text-align: right;\">\n",
       "      <th></th>\n",
       "      <th>estimate</th>\n",
       "      <th>standard error</th>\n",
       "    </tr>\n",
       "  </thead>\n",
       "  <tbody>\n",
       "    <tr>\n",
       "      <th>const</th>\n",
       "      <td>7.511423</td>\n",
       "      <td>0.262362</td>\n",
       "    </tr>\n",
       "    <tr>\n",
       "      <th>educ_expected_yrs_f</th>\n",
       "      <td>-0.427472</td>\n",
       "      <td>0.022560</td>\n",
       "    </tr>\n",
       "    <tr>\n",
       "      <th>error variance</th>\n",
       "      <td>0.437859</td>\n",
       "      <td>NaN</td>\n",
       "    </tr>\n",
       "  </tbody>\n",
       "</table>\n",
       "</div>"
      ],
      "text/plain": [
       "                     estimate  standard error\n",
       "const                7.511423        0.262362\n",
       "educ_expected_yrs_f -0.427472        0.022560\n",
       "error variance       0.437859             NaN"
      ]
     },
     "execution_count": 15,
     "metadata": {},
     "output_type": "execute_result"
    }
   ],
   "source": [
    "coef_tbl = pd.DataFrame({'estimate': rslt.params.values,\n",
    "              'standard error': np.sqrt(rslt.cov_params().values.diagonal())},\n",
    "              index = x.columns)\n",
    "coef_tbl.loc['error variance', 'estimate'] = rslt.scale\n",
    "\n",
    "coef_tbl"
   ]
  },
  {
   "attachments": {},
   "cell_type": "markdown",
   "metadata": {},
   "source": [
    "Lastly, a standard metric often reported with linear models is the $R^2$ score, which is interpreted as the proportion of variation in the response captured by the model."
   ]
  },
  {
   "cell_type": "code",
   "execution_count": 16,
   "metadata": {},
   "outputs": [
    {
     "data": {
      "text/plain": [
       "0.723814308777671"
      ]
     },
     "execution_count": 16,
     "metadata": {},
     "output_type": "execute_result"
    }
   ],
   "source": [
    "# compute R-squared\n",
    "rslt.rsquared"
   ]
  },
  {
   "attachments": {},
   "cell_type": "markdown",
   "metadata": {},
   "source": [
    "So, the expected years of education for women in a country explains 72% of variability in fertility rates, and furthermore, according to the fitted model:\n",
    "\n",
    "- for a country in which women are entirely uneducated, the estimated mean fertility rate is 7.5 children on average by the end of a woman's reproductive period\n",
    "- each additional year of education for women is associated with a decrease in a country's fertility rate of an estimated 0.43\n",
    "- after accounting for women's education levels, fertility rates vary by a standard deviation of $0.66 = \\sqrt{0.438}$ across countries"
   ]
  },
  {
   "attachments": {},
   "cell_type": "markdown",
   "metadata": {},
   "source": [
    "### Question 3: center the explanatory variable\n",
    "\n",
    "Note that *no* countries report an expected zero years of education for women, so the meaning of the intercept is artificial. As we saw in lecture, centering the explanatory variable can improve interpretability of the intercept. Center the expected years of education for women and refit the model by following the steps outlined below. Display the coefficient estimates and standard errors."
   ]
  },
  {
   "cell_type": "code",
   "execution_count": 17,
   "metadata": {
    "tags": [
     "otter_assign_solution_cell"
    ]
   },
   "outputs": [
    {
     "data": {
      "text/html": [
       "<div>\n",
       "<style scoped>\n",
       "    .dataframe tbody tr th:only-of-type {\n",
       "        vertical-align: middle;\n",
       "    }\n",
       "\n",
       "    .dataframe tbody tr th {\n",
       "        vertical-align: top;\n",
       "    }\n",
       "\n",
       "    .dataframe thead th {\n",
       "        text-align: right;\n",
       "    }\n",
       "</style>\n",
       "<table border=\"1\" class=\"dataframe\">\n",
       "  <thead>\n",
       "    <tr style=\"text-align: right;\">\n",
       "      <th></th>\n",
       "      <th>estimate</th>\n",
       "      <th>standard error</th>\n",
       "    </tr>\n",
       "  </thead>\n",
       "  <tbody>\n",
       "    <tr>\n",
       "      <th>const</th>\n",
       "      <td>2.655168</td>\n",
       "      <td>0.056125</td>\n",
       "    </tr>\n",
       "    <tr>\n",
       "      <th>educ_expected_yrs_f</th>\n",
       "      <td>-0.427472</td>\n",
       "      <td>0.022560</td>\n",
       "    </tr>\n",
       "    <tr>\n",
       "      <th>error variance</th>\n",
       "      <td>0.437859</td>\n",
       "      <td>NaN</td>\n",
       "    </tr>\n",
       "  </tbody>\n",
       "</table>\n",
       "</div>"
      ],
      "text/plain": [
       "                     estimate  standard error\n",
       "const                2.655168        0.056125\n",
       "educ_expected_yrs_f -0.427472        0.022560\n",
       "error variance       0.437859             NaN"
      ]
     },
     "execution_count": 17,
     "metadata": {},
     "output_type": "execute_result"
    }
   ],
   "source": [
    "# center the education column by subtracting its mean from each value\n",
    "educ_ctr = reg_data.educ_expected_yrs_f - reg_data.educ_expected_yrs_f.mean() # SOLUTION\n",
    "\n",
    "# reconstruct the explanatory variable matrix\n",
    "x_ctr = sm.tools.add_constant(educ_ctr) # SOLUTION\n",
    "\n",
    "# fit new model\n",
    "slr_ctr = sm.OLS(endog = y, exog = x_ctr) # SOLUTION\n",
    "rslt_ctr = slr_ctr.fit() # SOLUTION\n",
    "\n",
    "# arrange estimates and se's in a dataframe and display\n",
    "# BEGIN SOLUTION\n",
    "coef_tbl_ctr = pd.DataFrame({'estimate': rslt_ctr.params.values,\n",
    "              'standard error': np.sqrt(rslt_ctr.cov_params().values.diagonal())},\n",
    "              index = x_ctr.columns)\n",
    "coef_tbl_ctr.loc['error variance', 'estimate'] = rslt_ctr.scale\n",
    "\n",
    "coef_tbl_ctr\n",
    "# END SOLUTION"
   ]
  },
  {
   "cell_type": "code",
   "execution_count": null,
   "metadata": {
    "deletable": false,
    "editable": false
   },
   "outputs": [],
   "source": [
    "grader.check(\"q3\")"
   ]
  },
  {
   "attachments": {},
   "cell_type": "markdown",
   "metadata": {},
   "source": [
    "## Fitted values and residuals\n",
    "\n",
    "The **fitted value** for $y_i$ is the value along the line specified by the model that corresponds to the matching explanatory variable $x_i$. In other words:\n",
    "\n",
    "$$\\hat{y}_i = \\hat{\\beta}_0 + \\hat{\\beta}_1 x_i$$\n",
    "\n",
    "These can be obtained directly from `rslt`:"
   ]
  },
  {
   "cell_type": "code",
   "execution_count": 24,
   "metadata": {},
   "outputs": [
    {
     "data": {
      "text/plain": [
       "Country\n",
       "Afghanistan            4.606441\n",
       "Albania                1.868041\n",
       "Algeria                2.335168\n",
       "Angola                 4.530275\n",
       "Antigua and Barbuda    1.990860\n",
       "                         ...   \n",
       "Uruguay                2.177590\n",
       "Uzbekistan             2.379686\n",
       "Vanuatu                3.179536\n",
       "Zambia                 3.773122\n",
       "Zimbabwe               2.819952\n",
       "Length: 139, dtype: float64"
      ]
     },
     "execution_count": 24,
     "metadata": {},
     "output_type": "execute_result"
    }
   ],
   "source": [
    "# fitted values\n",
    "rslt.fittedvalues"
   ]
  },
  {
   "attachments": {},
   "cell_type": "markdown",
   "metadata": {},
   "source": [
    "The result is an array with length matching the number of rows in `x`; note the index for the pandas series -- the fitted values are returned in the same order as the observations used to fit the model."
   ]
  },
  {
   "cell_type": "code",
   "execution_count": 25,
   "metadata": {},
   "outputs": [
    {
     "data": {
      "text/plain": [
       "True"
      ]
     },
     "execution_count": 25,
     "metadata": {},
     "output_type": "execute_result"
    }
   ],
   "source": [
    "(rslt.fittedvalues.index == x.index).all()"
   ]
  },
  {
   "attachments": {},
   "cell_type": "markdown",
   "metadata": {},
   "source": [
    "Recall that model **residuals** are the difference between observed and fitted values:\n",
    "\n",
    "$$e_i = y_i - \\hat{y}_i$$\n",
    "\n",
    "These are similarly retrievable as an attribute of the regression results:"
   ]
  },
  {
   "cell_type": "code",
   "execution_count": 26,
   "metadata": {},
   "outputs": [
    {
     "data": {
      "text/plain": [
       "Country\n",
       "Afghanistan           -0.133441\n",
       "Albania               -0.251041\n",
       "Algeria                0.687832\n",
       "Angola                 0.988725\n",
       "Antigua and Barbuda    0.003140\n",
       "                         ...   \n",
       "Uruguay               -0.204590\n",
       "Uzbekistan             0.224314\n",
       "Vanuatu                0.602464\n",
       "Zambia                 0.859878\n",
       "Zimbabwe               0.795048\n",
       "Length: 139, dtype: float64"
      ]
     },
     "execution_count": 26,
     "metadata": {},
     "output_type": "execute_result"
    }
   ],
   "source": [
    "# residuals\n",
    "rslt.resid"
   ]
  },
  {
   "attachments": {},
   "cell_type": "markdown",
   "metadata": {},
   "source": [
    "Note again that these are returned in the same order as the original observations."
   ]
  },
  {
   "attachments": {},
   "cell_type": "markdown",
   "metadata": {},
   "source": [
    "### Question 4: calculations 'by hand'\n",
    "\n",
    "Calculate the fitted values and residuals manually. Store the results as arrays `fitted_manual` and `resid_manual`, respectively.\n",
    "\n",
    "*Hint*: use matrix-vector multiplication."
   ]
  },
  {
   "cell_type": "code",
   "execution_count": 27,
   "metadata": {
    "tags": [
     "otter_assign_solution_cell"
    ]
   },
   "outputs": [],
   "source": [
    "fitted_manual = x.dot(rslt.params.values) # SOLUTION\n",
    "resid_manual = y - fitted_manual # SOLUTION"
   ]
  },
  {
   "cell_type": "code",
   "execution_count": null,
   "metadata": {
    "deletable": false,
    "editable": false
   },
   "outputs": [],
   "source": [
    "grader.check(\"q4\")"
   ]
  },
  {
   "attachments": {},
   "cell_type": "markdown",
   "metadata": {},
   "source": [
    "It is often convenient to add the fitted values and residuals as new columns in `reg_data`:"
   ]
  },
  {
   "cell_type": "code",
   "execution_count": 32,
   "metadata": {},
   "outputs": [
    {
     "data": {
      "text/html": [
       "<div>\n",
       "<style scoped>\n",
       "    .dataframe tbody tr th:only-of-type {\n",
       "        vertical-align: middle;\n",
       "    }\n",
       "\n",
       "    .dataframe tbody tr th {\n",
       "        vertical-align: top;\n",
       "    }\n",
       "\n",
       "    .dataframe thead th {\n",
       "        text-align: right;\n",
       "    }\n",
       "</style>\n",
       "<table border=\"1\" class=\"dataframe\">\n",
       "  <thead>\n",
       "    <tr style=\"text-align: right;\">\n",
       "      <th></th>\n",
       "      <th>fertility_total</th>\n",
       "      <th>educ_expected_yrs_f</th>\n",
       "      <th>hdi</th>\n",
       "      <th>fitted_slr</th>\n",
       "      <th>resid_slr</th>\n",
       "    </tr>\n",
       "    <tr>\n",
       "      <th>Country</th>\n",
       "      <th></th>\n",
       "      <th></th>\n",
       "      <th></th>\n",
       "      <th></th>\n",
       "      <th></th>\n",
       "    </tr>\n",
       "  </thead>\n",
       "  <tbody>\n",
       "    <tr>\n",
       "      <th>Afghanistan</th>\n",
       "      <td>4.473</td>\n",
       "      <td>6.795722</td>\n",
       "      <td>0.509</td>\n",
       "      <td>4.606441</td>\n",
       "      <td>-0.133441</td>\n",
       "    </tr>\n",
       "    <tr>\n",
       "      <th>Albania</th>\n",
       "      <td>1.617</td>\n",
       "      <td>13.201755</td>\n",
       "      <td>0.792</td>\n",
       "      <td>1.868041</td>\n",
       "      <td>-0.251041</td>\n",
       "    </tr>\n",
       "    <tr>\n",
       "      <th>Algeria</th>\n",
       "      <td>3.023</td>\n",
       "      <td>12.108990</td>\n",
       "      <td>0.746</td>\n",
       "      <td>2.335168</td>\n",
       "      <td>0.687832</td>\n",
       "    </tr>\n",
       "  </tbody>\n",
       "</table>\n",
       "</div>"
      ],
      "text/plain": [
       "             fertility_total  educ_expected_yrs_f    hdi  fitted_slr  \\\n",
       "Country                                                                \n",
       "Afghanistan            4.473             6.795722  0.509    4.606441   \n",
       "Albania                1.617            13.201755  0.792    1.868041   \n",
       "Algeria                3.023            12.108990  0.746    2.335168   \n",
       "\n",
       "             resid_slr  \n",
       "Country                 \n",
       "Afghanistan  -0.133441  \n",
       "Albania      -0.251041  \n",
       "Algeria       0.687832  "
      ]
     },
     "execution_count": 32,
     "metadata": {},
     "output_type": "execute_result"
    }
   ],
   "source": [
    "# append fitted values and residuals\n",
    "reg_data['fitted_slr'] = rslt.fittedvalues\n",
    "reg_data['resid_slr'] = rslt.resid\n",
    "\n",
    "reg_data.head(3) "
   ]
  },
  {
   "attachments": {},
   "cell_type": "markdown",
   "metadata": {},
   "source": [
    "We can use this augmented dataframe to visualize the deterministic part of the model:"
   ]
  },
  {
   "cell_type": "code",
   "execution_count": 33,
   "metadata": {},
   "outputs": [
    {
     "data": {
      "text/html": [
       "\n",
       "<div id=\"altair-viz-c6ae268acfb545e1b27de32490409409\"></div>\n",
       "<script type=\"text/javascript\">\n",
       "  var VEGA_DEBUG = (typeof VEGA_DEBUG == \"undefined\") ? {} : VEGA_DEBUG;\n",
       "  (function(spec, embedOpt){\n",
       "    let outputDiv = document.currentScript.previousElementSibling;\n",
       "    if (outputDiv.id !== \"altair-viz-c6ae268acfb545e1b27de32490409409\") {\n",
       "      outputDiv = document.getElementById(\"altair-viz-c6ae268acfb545e1b27de32490409409\");\n",
       "    }\n",
       "    const paths = {\n",
       "      \"vega\": \"https://cdn.jsdelivr.net/npm//vega@5?noext\",\n",
       "      \"vega-lib\": \"https://cdn.jsdelivr.net/npm//vega-lib?noext\",\n",
       "      \"vega-lite\": \"https://cdn.jsdelivr.net/npm//vega-lite@4.17.0?noext\",\n",
       "      \"vega-embed\": \"https://cdn.jsdelivr.net/npm//vega-embed@6?noext\",\n",
       "    };\n",
       "\n",
       "    function maybeLoadScript(lib, version) {\n",
       "      var key = `${lib.replace(\"-\", \"\")}_version`;\n",
       "      return (VEGA_DEBUG[key] == version) ?\n",
       "        Promise.resolve(paths[lib]) :\n",
       "        new Promise(function(resolve, reject) {\n",
       "          var s = document.createElement('script');\n",
       "          document.getElementsByTagName(\"head\")[0].appendChild(s);\n",
       "          s.async = true;\n",
       "          s.onload = () => {\n",
       "            VEGA_DEBUG[key] = version;\n",
       "            return resolve(paths[lib]);\n",
       "          };\n",
       "          s.onerror = () => reject(`Error loading script: ${paths[lib]}`);\n",
       "          s.src = paths[lib];\n",
       "        });\n",
       "    }\n",
       "\n",
       "    function showError(err) {\n",
       "      outputDiv.innerHTML = `<div class=\"error\" style=\"color:red;\">${err}</div>`;\n",
       "      throw err;\n",
       "    }\n",
       "\n",
       "    function displayChart(vegaEmbed) {\n",
       "      vegaEmbed(outputDiv, spec, embedOpt)\n",
       "        .catch(err => showError(`Javascript Error: ${err.message}<br>This usually means there's a typo in your chart specification. See the javascript console for the full traceback.`));\n",
       "    }\n",
       "\n",
       "    if(typeof define === \"function\" && define.amd) {\n",
       "      requirejs.config({paths});\n",
       "      require([\"vega-embed\"], displayChart, err => showError(`Error loading script: ${err.message}`));\n",
       "    } else {\n",
       "      maybeLoadScript(\"vega\", \"5\")\n",
       "        .then(() => maybeLoadScript(\"vega-lite\", \"4.17.0\"))\n",
       "        .then(() => maybeLoadScript(\"vega-embed\", \"6\"))\n",
       "        .catch(showError)\n",
       "        .then(() => displayChart(vegaEmbed));\n",
       "    }\n",
       "  })({\"config\": {\"view\": {\"continuousWidth\": 400, \"continuousHeight\": 300}}, \"layer\": [{\"mark\": \"circle\", \"encoding\": {\"x\": {\"field\": \"educ_expected_yrs_f\", \"scale\": {\"zero\": false}, \"title\": \"Expected years of education for women\", \"type\": \"quantitative\"}, \"y\": {\"field\": \"fertility_total\", \"scale\": {\"zero\": false}, \"title\": \"Fertility rate\", \"type\": \"quantitative\"}}}, {\"mark\": \"line\", \"encoding\": {\"x\": {\"field\": \"educ_expected_yrs_f\", \"type\": \"quantitative\"}, \"y\": {\"field\": \"fitted_slr\", \"type\": \"quantitative\"}}}], \"data\": {\"name\": \"data-597161acec0b5ab5b3e0770de3041877\"}, \"$schema\": \"https://vega.github.io/schema/vega-lite/v4.17.0.json\", \"datasets\": {\"data-597161acec0b5ab5b3e0770de3041877\": [{\"fertility_total\": 4.473, \"educ_expected_yrs_f\": 6.795722485, \"hdi\": 0.509, \"fitted_slr\": 4.6064412575414115, \"resid_slr\": -0.13344125754141167}, {\"fertility_total\": 1.617, \"educ_expected_yrs_f\": 13.20175457, \"hdi\": 0.792, \"fitted_slr\": 1.8680412247884368, \"resid_slr\": -0.2510412247884368}, {\"fertility_total\": 3.023, \"educ_expected_yrs_f\": 12.10898972, \"hdi\": 0.746, \"fitted_slr\": 2.3351677176510304, \"resid_slr\": 0.6878322823489698}, {\"fertility_total\": 5.519, \"educ_expected_yrs_f\": 6.973901272000001, \"hdi\": 0.5820000000000001, \"fitted_slr\": 4.530274796043477, \"resid_slr\": 0.9887252039565233}, {\"fertility_total\": 1.994, \"educ_expected_yrs_f\": 12.91444111, \"hdi\": 0.772, \"fitted_slr\": 1.9908597148981957, \"resid_slr\": 0.0031402851018043076}, {\"fertility_total\": 2.261, \"educ_expected_yrs_f\": 13.06125259, \"hdi\": 0.8420000000000001, \"fitted_slr\": 1.9281019022138226, \"resid_slr\": 0.3328980977861775}, {\"fertility_total\": 1.755, \"educ_expected_yrs_f\": 11.62581253, \"hdi\": 0.7709999999999999, \"fitted_slr\": 2.541712489104746, \"resid_slr\": -0.7867124891047461}, {\"fertility_total\": 1.74, \"educ_expected_yrs_f\": 13.62022209, \"hdi\": 0.943, \"fitted_slr\": 1.6891580323115674, \"resid_slr\": 0.05084196768843263}, {\"fertility_total\": 1.47, \"educ_expected_yrs_f\": 13.46689415, \"hdi\": 0.921, \"fitted_slr\": 1.7547014498821878, \"resid_slr\": -0.2847014498821878}, {\"fertility_total\": 1.73, \"educ_expected_yrs_f\": 12.44501495, \"hdi\": 0.754, \"fitted_slr\": 2.191526304584673, \"resid_slr\": -0.46152630458467314}, {\"fertility_total\": 1.987, \"educ_expected_yrs_f\": 13.27036572, \"hdi\": 0.852, \"fitted_slr\": 1.8387118719356534, \"resid_slr\": 0.14828812806434666}, {\"fertility_total\": 2.036, \"educ_expected_yrs_f\": 10.52187443, \"hdi\": 0.625, \"fitted_slr\": 3.0136152346866476, \"resid_slr\": -0.9776152346866476}, {\"fertility_total\": 1.4480000000000002, \"educ_expected_yrs_f\": 13.75893879, \"hdi\": 0.823, \"fitted_slr\": 1.6298605122893297, \"resid_slr\": -0.18186051228932953}, {\"fertility_total\": 1.62, \"educ_expected_yrs_f\": 13.56679726, \"hdi\": 0.93, \"fitted_slr\": 1.7119956569566872, \"resid_slr\": -0.0919956569566871}, {\"fertility_total\": 4.836, \"educ_expected_yrs_f\": 8.782134056, \"hdi\": 0.541, \"fitted_slr\": 3.757305717957662, \"resid_slr\": 1.0786942820423384}, {\"fertility_total\": 1.975, \"educ_expected_yrs_f\": 10.70332813, \"hdi\": 0.649, \"fitted_slr\": 2.9360488392284294, \"resid_slr\": -0.9610488392284293}, {\"fertility_total\": 1.265, \"educ_expected_yrs_f\": 11.78481483, \"hdi\": 0.777, \"fitted_slr\": 2.4737434409091654, \"resid_slr\": -1.2087434409091655}, {\"fertility_total\": 2.874, \"educ_expected_yrs_f\": 8.500170707999999, \"hdi\": 0.73, \"fitted_slr\": 3.877837184418205, \"resid_slr\": -1.003837184418205}, {\"fertility_total\": 1.848, \"educ_expected_yrs_f\": 13.21317291, \"hdi\": 0.836, \"fitted_slr\": 1.8631602029304286, \"resid_slr\": -0.015160202930428524}, {\"fertility_total\": 1.56, \"educ_expected_yrs_f\": 12.24310493, \"hdi\": 0.813, \"fitted_slr\": 2.2778372062543384, \"resid_slr\": -0.7178372062543383}, {\"fertility_total\": 5.189, \"educ_expected_yrs_f\": 6.696904658999999, \"hdi\": 0.4429999999999999, \"fitted_slr\": 4.648683121828761, \"resid_slr\": 0.5403168781712386}, {\"fertility_total\": 5.41, \"educ_expected_yrs_f\": 8.191820145, \"hdi\": 0.431, \"fitted_slr\": 4.009648449272118, \"resid_slr\": 1.4003515507278825}, {\"fertility_total\": 2.503, \"educ_expected_yrs_f\": 9.635119438, \"hdi\": 0.585, \"fitted_slr\": 3.392678259491442, \"resid_slr\": -0.8896782594914421}, {\"fertility_total\": 4.572, \"educ_expected_yrs_f\": 8.315596581, \"hdi\": 0.56, \"fitted_slr\": 3.9567374753807893, \"resid_slr\": 0.6152625246192107}, {\"fertility_total\": 1.4988, \"educ_expected_yrs_f\": 13.709587099999998, \"hdi\": 0.928, \"fitted_slr\": 1.6509569831966275, \"resid_slr\": -0.15215698319662763}, {\"fertility_total\": 4.721, \"educ_expected_yrs_f\": 3.848102808, \"hdi\": 0.395, \"fitted_slr\": 5.866466451442718, \"resid_slr\": -1.1454664514427177}, {\"fertility_total\": 5.747000000000001, \"educ_expected_yrs_f\": 4.473656654, \"hdi\": 0.397, \"fitted_slr\": 5.599059630863993, \"resid_slr\": 0.14794036913600817}, {\"fertility_total\": 1.649, \"educ_expected_yrs_f\": 13.05471802, \"hdi\": 0.8490000000000001, \"fitted_slr\": 1.930895248619928, \"resid_slr\": -0.281895248619928}, {\"fertility_total\": 1.69, \"educ_expected_yrs_f\": 13.0906477, \"hdi\": 0.755, \"fitted_slr\": 1.91553631260723, \"resid_slr\": -0.22553631260723006}, {\"fertility_total\": 1.807, \"educ_expected_yrs_f\": 12.70421314, \"hdi\": 0.764, \"fitted_slr\": 2.0807263081801106, \"resid_slr\": -0.2737263081801107}, {\"fertility_total\": 4.205, \"educ_expected_yrs_f\": 8.128657341, \"hdi\": 0.552, \"fitted_slr\": 4.036648786180728, \"resid_slr\": 0.16835121381927198}, {\"fertility_total\": 1.754, \"educ_expected_yrs_f\": 12.51764488, \"hdi\": 0.8079999999999999, \"fitted_slr\": 2.160479035377802, \"resid_slr\": -0.40647903537780206}, {\"fertility_total\": 1.47, \"educ_expected_yrs_f\": 13.5518446, \"hdi\": 0.848, \"fitted_slr\": 1.718387502031834, \"resid_slr\": -0.24838750203183402}, {\"fertility_total\": 1.329, \"educ_expected_yrs_f\": 13.61954403, \"hdi\": 0.885, \"fitted_slr\": 1.689447884048426, \"resid_slr\": -0.360447884048426}, {\"fertility_total\": 1.73, \"educ_expected_yrs_f\": 13.47161579, \"hdi\": 0.939, \"fitted_slr\": 1.7526830804829894, \"resid_slr\": -0.022683080482989393}, {\"fertility_total\": 2.346, \"educ_expected_yrs_f\": 12.15325356, \"hdi\": 0.7509999999999999, \"fitted_slr\": 2.316246160703229, \"resid_slr\": 0.029753839296771112}, {\"fertility_total\": 2.427, \"educ_expected_yrs_f\": 13.219711300000002, \"hdi\": 0.762, \"fitted_slr\": 1.8603652235808747, \"resid_slr\": 0.5666347764191253}, {\"fertility_total\": 2.039, \"educ_expected_yrs_f\": 10.9428196, \"hdi\": 0.67, \"fitted_slr\": 2.8336729159439207, \"resid_slr\": -0.7946729159439205}, {\"fertility_total\": 1.67, \"educ_expected_yrs_f\": 13.53030491, \"hdi\": 0.889, \"fitted_slr\": 1.7275951186998189, \"resid_slr\": -0.057595118699818926}, {\"fertility_total\": 4.247, \"educ_expected_yrs_f\": 7.516855717, \"hdi\": 0.478, \"fitted_slr\": 4.298176915445463, \"resid_slr\": -0.05117691544546332}, {\"fertility_total\": 2.774, \"educ_expected_yrs_f\": 11.43205929, \"hdi\": 0.742, \"fitted_slr\": 2.624536594841643, \"resid_slr\": 0.149463405158357}, {\"fertility_total\": 1.41, \"educ_expected_yrs_f\": 13.74469662, \"hdi\": 0.937, \"fitted_slr\": 1.6359486427071899, \"resid_slr\": -0.22594864270718995}, {\"fertility_total\": 1.88, \"educ_expected_yrs_f\": 13.8239584, \"hdi\": 0.898, \"fitted_slr\": 1.6020664426076467, \"resid_slr\": 0.27793355739235315}, {\"fertility_total\": 3.969, \"educ_expected_yrs_f\": 8.538388252, \"hdi\": 0.6970000000000001, \"fitted_slr\": 3.8615002503609444, \"resid_slr\": 0.10749974963905551}, {\"fertility_total\": 2.06, \"educ_expected_yrs_f\": 13.02663994, \"hdi\": 0.805, \"fitted_slr\": 1.9428978446374652, \"resid_slr\": 0.11710215536253488}, {\"fertility_total\": 1.57, \"educ_expected_yrs_f\": 13.34453487, \"hdi\": 0.946, \"fitted_slr\": 1.8070066291122773, \"resid_slr\": -0.2370066291122772}, {\"fertility_total\": 3.87, \"educ_expected_yrs_f\": 11.91578197, \"hdi\": 0.606, \"fitted_slr\": 2.417758641628292, \"resid_slr\": 1.4522413583717082}, {\"fertility_total\": 1.35, \"educ_expected_yrs_f\": 13.28767872, \"hdi\": 0.8809999999999999, \"fitted_slr\": 1.8313110473475174, \"resid_slr\": -0.4813110473475173}, {\"fertility_total\": 2.063, \"educ_expected_yrs_f\": 13.13885593, \"hdi\": 0.773, \"fitted_slr\": 1.8949286389553794, \"resid_slr\": 0.16807136104462073}, {\"fertility_total\": 2.87, \"educ_expected_yrs_f\": 9.521496773, \"hdi\": 0.657, \"fitted_slr\": 3.441248779499613, \"resid_slr\": -0.5712487794996131}, {\"fertility_total\": 4.7, \"educ_expected_yrs_f\": 6.210740089, \"hdi\": 0.473, \"fitted_slr\": 4.8565049149054245, \"resid_slr\": -0.15650491490542429}, {\"fertility_total\": 2.462, \"educ_expected_yrs_f\": 12.30990696, \"hdi\": 0.68, \"fitted_slr\": 2.2492812017397332, \"resid_slr\": 0.21271879826026696}, {\"fertility_total\": 2.935, \"educ_expected_yrs_f\": 11.44699955, \"hdi\": 0.508, \"fitted_slr\": 2.6181500504206223, \"resid_slr\": 0.31684994957937773}, {\"fertility_total\": 2.46, \"educ_expected_yrs_f\": 9.822359085, \"hdi\": 0.633, \"fitted_slr\": 3.3126385330782617, \"resid_slr\": -0.8526385330782618}, {\"fertility_total\": 1.55, \"educ_expected_yrs_f\": 12.96164417, \"hdi\": 0.85, \"fitted_slr\": 1.970681723384118, \"resid_slr\": -0.420681723384118}, {\"fertility_total\": 1.71, \"educ_expected_yrs_f\": 13.54500961, \"hdi\": 0.946, \"fitted_slr\": 1.7213092696083183, \"resid_slr\": -0.01130926960831835}, {\"fertility_total\": 2.222, \"educ_expected_yrs_f\": 10.93618393, \"hdi\": 0.642, \"fitted_slr\": 2.836509479780041, \"resid_slr\": -0.614509479780041}, {\"fertility_total\": 2.311, \"educ_expected_yrs_f\": 12.41253376, \"hdi\": 0.7120000000000001, \"fitted_slr\": 2.205411107311173, \"resid_slr\": 0.10558889268882687}, {\"fertility_total\": 3.672, \"educ_expected_yrs_f\": 7.038986206000001, \"hdi\": 0.6709999999999999, \"fitted_slr\": 4.5024528021738774, \"resid_slr\": -0.8304528021738773}, {\"fertility_total\": 1.75, \"educ_expected_yrs_f\": 13.92032051, \"hdi\": 0.951, \"fitted_slr\": 1.5608743284129605, \"resid_slr\": 0.18912567158703952}, {\"fertility_total\": 3.09, \"educ_expected_yrs_f\": 13.90762043, \"hdi\": 0.916, \"fitted_slr\": 1.5663032583693683, \"resid_slr\": 1.5236967416306315}, {\"fertility_total\": 1.29, \"educ_expected_yrs_f\": 13.31961727, \"hdi\": 0.89, \"fitted_slr\": 1.8176582080851487, \"resid_slr\": -0.5276582080851486}, {\"fertility_total\": 1.979, \"educ_expected_yrs_f\": 11.82789326, \"hdi\": 0.7340000000000001, \"fitted_slr\": 2.4553286136716985, \"resid_slr\": -0.47632861367169843}, {\"fertility_total\": 2.761, \"educ_expected_yrs_f\": 11.72220421, \"hdi\": 0.728, \"fitted_slr\": 2.5005077345598563, \"resid_slr\": 0.2604922654401438}, {\"fertility_total\": 2.84, \"educ_expected_yrs_f\": 13.86884308, \"hdi\": 0.8190000000000001, \"fitted_slr\": 1.5828794938769484, \"resid_slr\": 1.2571205061230515}, {\"fertility_total\": 3.492, \"educ_expected_yrs_f\": 11.30184937, \"hdi\": 0.599, \"fitted_slr\": 2.68019770369367, \"resid_slr\": 0.8118022963063298}, {\"fertility_total\": 3.569, \"educ_expected_yrs_f\": 11.82059479, \"hdi\": 0.628, \"fitted_slr\": 2.458448506020325, \"resid_slr\": 1.110551493979675}, {\"fertility_total\": 2.082, \"educ_expected_yrs_f\": 12.40283394, \"hdi\": 0.807, \"fitted_slr\": 2.2095575098038944, \"resid_slr\": -0.12755750980389458}, {\"fertility_total\": 1.6, \"educ_expected_yrs_f\": 13.7176199, \"hdi\": 0.863, \"fitted_slr\": 1.647523185255682, \"resid_slr\": -0.04752318525568189}, {\"fertility_total\": 3.141, \"educ_expected_yrs_f\": 10.41264439, \"hdi\": 0.522, \"fitted_slr\": 3.0603080300308982, \"resid_slr\": 0.08069196996910177}, {\"fertility_total\": 4.315, \"educ_expected_yrs_f\": 4.166073798999999, \"hdi\": 0.48, \"fitted_slr\": 5.730542721961601, \"resid_slr\": -1.415542721961601}, {\"fertility_total\": 1.63, \"educ_expected_yrs_f\": 13.88928127, \"hdi\": 0.8759999999999999, \"fitted_slr\": 1.5741427377348016, \"resid_slr\": 0.05585726226519827}, {\"fertility_total\": 1.38, \"educ_expected_yrs_f\": 12.47436428, \"hdi\": 0.913, \"fitted_slr\": 2.1789802846511375, \"resid_slr\": -0.7989802846511376}, {\"fertility_total\": 4.077, \"educ_expected_yrs_f\": 8.609224318999999, \"hdi\": 0.527, \"fitted_slr\": 3.8312198075503168, \"resid_slr\": 0.2457801924496832}, {\"fertility_total\": 4.209, \"educ_expected_yrs_f\": 9.583486557, \"hdi\": 0.478, \"fitted_slr\": 3.414749875921932, \"resid_slr\": 0.7942501240780677}, {\"fertility_total\": 2.001, \"educ_expected_yrs_f\": 12.68888378, \"hdi\": 0.805, \"fitted_slr\": 2.0872791819979573, \"resid_slr\": -0.08627918199795737}, {\"fertility_total\": 5.877000000000001, \"educ_expected_yrs_f\": 5.42065239, \"hdi\": 0.431, \"fitted_slr\": 5.194245368295508, \"resid_slr\": 0.6827546317044924}, {\"fertility_total\": 1.23, \"educ_expected_yrs_f\": 13.50980282, \"hdi\": 0.894, \"fitted_slr\": 1.736359190309601, \"resid_slr\": -0.506359190309601}, {\"fertility_total\": 4.561, \"educ_expected_yrs_f\": 7.564128876, \"hdi\": 0.542, \"fitted_slr\": 4.277968958564159, \"resid_slr\": 0.2830310414358408}, {\"fertility_total\": 1.41, \"educ_expected_yrs_f\": 12.77645302, \"hdi\": 0.8009999999999999, \"fitted_slr\": 2.049845774468567, \"resid_slr\": -0.639845774468567}, {\"fertility_total\": 2.129, \"educ_expected_yrs_f\": 12.97874069, \"hdi\": 0.7759999999999999, \"fitted_slr\": 1.9633734379577013, \"resid_slr\": 0.16562656204229875}, {\"fertility_total\": 2.895, \"educ_expected_yrs_f\": 13.25112915, \"hdi\": 0.735, \"fitted_slr\": 1.8469349690446106, \"resid_slr\": 1.0480650309553894}, {\"fertility_total\": 1.745, \"educ_expected_yrs_f\": 12.64217091, \"hdi\": 0.826, \"fitted_slr\": 2.1072476309599146, \"resid_slr\": -0.3622476309599145}, {\"fertility_total\": 2.415, \"educ_expected_yrs_f\": 10.41762161, \"hdi\": 0.68, \"fitted_slr\": 3.0581804073105983, \"resid_slr\": -0.6431804073105982}, {\"fertility_total\": 2.154, \"educ_expected_yrs_f\": 9.829102516, \"hdi\": 0.579, \"fitted_slr\": 3.309755904420421, \"resid_slr\": -1.1557559044204209}, {\"fertility_total\": 3.3960000000000004, \"educ_expected_yrs_f\": 9.723130226, \"hdi\": 0.645, \"fitted_slr\": 3.3550561025081596, \"resid_slr\": 0.0409438974918408}, {\"fertility_total\": 1.917, \"educ_expected_yrs_f\": 12.0131464, \"hdi\": 0.596, \"fitted_slr\": 2.376138063591337, \"resid_slr\": -0.45913806359133713}, {\"fertility_total\": 1.59, \"educ_expected_yrs_f\": 13.92983341, \"hdi\": 0.942, \"fitted_slr\": 1.5568078290064753, \"resid_slr\": 0.03319217099352478}, {\"fertility_total\": 1.71, \"educ_expected_yrs_f\": 13.77946663, \"hdi\": 0.928, \"fitted_slr\": 1.6210854332727926, \"resid_slr\": 0.08891456672720732}, {\"fertility_total\": 2.404, \"educ_expected_yrs_f\": 11.10092926, \"hdi\": 0.659, \"fitted_slr\": 2.766085446449915, \"resid_slr\": -0.36208544644991525}, {\"fertility_total\": 6.912999999999999, \"educ_expected_yrs_f\": 5.059231758, \"hdi\": 0.391, \"fitted_slr\": 5.3487426073623965, \"resid_slr\": 1.5642573926376029}, {\"fertility_total\": 5.3870000000000005, \"educ_expected_yrs_f\": 10.09999943, \"hdi\": 0.534, \"fitted_slr\": 3.1939550298186075, \"resid_slr\": 2.193044970181393}, {\"fertility_total\": 1.496, \"educ_expected_yrs_f\": 11.08503532, \"hdi\": 0.77, \"fitted_slr\": 2.77287966246992, \"resid_slr\": -1.27687966246992}, {\"fertility_total\": 1.56, \"educ_expected_yrs_f\": 13.67211056, \"hdi\": 0.956, \"fitted_slr\": 1.666977158712727, \"resid_slr\": -0.10697715871272684}, {\"fertility_total\": 2.888, \"educ_expected_yrs_f\": 13.10266685, \"hdi\": 0.813, \"fitted_slr\": 1.9103984612326275, \"resid_slr\": 0.9776015387673724}, {\"fertility_total\": 3.51, \"educ_expected_yrs_f\": 8.687153816, \"hdi\": 0.552, \"fitted_slr\": 3.7979071212718765, \"resid_slr\": -0.2879071212718767}, {\"fertility_total\": 2.461, \"educ_expected_yrs_f\": 10.88493347, \"hdi\": 0.812, \"fitted_slr\": 2.858417621899908, \"resid_slr\": -0.3974176218999079}, {\"fertility_total\": 3.564, \"educ_expected_yrs_f\": 9.818692207, \"hdi\": 0.5489999999999999, \"fitted_slr\": 3.3142060211429585, \"resid_slr\": 0.24979397885704158}, {\"fertility_total\": 2.4290000000000003, \"educ_expected_yrs_f\": 11.26677418, \"hdi\": 0.727, \"fitted_slr\": 2.6951913690656744, \"resid_slr\": -0.2661913690656741}, {\"fertility_total\": 2.254, \"educ_expected_yrs_f\": 12.89012051, \"hdi\": 0.7709999999999999, \"fitted_slr\": 2.001256093023201, \"resid_slr\": 0.25274390697679916}, {\"fertility_total\": 2.576, \"educ_expected_yrs_f\": 13.04763317, \"hdi\": 0.711, \"fitted_slr\": 1.9339238243770613, \"resid_slr\": 0.6420761756229387}, {\"fertility_total\": 1.46, \"educ_expected_yrs_f\": 13.45503712, \"hdi\": 0.877, \"fitted_slr\": 1.7597699994788063, \"resid_slr\": -0.29976999947880634}, {\"fertility_total\": 1.42, \"educ_expected_yrs_f\": 13.82900047, \"hdi\": 0.86, \"fitted_slr\": 1.5999110983212088, \"resid_slr\": -0.17991109832120888}, {\"fertility_total\": 1.866, \"educ_expected_yrs_f\": 12.7883606, \"hdi\": 0.845, \"fitted_slr\": 2.0447556161569405, \"resid_slr\": -0.17875561615694036}, {\"fertility_total\": 1.76, \"educ_expected_yrs_f\": 11.98094845, \"hdi\": 0.823, \"fitted_slr\": 2.389901789118257, \"resid_slr\": -0.629901789118257}, {\"fertility_total\": 1.579, \"educ_expected_yrs_f\": 13.68534756, \"hdi\": 0.823, \"fitted_slr\": 1.6613187104326397, \"resid_slr\": -0.08231871043263972}, {\"fertility_total\": 4.044, \"educ_expected_yrs_f\": 6.980305195, \"hdi\": 0.54, \"fitted_slr\": 4.5275372975857335, \"resid_slr\": -0.48353729758573394}, {\"fertility_total\": 3.877, \"educ_expected_yrs_f\": 12.44684696, \"hdi\": 0.7090000000000001, \"fitted_slr\": 2.190743171409965, \"resid_slr\": 1.6862568285900346}, {\"fertility_total\": 2.319, \"educ_expected_yrs_f\": 12.26758575, \"hdi\": 0.8540000000000001, \"fitted_slr\": 2.267372338548353, \"resid_slr\": 0.0516276614516471}, {\"fertility_total\": 4.625, \"educ_expected_yrs_f\": 7.849748135, \"hdi\": 0.516, \"fitted_slr\": 4.155874692125517, \"resid_slr\": 0.46912530787448325}, {\"fertility_total\": 1.49, \"educ_expected_yrs_f\": 13.49239731, \"hdi\": 0.8029999999999999, \"fitted_slr\": 1.7437995603423537, \"resid_slr\": -0.25379956034235374}, {\"fertility_total\": 2.41, \"educ_expected_yrs_f\": 13.53542233, \"hdi\": 0.79, \"fitted_slr\": 1.7254075643901203, \"resid_slr\": 0.6845924356098798}, {\"fertility_total\": 4.263, \"educ_expected_yrs_f\": 9.282006264, \"hdi\": 0.447, \"fitted_slr\": 3.543624291983427, \"resid_slr\": 0.7193757080165728}, {\"fertility_total\": 1.14, \"educ_expected_yrs_f\": 13.90422153, \"hdi\": 0.936, \"fitted_slr\": 1.567756193313781, \"resid_slr\": -0.427756193313781}, {\"fertility_total\": 1.61, \"educ_expected_yrs_f\": 13.71750641, \"hdi\": 0.912, \"fitted_slr\": 1.6475716990651033, \"resid_slr\": -0.03757169906510316}, {\"fertility_total\": 4.4030000000000005, \"educ_expected_yrs_f\": 8.841700553999999, \"hdi\": 0.564, \"fitted_slr\": 3.7318427015522144, \"resid_slr\": 0.671157298447786}, {\"fertility_total\": 2.405, \"educ_expected_yrs_f\": 10.11397743, \"hdi\": 0.7070000000000001, \"fitted_slr\": 3.1879798247072486, \"resid_slr\": -0.7829798247072488}, {\"fertility_total\": 4.696000000000001, \"educ_expected_yrs_f\": 3.916237831, \"hdi\": 0.429, \"fitted_slr\": 5.8373406296018135, \"resid_slr\": -1.141340629601813}, {\"fertility_total\": 1.26, \"educ_expected_yrs_f\": 13.08606815, \"hdi\": 0.905, \"fitted_slr\": 1.917493942494748, \"resid_slr\": -0.6574939424947479}, {\"fertility_total\": 2.199, \"educ_expected_yrs_f\": 13.11488724, \"hdi\": 0.779, \"fitted_slr\": 1.905174585371217, \"resid_slr\": 0.29382541462878287}, {\"fertility_total\": 4.407, \"educ_expected_yrs_f\": 6.943500996, \"hdi\": 0.506, \"fitted_slr\": 4.543270066077954, \"resid_slr\": -0.13627006607795433}, {\"fertility_total\": 1.76, \"educ_expected_yrs_f\": 13.90402126, \"hdi\": 0.943, \"fitted_slr\": 1.5678418031526453, \"resid_slr\": 0.1921581968473547}, {\"fertility_total\": 1.52, \"educ_expected_yrs_f\": 13.21845913, \"hdi\": 0.955, \"fitted_slr\": 1.8609004913290723, \"resid_slr\": -0.3409004913290723}, {\"fertility_total\": 3.585, \"educ_expected_yrs_f\": 10.43918705, \"hdi\": 0.6609999999999999, \"fitted_slr\": 3.0489617832358595, \"resid_slr\": 0.5360382167641404}, {\"fertility_total\": 1.525, \"educ_expected_yrs_f\": 12.644207000000002, \"hdi\": 0.772, \"fitted_slr\": 2.106377259277614, \"resid_slr\": -0.5813772592776143}, {\"fertility_total\": 4.023, \"educ_expected_yrs_f\": 10.87477875, \"hdi\": 0.599, \"fitted_slr\": 2.862758481454094, \"resid_slr\": 1.1602415185459058}, {\"fertility_total\": 4.32, \"educ_expected_yrs_f\": 9.123530388, \"hdi\": 0.51, \"fitted_slr\": 3.6113683086025623, \"resid_slr\": 0.708631691397438}, {\"fertility_total\": 3.556, \"educ_expected_yrs_f\": 11.83284092, \"hdi\": 0.723, \"fitted_slr\": 2.45321362702688, \"resid_slr\": 1.10278637297312}, {\"fertility_total\": 2.197, \"educ_expected_yrs_f\": 10.95233727, \"hdi\": 0.738, \"fitted_slr\": 2.8296043774954858, \"resid_slr\": -0.6326043774954857}, {\"fertility_total\": 2.069, \"educ_expected_yrs_f\": 11.99552917, \"hdi\": 0.8170000000000001, \"fitted_slr\": 2.3836689380185794, \"resid_slr\": -0.3146689380185794}, {\"fertility_total\": 1.301, \"educ_expected_yrs_f\": 13.00567055, \"hdi\": 0.774, \"fitted_slr\": 1.9518616739628396, \"resid_slr\": -0.6508616739628397}, {\"fertility_total\": 1.413, \"educ_expected_yrs_f\": 13.1702652, \"hdi\": 0.889, \"fitted_slr\": 1.881502052129793, \"resid_slr\": -0.4685020521297929}, {\"fertility_total\": 1.68, \"educ_expected_yrs_f\": 13.85765934, \"hdi\": 0.928, \"fitted_slr\": 1.5876602307786587, \"resid_slr\": 0.09233976922134124}, {\"fertility_total\": 1.7295, \"educ_expected_yrs_f\": 12.93639374, \"hdi\": 0.925, \"fitted_slr\": 1.9814755778983553, \"resid_slr\": -0.25197557789835523}, {\"fertility_total\": 1.973, \"educ_expected_yrs_f\": 12.47761631, \"hdi\": 0.816, \"fitted_slr\": 2.177590132535077, \"resid_slr\": -0.20459013253507696}, {\"fertility_total\": 2.604, \"educ_expected_yrs_f\": 12.00484753, \"hdi\": 0.7170000000000001, \"fitted_slr\": 2.379685599035786, \"resid_slr\": 0.22431440096421396}, {\"fertility_total\": 3.782, \"educ_expected_yrs_f\": 10.13373089, \"hdi\": 0.603, \"fitted_slr\": 3.179535771540914, \"resid_slr\": 0.6024642284590862}, {\"fertility_total\": 4.633, \"educ_expected_yrs_f\": 8.745135307, \"hdi\": 0.5820000000000001, \"fitted_slr\": 3.7731216511482963, \"resid_slr\": 0.8598783488517037}, {\"fertility_total\": 3.615, \"educ_expected_yrs_f\": 10.97491837, \"hdi\": 0.569, \"fitted_slr\": 2.819951587100572, \"resid_slr\": 0.7950484128994284}]}}, {\"mode\": \"vega-lite\"});\n",
       "</script>"
      ],
      "text/plain": [
       "alt.LayerChart(...)"
      ]
     },
     "execution_count": 33,
     "metadata": {},
     "output_type": "execute_result"
    }
   ],
   "source": [
    "# construct line plot\n",
    "slr_line = alt.Chart(reg_data).mark_line().encode(\n",
    "    x = 'educ_expected_yrs_f',\n",
    "    y = 'fitted_slr'\n",
    ")\n",
    "\n",
    "# layer\n",
    "scatter_educ + slr_line"
   ]
  },
  {
   "attachments": {},
   "cell_type": "markdown",
   "metadata": {},
   "source": [
    "To obtain uncertainty bands about the estimated mean, we'll compute predictions at each observed value using `.get_prediction()` -- this method by default returns standard errors associated with each prediction."
   ]
  },
  {
   "cell_type": "code",
   "execution_count": 34,
   "metadata": {},
   "outputs": [],
   "source": [
    "preds = rslt.get_prediction(x)"
   ]
  },
  {
   "attachments": {},
   "cell_type": "markdown",
   "metadata": {},
   "source": [
    "The predictions are stored as `.predicted_mean`. Since we computed predictions at the observed values, the predictions should match the fitted values:"
   ]
  },
  {
   "cell_type": "code",
   "execution_count": 35,
   "metadata": {},
   "outputs": [
    {
     "data": {
      "text/plain": [
       "True"
      ]
     },
     "execution_count": 35,
     "metadata": {},
     "output_type": "execute_result"
    }
   ],
   "source": [
    "(preds.predicted_mean == rslt.fittedvalues).all()"
   ]
  },
  {
   "attachments": {},
   "cell_type": "markdown",
   "metadata": {},
   "source": [
    "Standard errors are stored as `.se_mean`. Uncertainty bands are typically drawn $2SE$ in either direction from the fitted values; so we'll append those values to the original data. "
   ]
  },
  {
   "cell_type": "code",
   "execution_count": 36,
   "metadata": {},
   "outputs": [
    {
     "data": {
      "text/html": [
       "<div>\n",
       "<style scoped>\n",
       "    .dataframe tbody tr th:only-of-type {\n",
       "        vertical-align: middle;\n",
       "    }\n",
       "\n",
       "    .dataframe tbody tr th {\n",
       "        vertical-align: top;\n",
       "    }\n",
       "\n",
       "    .dataframe thead th {\n",
       "        text-align: right;\n",
       "    }\n",
       "</style>\n",
       "<table border=\"1\" class=\"dataframe\">\n",
       "  <thead>\n",
       "    <tr style=\"text-align: right;\">\n",
       "      <th></th>\n",
       "      <th>fertility_total</th>\n",
       "      <th>educ_expected_yrs_f</th>\n",
       "      <th>hdi</th>\n",
       "      <th>fitted_slr</th>\n",
       "      <th>resid_slr</th>\n",
       "      <th>lwr_mean</th>\n",
       "      <th>upr_mean</th>\n",
       "    </tr>\n",
       "    <tr>\n",
       "      <th>Country</th>\n",
       "      <th></th>\n",
       "      <th></th>\n",
       "      <th></th>\n",
       "      <th></th>\n",
       "      <th></th>\n",
       "      <th></th>\n",
       "      <th></th>\n",
       "    </tr>\n",
       "  </thead>\n",
       "  <tbody>\n",
       "    <tr>\n",
       "      <th>Afghanistan</th>\n",
       "      <td>4.473</td>\n",
       "      <td>6.795722</td>\n",
       "      <td>0.509</td>\n",
       "      <td>4.606441</td>\n",
       "      <td>-0.133441</td>\n",
       "      <td>4.371882</td>\n",
       "      <td>4.841001</td>\n",
       "    </tr>\n",
       "    <tr>\n",
       "      <th>Albania</th>\n",
       "      <td>1.617</td>\n",
       "      <td>13.201755</td>\n",
       "      <td>0.792</td>\n",
       "      <td>1.868041</td>\n",
       "      <td>-0.251041</td>\n",
       "      <td>1.728389</td>\n",
       "      <td>2.007693</td>\n",
       "    </tr>\n",
       "    <tr>\n",
       "      <th>Algeria</th>\n",
       "      <td>3.023</td>\n",
       "      <td>12.108990</td>\n",
       "      <td>0.746</td>\n",
       "      <td>2.335168</td>\n",
       "      <td>0.687832</td>\n",
       "      <td>2.217945</td>\n",
       "      <td>2.452390</td>\n",
       "    </tr>\n",
       "    <tr>\n",
       "      <th>Angola</th>\n",
       "      <td>5.519</td>\n",
       "      <td>6.973901</td>\n",
       "      <td>0.582</td>\n",
       "      <td>4.530275</td>\n",
       "      <td>0.988725</td>\n",
       "      <td>4.302742</td>\n",
       "      <td>4.757808</td>\n",
       "    </tr>\n",
       "    <tr>\n",
       "      <th>Antigua and Barbuda</th>\n",
       "      <td>1.994</td>\n",
       "      <td>12.914441</td>\n",
       "      <td>0.772</td>\n",
       "      <td>1.990860</td>\n",
       "      <td>0.003140</td>\n",
       "      <td>1.858509</td>\n",
       "      <td>2.123210</td>\n",
       "    </tr>\n",
       "  </tbody>\n",
       "</table>\n",
       "</div>"
      ],
      "text/plain": [
       "                     fertility_total  educ_expected_yrs_f    hdi  fitted_slr  \\\n",
       "Country                                                                        \n",
       "Afghanistan                    4.473             6.795722  0.509    4.606441   \n",
       "Albania                        1.617            13.201755  0.792    1.868041   \n",
       "Algeria                        3.023            12.108990  0.746    2.335168   \n",
       "Angola                         5.519             6.973901  0.582    4.530275   \n",
       "Antigua and Barbuda            1.994            12.914441  0.772    1.990860   \n",
       "\n",
       "                     resid_slr  lwr_mean  upr_mean  \n",
       "Country                                             \n",
       "Afghanistan          -0.133441  4.371882  4.841001  \n",
       "Albania              -0.251041  1.728389  2.007693  \n",
       "Algeria               0.687832  2.217945  2.452390  \n",
       "Angola                0.988725  4.302742  4.757808  \n",
       "Antigua and Barbuda   0.003140  1.858509  2.123210  "
      ]
     },
     "execution_count": 36,
     "metadata": {},
     "output_type": "execute_result"
    }
   ],
   "source": [
    "reg_data['lwr_mean'] = preds.predicted_mean - 2*preds.se_mean\n",
    "reg_data['upr_mean'] = preds.predicted_mean + 2*preds.se_mean\n",
    "\n",
    "reg_data.head()"
   ]
  },
  {
   "attachments": {},
   "cell_type": "markdown",
   "metadata": {},
   "source": [
    "We can use these to shade in the area between the lower and upper limits."
   ]
  },
  {
   "cell_type": "code",
   "execution_count": 37,
   "metadata": {},
   "outputs": [
    {
     "data": {
      "text/html": [
       "\n",
       "<div id=\"altair-viz-c1cf6db1a49a4cd79f1e9c6dd42a1d5a\"></div>\n",
       "<script type=\"text/javascript\">\n",
       "  var VEGA_DEBUG = (typeof VEGA_DEBUG == \"undefined\") ? {} : VEGA_DEBUG;\n",
       "  (function(spec, embedOpt){\n",
       "    let outputDiv = document.currentScript.previousElementSibling;\n",
       "    if (outputDiv.id !== \"altair-viz-c1cf6db1a49a4cd79f1e9c6dd42a1d5a\") {\n",
       "      outputDiv = document.getElementById(\"altair-viz-c1cf6db1a49a4cd79f1e9c6dd42a1d5a\");\n",
       "    }\n",
       "    const paths = {\n",
       "      \"vega\": \"https://cdn.jsdelivr.net/npm//vega@5?noext\",\n",
       "      \"vega-lib\": \"https://cdn.jsdelivr.net/npm//vega-lib?noext\",\n",
       "      \"vega-lite\": \"https://cdn.jsdelivr.net/npm//vega-lite@4.17.0?noext\",\n",
       "      \"vega-embed\": \"https://cdn.jsdelivr.net/npm//vega-embed@6?noext\",\n",
       "    };\n",
       "\n",
       "    function maybeLoadScript(lib, version) {\n",
       "      var key = `${lib.replace(\"-\", \"\")}_version`;\n",
       "      return (VEGA_DEBUG[key] == version) ?\n",
       "        Promise.resolve(paths[lib]) :\n",
       "        new Promise(function(resolve, reject) {\n",
       "          var s = document.createElement('script');\n",
       "          document.getElementsByTagName(\"head\")[0].appendChild(s);\n",
       "          s.async = true;\n",
       "          s.onload = () => {\n",
       "            VEGA_DEBUG[key] = version;\n",
       "            return resolve(paths[lib]);\n",
       "          };\n",
       "          s.onerror = () => reject(`Error loading script: ${paths[lib]}`);\n",
       "          s.src = paths[lib];\n",
       "        });\n",
       "    }\n",
       "\n",
       "    function showError(err) {\n",
       "      outputDiv.innerHTML = `<div class=\"error\" style=\"color:red;\">${err}</div>`;\n",
       "      throw err;\n",
       "    }\n",
       "\n",
       "    function displayChart(vegaEmbed) {\n",
       "      vegaEmbed(outputDiv, spec, embedOpt)\n",
       "        .catch(err => showError(`Javascript Error: ${err.message}<br>This usually means there's a typo in your chart specification. See the javascript console for the full traceback.`));\n",
       "    }\n",
       "\n",
       "    if(typeof define === \"function\" && define.amd) {\n",
       "      requirejs.config({paths});\n",
       "      require([\"vega-embed\"], displayChart, err => showError(`Error loading script: ${err.message}`));\n",
       "    } else {\n",
       "      maybeLoadScript(\"vega\", \"5\")\n",
       "        .then(() => maybeLoadScript(\"vega-lite\", \"4.17.0\"))\n",
       "        .then(() => maybeLoadScript(\"vega-embed\", \"6\"))\n",
       "        .catch(showError)\n",
       "        .then(() => displayChart(vegaEmbed));\n",
       "    }\n",
       "  })({\"config\": {\"view\": {\"continuousWidth\": 400, \"continuousHeight\": 300}}, \"layer\": [{\"mark\": \"circle\", \"encoding\": {\"x\": {\"field\": \"educ_expected_yrs_f\", \"scale\": {\"zero\": false}, \"title\": \"Expected years of education for women\", \"type\": \"quantitative\"}, \"y\": {\"field\": \"fertility_total\", \"scale\": {\"zero\": false}, \"title\": \"Fertility rate\", \"type\": \"quantitative\"}}}, {\"mark\": \"line\", \"encoding\": {\"x\": {\"field\": \"educ_expected_yrs_f\", \"type\": \"quantitative\"}, \"y\": {\"field\": \"fitted_slr\", \"type\": \"quantitative\"}}}, {\"mark\": {\"type\": \"area\", \"opacity\": 0.2}, \"encoding\": {\"x\": {\"field\": \"educ_expected_yrs_f\", \"type\": \"quantitative\"}, \"y\": {\"field\": \"lwr_mean\", \"type\": \"quantitative\"}, \"y2\": {\"field\": \"upr_mean\"}}}], \"data\": {\"name\": \"data-e556976c030bd9de44b0118afd44763d\"}, \"$schema\": \"https://vega.github.io/schema/vega-lite/v4.17.0.json\", \"datasets\": {\"data-e556976c030bd9de44b0118afd44763d\": [{\"fertility_total\": 4.473, \"educ_expected_yrs_f\": 6.795722485, \"hdi\": 0.509, \"fitted_slr\": 4.6064412575414115, \"resid_slr\": -0.13344125754141167, \"lwr_mean\": 4.3718816159344485, \"upr_mean\": 4.841000899148375}, {\"fertility_total\": 1.617, \"educ_expected_yrs_f\": 13.20175457, \"hdi\": 0.792, \"fitted_slr\": 1.8680412247884368, \"resid_slr\": -0.2510412247884368, \"lwr_mean\": 1.728389154373095, \"upr_mean\": 2.007693295203779}, {\"fertility_total\": 3.023, \"educ_expected_yrs_f\": 12.10898972, \"hdi\": 0.746, \"fitted_slr\": 2.3351677176510304, \"resid_slr\": 0.6878322823489698, \"lwr_mean\": 2.217945389448825, \"upr_mean\": 2.4523900458532357}, {\"fertility_total\": 5.519, \"educ_expected_yrs_f\": 6.973901272000001, \"hdi\": 0.5820000000000001, \"fitted_slr\": 4.530274796043477, \"resid_slr\": 0.9887252039565233, \"lwr_mean\": 4.302741607889784, \"upr_mean\": 4.75780798419717}, {\"fertility_total\": 1.994, \"educ_expected_yrs_f\": 12.91444111, \"hdi\": 0.772, \"fitted_slr\": 1.9908597148981957, \"resid_slr\": 0.0031402851018043076, \"lwr_mean\": 1.8585089607395104, \"upr_mean\": 2.123210469056881}, {\"fertility_total\": 2.261, \"educ_expected_yrs_f\": 13.06125259, \"hdi\": 0.8420000000000001, \"fitted_slr\": 1.9281019022138226, \"resid_slr\": 0.3328980977861775, \"lwr_mean\": 1.7921257081435793, \"upr_mean\": 2.064078096284066}, {\"fertility_total\": 1.755, \"educ_expected_yrs_f\": 11.62581253, \"hdi\": 0.7709999999999999, \"fitted_slr\": 2.541712489104746, \"resid_slr\": -0.7867124891047461, \"lwr_mean\": 2.4288246294441955, \"upr_mean\": 2.6546003487652965}, {\"fertility_total\": 1.74, \"educ_expected_yrs_f\": 13.62022209, \"hdi\": 0.943, \"fitted_slr\": 1.6891580323115674, \"resid_slr\": 0.05084196768843263, \"lwr_mean\": 1.5375120462222207, \"upr_mean\": 1.840804018400914}, {\"fertility_total\": 1.47, \"educ_expected_yrs_f\": 13.46689415, \"hdi\": 0.921, \"fitted_slr\": 1.7547014498821878, \"resid_slr\": -0.2847014498821878, \"lwr_mean\": 1.6076177922958834, \"upr_mean\": 1.9017851074684922}, {\"fertility_total\": 1.73, \"educ_expected_yrs_f\": 12.44501495, \"hdi\": 0.754, \"fitted_slr\": 2.191526304584673, \"resid_slr\": -0.46152630458467314, \"lwr_mean\": 2.069071777037232, \"upr_mean\": 2.3139808321321143}, {\"fertility_total\": 1.987, \"educ_expected_yrs_f\": 13.27036572, \"hdi\": 0.852, \"fitted_slr\": 1.8387118719356534, \"resid_slr\": 0.14828812806434666, \"lwr_mean\": 1.697196248681253, \"upr_mean\": 1.9802274951900538}, {\"fertility_total\": 2.036, \"educ_expected_yrs_f\": 10.52187443, \"hdi\": 0.625, \"fitted_slr\": 3.0136152346866476, \"resid_slr\": -0.9776152346866476, \"lwr_mean\": 2.8951598540207177, \"upr_mean\": 3.1320706153525775}, {\"fertility_total\": 1.4480000000000002, \"educ_expected_yrs_f\": 13.75893879, \"hdi\": 0.823, \"fitted_slr\": 1.6298605122893297, \"resid_slr\": -0.18186051228932953, \"lwr_mean\": 1.473937443337733, \"upr_mean\": 1.7857835812409264}, {\"fertility_total\": 1.62, \"educ_expected_yrs_f\": 13.56679726, \"hdi\": 0.93, \"fitted_slr\": 1.7119956569566872, \"resid_slr\": -0.0919956569566871, \"lwr_mean\": 1.5619598063975149, \"upr_mean\": 1.8620315075158596}, {\"fertility_total\": 4.836, \"educ_expected_yrs_f\": 8.782134056, \"hdi\": 0.541, \"fitted_slr\": 3.757305717957662, \"resid_slr\": 1.0786942820423384, \"lwr_mean\": 3.5956486858341217, \"upr_mean\": 3.918962750081202}, {\"fertility_total\": 1.975, \"educ_expected_yrs_f\": 10.70332813, \"hdi\": 0.649, \"fitted_slr\": 2.9360488392284294, \"resid_slr\": -0.9610488392284293, \"lwr_mean\": 2.8199488656482403, \"upr_mean\": 3.0521488128086185}, {\"fertility_total\": 1.265, \"educ_expected_yrs_f\": 11.78481483, \"hdi\": 0.777, \"fitted_slr\": 2.4737434409091654, \"resid_slr\": -1.2087434409091655, \"lwr_mean\": 2.3598708863222306, \"upr_mean\": 2.5876159954961}, {\"fertility_total\": 2.874, \"educ_expected_yrs_f\": 8.500170707999999, \"hdi\": 0.73, \"fitted_slr\": 3.877837184418205, \"resid_slr\": -1.003837184418205, \"lwr_mean\": 3.706796937622223, \"upr_mean\": 4.048877431214187}, {\"fertility_total\": 1.848, \"educ_expected_yrs_f\": 13.21317291, \"hdi\": 0.836, \"fitted_slr\": 1.8631602029304286, \"resid_slr\": -0.015160202930428524, \"lwr_mean\": 1.7232010263840398, \"upr_mean\": 2.0031193794768174}, {\"fertility_total\": 1.56, \"educ_expected_yrs_f\": 12.24310493, \"hdi\": 0.813, \"fitted_slr\": 2.2778372062543384, \"resid_slr\": -0.7178372062543383, \"lwr_mean\": 2.1587302731925577, \"upr_mean\": 2.396944139316119}, {\"fertility_total\": 5.189, \"educ_expected_yrs_f\": 6.696904658999999, \"hdi\": 0.4429999999999999, \"fitted_slr\": 4.648683121828761, \"resid_slr\": 0.5403168781712386, \"lwr_mean\": 4.410199028336141, \"upr_mean\": 4.887167215321382}, {\"fertility_total\": 5.41, \"educ_expected_yrs_f\": 8.191820145, \"hdi\": 0.431, \"fitted_slr\": 4.009648449272118, \"resid_slr\": 1.4003515507278825, \"lwr_mean\": 3.8278814507695493, \"upr_mean\": 4.191415447774686}, {\"fertility_total\": 2.503, \"educ_expected_yrs_f\": 9.635119438, \"hdi\": 0.585, \"fitted_slr\": 3.392678259491442, \"resid_slr\": -0.8896782594914421, \"lwr_mean\": 3.25607683520378, \"upr_mean\": 3.5292796837791043}, {\"fertility_total\": 4.572, \"educ_expected_yrs_f\": 8.315596581, \"hdi\": 0.56, \"fitted_slr\": 3.9567374753807893, \"resid_slr\": 0.6152625246192107, \"lwr_mean\": 3.7793295030964162, \"upr_mean\": 4.134145447665163}, {\"fertility_total\": 1.4988, \"educ_expected_yrs_f\": 13.709587099999998, \"hdi\": 0.928, \"fitted_slr\": 1.6509569831966275, \"resid_slr\": -0.15215698319662763, \"lwr_mean\": 1.4965710837972288, \"upr_mean\": 1.8053428825960263}, {\"fertility_total\": 4.721, \"educ_expected_yrs_f\": 3.848102808, \"hdi\": 0.395, \"fitted_slr\": 5.866466451442718, \"resid_slr\": -1.1454664514427177, \"lwr_mean\": 5.509411386672244, \"upr_mean\": 6.223521516213192}, {\"fertility_total\": 5.747000000000001, \"educ_expected_yrs_f\": 4.473656654, \"hdi\": 0.397, \"fitted_slr\": 5.599059630863993, \"resid_slr\": 0.14794036913600817, \"lwr_mean\": 5.268679009329624, \"upr_mean\": 5.929440252398361}, {\"fertility_total\": 1.649, \"educ_expected_yrs_f\": 13.05471802, \"hdi\": 0.8490000000000001, \"fitted_slr\": 1.930895248619928, \"resid_slr\": -0.281895248619928, \"lwr_mean\": 1.7950852348017825, \"upr_mean\": 2.0667052624380733}, {\"fertility_total\": 1.69, \"educ_expected_yrs_f\": 13.0906477, \"hdi\": 0.755, \"fitted_slr\": 1.91553631260723, \"resid_slr\": -0.22553631260723006, \"lwr_mean\": 1.7788072083990178, \"upr_mean\": 2.052265416815442}, {\"fertility_total\": 1.807, \"educ_expected_yrs_f\": 12.70421314, \"hdi\": 0.764, \"fitted_slr\": 2.0807263081801106, \"resid_slr\": -0.2737263081801107, \"lwr_mean\": 1.9531468722779066, \"upr_mean\": 2.2083057440823146}, {\"fertility_total\": 4.205, \"educ_expected_yrs_f\": 8.128657341, \"hdi\": 0.552, \"fitted_slr\": 4.036648786180728, \"resid_slr\": 0.16835121381927198, \"lwr_mean\": 3.8526318625604903, \"upr_mean\": 4.220665709800966}, {\"fertility_total\": 1.754, \"educ_expected_yrs_f\": 12.51764488, \"hdi\": 0.8079999999999999, \"fitted_slr\": 2.160479035377802, \"resid_slr\": -0.40647903537780206, \"lwr_mean\": 2.0366784410279504, \"upr_mean\": 2.2842796297276537}, {\"fertility_total\": 1.47, \"educ_expected_yrs_f\": 13.5518446, \"hdi\": 0.848, \"fitted_slr\": 1.718387502031834, \"resid_slr\": -0.24838750203183402, \"lwr_mean\": 1.5687984467214953, \"upr_mean\": 1.8679765573421727}, {\"fertility_total\": 1.329, \"educ_expected_yrs_f\": 13.61954403, \"hdi\": 0.885, \"fitted_slr\": 1.689447884048426, \"resid_slr\": -0.360447884048426, \"lwr_mean\": 1.5378224665317537, \"upr_mean\": 1.8410733015650982}, {\"fertility_total\": 1.73, \"educ_expected_yrs_f\": 13.47161579, \"hdi\": 0.939, \"fitted_slr\": 1.7526830804829894, \"resid_slr\": -0.022683080482989393, \"lwr_mean\": 1.605461670170096, \"upr_mean\": 1.8999044907958829}, {\"fertility_total\": 2.346, \"educ_expected_yrs_f\": 12.15325356, \"hdi\": 0.7509999999999999, \"fitted_slr\": 2.316246160703229, \"resid_slr\": 0.029753839296771112, \"lwr_mean\": 2.198432856030835, \"upr_mean\": 2.434059465375623}, {\"fertility_total\": 2.427, \"educ_expected_yrs_f\": 13.219711300000002, \"hdi\": 0.762, \"fitted_slr\": 1.8603652235808747, \"resid_slr\": 0.5666347764191253, \"lwr_mean\": 1.7202296416093763, \"upr_mean\": 2.0005008055523734}, {\"fertility_total\": 2.039, \"educ_expected_yrs_f\": 10.9428196, \"hdi\": 0.67, \"fitted_slr\": 2.8336729159439207, \"resid_slr\": -0.7946729159439205, \"lwr_mean\": 2.71985176551952, \"upr_mean\": 2.9474940663683213}, {\"fertility_total\": 1.67, \"educ_expected_yrs_f\": 13.53030491, \"hdi\": 0.889, \"fitted_slr\": 1.7275951186998189, \"resid_slr\": -0.057595118699818926, \"lwr_mean\": 1.5786466676520048, \"upr_mean\": 1.876543569747633}, {\"fertility_total\": 4.247, \"educ_expected_yrs_f\": 7.516855717, \"hdi\": 0.478, \"fitted_slr\": 4.298176915445463, \"resid_slr\": -0.05117691544546332, \"lwr_mean\": 4.091599030913178, \"upr_mean\": 4.504754799977748}, {\"fertility_total\": 2.774, \"educ_expected_yrs_f\": 11.43205929, \"hdi\": 0.742, \"fitted_slr\": 2.624536594841643, \"resid_slr\": 0.149463405158357, \"lwr_mean\": 2.512239143438776, \"upr_mean\": 2.73683404624451}, {\"fertility_total\": 1.41, \"educ_expected_yrs_f\": 13.74469662, \"hdi\": 0.937, \"fitted_slr\": 1.6359486427071899, \"resid_slr\": -0.22594864270718995, \"lwr_mean\": 1.4804708917951328, \"upr_mean\": 1.791426393619247}, {\"fertility_total\": 1.88, \"educ_expected_yrs_f\": 13.8239584, \"hdi\": 0.898, \"fitted_slr\": 1.6020664426076467, \"resid_slr\": 0.27793355739235315, \"lwr_mean\": 1.4440931081535715, \"upr_mean\": 1.760039777061722}, {\"fertility_total\": 3.969, \"educ_expected_yrs_f\": 8.538388252, \"hdi\": 0.6970000000000001, \"fitted_slr\": 3.8615002503609444, \"resid_slr\": 0.10749974963905551, \"lwr_mean\": 3.691757283502228, \"upr_mean\": 4.031243217219661}, {\"fertility_total\": 2.06, \"educ_expected_yrs_f\": 13.02663994, \"hdi\": 0.805, \"fitted_slr\": 1.9428978446374652, \"resid_slr\": 0.11710215536253488, \"lwr_mean\": 1.807796886605024, \"upr_mean\": 2.077998802669906}, {\"fertility_total\": 1.57, \"educ_expected_yrs_f\": 13.34453487, \"hdi\": 0.946, \"fitted_slr\": 1.8070066291122773, \"resid_slr\": -0.2370066291122772, \"lwr_mean\": 1.6634286136846124, \"upr_mean\": 1.9505846445399422}, {\"fertility_total\": 3.87, \"educ_expected_yrs_f\": 11.91578197, \"hdi\": 0.606, \"fitted_slr\": 2.417758641628292, \"resid_slr\": 1.4522413583717082, \"lwr_mean\": 2.3027447744766394, \"upr_mean\": 2.5327725087799444}, {\"fertility_total\": 1.35, \"educ_expected_yrs_f\": 13.28767872, \"hdi\": 0.8809999999999999, \"fitted_slr\": 1.8313110473475174, \"resid_slr\": -0.4813110473475173, \"lwr_mean\": 1.6893183845953297, \"upr_mean\": 1.973303710099705}, {\"fertility_total\": 2.063, \"educ_expected_yrs_f\": 13.13885593, \"hdi\": 0.773, \"fitted_slr\": 1.8949286389553794, \"resid_slr\": 0.16807136104462073, \"lwr_mean\": 1.7569460502617371, \"upr_mean\": 2.0329112276490218}, {\"fertility_total\": 2.87, \"educ_expected_yrs_f\": 9.521496773, \"hdi\": 0.657, \"fitted_slr\": 3.441248779499613, \"resid_slr\": -0.5712487794996131, \"lwr_mean\": 3.301662315037357, \"upr_mean\": 3.5808352439618694}, {\"fertility_total\": 4.7, \"educ_expected_yrs_f\": 6.210740089, \"hdi\": 0.473, \"fitted_slr\": 4.8565049149054245, \"resid_slr\": -0.15650491490542429, \"lwr_mean\": 4.598460453597995, \"upr_mean\": 5.114549376212854}, {\"fertility_total\": 2.462, \"educ_expected_yrs_f\": 12.30990696, \"hdi\": 0.68, \"fitted_slr\": 2.2492812017397332, \"resid_slr\": 0.21271879826026696, \"lwr_mean\": 2.1291328356904597, \"upr_mean\": 2.3694295677890067}, {\"fertility_total\": 2.935, \"educ_expected_yrs_f\": 11.44699955, \"hdi\": 0.508, \"fitted_slr\": 2.6181500504206223, \"resid_slr\": 0.31684994957937773, \"lwr_mean\": 2.505831170264854, \"upr_mean\": 2.7304689305763907}, {\"fertility_total\": 2.46, \"educ_expected_yrs_f\": 9.822359085, \"hdi\": 0.633, \"fitted_slr\": 3.3126385330782617, \"resid_slr\": -0.8526385330782618, \"lwr_mean\": 3.180668675447936, \"upr_mean\": 3.4446083907085874}, {\"fertility_total\": 1.55, \"educ_expected_yrs_f\": 12.96164417, \"hdi\": 0.85, \"fitted_slr\": 1.970681723384118, \"resid_slr\": -0.420681723384118, \"lwr_mean\": 1.8371904220620463, \"upr_mean\": 2.10417302470619}, {\"fertility_total\": 1.71, \"educ_expected_yrs_f\": 13.54500961, \"hdi\": 0.946, \"fitted_slr\": 1.7213092696083183, \"resid_slr\": -0.01130926960831835, \"lwr_mean\": 1.5719238785907335, \"upr_mean\": 1.8706946606259032}, {\"fertility_total\": 2.222, \"educ_expected_yrs_f\": 10.93618393, \"hdi\": 0.642, \"fitted_slr\": 2.836509479780041, \"resid_slr\": -0.614509479780041, \"lwr_mean\": 2.7226383862184567, \"upr_mean\": 2.9503805733416253}, {\"fertility_total\": 2.311, \"educ_expected_yrs_f\": 12.41253376, \"hdi\": 0.7120000000000001, \"fitted_slr\": 2.205411107311173, \"resid_slr\": 0.10558889268882687, \"lwr_mean\": 2.0835348554706514, \"upr_mean\": 2.3272873591516947}, {\"fertility_total\": 3.672, \"educ_expected_yrs_f\": 7.038986206000001, \"hdi\": 0.6709999999999999, \"fitted_slr\": 4.5024528021738774, \"resid_slr\": -0.8304528021738773, \"lwr_mean\": 4.277469314960029, \"upr_mean\": 4.727436289387726}, {\"fertility_total\": 1.75, \"educ_expected_yrs_f\": 13.92032051, \"hdi\": 0.951, \"fitted_slr\": 1.5608743284129605, \"resid_slr\": 0.18912567158703952, \"lwr_mean\": 1.399812119342713, \"upr_mean\": 1.7219365374832079}, {\"fertility_total\": 3.09, \"educ_expected_yrs_f\": 13.90762043, \"hdi\": 0.916, \"fitted_slr\": 1.5663032583693683, \"resid_slr\": 1.5236967416306315, \"lwr_mean\": 1.4056514828306115, \"upr_mean\": 1.7269550339081252}, {\"fertility_total\": 1.29, \"educ_expected_yrs_f\": 13.31961727, \"hdi\": 0.89, \"fitted_slr\": 1.8176582080851487, \"resid_slr\": -0.5276582080851486, \"lwr_mean\": 1.6747784886301218, \"upr_mean\": 1.9605379275401755}, {\"fertility_total\": 1.979, \"educ_expected_yrs_f\": 11.82789326, \"hdi\": 0.7340000000000001, \"fitted_slr\": 2.4553286136716985, \"resid_slr\": -0.47632861367169843, \"lwr_mean\": 2.3411131306792154, \"upr_mean\": 2.5695440966641816}, {\"fertility_total\": 2.761, \"educ_expected_yrs_f\": 11.72220421, \"hdi\": 0.728, \"fitted_slr\": 2.5005077345598563, \"resid_slr\": 0.2604922654401438, \"lwr_mean\": 2.3870760490313714, \"upr_mean\": 2.6139394200883412}, {\"fertility_total\": 2.84, \"educ_expected_yrs_f\": 13.86884308, \"hdi\": 0.8190000000000001, \"fitted_slr\": 1.5828794938769484, \"resid_slr\": 1.2571205061230515, \"lwr_mean\": 1.423474694073141, \"upr_mean\": 1.7422842936807557}, {\"fertility_total\": 3.492, \"educ_expected_yrs_f\": 11.30184937, \"hdi\": 0.599, \"fitted_slr\": 2.68019770369367, \"resid_slr\": 0.8118022963063298, \"lwr_mean\": 2.5679157175515757, \"upr_mean\": 2.7924796898357647}, {\"fertility_total\": 3.569, \"educ_expected_yrs_f\": 11.82059479, \"hdi\": 0.628, \"fitted_slr\": 2.458448506020325, \"resid_slr\": 1.110551493979675, \"lwr_mean\": 2.344293378922485, \"upr_mean\": 2.572603633118165}, {\"fertility_total\": 2.082, \"educ_expected_yrs_f\": 12.40283394, \"hdi\": 0.807, \"fitted_slr\": 2.2095575098038944, \"resid_slr\": -0.12755750980389458, \"lwr_mean\": 2.087851058615022, \"upr_mean\": 2.331263960992767}, {\"fertility_total\": 1.6, \"educ_expected_yrs_f\": 13.7176199, \"hdi\": 0.863, \"fitted_slr\": 1.647523185255682, \"resid_slr\": -0.04752318525568189, \"lwr_mean\": 1.4928882298179675, \"upr_mean\": 1.8021581406933964}, {\"fertility_total\": 3.141, \"educ_expected_yrs_f\": 10.41264439, \"hdi\": 0.522, \"fitted_slr\": 3.0603080300308982, \"resid_slr\": 0.08069196996910177, \"lwr_mean\": 2.9401877184461624, \"upr_mean\": 3.180428341615634}, {\"fertility_total\": 4.315, \"educ_expected_yrs_f\": 4.166073798999999, \"hdi\": 0.48, \"fitted_slr\": 5.730542721961601, \"resid_slr\": -1.415542721961601, \"lwr_mean\": 5.387077324541073, \"upr_mean\": 6.07400811938213}, {\"fertility_total\": 1.63, \"educ_expected_yrs_f\": 13.88928127, \"hdi\": 0.8759999999999999, \"fitted_slr\": 1.5741427377348016, \"resid_slr\": 0.05585726226519827, \"lwr_mean\": 1.4140818732967035, \"upr_mean\": 1.7342036021728997}, {\"fertility_total\": 1.38, \"educ_expected_yrs_f\": 12.47436428, \"hdi\": 0.913, \"fitted_slr\": 2.1789802846511375, \"resid_slr\": -0.7989802846511376, \"lwr_mean\": 2.0559905581888565, \"upr_mean\": 2.3019700111134185}, {\"fertility_total\": 4.077, \"educ_expected_yrs_f\": 8.609224318999999, \"hdi\": 0.527, \"fitted_slr\": 3.8312198075503168, \"resid_slr\": 0.2457801924496832, \"lwr_mean\": 3.663860951662906, \"upr_mean\": 3.9985786634377276}, {\"fertility_total\": 4.209, \"educ_expected_yrs_f\": 9.583486557, \"hdi\": 0.478, \"fitted_slr\": 3.414749875921932, \"resid_slr\": 0.7942501240780677, \"lwr_mean\": 3.2768075873648708, \"upr_mean\": 3.552692164478993}, {\"fertility_total\": 2.001, \"educ_expected_yrs_f\": 12.68888378, \"hdi\": 0.805, \"fitted_slr\": 2.0872791819979573, \"resid_slr\": -0.08627918199795737, \"lwr_mean\": 1.9600269989313335, \"upr_mean\": 2.2145313650645813}, {\"fertility_total\": 5.877000000000001, \"educ_expected_yrs_f\": 5.42065239, \"hdi\": 0.431, \"fitted_slr\": 5.194245368295508, \"resid_slr\": 0.6827546317044924, \"lwr_mean\": 4.903688012020073, \"upr_mean\": 5.484802724570944}, {\"fertility_total\": 1.23, \"educ_expected_yrs_f\": 13.50980282, \"hdi\": 0.894, \"fitted_slr\": 1.736359190309601, \"resid_slr\": -0.506359190309601, \"lwr_mean\": 1.5880171398688896, \"upr_mean\": 1.8847012407503123}, {\"fertility_total\": 4.561, \"educ_expected_yrs_f\": 7.564128876, \"hdi\": 0.542, \"fitted_slr\": 4.277968958564159, \"resid_slr\": 0.2830310414358408, \"lwr_mean\": 4.073178367346523, \"upr_mean\": 4.482759549781795}, {\"fertility_total\": 1.41, \"educ_expected_yrs_f\": 12.77645302, \"hdi\": 0.8009999999999999, \"fitted_slr\": 2.049845774468567, \"resid_slr\": -0.639845774468567, \"lwr_mean\": 1.9206854547894476, \"upr_mean\": 2.1790060941476863}, {\"fertility_total\": 2.129, \"educ_expected_yrs_f\": 12.97874069, \"hdi\": 0.7759999999999999, \"fitted_slr\": 1.9633734379577013, \"resid_slr\": 0.16562656204229875, \"lwr_mean\": 1.8294630810186954, \"upr_mean\": 2.097283794896707}, {\"fertility_total\": 2.895, \"educ_expected_yrs_f\": 13.25112915, \"hdi\": 0.735, \"fitted_slr\": 1.8469349690446106, \"resid_slr\": 1.0480650309553894, \"lwr_mean\": 1.705946203982958, \"upr_mean\": 1.9879237341062632}, {\"fertility_total\": 1.745, \"educ_expected_yrs_f\": 12.64217091, \"hdi\": 0.826, \"fitted_slr\": 2.1072476309599146, \"resid_slr\": -0.3622476309599145, \"lwr_mean\": 1.9809745458812957, \"upr_mean\": 2.2335207160385333}, {\"fertility_total\": 2.415, \"educ_expected_yrs_f\": 10.41762161, \"hdi\": 0.68, \"fitted_slr\": 3.0581804073105983, \"resid_slr\": -0.6431804073105982, \"lwr_mean\": 2.9381398583644267, \"upr_mean\": 3.17822095625677}, {\"fertility_total\": 2.154, \"educ_expected_yrs_f\": 9.829102516, \"hdi\": 0.579, \"fitted_slr\": 3.309755904420421, \"resid_slr\": -1.1557559044204209, \"lwr_mean\": 3.177945786811173, \"upr_mean\": 3.4415660220296687}, {\"fertility_total\": 3.3960000000000004, \"educ_expected_yrs_f\": 9.723130226, \"hdi\": 0.645, \"fitted_slr\": 3.3550561025081596, \"resid_slr\": 0.0409438974918408, \"lwr_mean\": 3.220677977779585, \"upr_mean\": 3.489434227236734}, {\"fertility_total\": 1.917, \"educ_expected_yrs_f\": 12.0131464, \"hdi\": 0.596, \"fitted_slr\": 2.376138063591337, \"resid_slr\": -0.45913806359133713, \"lwr_mean\": 2.260087843363518, \"upr_mean\": 2.4921882838191562}, {\"fertility_total\": 1.59, \"educ_expected_yrs_f\": 13.92983341, \"hdi\": 0.942, \"fitted_slr\": 1.5568078290064753, \"resid_slr\": 0.03319217099352478, \"lwr_mean\": 1.3954375386886808, \"upr_mean\": 1.7181781193242698}, {\"fertility_total\": 1.71, \"educ_expected_yrs_f\": 13.77946663, \"hdi\": 0.928, \"fitted_slr\": 1.6210854332727926, \"resid_slr\": 0.08891456672720732, \"lwr_mean\": 1.464518096803054, \"upr_mean\": 1.7776527697425313}, {\"fertility_total\": 2.404, \"educ_expected_yrs_f\": 11.10092926, \"hdi\": 0.659, \"fitted_slr\": 2.766085446449915, \"resid_slr\": -0.36208544644991525, \"lwr_mean\": 2.6532256821983644, \"upr_mean\": 2.878945210701466}, {\"fertility_total\": 6.912999999999999, \"educ_expected_yrs_f\": 5.059231758, \"hdi\": 0.391, \"fitted_slr\": 5.3487426073623965, \"resid_slr\": 1.5642573926376029, \"lwr_mean\": 5.043079267010118, \"upr_mean\": 5.654405947714675}, {\"fertility_total\": 5.3870000000000005, \"educ_expected_yrs_f\": 10.09999943, \"hdi\": 0.534, \"fitted_slr\": 3.1939550298186075, \"resid_slr\": 2.193044970181393, \"lwr_mean\": 3.068120509893137, \"upr_mean\": 3.319789549744078}, {\"fertility_total\": 1.496, \"educ_expected_yrs_f\": 11.08503532, \"hdi\": 0.77, \"fitted_slr\": 2.77287966246992, \"resid_slr\": -1.27687966246992, \"lwr_mean\": 2.659943255807457, \"upr_mean\": 2.8858160691323826}, {\"fertility_total\": 1.56, \"educ_expected_yrs_f\": 13.67211056, \"hdi\": 0.956, \"fitted_slr\": 1.666977158712727, \"resid_slr\": -0.10697715871272684, \"lwr_mean\": 1.5137472352906367, \"upr_mean\": 1.820207082134817}, {\"fertility_total\": 2.888, \"educ_expected_yrs_f\": 13.10266685, \"hdi\": 0.813, \"fitted_slr\": 1.9103984612326275, \"resid_slr\": 0.9776015387673724, \"lwr_mean\": 1.7733589993593282, \"upr_mean\": 2.0474379231059268}, {\"fertility_total\": 3.51, \"educ_expected_yrs_f\": 8.687153816, \"hdi\": 0.552, \"fitted_slr\": 3.7979071212718765, \"resid_slr\": -0.2879071212718767, \"lwr_mean\": 3.6331393471827744, \"upr_mean\": 3.9626748953609785}, {\"fertility_total\": 2.461, \"educ_expected_yrs_f\": 10.88493347, \"hdi\": 0.812, \"fitted_slr\": 2.858417621899908, \"resid_slr\": -0.3974176218999079, \"lwr_mean\": 2.744135102360488, \"upr_mean\": 2.9727001414393275}, {\"fertility_total\": 3.564, \"educ_expected_yrs_f\": 9.818692207, \"hdi\": 0.5489999999999999, \"fitted_slr\": 3.3142060211429585, \"resid_slr\": 0.24979397885704158, \"lwr_mean\": 3.182149088486532, \"upr_mean\": 3.4462629537993847}, {\"fertility_total\": 2.4290000000000003, \"educ_expected_yrs_f\": 11.26677418, \"hdi\": 0.727, \"fitted_slr\": 2.6951913690656744, \"resid_slr\": -0.2661913690656741, \"lwr_mean\": 2.582861003529608, \"upr_mean\": 2.8075217346017407}, {\"fertility_total\": 2.254, \"educ_expected_yrs_f\": 12.89012051, \"hdi\": 0.7709999999999999, \"fitted_slr\": 2.001256093023201, \"resid_slr\": 0.25274390697679916, \"lwr_mean\": 1.869483403316457, \"upr_mean\": 2.133028782729945}, {\"fertility_total\": 2.576, \"educ_expected_yrs_f\": 13.04763317, \"hdi\": 0.711, \"fitted_slr\": 1.9339238243770613, \"resid_slr\": 0.6420761756229387, \"lwr_mean\": 1.798293490845113, \"upr_mean\": 2.0695541579090095}, {\"fertility_total\": 1.46, \"educ_expected_yrs_f\": 13.45503712, \"hdi\": 0.877, \"fitted_slr\": 1.7597699994788063, \"resid_slr\": -0.29976999947880634, \"lwr_mean\": 1.613031474467336, \"upr_mean\": 1.9065085244902766}, {\"fertility_total\": 1.42, \"educ_expected_yrs_f\": 13.82900047, \"hdi\": 0.86, \"fitted_slr\": 1.5999110983212088, \"resid_slr\": -0.17991109832120888, \"lwr_mean\": 1.4417776088631544, \"upr_mean\": 1.7580445877792632}, {\"fertility_total\": 1.866, \"educ_expected_yrs_f\": 12.7883606, \"hdi\": 0.845, \"fitted_slr\": 2.0447556161569405, \"resid_slr\": -0.17875561615694036, \"lwr_mean\": 1.9153286866642558, \"upr_mean\": 2.174182545649625}, {\"fertility_total\": 1.76, \"educ_expected_yrs_f\": 11.98094845, \"hdi\": 0.823, \"fitted_slr\": 2.389901789118257, \"resid_slr\": -0.629901789118257, \"lwr_mean\": 2.274211718172173, \"upr_mean\": 2.505591860064341}, {\"fertility_total\": 1.579, \"educ_expected_yrs_f\": 13.68534756, \"hdi\": 0.823, \"fitted_slr\": 1.6613187104326397, \"resid_slr\": -0.08231871043263972, \"lwr_mean\": 1.5076816197432348, \"upr_mean\": 1.8149558011220446}, {\"fertility_total\": 4.044, \"educ_expected_yrs_f\": 6.980305195, \"hdi\": 0.54, \"fitted_slr\": 4.5275372975857335, \"resid_slr\": -0.48353729758573394, \"lwr_mean\": 4.300255397236303, \"upr_mean\": 4.754819197935164}, {\"fertility_total\": 3.877, \"educ_expected_yrs_f\": 12.44684696, \"hdi\": 0.7090000000000001, \"fitted_slr\": 2.190743171409965, \"resid_slr\": 1.6862568285900346, \"lwr_mean\": 2.0682555867926817, \"upr_mean\": 2.3132307560272487}, {\"fertility_total\": 2.319, \"educ_expected_yrs_f\": 12.26758575, \"hdi\": 0.8540000000000001, \"fitted_slr\": 2.267372338548353, \"resid_slr\": 0.0516276614516471, \"lwr_mean\": 2.147891525828383, \"upr_mean\": 2.3868531512683226}, {\"fertility_total\": 4.625, \"educ_expected_yrs_f\": 7.849748135, \"hdi\": 0.516, \"fitted_slr\": 4.155874692125517, \"resid_slr\": 0.46912530787448325, \"lwr_mean\": 3.961734196411785, \"upr_mean\": 4.350015187839248}, {\"fertility_total\": 1.49, \"educ_expected_yrs_f\": 13.49239731, \"hdi\": 0.8029999999999999, \"fitted_slr\": 1.7437995603423537, \"resid_slr\": -0.25379956034235374, \"lwr_mean\": 1.595969730597695, \"upr_mean\": 1.8916293900870125}, {\"fertility_total\": 2.41, \"educ_expected_yrs_f\": 13.53542233, \"hdi\": 0.79, \"fitted_slr\": 1.7254075643901203, \"resid_slr\": 0.6845924356098798, \"lwr_mean\": 1.5763072424255777, \"upr_mean\": 1.874507886354663}, {\"fertility_total\": 4.263, \"educ_expected_yrs_f\": 9.282006264, \"hdi\": 0.447, \"fitted_slr\": 3.543624291983427, \"resid_slr\": 0.7193757080165728, \"lwr_mean\": 3.397356544210406, \"upr_mean\": 3.6898920397564483}, {\"fertility_total\": 1.14, \"educ_expected_yrs_f\": 13.90422153, \"hdi\": 0.936, \"fitted_slr\": 1.567756193313781, \"resid_slr\": -0.427756193313781, \"lwr_mean\": 1.4072140924307015, \"upr_mean\": 1.7282982941968603}, {\"fertility_total\": 1.61, \"educ_expected_yrs_f\": 13.71750641, \"hdi\": 0.912, \"fitted_slr\": 1.6475716990651033, \"resid_slr\": -0.03757169906510316, \"lwr_mean\": 1.492940265494321, \"upr_mean\": 1.8022031326358856}, {\"fertility_total\": 4.4030000000000005, \"educ_expected_yrs_f\": 8.841700553999999, \"hdi\": 0.564, \"fitted_slr\": 3.7318427015522144, \"resid_slr\": 0.671157298447786, \"lwr_mean\": 3.572108803932149, \"upr_mean\": 3.89157659917228}, {\"fertility_total\": 2.405, \"educ_expected_yrs_f\": 10.11397743, \"hdi\": 0.7070000000000001, \"fitted_slr\": 3.1879798247072486, \"resid_slr\": -0.7829798247072488, \"lwr_mean\": 3.0624290698692467, \"upr_mean\": 3.3135305795452505}, {\"fertility_total\": 4.696000000000001, \"educ_expected_yrs_f\": 3.916237831, \"hdi\": 0.429, \"fitted_slr\": 5.8373406296018135, \"resid_slr\": -1.141340629601813, \"lwr_mean\": 5.483202594490073, \"upr_mean\": 6.1914786647135545}, {\"fertility_total\": 1.26, \"educ_expected_yrs_f\": 13.08606815, \"hdi\": 0.905, \"fitted_slr\": 1.917493942494748, \"resid_slr\": -0.6574939424947479, \"lwr_mean\": 1.7808827102352405, \"upr_mean\": 2.0541051747542554}, {\"fertility_total\": 2.199, \"educ_expected_yrs_f\": 13.11488724, \"hdi\": 0.779, \"fitted_slr\": 1.905174585371217, \"resid_slr\": 0.29382541462878287, \"lwr_mean\": 1.7678180932593839, \"upr_mean\": 2.04253107748305}, {\"fertility_total\": 4.407, \"educ_expected_yrs_f\": 6.943500996, \"hdi\": 0.506, \"fitted_slr\": 4.543270066077954, \"resid_slr\": -0.13627006607795433, \"lwr_mean\": 4.314542768040271, \"upr_mean\": 4.771997364115638}, {\"fertility_total\": 1.76, \"educ_expected_yrs_f\": 13.90402126, \"hdi\": 0.943, \"fitted_slr\": 1.5678418031526453, \"resid_slr\": 0.1921581968473547, \"lwr_mean\": 1.4073061622872796, \"upr_mean\": 1.728377444018011}, {\"fertility_total\": 1.52, \"educ_expected_yrs_f\": 13.21845913, \"hdi\": 0.955, \"fitted_slr\": 1.8609004913290723, \"resid_slr\": -0.3409004913290723, \"lwr_mean\": 1.7207987237350335, \"upr_mean\": 2.001002258923111}, {\"fertility_total\": 3.585, \"educ_expected_yrs_f\": 10.43918705, \"hdi\": 0.6609999999999999, \"fitted_slr\": 3.0489617832358595, \"resid_slr\": 0.5360382167641404, \"lwr_mean\": 2.9292625785405053, \"upr_mean\": 3.1686609879312138}, {\"fertility_total\": 1.525, \"educ_expected_yrs_f\": 12.644207000000002, \"hdi\": 0.772, \"fitted_slr\": 2.106377259277614, \"resid_slr\": -0.5813772592776143, \"lwr_mean\": 1.9800620727587512, \"upr_mean\": 2.232692445796477}, {\"fertility_total\": 4.023, \"educ_expected_yrs_f\": 10.87477875, \"hdi\": 0.599, \"fitted_slr\": 2.862758481454094, \"resid_slr\": 1.1602415185459058, \"lwr_mean\": 2.748389068290066, \"upr_mean\": 2.9771278946181217}, {\"fertility_total\": 4.32, \"educ_expected_yrs_f\": 9.123530388, \"hdi\": 0.51, \"fitted_slr\": 3.6113683086025623, \"resid_slr\": 0.708631691397438, \"lwr_mean\": 3.4604164981333634, \"upr_mean\": 3.7623201190717612}, {\"fertility_total\": 3.556, \"educ_expected_yrs_f\": 11.83284092, \"hdi\": 0.723, \"fitted_slr\": 2.45321362702688, \"resid_slr\": 1.10278637297312, \"lwr_mean\": 2.3389567069020503, \"upr_mean\": 2.56747054715171}, {\"fertility_total\": 2.197, \"educ_expected_yrs_f\": 10.95233727, \"hdi\": 0.738, \"fitted_slr\": 2.8296043774954858, \"resid_slr\": -0.6326043774954857, \"lwr_mean\": 2.7158535240107935, \"upr_mean\": 2.943355230980178}, {\"fertility_total\": 2.069, \"educ_expected_yrs_f\": 11.99552917, \"hdi\": 0.8170000000000001, \"fitted_slr\": 2.3836689380185794, \"resid_slr\": -0.3146689380185794, \"lwr_mean\": 2.2678178930229533, \"upr_mean\": 2.4995199830142054}, {\"fertility_total\": 1.301, \"educ_expected_yrs_f\": 13.00567055, \"hdi\": 0.774, \"fitted_slr\": 1.9518616739628396, \"resid_slr\": -0.6508616739628397, \"lwr_mean\": 1.8172849135653797, \"upr_mean\": 2.0864384343602995}, {\"fertility_total\": 1.413, \"educ_expected_yrs_f\": 13.1702652, \"hdi\": 0.889, \"fitted_slr\": 1.881502052129793, \"resid_slr\": -0.4685020521297929, \"lwr_mean\": 1.7426905282978784, \"upr_mean\": 2.0203135759617075}, {\"fertility_total\": 1.68, \"educ_expected_yrs_f\": 13.85765934, \"hdi\": 0.928, \"fitted_slr\": 1.5876602307786587, \"resid_slr\": 0.09233976922134124, \"lwr_mean\": 1.4286133105844252, \"upr_mean\": 1.7467071509728922}, {\"fertility_total\": 1.7295, \"educ_expected_yrs_f\": 12.93639374, \"hdi\": 0.925, \"fitted_slr\": 1.9814755778983553, \"resid_slr\": -0.25197557789835523, \"lwr_mean\": 1.848597420235866, \"upr_mean\": 2.1143537355608446}, {\"fertility_total\": 1.973, \"educ_expected_yrs_f\": 12.47761631, \"hdi\": 0.816, \"fitted_slr\": 2.177590132535077, \"resid_slr\": -0.20459013253507696, \"lwr_mean\": 2.05454037000363, \"upr_mean\": 2.300639895066524}, {\"fertility_total\": 2.604, \"educ_expected_yrs_f\": 12.00484753, \"hdi\": 0.7170000000000001, \"fitted_slr\": 2.379685599035786, \"resid_slr\": 0.22431440096421396, \"lwr_mean\": 2.2637298396095726, \"upr_mean\": 2.4956413584619996}, {\"fertility_total\": 3.782, \"educ_expected_yrs_f\": 10.13373089, \"hdi\": 0.603, \"fitted_slr\": 3.179535771540914, \"resid_slr\": 0.6024642284590862, \"lwr_mean\": 3.054381706280103, \"upr_mean\": 3.3046898368017246}, {\"fertility_total\": 4.633, \"educ_expected_yrs_f\": 8.745135307, \"hdi\": 0.5820000000000001, \"fitted_slr\": 3.7731216511482963, \"resid_slr\": 0.8598783488517037, \"lwr_mean\": 3.610259198800208, \"upr_mean\": 3.9359841034963847}, {\"fertility_total\": 3.615, \"educ_expected_yrs_f\": 10.97491837, \"hdi\": 0.569, \"fitted_slr\": 2.819951587100572, \"resid_slr\": 0.7950484128994284, \"lwr_mean\": 2.706361194964366, \"upr_mean\": 2.933541979236778}]}}, {\"mode\": \"vega-lite\"});\n",
       "</script>"
      ],
      "text/plain": [
       "alt.LayerChart(...)"
      ]
     },
     "execution_count": 37,
     "metadata": {},
     "output_type": "execute_result"
    }
   ],
   "source": [
    "band = alt.Chart(reg_data).mark_area(opacity = 0.2).encode(\n",
    "    x = 'educ_expected_yrs_f',\n",
    "    y = 'lwr_mean',\n",
    "    y2 = 'upr_mean'\n",
    ")\n",
    "\n",
    "# layer\n",
    "scatter_educ + slr_line + band"
   ]
  },
  {
   "attachments": {},
   "cell_type": "markdown",
   "metadata": {},
   "source": [
    "As discussed in lecture, we can also compute and display uncertainty bounds for predicted observations (rather than the mean). These will be wider, because there is more uncertainty associated with predicting observations compared with estimating the mean."
   ]
  },
  {
   "attachments": {},
   "cell_type": "markdown",
   "metadata": {},
   "source": [
    "### Question 5: prediction intervals\n",
    "\n",
    "The standard error for *predictions* is stored with the output of `.get_prediction()` as the attribute `.se_obs` -- standard error for observations. Use this and follow the example above to compute 95% uncertainty bounds for the observations. Add the lower and upper bounds as new columns of `reg_data` named `lwr_obs` and `upr_obs`, respectively. Construct a plot showing data scatter, the model predictions, and prediction uncertainty bands."
   ]
  },
  {
   "cell_type": "code",
   "execution_count": 38,
   "metadata": {
    "tags": [
     "otter_assign_solution_cell"
    ]
   },
   "outputs": [
    {
     "data": {
      "text/html": [
       "\n",
       "<div id=\"altair-viz-79f662314a3040bf8108557fb1acc7b1\"></div>\n",
       "<script type=\"text/javascript\">\n",
       "  var VEGA_DEBUG = (typeof VEGA_DEBUG == \"undefined\") ? {} : VEGA_DEBUG;\n",
       "  (function(spec, embedOpt){\n",
       "    let outputDiv = document.currentScript.previousElementSibling;\n",
       "    if (outputDiv.id !== \"altair-viz-79f662314a3040bf8108557fb1acc7b1\") {\n",
       "      outputDiv = document.getElementById(\"altair-viz-79f662314a3040bf8108557fb1acc7b1\");\n",
       "    }\n",
       "    const paths = {\n",
       "      \"vega\": \"https://cdn.jsdelivr.net/npm//vega@5?noext\",\n",
       "      \"vega-lib\": \"https://cdn.jsdelivr.net/npm//vega-lib?noext\",\n",
       "      \"vega-lite\": \"https://cdn.jsdelivr.net/npm//vega-lite@4.17.0?noext\",\n",
       "      \"vega-embed\": \"https://cdn.jsdelivr.net/npm//vega-embed@6?noext\",\n",
       "    };\n",
       "\n",
       "    function maybeLoadScript(lib, version) {\n",
       "      var key = `${lib.replace(\"-\", \"\")}_version`;\n",
       "      return (VEGA_DEBUG[key] == version) ?\n",
       "        Promise.resolve(paths[lib]) :\n",
       "        new Promise(function(resolve, reject) {\n",
       "          var s = document.createElement('script');\n",
       "          document.getElementsByTagName(\"head\")[0].appendChild(s);\n",
       "          s.async = true;\n",
       "          s.onload = () => {\n",
       "            VEGA_DEBUG[key] = version;\n",
       "            return resolve(paths[lib]);\n",
       "          };\n",
       "          s.onerror = () => reject(`Error loading script: ${paths[lib]}`);\n",
       "          s.src = paths[lib];\n",
       "        });\n",
       "    }\n",
       "\n",
       "    function showError(err) {\n",
       "      outputDiv.innerHTML = `<div class=\"error\" style=\"color:red;\">${err}</div>`;\n",
       "      throw err;\n",
       "    }\n",
       "\n",
       "    function displayChart(vegaEmbed) {\n",
       "      vegaEmbed(outputDiv, spec, embedOpt)\n",
       "        .catch(err => showError(`Javascript Error: ${err.message}<br>This usually means there's a typo in your chart specification. See the javascript console for the full traceback.`));\n",
       "    }\n",
       "\n",
       "    if(typeof define === \"function\" && define.amd) {\n",
       "      requirejs.config({paths});\n",
       "      require([\"vega-embed\"], displayChart, err => showError(`Error loading script: ${err.message}`));\n",
       "    } else {\n",
       "      maybeLoadScript(\"vega\", \"5\")\n",
       "        .then(() => maybeLoadScript(\"vega-lite\", \"4.17.0\"))\n",
       "        .then(() => maybeLoadScript(\"vega-embed\", \"6\"))\n",
       "        .catch(showError)\n",
       "        .then(() => displayChart(vegaEmbed));\n",
       "    }\n",
       "  })({\"config\": {\"view\": {\"continuousWidth\": 400, \"continuousHeight\": 300}}, \"layer\": [{\"mark\": \"circle\", \"encoding\": {\"x\": {\"field\": \"educ_expected_yrs_f\", \"scale\": {\"zero\": false}, \"title\": \"Expected years of education for women\", \"type\": \"quantitative\"}, \"y\": {\"field\": \"fertility_total\", \"scale\": {\"zero\": false}, \"title\": \"Fertility rate\", \"type\": \"quantitative\"}}}, {\"mark\": \"line\", \"encoding\": {\"x\": {\"field\": \"educ_expected_yrs_f\", \"type\": \"quantitative\"}, \"y\": {\"field\": \"fitted_slr\", \"type\": \"quantitative\"}}}, {\"mark\": {\"type\": \"area\", \"opacity\": 0.2}, \"encoding\": {\"x\": {\"field\": \"educ_expected_yrs_f\", \"type\": \"quantitative\"}, \"y\": {\"field\": \"lwr_obs\", \"type\": \"quantitative\"}, \"y2\": {\"field\": \"upr_obs\"}}}], \"data\": {\"name\": \"data-dc94369a955b39d91d322b58a8b13b06\"}, \"$schema\": \"https://vega.github.io/schema/vega-lite/v4.17.0.json\", \"datasets\": {\"data-dc94369a955b39d91d322b58a8b13b06\": [{\"fertility_total\": 4.473, \"educ_expected_yrs_f\": 6.795722485, \"hdi\": 0.509, \"fitted_slr\": 4.6064412575414115, \"resid_slr\": -0.13344125754141167, \"lwr_mean\": 4.3718816159344485, \"upr_mean\": 4.841000899148375, \"lwr_obs\": 3.262396980728177, \"upr_obs\": 5.950485534354646}, {\"fertility_total\": 1.617, \"educ_expected_yrs_f\": 13.20175457, \"hdi\": 0.792, \"fitted_slr\": 1.8680412247884368, \"resid_slr\": -0.2510412247884368, \"lwr_mean\": 1.728389154373095, \"upr_mean\": 2.007693295203779, \"lwr_obs\": 0.53727471884725, \"upr_obs\": 3.198807730729624}, {\"fertility_total\": 3.023, \"educ_expected_yrs_f\": 12.10898972, \"hdi\": 0.746, \"fitted_slr\": 2.3351677176510304, \"resid_slr\": 0.6878322823489698, \"lwr_mean\": 2.217945389448825, \"upr_mean\": 2.4523900458532357, \"lwr_obs\": 1.0065677527282666, \"upr_obs\": 3.663767682573794}, {\"fertility_total\": 5.519, \"educ_expected_yrs_f\": 6.973901272000001, \"hdi\": 0.5820000000000001, \"fitted_slr\": 4.530274796043477, \"resid_slr\": 0.9887252039565233, \"lwr_mean\": 4.302741607889784, \"upr_mean\": 4.75780798419717, \"lwr_obs\": 3.1874389370216054, \"upr_obs\": 5.873110655065348}, {\"fertility_total\": 1.994, \"educ_expected_yrs_f\": 12.91444111, \"hdi\": 0.772, \"fitted_slr\": 1.9908597148981957, \"resid_slr\": 0.0031402851018043076, \"lwr_mean\": 1.8585089607395104, \"upr_mean\": 2.123210469056881, \"lwr_obs\": 0.6608395967458438, \"upr_obs\": 3.3208798330505473}, {\"fertility_total\": 2.261, \"educ_expected_yrs_f\": 13.06125259, \"hdi\": 0.8420000000000001, \"fitted_slr\": 1.9281019022138226, \"resid_slr\": 0.3328980977861775, \"lwr_mean\": 1.7921257081435793, \"upr_mean\": 2.064078096284066, \"lwr_obs\": 0.5977161243593494, \"upr_obs\": 3.2584876800682956}, {\"fertility_total\": 1.755, \"educ_expected_yrs_f\": 11.62581253, \"hdi\": 0.7709999999999999, \"fitted_slr\": 2.541712489104746, \"resid_slr\": -0.7867124891047461, \"lwr_mean\": 2.4288246294441955, \"upr_mean\": 2.6546003487652965, \"lwr_obs\": 1.2134879367709308, \"upr_obs\": 3.869937041438561}, {\"fertility_total\": 1.74, \"educ_expected_yrs_f\": 13.62022209, \"hdi\": 0.943, \"fitted_slr\": 1.6891580323115674, \"resid_slr\": 0.05084196768843263, \"lwr_mean\": 1.5375120462222207, \"upr_mean\": 1.840804018400914, \"lwr_obs\": 0.3570794694405055, \"upr_obs\": 3.0212365951826294}, {\"fertility_total\": 1.47, \"educ_expected_yrs_f\": 13.46689415, \"hdi\": 0.921, \"fitted_slr\": 1.7547014498821878, \"resid_slr\": -0.2847014498821878, \"lwr_mean\": 1.6076177922958834, \"upr_mean\": 1.9017851074684922, \"lwr_obs\": 0.4231345552454262, \"upr_obs\": 3.0862683445189494}, {\"fertility_total\": 1.73, \"educ_expected_yrs_f\": 12.44501495, \"hdi\": 0.754, \"fitted_slr\": 2.191526304584673, \"resid_slr\": -0.46152630458467314, \"lwr_mean\": 2.069071777037232, \"upr_mean\": 2.3139808321321143, \"lwr_obs\": 0.8624544841473838, \"upr_obs\": 3.5205981250219622}, {\"fertility_total\": 1.987, \"educ_expected_yrs_f\": 13.27036572, \"hdi\": 0.852, \"fitted_slr\": 1.8387118719356534, \"resid_slr\": 0.14828812806434666, \"lwr_mean\": 1.697196248681253, \"upr_mean\": 1.9802274951900538, \"lwr_obs\": 0.5077485124893069, \"upr_obs\": 3.169675231382}, {\"fertility_total\": 2.036, \"educ_expected_yrs_f\": 10.52187443, \"hdi\": 0.625, \"fitted_slr\": 3.0136152346866476, \"resid_slr\": -0.9776152346866476, \"lwr_mean\": 2.8951598540207177, \"upr_mean\": 3.1320706153525775, \"lwr_obs\": 1.684905909900999, \"upr_obs\": 4.342324559472296}, {\"fertility_total\": 1.4480000000000002, \"educ_expected_yrs_f\": 13.75893879, \"hdi\": 0.823, \"fitted_slr\": 1.6298605122893297, \"resid_slr\": -0.18186051228932953, \"lwr_mean\": 1.473937443337733, \"upr_mean\": 1.7857835812409264, \"lwr_obs\": 0.2972882643436854, \"upr_obs\": 2.9624327602349743}, {\"fertility_total\": 1.62, \"educ_expected_yrs_f\": 13.56679726, \"hdi\": 0.93, \"fitted_slr\": 1.7119956569566872, \"resid_slr\": -0.0919956569566871, \"lwr_mean\": 1.5619598063975149, \"upr_mean\": 1.8620315075158596, \"lwr_obs\": 0.380099433891002, \"upr_obs\": 3.0438918800223727}, {\"fertility_total\": 4.836, \"educ_expected_yrs_f\": 8.782134056, \"hdi\": 0.541, \"fitted_slr\": 3.757305717957662, \"resid_slr\": 1.0786942820423384, \"lwr_mean\": 3.5956486858341217, \"upr_mean\": 3.918962750081202, \"lwr_obs\": 2.424050382847911, \"upr_obs\": 5.090561053067413}, {\"fertility_total\": 1.975, \"educ_expected_yrs_f\": 10.70332813, \"hdi\": 0.649, \"fitted_slr\": 2.9360488392284294, \"resid_slr\": -0.9610488392284293, \"lwr_mean\": 2.8199488656482403, \"upr_mean\": 3.0521488128086185, \"lwr_obs\": 1.6075474292069933, \"upr_obs\": 4.264550249249865}, {\"fertility_total\": 1.265, \"educ_expected_yrs_f\": 11.78481483, \"hdi\": 0.777, \"fitted_slr\": 2.4737434409091654, \"resid_slr\": -1.2087434409091655, \"lwr_mean\": 2.3598708863222306, \"upr_mean\": 2.5876159954961, \"lwr_obs\": 1.1454348354820314, \"upr_obs\": 3.8020520463362995}, {\"fertility_total\": 2.874, \"educ_expected_yrs_f\": 8.500170707999999, \"hdi\": 0.73, \"fitted_slr\": 3.877837184418205, \"resid_slr\": -1.003837184418205, \"lwr_mean\": 3.706796937622223, \"upr_mean\": 4.048877431214187, \"lwr_obs\": 2.5434116306357346, \"upr_obs\": 5.212262738200676}, {\"fertility_total\": 1.848, \"educ_expected_yrs_f\": 13.21317291, \"hdi\": 0.836, \"fitted_slr\": 1.8631602029304286, \"resid_slr\": -0.015160202930428524, \"lwr_mean\": 1.7232010263840398, \"upr_mean\": 2.0031193794768174, \"lwr_obs\": 0.5323614338961442, \"upr_obs\": 3.193958971964713}, {\"fertility_total\": 1.56, \"educ_expected_yrs_f\": 12.24310493, \"hdi\": 0.813, \"fitted_slr\": 2.2778372062543384, \"resid_slr\": -0.7178372062543383, \"lwr_mean\": 2.1587302731925577, \"upr_mean\": 2.396944139316119, \"lwr_obs\": 0.9490696366369102, \"upr_obs\": 3.6066047758717668}, {\"fertility_total\": 5.189, \"educ_expected_yrs_f\": 6.696904658999999, \"hdi\": 0.4429999999999999, \"fitted_slr\": 4.648683121828761, \"resid_slr\": 0.5403168781712386, \"lwr_mean\": 4.410199028336141, \"upr_mean\": 4.887167215321382, \"lwr_obs\": 3.30394840620169, \"upr_obs\": 5.993417837455833}, {\"fertility_total\": 5.41, \"educ_expected_yrs_f\": 8.191820145, \"hdi\": 0.431, \"fitted_slr\": 4.009648449272118, \"resid_slr\": 1.4003515507278825, \"lwr_mean\": 3.8278814507695493, \"upr_mean\": 4.191415447774686, \"lwr_obs\": 2.6738056313072733, \"upr_obs\": 5.345491267236962}, {\"fertility_total\": 2.503, \"educ_expected_yrs_f\": 9.635119438, \"hdi\": 0.585, \"fitted_slr\": 3.392678259491442, \"resid_slr\": -0.8896782594914421, \"lwr_mean\": 3.25607683520378, \"upr_mean\": 3.5292796837791043, \"lwr_obs\": 2.062228432673068, \"upr_obs\": 4.723128086309816}, {\"fertility_total\": 4.572, \"educ_expected_yrs_f\": 8.315596581, \"hdi\": 0.56, \"fitted_slr\": 3.9567374753807893, \"resid_slr\": 0.6152625246192107, \"lwr_mean\": 3.7793295030964162, \"upr_mean\": 4.134145447665163, \"lwr_obs\": 2.621480802978934, \"upr_obs\": 5.291994147782645}, {\"fertility_total\": 1.4988, \"educ_expected_yrs_f\": 13.709587099999998, \"hdi\": 0.928, \"fitted_slr\": 1.6509569831966275, \"resid_slr\": -0.15215698319662763, \"lwr_mean\": 1.4965710837972288, \"upr_mean\": 1.8053428825960263, \"lwr_obs\": 0.3185637234955043, \"upr_obs\": 2.9833502428977505}, {\"fertility_total\": 4.721, \"educ_expected_yrs_f\": 3.848102808, \"hdi\": 0.395, \"fitted_slr\": 5.866466451442718, \"resid_slr\": -1.1454664514427177, \"lwr_mean\": 5.509411386672244, \"upr_mean\": 6.223521516213192, \"lwr_obs\": 4.495727558785962, \"upr_obs\": 7.237205344099474}, {\"fertility_total\": 5.747000000000001, \"educ_expected_yrs_f\": 4.473656654, \"hdi\": 0.397, \"fitted_slr\": 5.599059630863993, \"resid_slr\": 0.14794036913600817, \"lwr_mean\": 5.268679009329624, \"upr_mean\": 5.929440252398361, \"lwr_obs\": 4.2350258528185005, \"upr_obs\": 6.963093408909485}, {\"fertility_total\": 1.649, \"educ_expected_yrs_f\": 13.05471802, \"hdi\": 0.8490000000000001, \"fitted_slr\": 1.930895248619928, \"resid_slr\": -0.281895248619928, \"lwr_mean\": 1.7950852348017825, \"upr_mean\": 2.0667052624380733, \"lwr_obs\": 0.6005264454616053, \"upr_obs\": 3.2612640517782507}, {\"fertility_total\": 1.69, \"educ_expected_yrs_f\": 13.0906477, \"hdi\": 0.755, \"fitted_slr\": 1.91553631260723, \"resid_slr\": -0.22553631260723006, \"lwr_mean\": 1.7788072083990178, \"upr_mean\": 2.052265416815442, \"lwr_obs\": 0.5850733704321376, \"upr_obs\": 3.2459992547823227}, {\"fertility_total\": 1.807, \"educ_expected_yrs_f\": 12.70421314, \"hdi\": 0.764, \"fitted_slr\": 2.0807263081801106, \"resid_slr\": -0.2737263081801107, \"lwr_mean\": 1.9531468722779066, \"upr_mean\": 2.2083057440823146, \"lwr_obs\": 0.7511725089569472, \"upr_obs\": 3.410280107403274}, {\"fertility_total\": 4.205, \"educ_expected_yrs_f\": 8.128657341, \"hdi\": 0.552, \"fitted_slr\": 4.036648786180728, \"resid_slr\": 0.16835121381927198, \"lwr_mean\": 3.8526318625604903, \"upr_mean\": 4.220665709800966, \"lwr_obs\": 2.7004979635778756, \"upr_obs\": 5.3727996087835805}, {\"fertility_total\": 1.754, \"educ_expected_yrs_f\": 12.51764488, \"hdi\": 0.8079999999999999, \"fitted_slr\": 2.160479035377802, \"resid_slr\": -0.40647903537780206, \"lwr_mean\": 2.0366784410279504, \"upr_mean\": 2.2842796297276537, \"lwr_obs\": 0.8312825187840367, \"upr_obs\": 3.489675551971567}, {\"fertility_total\": 1.47, \"educ_expected_yrs_f\": 13.5518446, \"hdi\": 0.848, \"fitted_slr\": 1.718387502031834, \"resid_slr\": -0.24838750203183402, \"lwr_mean\": 1.5687984467214953, \"upr_mean\": 1.8679765573421727, \"lwr_obs\": 0.3865415357007935, \"upr_obs\": 3.0502334683628742}, {\"fertility_total\": 1.329, \"educ_expected_yrs_f\": 13.61954403, \"hdi\": 0.885, \"fitted_slr\": 1.689447884048426, \"resid_slr\": -0.360447884048426, \"lwr_mean\": 1.5378224665317537, \"upr_mean\": 1.8410733015650982, \"lwr_obs\": 0.3573716625803267, \"upr_obs\": 3.021524105516525}, {\"fertility_total\": 1.73, \"educ_expected_yrs_f\": 13.47161579, \"hdi\": 0.939, \"fitted_slr\": 1.7526830804829894, \"resid_slr\": -0.022683080482989393, \"lwr_mean\": 1.605461670170096, \"upr_mean\": 1.8999044907958829, \"lwr_obs\": 0.4211009627680733, \"upr_obs\": 3.0842651981979055}, {\"fertility_total\": 2.346, \"educ_expected_yrs_f\": 12.15325356, \"hdi\": 0.7509999999999999, \"fitted_slr\": 2.316246160703229, \"resid_slr\": 0.029753839296771112, \"lwr_mean\": 2.198432856030835, \"upr_mean\": 2.434059465375623, \"lwr_obs\": 0.9875939235390214, \"upr_obs\": 3.6448983978674363}, {\"fertility_total\": 2.427, \"educ_expected_yrs_f\": 13.219711300000002, \"hdi\": 0.762, \"fitted_slr\": 1.8603652235808747, \"resid_slr\": 0.5666347764191253, \"lwr_mean\": 1.7202296416093763, \"upr_mean\": 2.0005008055523734, \"lwr_obs\": 0.5295478905489841, \"upr_obs\": 3.191182556612765}, {\"fertility_total\": 2.039, \"educ_expected_yrs_f\": 10.9428196, \"hdi\": 0.67, \"fitted_slr\": 2.8336729159439207, \"resid_slr\": -0.7946729159439205, \"lwr_mean\": 2.71985176551952, \"upr_mean\": 2.9474940663683213, \"lwr_obs\": 1.5053687162789655, \"upr_obs\": 4.161977115608876}, {\"fertility_total\": 1.67, \"educ_expected_yrs_f\": 13.53030491, \"hdi\": 0.889, \"fitted_slr\": 1.7275951186998189, \"resid_slr\": -0.057595118699818926, \"lwr_mean\": 1.5786466676520048, \"upr_mean\": 1.876543569747633, \"lwr_obs\": 0.3958209510448194, \"upr_obs\": 3.0593692863548183}, {\"fertility_total\": 4.247, \"educ_expected_yrs_f\": 7.516855717, \"hdi\": 0.478, \"fitted_slr\": 4.298176915445463, \"resid_slr\": -0.05117691544546332, \"lwr_mean\": 4.091599030913178, \"upr_mean\": 4.504754799977748, \"lwr_obs\": 2.958732547454968, \"upr_obs\": 5.6376212834359585}, {\"fertility_total\": 2.774, \"educ_expected_yrs_f\": 11.43205929, \"hdi\": 0.742, \"fitted_slr\": 2.624536594841643, \"resid_slr\": 0.149463405158357, \"lwr_mean\": 2.512239143438776, \"upr_mean\": 2.73683404624451, \"lwr_obs\": 1.296362091941063, \"upr_obs\": 3.952711097742223}, {\"fertility_total\": 1.41, \"educ_expected_yrs_f\": 13.74469662, \"hdi\": 0.937, \"fitted_slr\": 1.6359486427071899, \"resid_slr\": -0.22594864270718995, \"lwr_mean\": 1.4804708917951328, \"upr_mean\": 1.791426393619247, \"lwr_obs\": 0.30342842762889877, \"upr_obs\": 2.968468857785481}, {\"fertility_total\": 1.88, \"educ_expected_yrs_f\": 13.8239584, \"hdi\": 0.898, \"fitted_slr\": 1.6020664426076467, \"resid_slr\": 0.27793355739235315, \"lwr_mean\": 1.4440931081535715, \"upr_mean\": 1.760039777061722, \"lwr_obs\": 0.269252739586042, \"upr_obs\": 2.9348801456292515}, {\"fertility_total\": 3.969, \"educ_expected_yrs_f\": 8.538388252, \"hdi\": 0.6970000000000001, \"fitted_slr\": 3.8615002503609444, \"resid_slr\": 0.10749974963905551, \"lwr_mean\": 3.691757283502228, \"upr_mean\": 4.031243217219661, \"lwr_obs\": 2.5272403553773533, \"upr_obs\": 5.1957601453445355}, {\"fertility_total\": 2.06, \"educ_expected_yrs_f\": 13.02663994, \"hdi\": 0.805, \"fitted_slr\": 1.9428978446374652, \"resid_slr\": 0.11710215536253488, \"lwr_mean\": 1.807796886605024, \"upr_mean\": 2.077998802669906, \"lwr_obs\": 0.6126012380775196, \"upr_obs\": 3.2731944511974107}, {\"fertility_total\": 1.57, \"educ_expected_yrs_f\": 13.34453487, \"hdi\": 0.946, \"fitted_slr\": 1.8070066291122773, \"resid_slr\": -0.2370066291122772, \"lwr_mean\": 1.6634286136846124, \"upr_mean\": 1.9505846445399422, \"lwr_obs\": 0.4758224047925288, \"upr_obs\": 3.1381908534320258}, {\"fertility_total\": 3.87, \"educ_expected_yrs_f\": 11.91578197, \"hdi\": 0.606, \"fitted_slr\": 2.417758641628292, \"resid_slr\": 1.4522413583717082, \"lwr_mean\": 2.3027447744766394, \"upr_mean\": 2.5327725087799444, \"lwr_obs\": 1.0893517076653585, \"upr_obs\": 3.7461655755912253}, {\"fertility_total\": 1.35, \"educ_expected_yrs_f\": 13.28767872, \"hdi\": 0.8809999999999999, \"fitted_slr\": 1.8313110473475174, \"resid_slr\": -0.4813110473475173, \"lwr_mean\": 1.6893183845953297, \"upr_mean\": 1.973303710099705, \"lwr_obs\": 0.5002968818184348, \"upr_obs\": 3.1623252128766}, {\"fertility_total\": 2.063, \"educ_expected_yrs_f\": 13.13885593, \"hdi\": 0.773, \"fitted_slr\": 1.8949286389553794, \"resid_slr\": 0.16807136104462073, \"lwr_mean\": 1.7569460502617371, \"upr_mean\": 2.0329112276490218, \"lwr_obs\": 0.564336294416218, \"upr_obs\": 3.225520983494541}, {\"fertility_total\": 2.87, \"educ_expected_yrs_f\": 9.521496773, \"hdi\": 0.657, \"fitted_slr\": 3.441248779499613, \"resid_slr\": -0.5712487794996131, \"lwr_mean\": 3.301662315037357, \"upr_mean\": 3.5808352439618694, \"lwr_obs\": 2.1104891567184376, \"upr_obs\": 4.772008402280789}, {\"fertility_total\": 4.7, \"educ_expected_yrs_f\": 6.210740089, \"hdi\": 0.473, \"fitted_slr\": 4.8565049149054245, \"resid_slr\": -0.15650491490542429, \"lwr_mean\": 4.598460453597995, \"upr_mean\": 5.114549376212854, \"lwr_obs\": 3.5081638094817764, \"upr_obs\": 6.2048460203290725}, {\"fertility_total\": 2.462, \"educ_expected_yrs_f\": 12.30990696, \"hdi\": 0.68, \"fitted_slr\": 2.2492812017397332, \"resid_slr\": 0.21271879826026696, \"lwr_mean\": 2.1291328356904597, \"upr_mean\": 2.3694295677890067, \"lwr_obs\": 0.9204198762328413, \"upr_obs\": 3.578142527246625}, {\"fertility_total\": 2.935, \"educ_expected_yrs_f\": 11.44699955, \"hdi\": 0.508, \"fitted_slr\": 2.6181500504206223, \"resid_slr\": 0.31684994957937773, \"lwr_mean\": 2.505831170264854, \"upr_mean\": 2.7304689305763907, \"lwr_obs\": 1.2899737355425602, \"upr_obs\": 3.9463263652986846}, {\"fertility_total\": 2.46, \"educ_expected_yrs_f\": 9.822359085, \"hdi\": 0.633, \"fitted_slr\": 3.3126385330782617, \"resid_slr\": -0.8526385330782618, \"lwr_mean\": 3.180668675447936, \"upr_mean\": 3.4446083907085874, \"lwr_obs\": 1.982656264066155, \"upr_obs\": 4.642620802090368}, {\"fertility_total\": 1.55, \"educ_expected_yrs_f\": 12.96164417, \"hdi\": 0.85, \"fitted_slr\": 1.970681723384118, \"resid_slr\": -0.420681723384118, \"lwr_mean\": 1.8371904220620463, \"upr_mean\": 2.10417302470619, \"lwr_obs\": 0.6405476248465745, \"upr_obs\": 3.3008158219216615}, {\"fertility_total\": 1.71, \"educ_expected_yrs_f\": 13.54500961, \"hdi\": 0.946, \"fitted_slr\": 1.7213092696083183, \"resid_slr\": -0.01130926960831835, \"lwr_mean\": 1.5719238785907335, \"upr_mean\": 1.8706946606259032, \"lwr_obs\": 0.38948616288088966, \"upr_obs\": 3.053132376335747}, {\"fertility_total\": 2.222, \"educ_expected_yrs_f\": 10.93618393, \"hdi\": 0.642, \"fitted_slr\": 2.836509479780041, \"resid_slr\": -0.614509479780041, \"lwr_mean\": 2.7226383862184567, \"upr_mean\": 2.9503805733416253, \"lwr_obs\": 1.5082009996021364, \"upr_obs\": 4.164817959957945}, {\"fertility_total\": 2.311, \"educ_expected_yrs_f\": 12.41253376, \"hdi\": 0.7120000000000001, \"fitted_slr\": 2.205411107311173, \"resid_slr\": 0.10558889268882687, \"lwr_mean\": 2.0835348554706514, \"upr_mean\": 2.3272873591516947, \"lwr_obs\": 0.8763924417814832, \"upr_obs\": 3.5344297728408627}, {\"fertility_total\": 3.672, \"educ_expected_yrs_f\": 7.038986206000001, \"hdi\": 0.6709999999999999, \"fitted_slr\": 4.5024528021738774, \"resid_slr\": -0.8304528021738773, \"lwr_mean\": 4.277469314960029, \"upr_mean\": 4.727436289387726, \"lwr_obs\": 3.1600466184565468, \"upr_obs\": 5.844858985891208}, {\"fertility_total\": 1.75, \"educ_expected_yrs_f\": 13.92032051, \"hdi\": 0.951, \"fitted_slr\": 1.5608743284129605, \"resid_slr\": 0.18912567158703952, \"lwr_mean\": 1.399812119342713, \"upr_mean\": 1.7219365374832079, \"lwr_obs\": 0.2276909847748052, \"upr_obs\": 2.8940576720511157}, {\"fertility_total\": 3.09, \"educ_expected_yrs_f\": 13.90762043, \"hdi\": 0.916, \"fitted_slr\": 1.5663032583693683, \"resid_slr\": 1.5236967416306315, \"lwr_mean\": 1.4056514828306115, \"upr_mean\": 1.7269550339081252, \"lwr_obs\": 0.23316943704932602, \"upr_obs\": 2.8994370796894104}, {\"fertility_total\": 1.29, \"educ_expected_yrs_f\": 13.31961727, \"hdi\": 0.89, \"fitted_slr\": 1.8176582080851487, \"resid_slr\": -0.5276582080851486, \"lwr_mean\": 1.6747784886301218, \"upr_mean\": 1.9605379275401755, \"lwr_obs\": 0.486549119093878, \"upr_obs\": 3.1487672970764193}, {\"fertility_total\": 1.979, \"educ_expected_yrs_f\": 11.82789326, \"hdi\": 0.7340000000000001, \"fitted_slr\": 2.4553286136716985, \"resid_slr\": -0.47632861367169843, \"lwr_mean\": 2.3411131306792154, \"upr_mean\": 2.5695440966641816, \"lwr_obs\": 1.1269905659147168, \"upr_obs\": 3.78366666142868}, {\"fertility_total\": 2.761, \"educ_expected_yrs_f\": 11.72220421, \"hdi\": 0.728, \"fitted_slr\": 2.5005077345598563, \"resid_slr\": 0.2604922654401438, \"lwr_mean\": 2.3870760490313714, \"upr_mean\": 2.6139394200883412, \"lwr_obs\": 1.1722368511006664, \"upr_obs\": 3.8287786180190464}, {\"fertility_total\": 2.84, \"educ_expected_yrs_f\": 13.86884308, \"hdi\": 0.8190000000000001, \"fitted_slr\": 1.5828794938769484, \"resid_slr\": 1.2571205061230515, \"lwr_mean\": 1.423474694073141, \"upr_mean\": 1.7422842936807557, \"lwr_obs\": 0.24989536690314407, \"upr_obs\": 2.915863620850753}, {\"fertility_total\": 3.492, \"educ_expected_yrs_f\": 11.30184937, \"hdi\": 0.599, \"fitted_slr\": 2.68019770369367, \"resid_slr\": 0.8118022963063298, \"lwr_mean\": 2.5679157175515757, \"upr_mean\": 2.7924796898357647, \"lwr_obs\": 1.3520245082949538, \"upr_obs\": 4.0083708990923865}, {\"fertility_total\": 3.569, \"educ_expected_yrs_f\": 11.82059479, \"hdi\": 0.628, \"fitted_slr\": 2.458448506020325, \"resid_slr\": 1.110551493979675, \"lwr_mean\": 2.344293378922485, \"upr_mean\": 2.572603633118165, \"lwr_obs\": 1.130115646528267, \"upr_obs\": 3.786781365512383}, {\"fertility_total\": 2.082, \"educ_expected_yrs_f\": 12.40283394, \"hdi\": 0.807, \"fitted_slr\": 2.2095575098038944, \"resid_slr\": -0.12755750980389458, \"lwr_mean\": 2.087851058615022, \"upr_mean\": 2.331263960992767, \"lwr_obs\": 0.8805544049073661, \"upr_obs\": 3.5385606147004225}, {\"fertility_total\": 1.6, \"educ_expected_yrs_f\": 13.7176199, \"hdi\": 0.863, \"fitted_slr\": 1.647523185255682, \"resid_slr\": -0.04752318525568189, \"lwr_mean\": 1.4928882298179675, \"upr_mean\": 1.8021581406933964, \"lwr_obs\": 0.31510104418820206, \"upr_obs\": 2.979945326323162}, {\"fertility_total\": 3.141, \"educ_expected_yrs_f\": 10.41264439, \"hdi\": 0.522, \"fitted_slr\": 3.0603080300308982, \"resid_slr\": 0.08069196996910177, \"lwr_mean\": 2.9401877184461624, \"upr_mean\": 3.180428341615634, \"lwr_obs\": 1.7314492407613846, \"upr_obs\": 4.389166819300412}, {\"fertility_total\": 4.315, \"educ_expected_yrs_f\": 4.166073798999999, \"hdi\": 0.48, \"fitted_slr\": 5.730542721961601, \"resid_slr\": -1.415542721961601, \"lwr_mean\": 5.387077324541073, \"upr_mean\": 6.07400811938213, \"lwr_obs\": 4.363280760306534, \"upr_obs\": 7.097804683616669}, {\"fertility_total\": 1.63, \"educ_expected_yrs_f\": 13.88928127, \"hdi\": 0.8759999999999999, \"fitted_slr\": 1.5741427377348016, \"resid_slr\": 0.05585726226519827, \"lwr_mean\": 1.4140818732967035, \"upr_mean\": 1.7342036021728997, \"lwr_obs\": 0.24107999619249343, \"upr_obs\": 2.90720547927711}, {\"fertility_total\": 1.38, \"educ_expected_yrs_f\": 12.47436428, \"hdi\": 0.913, \"fitted_slr\": 2.1789802846511375, \"resid_slr\": -0.7989802846511376, \"lwr_mean\": 2.0559905581888565, \"upr_mean\": 2.3019700111134185, \"lwr_obs\": 0.8498590466224578, \"upr_obs\": 3.508101522679817}, {\"fertility_total\": 4.077, \"educ_expected_yrs_f\": 8.609224318999999, \"hdi\": 0.527, \"fitted_slr\": 3.8312198075503168, \"resid_slr\": 0.2457801924496832, \"lwr_mean\": 3.663860951662906, \"upr_mean\": 3.9985786634377276, \"lwr_obs\": 2.4972611203311184, \"upr_obs\": 5.165178494769515}, {\"fertility_total\": 4.209, \"educ_expected_yrs_f\": 9.583486557, \"hdi\": 0.478, \"fitted_slr\": 3.414749875921932, \"resid_slr\": 0.7942501240780677, \"lwr_mean\": 3.2768075873648708, \"upr_mean\": 3.552692164478993, \"lwr_obs\": 2.084161709908126, \"upr_obs\": 4.745338041935738}, {\"fertility_total\": 2.001, \"educ_expected_yrs_f\": 12.68888378, \"hdi\": 0.805, \"fitted_slr\": 2.0872791819979573, \"resid_slr\": -0.08627918199795737, \"lwr_mean\": 1.9600269989313335, \"upr_mean\": 2.2145313650645813, \"lwr_obs\": 0.7577567449331122, \"upr_obs\": 3.4168016190628023}, {\"fertility_total\": 5.877000000000001, \"educ_expected_yrs_f\": 5.42065239, \"hdi\": 0.431, \"fitted_slr\": 5.194245368295508, \"resid_slr\": 0.6827546317044924, \"lwr_mean\": 4.903688012020073, \"upr_mean\": 5.484802724570944, \"lwr_obs\": 3.839306118790427, \"upr_obs\": 6.54918461780059}, {\"fertility_total\": 1.23, \"educ_expected_yrs_f\": 13.50980282, \"hdi\": 0.894, \"fitted_slr\": 1.736359190309601, \"resid_slr\": -0.506359190309601, \"lwr_mean\": 1.5880171398688896, \"upr_mean\": 1.8847012407503123, \"lwr_obs\": 0.4046527074491404, \"upr_obs\": 3.0680656731700617}, {\"fertility_total\": 4.561, \"educ_expected_yrs_f\": 7.564128876, \"hdi\": 0.542, \"fitted_slr\": 4.277968958564159, \"resid_slr\": 0.2830310414358408, \"lwr_mean\": 4.073178367346523, \"upr_mean\": 4.482759549781795, \"lwr_obs\": 2.938799074339274, \"upr_obs\": 5.6171388427890445}, {\"fertility_total\": 1.41, \"educ_expected_yrs_f\": 12.77645302, \"hdi\": 0.8009999999999999, \"fitted_slr\": 2.049845774468567, \"resid_slr\": -0.639845774468567, \"lwr_mean\": 1.9206854547894476, \"upr_mean\": 2.1790060941476863, \"lwr_obs\": 0.7201393479430591, \"upr_obs\": 3.379552200994075}, {\"fertility_total\": 2.129, \"educ_expected_yrs_f\": 12.97874069, \"hdi\": 0.7759999999999999, \"fitted_slr\": 1.9633734379577013, \"resid_slr\": 0.16562656204229875, \"lwr_mean\": 1.8294630810186954, \"upr_mean\": 2.097283794896707, \"lwr_obs\": 0.6331972179555712, \"upr_obs\": 3.293549657959831}, {\"fertility_total\": 2.895, \"educ_expected_yrs_f\": 13.25112915, \"hdi\": 0.735, \"fitted_slr\": 1.8469349690446106, \"resid_slr\": 1.0480650309553894, \"lwr_mean\": 1.705946203982958, \"upr_mean\": 1.9879237341062632, \"lwr_obs\": 0.5160275250661672, \"upr_obs\": 3.177842413023054}, {\"fertility_total\": 1.745, \"educ_expected_yrs_f\": 12.64217091, \"hdi\": 0.826, \"fitted_slr\": 2.1072476309599146, \"resid_slr\": -0.3622476309599145, \"lwr_mean\": 1.9809745458812957, \"upr_mean\": 2.2335207160385333, \"lwr_obs\": 0.7778185487675264, \"upr_obs\": 3.436676713152303}, {\"fertility_total\": 2.415, \"educ_expected_yrs_f\": 10.41762161, \"hdi\": 0.68, \"fitted_slr\": 3.0581804073105983, \"resid_slr\": -0.6431804073105982, \"lwr_mean\": 2.9381398583644267, \"upr_mean\": 3.17822095625677, \"lwr_obs\": 1.7293288256977675, \"upr_obs\": 4.387031988923429}, {\"fertility_total\": 2.154, \"educ_expected_yrs_f\": 9.829102516, \"hdi\": 0.579, \"fitted_slr\": 3.309755904420421, \"resid_slr\": -1.1557559044204209, \"lwr_mean\": 3.177945786811173, \"upr_mean\": 3.4415660220296687, \"lwr_obs\": 1.9797894763975976, \"upr_obs\": 4.6397223324432435}, {\"fertility_total\": 3.3960000000000004, \"educ_expected_yrs_f\": 9.723130226, \"hdi\": 0.645, \"fitted_slr\": 3.3550561025081596, \"resid_slr\": 0.0409438974918408, \"lwr_mean\": 3.220677977779585, \"upr_mean\": 3.489434227236734, \"lwr_obs\": 2.024832710378405, \"upr_obs\": 4.685279494637914}, {\"fertility_total\": 1.917, \"educ_expected_yrs_f\": 12.0131464, \"hdi\": 0.596, \"fitted_slr\": 2.376138063591337, \"resid_slr\": -0.45913806359133713, \"lwr_mean\": 2.260087843363518, \"upr_mean\": 2.4921882838191562, \"lwr_obs\": 1.047641000674543, \"upr_obs\": 3.7046351265081316}, {\"fertility_total\": 1.59, \"educ_expected_yrs_f\": 13.92983341, \"hdi\": 0.942, \"fitted_slr\": 1.5568078290064753, \"resid_slr\": 0.03319217099352478, \"lwr_mean\": 1.3954375386886808, \"upr_mean\": 1.7181781193242698, \"lwr_obs\": 0.22358723092044475, \"upr_obs\": 2.890028427092506}, {\"fertility_total\": 1.71, \"educ_expected_yrs_f\": 13.77946663, \"hdi\": 0.928, \"fitted_slr\": 1.6210854332727926, \"resid_slr\": 0.08891456672720732, \"lwr_mean\": 1.464518096803054, \"upr_mean\": 1.7776527697425313, \"lwr_obs\": 0.2884376465666234, \"upr_obs\": 2.953733219978962}, {\"fertility_total\": 2.404, \"educ_expected_yrs_f\": 11.10092926, \"hdi\": 0.659, \"fitted_slr\": 2.766085446449915, \"resid_slr\": -0.36208544644991525, \"lwr_mean\": 2.6532256821983644, \"upr_mean\": 2.878945210701466, \"lwr_obs\": 1.4378632816933792, \"upr_obs\": 4.094307611206451}, {\"fertility_total\": 6.912999999999999, \"educ_expected_yrs_f\": 5.059231758, \"hdi\": 0.391, \"fitted_slr\": 5.3487426073623965, \"resid_slr\": 1.5642573926376029, \"lwr_mean\": 5.043079267010118, \"upr_mean\": 5.654405947714675, \"lwr_obs\": 3.990483843282836, \"upr_obs\": 6.707001371441957}, {\"fertility_total\": 5.3870000000000005, \"educ_expected_yrs_f\": 10.09999943, \"hdi\": 0.534, \"fitted_slr\": 3.1939550298186075, \"resid_slr\": 2.193044970181393, \"lwr_mean\": 3.068120509893137, \"upr_mean\": 3.319789549744078, \"lwr_obs\": 1.864567532145902, \"upr_obs\": 4.523342527491312}, {\"fertility_total\": 1.496, \"educ_expected_yrs_f\": 11.08503532, \"hdi\": 0.77, \"fitted_slr\": 2.77287966246992, \"resid_slr\": -1.27687966246992, \"lwr_mean\": 2.659943255807457, \"upr_mean\": 2.8858160691323826, \"lwr_obs\": 1.4446509831705108, \"upr_obs\": 4.101108341769329}, {\"fertility_total\": 1.56, \"educ_expected_yrs_f\": 13.67211056, \"hdi\": 0.956, \"fitted_slr\": 1.666977158712727, \"resid_slr\": -0.10697715871272684, \"lwr_mean\": 1.5137472352906367, \"upr_mean\": 1.820207082134817, \"lwr_obs\": 0.3347173484671566, \"upr_obs\": 2.9992369689582974}, {\"fertility_total\": 2.888, \"educ_expected_yrs_f\": 13.10266685, \"hdi\": 0.813, \"fitted_slr\": 1.9103984612326275, \"resid_slr\": 0.9776015387673724, \"lwr_mean\": 1.7733589993593282, \"upr_mean\": 2.0474379231059268, \"lwr_obs\": 0.5799035883848789, \"upr_obs\": 3.240893334080376}, {\"fertility_total\": 3.51, \"educ_expected_yrs_f\": 8.687153816, \"hdi\": 0.552, \"fitted_slr\": 3.7979071212718765, \"resid_slr\": -0.2879071212718767, \"lwr_mean\": 3.6331393471827744, \"upr_mean\": 3.9626748953609785, \"lwr_obs\": 2.464271034499364, \"upr_obs\": 5.1315432080443895}, {\"fertility_total\": 2.461, \"educ_expected_yrs_f\": 10.88493347, \"hdi\": 0.812, \"fitted_slr\": 2.858417621899908, \"resid_slr\": -0.3974176218999079, \"lwr_mean\": 2.744135102360488, \"upr_mean\": 2.9727001414393275, \"lwr_obs\": 1.53007380841038, \"upr_obs\": 4.186761435389435}, {\"fertility_total\": 3.564, \"educ_expected_yrs_f\": 9.818692207, \"hdi\": 0.5489999999999999, \"fitted_slr\": 3.3142060211429585, \"resid_slr\": 0.24979397885704158, \"lwr_mean\": 3.182149088486532, \"upr_mean\": 3.4462629537993847, \"lwr_obs\": 1.9842151091340654, \"upr_obs\": 4.644196933151852}, {\"fertility_total\": 2.4290000000000003, \"educ_expected_yrs_f\": 11.26677418, \"hdi\": 0.727, \"fitted_slr\": 2.6951913690656744, \"resid_slr\": -0.2661913690656741, \"lwr_mean\": 2.582861003529608, \"upr_mean\": 2.8075217346017407, \"lwr_obs\": 1.3670140828628536, \"upr_obs\": 4.023368655268495}, {\"fertility_total\": 2.254, \"educ_expected_yrs_f\": 12.89012051, \"hdi\": 0.7709999999999999, \"fitted_slr\": 2.001256093023201, \"resid_slr\": 0.25274390697679916, \"lwr_mean\": 1.869483403316457, \"upr_mean\": 2.133028782729945, \"lwr_obs\": 0.6712933738779712, \"upr_obs\": 3.3312188121684305}, {\"fertility_total\": 2.576, \"educ_expected_yrs_f\": 13.04763317, \"hdi\": 0.711, \"fitted_slr\": 1.9339238243770613, \"resid_slr\": 0.6420761756229387, \"lwr_mean\": 1.798293490845113, \"upr_mean\": 2.0695541579090095, \"lwr_obs\": 0.6035733517806063, \"upr_obs\": 3.2642742969735163}, {\"fertility_total\": 1.46, \"educ_expected_yrs_f\": 13.45503712, \"hdi\": 0.877, \"fitted_slr\": 1.7597699994788063, \"resid_slr\": -0.29976999947880634, \"lwr_mean\": 1.613031474467336, \"upr_mean\": 1.9065085244902766, \"lwr_obs\": 0.4282411836861606, \"upr_obs\": 3.0912988152714522}, {\"fertility_total\": 1.42, \"educ_expected_yrs_f\": 13.82900047, \"hdi\": 0.86, \"fitted_slr\": 1.5999110983212088, \"resid_slr\": -0.17991109832120888, \"lwr_mean\": 1.4417776088631544, \"upr_mean\": 1.7580445877792632, \"lwr_obs\": 0.2670784032496165, \"upr_obs\": 2.932743793392801}, {\"fertility_total\": 1.866, \"educ_expected_yrs_f\": 12.7883606, \"hdi\": 0.845, \"fitted_slr\": 2.0447556161569405, \"resid_slr\": -0.17875561615694036, \"lwr_mean\": 1.9153286866642558, \"upr_mean\": 2.174182545649625, \"lwr_obs\": 0.7150232661550584, \"upr_obs\": 3.3744879661588225}, {\"fertility_total\": 1.76, \"educ_expected_yrs_f\": 11.98094845, \"hdi\": 0.823, \"fitted_slr\": 2.389901789118257, \"resid_slr\": -0.629901789118257, \"lwr_mean\": 2.274211718172173, \"upr_mean\": 2.505591860064341, \"lwr_obs\": 1.061436138422262, \"upr_obs\": 3.7183674398142523}, {\"fertility_total\": 1.579, \"educ_expected_yrs_f\": 13.68534756, \"hdi\": 0.823, \"fitted_slr\": 1.6613187104326397, \"resid_slr\": -0.08231871043263972, \"lwr_mean\": 1.5076816197432348, \"upr_mean\": 1.8149558011220446, \"lwr_obs\": 0.32901200843075906, \"upr_obs\": 2.99362541243452}, {\"fertility_total\": 4.044, \"educ_expected_yrs_f\": 6.980305195, \"hdi\": 0.54, \"fitted_slr\": 4.5275372975857335, \"resid_slr\": -0.48353729758573394, \"lwr_mean\": 4.300255397236303, \"upr_mean\": 4.754819197935164, \"lwr_obs\": 3.1847439945081257, \"upr_obs\": 5.870330600663341}, {\"fertility_total\": 3.877, \"educ_expected_yrs_f\": 12.44684696, \"hdi\": 0.7090000000000001, \"fitted_slr\": 2.190743171409965, \"resid_slr\": 1.6862568285900346, \"lwr_mean\": 2.0682555867926817, \"upr_mean\": 2.3132307560272487, \"lwr_obs\": 0.861668304839613, \"upr_obs\": 3.5198180379803174}, {\"fertility_total\": 2.319, \"educ_expected_yrs_f\": 12.26758575, \"hdi\": 0.8540000000000001, \"fitted_slr\": 2.267372338548353, \"resid_slr\": 0.0516276614516471, \"lwr_mean\": 2.147891525828383, \"upr_mean\": 2.3868531512683226, \"lwr_obs\": 0.9385712032493767, \"upr_obs\": 3.5961734738473288}, {\"fertility_total\": 4.625, \"educ_expected_yrs_f\": 7.849748135, \"hdi\": 0.516, \"fitted_slr\": 4.155874692125517, \"resid_slr\": 0.46912530787448325, \"lwr_mean\": 3.961734196411785, \"upr_mean\": 4.350015187839248, \"lwr_obs\": 2.8182920499536035, \"upr_obs\": 5.49345733429743}, {\"fertility_total\": 1.49, \"educ_expected_yrs_f\": 13.49239731, \"hdi\": 0.8029999999999999, \"fitted_slr\": 1.7437995603423537, \"resid_slr\": -0.25379956034235374, \"lwr_mean\": 1.595969730597695, \"upr_mean\": 1.8916293900870125, \"lwr_obs\": 0.41215003771038194, \"upr_obs\": 3.0754490829743255}, {\"fertility_total\": 2.41, \"educ_expected_yrs_f\": 13.53542233, \"hdi\": 0.79, \"fitted_slr\": 1.7254075643901203, \"resid_slr\": 0.6845924356098798, \"lwr_mean\": 1.5763072424255777, \"upr_mean\": 1.874507886354663, \"lwr_obs\": 0.3936164026182929, \"upr_obs\": 3.057198726161948}, {\"fertility_total\": 4.263, \"educ_expected_yrs_f\": 9.282006264, \"hdi\": 0.447, \"fitted_slr\": 3.543624291983427, \"resid_slr\": 0.7193757080165728, \"lwr_mean\": 3.397356544210406, \"upr_mean\": 3.6898920397564483, \"lwr_obs\": 2.212147275057406, \"upr_obs\": 4.875101308909448}, {\"fertility_total\": 1.14, \"educ_expected_yrs_f\": 13.90422153, \"hdi\": 0.936, \"fitted_slr\": 1.567756193313781, \"resid_slr\": -0.427756193313781, \"lwr_mean\": 1.4072140924307015, \"upr_mean\": 1.7282982941968603, \"lwr_obs\": 0.23463558409660434, \"upr_obs\": 2.9008768025309575}, {\"fertility_total\": 1.61, \"educ_expected_yrs_f\": 13.71750641, \"hdi\": 0.912, \"fitted_slr\": 1.6475716990651033, \"resid_slr\": -0.03757169906510316, \"lwr_mean\": 1.492940265494321, \"upr_mean\": 1.8022031326358856, \"lwr_obs\": 0.3151499667251587, \"upr_obs\": 2.979993431405048}, {\"fertility_total\": 4.4030000000000005, \"educ_expected_yrs_f\": 8.841700553999999, \"hdi\": 0.564, \"fitted_slr\": 3.7318427015522144, \"resid_slr\": 0.671157298447786, \"lwr_mean\": 3.572108803932149, \"upr_mean\": 3.89157659917228, \"lwr_obs\": 2.3988191793994655, \"upr_obs\": 5.064866223704963}, {\"fertility_total\": 2.405, \"educ_expected_yrs_f\": 10.11397743, \"hdi\": 0.7070000000000001, \"fitted_slr\": 3.1879798247072486, \"resid_slr\": -0.7829798247072488, \"lwr_mean\": 3.0624290698692467, \"upr_mean\": 3.3135305795452505, \"lwr_obs\": 1.8586191570914148, \"upr_obs\": 4.517340492323083}, {\"fertility_total\": 4.696000000000001, \"educ_expected_yrs_f\": 3.916237831, \"hdi\": 0.429, \"fitted_slr\": 5.8373406296018135, \"resid_slr\": -1.141340629601813, \"lwr_mean\": 5.483202594490073, \"upr_mean\": 6.1914786647135545, \"lwr_obs\": 4.467358680641745, \"upr_obs\": 7.207322578561882}, {\"fertility_total\": 1.26, \"educ_expected_yrs_f\": 13.08606815, \"hdi\": 0.905, \"fitted_slr\": 1.917493942494748, \"resid_slr\": -0.6574939424947479, \"lwr_mean\": 1.7808827102352405, \"upr_mean\": 2.0541051747542554, \"lwr_obs\": 0.58704310862561, \"upr_obs\": 3.2479447763638856}, {\"fertility_total\": 2.199, \"educ_expected_yrs_f\": 13.11488724, \"hdi\": 0.779, \"fitted_slr\": 1.905174585371217, \"resid_slr\": 0.29382541462878287, \"lwr_mean\": 1.7678180932593839, \"upr_mean\": 2.04253107748305, \"lwr_obs\": 0.5746470213993571, \"upr_obs\": 3.235702149343077}, {\"fertility_total\": 4.407, \"educ_expected_yrs_f\": 6.943500996, \"hdi\": 0.506, \"fitted_slr\": 4.543270066077954, \"resid_slr\": -0.13627006607795433, \"lwr_mean\": 4.314542768040271, \"upr_mean\": 4.771997364115638, \"lwr_obs\": 3.2002313587313482, \"upr_obs\": 5.8863087734245605}, {\"fertility_total\": 1.76, \"educ_expected_yrs_f\": 13.90402126, \"hdi\": 0.943, \"fitted_slr\": 1.5678418031526453, \"resid_slr\": 0.1921581968473547, \"lwr_mean\": 1.4073061622872796, \"upr_mean\": 1.728377444018011, \"lwr_obs\": 0.23472197187277222, \"upr_obs\": 2.9009616344325186}, {\"fertility_total\": 1.52, \"educ_expected_yrs_f\": 13.21845913, \"hdi\": 0.955, \"fitted_slr\": 1.8609004913290723, \"resid_slr\": -0.3409004913290723, \"lwr_mean\": 1.7207987237350335, \"upr_mean\": 2.001002258923111, \"lwr_obs\": 0.5300867185394316, \"upr_obs\": 3.191714264118713}, {\"fertility_total\": 3.585, \"educ_expected_yrs_f\": 10.43918705, \"hdi\": 0.6609999999999999, \"fitted_slr\": 3.0489617832358595, \"resid_slr\": 0.5360382167641404, \"lwr_mean\": 2.9292625785405053, \"upr_mean\": 3.1686609879312138, \"lwr_obs\": 1.7201409931485265, \"upr_obs\": 4.377782573323192}, {\"fertility_total\": 1.525, \"educ_expected_yrs_f\": 12.644207000000002, \"hdi\": 0.772, \"fitted_slr\": 2.106377259277614, \"resid_slr\": -0.5813772592776143, \"lwr_mean\": 1.9800620727587512, \"upr_mean\": 2.232692445796477, \"lwr_obs\": 0.7769441775059447, \"upr_obs\": 3.435810341049284}, {\"fertility_total\": 4.023, \"educ_expected_yrs_f\": 10.87477875, \"hdi\": 0.599, \"fitted_slr\": 2.862758481454094, \"resid_slr\": 1.1602415185459058, \"lwr_mean\": 2.748389068290066, \"upr_mean\": 2.9771278946181217, \"lwr_obs\": 1.5344071893513205, \"upr_obs\": 4.191109773556867}, {\"fertility_total\": 4.32, \"educ_expected_yrs_f\": 9.123530388, \"hdi\": 0.51, \"fitted_slr\": 3.6113683086025623, \"resid_slr\": 0.708631691397438, \"lwr_mean\": 3.4604164981333634, \"upr_mean\": 3.7623201190717612, \"lwr_obs\": 2.279368593269427, \"upr_obs\": 4.943368023935697}, {\"fertility_total\": 3.556, \"educ_expected_yrs_f\": 11.83284092, \"hdi\": 0.723, \"fitted_slr\": 2.45321362702688, \"resid_slr\": 1.10278637297312, \"lwr_mean\": 2.3389567069020503, \"upr_mean\": 2.56747054715171, \"lwr_obs\": 1.1248720157084529, \"upr_obs\": 3.781555238345307}, {\"fertility_total\": 2.197, \"educ_expected_yrs_f\": 10.95233727, \"hdi\": 0.738, \"fitted_slr\": 2.8296043774954858, \"resid_slr\": -0.6326043774954857, \"lwr_mean\": 2.7158535240107935, \"upr_mean\": 2.943355230980178, \"lwr_obs\": 1.5013061996633699, \"upr_obs\": 4.157902555327602}, {\"fertility_total\": 2.069, \"educ_expected_yrs_f\": 11.99552917, \"hdi\": 0.8170000000000001, \"fitted_slr\": 2.3836689380185794, \"resid_slr\": -0.3146689380185794, \"lwr_mean\": 2.2678178930229533, \"upr_mean\": 2.4995199830142054, \"lwr_obs\": 1.0551892591411784, \"upr_obs\": 3.7121486168959805}, {\"fertility_total\": 1.301, \"educ_expected_yrs_f\": 13.00567055, \"hdi\": 0.774, \"fitted_slr\": 1.9518616739628396, \"resid_slr\": -0.6508616739628397, \"lwr_mean\": 1.8172849135653797, \"upr_mean\": 2.0864384343602995, \"lwr_obs\": 0.6216182011343883, \"upr_obs\": 3.2821051467912907}, {\"fertility_total\": 1.413, \"educ_expected_yrs_f\": 13.1702652, \"hdi\": 0.889, \"fitted_slr\": 1.881502052129793, \"resid_slr\": -0.4685020521297929, \"lwr_mean\": 1.7426905282978784, \"upr_mean\": 2.0203135759617075, \"lwr_obs\": 0.5508234915028616, \"upr_obs\": 3.2121806127567245}, {\"fertility_total\": 1.68, \"educ_expected_yrs_f\": 13.85765934, \"hdi\": 0.928, \"fitted_slr\": 1.5876602307786587, \"resid_slr\": 0.09233976922134124, \"lwr_mean\": 1.4286133105844252, \"upr_mean\": 1.7467071509728922, \"lwr_obs\": 0.2547188534529736, \"upr_obs\": 2.9206016081043438}, {\"fertility_total\": 1.7295, \"educ_expected_yrs_f\": 12.93639374, \"hdi\": 0.925, \"fitted_slr\": 1.9814755778983553, \"resid_slr\": -0.25197557789835523, \"lwr_mean\": 1.848597420235866, \"upr_mean\": 2.1143537355608446, \"lwr_obs\": 0.6514028741158135, \"upr_obs\": 3.311548281680897}, {\"fertility_total\": 1.973, \"educ_expected_yrs_f\": 12.47761631, \"hdi\": 0.816, \"fitted_slr\": 2.177590132535077, \"resid_slr\": -0.20459013253507696, \"lwr_mean\": 2.05454037000363, \"upr_mean\": 2.300639895066524, \"lwr_obs\": 0.8484633377473605, \"upr_obs\": 3.5067169273227936}, {\"fertility_total\": 2.604, \"educ_expected_yrs_f\": 12.00484753, \"hdi\": 0.7170000000000001, \"fitted_slr\": 2.379685599035786, \"resid_slr\": 0.22431440096421396, \"lwr_mean\": 2.2637298396095726, \"upr_mean\": 2.4956413584619996, \"lwr_obs\": 1.0511967843641181, \"upr_obs\": 3.708174413707454}, {\"fertility_total\": 3.782, \"educ_expected_yrs_f\": 10.13373089, \"hdi\": 0.603, \"fitted_slr\": 3.179535771540914, \"resid_slr\": 0.6024642284590862, \"lwr_mean\": 3.054381706280103, \"upr_mean\": 3.3046898368017246, \"lwr_obs\": 1.8502125103982636, \"upr_obs\": 4.508859032683564}, {\"fertility_total\": 4.633, \"educ_expected_yrs_f\": 8.745135307, \"hdi\": 0.5820000000000001, \"fitted_slr\": 3.7731216511482963, \"resid_slr\": 0.8598783488517037, \"lwr_mean\": 3.610259198800208, \"upr_mean\": 3.9359841034963847, \"lwr_obs\": 2.4397196221456188, \"upr_obs\": 5.106523680150974}, {\"fertility_total\": 3.615, \"educ_expected_yrs_f\": 10.97491837, \"hdi\": 0.569, \"fitted_slr\": 2.819951587100572, \"resid_slr\": 0.7950484128994284, \"lwr_mean\": 2.706361194964366, \"upr_mean\": 2.933541979236778, \"lwr_obs\": 1.4916671410012883, \"upr_obs\": 4.148236033199855}]}}, {\"mode\": \"vega-lite\"});\n",
       "</script>"
      ],
      "text/plain": [
       "alt.LayerChart(...)"
      ]
     },
     "execution_count": 38,
     "metadata": {},
     "output_type": "execute_result"
    }
   ],
   "source": [
    "# compute prediction uncertainty bounds\n",
    "reg_data['lwr_obs'] = preds.predicted_mean - 2*preds.se_obs # SOLUTION\n",
    "reg_data['upr_obs'] = preds.predicted_mean + 2*preds.se_obs # SOLUTION\n",
    "\n",
    "# construct plot showing prediction uncertainty\n",
    "# BEGIN SOLUTION\n",
    "band_pred = alt.Chart(reg_data).mark_area(opacity = 0.2).encode(\n",
    "    x = 'educ_expected_yrs_f',\n",
    "    y = 'lwr_obs',\n",
    "    y2 = 'upr_obs'\n",
    ")\n",
    "\n",
    "# layer\n",
    "scatter_educ + slr_line + band_pred\n",
    "# END SOLUTION"
   ]
  },
  {
   "cell_type": "code",
   "execution_count": null,
   "metadata": {
    "deletable": false,
    "editable": false
   },
   "outputs": [],
   "source": [
    "grader.check(\"q5\")"
   ]
  },
  {
   "attachments": {},
   "cell_type": "markdown",
   "metadata": {},
   "source": [
    "Recall that the interpretation of the prediction band is that 95% of the time, the band will cover the observed values."
   ]
  },
  {
   "attachments": {},
   "cell_type": "markdown",
   "metadata": {},
   "source": [
    "### Question 6: coverage\n",
    "\n",
    "What proportion of observed values are within the prediction bands? Compute and store this value as `coverage_prop`."
   ]
  },
  {
   "cell_type": "code",
   "execution_count": 43,
   "metadata": {
    "tags": [
     "otter_assign_solution_cell"
    ]
   },
   "outputs": [],
   "source": [
    "coverage_prop = np.mean((reg_data.lwr_obs < reg_data.fertility_total) & (reg_data.fertility_total < reg_data.upr_obs)) # SOLUTION"
   ]
  },
  {
   "cell_type": "code",
   "execution_count": null,
   "metadata": {
    "deletable": false,
    "editable": false
   },
   "outputs": [],
   "source": [
    "grader.check(\"q6\")"
   ]
  },
  {
   "attachments": {},
   "cell_type": "markdown",
   "metadata": {},
   "source": [
    "# Multiple linear regression\n",
    "\n",
    "Now let's consider adding the human development factor to the model. First let's investigate the *univariate* relationship between HDI and fertility rate.\n",
    "\n",
    "A scatterplot is shown below with a regression line overlaid. The relationship perhaps isn't perfectly linear, but a line should provide a decent approximation."
   ]
  },
  {
   "cell_type": "code",
   "execution_count": 47,
   "metadata": {},
   "outputs": [
    {
     "data": {
      "text/html": [
       "\n",
       "<div id=\"altair-viz-02bfa0ab41714897a84ad83e30d6aecd\"></div>\n",
       "<script type=\"text/javascript\">\n",
       "  var VEGA_DEBUG = (typeof VEGA_DEBUG == \"undefined\") ? {} : VEGA_DEBUG;\n",
       "  (function(spec, embedOpt){\n",
       "    let outputDiv = document.currentScript.previousElementSibling;\n",
       "    if (outputDiv.id !== \"altair-viz-02bfa0ab41714897a84ad83e30d6aecd\") {\n",
       "      outputDiv = document.getElementById(\"altair-viz-02bfa0ab41714897a84ad83e30d6aecd\");\n",
       "    }\n",
       "    const paths = {\n",
       "      \"vega\": \"https://cdn.jsdelivr.net/npm//vega@5?noext\",\n",
       "      \"vega-lib\": \"https://cdn.jsdelivr.net/npm//vega-lib?noext\",\n",
       "      \"vega-lite\": \"https://cdn.jsdelivr.net/npm//vega-lite@4.17.0?noext\",\n",
       "      \"vega-embed\": \"https://cdn.jsdelivr.net/npm//vega-embed@6?noext\",\n",
       "    };\n",
       "\n",
       "    function maybeLoadScript(lib, version) {\n",
       "      var key = `${lib.replace(\"-\", \"\")}_version`;\n",
       "      return (VEGA_DEBUG[key] == version) ?\n",
       "        Promise.resolve(paths[lib]) :\n",
       "        new Promise(function(resolve, reject) {\n",
       "          var s = document.createElement('script');\n",
       "          document.getElementsByTagName(\"head\")[0].appendChild(s);\n",
       "          s.async = true;\n",
       "          s.onload = () => {\n",
       "            VEGA_DEBUG[key] = version;\n",
       "            return resolve(paths[lib]);\n",
       "          };\n",
       "          s.onerror = () => reject(`Error loading script: ${paths[lib]}`);\n",
       "          s.src = paths[lib];\n",
       "        });\n",
       "    }\n",
       "\n",
       "    function showError(err) {\n",
       "      outputDiv.innerHTML = `<div class=\"error\" style=\"color:red;\">${err}</div>`;\n",
       "      throw err;\n",
       "    }\n",
       "\n",
       "    function displayChart(vegaEmbed) {\n",
       "      vegaEmbed(outputDiv, spec, embedOpt)\n",
       "        .catch(err => showError(`Javascript Error: ${err.message}<br>This usually means there's a typo in your chart specification. See the javascript console for the full traceback.`));\n",
       "    }\n",
       "\n",
       "    if(typeof define === \"function\" && define.amd) {\n",
       "      requirejs.config({paths});\n",
       "      require([\"vega-embed\"], displayChart, err => showError(`Error loading script: ${err.message}`));\n",
       "    } else {\n",
       "      maybeLoadScript(\"vega\", \"5\")\n",
       "        .then(() => maybeLoadScript(\"vega-lite\", \"4.17.0\"))\n",
       "        .then(() => maybeLoadScript(\"vega-embed\", \"6\"))\n",
       "        .catch(showError)\n",
       "        .then(() => displayChart(vegaEmbed));\n",
       "    }\n",
       "  })({\"config\": {\"view\": {\"continuousWidth\": 400, \"continuousHeight\": 300}}, \"layer\": [{\"mark\": \"circle\", \"encoding\": {\"x\": {\"field\": \"hdi\", \"scale\": {\"zero\": false}, \"title\": \"Human development index\", \"type\": \"quantitative\"}, \"y\": {\"field\": \"fertility_total\", \"scale\": {\"zero\": false}, \"title\": \"Fertility rate\", \"type\": \"quantitative\"}}}, {\"mark\": \"line\", \"encoding\": {\"x\": {\"field\": \"hdi\", \"scale\": {\"zero\": false}, \"title\": \"Human development index\", \"type\": \"quantitative\"}, \"y\": {\"field\": \"fertility_total\", \"scale\": {\"zero\": false}, \"title\": \"Fertility rate\", \"type\": \"quantitative\"}}, \"transform\": [{\"on\": \"fertility_total\", \"regression\": \"hdi\"}]}], \"data\": {\"name\": \"data-dc94369a955b39d91d322b58a8b13b06\"}, \"$schema\": \"https://vega.github.io/schema/vega-lite/v4.17.0.json\", \"datasets\": {\"data-dc94369a955b39d91d322b58a8b13b06\": [{\"fertility_total\": 4.473, \"educ_expected_yrs_f\": 6.795722485, \"hdi\": 0.509, \"fitted_slr\": 4.6064412575414115, \"resid_slr\": -0.13344125754141167, \"lwr_mean\": 4.3718816159344485, \"upr_mean\": 4.841000899148375, \"lwr_obs\": 3.262396980728177, \"upr_obs\": 5.950485534354646}, {\"fertility_total\": 1.617, \"educ_expected_yrs_f\": 13.20175457, \"hdi\": 0.792, \"fitted_slr\": 1.8680412247884368, \"resid_slr\": -0.2510412247884368, \"lwr_mean\": 1.728389154373095, \"upr_mean\": 2.007693295203779, \"lwr_obs\": 0.53727471884725, \"upr_obs\": 3.198807730729624}, {\"fertility_total\": 3.023, \"educ_expected_yrs_f\": 12.10898972, \"hdi\": 0.746, \"fitted_slr\": 2.3351677176510304, \"resid_slr\": 0.6878322823489698, \"lwr_mean\": 2.217945389448825, \"upr_mean\": 2.4523900458532357, \"lwr_obs\": 1.0065677527282666, \"upr_obs\": 3.663767682573794}, {\"fertility_total\": 5.519, \"educ_expected_yrs_f\": 6.973901272000001, \"hdi\": 0.5820000000000001, \"fitted_slr\": 4.530274796043477, \"resid_slr\": 0.9887252039565233, \"lwr_mean\": 4.302741607889784, \"upr_mean\": 4.75780798419717, \"lwr_obs\": 3.1874389370216054, \"upr_obs\": 5.873110655065348}, {\"fertility_total\": 1.994, \"educ_expected_yrs_f\": 12.91444111, \"hdi\": 0.772, \"fitted_slr\": 1.9908597148981957, \"resid_slr\": 0.0031402851018043076, \"lwr_mean\": 1.8585089607395104, \"upr_mean\": 2.123210469056881, \"lwr_obs\": 0.6608395967458438, \"upr_obs\": 3.3208798330505473}, {\"fertility_total\": 2.261, \"educ_expected_yrs_f\": 13.06125259, \"hdi\": 0.8420000000000001, \"fitted_slr\": 1.9281019022138226, \"resid_slr\": 0.3328980977861775, \"lwr_mean\": 1.7921257081435793, \"upr_mean\": 2.064078096284066, \"lwr_obs\": 0.5977161243593494, \"upr_obs\": 3.2584876800682956}, {\"fertility_total\": 1.755, \"educ_expected_yrs_f\": 11.62581253, \"hdi\": 0.7709999999999999, \"fitted_slr\": 2.541712489104746, \"resid_slr\": -0.7867124891047461, \"lwr_mean\": 2.4288246294441955, \"upr_mean\": 2.6546003487652965, \"lwr_obs\": 1.2134879367709308, \"upr_obs\": 3.869937041438561}, {\"fertility_total\": 1.74, \"educ_expected_yrs_f\": 13.62022209, \"hdi\": 0.943, \"fitted_slr\": 1.6891580323115674, \"resid_slr\": 0.05084196768843263, \"lwr_mean\": 1.5375120462222207, \"upr_mean\": 1.840804018400914, \"lwr_obs\": 0.3570794694405055, \"upr_obs\": 3.0212365951826294}, {\"fertility_total\": 1.47, \"educ_expected_yrs_f\": 13.46689415, \"hdi\": 0.921, \"fitted_slr\": 1.7547014498821878, \"resid_slr\": -0.2847014498821878, \"lwr_mean\": 1.6076177922958834, \"upr_mean\": 1.9017851074684922, \"lwr_obs\": 0.4231345552454262, \"upr_obs\": 3.0862683445189494}, {\"fertility_total\": 1.73, \"educ_expected_yrs_f\": 12.44501495, \"hdi\": 0.754, \"fitted_slr\": 2.191526304584673, \"resid_slr\": -0.46152630458467314, \"lwr_mean\": 2.069071777037232, \"upr_mean\": 2.3139808321321143, \"lwr_obs\": 0.8624544841473838, \"upr_obs\": 3.5205981250219622}, {\"fertility_total\": 1.987, \"educ_expected_yrs_f\": 13.27036572, \"hdi\": 0.852, \"fitted_slr\": 1.8387118719356534, \"resid_slr\": 0.14828812806434666, \"lwr_mean\": 1.697196248681253, \"upr_mean\": 1.9802274951900538, \"lwr_obs\": 0.5077485124893069, \"upr_obs\": 3.169675231382}, {\"fertility_total\": 2.036, \"educ_expected_yrs_f\": 10.52187443, \"hdi\": 0.625, \"fitted_slr\": 3.0136152346866476, \"resid_slr\": -0.9776152346866476, \"lwr_mean\": 2.8951598540207177, \"upr_mean\": 3.1320706153525775, \"lwr_obs\": 1.684905909900999, \"upr_obs\": 4.342324559472296}, {\"fertility_total\": 1.4480000000000002, \"educ_expected_yrs_f\": 13.75893879, \"hdi\": 0.823, \"fitted_slr\": 1.6298605122893297, \"resid_slr\": -0.18186051228932953, \"lwr_mean\": 1.473937443337733, \"upr_mean\": 1.7857835812409264, \"lwr_obs\": 0.2972882643436854, \"upr_obs\": 2.9624327602349743}, {\"fertility_total\": 1.62, \"educ_expected_yrs_f\": 13.56679726, \"hdi\": 0.93, \"fitted_slr\": 1.7119956569566872, \"resid_slr\": -0.0919956569566871, \"lwr_mean\": 1.5619598063975149, \"upr_mean\": 1.8620315075158596, \"lwr_obs\": 0.380099433891002, \"upr_obs\": 3.0438918800223727}, {\"fertility_total\": 4.836, \"educ_expected_yrs_f\": 8.782134056, \"hdi\": 0.541, \"fitted_slr\": 3.757305717957662, \"resid_slr\": 1.0786942820423384, \"lwr_mean\": 3.5956486858341217, \"upr_mean\": 3.918962750081202, \"lwr_obs\": 2.424050382847911, \"upr_obs\": 5.090561053067413}, {\"fertility_total\": 1.975, \"educ_expected_yrs_f\": 10.70332813, \"hdi\": 0.649, \"fitted_slr\": 2.9360488392284294, \"resid_slr\": -0.9610488392284293, \"lwr_mean\": 2.8199488656482403, \"upr_mean\": 3.0521488128086185, \"lwr_obs\": 1.6075474292069933, \"upr_obs\": 4.264550249249865}, {\"fertility_total\": 1.265, \"educ_expected_yrs_f\": 11.78481483, \"hdi\": 0.777, \"fitted_slr\": 2.4737434409091654, \"resid_slr\": -1.2087434409091655, \"lwr_mean\": 2.3598708863222306, \"upr_mean\": 2.5876159954961, \"lwr_obs\": 1.1454348354820314, \"upr_obs\": 3.8020520463362995}, {\"fertility_total\": 2.874, \"educ_expected_yrs_f\": 8.500170707999999, \"hdi\": 0.73, \"fitted_slr\": 3.877837184418205, \"resid_slr\": -1.003837184418205, \"lwr_mean\": 3.706796937622223, \"upr_mean\": 4.048877431214187, \"lwr_obs\": 2.5434116306357346, \"upr_obs\": 5.212262738200676}, {\"fertility_total\": 1.848, \"educ_expected_yrs_f\": 13.21317291, \"hdi\": 0.836, \"fitted_slr\": 1.8631602029304286, \"resid_slr\": -0.015160202930428524, \"lwr_mean\": 1.7232010263840398, \"upr_mean\": 2.0031193794768174, \"lwr_obs\": 0.5323614338961442, \"upr_obs\": 3.193958971964713}, {\"fertility_total\": 1.56, \"educ_expected_yrs_f\": 12.24310493, \"hdi\": 0.813, \"fitted_slr\": 2.2778372062543384, \"resid_slr\": -0.7178372062543383, \"lwr_mean\": 2.1587302731925577, \"upr_mean\": 2.396944139316119, \"lwr_obs\": 0.9490696366369102, \"upr_obs\": 3.6066047758717668}, {\"fertility_total\": 5.189, \"educ_expected_yrs_f\": 6.696904658999999, \"hdi\": 0.4429999999999999, \"fitted_slr\": 4.648683121828761, \"resid_slr\": 0.5403168781712386, \"lwr_mean\": 4.410199028336141, \"upr_mean\": 4.887167215321382, \"lwr_obs\": 3.30394840620169, \"upr_obs\": 5.993417837455833}, {\"fertility_total\": 5.41, \"educ_expected_yrs_f\": 8.191820145, \"hdi\": 0.431, \"fitted_slr\": 4.009648449272118, \"resid_slr\": 1.4003515507278825, \"lwr_mean\": 3.8278814507695493, \"upr_mean\": 4.191415447774686, \"lwr_obs\": 2.6738056313072733, \"upr_obs\": 5.345491267236962}, {\"fertility_total\": 2.503, \"educ_expected_yrs_f\": 9.635119438, \"hdi\": 0.585, \"fitted_slr\": 3.392678259491442, \"resid_slr\": -0.8896782594914421, \"lwr_mean\": 3.25607683520378, \"upr_mean\": 3.5292796837791043, \"lwr_obs\": 2.062228432673068, \"upr_obs\": 4.723128086309816}, {\"fertility_total\": 4.572, \"educ_expected_yrs_f\": 8.315596581, \"hdi\": 0.56, \"fitted_slr\": 3.9567374753807893, \"resid_slr\": 0.6152625246192107, \"lwr_mean\": 3.7793295030964162, \"upr_mean\": 4.134145447665163, \"lwr_obs\": 2.621480802978934, \"upr_obs\": 5.291994147782645}, {\"fertility_total\": 1.4988, \"educ_expected_yrs_f\": 13.709587099999998, \"hdi\": 0.928, \"fitted_slr\": 1.6509569831966275, \"resid_slr\": -0.15215698319662763, \"lwr_mean\": 1.4965710837972288, \"upr_mean\": 1.8053428825960263, \"lwr_obs\": 0.3185637234955043, \"upr_obs\": 2.9833502428977505}, {\"fertility_total\": 4.721, \"educ_expected_yrs_f\": 3.848102808, \"hdi\": 0.395, \"fitted_slr\": 5.866466451442718, \"resid_slr\": -1.1454664514427177, \"lwr_mean\": 5.509411386672244, \"upr_mean\": 6.223521516213192, \"lwr_obs\": 4.495727558785962, \"upr_obs\": 7.237205344099474}, {\"fertility_total\": 5.747000000000001, \"educ_expected_yrs_f\": 4.473656654, \"hdi\": 0.397, \"fitted_slr\": 5.599059630863993, \"resid_slr\": 0.14794036913600817, \"lwr_mean\": 5.268679009329624, \"upr_mean\": 5.929440252398361, \"lwr_obs\": 4.2350258528185005, \"upr_obs\": 6.963093408909485}, {\"fertility_total\": 1.649, \"educ_expected_yrs_f\": 13.05471802, \"hdi\": 0.8490000000000001, \"fitted_slr\": 1.930895248619928, \"resid_slr\": -0.281895248619928, \"lwr_mean\": 1.7950852348017825, \"upr_mean\": 2.0667052624380733, \"lwr_obs\": 0.6005264454616053, \"upr_obs\": 3.2612640517782507}, {\"fertility_total\": 1.69, \"educ_expected_yrs_f\": 13.0906477, \"hdi\": 0.755, \"fitted_slr\": 1.91553631260723, \"resid_slr\": -0.22553631260723006, \"lwr_mean\": 1.7788072083990178, \"upr_mean\": 2.052265416815442, \"lwr_obs\": 0.5850733704321376, \"upr_obs\": 3.2459992547823227}, {\"fertility_total\": 1.807, \"educ_expected_yrs_f\": 12.70421314, \"hdi\": 0.764, \"fitted_slr\": 2.0807263081801106, \"resid_slr\": -0.2737263081801107, \"lwr_mean\": 1.9531468722779066, \"upr_mean\": 2.2083057440823146, \"lwr_obs\": 0.7511725089569472, \"upr_obs\": 3.410280107403274}, {\"fertility_total\": 4.205, \"educ_expected_yrs_f\": 8.128657341, \"hdi\": 0.552, \"fitted_slr\": 4.036648786180728, \"resid_slr\": 0.16835121381927198, \"lwr_mean\": 3.8526318625604903, \"upr_mean\": 4.220665709800966, \"lwr_obs\": 2.7004979635778756, \"upr_obs\": 5.3727996087835805}, {\"fertility_total\": 1.754, \"educ_expected_yrs_f\": 12.51764488, \"hdi\": 0.8079999999999999, \"fitted_slr\": 2.160479035377802, \"resid_slr\": -0.40647903537780206, \"lwr_mean\": 2.0366784410279504, \"upr_mean\": 2.2842796297276537, \"lwr_obs\": 0.8312825187840367, \"upr_obs\": 3.489675551971567}, {\"fertility_total\": 1.47, \"educ_expected_yrs_f\": 13.5518446, \"hdi\": 0.848, \"fitted_slr\": 1.718387502031834, \"resid_slr\": -0.24838750203183402, \"lwr_mean\": 1.5687984467214953, \"upr_mean\": 1.8679765573421727, \"lwr_obs\": 0.3865415357007935, \"upr_obs\": 3.0502334683628742}, {\"fertility_total\": 1.329, \"educ_expected_yrs_f\": 13.61954403, \"hdi\": 0.885, \"fitted_slr\": 1.689447884048426, \"resid_slr\": -0.360447884048426, \"lwr_mean\": 1.5378224665317537, \"upr_mean\": 1.8410733015650982, \"lwr_obs\": 0.3573716625803267, \"upr_obs\": 3.021524105516525}, {\"fertility_total\": 1.73, \"educ_expected_yrs_f\": 13.47161579, \"hdi\": 0.939, \"fitted_slr\": 1.7526830804829894, \"resid_slr\": -0.022683080482989393, \"lwr_mean\": 1.605461670170096, \"upr_mean\": 1.8999044907958829, \"lwr_obs\": 0.4211009627680733, \"upr_obs\": 3.0842651981979055}, {\"fertility_total\": 2.346, \"educ_expected_yrs_f\": 12.15325356, \"hdi\": 0.7509999999999999, \"fitted_slr\": 2.316246160703229, \"resid_slr\": 0.029753839296771112, \"lwr_mean\": 2.198432856030835, \"upr_mean\": 2.434059465375623, \"lwr_obs\": 0.9875939235390214, \"upr_obs\": 3.6448983978674363}, {\"fertility_total\": 2.427, \"educ_expected_yrs_f\": 13.219711300000002, \"hdi\": 0.762, \"fitted_slr\": 1.8603652235808747, \"resid_slr\": 0.5666347764191253, \"lwr_mean\": 1.7202296416093763, \"upr_mean\": 2.0005008055523734, \"lwr_obs\": 0.5295478905489841, \"upr_obs\": 3.191182556612765}, {\"fertility_total\": 2.039, \"educ_expected_yrs_f\": 10.9428196, \"hdi\": 0.67, \"fitted_slr\": 2.8336729159439207, \"resid_slr\": -0.7946729159439205, \"lwr_mean\": 2.71985176551952, \"upr_mean\": 2.9474940663683213, \"lwr_obs\": 1.5053687162789655, \"upr_obs\": 4.161977115608876}, {\"fertility_total\": 1.67, \"educ_expected_yrs_f\": 13.53030491, \"hdi\": 0.889, \"fitted_slr\": 1.7275951186998189, \"resid_slr\": -0.057595118699818926, \"lwr_mean\": 1.5786466676520048, \"upr_mean\": 1.876543569747633, \"lwr_obs\": 0.3958209510448194, \"upr_obs\": 3.0593692863548183}, {\"fertility_total\": 4.247, \"educ_expected_yrs_f\": 7.516855717, \"hdi\": 0.478, \"fitted_slr\": 4.298176915445463, \"resid_slr\": -0.05117691544546332, \"lwr_mean\": 4.091599030913178, \"upr_mean\": 4.504754799977748, \"lwr_obs\": 2.958732547454968, \"upr_obs\": 5.6376212834359585}, {\"fertility_total\": 2.774, \"educ_expected_yrs_f\": 11.43205929, \"hdi\": 0.742, \"fitted_slr\": 2.624536594841643, \"resid_slr\": 0.149463405158357, \"lwr_mean\": 2.512239143438776, \"upr_mean\": 2.73683404624451, \"lwr_obs\": 1.296362091941063, \"upr_obs\": 3.952711097742223}, {\"fertility_total\": 1.41, \"educ_expected_yrs_f\": 13.74469662, \"hdi\": 0.937, \"fitted_slr\": 1.6359486427071899, \"resid_slr\": -0.22594864270718995, \"lwr_mean\": 1.4804708917951328, \"upr_mean\": 1.791426393619247, \"lwr_obs\": 0.30342842762889877, \"upr_obs\": 2.968468857785481}, {\"fertility_total\": 1.88, \"educ_expected_yrs_f\": 13.8239584, \"hdi\": 0.898, \"fitted_slr\": 1.6020664426076467, \"resid_slr\": 0.27793355739235315, \"lwr_mean\": 1.4440931081535715, \"upr_mean\": 1.760039777061722, \"lwr_obs\": 0.269252739586042, \"upr_obs\": 2.9348801456292515}, {\"fertility_total\": 3.969, \"educ_expected_yrs_f\": 8.538388252, \"hdi\": 0.6970000000000001, \"fitted_slr\": 3.8615002503609444, \"resid_slr\": 0.10749974963905551, \"lwr_mean\": 3.691757283502228, \"upr_mean\": 4.031243217219661, \"lwr_obs\": 2.5272403553773533, \"upr_obs\": 5.1957601453445355}, {\"fertility_total\": 2.06, \"educ_expected_yrs_f\": 13.02663994, \"hdi\": 0.805, \"fitted_slr\": 1.9428978446374652, \"resid_slr\": 0.11710215536253488, \"lwr_mean\": 1.807796886605024, \"upr_mean\": 2.077998802669906, \"lwr_obs\": 0.6126012380775196, \"upr_obs\": 3.2731944511974107}, {\"fertility_total\": 1.57, \"educ_expected_yrs_f\": 13.34453487, \"hdi\": 0.946, \"fitted_slr\": 1.8070066291122773, \"resid_slr\": -0.2370066291122772, \"lwr_mean\": 1.6634286136846124, \"upr_mean\": 1.9505846445399422, \"lwr_obs\": 0.4758224047925288, \"upr_obs\": 3.1381908534320258}, {\"fertility_total\": 3.87, \"educ_expected_yrs_f\": 11.91578197, \"hdi\": 0.606, \"fitted_slr\": 2.417758641628292, \"resid_slr\": 1.4522413583717082, \"lwr_mean\": 2.3027447744766394, \"upr_mean\": 2.5327725087799444, \"lwr_obs\": 1.0893517076653585, \"upr_obs\": 3.7461655755912253}, {\"fertility_total\": 1.35, \"educ_expected_yrs_f\": 13.28767872, \"hdi\": 0.8809999999999999, \"fitted_slr\": 1.8313110473475174, \"resid_slr\": -0.4813110473475173, \"lwr_mean\": 1.6893183845953297, \"upr_mean\": 1.973303710099705, \"lwr_obs\": 0.5002968818184348, \"upr_obs\": 3.1623252128766}, {\"fertility_total\": 2.063, \"educ_expected_yrs_f\": 13.13885593, \"hdi\": 0.773, \"fitted_slr\": 1.8949286389553794, \"resid_slr\": 0.16807136104462073, \"lwr_mean\": 1.7569460502617371, \"upr_mean\": 2.0329112276490218, \"lwr_obs\": 0.564336294416218, \"upr_obs\": 3.225520983494541}, {\"fertility_total\": 2.87, \"educ_expected_yrs_f\": 9.521496773, \"hdi\": 0.657, \"fitted_slr\": 3.441248779499613, \"resid_slr\": -0.5712487794996131, \"lwr_mean\": 3.301662315037357, \"upr_mean\": 3.5808352439618694, \"lwr_obs\": 2.1104891567184376, \"upr_obs\": 4.772008402280789}, {\"fertility_total\": 4.7, \"educ_expected_yrs_f\": 6.210740089, \"hdi\": 0.473, \"fitted_slr\": 4.8565049149054245, \"resid_slr\": -0.15650491490542429, \"lwr_mean\": 4.598460453597995, \"upr_mean\": 5.114549376212854, \"lwr_obs\": 3.5081638094817764, \"upr_obs\": 6.2048460203290725}, {\"fertility_total\": 2.462, \"educ_expected_yrs_f\": 12.30990696, \"hdi\": 0.68, \"fitted_slr\": 2.2492812017397332, \"resid_slr\": 0.21271879826026696, \"lwr_mean\": 2.1291328356904597, \"upr_mean\": 2.3694295677890067, \"lwr_obs\": 0.9204198762328413, \"upr_obs\": 3.578142527246625}, {\"fertility_total\": 2.935, \"educ_expected_yrs_f\": 11.44699955, \"hdi\": 0.508, \"fitted_slr\": 2.6181500504206223, \"resid_slr\": 0.31684994957937773, \"lwr_mean\": 2.505831170264854, \"upr_mean\": 2.7304689305763907, \"lwr_obs\": 1.2899737355425602, \"upr_obs\": 3.9463263652986846}, {\"fertility_total\": 2.46, \"educ_expected_yrs_f\": 9.822359085, \"hdi\": 0.633, \"fitted_slr\": 3.3126385330782617, \"resid_slr\": -0.8526385330782618, \"lwr_mean\": 3.180668675447936, \"upr_mean\": 3.4446083907085874, \"lwr_obs\": 1.982656264066155, \"upr_obs\": 4.642620802090368}, {\"fertility_total\": 1.55, \"educ_expected_yrs_f\": 12.96164417, \"hdi\": 0.85, \"fitted_slr\": 1.970681723384118, \"resid_slr\": -0.420681723384118, \"lwr_mean\": 1.8371904220620463, \"upr_mean\": 2.10417302470619, \"lwr_obs\": 0.6405476248465745, \"upr_obs\": 3.3008158219216615}, {\"fertility_total\": 1.71, \"educ_expected_yrs_f\": 13.54500961, \"hdi\": 0.946, \"fitted_slr\": 1.7213092696083183, \"resid_slr\": -0.01130926960831835, \"lwr_mean\": 1.5719238785907335, \"upr_mean\": 1.8706946606259032, \"lwr_obs\": 0.38948616288088966, \"upr_obs\": 3.053132376335747}, {\"fertility_total\": 2.222, \"educ_expected_yrs_f\": 10.93618393, \"hdi\": 0.642, \"fitted_slr\": 2.836509479780041, \"resid_slr\": -0.614509479780041, \"lwr_mean\": 2.7226383862184567, \"upr_mean\": 2.9503805733416253, \"lwr_obs\": 1.5082009996021364, \"upr_obs\": 4.164817959957945}, {\"fertility_total\": 2.311, \"educ_expected_yrs_f\": 12.41253376, \"hdi\": 0.7120000000000001, \"fitted_slr\": 2.205411107311173, \"resid_slr\": 0.10558889268882687, \"lwr_mean\": 2.0835348554706514, \"upr_mean\": 2.3272873591516947, \"lwr_obs\": 0.8763924417814832, \"upr_obs\": 3.5344297728408627}, {\"fertility_total\": 3.672, \"educ_expected_yrs_f\": 7.038986206000001, \"hdi\": 0.6709999999999999, \"fitted_slr\": 4.5024528021738774, \"resid_slr\": -0.8304528021738773, \"lwr_mean\": 4.277469314960029, \"upr_mean\": 4.727436289387726, \"lwr_obs\": 3.1600466184565468, \"upr_obs\": 5.844858985891208}, {\"fertility_total\": 1.75, \"educ_expected_yrs_f\": 13.92032051, \"hdi\": 0.951, \"fitted_slr\": 1.5608743284129605, \"resid_slr\": 0.18912567158703952, \"lwr_mean\": 1.399812119342713, \"upr_mean\": 1.7219365374832079, \"lwr_obs\": 0.2276909847748052, \"upr_obs\": 2.8940576720511157}, {\"fertility_total\": 3.09, \"educ_expected_yrs_f\": 13.90762043, \"hdi\": 0.916, \"fitted_slr\": 1.5663032583693683, \"resid_slr\": 1.5236967416306315, \"lwr_mean\": 1.4056514828306115, \"upr_mean\": 1.7269550339081252, \"lwr_obs\": 0.23316943704932602, \"upr_obs\": 2.8994370796894104}, {\"fertility_total\": 1.29, \"educ_expected_yrs_f\": 13.31961727, \"hdi\": 0.89, \"fitted_slr\": 1.8176582080851487, \"resid_slr\": -0.5276582080851486, \"lwr_mean\": 1.6747784886301218, \"upr_mean\": 1.9605379275401755, \"lwr_obs\": 0.486549119093878, \"upr_obs\": 3.1487672970764193}, {\"fertility_total\": 1.979, \"educ_expected_yrs_f\": 11.82789326, \"hdi\": 0.7340000000000001, \"fitted_slr\": 2.4553286136716985, \"resid_slr\": -0.47632861367169843, \"lwr_mean\": 2.3411131306792154, \"upr_mean\": 2.5695440966641816, \"lwr_obs\": 1.1269905659147168, \"upr_obs\": 3.78366666142868}, {\"fertility_total\": 2.761, \"educ_expected_yrs_f\": 11.72220421, \"hdi\": 0.728, \"fitted_slr\": 2.5005077345598563, \"resid_slr\": 0.2604922654401438, \"lwr_mean\": 2.3870760490313714, \"upr_mean\": 2.6139394200883412, \"lwr_obs\": 1.1722368511006664, \"upr_obs\": 3.8287786180190464}, {\"fertility_total\": 2.84, \"educ_expected_yrs_f\": 13.86884308, \"hdi\": 0.8190000000000001, \"fitted_slr\": 1.5828794938769484, \"resid_slr\": 1.2571205061230515, \"lwr_mean\": 1.423474694073141, \"upr_mean\": 1.7422842936807557, \"lwr_obs\": 0.24989536690314407, \"upr_obs\": 2.915863620850753}, {\"fertility_total\": 3.492, \"educ_expected_yrs_f\": 11.30184937, \"hdi\": 0.599, \"fitted_slr\": 2.68019770369367, \"resid_slr\": 0.8118022963063298, \"lwr_mean\": 2.5679157175515757, \"upr_mean\": 2.7924796898357647, \"lwr_obs\": 1.3520245082949538, \"upr_obs\": 4.0083708990923865}, {\"fertility_total\": 3.569, \"educ_expected_yrs_f\": 11.82059479, \"hdi\": 0.628, \"fitted_slr\": 2.458448506020325, \"resid_slr\": 1.110551493979675, \"lwr_mean\": 2.344293378922485, \"upr_mean\": 2.572603633118165, \"lwr_obs\": 1.130115646528267, \"upr_obs\": 3.786781365512383}, {\"fertility_total\": 2.082, \"educ_expected_yrs_f\": 12.40283394, \"hdi\": 0.807, \"fitted_slr\": 2.2095575098038944, \"resid_slr\": -0.12755750980389458, \"lwr_mean\": 2.087851058615022, \"upr_mean\": 2.331263960992767, \"lwr_obs\": 0.8805544049073661, \"upr_obs\": 3.5385606147004225}, {\"fertility_total\": 1.6, \"educ_expected_yrs_f\": 13.7176199, \"hdi\": 0.863, \"fitted_slr\": 1.647523185255682, \"resid_slr\": -0.04752318525568189, \"lwr_mean\": 1.4928882298179675, \"upr_mean\": 1.8021581406933964, \"lwr_obs\": 0.31510104418820206, \"upr_obs\": 2.979945326323162}, {\"fertility_total\": 3.141, \"educ_expected_yrs_f\": 10.41264439, \"hdi\": 0.522, \"fitted_slr\": 3.0603080300308982, \"resid_slr\": 0.08069196996910177, \"lwr_mean\": 2.9401877184461624, \"upr_mean\": 3.180428341615634, \"lwr_obs\": 1.7314492407613846, \"upr_obs\": 4.389166819300412}, {\"fertility_total\": 4.315, \"educ_expected_yrs_f\": 4.166073798999999, \"hdi\": 0.48, \"fitted_slr\": 5.730542721961601, \"resid_slr\": -1.415542721961601, \"lwr_mean\": 5.387077324541073, \"upr_mean\": 6.07400811938213, \"lwr_obs\": 4.363280760306534, \"upr_obs\": 7.097804683616669}, {\"fertility_total\": 1.63, \"educ_expected_yrs_f\": 13.88928127, \"hdi\": 0.8759999999999999, \"fitted_slr\": 1.5741427377348016, \"resid_slr\": 0.05585726226519827, \"lwr_mean\": 1.4140818732967035, \"upr_mean\": 1.7342036021728997, \"lwr_obs\": 0.24107999619249343, \"upr_obs\": 2.90720547927711}, {\"fertility_total\": 1.38, \"educ_expected_yrs_f\": 12.47436428, \"hdi\": 0.913, \"fitted_slr\": 2.1789802846511375, \"resid_slr\": -0.7989802846511376, \"lwr_mean\": 2.0559905581888565, \"upr_mean\": 2.3019700111134185, \"lwr_obs\": 0.8498590466224578, \"upr_obs\": 3.508101522679817}, {\"fertility_total\": 4.077, \"educ_expected_yrs_f\": 8.609224318999999, \"hdi\": 0.527, \"fitted_slr\": 3.8312198075503168, \"resid_slr\": 0.2457801924496832, \"lwr_mean\": 3.663860951662906, \"upr_mean\": 3.9985786634377276, \"lwr_obs\": 2.4972611203311184, \"upr_obs\": 5.165178494769515}, {\"fertility_total\": 4.209, \"educ_expected_yrs_f\": 9.583486557, \"hdi\": 0.478, \"fitted_slr\": 3.414749875921932, \"resid_slr\": 0.7942501240780677, \"lwr_mean\": 3.2768075873648708, \"upr_mean\": 3.552692164478993, \"lwr_obs\": 2.084161709908126, \"upr_obs\": 4.745338041935738}, {\"fertility_total\": 2.001, \"educ_expected_yrs_f\": 12.68888378, \"hdi\": 0.805, \"fitted_slr\": 2.0872791819979573, \"resid_slr\": -0.08627918199795737, \"lwr_mean\": 1.9600269989313335, \"upr_mean\": 2.2145313650645813, \"lwr_obs\": 0.7577567449331122, \"upr_obs\": 3.4168016190628023}, {\"fertility_total\": 5.877000000000001, \"educ_expected_yrs_f\": 5.42065239, \"hdi\": 0.431, \"fitted_slr\": 5.194245368295508, \"resid_slr\": 0.6827546317044924, \"lwr_mean\": 4.903688012020073, \"upr_mean\": 5.484802724570944, \"lwr_obs\": 3.839306118790427, \"upr_obs\": 6.54918461780059}, {\"fertility_total\": 1.23, \"educ_expected_yrs_f\": 13.50980282, \"hdi\": 0.894, \"fitted_slr\": 1.736359190309601, \"resid_slr\": -0.506359190309601, \"lwr_mean\": 1.5880171398688896, \"upr_mean\": 1.8847012407503123, \"lwr_obs\": 0.4046527074491404, \"upr_obs\": 3.0680656731700617}, {\"fertility_total\": 4.561, \"educ_expected_yrs_f\": 7.564128876, \"hdi\": 0.542, \"fitted_slr\": 4.277968958564159, \"resid_slr\": 0.2830310414358408, \"lwr_mean\": 4.073178367346523, \"upr_mean\": 4.482759549781795, \"lwr_obs\": 2.938799074339274, \"upr_obs\": 5.6171388427890445}, {\"fertility_total\": 1.41, \"educ_expected_yrs_f\": 12.77645302, \"hdi\": 0.8009999999999999, \"fitted_slr\": 2.049845774468567, \"resid_slr\": -0.639845774468567, \"lwr_mean\": 1.9206854547894476, \"upr_mean\": 2.1790060941476863, \"lwr_obs\": 0.7201393479430591, \"upr_obs\": 3.379552200994075}, {\"fertility_total\": 2.129, \"educ_expected_yrs_f\": 12.97874069, \"hdi\": 0.7759999999999999, \"fitted_slr\": 1.9633734379577013, \"resid_slr\": 0.16562656204229875, \"lwr_mean\": 1.8294630810186954, \"upr_mean\": 2.097283794896707, \"lwr_obs\": 0.6331972179555712, \"upr_obs\": 3.293549657959831}, {\"fertility_total\": 2.895, \"educ_expected_yrs_f\": 13.25112915, \"hdi\": 0.735, \"fitted_slr\": 1.8469349690446106, \"resid_slr\": 1.0480650309553894, \"lwr_mean\": 1.705946203982958, \"upr_mean\": 1.9879237341062632, \"lwr_obs\": 0.5160275250661672, \"upr_obs\": 3.177842413023054}, {\"fertility_total\": 1.745, \"educ_expected_yrs_f\": 12.64217091, \"hdi\": 0.826, \"fitted_slr\": 2.1072476309599146, \"resid_slr\": -0.3622476309599145, \"lwr_mean\": 1.9809745458812957, \"upr_mean\": 2.2335207160385333, \"lwr_obs\": 0.7778185487675264, \"upr_obs\": 3.436676713152303}, {\"fertility_total\": 2.415, \"educ_expected_yrs_f\": 10.41762161, \"hdi\": 0.68, \"fitted_slr\": 3.0581804073105983, \"resid_slr\": -0.6431804073105982, \"lwr_mean\": 2.9381398583644267, \"upr_mean\": 3.17822095625677, \"lwr_obs\": 1.7293288256977675, \"upr_obs\": 4.387031988923429}, {\"fertility_total\": 2.154, \"educ_expected_yrs_f\": 9.829102516, \"hdi\": 0.579, \"fitted_slr\": 3.309755904420421, \"resid_slr\": -1.1557559044204209, \"lwr_mean\": 3.177945786811173, \"upr_mean\": 3.4415660220296687, \"lwr_obs\": 1.9797894763975976, \"upr_obs\": 4.6397223324432435}, {\"fertility_total\": 3.3960000000000004, \"educ_expected_yrs_f\": 9.723130226, \"hdi\": 0.645, \"fitted_slr\": 3.3550561025081596, \"resid_slr\": 0.0409438974918408, \"lwr_mean\": 3.220677977779585, \"upr_mean\": 3.489434227236734, \"lwr_obs\": 2.024832710378405, \"upr_obs\": 4.685279494637914}, {\"fertility_total\": 1.917, \"educ_expected_yrs_f\": 12.0131464, \"hdi\": 0.596, \"fitted_slr\": 2.376138063591337, \"resid_slr\": -0.45913806359133713, \"lwr_mean\": 2.260087843363518, \"upr_mean\": 2.4921882838191562, \"lwr_obs\": 1.047641000674543, \"upr_obs\": 3.7046351265081316}, {\"fertility_total\": 1.59, \"educ_expected_yrs_f\": 13.92983341, \"hdi\": 0.942, \"fitted_slr\": 1.5568078290064753, \"resid_slr\": 0.03319217099352478, \"lwr_mean\": 1.3954375386886808, \"upr_mean\": 1.7181781193242698, \"lwr_obs\": 0.22358723092044475, \"upr_obs\": 2.890028427092506}, {\"fertility_total\": 1.71, \"educ_expected_yrs_f\": 13.77946663, \"hdi\": 0.928, \"fitted_slr\": 1.6210854332727926, \"resid_slr\": 0.08891456672720732, \"lwr_mean\": 1.464518096803054, \"upr_mean\": 1.7776527697425313, \"lwr_obs\": 0.2884376465666234, \"upr_obs\": 2.953733219978962}, {\"fertility_total\": 2.404, \"educ_expected_yrs_f\": 11.10092926, \"hdi\": 0.659, \"fitted_slr\": 2.766085446449915, \"resid_slr\": -0.36208544644991525, \"lwr_mean\": 2.6532256821983644, \"upr_mean\": 2.878945210701466, \"lwr_obs\": 1.4378632816933792, \"upr_obs\": 4.094307611206451}, {\"fertility_total\": 6.912999999999999, \"educ_expected_yrs_f\": 5.059231758, \"hdi\": 0.391, \"fitted_slr\": 5.3487426073623965, \"resid_slr\": 1.5642573926376029, \"lwr_mean\": 5.043079267010118, \"upr_mean\": 5.654405947714675, \"lwr_obs\": 3.990483843282836, \"upr_obs\": 6.707001371441957}, {\"fertility_total\": 5.3870000000000005, \"educ_expected_yrs_f\": 10.09999943, \"hdi\": 0.534, \"fitted_slr\": 3.1939550298186075, \"resid_slr\": 2.193044970181393, \"lwr_mean\": 3.068120509893137, \"upr_mean\": 3.319789549744078, \"lwr_obs\": 1.864567532145902, \"upr_obs\": 4.523342527491312}, {\"fertility_total\": 1.496, \"educ_expected_yrs_f\": 11.08503532, \"hdi\": 0.77, \"fitted_slr\": 2.77287966246992, \"resid_slr\": -1.27687966246992, \"lwr_mean\": 2.659943255807457, \"upr_mean\": 2.8858160691323826, \"lwr_obs\": 1.4446509831705108, \"upr_obs\": 4.101108341769329}, {\"fertility_total\": 1.56, \"educ_expected_yrs_f\": 13.67211056, \"hdi\": 0.956, \"fitted_slr\": 1.666977158712727, \"resid_slr\": -0.10697715871272684, \"lwr_mean\": 1.5137472352906367, \"upr_mean\": 1.820207082134817, \"lwr_obs\": 0.3347173484671566, \"upr_obs\": 2.9992369689582974}, {\"fertility_total\": 2.888, \"educ_expected_yrs_f\": 13.10266685, \"hdi\": 0.813, \"fitted_slr\": 1.9103984612326275, \"resid_slr\": 0.9776015387673724, \"lwr_mean\": 1.7733589993593282, \"upr_mean\": 2.0474379231059268, \"lwr_obs\": 0.5799035883848789, \"upr_obs\": 3.240893334080376}, {\"fertility_total\": 3.51, \"educ_expected_yrs_f\": 8.687153816, \"hdi\": 0.552, \"fitted_slr\": 3.7979071212718765, \"resid_slr\": -0.2879071212718767, \"lwr_mean\": 3.6331393471827744, \"upr_mean\": 3.9626748953609785, \"lwr_obs\": 2.464271034499364, \"upr_obs\": 5.1315432080443895}, {\"fertility_total\": 2.461, \"educ_expected_yrs_f\": 10.88493347, \"hdi\": 0.812, \"fitted_slr\": 2.858417621899908, \"resid_slr\": -0.3974176218999079, \"lwr_mean\": 2.744135102360488, \"upr_mean\": 2.9727001414393275, \"lwr_obs\": 1.53007380841038, \"upr_obs\": 4.186761435389435}, {\"fertility_total\": 3.564, \"educ_expected_yrs_f\": 9.818692207, \"hdi\": 0.5489999999999999, \"fitted_slr\": 3.3142060211429585, \"resid_slr\": 0.24979397885704158, \"lwr_mean\": 3.182149088486532, \"upr_mean\": 3.4462629537993847, \"lwr_obs\": 1.9842151091340654, \"upr_obs\": 4.644196933151852}, {\"fertility_total\": 2.4290000000000003, \"educ_expected_yrs_f\": 11.26677418, \"hdi\": 0.727, \"fitted_slr\": 2.6951913690656744, \"resid_slr\": -0.2661913690656741, \"lwr_mean\": 2.582861003529608, \"upr_mean\": 2.8075217346017407, \"lwr_obs\": 1.3670140828628536, \"upr_obs\": 4.023368655268495}, {\"fertility_total\": 2.254, \"educ_expected_yrs_f\": 12.89012051, \"hdi\": 0.7709999999999999, \"fitted_slr\": 2.001256093023201, \"resid_slr\": 0.25274390697679916, \"lwr_mean\": 1.869483403316457, \"upr_mean\": 2.133028782729945, \"lwr_obs\": 0.6712933738779712, \"upr_obs\": 3.3312188121684305}, {\"fertility_total\": 2.576, \"educ_expected_yrs_f\": 13.04763317, \"hdi\": 0.711, \"fitted_slr\": 1.9339238243770613, \"resid_slr\": 0.6420761756229387, \"lwr_mean\": 1.798293490845113, \"upr_mean\": 2.0695541579090095, \"lwr_obs\": 0.6035733517806063, \"upr_obs\": 3.2642742969735163}, {\"fertility_total\": 1.46, \"educ_expected_yrs_f\": 13.45503712, \"hdi\": 0.877, \"fitted_slr\": 1.7597699994788063, \"resid_slr\": -0.29976999947880634, \"lwr_mean\": 1.613031474467336, \"upr_mean\": 1.9065085244902766, \"lwr_obs\": 0.4282411836861606, \"upr_obs\": 3.0912988152714522}, {\"fertility_total\": 1.42, \"educ_expected_yrs_f\": 13.82900047, \"hdi\": 0.86, \"fitted_slr\": 1.5999110983212088, \"resid_slr\": -0.17991109832120888, \"lwr_mean\": 1.4417776088631544, \"upr_mean\": 1.7580445877792632, \"lwr_obs\": 0.2670784032496165, \"upr_obs\": 2.932743793392801}, {\"fertility_total\": 1.866, \"educ_expected_yrs_f\": 12.7883606, \"hdi\": 0.845, \"fitted_slr\": 2.0447556161569405, \"resid_slr\": -0.17875561615694036, \"lwr_mean\": 1.9153286866642558, \"upr_mean\": 2.174182545649625, \"lwr_obs\": 0.7150232661550584, \"upr_obs\": 3.3744879661588225}, {\"fertility_total\": 1.76, \"educ_expected_yrs_f\": 11.98094845, \"hdi\": 0.823, \"fitted_slr\": 2.389901789118257, \"resid_slr\": -0.629901789118257, \"lwr_mean\": 2.274211718172173, \"upr_mean\": 2.505591860064341, \"lwr_obs\": 1.061436138422262, \"upr_obs\": 3.7183674398142523}, {\"fertility_total\": 1.579, \"educ_expected_yrs_f\": 13.68534756, \"hdi\": 0.823, \"fitted_slr\": 1.6613187104326397, \"resid_slr\": -0.08231871043263972, \"lwr_mean\": 1.5076816197432348, \"upr_mean\": 1.8149558011220446, \"lwr_obs\": 0.32901200843075906, \"upr_obs\": 2.99362541243452}, {\"fertility_total\": 4.044, \"educ_expected_yrs_f\": 6.980305195, \"hdi\": 0.54, \"fitted_slr\": 4.5275372975857335, \"resid_slr\": -0.48353729758573394, \"lwr_mean\": 4.300255397236303, \"upr_mean\": 4.754819197935164, \"lwr_obs\": 3.1847439945081257, \"upr_obs\": 5.870330600663341}, {\"fertility_total\": 3.877, \"educ_expected_yrs_f\": 12.44684696, \"hdi\": 0.7090000000000001, \"fitted_slr\": 2.190743171409965, \"resid_slr\": 1.6862568285900346, \"lwr_mean\": 2.0682555867926817, \"upr_mean\": 2.3132307560272487, \"lwr_obs\": 0.861668304839613, \"upr_obs\": 3.5198180379803174}, {\"fertility_total\": 2.319, \"educ_expected_yrs_f\": 12.26758575, \"hdi\": 0.8540000000000001, \"fitted_slr\": 2.267372338548353, \"resid_slr\": 0.0516276614516471, \"lwr_mean\": 2.147891525828383, \"upr_mean\": 2.3868531512683226, \"lwr_obs\": 0.9385712032493767, \"upr_obs\": 3.5961734738473288}, {\"fertility_total\": 4.625, \"educ_expected_yrs_f\": 7.849748135, \"hdi\": 0.516, \"fitted_slr\": 4.155874692125517, \"resid_slr\": 0.46912530787448325, \"lwr_mean\": 3.961734196411785, \"upr_mean\": 4.350015187839248, \"lwr_obs\": 2.8182920499536035, \"upr_obs\": 5.49345733429743}, {\"fertility_total\": 1.49, \"educ_expected_yrs_f\": 13.49239731, \"hdi\": 0.8029999999999999, \"fitted_slr\": 1.7437995603423537, \"resid_slr\": -0.25379956034235374, \"lwr_mean\": 1.595969730597695, \"upr_mean\": 1.8916293900870125, \"lwr_obs\": 0.41215003771038194, \"upr_obs\": 3.0754490829743255}, {\"fertility_total\": 2.41, \"educ_expected_yrs_f\": 13.53542233, \"hdi\": 0.79, \"fitted_slr\": 1.7254075643901203, \"resid_slr\": 0.6845924356098798, \"lwr_mean\": 1.5763072424255777, \"upr_mean\": 1.874507886354663, \"lwr_obs\": 0.3936164026182929, \"upr_obs\": 3.057198726161948}, {\"fertility_total\": 4.263, \"educ_expected_yrs_f\": 9.282006264, \"hdi\": 0.447, \"fitted_slr\": 3.543624291983427, \"resid_slr\": 0.7193757080165728, \"lwr_mean\": 3.397356544210406, \"upr_mean\": 3.6898920397564483, \"lwr_obs\": 2.212147275057406, \"upr_obs\": 4.875101308909448}, {\"fertility_total\": 1.14, \"educ_expected_yrs_f\": 13.90422153, \"hdi\": 0.936, \"fitted_slr\": 1.567756193313781, \"resid_slr\": -0.427756193313781, \"lwr_mean\": 1.4072140924307015, \"upr_mean\": 1.7282982941968603, \"lwr_obs\": 0.23463558409660434, \"upr_obs\": 2.9008768025309575}, {\"fertility_total\": 1.61, \"educ_expected_yrs_f\": 13.71750641, \"hdi\": 0.912, \"fitted_slr\": 1.6475716990651033, \"resid_slr\": -0.03757169906510316, \"lwr_mean\": 1.492940265494321, \"upr_mean\": 1.8022031326358856, \"lwr_obs\": 0.3151499667251587, \"upr_obs\": 2.979993431405048}, {\"fertility_total\": 4.4030000000000005, \"educ_expected_yrs_f\": 8.841700553999999, \"hdi\": 0.564, \"fitted_slr\": 3.7318427015522144, \"resid_slr\": 0.671157298447786, \"lwr_mean\": 3.572108803932149, \"upr_mean\": 3.89157659917228, \"lwr_obs\": 2.3988191793994655, \"upr_obs\": 5.064866223704963}, {\"fertility_total\": 2.405, \"educ_expected_yrs_f\": 10.11397743, \"hdi\": 0.7070000000000001, \"fitted_slr\": 3.1879798247072486, \"resid_slr\": -0.7829798247072488, \"lwr_mean\": 3.0624290698692467, \"upr_mean\": 3.3135305795452505, \"lwr_obs\": 1.8586191570914148, \"upr_obs\": 4.517340492323083}, {\"fertility_total\": 4.696000000000001, \"educ_expected_yrs_f\": 3.916237831, \"hdi\": 0.429, \"fitted_slr\": 5.8373406296018135, \"resid_slr\": -1.141340629601813, \"lwr_mean\": 5.483202594490073, \"upr_mean\": 6.1914786647135545, \"lwr_obs\": 4.467358680641745, \"upr_obs\": 7.207322578561882}, {\"fertility_total\": 1.26, \"educ_expected_yrs_f\": 13.08606815, \"hdi\": 0.905, \"fitted_slr\": 1.917493942494748, \"resid_slr\": -0.6574939424947479, \"lwr_mean\": 1.7808827102352405, \"upr_mean\": 2.0541051747542554, \"lwr_obs\": 0.58704310862561, \"upr_obs\": 3.2479447763638856}, {\"fertility_total\": 2.199, \"educ_expected_yrs_f\": 13.11488724, \"hdi\": 0.779, \"fitted_slr\": 1.905174585371217, \"resid_slr\": 0.29382541462878287, \"lwr_mean\": 1.7678180932593839, \"upr_mean\": 2.04253107748305, \"lwr_obs\": 0.5746470213993571, \"upr_obs\": 3.235702149343077}, {\"fertility_total\": 4.407, \"educ_expected_yrs_f\": 6.943500996, \"hdi\": 0.506, \"fitted_slr\": 4.543270066077954, \"resid_slr\": -0.13627006607795433, \"lwr_mean\": 4.314542768040271, \"upr_mean\": 4.771997364115638, \"lwr_obs\": 3.2002313587313482, \"upr_obs\": 5.8863087734245605}, {\"fertility_total\": 1.76, \"educ_expected_yrs_f\": 13.90402126, \"hdi\": 0.943, \"fitted_slr\": 1.5678418031526453, \"resid_slr\": 0.1921581968473547, \"lwr_mean\": 1.4073061622872796, \"upr_mean\": 1.728377444018011, \"lwr_obs\": 0.23472197187277222, \"upr_obs\": 2.9009616344325186}, {\"fertility_total\": 1.52, \"educ_expected_yrs_f\": 13.21845913, \"hdi\": 0.955, \"fitted_slr\": 1.8609004913290723, \"resid_slr\": -0.3409004913290723, \"lwr_mean\": 1.7207987237350335, \"upr_mean\": 2.001002258923111, \"lwr_obs\": 0.5300867185394316, \"upr_obs\": 3.191714264118713}, {\"fertility_total\": 3.585, \"educ_expected_yrs_f\": 10.43918705, \"hdi\": 0.6609999999999999, \"fitted_slr\": 3.0489617832358595, \"resid_slr\": 0.5360382167641404, \"lwr_mean\": 2.9292625785405053, \"upr_mean\": 3.1686609879312138, \"lwr_obs\": 1.7201409931485265, \"upr_obs\": 4.377782573323192}, {\"fertility_total\": 1.525, \"educ_expected_yrs_f\": 12.644207000000002, \"hdi\": 0.772, \"fitted_slr\": 2.106377259277614, \"resid_slr\": -0.5813772592776143, \"lwr_mean\": 1.9800620727587512, \"upr_mean\": 2.232692445796477, \"lwr_obs\": 0.7769441775059447, \"upr_obs\": 3.435810341049284}, {\"fertility_total\": 4.023, \"educ_expected_yrs_f\": 10.87477875, \"hdi\": 0.599, \"fitted_slr\": 2.862758481454094, \"resid_slr\": 1.1602415185459058, \"lwr_mean\": 2.748389068290066, \"upr_mean\": 2.9771278946181217, \"lwr_obs\": 1.5344071893513205, \"upr_obs\": 4.191109773556867}, {\"fertility_total\": 4.32, \"educ_expected_yrs_f\": 9.123530388, \"hdi\": 0.51, \"fitted_slr\": 3.6113683086025623, \"resid_slr\": 0.708631691397438, \"lwr_mean\": 3.4604164981333634, \"upr_mean\": 3.7623201190717612, \"lwr_obs\": 2.279368593269427, \"upr_obs\": 4.943368023935697}, {\"fertility_total\": 3.556, \"educ_expected_yrs_f\": 11.83284092, \"hdi\": 0.723, \"fitted_slr\": 2.45321362702688, \"resid_slr\": 1.10278637297312, \"lwr_mean\": 2.3389567069020503, \"upr_mean\": 2.56747054715171, \"lwr_obs\": 1.1248720157084529, \"upr_obs\": 3.781555238345307}, {\"fertility_total\": 2.197, \"educ_expected_yrs_f\": 10.95233727, \"hdi\": 0.738, \"fitted_slr\": 2.8296043774954858, \"resid_slr\": -0.6326043774954857, \"lwr_mean\": 2.7158535240107935, \"upr_mean\": 2.943355230980178, \"lwr_obs\": 1.5013061996633699, \"upr_obs\": 4.157902555327602}, {\"fertility_total\": 2.069, \"educ_expected_yrs_f\": 11.99552917, \"hdi\": 0.8170000000000001, \"fitted_slr\": 2.3836689380185794, \"resid_slr\": -0.3146689380185794, \"lwr_mean\": 2.2678178930229533, \"upr_mean\": 2.4995199830142054, \"lwr_obs\": 1.0551892591411784, \"upr_obs\": 3.7121486168959805}, {\"fertility_total\": 1.301, \"educ_expected_yrs_f\": 13.00567055, \"hdi\": 0.774, \"fitted_slr\": 1.9518616739628396, \"resid_slr\": -0.6508616739628397, \"lwr_mean\": 1.8172849135653797, \"upr_mean\": 2.0864384343602995, \"lwr_obs\": 0.6216182011343883, \"upr_obs\": 3.2821051467912907}, {\"fertility_total\": 1.413, \"educ_expected_yrs_f\": 13.1702652, \"hdi\": 0.889, \"fitted_slr\": 1.881502052129793, \"resid_slr\": -0.4685020521297929, \"lwr_mean\": 1.7426905282978784, \"upr_mean\": 2.0203135759617075, \"lwr_obs\": 0.5508234915028616, \"upr_obs\": 3.2121806127567245}, {\"fertility_total\": 1.68, \"educ_expected_yrs_f\": 13.85765934, \"hdi\": 0.928, \"fitted_slr\": 1.5876602307786587, \"resid_slr\": 0.09233976922134124, \"lwr_mean\": 1.4286133105844252, \"upr_mean\": 1.7467071509728922, \"lwr_obs\": 0.2547188534529736, \"upr_obs\": 2.9206016081043438}, {\"fertility_total\": 1.7295, \"educ_expected_yrs_f\": 12.93639374, \"hdi\": 0.925, \"fitted_slr\": 1.9814755778983553, \"resid_slr\": -0.25197557789835523, \"lwr_mean\": 1.848597420235866, \"upr_mean\": 2.1143537355608446, \"lwr_obs\": 0.6514028741158135, \"upr_obs\": 3.311548281680897}, {\"fertility_total\": 1.973, \"educ_expected_yrs_f\": 12.47761631, \"hdi\": 0.816, \"fitted_slr\": 2.177590132535077, \"resid_slr\": -0.20459013253507696, \"lwr_mean\": 2.05454037000363, \"upr_mean\": 2.300639895066524, \"lwr_obs\": 0.8484633377473605, \"upr_obs\": 3.5067169273227936}, {\"fertility_total\": 2.604, \"educ_expected_yrs_f\": 12.00484753, \"hdi\": 0.7170000000000001, \"fitted_slr\": 2.379685599035786, \"resid_slr\": 0.22431440096421396, \"lwr_mean\": 2.2637298396095726, \"upr_mean\": 2.4956413584619996, \"lwr_obs\": 1.0511967843641181, \"upr_obs\": 3.708174413707454}, {\"fertility_total\": 3.782, \"educ_expected_yrs_f\": 10.13373089, \"hdi\": 0.603, \"fitted_slr\": 3.179535771540914, \"resid_slr\": 0.6024642284590862, \"lwr_mean\": 3.054381706280103, \"upr_mean\": 3.3046898368017246, \"lwr_obs\": 1.8502125103982636, \"upr_obs\": 4.508859032683564}, {\"fertility_total\": 4.633, \"educ_expected_yrs_f\": 8.745135307, \"hdi\": 0.5820000000000001, \"fitted_slr\": 3.7731216511482963, \"resid_slr\": 0.8598783488517037, \"lwr_mean\": 3.610259198800208, \"upr_mean\": 3.9359841034963847, \"lwr_obs\": 2.4397196221456188, \"upr_obs\": 5.106523680150974}, {\"fertility_total\": 3.615, \"educ_expected_yrs_f\": 10.97491837, \"hdi\": 0.569, \"fitted_slr\": 2.819951587100572, \"resid_slr\": 0.7950484128994284, \"lwr_mean\": 2.706361194964366, \"upr_mean\": 2.933541979236778, \"lwr_obs\": 1.4916671410012883, \"upr_obs\": 4.148236033199855}]}}, {\"mode\": \"vega-lite\"});\n",
       "</script>"
      ],
      "text/plain": [
       "alt.LayerChart(...)"
      ]
     },
     "execution_count": 47,
     "metadata": {},
     "output_type": "execute_result"
    }
   ],
   "source": [
    "base = alt.Chart(reg_data).mark_circle().encode(\n",
    "    x = alt.X('hdi', title = 'Human development index', scale = alt.Scale(zero = False)),\n",
    "    y = alt.Y('fertility_total', title = 'Fertility rate', scale = alt.Scale(zero = False))\n",
    ")\n",
    "\n",
    "base + base.transform_regression(on = 'fertility_total', regression = 'hdi').mark_line()"
   ]
  },
  {
   "attachments": {},
   "cell_type": "markdown",
   "metadata": {},
   "source": [
    "<!-- BEGIN QUESTION -->\n",
    "\n",
    "### Question 7: fit a model with HDI only\n",
    "\n",
    "Fit the model plotted above. Display the coefficient estimates, standard errors, and $R^2$ statistic."
   ]
  },
  {
   "cell_type": "code",
   "execution_count": 48,
   "metadata": {
    "tags": [
     "otter_assign_solution_cell"
    ]
   },
   "outputs": [
    {
     "name": "stdout",
     "output_type": "stream",
     "text": [
      "r squared:  0.7461743549128427\n"
     ]
    },
    {
     "data": {
      "text/html": [
       "<div>\n",
       "<style scoped>\n",
       "    .dataframe tbody tr th:only-of-type {\n",
       "        vertical-align: middle;\n",
       "    }\n",
       "\n",
       "    .dataframe tbody tr th {\n",
       "        vertical-align: top;\n",
       "    }\n",
       "\n",
       "    .dataframe thead th {\n",
       "        text-align: right;\n",
       "    }\n",
       "</style>\n",
       "<table border=\"1\" class=\"dataframe\">\n",
       "  <thead>\n",
       "    <tr style=\"text-align: right;\">\n",
       "      <th></th>\n",
       "      <th>estimate</th>\n",
       "      <th>standard error</th>\n",
       "    </tr>\n",
       "  </thead>\n",
       "  <tbody>\n",
       "    <tr>\n",
       "      <th>const</th>\n",
       "      <td>7.751735</td>\n",
       "      <td>0.259597</td>\n",
       "    </tr>\n",
       "    <tr>\n",
       "      <th>hdi</th>\n",
       "      <td>-6.996354</td>\n",
       "      <td>0.348625</td>\n",
       "    </tr>\n",
       "    <tr>\n",
       "      <th>error variance</th>\n",
       "      <td>0.402410</td>\n",
       "      <td>NaN</td>\n",
       "    </tr>\n",
       "  </tbody>\n",
       "</table>\n",
       "</div>"
      ],
      "text/plain": [
       "                estimate  standard error\n",
       "const           7.751735        0.259597\n",
       "hdi            -6.996354        0.348625\n",
       "error variance  0.402410             NaN"
      ]
     },
     "execution_count": 48,
     "metadata": {},
     "output_type": "execute_result"
    }
   ],
   "source": [
    "# fit model\n",
    "x = sm.tools.add_constant(reg_data.hdi) # SOLUTION\n",
    "slr = sm.OLS(exog = x, endog = y) # SOLUTION\n",
    "rslt = slr.fit() # SOLUTION\n",
    "\n",
    "# construct coefficient table\n",
    "coef_tbl = pd.DataFrame({\n",
    "    'estimate': rslt.params.values, # SOLUTION\n",
    "    'standard error': np.sqrt(rslt.cov_params().values.diagonal()) # SOLUTION\n",
    "    },\n",
    "    index = x.columns # SOLUTION\n",
    ")\n",
    "\n",
    "coef_tbl.loc['error variance', 'estimate'] = rslt.scale # SOLUTION\n",
    "\n",
    "# display table and print r squared\n",
    "# BEGIN SOLUTION\n",
    "print('r squared: ', rslt.rsquared)\n",
    "coef_tbl\n",
    "# END SOLUTION"
   ]
  },
  {
   "attachments": {},
   "cell_type": "markdown",
   "metadata": {},
   "source": [
    "<!-- END QUESTION -->\n",
    "\n",
    "You should have observed that this model *also* explains about 70% of variance in fertility rates. So it seems like an equally good predictor of fertility rates. However, HDI is highly correlated with women's education:"
   ]
  },
  {
   "cell_type": "code",
   "execution_count": 49,
   "metadata": {},
   "outputs": [
    {
     "data": {
      "text/plain": [
       "0.8794943225352183"
      ]
     },
     "execution_count": 49,
     "metadata": {},
     "output_type": "execute_result"
    }
   ],
   "source": [
    "reg_data.corr().loc['hdi', 'educ_expected_yrs_f']"
   ]
  },
  {
   "attachments": {},
   "cell_type": "markdown",
   "metadata": {},
   "source": [
    "So what do you think will happen if we fit a model with both explanatory variables? Will fertility rate have a stronger association with one or the other? Will the coefficient estimates also be highly correlated? Take a moment to consider this and come up with a hypothesis.\n",
    "\n",
    "The model is fit *exactly* the same way as the SLR models -- all we need change is the explanatory variable matrix. Instead of grabbing one column from the data, we now grab two:"
   ]
  },
  {
   "cell_type": "code",
   "execution_count": 50,
   "metadata": {},
   "outputs": [],
   "source": [
    "# construct explanatory variable matrix\n",
    "x = sm.tools.add_constant(reg_data.loc[:, ['hdi', 'educ_expected_yrs_f']])\n",
    "\n",
    "# fit model\n",
    "mlr = sm.OLS(endog = y, exog = x)\n",
    "\n",
    "# store results\n",
    "rslt = mlr.fit() "
   ]
  },
  {
   "attachments": {},
   "cell_type": "markdown",
   "metadata": {},
   "source": [
    "The coefficient table is shown below:"
   ]
  },
  {
   "cell_type": "code",
   "execution_count": 51,
   "metadata": {},
   "outputs": [
    {
     "data": {
      "text/html": [
       "<div>\n",
       "<style scoped>\n",
       "    .dataframe tbody tr th:only-of-type {\n",
       "        vertical-align: middle;\n",
       "    }\n",
       "\n",
       "    .dataframe tbody tr th {\n",
       "        vertical-align: top;\n",
       "    }\n",
       "\n",
       "    .dataframe thead th {\n",
       "        text-align: right;\n",
       "    }\n",
       "</style>\n",
       "<table border=\"1\" class=\"dataframe\">\n",
       "  <thead>\n",
       "    <tr style=\"text-align: right;\">\n",
       "      <th></th>\n",
       "      <th>estimate</th>\n",
       "      <th>standard error</th>\n",
       "    </tr>\n",
       "  </thead>\n",
       "  <tbody>\n",
       "    <tr>\n",
       "      <th>const</th>\n",
       "      <td>7.960371</td>\n",
       "      <td>0.244939</td>\n",
       "    </tr>\n",
       "    <tr>\n",
       "      <th>hdi</th>\n",
       "      <td>-4.132623</td>\n",
       "      <td>0.680155</td>\n",
       "    </tr>\n",
       "    <tr>\n",
       "      <th>educ_expected_yrs_f</th>\n",
       "      <td>-0.201996</td>\n",
       "      <td>0.042194</td>\n",
       "    </tr>\n",
       "    <tr>\n",
       "      <th>error variance</th>\n",
       "      <td>0.346909</td>\n",
       "      <td>NaN</td>\n",
       "    </tr>\n",
       "  </tbody>\n",
       "</table>\n",
       "</div>"
      ],
      "text/plain": [
       "                     estimate  standard error\n",
       "const                7.960371        0.244939\n",
       "hdi                 -4.132623        0.680155\n",
       "educ_expected_yrs_f -0.201996        0.042194\n",
       "error variance       0.346909             NaN"
      ]
     },
     "execution_count": 51,
     "metadata": {},
     "output_type": "execute_result"
    }
   ],
   "source": [
    "coef_tbl = pd.DataFrame({\n",
    "    'estimate': rslt.params.values,\n",
    "    'standard error': np.sqrt(rslt.cov_params().values.diagonal()) \n",
    "    },\n",
    "    index = x.columns \n",
    ")\n",
    "\n",
    "coef_tbl.loc['error variance', 'estimate'] = rslt.scale\n",
    "\n",
    "coef_tbl\n"
   ]
  },
  {
   "attachments": {},
   "cell_type": "markdown",
   "metadata": {},
   "source": [
    "The association with HDI is not as strong as in the simple linear model -- note the coefficient estimate here is about -4.1, compared with about -7.0 if education is not included. \n",
    "\n",
    "Similarly, the association with education is not as strong as in the simple linear model with only education -- if HDI is not included in the model, the coefficient estimate is about -0.43, whereas with both variables the estimate is about -0.20.\n",
    "\n",
    "So both associations are weaker when both terms are included in the model. Further, the estimates are strongly correlated:"
   ]
  },
  {
   "cell_type": "code",
   "execution_count": 52,
   "metadata": {},
   "outputs": [
    {
     "name": "stdout",
     "output_type": "stream",
     "text": [
      "correlation of hdi and educ coefficient estimates:  -0.879494322535218\n"
     ]
    }
   ],
   "source": [
    "vcov = rslt.cov_params()\n",
    "stderr = np.sqrt(vcov.values.diagonal())\n",
    "corr_mx = np.diag(1/stderr).dot(vcov).dot(np.diag(1/stderr))\n",
    "\n",
    "print('correlation of hdi and educ coefficient estimates: ', corr_mx[1, 2])"
   ]
  },
  {
   "attachments": {},
   "cell_type": "markdown",
   "metadata": {},
   "source": [
    "The multiple linear regression model captures a little bit more variance than either simple linear regression model individually:"
   ]
  },
  {
   "cell_type": "code",
   "execution_count": 53,
   "metadata": {},
   "outputs": [
    {
     "data": {
      "text/plain": [
       "0.7827796420988887"
      ]
     },
     "execution_count": 53,
     "metadata": {},
     "output_type": "execute_result"
    }
   ],
   "source": [
    "rslt.rsquared"
   ]
  },
  {
   "attachments": {},
   "cell_type": "markdown",
   "metadata": {},
   "source": [
    "The MLR model doesn't add much value in terms of fit, so if that is our only concern we might prefer one of the SLR models. However, the presence of additional predictors changes the parameter interpretation -- in the MLR model, the coefficients give the estimated changes in mean fertility rate associated with changes in each explanatory variable *after accounting for the other explanatory variable*. This is one way of understanding why the estimates change so much in the presence of additional explanatory variables -- the association between, *e.g.*, HDI and fertility, is different than the association between HDI and fertility after adjusting for women's expected education.\n",
    "\n",
    "More broadly, these data are definitely *not* a representative sample of any particular population of nations -- the countries (observational units) are conveniently chosen based on which countries reported data. So there is no scope of inference here, for any of the models we've fit.\n",
    "\n",
    "Although we can't claim that, for example, 'the mean fertility rate decreases with education at a rate of 0.2 children per woman per expected year of education after accounting for development status', we *can* say '*among the countries reporting data*, the mean fertility rate decreases with education at a rate of 0.2 children per woman per expected year of education after accounting for development status'. This is a nice example of how a model might be used in a descriptive capacity."
   ]
  },
  {
   "attachments": {},
   "cell_type": "markdown",
   "metadata": {},
   "source": [
    "# Submission\n",
    "\n",
    "\n",
    "1. Save the notebook. \n",
    "2. Restart the kernel and run all cells. (**CAUTION**: if your notebook is not saved, you will lose your work.)\n",
    "3. Carefully look through your notebook and verify that all computations execute correctly and all graphics are displayed clearly. You should see **no errors**; if there are any errors, make sure to correct them before you submit the notebook.\n",
    "4. Download the notebook as an `.ipynb` file. This is your backup copy.\n",
    "5. Export the notebook as PDF and upload to Gradescope."
   ]
  },
  {
   "cell_type": "markdown",
   "metadata": {
    "deletable": false,
    "editable": false
   },
   "source": [
    "---\n",
    "\n",
    "To double-check your work, the cell below will rerun all of the autograder tests."
   ]
  },
  {
   "cell_type": "code",
   "execution_count": null,
   "metadata": {
    "deletable": false,
    "editable": false
   },
   "outputs": [],
   "source": [
    "grader.check_all()"
   ]
  }
 ],
 "metadata": {
  "kernelspec": {
   "display_name": "Python 3",
   "language": "python",
   "name": "python3"
  },
  "language_info": {
   "codemirror_mode": {
    "name": "ipython",
    "version": 3
   },
   "file_extension": ".py",
   "mimetype": "text/x-python",
   "name": "python",
   "nbconvert_exporter": "python",
   "pygments_lexer": "ipython3",
   "version": "3.9.12"
  },
  "otter": {
   "OK_FORMAT": true,
   "tests": {
    "q3": {
     "name": "q3",
     "points": 1,
     "suites": [
      {
       "cases": [
        {
         "code": ">>> x_ctr.shape == x.shape\nTrue",
         "hidden": false,
         "locked": false
        },
        {
         "code": ">>> (x_ctr.iloc[:, 0] == 1).all()\nTrue",
         "hidden": false,
         "locked": false
        },
        {
         "code": ">>> np.abs(rslt_ctr.params.educ_expected_yrs_f - rslt.params.educ_expected_yrs_f) < 1e-10\nTrue",
         "hidden": false,
         "locked": false
        },
        {
         "code": ">>> rslt.scale == rslt_ctr.scale\nTrue",
         "hidden": false,
         "locked": false
        },
        {
         "code": ">>> np.abs(rslt.params.const - rslt_ctr.params.const) > 3\nTrue",
         "hidden": false,
         "locked": false
        },
        {
         "code": ">>> np.abs((rslt.fittedvalues - rslt_ctr.fittedvalues).sum()) < 1e-10\nTrue",
         "hidden": false,
         "locked": false
        }
       ],
       "scored": true,
       "setup": "",
       "teardown": "",
       "type": "doctest"
      }
     ]
    },
    "q4": {
     "name": "q4",
     "points": 1,
     "suites": [
      {
       "cases": [
        {
         "code": ">>> fitted_manual.shape == y.shape\nTrue",
         "hidden": false,
         "locked": false
        },
        {
         "code": ">>> resid_manual.shape == y.shape\nTrue",
         "hidden": false,
         "locked": false
        },
        {
         "code": ">>> (fitted_manual == rslt.fittedvalues).all()\nTrue",
         "hidden": false,
         "locked": false
        },
        {
         "code": ">>> (resid_manual == rslt.resid).all()\nTrue",
         "hidden": false,
         "locked": false
        }
       ],
       "scored": true,
       "setup": "",
       "teardown": "",
       "type": "doctest"
      }
     ]
    },
    "q5": {
     "name": "q5",
     "points": 1,
     "suites": [
      {
       "cases": [
        {
         "code": ">>> reg_data.shape[1] == 9\nTrue",
         "hidden": false,
         "locked": false
        },
        {
         "code": ">>> (np.abs((reg_data.upr_obs - reg_data.lwr_obs) - 4*preds.se_obs) < 1e12).all()\nTrue",
         "hidden": false,
         "locked": false
        },
        {
         "code": ">>> ((reg_data.upr_obs - reg_data.lwr_obs) > (reg_data.upr_mean - reg_data.lwr_mean)).all()\nTrue",
         "hidden": false,
         "locked": false
        },
        {
         "code": ">>> reg_data.loc['Uruguay', 'lwr_obs'] == preds.predicted_mean[np.argmax(preds.row_labels == 'Uruguay')] - 2*preds.se_obs[np.argmax(preds.row_labels == 'Uruguay')]\nTrue",
         "hidden": false,
         "locked": false
        }
       ],
       "scored": true,
       "setup": "",
       "teardown": "",
       "type": "doctest"
      }
     ]
    },
    "q6": {
     "name": "q6",
     "points": 1,
     "suites": [
      {
       "cases": [
        {
         "code": ">>> 0.9 < coverage_prop < 1\nTrue",
         "hidden": false,
         "locked": false
        },
        {
         "code": ">>> coverage_prop < (reg_data.lwr_obs < reg_data.fertility_total).mean()\nTrue",
         "hidden": false,
         "locked": false
        },
        {
         "code": ">>> coverage_prop < (reg_data.upr_obs > reg_data.fertility_total).mean()\nTrue",
         "hidden": false,
         "locked": false
        }
       ],
       "scored": true,
       "setup": "",
       "teardown": "",
       "type": "doctest"
      }
     ]
    }
   }
  }
 },
 "nbformat": 4,
 "nbformat_minor": 4
}
