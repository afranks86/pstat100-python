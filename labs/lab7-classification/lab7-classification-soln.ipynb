{
 "cells": [
  {
   "cell_type": "code",
   "execution_count": null,
   "metadata": {
    "deletable": false,
    "editable": false
   },
   "outputs": [],
   "source": [
    "# Initialize Otter\n",
    "import otter\n",
    "grader = otter.Notebook(\"lab7-classification.ipynb\")"
   ]
  },
  {
   "cell_type": "code",
   "execution_count": 1,
   "metadata": {},
   "outputs": [
    {
     "data": {
      "text/plain": [
       "DataTransformerRegistry.enable('default')"
      ]
     },
     "execution_count": 1,
     "metadata": {},
     "output_type": "execute_result"
    }
   ],
   "source": [
    "import numpy as np\n",
    "import pandas as pd\n",
    "import altair as alt\n",
    "import statsmodels.api as sm\n",
    "\n",
    "# disable row limit for plotting\n",
    "alt.data_transformers.disable_max_rows()\n",
    "# uncomment to ensure graphics display with pdf export\n",
    "# alt.renderers.enable('mimetype')"
   ]
  },
  {
   "attachments": {},
   "cell_type": "markdown",
   "metadata": {},
   "source": [
    "# Lab 7: Classification\n",
    "\n",
    "This lab covers binary regression and classification using logistic regression models. The logistic regression model for a binary outcome $y \\in \\{0, 1\\}$ posits that the probability of the outcome of interest follows a logistic function of the explanatory variable $x$:\n",
    "\n",
    "$$\n",
    "P(Y = 1) = \\frac{1}{1 + e^{-(\\beta_0 + \\beta_1 x)}}\n",
    "$$\n",
    "\n",
    "More commonly, the model is written in terms of the log-odds of the outcome of interest:\n",
    "\n",
    "$$\n",
    "\\log\\left[\\frac{P(Y = 1)}{P(Y = 0)}\\right]\n",
    "= \\beta_0 + \\beta_1 x\n",
    "$$\n",
    "\n",
    "Additional explanatory variables can be included in the model by specifying a linear predictor with additional $\\beta_j x_j$ terms. \n",
    "\n",
    "Logistic regression models represent the probability of an outcome as a function of one or more explanatory variables; fitted probabilities can be coerced to hard classifications by thresholding.\n",
    "\n",
    "For this lab, we'll revisit the SEDA data from an earlier assignment. Below are the log median incomes and estimated achievement gaps on math and reading tests for 625 school districts in California:"
   ]
  },
  {
   "cell_type": "code",
   "execution_count": 2,
   "metadata": {},
   "outputs": [
    {
     "data": {
      "text/html": [
       "<div>\n",
       "<style scoped>\n",
       "    .dataframe tbody tr th:only-of-type {\n",
       "        vertical-align: middle;\n",
       "    }\n",
       "\n",
       "    .dataframe tbody tr th {\n",
       "        vertical-align: top;\n",
       "    }\n",
       "\n",
       "    .dataframe thead th {\n",
       "        text-align: right;\n",
       "    }\n",
       "</style>\n",
       "<table border=\"1\" class=\"dataframe\">\n",
       "  <thead>\n",
       "    <tr style=\"text-align: right;\">\n",
       "      <th></th>\n",
       "      <th>id</th>\n",
       "      <th>log_income</th>\n",
       "      <th>subject</th>\n",
       "      <th>gap</th>\n",
       "    </tr>\n",
       "  </thead>\n",
       "  <tbody>\n",
       "    <tr>\n",
       "      <th>0</th>\n",
       "      <td>600001</td>\n",
       "      <td>11.392048</td>\n",
       "      <td>math</td>\n",
       "      <td>-0.562855</td>\n",
       "    </tr>\n",
       "    <tr>\n",
       "      <th>1</th>\n",
       "      <td>600006</td>\n",
       "      <td>11.607236</td>\n",
       "      <td>math</td>\n",
       "      <td>0.061163</td>\n",
       "    </tr>\n",
       "    <tr>\n",
       "      <th>2</th>\n",
       "      <td>600011</td>\n",
       "      <td>10.704570</td>\n",
       "      <td>math</td>\n",
       "      <td>-0.015417</td>\n",
       "    </tr>\n",
       "    <tr>\n",
       "      <th>4</th>\n",
       "      <td>600013</td>\n",
       "      <td>11.399662</td>\n",
       "      <td>math</td>\n",
       "      <td>0.054454</td>\n",
       "    </tr>\n",
       "    <tr>\n",
       "      <th>5</th>\n",
       "      <td>600014</td>\n",
       "      <td>10.826107</td>\n",
       "      <td>math</td>\n",
       "      <td>0.020526</td>\n",
       "    </tr>\n",
       "  </tbody>\n",
       "</table>\n",
       "</div>"
      ],
      "text/plain": [
       "       id  log_income subject       gap\n",
       "0  600001   11.392048    math -0.562855\n",
       "1  600006   11.607236    math  0.061163\n",
       "2  600011   10.704570    math -0.015417\n",
       "4  600013   11.399662    math  0.054454\n",
       "5  600014   10.826107    math  0.020526"
      ]
     },
     "execution_count": 2,
     "metadata": {},
     "output_type": "execute_result"
    }
   ],
   "source": [
    "seda = pd.read_csv('data/seda.csv').dropna()\n",
    "seda.head()"
   ]
  },
  {
   "attachments": {},
   "cell_type": "markdown",
   "metadata": {},
   "source": [
    "The estimated achievement gap is positive if boys outperform girls, and negative if girls outperform boys. We can therefore define a binary indicator of the direction of the achievement gap:"
   ]
  },
  {
   "cell_type": "code",
   "execution_count": 3,
   "metadata": {},
   "outputs": [
    {
     "data": {
      "text/html": [
       "<div>\n",
       "<style scoped>\n",
       "    .dataframe tbody tr th:only-of-type {\n",
       "        vertical-align: middle;\n",
       "    }\n",
       "\n",
       "    .dataframe tbody tr th {\n",
       "        vertical-align: top;\n",
       "    }\n",
       "\n",
       "    .dataframe thead th {\n",
       "        text-align: right;\n",
       "    }\n",
       "</style>\n",
       "<table border=\"1\" class=\"dataframe\">\n",
       "  <thead>\n",
       "    <tr style=\"text-align: right;\">\n",
       "      <th></th>\n",
       "      <th>id</th>\n",
       "      <th>log_income</th>\n",
       "      <th>subject</th>\n",
       "      <th>gap</th>\n",
       "      <th>favors_boys</th>\n",
       "    </tr>\n",
       "  </thead>\n",
       "  <tbody>\n",
       "    <tr>\n",
       "      <th>0</th>\n",
       "      <td>600001</td>\n",
       "      <td>11.392048</td>\n",
       "      <td>math</td>\n",
       "      <td>-0.562855</td>\n",
       "      <td>False</td>\n",
       "    </tr>\n",
       "    <tr>\n",
       "      <th>1</th>\n",
       "      <td>600006</td>\n",
       "      <td>11.607236</td>\n",
       "      <td>math</td>\n",
       "      <td>0.061163</td>\n",
       "      <td>True</td>\n",
       "    </tr>\n",
       "    <tr>\n",
       "      <th>2</th>\n",
       "      <td>600011</td>\n",
       "      <td>10.704570</td>\n",
       "      <td>math</td>\n",
       "      <td>-0.015417</td>\n",
       "      <td>False</td>\n",
       "    </tr>\n",
       "    <tr>\n",
       "      <th>4</th>\n",
       "      <td>600013</td>\n",
       "      <td>11.399662</td>\n",
       "      <td>math</td>\n",
       "      <td>0.054454</td>\n",
       "      <td>True</td>\n",
       "    </tr>\n",
       "    <tr>\n",
       "      <th>5</th>\n",
       "      <td>600014</td>\n",
       "      <td>10.826107</td>\n",
       "      <td>math</td>\n",
       "      <td>0.020526</td>\n",
       "      <td>True</td>\n",
       "    </tr>\n",
       "  </tbody>\n",
       "</table>\n",
       "</div>"
      ],
      "text/plain": [
       "       id  log_income subject       gap  favors_boys\n",
       "0  600001   11.392048    math -0.562855        False\n",
       "1  600006   11.607236    math  0.061163         True\n",
       "2  600011   10.704570    math -0.015417        False\n",
       "4  600013   11.399662    math  0.054454         True\n",
       "5  600014   10.826107    math  0.020526         True"
      ]
     },
     "execution_count": 3,
     "metadata": {},
     "output_type": "execute_result"
    }
   ],
   "source": [
    "seda['favors_boys'] = (seda.gap > 0)\n",
    "seda.head()"
   ]
  },
  {
   "attachments": {},
   "cell_type": "markdown",
   "metadata": {},
   "source": [
    "You may recall having calculated the proportion of districts in various income brackets with a math gap favoring boys.\n",
    "\n",
    "We will now consider the closely related problem of estimating the probability that a district has a math gap favoring boys based on the median income of the district.\n",
    "\n",
    "Since we're only considering math gaps, we'll filter out the gap estimates on reading tests."
   ]
  },
  {
   "cell_type": "code",
   "execution_count": 4,
   "metadata": {},
   "outputs": [],
   "source": [
    "reg_data = seda[seda.subject == 'math'].loc[:, ['log_income', 'favors_boys']]"
   ]
  },
  {
   "attachments": {},
   "cell_type": "markdown",
   "metadata": {},
   "source": [
    "Let's set aside the data for 100 randomly chosen districts to use later in quantifying the classification accuracy of the model."
   ]
  },
  {
   "attachments": {},
   "cell_type": "markdown",
   "metadata": {},
   "source": [
    "### Question 1: data partitioning\n",
    "\n",
    "Set aside 100 observations at random for testing. Do this by selecting a random subset of 100 indices. Choose a different RNG seed from your neighbor so that you can compare results based on different training sets."
   ]
  },
  {
   "cell_type": "code",
   "execution_count": 5,
   "metadata": {
    "tags": [
     "otter_assign_solution_cell"
    ]
   },
   "outputs": [],
   "source": [
    "# select 100 indices at random\n",
    "seed = 60423 # SOLUTION\n",
    "np.random.seed(seed)\n",
    "idx = np.random.choice(\n",
    "    reg_data.index.values, # SOLUTION\n",
    "    size = 100, # SOLUTION\n",
    "    replace = False # SOLUTION\n",
    ").tolist()\n",
    "\n",
    "# partition data\n",
    "test = reg_data.loc[idx]\n",
    "train = reg_data.drop(index = idx)"
   ]
  },
  {
   "cell_type": "code",
   "execution_count": null,
   "metadata": {
    "deletable": false,
    "editable": false
   },
   "outputs": [],
   "source": [
    "grader.check(\"q1\")"
   ]
  },
  {
   "attachments": {},
   "cell_type": "markdown",
   "metadata": {},
   "source": [
    "## Exploratory analysis\n",
    "\n",
    "Previously you had binned income into brackets and constructed a table of the proportion of districts in each income bracket with a math gap favoring boys. It turns out that binning and aggregation is a useful exploratory strategy for binary regression. Your table from before would have been something like this:"
   ]
  },
  {
   "cell_type": "code",
   "execution_count": 11,
   "metadata": {},
   "outputs": [
    {
     "data": {
      "text/html": [
       "<div>\n",
       "<style scoped>\n",
       "    .dataframe tbody tr th:only-of-type {\n",
       "        vertical-align: middle;\n",
       "    }\n",
       "\n",
       "    .dataframe tbody tr th {\n",
       "        vertical-align: top;\n",
       "    }\n",
       "\n",
       "    .dataframe thead th {\n",
       "        text-align: right;\n",
       "    }\n",
       "</style>\n",
       "<table border=\"1\" class=\"dataframe\">\n",
       "  <thead>\n",
       "    <tr style=\"text-align: right;\">\n",
       "      <th></th>\n",
       "      <th>log_income_mean</th>\n",
       "      <th>log_income_std</th>\n",
       "      <th>favors_boys_mean</th>\n",
       "      <th>favors_boys_std</th>\n",
       "    </tr>\n",
       "    <tr>\n",
       "      <th>income_bracket</th>\n",
       "      <th></th>\n",
       "      <th></th>\n",
       "      <th></th>\n",
       "      <th></th>\n",
       "    </tr>\n",
       "  </thead>\n",
       "  <tbody>\n",
       "    <tr>\n",
       "      <th>(10.235, 10.462]</th>\n",
       "      <td>10.348307</td>\n",
       "      <td>0.060971</td>\n",
       "      <td>0.190476</td>\n",
       "      <td>0.402374</td>\n",
       "    </tr>\n",
       "    <tr>\n",
       "      <th>(10.462, 10.69]</th>\n",
       "      <td>10.583395</td>\n",
       "      <td>0.067177</td>\n",
       "      <td>0.238636</td>\n",
       "      <td>0.428693</td>\n",
       "    </tr>\n",
       "    <tr>\n",
       "      <th>(10.69, 10.918]</th>\n",
       "      <td>10.800607</td>\n",
       "      <td>0.067857</td>\n",
       "      <td>0.234043</td>\n",
       "      <td>0.425669</td>\n",
       "    </tr>\n",
       "    <tr>\n",
       "      <th>(10.918, 11.146]</th>\n",
       "      <td>11.019188</td>\n",
       "      <td>0.069156</td>\n",
       "      <td>0.333333</td>\n",
       "      <td>0.473242</td>\n",
       "    </tr>\n",
       "    <tr>\n",
       "      <th>(11.146, 11.374]</th>\n",
       "      <td>11.251932</td>\n",
       "      <td>0.065589</td>\n",
       "      <td>0.450549</td>\n",
       "      <td>0.500305</td>\n",
       "    </tr>\n",
       "    <tr>\n",
       "      <th>(11.374, 11.601]</th>\n",
       "      <td>11.452734</td>\n",
       "      <td>0.059902</td>\n",
       "      <td>0.614035</td>\n",
       "      <td>0.491150</td>\n",
       "    </tr>\n",
       "    <tr>\n",
       "      <th>(11.601, 11.829]</th>\n",
       "      <td>11.683897</td>\n",
       "      <td>0.068255</td>\n",
       "      <td>0.851852</td>\n",
       "      <td>0.362014</td>\n",
       "    </tr>\n",
       "    <tr>\n",
       "      <th>(11.829, 12.057]</th>\n",
       "      <td>11.931236</td>\n",
       "      <td>0.067608</td>\n",
       "      <td>0.888889</td>\n",
       "      <td>0.333333</td>\n",
       "    </tr>\n",
       "  </tbody>\n",
       "</table>\n",
       "</div>"
      ],
      "text/plain": [
       "                  log_income_mean  log_income_std  favors_boys_mean  \\\n",
       "income_bracket                                                        \n",
       "(10.235, 10.462]        10.348307        0.060971          0.190476   \n",
       "(10.462, 10.69]         10.583395        0.067177          0.238636   \n",
       "(10.69, 10.918]         10.800607        0.067857          0.234043   \n",
       "(10.918, 11.146]        11.019188        0.069156          0.333333   \n",
       "(11.146, 11.374]        11.251932        0.065589          0.450549   \n",
       "(11.374, 11.601]        11.452734        0.059902          0.614035   \n",
       "(11.601, 11.829]        11.683897        0.068255          0.851852   \n",
       "(11.829, 12.057]        11.931236        0.067608          0.888889   \n",
       "\n",
       "                  favors_boys_std  \n",
       "income_bracket                     \n",
       "(10.235, 10.462]         0.402374  \n",
       "(10.462, 10.69]          0.428693  \n",
       "(10.69, 10.918]          0.425669  \n",
       "(10.918, 11.146]         0.473242  \n",
       "(11.146, 11.374]         0.500305  \n",
       "(11.374, 11.601]         0.491150  \n",
       "(11.601, 11.829]         0.362014  \n",
       "(11.829, 12.057]         0.333333  "
      ]
     },
     "execution_count": 11,
     "metadata": {},
     "output_type": "execute_result"
    }
   ],
   "source": [
    "# define income bracket\n",
    "train['income_bracket'] = pd.cut(train.log_income, 10)\n",
    "\n",
    "# compute mean and standard deviation of each variable by bracket\n",
    "tbl = train.groupby('income_bracket').agg(func = ['mean', 'std'])\n",
    "\n",
    "# fix column indexing and remove 'artificial' brackets containing only min and max values\n",
    "tbl.columns = [\"_\".join(a) for a in tbl.columns.to_flat_index()]\n",
    "tbl = tbl[tbl.favors_boys_std > 0]\n",
    "\n",
    "# display\n",
    "tbl"
   ]
  },
  {
   "attachments": {},
   "cell_type": "markdown",
   "metadata": {},
   "source": [
    "We can plot these proportions, with standard deviations, as functions of income. Since standard deviations are fairly high, the variability bands only show 0.4 standard deviations in either direction."
   ]
  },
  {
   "cell_type": "code",
   "execution_count": 12,
   "metadata": {},
   "outputs": [
    {
     "data": {
      "text/html": [
       "\n",
       "<div id=\"altair-viz-f9a446dd2efb4877833f5441a4f656ce\"></div>\n",
       "<script type=\"text/javascript\">\n",
       "  var VEGA_DEBUG = (typeof VEGA_DEBUG == \"undefined\") ? {} : VEGA_DEBUG;\n",
       "  (function(spec, embedOpt){\n",
       "    let outputDiv = document.currentScript.previousElementSibling;\n",
       "    if (outputDiv.id !== \"altair-viz-f9a446dd2efb4877833f5441a4f656ce\") {\n",
       "      outputDiv = document.getElementById(\"altair-viz-f9a446dd2efb4877833f5441a4f656ce\");\n",
       "    }\n",
       "    const paths = {\n",
       "      \"vega\": \"https://cdn.jsdelivr.net/npm//vega@5?noext\",\n",
       "      \"vega-lib\": \"https://cdn.jsdelivr.net/npm//vega-lib?noext\",\n",
       "      \"vega-lite\": \"https://cdn.jsdelivr.net/npm//vega-lite@4.17.0?noext\",\n",
       "      \"vega-embed\": \"https://cdn.jsdelivr.net/npm//vega-embed@6?noext\",\n",
       "    };\n",
       "\n",
       "    function maybeLoadScript(lib, version) {\n",
       "      var key = `${lib.replace(\"-\", \"\")}_version`;\n",
       "      return (VEGA_DEBUG[key] == version) ?\n",
       "        Promise.resolve(paths[lib]) :\n",
       "        new Promise(function(resolve, reject) {\n",
       "          var s = document.createElement('script');\n",
       "          document.getElementsByTagName(\"head\")[0].appendChild(s);\n",
       "          s.async = true;\n",
       "          s.onload = () => {\n",
       "            VEGA_DEBUG[key] = version;\n",
       "            return resolve(paths[lib]);\n",
       "          };\n",
       "          s.onerror = () => reject(`Error loading script: ${paths[lib]}`);\n",
       "          s.src = paths[lib];\n",
       "        });\n",
       "    }\n",
       "\n",
       "    function showError(err) {\n",
       "      outputDiv.innerHTML = `<div class=\"error\" style=\"color:red;\">${err}</div>`;\n",
       "      throw err;\n",
       "    }\n",
       "\n",
       "    function displayChart(vegaEmbed) {\n",
       "      vegaEmbed(outputDiv, spec, embedOpt)\n",
       "        .catch(err => showError(`Javascript Error: ${err.message}<br>This usually means there's a typo in your chart specification. See the javascript console for the full traceback.`));\n",
       "    }\n",
       "\n",
       "    if(typeof define === \"function\" && define.amd) {\n",
       "      requirejs.config({paths});\n",
       "      require([\"vega-embed\"], displayChart, err => showError(`Error loading script: ${err.message}`));\n",
       "    } else {\n",
       "      maybeLoadScript(\"vega\", \"5\")\n",
       "        .then(() => maybeLoadScript(\"vega-lite\", \"4.17.0\"))\n",
       "        .then(() => maybeLoadScript(\"vega-embed\", \"6\"))\n",
       "        .catch(showError)\n",
       "        .then(() => displayChart(vegaEmbed));\n",
       "    }\n",
       "  })({\"config\": {\"view\": {\"continuousWidth\": 400, \"continuousHeight\": 300}}, \"layer\": [{\"mark\": {\"type\": \"line\", \"point\": true}, \"encoding\": {\"x\": {\"field\": \"log_income_mean\", \"title\": \"log income\", \"type\": \"quantitative\"}, \"y\": {\"field\": \"favors_boys_mean\", \"title\": \"Pr(math gap favors boys)\", \"type\": \"quantitative\"}}}, {\"mark\": {\"type\": \"area\", \"opacity\": 0.3}, \"encoding\": {\"x\": {\"field\": \"log_income_mean\", \"type\": \"quantitative\"}, \"y\": {\"field\": \"lwr\", \"scale\": {\"domain\": [0, 1]}, \"type\": \"quantitative\"}, \"y2\": {\"field\": \"upr\"}}, \"transform\": [{\"calculate\": \"datum.favors_boys_mean - 0.4*datum.favors_boys_std\", \"as\": \"lwr\"}, {\"calculate\": \"datum.favors_boys_mean + 0.4*datum.favors_boys_std\", \"as\": \"upr\"}]}], \"data\": {\"name\": \"data-7cbcba132c06535cfd975edce3695c85\"}, \"$schema\": \"https://vega.github.io/schema/vega-lite/v4.17.0.json\", \"datasets\": {\"data-7cbcba132c06535cfd975edce3695c85\": [{\"log_income_mean\": 10.348306973775228, \"log_income_std\": 0.0609714320239557, \"favors_boys_mean\": 0.19047619047619047, \"favors_boys_std\": 0.40237390808147827}, {\"log_income_mean\": 10.583395221016623, \"log_income_std\": 0.06717661262604895, \"favors_boys_mean\": 0.23863636363636365, \"favors_boys_std\": 0.42869269817327726}, {\"log_income_mean\": 10.800606900073113, \"log_income_std\": 0.06785660091068882, \"favors_boys_mean\": 0.23404255319148937, \"favors_boys_std\": 0.4256691611203412}, {\"log_income_mean\": 11.019187557604885, \"log_income_std\": 0.06915588262555095, \"favors_boys_mean\": 0.3333333333333333, \"favors_boys_std\": 0.4732423621500228}, {\"log_income_mean\": 11.251931724967537, \"log_income_std\": 0.06558853015685366, \"favors_boys_mean\": 0.45054945054945056, \"favors_boys_std\": 0.5003051571843432}, {\"log_income_mean\": 11.452734361615097, \"log_income_std\": 0.059902184564760395, \"favors_boys_mean\": 0.6140350877192983, \"favors_boys_std\": 0.49114974312875154}, {\"log_income_mean\": 11.68389677118372, \"log_income_std\": 0.06825469597451234, \"favors_boys_mean\": 0.8518518518518519, \"favors_boys_std\": 0.36201399289824565}, {\"log_income_mean\": 11.93123616112603, \"log_income_std\": 0.06760812286010454, \"favors_boys_mean\": 0.8888888888888888, \"favors_boys_std\": 0.3333333333333333}]}}, {\"mode\": \"vega-lite\"});\n",
       "</script>"
      ],
      "text/plain": [
       "alt.LayerChart(...)"
      ]
     },
     "execution_count": 12,
     "metadata": {},
     "output_type": "execute_result"
    }
   ],
   "source": [
    "\n",
    "trend = alt.Chart(tbl).mark_line(point = True).encode(\n",
    "    x = alt.X('log_income_mean', title = 'log income'),\n",
    "    y = alt.Y('favors_boys_mean', title = 'Pr(math gap favors boys)')\n",
    ")\n",
    "\n",
    "band = alt.Chart(tbl).transform_calculate(\n",
    "    lwr = 'datum.favors_boys_mean - 0.4*datum.favors_boys_std',\n",
    "    upr = 'datum.favors_boys_mean + 0.4*datum.favors_boys_std'\n",
    ").mark_area(opacity = 0.3).encode(\n",
    "    x = 'log_income_mean',\n",
    "    y = alt.Y('lwr:Q', scale = alt.Scale(domain = [0, 1])),\n",
    "    y2 = 'upr:Q'\n",
    ")\n",
    "\n",
    "trend + band"
   ]
  },
  {
   "attachments": {},
   "cell_type": "markdown",
   "metadata": {},
   "source": [
    "We can regard these proportions as estimates of the probability that the achievement gap in math favors boys. Thus, the figure above displays the exact relationship we will attempt to model, only as a continuous function of income rather than at 8 discrete points."
   ]
  },
  {
   "attachments": {},
   "cell_type": "markdown",
   "metadata": {},
   "source": [
    "<!-- BEGIN QUESTION -->\n",
    "\n",
    "### Question 2: model assumptions\n",
    "\n",
    "The logistic regression model assumes that the probability of the outcome of interest is a monotonic function of the explanatory variable(s). Examine the plot above and discuss with your neighbor. Does this monotinicity assumption seem to be true? Why or why not?"
   ]
  },
  {
   "cell_type": "markdown",
   "metadata": {},
   "source": [
    "_Type your answer here, replacing this text._"
   ]
  },
  {
   "attachments": {},
   "cell_type": "markdown",
   "metadata": {
    "tags": [
     "otter_assign_solution_cell"
    ]
   },
   "source": [
    "**SOLUTION**\n",
    "\n",
    "Yes, the probability seems to be monotonic in income, because the proportion of districts with a math gap favoring boys increases with income. The observed pattern may not be perfectly monotonic from point to point, but the general pattern should be increasing, and within the variability bands there will exist some relationship that *is* strictly monotonic."
   ]
  },
  {
   "attachments": {},
   "cell_type": "markdown",
   "metadata": {},
   "source": [
    "<!-- END QUESTION -->\n",
    "\n",
    "## Model fitting\n",
    "\n",
    "We'll fit a simple model of the probility that the math gap favors boys as a logistic function of log income:\n",
    "\n",
    "$$\n",
    "\\log\\left[\\frac{P(\\text{gap favors boys})}{1 - P(\\text{gap favors boys})}\\right] = \\beta_0 + \\beta_1 \\log(\\text{median income})\n",
    "$$\n",
    "\n",
    "The data preparations are exactly the same as in linear regression: we'll obtain a vector of the response outcome and an explanatory variable matrix containing log median income and a constant (for the intercept)."
   ]
  },
  {
   "cell_type": "code",
   "execution_count": 13,
   "metadata": {},
   "outputs": [],
   "source": [
    "# explanatory variable matrix\n",
    "x = sm.add_constant(train.log_income)\n",
    "\n",
    "# response\n",
    "y = train.favors_boys"
   ]
  },
  {
   "attachments": {},
   "cell_type": "markdown",
   "metadata": {},
   "source": [
    "The model is fit using `statsmodels.Logit()`. Note that the endogenous variable (the response) can be either Boolean (take values `True` and `False`) or integer (take values `0` or `1`)."
   ]
  },
  {
   "cell_type": "code",
   "execution_count": 14,
   "metadata": {},
   "outputs": [
    {
     "name": "stdout",
     "output_type": "stream",
     "text": [
      "Optimization terminated successfully.\n",
      "         Current function value: 0.590621\n",
      "         Iterations 6\n"
     ]
    },
    {
     "data": {
      "text/plain": [
       "const        -25.902434\n",
       "log_income     2.301623\n",
       "dtype: float64"
      ]
     },
     "execution_count": 14,
     "metadata": {},
     "output_type": "execute_result"
    }
   ],
   "source": [
    "# fit the model\n",
    "model = sm.Logit(endog = y, exog = x)\n",
    "\n",
    "# store the fitted model\n",
    "fit = model.fit()\n",
    "\n",
    "# display parameter estimates\n",
    "fit.params"
   ]
  },
  {
   "attachments": {},
   "cell_type": "markdown",
   "metadata": {},
   "source": [
    "A coefficient table remains useful for logistic regression:"
   ]
  },
  {
   "cell_type": "code",
   "execution_count": 15,
   "metadata": {},
   "outputs": [
    {
     "data": {
      "text/html": [
       "<div>\n",
       "<style scoped>\n",
       "    .dataframe tbody tr th:only-of-type {\n",
       "        vertical-align: middle;\n",
       "    }\n",
       "\n",
       "    .dataframe tbody tr th {\n",
       "        vertical-align: top;\n",
       "    }\n",
       "\n",
       "    .dataframe thead th {\n",
       "        text-align: right;\n",
       "    }\n",
       "</style>\n",
       "<table border=\"1\" class=\"dataframe\">\n",
       "  <thead>\n",
       "    <tr style=\"text-align: right;\">\n",
       "      <th></th>\n",
       "      <th>estimate</th>\n",
       "      <th>standard error</th>\n",
       "    </tr>\n",
       "  </thead>\n",
       "  <tbody>\n",
       "    <tr>\n",
       "      <th>const</th>\n",
       "      <td>-25.902434</td>\n",
       "      <td>3.159894</td>\n",
       "    </tr>\n",
       "    <tr>\n",
       "      <th>log_income</th>\n",
       "      <td>2.301623</td>\n",
       "      <td>0.285260</td>\n",
       "    </tr>\n",
       "  </tbody>\n",
       "</table>\n",
       "</div>"
      ],
      "text/plain": [
       "             estimate  standard error\n",
       "const      -25.902434        3.159894\n",
       "log_income   2.301623        0.285260"
      ]
     },
     "execution_count": 15,
     "metadata": {},
     "output_type": "execute_result"
    }
   ],
   "source": [
    "coef_tbl = pd.DataFrame(\n",
    "    {'estimate': fit.params,\n",
    "    'standard error': np.sqrt(fit.cov_params().values.diagonal())},\n",
    "    index = x.columns\n",
    ")\n",
    "coef_tbl"
   ]
  },
  {
   "attachments": {},
   "cell_type": "markdown",
   "metadata": {},
   "source": [
    "### Question 3: confidence intervals\n",
    "\n",
    "Compute 99% confidence intervals for the model parameters. Store the result as a dataframe called `param_ci`.\n",
    "\n",
    "*Hint*: the syntax is identical to that based on `sm.OLS`; this is also mentioned in the lecture slides."
   ]
  },
  {
   "cell_type": "code",
   "execution_count": 16,
   "metadata": {
    "tags": [
     "otter_assign_solution_cell"
    ]
   },
   "outputs": [
    {
     "data": {
      "text/html": [
       "<div>\n",
       "<style scoped>\n",
       "    .dataframe tbody tr th:only-of-type {\n",
       "        vertical-align: middle;\n",
       "    }\n",
       "\n",
       "    .dataframe tbody tr th {\n",
       "        vertical-align: top;\n",
       "    }\n",
       "\n",
       "    .dataframe thead th {\n",
       "        text-align: right;\n",
       "    }\n",
       "</style>\n",
       "<table border=\"1\" class=\"dataframe\">\n",
       "  <thead>\n",
       "    <tr style=\"text-align: right;\">\n",
       "      <th></th>\n",
       "      <th>lwr</th>\n",
       "      <th>upr</th>\n",
       "    </tr>\n",
       "  </thead>\n",
       "  <tbody>\n",
       "    <tr>\n",
       "      <th>const</th>\n",
       "      <td>-34.041781</td>\n",
       "      <td>-17.763086</td>\n",
       "    </tr>\n",
       "    <tr>\n",
       "      <th>log_income</th>\n",
       "      <td>1.566843</td>\n",
       "      <td>3.036403</td>\n",
       "    </tr>\n",
       "  </tbody>\n",
       "</table>\n",
       "</div>"
      ],
      "text/plain": [
       "                  lwr        upr\n",
       "const      -34.041781 -17.763086\n",
       "log_income   1.566843   3.036403"
      ]
     },
     "execution_count": 16,
     "metadata": {},
     "output_type": "execute_result"
    }
   ],
   "source": [
    "# compute 99% confidence intervals\n",
    "param_ci = fit.conf_int(alpha = 0.01) # SOLUTION\n",
    "\n",
    "# display\n",
    "param_ci.rename(columns = {0: 'lwr', 1: 'upr'}, inplace = True)\n",
    "param_ci"
   ]
  },
  {
   "cell_type": "code",
   "execution_count": null,
   "metadata": {
    "deletable": false,
    "editable": false
   },
   "outputs": [],
   "source": [
    "grader.check(\"q3\")"
   ]
  },
  {
   "attachments": {},
   "cell_type": "markdown",
   "metadata": {},
   "source": [
    "We can superimpose the predicted probabilities for a fine grid of log median incomes on the data figure we had made previously to compare the fitted model with the observed values:"
   ]
  },
  {
   "cell_type": "code",
   "execution_count": 19,
   "metadata": {},
   "outputs": [
    {
     "data": {
      "text/html": [
       "\n",
       "<div id=\"altair-viz-a6d037806af9482f84b3ce638a4ce556\"></div>\n",
       "<script type=\"text/javascript\">\n",
       "  var VEGA_DEBUG = (typeof VEGA_DEBUG == \"undefined\") ? {} : VEGA_DEBUG;\n",
       "  (function(spec, embedOpt){\n",
       "    let outputDiv = document.currentScript.previousElementSibling;\n",
       "    if (outputDiv.id !== \"altair-viz-a6d037806af9482f84b3ce638a4ce556\") {\n",
       "      outputDiv = document.getElementById(\"altair-viz-a6d037806af9482f84b3ce638a4ce556\");\n",
       "    }\n",
       "    const paths = {\n",
       "      \"vega\": \"https://cdn.jsdelivr.net/npm//vega@5?noext\",\n",
       "      \"vega-lib\": \"https://cdn.jsdelivr.net/npm//vega-lib?noext\",\n",
       "      \"vega-lite\": \"https://cdn.jsdelivr.net/npm//vega-lite@4.17.0?noext\",\n",
       "      \"vega-embed\": \"https://cdn.jsdelivr.net/npm//vega-embed@6?noext\",\n",
       "    };\n",
       "\n",
       "    function maybeLoadScript(lib, version) {\n",
       "      var key = `${lib.replace(\"-\", \"\")}_version`;\n",
       "      return (VEGA_DEBUG[key] == version) ?\n",
       "        Promise.resolve(paths[lib]) :\n",
       "        new Promise(function(resolve, reject) {\n",
       "          var s = document.createElement('script');\n",
       "          document.getElementsByTagName(\"head\")[0].appendChild(s);\n",
       "          s.async = true;\n",
       "          s.onload = () => {\n",
       "            VEGA_DEBUG[key] = version;\n",
       "            return resolve(paths[lib]);\n",
       "          };\n",
       "          s.onerror = () => reject(`Error loading script: ${paths[lib]}`);\n",
       "          s.src = paths[lib];\n",
       "        });\n",
       "    }\n",
       "\n",
       "    function showError(err) {\n",
       "      outputDiv.innerHTML = `<div class=\"error\" style=\"color:red;\">${err}</div>`;\n",
       "      throw err;\n",
       "    }\n",
       "\n",
       "    function displayChart(vegaEmbed) {\n",
       "      vegaEmbed(outputDiv, spec, embedOpt)\n",
       "        .catch(err => showError(`Javascript Error: ${err.message}<br>This usually means there's a typo in your chart specification. See the javascript console for the full traceback.`));\n",
       "    }\n",
       "\n",
       "    if(typeof define === \"function\" && define.amd) {\n",
       "      requirejs.config({paths});\n",
       "      require([\"vega-embed\"], displayChart, err => showError(`Error loading script: ${err.message}`));\n",
       "    } else {\n",
       "      maybeLoadScript(\"vega\", \"5\")\n",
       "        .then(() => maybeLoadScript(\"vega-lite\", \"4.17.0\"))\n",
       "        .then(() => maybeLoadScript(\"vega-embed\", \"6\"))\n",
       "        .catch(showError)\n",
       "        .then(() => displayChart(vegaEmbed));\n",
       "    }\n",
       "  })({\"config\": {\"view\": {\"continuousWidth\": 400, \"continuousHeight\": 300}}, \"layer\": [{\"mark\": {\"type\": \"line\", \"point\": true}, \"encoding\": {\"x\": {\"field\": \"log_income_mean\", \"title\": \"log income\", \"type\": \"quantitative\"}, \"y\": {\"field\": \"favors_boys_mean\", \"title\": \"Pr(math gap favors boys)\", \"type\": \"quantitative\"}}}, {\"mark\": {\"type\": \"area\", \"opacity\": 0.3}, \"encoding\": {\"x\": {\"field\": \"log_income_mean\", \"type\": \"quantitative\"}, \"y\": {\"field\": \"lwr\", \"scale\": {\"domain\": [0, 1]}, \"type\": \"quantitative\"}, \"y2\": {\"field\": \"upr\"}}, \"transform\": [{\"calculate\": \"datum.favors_boys_mean - 0.4*datum.favors_boys_std\", \"as\": \"lwr\"}, {\"calculate\": \"datum.favors_boys_mean + 0.4*datum.favors_boys_std\", \"as\": \"upr\"}]}, {\"data\": {\"name\": \"data-3b11bba8ada3b2f4b0d389391a1a4aaa\"}, \"mark\": {\"type\": \"line\", \"color\": \"red\", \"opacity\": 0.5}, \"encoding\": {\"x\": {\"field\": \"log_income\", \"type\": \"quantitative\"}, \"y\": {\"field\": \"pred\", \"type\": \"quantitative\"}}}], \"data\": {\"name\": \"data-7cbcba132c06535cfd975edce3695c85\"}, \"$schema\": \"https://vega.github.io/schema/vega-lite/v4.17.0.json\", \"datasets\": {\"data-7cbcba132c06535cfd975edce3695c85\": [{\"log_income_mean\": 10.348306973775228, \"log_income_std\": 0.0609714320239557, \"favors_boys_mean\": 0.19047619047619047, \"favors_boys_std\": 0.40237390808147827}, {\"log_income_mean\": 10.583395221016623, \"log_income_std\": 0.06717661262604895, \"favors_boys_mean\": 0.23863636363636365, \"favors_boys_std\": 0.42869269817327726}, {\"log_income_mean\": 10.800606900073113, \"log_income_std\": 0.06785660091068882, \"favors_boys_mean\": 0.23404255319148937, \"favors_boys_std\": 0.4256691611203412}, {\"log_income_mean\": 11.019187557604885, \"log_income_std\": 0.06915588262555095, \"favors_boys_mean\": 0.3333333333333333, \"favors_boys_std\": 0.4732423621500228}, {\"log_income_mean\": 11.251931724967537, \"log_income_std\": 0.06558853015685366, \"favors_boys_mean\": 0.45054945054945056, \"favors_boys_std\": 0.5003051571843432}, {\"log_income_mean\": 11.452734361615097, \"log_income_std\": 0.059902184564760395, \"favors_boys_mean\": 0.6140350877192983, \"favors_boys_std\": 0.49114974312875154}, {\"log_income_mean\": 11.68389677118372, \"log_income_std\": 0.06825469597451234, \"favors_boys_mean\": 0.8518518518518519, \"favors_boys_std\": 0.36201399289824565}, {\"log_income_mean\": 11.93123616112603, \"log_income_std\": 0.06760812286010454, \"favors_boys_mean\": 0.8888888888888888, \"favors_boys_std\": 0.3333333333333333}], \"data-3b11bba8ada3b2f4b0d389391a1a4aaa\": [{\"log_income\": 9.0, \"pred\": 0.0055531049314873114}, {\"log_income\": 9.025125628140703, \"pred\": 0.005881762061505166}, {\"log_income\": 9.050251256281408, \"pred\": 0.006229748709577195}, {\"log_income\": 9.075376884422111, \"pred\": 0.0065981868776367044}, {\"log_income\": 9.100502512562814, \"pred\": 0.006988261890101341}, {\"log_income\": 9.125628140703517, \"pred\": 0.00740122574743554}, {\"log_income\": 9.150753768844222, \"pred\": 0.007838400630148483}, {\"log_income\": 9.175879396984925, \"pred\": 0.008301182556486805}, {\"log_income\": 9.201005025125628, \"pred\": 0.008791045196639617}, {\"log_income\": 9.226130653266331, \"pred\": 0.009309543845736772}, {\"log_income\": 9.251256281407036, \"pred\": 0.009858319557281869}, {\"log_income\": 9.27638190954774, \"pred\": 0.010439103437902258}, {\"log_income\": 9.301507537688442, \"pred\": 0.01105372110340916}, {\"log_income\": 9.326633165829145, \"pred\": 0.011704097295122598}, {\"log_income\": 9.35175879396985, \"pred\": 0.01239226065421606}, {\"log_income\": 9.376884422110553, \"pred\": 0.013120348650452515}, {\"log_income\": 9.402010050251256, \"pred\": 0.013890612660101522}, {\"log_income\": 9.42713567839196, \"pred\": 0.01470542318602115}, {\"log_income\": 9.452261306532664, \"pred\": 0.015567275210842679}, {\"log_income\": 9.477386934673367, \"pred\": 0.01647879367188154}, {\"log_income\": 9.50251256281407, \"pred\": 0.0174427390437956}, {\"log_income\": 9.527638190954773, \"pred\": 0.018462013012090647}, {\"log_income\": 9.552763819095478, \"pred\": 0.019539664217314803}, {\"log_income\": 9.577889447236181, \"pred\": 0.02067889404615332}, {\"log_income\": 9.603015075376884, \"pred\": 0.021883062441614747}, {\"log_income\": 9.628140703517587, \"pred\": 0.023155693700053426}, {\"log_income\": 9.653266331658292, \"pred\": 0.024500482217886855}, {\"log_income\": 9.678391959798995, \"pred\": 0.02592129814550539}, {\"log_income\": 9.703517587939698, \"pred\": 0.02742219290002471}, {\"log_income\": 9.728643216080402, \"pred\": 0.02900740448216925}, {\"log_income\": 9.753768844221106, \"pred\": 0.0306813625356985}, {\"log_income\": 9.77889447236181, \"pred\": 0.03244869308037543}, {\"log_income\": 9.804020100502512, \"pred\": 0.03431422284154238}, {\"log_income\": 9.829145728643216, \"pred\": 0.03628298309090967}, {\"log_income\": 9.85427135678392, \"pred\": 0.038360212904214694}, {\"log_income\": 9.879396984924623, \"pred\": 0.0405513617319935}, {\"log_income\": 9.904522613065327, \"pred\": 0.04286209116989112}, {\"log_income\": 9.92964824120603, \"pred\": 0.045298275804776016}, {\"log_income\": 9.954773869346734, \"pred\": 0.04786600300253358}, {\"log_income\": 9.979899497487438, \"pred\": 0.05057157149289351}, {\"log_income\": 10.00502512562814, \"pred\": 0.05342148859616595}, {\"log_income\": 10.030150753768844, \"pred\": 0.0564224659264841}, {\"log_income\": 10.055276381909549, \"pred\": 0.059581413396321906}, {\"log_income\": 10.080402010050252, \"pred\": 0.06290543133790742}, {\"log_income\": 10.105527638190955, \"pred\": 0.06640180054901514}, {\"log_income\": 10.130653266331658, \"pred\": 0.07007797006381332}, {\"log_income\": 10.155778894472363, \"pred\": 0.07394154244439344}, {\"log_income\": 10.180904522613066, \"pred\": 0.07800025638572973}, {\"log_income\": 10.206030150753769, \"pred\": 0.08226196642662628}, {\"log_income\": 10.231155778894472, \"pred\": 0.08673461956221082}, {\"log_income\": 10.256281407035177, \"pred\": 0.09142622856033789}, {\"log_income\": 10.28140703517588, \"pred\": 0.09634484179544069}, {\"log_income\": 10.306532663316583, \"pred\": 0.10149850942957693}, {\"log_income\": 10.331658291457286, \"pred\": 0.10689524579225243}, {\"log_income\": 10.35678391959799, \"pred\": 0.11254298783873913}, {\"log_income\": 10.381909547738694, \"pred\": 0.11844954960157876}, {\"log_income\": 10.407035175879397, \"pred\": 0.12462257259235034}, {\"log_income\": 10.4321608040201, \"pred\": 0.13106947216097128}, {\"log_income\": 10.457286432160805, \"pred\": 0.13779737987816126}, {\"log_income\": 10.482412060301508, \"pred\": 0.14481308207331775}, {\"log_income\": 10.507537688442211, \"pred\": 0.15212295473491483}, {\"log_income\": 10.532663316582914, \"pred\": 0.15973289506327368}, {\"log_income\": 10.557788944723619, \"pred\": 0.16764825005561543}, {\"log_income\": 10.582914572864322, \"pred\": 0.17587374259967778}, {\"log_income\": 10.608040201005025, \"pred\": 0.18441339565359519}, {\"log_income\": 10.633165829145728, \"pred\": 0.1932704551944159}, {\"log_income\": 10.658291457286433, \"pred\": 0.20244731272348943}, {\"log_income\": 10.683417085427136, \"pred\": 0.21194542822136597}, {\"log_income\": 10.708542713567839, \"pred\": 0.2217652545449045}, {\"log_income\": 10.733668341708542, \"pred\": 0.23190616435158468}, {\"log_income\": 10.758793969849247, \"pred\": 0.24236638071701633}, {\"log_income\": 10.78391959798995, \"pred\": 0.2531429126774135}, {\"log_income\": 10.809045226130653, \"pred\": 0.26423149697549864}, {\"log_income\": 10.834170854271356, \"pred\": 0.2756265473119793}, {\"log_income\": 10.859296482412061, \"pred\": 0.28732111240183955}, {\"log_income\": 10.884422110552764, \"pred\": 0.2993068441018951}, {\"log_income\": 10.909547738693467, \"pred\": 0.31157397681082644}, {\"log_income\": 10.93467336683417, \"pred\": 0.324111319243349}, {\"log_income\": 10.959798994974875, \"pred\": 0.3369062595455817}, {\"log_income\": 10.984924623115578, \"pred\": 0.3499447845492928}, {\"log_income\": 11.010050251256281, \"pred\": 0.3632115137602841}, {\"log_income\": 11.035175879396984, \"pred\": 0.3766897484436285}, {\"log_income\": 11.06030150753769, \"pred\": 0.39036153591035}, {\"log_income\": 11.085427135678392, \"pred\": 0.40420774883204263}, {\"log_income\": 11.110552763819095, \"pred\": 0.4182081791189448}, {\"log_income\": 11.1356783919598, \"pred\": 0.432341645600959}, {\"log_income\": 11.160804020100503, \"pred\": 0.44658611445885493}, {\"log_income\": 11.185929648241206, \"pred\": 0.4609188310734102}, {\"log_income\": 11.21105527638191, \"pred\": 0.4753164617026186}, {\"log_income\": 11.236180904522612, \"pred\": 0.48975524317012525}, {\"log_income\": 11.261306532663317, \"pred\": 0.50421113855952}, {\"log_income\": 11.28643216080402, \"pred\": 0.5186599967658005}, {\"log_income\": 11.311557788944723, \"pred\": 0.5330777136624273}, {\"log_income\": 11.336683417085428, \"pred\": 0.5474403926032327}, {\"log_income\": 11.361809045226131, \"pred\": 0.5617245019945977}, {\"log_income\": 11.386934673366834, \"pred\": 0.5759070277440714}, {\"log_income\": 11.412060301507537, \"pred\": 0.5899656185143971}, {\"log_income\": 11.43718592964824, \"pred\": 0.6038787218823118}, {\"log_income\": 11.462311557788945, \"pred\": 0.6176257097133167}, {\"log_income\": 11.487437185929648, \"pred\": 0.631186991309448}, {\"log_income\": 11.512562814070352, \"pred\": 0.6445441131585514}, {\"log_income\": 11.537688442211056, \"pred\": 0.657679844401572}, {\"log_income\": 11.56281407035176, \"pred\": 0.6705782474299332}, {\"log_income\": 11.587939698492463, \"pred\": 0.6832247333191872}, {\"log_income\": 11.613065326633166, \"pred\": 0.6956061020894584}, {\"log_income\": 11.638190954773869, \"pred\": 0.7077105680504906}, {\"log_income\": 11.663316582914574, \"pred\": 0.7195277707329086}, {\"log_income\": 11.688442211055277, \"pred\": 0.7310487721227596}, {\"log_income\": 11.71356783919598, \"pred\": 0.7422660410998567}, {\"log_income\": 11.738693467336685, \"pred\": 0.7531734261296609}, {\"log_income\": 11.763819095477388, \"pred\": 0.7637661173726074}, {\"log_income\": 11.78894472361809, \"pred\": 0.7740405994541716}, {\"log_income\": 11.814070351758794, \"pred\": 0.7839945961850087}, {\"log_income\": 11.839195979899497, \"pred\": 0.793627008535546}, {\"log_income\": 11.864321608040202, \"pred\": 0.8029378471563873}, {\"log_income\": 11.889447236180905, \"pred\": 0.811928160698328}, {\"log_income\": 11.914572864321608, \"pred\": 0.8205999611275184}, {\"log_income\": 11.939698492462313, \"pred\": 0.8289561471561602}, {\"log_income\": 11.964824120603016, \"pred\": 0.8370004268211122}, {\"log_income\": 11.989949748743719, \"pred\": 0.844737240145534}, {\"log_income\": 12.015075376884422, \"pred\": 0.8521716827157026}, {\"log_income\": 12.040201005025125, \"pred\": 0.8593094308995781}, {\"log_income\": 12.06532663316583, \"pred\": 0.8661566693282167}, {\"log_income\": 12.090452261306533, \"pred\": 0.8727200211581312}, {\"log_income\": 12.115577889447236, \"pred\": 0.8790064815340326}, {\"log_income\": 12.14070351758794, \"pred\": 0.8850233545785539}, {\"log_income\": 12.165829145728644, \"pred\": 0.8907781941496736}, {\"log_income\": 12.190954773869347, \"pred\": 0.8962787485283534}, {\"log_income\": 12.21608040201005, \"pred\": 0.9015329091288106}, {\"log_income\": 12.241206030150753, \"pred\": 0.9065486632620613}, {\"log_income\": 12.266331658291458, \"pred\": 0.9113340509297896}, {\"log_income\": 12.291457286432161, \"pred\": 0.915897125579997}, {\"log_income\": 12.316582914572864, \"pred\": 0.9202459187178881}, {\"log_income\": 12.341708542713569, \"pred\": 0.9243884082345156}, {\"log_income\": 12.366834170854272, \"pred\": 0.9283324902913263}, {\"log_income\": 12.391959798994975, \"pred\": 0.9320859545802681}, {\"log_income\": 12.417085427135678, \"pred\": 0.93565646276591}, {\"log_income\": 12.442211055276381, \"pred\": 0.9390515299074872}, {\"log_income\": 12.467336683417086, \"pred\": 0.9422785086542549}, {\"log_income\": 12.492462311557789, \"pred\": 0.9453445760064657}, {\"log_income\": 12.517587939698492, \"pred\": 0.9482567224361059}, {\"log_income\": 12.542713567839197, \"pred\": 0.9510217431657155}, {\"log_income\": 12.5678391959799, \"pred\": 0.9536462314097561}, {\"log_income\": 12.592964824120603, \"pred\": 0.9561365733906102}, {\"log_income\": 12.618090452261306, \"pred\": 0.9584989449500516}, {\"log_income\": 12.64321608040201, \"pred\": 0.960739309586627}, {\"log_income\": 12.668341708542714, \"pred\": 0.9628634177594887}, {\"log_income\": 12.693467336683417, \"pred\": 0.9648768073096458}, {\"log_income\": 12.71859296482412, \"pred\": 0.9667848048601264}, {\"log_income\": 12.743718592964825, \"pred\": 0.9685925280669994}, {\"log_income\": 12.768844221105528, \"pred\": 0.9703048886034784}, {\"log_income\": 12.793969849246231, \"pred\": 0.9719265957692977}, {\"log_income\": 12.819095477386934, \"pred\": 0.9734621606271391}, {\"log_income\": 12.844221105527637, \"pred\": 0.9749159005770427}, {\"log_income\": 12.869346733668342, \"pred\": 0.976291944288393}, {\"log_income\": 12.894472361809045, \"pred\": 0.9775942369172355}, {\"log_income\": 12.919597989949748, \"pred\": 0.9788265455443024}, {\"log_income\": 12.944723618090453, \"pred\": 0.9799924647762324}, {\"log_income\": 12.969849246231156, \"pred\": 0.9810954224590389}, {\"log_income\": 12.99497487437186, \"pred\": 0.9821386854589486}, {\"log_income\": 13.020100502512562, \"pred\": 0.9831253654712832}, {\"log_income\": 13.045226130653266, \"pred\": 0.984058424823151}, {\"log_income\": 13.07035175879397, \"pred\": 0.984940682240334}, {\"log_income\": 13.095477386934673, \"pred\": 0.9857748185529502}, {\"log_income\": 13.120603015075378, \"pred\": 0.9865633823182702}, {\"log_income\": 13.145728643216081, \"pred\": 0.9873087953424633}, {\"log_income\": 13.170854271356784, \"pred\": 0.988013358086121}, {\"log_income\": 13.195979899497488, \"pred\": 0.9886792549411291}, {\"log_income\": 13.22110552763819, \"pred\": 0.9893085593688921}, {\"log_income\": 13.246231155778894, \"pred\": 0.9899032388920743}, {\"log_income\": 13.271356783919598, \"pred\": 0.9904651599339201}, {\"log_income\": 13.296482412060302, \"pred\": 0.9909960925008874}, {\"log_income\": 13.321608040201006, \"pred\": 0.9914977147058003}, {\"log_income\": 13.34673366834171, \"pred\": 0.9919716171299914}, {\"log_income\": 13.371859296482413, \"pred\": 0.9924193070240136}, {\"log_income\": 13.396984924623116, \"pred\": 0.99284221234745}, {\"log_income\": 13.422110552763819, \"pred\": 0.99324168564916}, {\"log_income\": 13.447236180904522, \"pred\": 0.9936190077899921}, {\"log_income\": 13.472361809045227, \"pred\": 0.9939753915105646}, {\"log_income\": 13.49748743718593, \"pred\": 0.9943119848472034}, {\"log_income\": 13.522613065326635, \"pred\": 0.9946298743995137}, {\"log_income\": 13.547738693467338, \"pred\": 0.9949300884533816}, {\"log_income\": 13.57286432160804, \"pred\": 0.9952135999634489}, {\"log_income\": 13.597989949748744, \"pred\": 0.9954813293992947}, {\"log_income\": 13.623115577889447, \"pred\": 0.9957341474596965}, {\"log_income\": 13.64824120603015, \"pred\": 0.9959728776594342}, {\"log_income\": 13.673366834170855, \"pred\": 0.9961982987931568}, {\"log_income\": 13.698492462311558, \"pred\": 0.9964111472808466}, {\"log_income\": 13.723618090452263, \"pred\": 0.9966121193994176}, {\"log_income\": 13.748743718592966, \"pred\": 0.9968018734049379}, {\"log_income\": 13.773869346733669, \"pred\": 0.9969810315499241}, {\"log_income\": 13.798994974874372, \"pred\": 0.9971501820000771}, {\"log_income\": 13.824120603015075, \"pred\": 0.9973098806547478}, {\"log_income\": 13.849246231155778, \"pred\": 0.9974606528753206}, {\"log_income\": 13.874371859296483, \"pred\": 0.9976029951255968}, {\"log_income\": 13.899497487437186, \"pred\": 0.9977373765281505}, {\"log_income\": 13.92462311557789, \"pred\": 0.9978642403405005}, {\"log_income\": 13.949748743718594, \"pred\": 0.9979840053548289}, {\"log_income\": 13.974874371859297, \"pred\": 0.9980970672248429}, {\"log_income\": 14.0, \"pred\": 0.9982037997232508}]}}, {\"mode\": \"vega-lite\"});\n",
       "</script>"
      ],
      "text/plain": [
       "alt.LayerChart(...)"
      ]
     },
     "execution_count": 19,
     "metadata": {},
     "output_type": "execute_result"
    }
   ],
   "source": [
    "# grid of log income values\n",
    "grid_df = pd.DataFrame({\n",
    "    'log_income': np.linspace(9, 14, 200)\n",
    "})\n",
    "\n",
    "# add predictions\n",
    "grid_df['pred'] = fit.predict(sm.add_constant(grid_df))\n",
    "\n",
    "# plot predictions against income\n",
    "model_viz = alt.Chart(grid_df).mark_line(color = 'red', opacity = 0.5).encode(\n",
    "    x = 'log_income',\n",
    "    y = 'pred'\n",
    ")\n",
    "\n",
    "# superimpose on data figure\n",
    "trend + band + model_viz"
   ]
  },
  {
   "attachments": {},
   "cell_type": "markdown",
   "metadata": {},
   "source": [
    "Depending on your training sample, the model may or may not align well with the computed proportions, but it should be mostly or entirely within the 0.4-standard-deviation band."
   ]
  },
  {
   "attachments": {},
   "cell_type": "markdown",
   "metadata": {},
   "source": [
    "To interpret the estimated relationship, recall that if median income is doubled, the log-odds changes by:\n",
    "\n",
    "$$\n",
    "\\hat{\\beta}_1\\log(2\\times\\text{median income}) - \\hat{\\beta}_1 \\log(\\text{median income}) = \\hat{\\beta}_1 \\log(2)\n",
    "$$\n",
    "\n",
    "Now, exponentiating gives the estimated multiplicative change in odds:\n",
    "\n",
    "$$\n",
    "\\exp\\left\\{\\log(\\text{baseline odds}) + \\hat{\\beta}_1 \\log(2)\\right\\} = \\text{baseline odds} \\times e^{\\hat{\\beta}_1 \\log(2)}\n",
    "$$\n",
    "\n",
    "So computing $e^{\\hat{\\beta}_1 \\log(2)}$ gives a quantity we can readily interpret:"
   ]
  },
  {
   "cell_type": "code",
   "execution_count": 20,
   "metadata": {},
   "outputs": [
    {
     "data": {
      "text/plain": [
       "4.9301197639682846"
      ]
     },
     "execution_count": 20,
     "metadata": {},
     "output_type": "execute_result"
    }
   ],
   "source": [
    "np.exp(fit.params.log_income*np.log(2))"
   ]
  },
  {
   "attachments": {},
   "cell_type": "markdown",
   "metadata": {},
   "source": [
    "The exact number will depend a little bit on the data partition you used to compute the estimate, but the answer should be roughly consistent with the following interpretation:\n",
    "\n",
    "> *Each doubling of median income is associated with an estimated **four-fold** increase in the odds that a school district has a math gap favoring boys.*"
   ]
  },
  {
   "attachments": {},
   "cell_type": "markdown",
   "metadata": {},
   "source": [
    "## Classification\n",
    "\n",
    "Now we'll consider the task of classifying new school districts by the predicted direction of their math achievement gap.\n",
    "\n",
    "A straightforward classification rule would be:\n",
    "\n",
    "$$\n",
    "\\text{gap predicted to favor boys} \\quad\\Longleftrightarrow\\quad \\widehat{Pr}(\\text{gap favors boys}) > 0.5\n",
    "$$\n",
    "\n",
    "We can obtain the estimated probabilities using `.predict()`, and construct the classifier manually. To assess the accuracy, we'll want to arrange the classifications side-by-side with the observed outcomes:"
   ]
  },
  {
   "cell_type": "code",
   "execution_count": 21,
   "metadata": {},
   "outputs": [
    {
     "data": {
      "text/html": [
       "<div>\n",
       "<style scoped>\n",
       "    .dataframe tbody tr th:only-of-type {\n",
       "        vertical-align: middle;\n",
       "    }\n",
       "\n",
       "    .dataframe tbody tr th {\n",
       "        vertical-align: top;\n",
       "    }\n",
       "\n",
       "    .dataframe thead th {\n",
       "        text-align: right;\n",
       "    }\n",
       "</style>\n",
       "<table border=\"1\" class=\"dataframe\">\n",
       "  <thead>\n",
       "    <tr style=\"text-align: right;\">\n",
       "      <th></th>\n",
       "      <th>observation</th>\n",
       "      <th>prediction</th>\n",
       "    </tr>\n",
       "  </thead>\n",
       "  <tbody>\n",
       "    <tr>\n",
       "      <th>261</th>\n",
       "      <td>False</td>\n",
       "      <td>False</td>\n",
       "    </tr>\n",
       "    <tr>\n",
       "      <th>600</th>\n",
       "      <td>False</td>\n",
       "      <td>False</td>\n",
       "    </tr>\n",
       "    <tr>\n",
       "      <th>190</th>\n",
       "      <td>False</td>\n",
       "      <td>False</td>\n",
       "    </tr>\n",
       "    <tr>\n",
       "      <th>334</th>\n",
       "      <td>False</td>\n",
       "      <td>False</td>\n",
       "    </tr>\n",
       "    <tr>\n",
       "      <th>686</th>\n",
       "      <td>False</td>\n",
       "      <td>False</td>\n",
       "    </tr>\n",
       "  </tbody>\n",
       "</table>\n",
       "</div>"
      ],
      "text/plain": [
       "     observation  prediction\n",
       "261        False       False\n",
       "600        False       False\n",
       "190        False       False\n",
       "334        False       False\n",
       "686        False       False"
      ]
     },
     "execution_count": 21,
     "metadata": {},
     "output_type": "execute_result"
    }
   ],
   "source": [
    "# compute predicted probabilities on test set\n",
    "preds = fit.predict(sm.add_constant(test.log_income))\n",
    "\n",
    "# construct classifier\n",
    "pred_df = pd.DataFrame({\n",
    "    'observation': test.favors_boys,\n",
    "    'prediction': preds > 0.5\n",
    "})\n",
    "\n",
    "# preview\n",
    "pred_df.head()"
   ]
  },
  {
   "attachments": {},
   "cell_type": "markdown",
   "metadata": {},
   "source": [
    "Note that the testing partition was used here -- to get an unbiased estimate of the classification accuracy, we need data that were not used in fitting the model.\n",
    "\n",
    "Cross-tabulating observed and predicted outcomes gives a detailed view of the accuracy and error:"
   ]
  },
  {
   "cell_type": "code",
   "execution_count": 22,
   "metadata": {},
   "outputs": [
    {
     "data": {
      "text/plain": [
       "observation  prediction\n",
       "False        False         56\n",
       "             True          10\n",
       "True         False         15\n",
       "             True          19\n",
       "dtype: int64"
      ]
     },
     "execution_count": 22,
     "metadata": {},
     "output_type": "execute_result"
    }
   ],
   "source": [
    "# cross-tabulate classifications with observed outcomes\n",
    "pred_tbl = pred_df.groupby(['observation', 'prediction']).size()\n",
    "pred_tbl"
   ]
  },
  {
   "attachments": {},
   "cell_type": "markdown",
   "metadata": {},
   "source": [
    "The entries where `observation` and `prediction` have the same value are counts of the number of districts correctly classified; those where they do not match are counts of errors."
   ]
  },
  {
   "attachments": {},
   "cell_type": "markdown",
   "metadata": {},
   "source": [
    "### Question 4: overall classification accuracy\n",
    "\n",
    "Compute the overall classification accuracy -- the proportion of districts that were correctly classified."
   ]
  },
  {
   "cell_type": "code",
   "execution_count": 23,
   "metadata": {
    "tags": [
     "otter_assign_solution_cell"
    ]
   },
   "outputs": [],
   "source": [
    "accuracy = np.mean(pred_df.observation == pred_df.prediction) # SOLUTION"
   ]
  },
  {
   "cell_type": "code",
   "execution_count": null,
   "metadata": {
    "deletable": false,
    "editable": false
   },
   "outputs": [],
   "source": [
    "grader.check(\"q4\")"
   ]
  },
  {
   "attachments": {},
   "cell_type": "markdown",
   "metadata": {},
   "source": [
    "Often class-wise accuracy rates are more informative, because there are two possible types of error:\n",
    "\n",
    "1. A district that has a math gap favoring girls is classified as having a math gap favoring boys\n",
    "2. A district that has a math gap favoring boys is classified as having a math gap favoring girls\n",
    "\n",
    "You may notice that there were more errors of one type than another in your result above. This is not conveyed by reporting the overall accuracy rate.\n",
    "\n",
    "For a clearer picture, we can find the proportion of errors among by outcome:"
   ]
  },
  {
   "cell_type": "code",
   "execution_count": 25,
   "metadata": {},
   "outputs": [
    {
     "name": "stdout",
     "output_type": "stream",
     "text": [
      "false positive rate:  0.15151515151515152\n",
      "false negative rate:  0.4411764705882353\n",
      "true positive rate (sensitivity):  0.8484848484848485\n",
      "true negative rate (specificity):  0.5588235294117647\n"
     ]
    }
   ],
   "source": [
    "pred_df['error'] = (pred_df.observation != pred_df.prediction)\n",
    "fnr = pred_df[pred_df.observation == True].error.mean()\n",
    "fpr = pred_df[pred_df.observation == False].error.mean()\n",
    "tpr = 1 - fpr\n",
    "tnr = 1 - fnr\n",
    "\n",
    "print('false positive rate: ', fpr)\n",
    "print('false negative rate: ', fnr)\n",
    "print('true positive rate (sensitivity): ', tpr)\n",
    "print('true negative rate (specificity): ', tnr)\n"
   ]
  },
  {
   "attachments": {},
   "cell_type": "markdown",
   "metadata": {},
   "source": [
    "### Question 5: make your own classifier\n",
    "\n",
    "Define a new classifier by adjusting the probability threshold. Compute and print the false positive, false negative, true positive, and true negative rates. Experiment until you achieve a better balance between errors of each type."
   ]
  },
  {
   "cell_type": "code",
   "execution_count": 26,
   "metadata": {
    "tags": [
     "otter_assign_solution_cell"
    ]
   },
   "outputs": [
    {
     "name": "stdout",
     "output_type": "stream",
     "text": [
      "false positive rate:  0.3484848484848485\n",
      "false negative rate:  0.38235294117647056\n",
      "true positive rate (sensitivity):  0.6515151515151515\n",
      "true negative rate (specificity):  0.6176470588235294\n"
     ]
    }
   ],
   "source": [
    "# construct classifier\n",
    "new_pred_df = pd.DataFrame({\n",
    "    'observation': test.favors_boys, # SOLUTION\n",
    "    'prediction': preds > 0.39 # SOLUTION\n",
    "})\n",
    "\n",
    "# compute error rates\n",
    "new_pred_df['error'] = (new_pred_df.observation != new_pred_df.prediction) # SOLUTION\n",
    "new_fnr = new_pred_df[new_pred_df.observation == True].error.mean() # SOLUTION\n",
    "new_fpr = new_pred_df[new_pred_df.observation == False].error.mean() # SOLUTION\n",
    "new_tpr = 1 - new_fpr # SOLUTION\n",
    "new_tnr = 1 - new_fnr # SOLUTION\n",
    "\n",
    "# print\n",
    "print('false positive rate: ', new_fpr)\n",
    "print('false negative rate: ', new_fnr)\n",
    "print('true positive rate (sensitivity): ', new_tpr)\n",
    "print('true negative rate (specificity): ', new_tnr)\n"
   ]
  },
  {
   "cell_type": "code",
   "execution_count": null,
   "metadata": {
    "deletable": false,
    "editable": false
   },
   "outputs": [],
   "source": [
    "grader.check(\"q5\")"
   ]
  },
  {
   "attachments": {},
   "cell_type": "markdown",
   "metadata": {},
   "source": [
    "# Submission\n",
    "\n",
    "\n",
    "1. Save the notebook. \n",
    "2. Restart the kernel and run all cells. (**CAUTION**: if your notebook is not saved, you will lose your work.)\n",
    "3. Carefully look through your notebook and verify that all computations execute correctly and all graphics are displayed clearly. You should see **no errors**; if there are any errors, make sure to correct them before you submit the notebook.\n",
    "4. Download the notebook as an `.ipynb` file. This is your backup copy.\n",
    "5. Export the notebook as PDF and upload to Gradescope."
   ]
  },
  {
   "cell_type": "markdown",
   "metadata": {
    "deletable": false,
    "editable": false
   },
   "source": [
    "---\n",
    "\n",
    "To double-check your work, the cell below will rerun all of the autograder tests."
   ]
  },
  {
   "cell_type": "code",
   "execution_count": null,
   "metadata": {
    "deletable": false,
    "editable": false
   },
   "outputs": [],
   "source": [
    "grader.check_all()"
   ]
  }
 ],
 "metadata": {
  "kernelspec": {
   "display_name": "base",
   "language": "python",
   "name": "python3"
  },
  "language_info": {
   "codemirror_mode": {
    "name": "ipython",
    "version": 3
   },
   "file_extension": ".py",
   "mimetype": "text/x-python",
   "name": "python",
   "nbconvert_exporter": "python",
   "pygments_lexer": "ipython3",
   "version": "3.9.12"
  },
  "otter": {
   "OK_FORMAT": true,
   "tests": {
    "q1": {
     "name": "q1",
     "points": 1,
     "suites": [
      {
       "cases": [
        {
         "code": ">>> len(idx) == 100\nTrue",
         "hidden": false,
         "locked": false
        },
        {
         "code": ">>> train.shape[0] > test.shape[0]\nTrue",
         "hidden": false,
         "locked": false
        },
        {
         "code": ">>> test.shape[1] == train.shape[1]\nTrue",
         "hidden": false,
         "locked": false
        },
        {
         "code": ">>> (train.shape[0] + test.shape[0]) == reg_data.shape[0]\nTrue",
         "hidden": false,
         "locked": false
        },
        {
         "code": ">>> len(np.intersect1d(train.index.values, test.index.values)) == 0\nTrue",
         "hidden": false,
         "locked": false
        }
       ],
       "scored": true,
       "setup": "",
       "teardown": "",
       "type": "doctest"
      }
     ]
    },
    "q3": {
     "name": "q3",
     "points": 1,
     "suites": [
      {
       "cases": [
        {
         "code": ">>> (np.round((coef_tbl.estimate - 2.5758*coef_tbl.loc[:, 'standard error']) - param_ci['lwr'], 2) == 0).all()\nTrue",
         "hidden": false,
         "locked": false
        },
        {
         "code": ">>> (np.round((coef_tbl.estimate + 2.5758*coef_tbl.loc[:, 'standard error']) - param_ci['upr'], 2) == 0).all()\nTrue",
         "hidden": false,
         "locked": false
        }
       ],
       "scored": true,
       "setup": "",
       "teardown": "",
       "type": "doctest"
      }
     ]
    },
    "q4": {
     "name": "q4",
     "points": 1,
     "suites": [
      {
       "cases": [
        {
         "code": ">>> (pred_tbl.values[0] + pred_tbl.values[3])/pred_tbl.values.sum() == accuracy\nTrue",
         "hidden": false,
         "locked": false
        }
       ],
       "scored": true,
       "setup": "",
       "teardown": "",
       "type": "doctest"
      }
     ]
    },
    "q5": {
     "name": "q5",
     "points": 1,
     "suites": [
      {
       "cases": [
        {
         "code": ">>> (new_fnr < fnr) & (new_fpr > fpr)\nTrue",
         "hidden": false,
         "locked": false
        }
       ],
       "scored": true,
       "setup": "",
       "teardown": "",
       "type": "doctest"
      }
     ]
    }
   }
  }
 },
 "nbformat": 4,
 "nbformat_minor": 2
}
