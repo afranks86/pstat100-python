{
  "cells": [
    {
      "cell_type": "raw",
      "metadata": {},
      "source": [
        "---\n",
        "title: Data transformations\n",
        "author: PSTAT100 Spring 2023\n",
        "date: 'Week 2, Lecture 2'\n",
        "format:\n",
        "  revealjs:\n",
        "    smaller: false\n",
        "    incremental: true\n",
        "    slide-number: true\n",
        "execute:\n",
        "  echo: false\n",
        "---"
      ],
      "id": "ed2373a7"
    },
    {
      "cell_type": "code",
      "metadata": {
        "slideshow": {
          "slide_type": "skip"
        },
        "tags": []
      },
      "source": [
        "import pandas as pd\n",
        "import numpy as np\n",
        "import altair as alt"
      ],
      "id": "c29fcb59",
      "execution_count": null,
      "outputs": []
    },
    {
      "cell_type": "markdown",
      "metadata": {},
      "source": [
        "# Transform\n",
        "\n",
        "Tidying facilitates transformation.\n",
        "\n",
        "> \"Transformation includes narrowing in on observations of interest (like all people in one city, or all data from the last year), creating new variables that are functions of existing variables (like computing speed from distance and time), and calculating a set of summary statistics (like counts or means).\" *Wickham and Grolemund, R for Data Science, 2017.*\n",
        "\n",
        "For our purposes, a **transformation** is _**any operation that modifies the shape or values of a data frame**_. This includes: \n",
        "* Subsetting (slicing and filtering)\n",
        "* Defining new variables\n",
        "* Aggregation and summary statistics\n",
        "\n",
        "You are learning transformation tools in lab 1. They're a lot easier to use if data are tidy.\n",
        "\n",
        "## Tidying facilitates transformation\n",
        "\n",
        "*Why use the tidy standard? Wouldn't any system of organization do just as well?*\n",
        "\n",
        "The tidy standard has three main advantages:\n",
        "\n",
        "1. Having a consistent system of organization makes it easier to focus on analysis and exploration. \n",
        "2. **Transformation of tidy data is especially natural in most computing environments due to vectorized operations.**\n",
        "3. Many tools for exploration, visualization, and modeling are designed to work with tidy data inputs.\n",
        "\n",
        "There's another point that may not be meaningful to everyone in this class, but statistical models are often expressed in terms of the data quantities:\n",
        "\n",
        "$$ \\mathbf{y} \\in \\mathbb{R}^{n \\times 1} \\qquad \\mathbf{X}\\in\\mathbb{R}^{n\\times p}$$\n",
        "\n",
        "So the idea of tidy data is implicit in the mathematics used to express statistical models.\n",
        "\n",
        "## Subsetting\n",
        "\n",
        "Tidy data is easier to subset (slice and filter).\n",
        "\n",
        "If, for instance, we want to inspect population and women in parliament for Mexico and Colombia, we can retrieve those values by simply calling the corresponding observations and variables:\n"
      ],
      "id": "edf8c86b"
    },
    {
      "cell_type": "code",
      "metadata": {
        "slideshow": {
          "slide_type": "fragment"
        },
        "tags": []
      },
      "source": [
        "undev_combined1.loc[['Mexico', 'Colombia', 'United States'], ['total_pop', 'parliament_pct_women']]"
      ],
      "id": "a959fb3d",
      "execution_count": null,
      "outputs": []
    },
    {
      "cell_type": "markdown",
      "metadata": {},
      "source": [
        "## Subsetting\n",
        "\n",
        "The same goal can be achieved using a non-tidy format, but the code is more verbose and the output is less interpretable.\n"
      ],
      "id": "96d965ac"
    },
    {
      "cell_type": "code",
      "metadata": {
        "slideshow": {
          "slide_type": "fragment"
        },
        "tags": []
      },
      "source": [
        "undev_combined2[\n",
        "    (undev_combined2.population_variable == 'total_pop') & \n",
        "    (undev_combined2.gender_variable == 'parliament_pct_women')\n",
        "].loc[['Mexico', 'Colombia', 'United States'], ['population_value', 'gender_value']]"
      ],
      "id": "7d560b83",
      "execution_count": null,
      "outputs": []
    },
    {
      "cell_type": "markdown",
      "metadata": {},
      "source": [
        "## Defining new variables\n",
        "\n",
        "Vectorization of operations in pandas and numpy make tidy data especially nice to manipulate mathematically.\n",
        "\n",
        "For example, to calculate the temperature range in a day from the Santa Barbara weather data, having the min and max temps in columns arranged by day makes this easy:\n"
      ],
      "id": "50bae09f"
    },
    {
      "cell_type": "code",
      "metadata": {
        "slideshow": {
          "slide_type": "fragment"
        },
        "tags": []
      },
      "source": [
        "weather2['TRANGE'] = weather2.TMAX - weather2.TMIN\n",
        "weather2.head()"
      ],
      "id": "1297274f",
      "execution_count": null,
      "outputs": []
    },
    {
      "cell_type": "markdown",
      "metadata": {},
      "source": [
        "## Defining new variables\n",
        "\n",
        "Again, the same result could be achieved using non-tidy data, but the operation is a bit more complicated to execute and less interpretable.\n"
      ],
      "id": "94b3017a"
    },
    {
      "cell_type": "code",
      "metadata": {
        "slideshow": {
          "slide_type": "fragment"
        },
        "tags": []
      },
      "source": [
        "weather3a = weather3.reset_index('type')\n",
        "maxtemps = weather3a[weather3a.type == 'TMAX'].drop(columns = 'type') \n",
        "mintemps = weather3a[weather3a.type == 'TMIN'].drop(columns = 'type') \n",
        "temprange = maxtemps - mintemps\n",
        "temprange"
      ],
      "id": "f9491066",
      "execution_count": null,
      "outputs": []
    },
    {
      "cell_type": "markdown",
      "metadata": {},
      "source": [
        "## Aggregation and summary statistics\n",
        "\n",
        "Vectorization similarly makes aggregations straightforward when data are tidy.\n",
        "\n",
        "For instance, the monthly average temperatures are easy to compute from tidy weather data:\n"
      ],
      "id": "f47f3c5b"
    },
    {
      "cell_type": "code",
      "metadata": {
        "slideshow": {
          "slide_type": "fragment"
        },
        "tags": []
      },
      "source": [
        "weather2.groupby('MONTH').mean().drop(columns = ['DAY', 'YEAR'])"
      ],
      "id": "609d10ff",
      "execution_count": null,
      "outputs": []
    },
    {
      "cell_type": "markdown",
      "metadata": {},
      "source": [
        "## Aggregation and summary statistics\n",
        "\n",
        "It's not necessarily harder to envision how to perform these operations in the non-tidy layouts; it's just trickier to execute and the output is a little less organized.\n"
      ],
      "id": "d7b6c22f"
    },
    {
      "cell_type": "code",
      "metadata": {},
      "source": [
        "weather3.mean(axis = 1)"
      ],
      "id": "92c749ed",
      "execution_count": null,
      "outputs": []
    },
    {
      "cell_type": "code",
      "metadata": {},
      "source": [
        "temprange.mean(axis = 1)"
      ],
      "id": "6f509acc",
      "execution_count": null,
      "outputs": []
    },
    {
      "cell_type": "markdown",
      "metadata": {},
      "source": [
        "## Visualization\n",
        "\n",
        "Plotting libraries often operate in such a way that tidy data is easier to plot.\n"
      ],
      "id": "0e9b8a4c"
    },
    {
      "cell_type": "code",
      "metadata": {
        "slideshow": {
          "slide_type": "fragment"
        },
        "tags": []
      },
      "source": [
        "alt.Chart(weather1).mark_line().encode(\n",
        "    x = 'DATE',\n",
        "    y = 'TMAX'\n",
        ").properties(\n",
        "    width = 800, \n",
        "    height = 100\n",
        ")"
      ],
      "id": "83912e59",
      "execution_count": null,
      "outputs": []
    },
    {
      "cell_type": "markdown",
      "metadata": {},
      "source": [
        "## Exceptions\n",
        "\n",
        "There will be situations where you'll need to deviate from this format for various purposes. \n",
        "\n",
        "Often, plotting and table construction require reshaping data into non-tidy formats, for example:\n"
      ],
      "id": "9526ccbc"
    },
    {
      "cell_type": "code",
      "metadata": {
        "slideshow": {
          "slide_type": "skip"
        },
        "tags": []
      },
      "source": [
        "weather4 = weather1.melt(\n",
        "    id_vars = 'DATE',\n",
        "    value_vars = ['TMIN', 'TMAX'],\n",
        "    value_name = 'Temperature',\n",
        "    var_name = 'min/max'\n",
        ")\n",
        "\n",
        "plot = alt.Chart(weather4).mark_line().encode(\n",
        "    x = 'DATE',\n",
        "    y = 'Temperature',\n",
        "    color = 'min/max'\n",
        ").properties(width = 800, height = 200)"
      ],
      "id": "25fb084b",
      "execution_count": null,
      "outputs": []
    },
    {
      "cell_type": "code",
      "metadata": {
        "slideshow": {
          "slide_type": "fragment"
        },
        "tags": []
      },
      "source": [
        "plot"
      ],
      "id": "95220a14",
      "execution_count": null,
      "outputs": []
    },
    {
      "cell_type": "markdown",
      "metadata": {},
      "source": [
        "## Exceptions\n",
        "\n",
        "There will be situations where you'll need to deviate from this format for various purposes. \n",
        "\n",
        "That plot relied on formatting the data as follows:\n"
      ],
      "id": "8f408ac8"
    },
    {
      "cell_type": "code",
      "metadata": {
        "slideshow": {
          "slide_type": "fragment"
        },
        "tags": []
      },
      "source": [
        "weather4.head(4)"
      ],
      "id": "ed537277",
      "execution_count": null,
      "outputs": []
    },
    {
      "cell_type": "markdown",
      "metadata": {},
      "source": [
        "## Exceptions\n",
        "\n",
        "However, even in these situations, tidy data provides a useful starting point; it is often straightforward to manipulate into non-tidy formats using the same pivot, melt, and merge operations.\n",
        "\n",
        "For example, the plot above was created after a simple melt operation on the tidy data.\n"
      ],
      "id": "714e2fa5"
    },
    {
      "cell_type": "code",
      "metadata": {
        "slideshow": {
          "slide_type": "fragment"
        },
        "tags": []
      },
      "source": [
        "weather1.melt(\n",
        "    id_vars = 'DATE',\n",
        "    value_vars = ['TMIN', 'TMAX'],\n",
        "    value_name = 'Temperature',\n",
        "    var_name = 'min/max'\n",
        ").head()"
      ],
      "id": "a0fbfea4",
      "execution_count": null,
      "outputs": []
    },
    {
      "cell_type": "markdown",
      "metadata": {},
      "source": [
        "# Review\n",
        "\n",
        "* In tidy data, rows and columns correspond to observations and variables.\n",
        "    + This provides a standard dataset structure that facilitates exploration and analysis.\n",
        "    + Many datasets are not stored in this format.\n",
        "    + Most of the time in PSTAT 100, we'll give you tidy (or mostly tidy) datasets.    \n",
        "\n",
        "* Transformation operations are a lot easier with tidy data.\n",
        "    + Due in part to the way tools in pandas are designed.\n",
        "    + The goal of lab 1 is to learn these operations.\n",
        "\n",
        "* There are situations where non-tidy data is useful.\n",
        "    + In PSTAT100, these will usually arise in plotting and tabulation tasks.\n",
        "\n",
        "## Up next\n",
        "\n",
        "We started *en media res* at this stage of the lifecyle (tidy) so that you could start developing skills that would enable you to jump right into playing with datasets.\n",
        "\n",
        "Next week, we'll backtrack to the collect and acquaint stages and discuss:\n",
        "* sampling;\n",
        "* missing data.\n"
      ],
      "id": "9004683d"
    }
  ],
  "metadata": {
    "kernelspec": {
      "name": "python3",
      "language": "python",
      "display_name": "Python 3 (ipykernel)"
    }
  },
  "nbformat": 4,
  "nbformat_minor": 5
}