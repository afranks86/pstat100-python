{
  "cells": [
    {
      "cell_type": "raw",
      "metadata": {},
      "source": [
        "---\n",
        "title: Case study on sampling and missingness\n",
        "author: PSTAT100 Spring 2023\n",
        "date: 'Week 3, Lecture 2'\n",
        "format:\n",
        "  revealjs:\n",
        "    smaller: true\n",
        "    incremental: true\n",
        "    slide-number: true\n",
        "execute:\n",
        "  echo: false\n",
        "---"
      ],
      "id": "ceedf892"
    },
    {
      "cell_type": "markdown",
      "metadata": {},
      "source": [
        "## Recap\n",
        "\n",
        "## The Miller case\n",
        "\n",
        "On November 21, 2020, a professor at Williams College, Steven Miller, filed an affidavit alleging that an analysis of phone surveys showed that among registered republican voters in PA:\n",
        "* ~40K mail ballots were fraudlently requested;\n",
        "* ~48K mail ballots were not counted.\n",
        "\n",
        "> President Donald J. Trump amplified the statement in a tweet, the Chairman of the Federal Elections Commission (FEC) referenced the statement as indicative of fraud, and a conservative group prominently featured it in a legal brief seeking to overturn the Pennsylvania election results. (Samuel Wolf, Williams Record, 11/25/20)\n",
        "\n",
        "The Miller affidavit was criticized by statisticians as incorrect, irresponsible, and unethical.\n",
        "\n",
        "## The flawed assumption\n",
        "\n",
        "On a purely mathematical level, Miller's calculations were standard. The key issue was a single flawed assumption:\n",
        "\n",
        "> The analysis is predicated on the assumption that the responders are a **representative sample** of the population of registered Republicans in Pennsylvania for whom a mail-in ballot was requested but not counted, and responded accurately to the questions during the phone calls. (Miller affidavit)\n",
        "\n",
        "Essentially, Miller made two critical mistakes *in the analysis*:\n",
        "\n",
        "1. Failure to critically assess the sampling design and scope of inference.\n",
        "2. Ignored missing data.\n",
        "\n",
        "We will conduct a *post mortem* and examine these issues. \n",
        "\n",
        "Miller is a number theorist, not a trained survey statistician, so on some level his mistakes were understandable, but they did a lot of damage.\n",
        "\n",
        "## Sampling design\n",
        "\n",
        "> There were 165,412 unreturned mail ballots requested by registered republicans in PA.\n",
        "\n",
        "Those voters were surveyed by phone by Matt Braynard's private firm External Affairs on behalf of the Voter Integrity Fund. \n",
        "\n",
        "We don't really know how they obtained and selected phone numbers or exactly what the survey procedure was, but here's what we do know:\n",
        "\n",
        "1. ~23K individuals were called on Nov. 9-10.\n",
        "2. The ~2.5K who answered were asked if they were the registered voter or a family member.\n",
        "3. If they said yes, they were asked if they requested a ballot.\n",
        "4. Those who requested a ballot were asked if they mailed it.\n",
        "\n",
        "## Spot any immediate issues?\n",
        "\n",
        "We'll look in greater detail at these steps, but can you spot any obvious fishiness?\n",
        "\n",
        "* ~23K individuals were called on Nov. 9-10\n",
        "    + How did they pick who to call?\n",
        "    + Narrow snapshot in time.\n",
        "    + 9th and 10th were a Monday and Tuesday.\n",
        "    + Mail ballots were still being counted; don't actually know whether returned ballots were ultimately counted or not by this time.\n",
        "\n",
        "* The ~2.5K who answered were asked if they were the registered voter or a family member.\n",
        "    + Family members could answer on behalf of one another.\n",
        "\n",
        "* If they said yes, they were asked if they requested a ballot.\n",
        "    + Misleading question: there's a registration checkbox; you don't have to file an explicit request in Pennsylvania.\n",
        "\n",
        "* Those who requested a ballot were asked if they mailed it.\n",
        "    + What about voters who claimed not to request a ballot? Did they receive one, and if so, did they mail it?\n",
        "\n",
        "## Survey schematic\n",
        "\n",
        "<img src=\"figures/miller-diagram.png\" style=\"width:450px\">\n",
        "\n",
        "## Sampling design\n",
        "\n",
        "**Population**: republicans registered to vote in PA who had mail ballots officially requested that hadn't been returned or counted by November 9?\n",
        "\n",
        "**Sampling frame**: unknown; source of phone numbers unspecified.\n",
        "\n",
        "**Sample**: 2684 registered republicans or family members of registered repbulicans who had a mail ballot officially requested in PA and answered survey calls on Nov. 9 or 10.\n",
        "\n",
        "**Sampling mechanism**: nonrandom; depends on availability during calling hours on Monday and Tuesday, language spoken, and willingness to talk.\n",
        "\n",
        "*This is not a representative sample of any meaningful population.*\n",
        "\n",
        "## Missingness\n",
        "\n",
        "Respondents hung up at every stage of the survey. \n",
        "\n",
        "This is probably not at random -- individuals who do not believe voter fraud occurred are more likely to hang up. \n",
        "\n",
        "However, we don't have any information about whether respondents think fraud occurred.\n",
        "\n",
        "So data are MNAR, and likely over-represent people more likely to claim they never requested a ballot.\n",
        "\n",
        "## The analysis\n",
        "\n",
        "Miller first calculated:\n",
        "\n",
        "* The proportion of respondents who reported not requesting ballots among those who either voted in person, didn't request a ballot, or did request a ballot.\n",
        "    + Ignored those who weren't sure and those who hung up.\n",
        "    + Claimed that the estimated number of fraudulent requests was:\n",
        "    $\\left(\\frac{556}{1150 + 556 + 544}\\right)\\times 165,412 = 0.2471 \\times 165,412 = 40,875$\n",
        "\n",
        "## Simulation\n",
        "\n",
        "It's not too tricky to envision sources of bias that would affect Miller's results. *How much bias might there be?*\n",
        "\n",
        "This is an oversimplification, but if we are willing to assume that\n",
        "\n",
        "1. respondents all know whether they actually requested a ballot and tell the truth,\n",
        "2. respondents who didn't request a ballot are more likely to be reached, and\n",
        "3. respondents who did request a ballot are more likely to hang up during the interview,\n",
        "\n",
        "then we can show through a simple simulation that an actual fraud rate of under 1% will be estimated at over 20% almost all the time.\n",
        "\n",
        "## Simulated population\n",
        "\n",
        "First let's generate a population of 150K voters.\n"
      ],
      "id": "93c635d2"
    },
    {
      "cell_type": "code",
      "metadata": {
        "slideshow": {
          "slide_type": "fragment"
        },
        "tags": []
      },
      "source": [
        "np.random.seed(41021)\n",
        "\n",
        "# proportion of fraudlent requests\n",
        "true_prop = 0.009\n",
        "\n",
        "# generate population of 100K; 100 of 100K did not request a ballot\n",
        "N = 150000\n",
        "population = pd.DataFrame(data = {'requested': np.ones(N)})\n",
        "num_nrequest = round(N*true_prop) - 1\n",
        "population.iloc[0:num_nrequest, 0] = 0"
      ],
      "id": "26888fd7",
      "execution_count": null,
      "outputs": []
    },
    {
      "cell_type": "markdown",
      "metadata": {},
      "source": [
        "## Simulated sample\n",
        "\n",
        "Then let's introduce sampling weights based on the conditional probability that an individual will talk with the interviewer given whether they requested a ballot or not.\n"
      ],
      "id": "87c12fcc"
    },
    {
      "cell_type": "code",
      "metadata": {
        "slideshow": {
          "slide_type": "fragment"
        },
        "tags": []
      },
      "source": [
        "# assume respondents tell the truth\n",
        "p_request = 1 - true_prop\n",
        "p_nrequest = true_prop\n",
        "\n",
        "# assume respondents who claim no request are 15x more likely to talk\n",
        "talk_factor = 15\n",
        "\n",
        "# observed nonresponse rate\n",
        "p_talk = 0.09\n",
        "\n",
        "# conditional probability of talking given claimed request or not \n",
        "p_talk_request = p_talk/(p_request + talk_factor*p_nrequest) \n",
        "p_talk_nrequest = talk_factor*p_talk_request\n",
        "\n",
        "# draw sample weighted by conditional probabilities\n",
        "np.random.seed(41021)\n",
        "population.loc[population.requested == 1, 'sample_weight'] = p_talk_request\n",
        "population.loc[population.requested == 0, 'sample_weight'] = p_talk_nrequest\n",
        "samp = population.sample(n = 2500, replace = False, weights = 'sample_weight')"
      ],
      "id": "73a514bf",
      "execution_count": null,
      "outputs": []
    },
    {
      "cell_type": "markdown",
      "metadata": {},
      "source": [
        "## Simulated missing mechanism\n",
        "\n",
        "Then let's introduce missing values at different rates for respondents who requested a ballot and respondents who didn't.\n"
      ],
      "id": "c08d85e1"
    },
    {
      "cell_type": "code",
      "metadata": {
        "slideshow": {
          "slide_type": "fragment"
        },
        "tags": []
      },
      "source": [
        "# assume respondents who affirm requesting are 4x more likely to hang up or deflect\n",
        "missing_factor = 4\n",
        "\n",
        "# observed missing/unsure rate\n",
        "p_missing = 0.25\n",
        "\n",
        "# conditional probabilities of missing given request status\n",
        "p_missing_nrequest = p_missing/(0.8 + missing_factor*0.2) \n",
        "p_missing_request = missing_factor*p_missing_nrequest\n",
        "\n",
        "# input missing values\n",
        "np.random.seed(41021)\n",
        "samp.loc[samp.requested == 1, 'missing_weight'] = p_missing_request\n",
        "samp.loc[samp.requested == 0, 'missing_weight'] = p_missing_nrequest\n",
        "samp['missing'] = np.random.binomial(n = 1, p = samp.missing_weight.values)\n",
        "samp.loc[samp.missing == 1, 'requested'] = float('nan')"
      ],
      "id": "7d47aafb",
      "execution_count": null,
      "outputs": []
    },
    {
      "cell_type": "markdown",
      "metadata": {},
      "source": [
        "## Simulated result\n",
        "\n",
        "If we then drop all the missing values and calculate the proportion of respondents who didn't request a ballot, we get:\n"
      ],
      "id": "29991b6d"
    },
    {
      "cell_type": "code",
      "metadata": {
        "slideshow": {
          "slide_type": "fragment"
        },
        "tags": []
      },
      "source": [
        "# compute mean after dropping missing values\n",
        "1 - samp.requested.mean()"
      ],
      "id": "9f1992b0",
      "execution_count": null,
      "outputs": []
    },
    {
      "cell_type": "markdown",
      "metadata": {},
      "source": [
        "So Miller's result is *expected* if the sampling and missing mechanisms introduce bias, even if the true rate of fraudulent requests is under 1% -- on the order of 1,000 ballots.\n",
        "\n",
        "## Takeaways\n",
        "\n",
        "The main mistakes were ignoring the sampling design and missing data -- in other words, proceeding to analyze the data without first getting well-acquainted. We should assume these were honest mistakes.\n",
        "\n",
        "After the affidavit was filed, a colleague spoke with Miller; he recanted and acknowledged his mistakes, but this received far less attention than the conclusions in the affidavit.\n",
        "\n",
        "## Professional ethics and social responsibility\n",
        "\n",
        "The American Statistical Association publishes [ethical guidelines for statistical practice](https://www.amstat.org/ASA/Your-Career/Ethical-Guidelines-for-Statistical-Practice.aspx). The Miller case violated a large number of these, most prominently, that an ethical practitioner:\n",
        "\n",
        "* Reports the sources and assessed adequacy of the data, accounts for all data considered in a study, and explains the sample(s) actually used.\n",
        "\n",
        "* In publications and reports, conveys the findings in ways that are both honest and meaningful to the user/reader. This includes tables, models, and graphics.\n",
        "\n",
        "* In publications or testimony, identifies the ultimate financial sponsor of the study, the stated purpose, and the intended use of the study results.\n",
        "\n",
        "* When reporting analyses of volunteer data or other data that may not be representative of a defined population, includes appropriate disclaimers and, if used, appropriate weighting.\n",
        "\n",
        "# Summary\n",
        "\n",
        "This week we've touched on sampling design and missing data.\n",
        "\n",
        "**Terminology**: population, sampling frame, sample, sampling mechanism, missing data mechanism.\n",
        "\n",
        "* Sampling mechanisms: census; random sample, probability sample; convenience (nonrandom) sample.\n",
        "\n",
        "* Missing data mechanisms: completely at random (MCAR); at random (MAR); not at random (MNAR).\n",
        "\n",
        "**Key concepts**:\n",
        "\n",
        "* Sampling design and missing data handling determine the reliability and scope of inferences.\n",
        "\n",
        "* Either poor design or inappropriate handling of missing data can induce bias and generate misleading results.\n",
        "\n",
        "The Miller case study illustrated how easy it is to overlook these issues, and the potential social impact of statistical malpractice. "
      ],
      "id": "7f6fec57"
    }
  ],
  "metadata": {
    "kernelspec": {
      "name": "python3",
      "language": "python",
      "display_name": "Python 3 (ipykernel)"
    }
  },
  "nbformat": 4,
  "nbformat_minor": 5
}